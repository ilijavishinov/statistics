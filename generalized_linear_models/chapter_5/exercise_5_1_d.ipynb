{
 "cells": [
  {
   "cell_type": "code",
   "execution_count": 5,
   "metadata": {
    "collapsed": true
   },
   "outputs": [
    {
     "name": "stdout",
     "output_type": "stream",
     "text": [
      "H0: adequate model\n",
      "alpha = 5%\n",
      "________________________\n",
      "p = 0.1\n",
      "score = 4.444444444444445\n",
      "reject H0 by score statistic: True\n",
      "deviance = 3.073271736075971\n",
      "reject H0 by deviance: False\n",
      "________________________\n",
      "p = 0.3\n",
      "score = 0.0\n",
      "reject H0 by score statistic: False\n",
      "deviance = 0.0\n",
      "reject H0 by deviance: False\n",
      "________________________\n",
      "p = 0.5\n",
      "score = 1.6\n",
      "reject H0 by score statistic: False\n",
      "deviance = 1.645657570101036\n",
      "reject H0 by deviance: False\n"
     ]
    }
   ],
   "source": [
    "import numpy as np\n",
    "from scipy.stats import chi2\n",
    "\n",
    "n = 10\n",
    "y = 3\n",
    "c = chi2.ppf(0.95, 1)\n",
    "\n",
    "def score_statistic(p):\n",
    "    return (y - n*p)**2 / (n * p * (1 - p))\n",
    "\n",
    "def deviance(p):\n",
    "    return 2 * (y * np.log(y/(n*p)) + (n-y) * np.log((1-(y/n)) / (1-p)))\n",
    "\n",
    "print('H0: adequate model')\n",
    "print('alpha = 5%')\n",
    "for p in [0.1, 0.3, 0.5]:\n",
    "    print('________________________')\n",
    "    print(f'p = {p}')\n",
    "    print(f'score = {score_statistic(p)}')\n",
    "    print(f'reject H0 by score statistic: {score_statistic(p) > c}')\n",
    "    print(f'deviance = {deviance(p)}')\n",
    "    print(f'reject H0 by deviance: {deviance(p) > c}')\n",
    "\n",
    "# Both the statistic lead to the same conclusion except for p = 0.1\n"
   ]
  },
  {
   "cell_type": "code",
   "execution_count": null,
   "outputs": [],
   "source": [],
   "metadata": {
    "collapsed": false,
    "pycharm": {
     "name": "#%%\n"
    }
   }
  }
 ],
 "metadata": {
  "kernelspec": {
   "display_name": "Python 3",
   "language": "python",
   "name": "python3"
  },
  "language_info": {
   "codemirror_mode": {
    "name": "ipython",
    "version": 2
   },
   "file_extension": ".py",
   "mimetype": "text/x-python",
   "name": "python",
   "nbconvert_exporter": "python",
   "pygments_lexer": "ipython2",
   "version": "2.7.6"
  }
 },
 "nbformat": 4,
 "nbformat_minor": 0
}