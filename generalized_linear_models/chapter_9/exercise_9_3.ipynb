{
 "cells": [
  {
   "cell_type": "code",
   "execution_count": 46,
   "metadata": {
    "collapsed": true
   },
   "outputs": [
    {
     "data": {
      "text/plain": "         Small  Moderate  Large  Total\nPlacebo     25         8      5     38\nVaccine      6        18     11     35",
      "text/html": "<div>\n<style scoped>\n    .dataframe tbody tr th:only-of-type {\n        vertical-align: middle;\n    }\n\n    .dataframe tbody tr th {\n        vertical-align: top;\n    }\n\n    .dataframe thead th {\n        text-align: right;\n    }\n</style>\n<table border=\"1\" class=\"dataframe\">\n  <thead>\n    <tr style=\"text-align: right;\">\n      <th></th>\n      <th>Small</th>\n      <th>Moderate</th>\n      <th>Large</th>\n      <th>Total</th>\n    </tr>\n  </thead>\n  <tbody>\n    <tr>\n      <th>Placebo</th>\n      <td>25</td>\n      <td>8</td>\n      <td>5</td>\n      <td>38</td>\n    </tr>\n    <tr>\n      <th>Vaccine</th>\n      <td>6</td>\n      <td>18</td>\n      <td>11</td>\n      <td>35</td>\n    </tr>\n  </tbody>\n</table>\n</div>"
     },
     "execution_count": 46,
     "metadata": {},
     "output_type": "execute_result"
    }
   ],
   "source": [
    "import pandas as pd\n",
    "df = pd.read_csv('data_9_3.csv', index_col = 0)\n",
    "df"
   ]
  },
  {
   "cell_type": "markdown",
   "source": [
    "a) conventional chi-square test"
   ],
   "metadata": {
    "collapsed": false,
    "pycharm": {
     "name": "#%% md\n"
    }
   }
  },
  {
   "cell_type": "code",
   "execution_count": 47,
   "outputs": [
    {
     "data": {
      "text/plain": "         Small  Moderate  Large  Total\nPlacebo     25         8      5     38\nVaccine      6        18     11     35\nTotal       31        26     16     73",
      "text/html": "<div>\n<style scoped>\n    .dataframe tbody tr th:only-of-type {\n        vertical-align: middle;\n    }\n\n    .dataframe tbody tr th {\n        vertical-align: top;\n    }\n\n    .dataframe thead th {\n        text-align: right;\n    }\n</style>\n<table border=\"1\" class=\"dataframe\">\n  <thead>\n    <tr style=\"text-align: right;\">\n      <th></th>\n      <th>Small</th>\n      <th>Moderate</th>\n      <th>Large</th>\n      <th>Total</th>\n    </tr>\n  </thead>\n  <tbody>\n    <tr>\n      <th>Placebo</th>\n      <td>25</td>\n      <td>8</td>\n      <td>5</td>\n      <td>38</td>\n    </tr>\n    <tr>\n      <th>Vaccine</th>\n      <td>6</td>\n      <td>18</td>\n      <td>11</td>\n      <td>35</td>\n    </tr>\n    <tr>\n      <th>Total</th>\n      <td>31</td>\n      <td>26</td>\n      <td>16</td>\n      <td>73</td>\n    </tr>\n  </tbody>\n</table>\n</div>"
     },
     "execution_count": 47,
     "metadata": {},
     "output_type": "execute_result"
    }
   ],
   "source": [
    "df.loc['Total'] = [31, 26, 16, 73]\n",
    "df"
   ],
   "metadata": {
    "collapsed": false,
    "pycharm": {
     "name": "#%%\n"
    }
   }
  },
  {
   "cell_type": "code",
   "execution_count": 48,
   "outputs": [
    {
     "data": {
      "text/plain": "        Small Moderate Large\nPlacebo  None     None  None\nVaccine  None     None  None",
      "text/html": "<div>\n<style scoped>\n    .dataframe tbody tr th:only-of-type {\n        vertical-align: middle;\n    }\n\n    .dataframe tbody tr th {\n        vertical-align: top;\n    }\n\n    .dataframe thead th {\n        text-align: right;\n    }\n</style>\n<table border=\"1\" class=\"dataframe\">\n  <thead>\n    <tr style=\"text-align: right;\">\n      <th></th>\n      <th>Small</th>\n      <th>Moderate</th>\n      <th>Large</th>\n    </tr>\n  </thead>\n  <tbody>\n    <tr>\n      <th>Placebo</th>\n      <td>None</td>\n      <td>None</td>\n      <td>None</td>\n    </tr>\n    <tr>\n      <th>Vaccine</th>\n      <td>None</td>\n      <td>None</td>\n      <td>None</td>\n    </tr>\n  </tbody>\n</table>\n</div>"
     },
     "execution_count": 48,
     "metadata": {},
     "output_type": "execute_result"
    }
   ],
   "source": [
    "df_without_total = df.iloc[:-1, :-1]\n",
    "df_expected = df.iloc[:-1, :-1]\n",
    "df_expected[:] = None\n",
    "df_expected"
   ],
   "metadata": {
    "collapsed": false,
    "pycharm": {
     "name": "#%%\n"
    }
   }
  },
  {
   "cell_type": "code",
   "execution_count": 49,
   "outputs": [
    {
     "data": {
      "text/plain": "             Small   Moderate     Large\nPlacebo  16.136986  13.534247  8.328767\nVaccine  14.863014  12.465753  7.671233",
      "text/html": "<div>\n<style scoped>\n    .dataframe tbody tr th:only-of-type {\n        vertical-align: middle;\n    }\n\n    .dataframe tbody tr th {\n        vertical-align: top;\n    }\n\n    .dataframe thead th {\n        text-align: right;\n    }\n</style>\n<table border=\"1\" class=\"dataframe\">\n  <thead>\n    <tr style=\"text-align: right;\">\n      <th></th>\n      <th>Small</th>\n      <th>Moderate</th>\n      <th>Large</th>\n    </tr>\n  </thead>\n  <tbody>\n    <tr>\n      <th>Placebo</th>\n      <td>16.136986</td>\n      <td>13.534247</td>\n      <td>8.328767</td>\n    </tr>\n    <tr>\n      <th>Vaccine</th>\n      <td>14.863014</td>\n      <td>12.465753</td>\n      <td>7.671233</td>\n    </tr>\n  </tbody>\n</table>\n</div>"
     },
     "execution_count": 49,
     "metadata": {},
     "output_type": "execute_result"
    }
   ],
   "source": [
    "import itertools\n",
    "for i, j in list(itertools.product(df_expected.index, df_expected.columns)):\n",
    "    df_expected.loc[i, j] = df.loc[i, 'Total'] * df.loc['Total', j] / df.loc['Total', 'Total']\n",
    "df_expected"
   ],
   "metadata": {
    "collapsed": false,
    "pycharm": {
     "name": "#%%\n"
    }
   }
  },
  {
   "cell_type": "code",
   "execution_count": 52,
   "outputs": [
    {
     "data": {
      "text/plain": "17.647832398925356"
     },
     "execution_count": 52,
     "metadata": {},
     "output_type": "execute_result"
    }
   ],
   "source": [
    "chi_square = ((df_without_total - df_expected)**2 / df_expected).sum().sum()\n",
    "chi_square"
   ],
   "metadata": {
    "collapsed": false,
    "pycharm": {
     "name": "#%%\n"
    }
   }
  },
  {
   "cell_type": "code",
   "execution_count": 55,
   "outputs": [
    {
     "data": {
      "text/plain": "0.0001"
     },
     "execution_count": 55,
     "metadata": {},
     "output_type": "execute_result"
    }
   ],
   "source": [
    "from scipy import stats\n",
    "p_value = stats.chi2.pdf(chi_square , 2)\n",
    "round(p_value, 4)"
   ],
   "metadata": {
    "collapsed": false,
    "pycharm": {
     "name": "#%%\n"
    }
   }
  },
  {
   "cell_type": "markdown",
   "source": [
    "we conclude that the distribution is not the same for the placebo and vaccine groups"
   ],
   "metadata": {
    "collapsed": false
   }
  },
  {
   "cell_type": "markdown",
   "source": [
    "c) Part 2: Sketch a rough diagram to illustrate the model which forms the conceptual base for this analysis (see Exercise 8.4)."
   ],
   "metadata": {
    "collapsed": false,
    "pycharm": {
     "name": "#%% md\n"
    }
   }
  },
  {
   "cell_type": "code",
   "execution_count": 62,
   "outputs": [
    {
     "data": {
      "text/plain": "Text(0.5, 1.0, 'Cutoffs for placebo group')"
     },
     "execution_count": 62,
     "metadata": {},
     "output_type": "execute_result"
    },
    {
     "data": {
      "text/plain": "<Figure size 432x288 with 1 Axes>",
      "image/png": "[encoded data removed]"
     },
     "metadata": {
      "needs_background": "light"
     },
     "output_type": "display_data"
    }
   ],
   "source": [
    "import numpy as np\n",
    "import matplotlib.pyplot as plt\n",
    "placebo_cutoffs =  [0.6376976, 0.9199318]\n",
    "x_axis = np.linspace(0,1, 100)\n",
    "plt.plot(x_axis, stats.norm.pdf(x_axis, 0.5, 0.16))\n",
    "for cutoff in placebo_cutoffs:\n",
    "    plt.axvline(cutoff, 0, 0.6)\n",
    "plt.title('Cutoffs for placebo group')"
   ],
   "metadata": {
    "collapsed": false,
    "pycharm": {
     "name": "#%%\n"
    }
   }
  },
  {
   "cell_type": "code",
   "execution_count": 63,
   "outputs": [
    {
     "data": {
      "text/plain": "Text(0.5, 1.0, 'Cutoffs for vaccine group')"
     },
     "execution_count": 63,
     "metadata": {},
     "output_type": "execute_result"
    },
    {
     "data": {
      "text/plain": "<Figure size 432x288 with 1 Axes>",
      "image/png": "[encoded data removed]"
     },
     "metadata": {
      "needs_background": "light"
     },
     "output_type": "display_data"
    }
   ],
   "source": [
    "vaccine_cutoffs = [0.2188492, 0.6464910]\n",
    "x_axis = np.linspace(0,1, 100)\n",
    "plt.plot(x_axis, stats.norm.pdf(x_axis, 0.5, 0.16))\n",
    "for cutoff in vaccine_cutoffs:\n",
    "    plt.axvline(cutoff, 0, 0.6)\n",
    "plt.title('Cutoffs for vaccine group')"
   ],
   "metadata": {
    "collapsed": false,
    "pycharm": {
     "name": "#%%\n"
    }
   }
  },
  {
   "cell_type": "code",
   "execution_count": null,
   "outputs": [],
   "source": [],
   "metadata": {
    "collapsed": false,
    "pycharm": {
     "name": "#%%\n"
    }
   }
  }
 ],
 "metadata": {
  "kernelspec": {
   "display_name": "Python 3",
   "language": "python",
   "name": "python3"
  },
  "language_info": {
   "codemirror_mode": {
    "name": "ipython",
    "version": 2
   },
   "file_extension": ".py",
   "mimetype": "text/x-python",
   "name": "python",
   "nbconvert_exporter": "python",
   "pygments_lexer": "ipython2",
   "version": "2.7.6"
  }
 },
 "nbformat": 4,
 "nbformat_minor": 0
}