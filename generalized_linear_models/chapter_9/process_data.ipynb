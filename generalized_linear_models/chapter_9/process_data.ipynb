{
 "cells": [
  {
   "cell_type": "code",
   "execution_count": 30,
   "metadata": {
    "collapsed": true
   },
   "outputs": [
    {
     "data": {
      "text/plain": "         Small  Moderate  Large  Total\nPlacebo     25         8      5     38\nVaccine      6        18     11     35",
      "text/html": "<div>\n<style scoped>\n    .dataframe tbody tr th:only-of-type {\n        vertical-align: middle;\n    }\n\n    .dataframe tbody tr th {\n        vertical-align: top;\n    }\n\n    .dataframe thead th {\n        text-align: right;\n    }\n</style>\n<table border=\"1\" class=\"dataframe\">\n  <thead>\n    <tr style=\"text-align: right;\">\n      <th></th>\n      <th>Small</th>\n      <th>Moderate</th>\n      <th>Large</th>\n      <th>Total</th>\n    </tr>\n  </thead>\n  <tbody>\n    <tr>\n      <th>Placebo</th>\n      <td>25</td>\n      <td>8</td>\n      <td>5</td>\n      <td>38</td>\n    </tr>\n    <tr>\n      <th>Vaccine</th>\n      <td>6</td>\n      <td>18</td>\n      <td>11</td>\n      <td>35</td>\n    </tr>\n  </tbody>\n</table>\n</div>"
     },
     "execution_count": 30,
     "metadata": {},
     "output_type": "execute_result"
    }
   ],
   "source": [
    "import pandas as pd\n",
    "df = pd.read_csv('data_9_3.csv', index_col = 0)\n",
    "df"
   ]
  },
  {
   "cell_type": "code",
   "execution_count": 31,
   "outputs": [
    {
     "data": {
      "text/plain": "   vaccine    levels  freq\n0  placebo     small    25\n1  vaccine     small     6\n2  placebo  moderate     8\n3  vaccine  moderate    18\n4  placebo     large     5\n5  vaccine     large    11",
      "text/html": "<div>\n<style scoped>\n    .dataframe tbody tr th:only-of-type {\n        vertical-align: middle;\n    }\n\n    .dataframe tbody tr th {\n        vertical-align: top;\n    }\n\n    .dataframe thead th {\n        text-align: right;\n    }\n</style>\n<table border=\"1\" class=\"dataframe\">\n  <thead>\n    <tr style=\"text-align: right;\">\n      <th></th>\n      <th>vaccine</th>\n      <th>levels</th>\n      <th>freq</th>\n    </tr>\n  </thead>\n  <tbody>\n    <tr>\n      <th>0</th>\n      <td>placebo</td>\n      <td>small</td>\n      <td>25</td>\n    </tr>\n    <tr>\n      <th>1</th>\n      <td>vaccine</td>\n      <td>small</td>\n      <td>6</td>\n    </tr>\n    <tr>\n      <th>2</th>\n      <td>placebo</td>\n      <td>moderate</td>\n      <td>8</td>\n    </tr>\n    <tr>\n      <th>3</th>\n      <td>vaccine</td>\n      <td>moderate</td>\n      <td>18</td>\n    </tr>\n    <tr>\n      <th>4</th>\n      <td>placebo</td>\n      <td>large</td>\n      <td>5</td>\n    </tr>\n    <tr>\n      <th>5</th>\n      <td>vaccine</td>\n      <td>large</td>\n      <td>11</td>\n    </tr>\n  </tbody>\n</table>\n</div>"
     },
     "execution_count": 31,
     "metadata": {},
     "output_type": "execute_result"
    }
   ],
   "source": [
    "df = pd.melt(df.reset_index(), id_vars = 'index')[:-2]\n",
    "df.columns = ['vaccine', 'levels', 'freq']\n",
    "df['vaccine'] = df['vaccine'].str.lower()\n",
    "df['levels'] = df['levels'].str.lower()\n",
    "df"
   ],
   "metadata": {
    "collapsed": false,
    "pycharm": {
     "name": "#%%\n"
    }
   }
  },
  {
   "cell_type": "code",
   "execution_count": 32,
   "outputs": [
    {
     "data": {
      "text/plain": "   vaccine  levels  freq\n0        0       0    25\n1        1       0     6\n2        0       1     8\n3        1       1    18\n4        0       2     5\n5        1       2    11",
      "text/html": "<div>\n<style scoped>\n    .dataframe tbody tr th:only-of-type {\n        vertical-align: middle;\n    }\n\n    .dataframe tbody tr th {\n        vertical-align: top;\n    }\n\n    .dataframe thead th {\n        text-align: right;\n    }\n</style>\n<table border=\"1\" class=\"dataframe\">\n  <thead>\n    <tr style=\"text-align: right;\">\n      <th></th>\n      <th>vaccine</th>\n      <th>levels</th>\n      <th>freq</th>\n    </tr>\n  </thead>\n  <tbody>\n    <tr>\n      <th>0</th>\n      <td>0</td>\n      <td>0</td>\n      <td>25</td>\n    </tr>\n    <tr>\n      <th>1</th>\n      <td>1</td>\n      <td>0</td>\n      <td>6</td>\n    </tr>\n    <tr>\n      <th>2</th>\n      <td>0</td>\n      <td>1</td>\n      <td>8</td>\n    </tr>\n    <tr>\n      <th>3</th>\n      <td>1</td>\n      <td>1</td>\n      <td>18</td>\n    </tr>\n    <tr>\n      <th>4</th>\n      <td>0</td>\n      <td>2</td>\n      <td>5</td>\n    </tr>\n    <tr>\n      <th>5</th>\n      <td>1</td>\n      <td>2</td>\n      <td>11</td>\n    </tr>\n  </tbody>\n</table>\n</div>"
     },
     "execution_count": 32,
     "metadata": {},
     "output_type": "execute_result"
    }
   ],
   "source": [
    "def map_levels(x: str):\n",
    "    if x.startswith('small'): return 0\n",
    "    if x.startswith('moderate'): return 1\n",
    "    if x.startswith('large'): return 2\n",
    "df['vaccine'] = df['vaccine'].map(lambda x: 1 if x=='vaccine' else 0)\n",
    "df['levels'] = df['levels'].map(map_levels)\n",
    "df"
   ],
   "metadata": {
    "collapsed": false,
    "pycharm": {
     "name": "#%%\n"
    }
   }
  },
  {
   "cell_type": "code",
   "execution_count": 33,
   "outputs": [],
   "source": [
    "df.to_csv('data_9_3_processed.csv', index = False)"
   ],
   "metadata": {
    "collapsed": false,
    "pycharm": {
     "name": "#%%\n"
    }
   }
  }
 ],
 "metadata": {
  "kernelspec": {
   "display_name": "Python 3",
   "language": "python",
   "name": "python3"
  },
  "language_info": {
   "codemirror_mode": {
    "name": "ipython",
    "version": 2
   },
   "file_extension": ".py",
   "mimetype": "text/x-python",
   "name": "python",
   "nbconvert_exporter": "python",
   "pygments_lexer": "ipython2",
   "version": "2.7.6"
  }
 },
 "nbformat": 4,
 "nbformat_minor": 0
}