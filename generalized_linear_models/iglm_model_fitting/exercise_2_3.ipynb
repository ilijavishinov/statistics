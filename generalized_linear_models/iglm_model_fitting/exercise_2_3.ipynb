{
 "cells": [
  {
   "cell_type": "code",
   "execution_count": 9,
   "metadata": {
    "collapsed": true
   },
   "outputs": [
    {
     "data": {
      "text/plain": "        y      x1     x2     x3     x4     x5\n0   271.8  783.35  33.53  40.55  16.66  13.20\n1   264.0  748.45  36.50  36.19  16.46  14.11\n2   238.8  684.45  34.66  37.31  17.66  15.68\n3   230.7  827.80  33.13  32.52  17.50  10.53\n4   251.6  860.45  35.75  33.71  16.40  11.00\n5   257.9  875.15  34.46  34.14  16.28  11.31\n6   263.9  909.45  34.60  34.85  16.06  11.96\n7   266.5  905.55  35.38  35.89  15.93  12.58\n8   229.1  756.00  35.85  33.53  16.60  10.66\n9   239.3  769.35  35.68  33.79  16.41  10.85\n10  258.0  793.50  35.35  34.72  16.17  11.41\n11  257.6  801.65  35.04  35.22  15.92  11.91\n12  267.3  819.65  34.07  36.50  16.04  12.85\n13  267.0  808.55  32.20  37.60  16.19  13.58\n14  259.6  774.95  34.32  37.89  16.62  14.21\n15  240.4  711.85  31.08  37.71  17.37  15.56\n16  227.2  694.85  35.73  37.00  18.12  15.83\n17  196.0  638.10  34.11  36.76  18.53  16.41\n18  278.7  774.55  34.79  34.62  15.54  13.10\n19  272.3  757.90  35.77  35.40  15.70  13.63\n20  267.4  753.35  36.44  35.96  16.45  14.51\n21  254.5  704.70  37.82  36.26  17.62  15.38\n22  224.7  666.80  35.07  36.34  18.12  16.10\n23  181.5  568.55  35.26  35.90  19.05  16.73\n24  227.5  653.10  35.56  31.84  16.51  10.58\n25  253.6  704.05  35.73  33.16  16.02  11.28\n26  263.0  709.60  36.46  33.83  15.89  11.91\n27  265.8  726.90  36.26  34.89  15.83  12.65\n28  263.8  697.15  37.20  36.27  16.71  14.06",
      "text/html": "<div>\n<style scoped>\n    .dataframe tbody tr th:only-of-type {\n        vertical-align: middle;\n    }\n\n    .dataframe tbody tr th {\n        vertical-align: top;\n    }\n\n    .dataframe thead th {\n        text-align: right;\n    }\n</style>\n<table border=\"1\" class=\"dataframe\">\n  <thead>\n    <tr style=\"text-align: right;\">\n      <th></th>\n      <th>y</th>\n      <th>x1</th>\n      <th>x2</th>\n      <th>x3</th>\n      <th>x4</th>\n      <th>x5</th>\n    </tr>\n  </thead>\n  <tbody>\n    <tr>\n      <th>0</th>\n      <td>271.8</td>\n      <td>783.35</td>\n      <td>33.53</td>\n      <td>40.55</td>\n      <td>16.66</td>\n      <td>13.20</td>\n    </tr>\n    <tr>\n      <th>1</th>\n      <td>264.0</td>\n      <td>748.45</td>\n      <td>36.50</td>\n      <td>36.19</td>\n      <td>16.46</td>\n      <td>14.11</td>\n    </tr>\n    <tr>\n      <th>2</th>\n      <td>238.8</td>\n      <td>684.45</td>\n      <td>34.66</td>\n      <td>37.31</td>\n      <td>17.66</td>\n      <td>15.68</td>\n    </tr>\n    <tr>\n      <th>3</th>\n      <td>230.7</td>\n      <td>827.80</td>\n      <td>33.13</td>\n      <td>32.52</td>\n      <td>17.50</td>\n      <td>10.53</td>\n    </tr>\n    <tr>\n      <th>4</th>\n      <td>251.6</td>\n      <td>860.45</td>\n      <td>35.75</td>\n      <td>33.71</td>\n      <td>16.40</td>\n      <td>11.00</td>\n    </tr>\n    <tr>\n      <th>5</th>\n      <td>257.9</td>\n      <td>875.15</td>\n      <td>34.46</td>\n      <td>34.14</td>\n      <td>16.28</td>\n      <td>11.31</td>\n    </tr>\n    <tr>\n      <th>6</th>\n      <td>263.9</td>\n      <td>909.45</td>\n      <td>34.60</td>\n      <td>34.85</td>\n      <td>16.06</td>\n      <td>11.96</td>\n    </tr>\n    <tr>\n      <th>7</th>\n      <td>266.5</td>\n      <td>905.55</td>\n      <td>35.38</td>\n      <td>35.89</td>\n      <td>15.93</td>\n      <td>12.58</td>\n    </tr>\n    <tr>\n      <th>8</th>\n      <td>229.1</td>\n      <td>756.00</td>\n      <td>35.85</td>\n      <td>33.53</td>\n      <td>16.60</td>\n      <td>10.66</td>\n    </tr>\n    <tr>\n      <th>9</th>\n      <td>239.3</td>\n      <td>769.35</td>\n      <td>35.68</td>\n      <td>33.79</td>\n      <td>16.41</td>\n      <td>10.85</td>\n    </tr>\n    <tr>\n      <th>10</th>\n      <td>258.0</td>\n      <td>793.50</td>\n      <td>35.35</td>\n      <td>34.72</td>\n      <td>16.17</td>\n      <td>11.41</td>\n    </tr>\n    <tr>\n      <th>11</th>\n      <td>257.6</td>\n      <td>801.65</td>\n      <td>35.04</td>\n      <td>35.22</td>\n      <td>15.92</td>\n      <td>11.91</td>\n    </tr>\n    <tr>\n      <th>12</th>\n      <td>267.3</td>\n      <td>819.65</td>\n      <td>34.07</td>\n      <td>36.50</td>\n      <td>16.04</td>\n      <td>12.85</td>\n    </tr>\n    <tr>\n      <th>13</th>\n      <td>267.0</td>\n      <td>808.55</td>\n      <td>32.20</td>\n      <td>37.60</td>\n      <td>16.19</td>\n      <td>13.58</td>\n    </tr>\n    <tr>\n      <th>14</th>\n      <td>259.6</td>\n      <td>774.95</td>\n      <td>34.32</td>\n      <td>37.89</td>\n      <td>16.62</td>\n      <td>14.21</td>\n    </tr>\n    <tr>\n      <th>15</th>\n      <td>240.4</td>\n      <td>711.85</td>\n      <td>31.08</td>\n      <td>37.71</td>\n      <td>17.37</td>\n      <td>15.56</td>\n    </tr>\n    <tr>\n      <th>16</th>\n      <td>227.2</td>\n      <td>694.85</td>\n      <td>35.73</td>\n      <td>37.00</td>\n      <td>18.12</td>\n      <td>15.83</td>\n    </tr>\n    <tr>\n      <th>17</th>\n      <td>196.0</td>\n      <td>638.10</td>\n      <td>34.11</td>\n      <td>36.76</td>\n      <td>18.53</td>\n      <td>16.41</td>\n    </tr>\n    <tr>\n      <th>18</th>\n      <td>278.7</td>\n      <td>774.55</td>\n      <td>34.79</td>\n      <td>34.62</td>\n      <td>15.54</td>\n      <td>13.10</td>\n    </tr>\n    <tr>\n      <th>19</th>\n      <td>272.3</td>\n      <td>757.90</td>\n      <td>35.77</td>\n      <td>35.40</td>\n      <td>15.70</td>\n      <td>13.63</td>\n    </tr>\n    <tr>\n      <th>20</th>\n      <td>267.4</td>\n      <td>753.35</td>\n      <td>36.44</td>\n      <td>35.96</td>\n      <td>16.45</td>\n      <td>14.51</td>\n    </tr>\n    <tr>\n      <th>21</th>\n      <td>254.5</td>\n      <td>704.70</td>\n      <td>37.82</td>\n      <td>36.26</td>\n      <td>17.62</td>\n      <td>15.38</td>\n    </tr>\n    <tr>\n      <th>22</th>\n      <td>224.7</td>\n      <td>666.80</td>\n      <td>35.07</td>\n      <td>36.34</td>\n      <td>18.12</td>\n      <td>16.10</td>\n    </tr>\n    <tr>\n      <th>23</th>\n      <td>181.5</td>\n      <td>568.55</td>\n      <td>35.26</td>\n      <td>35.90</td>\n      <td>19.05</td>\n      <td>16.73</td>\n    </tr>\n    <tr>\n      <th>24</th>\n      <td>227.5</td>\n      <td>653.10</td>\n      <td>35.56</td>\n      <td>31.84</td>\n      <td>16.51</td>\n      <td>10.58</td>\n    </tr>\n    <tr>\n      <th>25</th>\n      <td>253.6</td>\n      <td>704.05</td>\n      <td>35.73</td>\n      <td>33.16</td>\n      <td>16.02</td>\n      <td>11.28</td>\n    </tr>\n    <tr>\n      <th>26</th>\n      <td>263.0</td>\n      <td>709.60</td>\n      <td>36.46</td>\n      <td>33.83</td>\n      <td>15.89</td>\n      <td>11.91</td>\n    </tr>\n    <tr>\n      <th>27</th>\n      <td>265.8</td>\n      <td>726.90</td>\n      <td>36.26</td>\n      <td>34.89</td>\n      <td>15.83</td>\n      <td>12.65</td>\n    </tr>\n    <tr>\n      <th>28</th>\n      <td>263.8</td>\n      <td>697.15</td>\n      <td>37.20</td>\n      <td>36.27</td>\n      <td>16.71</td>\n      <td>14.06</td>\n    </tr>\n  </tbody>\n</table>\n</div>"
     },
     "execution_count": 9,
     "metadata": {},
     "output_type": "execute_result"
    }
   ],
   "source": [
    "import matplotlib.pyplot as plt\n",
    "import pandas as pd\n",
    "import numpy as np\n",
    "dataset = pd.read_csv('solar.csv')\n",
    "dataset.columns = ['y', 'x1', 'x2', 'x3', 'x4', 'x5']\n",
    "dataset"
   ]
  },
  {
   "cell_type": "markdown",
   "source": [
    "a) Fit a smiple linear regression model"
   ],
   "metadata": {
    "collapsed": false,
    "pycharm": {
     "name": "#%% md\n"
    }
   }
  },
  {
   "cell_type": "code",
   "execution_count": 10,
   "outputs": [],
   "source": [
    "y = dataset['y'].to_numpy()\n",
    "x = dataset['x4'].to_numpy()"
   ],
   "metadata": {
    "collapsed": false,
    "pycharm": {
     "name": "#%%\n"
    }
   }
  },
  {
   "cell_type": "code",
   "execution_count": 11,
   "outputs": [
    {
     "name": "stdout",
     "output_type": "stream",
     "text": [
      "y_hat = 607.1033 + (-21.4025 * x_4)\n"
     ]
    }
   ],
   "source": [
    "n = len(y)\n",
    "s_xy = sum(x*y) - sum(y) * sum(x) / n\n",
    "s_xx = sum(x**2) - sum(x)**2 / n\n",
    "b1_hat = s_xy / s_xx\n",
    "b0_hat = np.average(y) - b1_hat * np.average(x)\n",
    "print(f'y_hat = {round(b0_hat, 4)} + ({round(b1_hat, 4)} * x_4)')"
   ],
   "metadata": {
    "collapsed": false,
    "pycharm": {
     "name": "#%%\n"
    }
   }
  },
  {
   "cell_type": "code",
   "execution_count": 12,
   "outputs": [
    {
     "name": "stdout",
     "output_type": "stream",
     "text": [
      "range x: (15.54, 19.05)\n"
     ]
    }
   ],
   "source": [
    "print(f'range x: {min(x), max(x)}')"
   ],
   "metadata": {
    "collapsed": false,
    "pycharm": {
     "name": "#%%\n"
    }
   }
  },
  {
   "cell_type": "code",
   "execution_count": 13,
   "outputs": [
    {
     "data": {
      "text/plain": "<Figure size 432x288 with 1 Axes>",
      "image/png": "[encoded data removed]"
     },
     "metadata": {
      "needs_background": "light"
     },
     "output_type": "display_data"
    }
   ],
   "source": [
    "reg_x = np.linspace(15,20,100)\n",
    "reg_y = [reg_x_i * b1_hat + b0_hat for reg_x_i in reg_x]\n",
    "plt.plot(reg_x, reg_y)\n",
    "plt.scatter(x, y)\n",
    "plt.show()"
   ],
   "metadata": {
    "collapsed": false,
    "pycharm": {
     "name": "#%%\n"
    }
   }
  },
  {
   "cell_type": "code",
   "execution_count": 14,
   "outputs": [
    {
     "data": {
      "text/plain": "<matplotlib.collections.PathCollection at 0x1d31c958670>"
     },
     "execution_count": 14,
     "metadata": {},
     "output_type": "execute_result"
    },
    {
     "data": {
      "text/plain": "<Figure size 432x288 with 1 Axes>",
      "image/png": "[encoded data removed]"
     },
     "metadata": {
      "needs_background": "light"
     },
     "output_type": "display_data"
    }
   ],
   "source": [
    "y_hat = x * b1_hat + b0_hat\n",
    "plt.scatter(x, y_hat)\n",
    "plt.title('predictions')"
   ],
   "metadata": {
    "collapsed": false,
    "pycharm": {
     "name": "#%%\n"
    }
   }
  },
  {
   "cell_type": "markdown",
   "source": [
    "b1) analysis of variance table and regression significance\n",
    "TABLE IS AT THE END OF THE EXERCISE"
   ],
   "metadata": {
    "collapsed": false,
    "pycharm": {
     "name": "#%% md\n"
    }
   }
  },
  {
   "cell_type": "code",
   "execution_count": 25,
   "outputs": [
    {
     "name": "stdout",
     "output_type": "stream",
     "text": [
      "ss_t =  14681.928275862072\n",
      "ss_r + ss_res =  14681.928275858669\n"
     ]
    }
   ],
   "source": [
    "y_avg = np.average(y)\n",
    "ss_t = sum((y - y_avg)**2)\n",
    "ss_r = sum((y_hat - y_avg)**2)\n",
    "ss_res = sum((y - y_hat)**2)\n",
    "print('ss_t = ', ss_t)\n",
    "print('ss_r + ss_res = ', ss_r + ss_res)"
   ],
   "metadata": {
    "collapsed": false,
    "pycharm": {
     "name": "#%%\n"
    }
   }
  },
  {
   "cell_type": "code",
   "execution_count": 26,
   "outputs": [
    {
     "name": "stdout",
     "output_type": "stream",
     "text": [
      "F0 =  69.60943685588529\n"
     ]
    }
   ],
   "source": [
    "F0 = ss_r / (ss_res / (n-2))\n",
    "print('F0 = ', F0)"
   ],
   "metadata": {
    "collapsed": false,
    "pycharm": {
     "name": "#%%\n"
    }
   }
  },
  {
   "cell_type": "code",
   "execution_count": 29,
   "outputs": [],
   "source": [
    "from scipy.stats import f\n",
    "f_critical_value = abs(f.ppf(0.99, 1, n-2))"
   ],
   "metadata": {
    "collapsed": false,
    "pycharm": {
     "name": "#%%\n"
    }
   }
  },
  {
   "cell_type": "code",
   "execution_count": 31,
   "outputs": [
    {
     "name": "stdout",
     "output_type": "stream",
     "text": [
      "Significant regression at alpha=0.99: True\n"
     ]
    }
   ],
   "source": [
    "print(f'Significant regression at alpha=0.99: {F0 > f_critical_value}')"
   ],
   "metadata": {
    "collapsed": false,
    "pycharm": {
     "name": "#%%\n"
    }
   }
  },
  {
   "cell_type": "markdown",
   "source": [
    "c) 95% CI on the slope"
   ],
   "metadata": {
    "collapsed": false,
    "pycharm": {
     "name": "#%% md\n"
    }
   }
  },
  {
   "cell_type": "code",
   "execution_count": 32,
   "outputs": [],
   "source": [
    "from scipy.stats import t\n",
    "alpha = 0.05\n",
    "t_value = abs(t.ppf(alpha/2, n-2))\n",
    "ms_res = ss_res / (n - 2)\n",
    "se_b1 = np.sqrt(ms_res/s_xx)"
   ],
   "metadata": {
    "collapsed": false,
    "pycharm": {
     "name": "#%%\n"
    }
   }
  },
  {
   "cell_type": "code",
   "execution_count": 33,
   "outputs": [
    {
     "name": "stdout",
     "output_type": "stream",
     "text": [
      "CI =  (-26.66591534504273, -16.13900123377123)\n"
     ]
    }
   ],
   "source": [
    "b1_ci = (b1_hat - t_value * se_b1, b1_hat + t_value * se_b1)\n",
    "print('CI = ', b1_ci)"
   ],
   "metadata": {
    "collapsed": false,
    "pycharm": {
     "name": "#%%\n"
    }
   }
  },
  {
   "cell_type": "markdown",
   "source": [
    "d) calculate R^2"
   ],
   "metadata": {
    "collapsed": false,
    "pycharm": {
     "name": "#%% md\n"
    }
   }
  },
  {
   "cell_type": "code",
   "execution_count": 34,
   "outputs": [
    {
     "name": "stdout",
     "output_type": "stream",
     "text": [
      "R^2 = 0.7205241964064782\n"
     ]
    }
   ],
   "source": [
    "r2 = ss_r / ss_t\n",
    "print('R^2 =', r2)"
   ],
   "metadata": {
    "collapsed": false,
    "pycharm": {
     "name": "#%%\n"
    }
   }
  },
  {
   "cell_type": "markdown",
   "source": [
    "e) 95% CI on the mean heat flux when radial deflection is 16.5"
   ],
   "metadata": {
    "collapsed": false,
    "pycharm": {
     "name": "#%% md\n"
    }
   }
  },
  {
   "cell_type": "code",
   "execution_count": 35,
   "outputs": [
    {
     "data": {
      "text/plain": "253.96270364054908"
     },
     "execution_count": 35,
     "metadata": {},
     "output_type": "execute_result"
    }
   ],
   "source": [
    "x0 = 16.5\n",
    "mu_y_given_x0 = b0_hat + b1_hat * x0\n",
    "mu_y_given_x0"
   ],
   "metadata": {
    "collapsed": false,
    "pycharm": {
     "name": "#%%\n"
    }
   }
  },
  {
   "cell_type": "code",
   "execution_count": 37,
   "outputs": [
    {
     "name": "stdout",
     "output_type": "stream",
     "text": [
      "CI = (249.14675201289307, 258.7786552682051)\n"
     ]
    }
   ],
   "source": [
    "sqrt_term = np.sqrt(ms_res * (1/n + (x0 - np.average(x))**2/s_xx))\n",
    "mu_ci = (mu_y_given_x0 - t_value * sqrt_term, mu_y_given_x0 + t_value * sqrt_term)\n",
    "print('CI =', mu_ci)"
   ],
   "metadata": {
    "collapsed": false,
    "pycharm": {
     "name": "#%%\n"
    }
   }
  },
  {
   "cell_type": "markdown",
   "source": [
    "b2) ANOVA table"
   ],
   "metadata": {
    "collapsed": false,
    "pycharm": {
     "name": "#%% md\n"
    }
   }
  },
  {
   "cell_type": "code",
   "execution_count": 38,
   "outputs": [
    {
     "data": {
      "text/plain": "           Sum of squares DoF   Mean Square         F0\nRegression   10578.684573   1  10578.684573  69.609437\nResidual      4103.243703  27    151.971989        NaN\nTotal        14681.928276  28           NaN        NaN",
      "text/html": "<div>\n<style scoped>\n    .dataframe tbody tr th:only-of-type {\n        vertical-align: middle;\n    }\n\n    .dataframe tbody tr th {\n        vertical-align: top;\n    }\n\n    .dataframe thead th {\n        text-align: right;\n    }\n</style>\n<table border=\"1\" class=\"dataframe\">\n  <thead>\n    <tr style=\"text-align: right;\">\n      <th></th>\n      <th>Sum of squares</th>\n      <th>DoF</th>\n      <th>Mean Square</th>\n      <th>F0</th>\n    </tr>\n  </thead>\n  <tbody>\n    <tr>\n      <th>Regression</th>\n      <td>10578.684573</td>\n      <td>1</td>\n      <td>10578.684573</td>\n      <td>69.609437</td>\n    </tr>\n    <tr>\n      <th>Residual</th>\n      <td>4103.243703</td>\n      <td>27</td>\n      <td>151.971989</td>\n      <td>NaN</td>\n    </tr>\n    <tr>\n      <th>Total</th>\n      <td>14681.928276</td>\n      <td>28</td>\n      <td>NaN</td>\n      <td>NaN</td>\n    </tr>\n  </tbody>\n</table>\n</div>"
     },
     "execution_count": 38,
     "metadata": {},
     "output_type": "execute_result"
    }
   ],
   "source": [
    "anova_df = pd.DataFrame(columns = ['Sum of squares', 'DoF', 'Mean Square', 'F0'],\n",
    "             index = ['Regression', 'Residual', 'Total'])\n",
    "anova_df.loc['Regression', 'Sum of squares'] = ss_r\n",
    "anova_df.loc['Regression', 'DoF'] = 1\n",
    "anova_df.loc['Regression', 'Mean Square'] = ss_r / 1\n",
    "anova_df.loc['Regression', 'F0'] = F0\n",
    "\n",
    "anova_df.loc['Residual', 'Sum of squares'] = ss_res\n",
    "anova_df.loc['Residual', 'DoF'] = n-2\n",
    "anova_df.loc['Residual', 'Mean Square'] = ms_res\n",
    "\n",
    "anova_df.loc['Total', 'Sum of squares'] = ss_t\n",
    "anova_df.loc['Total', 'DoF'] = n-1\n",
    "anova_df"
   ],
   "metadata": {
    "collapsed": false,
    "pycharm": {
     "name": "#%%\n"
    }
   }
  },
  {
   "cell_type": "code",
   "execution_count": 24,
   "outputs": [],
   "source": [],
   "metadata": {
    "collapsed": false,
    "pycharm": {
     "name": "#%%\n"
    }
   }
  },
  {
   "cell_type": "code",
   "execution_count": null,
   "outputs": [],
   "source": [],
   "metadata": {
    "collapsed": false,
    "pycharm": {
     "name": "#%%\n"
    }
   }
  }
 ],
 "metadata": {
  "kernelspec": {
   "display_name": "Python 3",
   "language": "python",
   "name": "python3"
  },
  "language_info": {
   "codemirror_mode": {
    "name": "ipython",
    "version": 2
   },
   "file_extension": ".py",
   "mimetype": "text/x-python",
   "name": "python",
   "nbconvert_exporter": "python",
   "pygments_lexer": "ipython2",
   "version": "2.7.6"
  }
 },
 "nbformat": 4,
 "nbformat_minor": 0
}