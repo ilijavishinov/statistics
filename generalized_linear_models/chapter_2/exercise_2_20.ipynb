{
 "cells": [
  {
   "cell_type": "code",
   "execution_count": 1,
   "metadata": {
    "collapsed": true
   },
   "outputs": [
    {
     "data": {
      "text/plain": "      y  x1    x2     x3    x4   x5   x6  x7    x8\n0   343   0  52.8  811.7  2.11  220  261  87   1.8\n1   356   1  52.8  811.7  2.11  220  261  87   1.8\n2   344   0  50.0  821.3  2.11  223  260  87  16.6\n3   356   1  50.0  821.3  2.11  223  260  87  16.6\n4   352   0  47.2  832.0  2.09  221  261  92  23.0\n5   361   1  47.2  832.0  2.09  221  261  92  23.0\n6   372   0  47.0  831.3  2.26  190  323  75  25.1\n7   355   1  47.0  831.3  2.26  190  323  75  25.1\n8   375   0  48.3  836.8  2.47  180  364  71  26.1\n9   359   1  48.3  836.8  2.47  180  364  71  26.1\n10  364   0  44.7  808.3  1.41  180  300  64  20.0\n11  357   1  44.7  808.3  1.41  180  300  64  20.0\n12  368   0  55.7  808.7  1.44  176  299  64  20.5\n13  360   1  55.7  808.7  1.44  176  299  64  20.5\n14  372   0  52.8  813.2  1.96  175  301  75  17.3\n15  352   1  52.8  813.2  1.96  175  301  75  17.3",
      "text/html": "<div>\n<style scoped>\n    .dataframe tbody tr th:only-of-type {\n        vertical-align: middle;\n    }\n\n    .dataframe tbody tr th {\n        vertical-align: top;\n    }\n\n    .dataframe thead th {\n        text-align: right;\n    }\n</style>\n<table border=\"1\" class=\"dataframe\">\n  <thead>\n    <tr style=\"text-align: right;\">\n      <th></th>\n      <th>y</th>\n      <th>x1</th>\n      <th>x2</th>\n      <th>x3</th>\n      <th>x4</th>\n      <th>x5</th>\n      <th>x6</th>\n      <th>x7</th>\n      <th>x8</th>\n    </tr>\n  </thead>\n  <tbody>\n    <tr>\n      <th>0</th>\n      <td>343</td>\n      <td>0</td>\n      <td>52.8</td>\n      <td>811.7</td>\n      <td>2.11</td>\n      <td>220</td>\n      <td>261</td>\n      <td>87</td>\n      <td>1.8</td>\n    </tr>\n    <tr>\n      <th>1</th>\n      <td>356</td>\n      <td>1</td>\n      <td>52.8</td>\n      <td>811.7</td>\n      <td>2.11</td>\n      <td>220</td>\n      <td>261</td>\n      <td>87</td>\n      <td>1.8</td>\n    </tr>\n    <tr>\n      <th>2</th>\n      <td>344</td>\n      <td>0</td>\n      <td>50.0</td>\n      <td>821.3</td>\n      <td>2.11</td>\n      <td>223</td>\n      <td>260</td>\n      <td>87</td>\n      <td>16.6</td>\n    </tr>\n    <tr>\n      <th>3</th>\n      <td>356</td>\n      <td>1</td>\n      <td>50.0</td>\n      <td>821.3</td>\n      <td>2.11</td>\n      <td>223</td>\n      <td>260</td>\n      <td>87</td>\n      <td>16.6</td>\n    </tr>\n    <tr>\n      <th>4</th>\n      <td>352</td>\n      <td>0</td>\n      <td>47.2</td>\n      <td>832.0</td>\n      <td>2.09</td>\n      <td>221</td>\n      <td>261</td>\n      <td>92</td>\n      <td>23.0</td>\n    </tr>\n    <tr>\n      <th>5</th>\n      <td>361</td>\n      <td>1</td>\n      <td>47.2</td>\n      <td>832.0</td>\n      <td>2.09</td>\n      <td>221</td>\n      <td>261</td>\n      <td>92</td>\n      <td>23.0</td>\n    </tr>\n    <tr>\n      <th>6</th>\n      <td>372</td>\n      <td>0</td>\n      <td>47.0</td>\n      <td>831.3</td>\n      <td>2.26</td>\n      <td>190</td>\n      <td>323</td>\n      <td>75</td>\n      <td>25.1</td>\n    </tr>\n    <tr>\n      <th>7</th>\n      <td>355</td>\n      <td>1</td>\n      <td>47.0</td>\n      <td>831.3</td>\n      <td>2.26</td>\n      <td>190</td>\n      <td>323</td>\n      <td>75</td>\n      <td>25.1</td>\n    </tr>\n    <tr>\n      <th>8</th>\n      <td>375</td>\n      <td>0</td>\n      <td>48.3</td>\n      <td>836.8</td>\n      <td>2.47</td>\n      <td>180</td>\n      <td>364</td>\n      <td>71</td>\n      <td>26.1</td>\n    </tr>\n    <tr>\n      <th>9</th>\n      <td>359</td>\n      <td>1</td>\n      <td>48.3</td>\n      <td>836.8</td>\n      <td>2.47</td>\n      <td>180</td>\n      <td>364</td>\n      <td>71</td>\n      <td>26.1</td>\n    </tr>\n    <tr>\n      <th>10</th>\n      <td>364</td>\n      <td>0</td>\n      <td>44.7</td>\n      <td>808.3</td>\n      <td>1.41</td>\n      <td>180</td>\n      <td>300</td>\n      <td>64</td>\n      <td>20.0</td>\n    </tr>\n    <tr>\n      <th>11</th>\n      <td>357</td>\n      <td>1</td>\n      <td>44.7</td>\n      <td>808.3</td>\n      <td>1.41</td>\n      <td>180</td>\n      <td>300</td>\n      <td>64</td>\n      <td>20.0</td>\n    </tr>\n    <tr>\n      <th>12</th>\n      <td>368</td>\n      <td>0</td>\n      <td>55.7</td>\n      <td>808.7</td>\n      <td>1.44</td>\n      <td>176</td>\n      <td>299</td>\n      <td>64</td>\n      <td>20.5</td>\n    </tr>\n    <tr>\n      <th>13</th>\n      <td>360</td>\n      <td>1</td>\n      <td>55.7</td>\n      <td>808.7</td>\n      <td>1.44</td>\n      <td>176</td>\n      <td>299</td>\n      <td>64</td>\n      <td>20.5</td>\n    </tr>\n    <tr>\n      <th>14</th>\n      <td>372</td>\n      <td>0</td>\n      <td>52.8</td>\n      <td>813.2</td>\n      <td>1.96</td>\n      <td>175</td>\n      <td>301</td>\n      <td>75</td>\n      <td>17.3</td>\n    </tr>\n    <tr>\n      <th>15</th>\n      <td>352</td>\n      <td>1</td>\n      <td>52.8</td>\n      <td>813.2</td>\n      <td>1.96</td>\n      <td>175</td>\n      <td>301</td>\n      <td>75</td>\n      <td>17.3</td>\n    </tr>\n  </tbody>\n</table>\n</div>"
     },
     "execution_count": 1,
     "metadata": {},
     "output_type": "execute_result"
    }
   ],
   "source": [
    "import matplotlib.pyplot as plt\n",
    "import pandas as pd\n",
    "import numpy as np\n",
    "dataset = pd.read_csv('fuel.csv')\n",
    "dataset.columns = ['y', 'x1', 'x2', 'x3', 'x4', 'x5', 'x6', 'x7', 'x8']\n",
    "dataset"
   ]
  },
  {
   "cell_type": "markdown",
   "source": [
    "a) Fit a smiple linear regression model"
   ],
   "metadata": {
    "collapsed": false,
    "pycharm": {
     "name": "#%% md\n"
    }
   }
  },
  {
   "cell_type": "code",
   "execution_count": 2,
   "outputs": [],
   "source": [
    "y = dataset['y'].to_numpy()\n",
    "x = dataset['x5'].to_numpy()"
   ],
   "metadata": {
    "collapsed": false,
    "pycharm": {
     "name": "#%%\n"
    }
   }
  },
  {
   "cell_type": "code",
   "execution_count": 17,
   "outputs": [
    {
     "name": "stdout",
     "output_type": "stream",
     "text": [
      "y_hat = 410.7232 + (-0.2638 * x_4)\n"
     ]
    }
   ],
   "source": [
    "n = len(y)\n",
    "s_xy = sum(x*y) - sum(y) * sum(x) / n\n",
    "s_xx = sum(x**2) - sum(x)**2 / n\n",
    "b1_hat = s_xy / s_xx\n",
    "b0_hat = np.average(y) - b1_hat * np.average(x)\n",
    "print(f'y_hat = {round(b0_hat, 4)} + ({round(b1_hat, 4)} * x_4)')"
   ],
   "metadata": {
    "collapsed": false,
    "pycharm": {
     "name": "#%%\n"
    }
   }
  },
  {
   "cell_type": "code",
   "execution_count": 4,
   "outputs": [
    {
     "name": "stdout",
     "output_type": "stream",
     "text": [
      "range x: (175, 223)\n"
     ]
    }
   ],
   "source": [
    "print(f'range x: {min(x), max(x)}')"
   ],
   "metadata": {
    "collapsed": false,
    "pycharm": {
     "name": "#%%\n"
    }
   }
  },
  {
   "cell_type": "code",
   "execution_count": 5,
   "outputs": [
    {
     "data": {
      "text/plain": "<Figure size 432x288 with 1 Axes>",
      "image/png": "[encoded data removed]"
     },
     "metadata": {
      "needs_background": "light"
     },
     "output_type": "display_data"
    }
   ],
   "source": [
    "reg_x = np.linspace(170,225,100)\n",
    "reg_y = [reg_x_i * b1_hat + b0_hat for reg_x_i in reg_x]\n",
    "plt.plot(reg_x, reg_y)\n",
    "plt.scatter(x, y)\n",
    "plt.show()"
   ],
   "metadata": {
    "collapsed": false,
    "pycharm": {
     "name": "#%%\n"
    }
   }
  },
  {
   "cell_type": "code",
   "execution_count": 6,
   "outputs": [
    {
     "data": {
      "text/plain": "<matplotlib.collections.PathCollection at 0x1eb29251c40>"
     },
     "execution_count": 6,
     "metadata": {},
     "output_type": "execute_result"
    },
    {
     "data": {
      "text/plain": "<Figure size 432x288 with 1 Axes>",
      "image/png": "[encoded data removed]"
     },
     "metadata": {
      "needs_background": "light"
     },
     "output_type": "display_data"
    }
   ],
   "source": [
    "y_hat = x * b1_hat + b0_hat\n",
    "plt.scatter(x, y_hat)\n",
    "plt.title('predictions')"
   ],
   "metadata": {
    "collapsed": false,
    "pycharm": {
     "name": "#%%\n"
    }
   }
  },
  {
   "cell_type": "markdown",
   "source": [
    "b1) analysis of variance table and regression significance\n",
    "TABLE IS AT THE END OF THE EXERCISE"
   ],
   "metadata": {
    "collapsed": false,
    "pycharm": {
     "name": "#%% md\n"
    }
   }
  },
  {
   "cell_type": "code",
   "execution_count": 18,
   "outputs": [
    {
     "name": "stdout",
     "output_type": "stream",
     "text": [
      "ss_t =  1321.75\n",
      "ss_r + ss_res =  1321.7500000000005\n"
     ]
    }
   ],
   "source": [
    "y_avg = np.average(y)\n",
    "ss_t = sum((y - y_avg)**2)\n",
    "ss_r = sum((y_hat - y_avg)**2)\n",
    "ss_res = sum((y - y_hat)**2)\n",
    "print('ss_t = ', ss_t)\n",
    "print('ss_r + ss_res = ', ss_r + ss_res)"
   ],
   "metadata": {
    "collapsed": false,
    "pycharm": {
     "name": "#%%\n"
    }
   }
  },
  {
   "cell_type": "code",
   "execution_count": 19,
   "outputs": [
    {
     "name": "stdout",
     "output_type": "stream",
     "text": [
      "F0 =  7.514287457002304\n"
     ]
    }
   ],
   "source": [
    "F0 = ss_r / (ss_res / (n-2))\n",
    "print('F0 = ', F0)"
   ],
   "metadata": {
    "collapsed": false,
    "pycharm": {
     "name": "#%%\n"
    }
   }
  },
  {
   "cell_type": "code",
   "execution_count": 25,
   "outputs": [],
   "source": [
    "from scipy.stats import f\n",
    "f_critical_value = abs(f.ppf(0.95, 1, n-2))"
   ],
   "metadata": {
    "collapsed": false,
    "pycharm": {
     "name": "#%%\n"
    }
   }
  },
  {
   "cell_type": "code",
   "execution_count": 26,
   "outputs": [
    {
     "name": "stdout",
     "output_type": "stream",
     "text": [
      "Significant regression at alpha=0.95: True\n"
     ]
    }
   ],
   "source": [
    "print(f'Significant regression at alpha=0.95: {F0 > f_critical_value}')"
   ],
   "metadata": {
    "collapsed": false,
    "pycharm": {
     "name": "#%%\n"
    }
   }
  },
  {
   "cell_type": "markdown",
   "source": [
    "c) 95% CI on the slope"
   ],
   "metadata": {
    "collapsed": false,
    "pycharm": {
     "name": "#%% md\n"
    }
   }
  },
  {
   "cell_type": "code",
   "execution_count": 11,
   "outputs": [],
   "source": [
    "from scipy.stats import t\n",
    "alpha = 0.05\n",
    "t_value = abs(t.ppf(alpha/2, n-2))\n",
    "ms_res = ss_res / (n - 2)\n",
    "se_b1 = np.sqrt(ms_res/s_xx)"
   ],
   "metadata": {
    "collapsed": false,
    "pycharm": {
     "name": "#%%\n"
    }
   }
  },
  {
   "cell_type": "code",
   "execution_count": 22,
   "outputs": [
    {
     "name": "stdout",
     "output_type": "stream",
     "text": [
      "CI =  (-0.47013245286977273, -0.05738892753183972)\n"
     ]
    }
   ],
   "source": [
    "b1_ci = (b1_hat - t_value * se_b1, b1_hat + t_value * se_b1)\n",
    "print('CI = ', b1_ci)"
   ],
   "metadata": {
    "collapsed": false,
    "pycharm": {
     "name": "#%%\n"
    }
   }
  },
  {
   "cell_type": "markdown",
   "source": [
    "d) calculate R^2"
   ],
   "metadata": {
    "collapsed": false,
    "pycharm": {
     "name": "#%% md\n"
    }
   }
  },
  {
   "cell_type": "code",
   "execution_count": 23,
   "outputs": [
    {
     "name": "stdout",
     "output_type": "stream",
     "text": [
      "R^2 = 0.34926964102437025\n"
     ]
    }
   ],
   "source": [
    "r2 = ss_r / ss_t\n",
    "print('R^2 =', r2)"
   ],
   "metadata": {
    "collapsed": false,
    "pycharm": {
     "name": "#%%\n"
    }
   }
  },
  {
   "cell_type": "markdown",
   "source": [
    "b2) ANOVA table"
   ],
   "metadata": {
    "collapsed": false,
    "pycharm": {
     "name": "#%% md\n"
    }
   }
  },
  {
   "cell_type": "code",
   "execution_count": 16,
   "outputs": [
    {
     "data": {
      "text/plain": "           Sum of squares DoF Mean Square        F0\nRegression     461.647148   1  461.647148  7.514287\nResidual       860.102852  14   61.435918       NaN\nTotal             1321.75  15         NaN       NaN",
      "text/html": "<div>\n<style scoped>\n    .dataframe tbody tr th:only-of-type {\n        vertical-align: middle;\n    }\n\n    .dataframe tbody tr th {\n        vertical-align: top;\n    }\n\n    .dataframe thead th {\n        text-align: right;\n    }\n</style>\n<table border=\"1\" class=\"dataframe\">\n  <thead>\n    <tr style=\"text-align: right;\">\n      <th></th>\n      <th>Sum of squares</th>\n      <th>DoF</th>\n      <th>Mean Square</th>\n      <th>F0</th>\n    </tr>\n  </thead>\n  <tbody>\n    <tr>\n      <th>Regression</th>\n      <td>461.647148</td>\n      <td>1</td>\n      <td>461.647148</td>\n      <td>7.514287</td>\n    </tr>\n    <tr>\n      <th>Residual</th>\n      <td>860.102852</td>\n      <td>14</td>\n      <td>61.435918</td>\n      <td>NaN</td>\n    </tr>\n    <tr>\n      <th>Total</th>\n      <td>1321.75</td>\n      <td>15</td>\n      <td>NaN</td>\n      <td>NaN</td>\n    </tr>\n  </tbody>\n</table>\n</div>"
     },
     "execution_count": 16,
     "metadata": {},
     "output_type": "execute_result"
    }
   ],
   "source": [
    "anova_df = pd.DataFrame(columns = ['Sum of squares', 'DoF', 'Mean Square', 'F0'],\n",
    "             index = ['Regression', 'Residual', 'Total'])\n",
    "anova_df.loc['Regression', 'Sum of squares'] = ss_r\n",
    "anova_df.loc['Regression', 'DoF'] = 1\n",
    "anova_df.loc['Regression', 'Mean Square'] = ss_r / 1\n",
    "anova_df.loc['Regression', 'F0'] = F0\n",
    "\n",
    "anova_df.loc['Residual', 'Sum of squares'] = ss_res\n",
    "anova_df.loc['Residual', 'DoF'] = n-2\n",
    "anova_df.loc['Residual', 'Mean Square'] = ms_res\n",
    "\n",
    "anova_df.loc['Total', 'Sum of squares'] = ss_t\n",
    "anova_df.loc['Total', 'DoF'] = n-1\n",
    "anova_df"
   ],
   "metadata": {
    "collapsed": false,
    "pycharm": {
     "name": "#%%\n"
    }
   }
  },
  {
   "cell_type": "markdown",
   "source": [
    "The regression statistic is significant at the 95% significance level.\n",
    "However, we see low explanation of variance (R^2), indicating that there is a lot of unexplained variation."
   ],
   "metadata": {
    "collapsed": false,
    "pycharm": {
     "name": "#%% md\n"
    }
   }
  },
  {
   "cell_type": "code",
   "execution_count": null,
   "outputs": [],
   "source": [],
   "metadata": {
    "collapsed": false,
    "pycharm": {
     "name": "#%%\n"
    }
   }
  }
 ],
 "metadata": {
  "kernelspec": {
   "display_name": "Python 3",
   "language": "python",
   "name": "python3"
  },
  "language_info": {
   "codemirror_mode": {
    "name": "ipython",
    "version": 2
   },
   "file_extension": ".py",
   "mimetype": "text/x-python",
   "name": "python",
   "nbconvert_exporter": "python",
   "pygments_lexer": "ipython2",
   "version": "2.7.6"
  }
 },
 "nbformat": 4,
 "nbformat_minor": 0
}