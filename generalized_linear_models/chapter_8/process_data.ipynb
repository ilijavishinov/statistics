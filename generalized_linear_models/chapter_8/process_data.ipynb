{
 "cells": [
  {
   "cell_type": "code",
   "execution_count": 14,
   "metadata": {
    "collapsed": true
   },
   "outputs": [
    {
     "data": {
      "text/plain": "      treatment     sex                stage  frequency\n0    sequential    male  progressive disease         28\n1    sequential    male            no change         45\n2    sequential    male    partial remission         29\n3    sequential    male   complete remission         26\n4    sequential  female  progressive disease          4\n5    sequential  female            no change         12\n6    sequential  female    partial remission          5\n7    sequential  female   complete remission          2\n8   alternating    male  progressive disease         41\n9   alternating    male            no change         44\n10  alternating    male    partial remission         20\n11  alternating    male   complete remission         20\n12  alternating  female  progressive disease         12\n13  alternating  female            no change          7\n14  alternating  female    partial remission          3\n15  alternating  female   complete remission          1",
      "text/html": "<div>\n<style scoped>\n    .dataframe tbody tr th:only-of-type {\n        vertical-align: middle;\n    }\n\n    .dataframe tbody tr th {\n        vertical-align: top;\n    }\n\n    .dataframe thead th {\n        text-align: right;\n    }\n</style>\n<table border=\"1\" class=\"dataframe\">\n  <thead>\n    <tr style=\"text-align: right;\">\n      <th></th>\n      <th>treatment</th>\n      <th>sex</th>\n      <th>stage</th>\n      <th>frequency</th>\n    </tr>\n  </thead>\n  <tbody>\n    <tr>\n      <th>0</th>\n      <td>sequential</td>\n      <td>male</td>\n      <td>progressive disease</td>\n      <td>28</td>\n    </tr>\n    <tr>\n      <th>1</th>\n      <td>sequential</td>\n      <td>male</td>\n      <td>no change</td>\n      <td>45</td>\n    </tr>\n    <tr>\n      <th>2</th>\n      <td>sequential</td>\n      <td>male</td>\n      <td>partial remission</td>\n      <td>29</td>\n    </tr>\n    <tr>\n      <th>3</th>\n      <td>sequential</td>\n      <td>male</td>\n      <td>complete remission</td>\n      <td>26</td>\n    </tr>\n    <tr>\n      <th>4</th>\n      <td>sequential</td>\n      <td>female</td>\n      <td>progressive disease</td>\n      <td>4</td>\n    </tr>\n    <tr>\n      <th>5</th>\n      <td>sequential</td>\n      <td>female</td>\n      <td>no change</td>\n      <td>12</td>\n    </tr>\n    <tr>\n      <th>6</th>\n      <td>sequential</td>\n      <td>female</td>\n      <td>partial remission</td>\n      <td>5</td>\n    </tr>\n    <tr>\n      <th>7</th>\n      <td>sequential</td>\n      <td>female</td>\n      <td>complete remission</td>\n      <td>2</td>\n    </tr>\n    <tr>\n      <th>8</th>\n      <td>alternating</td>\n      <td>male</td>\n      <td>progressive disease</td>\n      <td>41</td>\n    </tr>\n    <tr>\n      <th>9</th>\n      <td>alternating</td>\n      <td>male</td>\n      <td>no change</td>\n      <td>44</td>\n    </tr>\n    <tr>\n      <th>10</th>\n      <td>alternating</td>\n      <td>male</td>\n      <td>partial remission</td>\n      <td>20</td>\n    </tr>\n    <tr>\n      <th>11</th>\n      <td>alternating</td>\n      <td>male</td>\n      <td>complete remission</td>\n      <td>20</td>\n    </tr>\n    <tr>\n      <th>12</th>\n      <td>alternating</td>\n      <td>female</td>\n      <td>progressive disease</td>\n      <td>12</td>\n    </tr>\n    <tr>\n      <th>13</th>\n      <td>alternating</td>\n      <td>female</td>\n      <td>no change</td>\n      <td>7</td>\n    </tr>\n    <tr>\n      <th>14</th>\n      <td>alternating</td>\n      <td>female</td>\n      <td>partial remission</td>\n      <td>3</td>\n    </tr>\n    <tr>\n      <th>15</th>\n      <td>alternating</td>\n      <td>female</td>\n      <td>complete remission</td>\n      <td>1</td>\n    </tr>\n  </tbody>\n</table>\n</div>"
     },
     "execution_count": 14,
     "metadata": {},
     "output_type": "execute_result"
    }
   ],
   "source": [
    "import pandas as pd\n",
    "df = pd.read_csv('data_8_3_flat.csv')\n",
    "df"
   ]
  },
  {
   "cell_type": "code",
   "execution_count": 15,
   "outputs": [
    {
     "data": {
      "text/plain": "    treatment  sex  stage  frequency\n0           1    1      0         28\n1           1    1      1         45\n2           1    1      2         29\n3           1    1      3         26\n4           1    0      0          4\n5           1    0      1         12\n6           1    0      2          5\n7           1    0      3          2\n8           0    1      0         41\n9           0    1      1         44\n10          0    1      2         20\n11          0    1      3         20\n12          0    0      0         12\n13          0    0      1          7\n14          0    0      2          3\n15          0    0      3          1",
      "text/html": "<div>\n<style scoped>\n    .dataframe tbody tr th:only-of-type {\n        vertical-align: middle;\n    }\n\n    .dataframe tbody tr th {\n        vertical-align: top;\n    }\n\n    .dataframe thead th {\n        text-align: right;\n    }\n</style>\n<table border=\"1\" class=\"dataframe\">\n  <thead>\n    <tr style=\"text-align: right;\">\n      <th></th>\n      <th>treatment</th>\n      <th>sex</th>\n      <th>stage</th>\n      <th>frequency</th>\n    </tr>\n  </thead>\n  <tbody>\n    <tr>\n      <th>0</th>\n      <td>1</td>\n      <td>1</td>\n      <td>0</td>\n      <td>28</td>\n    </tr>\n    <tr>\n      <th>1</th>\n      <td>1</td>\n      <td>1</td>\n      <td>1</td>\n      <td>45</td>\n    </tr>\n    <tr>\n      <th>2</th>\n      <td>1</td>\n      <td>1</td>\n      <td>2</td>\n      <td>29</td>\n    </tr>\n    <tr>\n      <th>3</th>\n      <td>1</td>\n      <td>1</td>\n      <td>3</td>\n      <td>26</td>\n    </tr>\n    <tr>\n      <th>4</th>\n      <td>1</td>\n      <td>0</td>\n      <td>0</td>\n      <td>4</td>\n    </tr>\n    <tr>\n      <th>5</th>\n      <td>1</td>\n      <td>0</td>\n      <td>1</td>\n      <td>12</td>\n    </tr>\n    <tr>\n      <th>6</th>\n      <td>1</td>\n      <td>0</td>\n      <td>2</td>\n      <td>5</td>\n    </tr>\n    <tr>\n      <th>7</th>\n      <td>1</td>\n      <td>0</td>\n      <td>3</td>\n      <td>2</td>\n    </tr>\n    <tr>\n      <th>8</th>\n      <td>0</td>\n      <td>1</td>\n      <td>0</td>\n      <td>41</td>\n    </tr>\n    <tr>\n      <th>9</th>\n      <td>0</td>\n      <td>1</td>\n      <td>1</td>\n      <td>44</td>\n    </tr>\n    <tr>\n      <th>10</th>\n      <td>0</td>\n      <td>1</td>\n      <td>2</td>\n      <td>20</td>\n    </tr>\n    <tr>\n      <th>11</th>\n      <td>0</td>\n      <td>1</td>\n      <td>3</td>\n      <td>20</td>\n    </tr>\n    <tr>\n      <th>12</th>\n      <td>0</td>\n      <td>0</td>\n      <td>0</td>\n      <td>12</td>\n    </tr>\n    <tr>\n      <th>13</th>\n      <td>0</td>\n      <td>0</td>\n      <td>1</td>\n      <td>7</td>\n    </tr>\n    <tr>\n      <th>14</th>\n      <td>0</td>\n      <td>0</td>\n      <td>2</td>\n      <td>3</td>\n    </tr>\n    <tr>\n      <th>15</th>\n      <td>0</td>\n      <td>0</td>\n      <td>3</td>\n      <td>1</td>\n    </tr>\n  </tbody>\n</table>\n</div>"
     },
     "execution_count": 15,
     "metadata": {},
     "output_type": "execute_result"
    }
   ],
   "source": [
    "def map_stage(x: str):\n",
    "    if x.startswith('prog'): return 0\n",
    "    if x.startswith('no'): return 1\n",
    "    if x.startswith('partial'): return 2\n",
    "    if x.startswith('complete'): return 3\n",
    "df['sex'] = df['sex'].map(lambda x: 1 if x =='male' else 0)\n",
    "df['treatment'] = df['treatment'].map(lambda x: 1 if x=='sequential' else 0)\n",
    "df['stage'] = df['stage'].map(map_stage)\n",
    "df"
   ],
   "metadata": {
    "collapsed": false,
    "pycharm": {
     "name": "#%%\n"
    }
   }
  },
  {
   "cell_type": "code",
   "execution_count": 16,
   "outputs": [],
   "source": [
    "df.to_csv('data_8_3_flat_processed.csv', index = False)"
   ],
   "metadata": {
    "collapsed": false,
    "pycharm": {
     "name": "#%%\n"
    }
   }
  },
  {
   "cell_type": "code",
   "execution_count": null,
   "outputs": [],
   "source": [],
   "metadata": {
    "collapsed": false,
    "pycharm": {
     "name": "#%%\n"
    }
   }
  }
 ],
 "metadata": {
  "kernelspec": {
   "display_name": "Python 3",
   "language": "python",
   "name": "python3"
  },
  "language_info": {
   "codemirror_mode": {
    "name": "ipython",
    "version": 2
   },
   "file_extension": ".py",
   "mimetype": "text/x-python",
   "name": "python",
   "nbconvert_exporter": "python",
   "pygments_lexer": "ipython2",
   "version": "2.7.6"
  }
 },
 "nbformat": 4,
 "nbformat_minor": 0
}