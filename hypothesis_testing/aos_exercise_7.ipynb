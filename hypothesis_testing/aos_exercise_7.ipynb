{
 "cells": [
  {
   "cell_type": "code",
   "execution_count": 6,
   "metadata": {
    "collapsed": true
   },
   "outputs": [],
   "source": [
    "import numpy as np\n",
    "from scipy.stats import norm, t\n",
    "import plotly.express as px\n",
    "import plotly.graph_objects as go"
   ]
  },
  {
   "cell_type": "markdown",
   "metadata": {
    "pycharm": {
     "name": "#%% md\n"
    }
   },
   "source": [
    "In 1861, 10 essays appeared in the New Orleans Daily Crescent. They\n",
    "were signed “Quintus Curtius Snodgrass” and some people suspected\n",
    "they were actually written by Mark Twain. To investigate this, we will\n",
    "consider the proportion of three letter words found in an author’s work.\n",
    "From eight Twain essays we have:\n",
    ".225 .262 .217 .240 .230 .229 .235 .217\n",
    "From 10 Snodgrass essays we have:\n",
    ".209 .205 .196 .210 .202 .207 .224 .223 .220 .201\n",
    "(a) Perform a Wald test for equality of the means. Use the nonparametric\n",
    "plug-in estimator. Report the p-value and a 95 per cent confidence\n",
    "interval for the difference of means. What do you conclude?\n",
    "(b) Now use a permutation test to avoid the use of large sample methods.\n",
    "What is your conclusion? (Brinegar (1963))."
   ]
  },
  {
   "cell_type": "code",
   "execution_count": 17,
   "metadata": {
    "pycharm": {
     "name": "#%%\n"
    }
   },
   "outputs": [
    {
     "name": "stdout",
     "output_type": "stream",
     "text": [
      "Estimate for theta: 0.022175\n",
      "CI for theta: (0.010439729850154362, 0.03391027014984564)\n",
      "Wald stat = 3.7035535443338206, p-val = 0.00021260028225810121\n"
     ]
    }
   ],
   "source": [
    "# similar to example 10.15\n",
    "X = np.array([.225, .262, .217, .240, .230, .229, .235, .217])\n",
    "Y = np.array([.209, .205, .196, .210, .202, .207, .224, .223, .220, .201])\n",
    "\n",
    "mu_x_hat = np.mean(X)\n",
    "mu_y_hat = np.mean(Y)\n",
    "theta_hat = mu_x_hat - mu_y_hat\n",
    "se_hat = np.sqrt(X.var(ddof = 1)/len(X) + Y.var(ddof = 1)/len(Y))\n",
    "\n",
    "alpha = 0.05\n",
    "confidence_interval = (theta_hat - norm.ppf(1-alpha/2) * se_hat,\n",
    "                       theta_hat + norm.ppf(1-alpha/2) * se_hat)\n",
    "print(f'Estimate for theta: {theta_hat}')\n",
    "print(f'CI for theta: {confidence_interval}')\n",
    "\n",
    "w = theta_hat / se_hat\n",
    "pval = 2 * norm.cdf(-np.abs(w)) # Theorem 10.13\n",
    "print(f'Wald stat = {w}, p-val = {pval}')"
   ]
  },
  {
   "cell_type": "markdown",
   "metadata": {
    "pycharm": {
     "name": "#%% md\n"
    }
   },
   "source": [
    "the p-value is 0.0002\n",
    "this provides strong evidence to reject the null hypothesis that the means are identical;\n",
    "tihs means that the distributions have different means;\n",
    "this means that the writer is probably not Mark Twain"
   ]
  },
  {
   "cell_type": "markdown",
   "source": [
    "# Permutation test"
   ],
   "metadata": {
    "collapsed": false,
    "pycharm": {
     "name": "#%% md\n"
    }
   }
  },
  {
   "cell_type": "code",
   "execution_count": 20,
   "metadata": {
    "pycharm": {
     "name": "#%%\n"
    }
   },
   "outputs": [
    {
     "name": "stdout",
     "output_type": "stream",
     "text": [
      "Permutation test p-val: 0.00040004000400040005\n"
     ]
    }
   ],
   "source": [
    "X_concat_Y = np.concatenate([X,Y])\n",
    "slice = len(X)\n",
    "num_permutations_to_evaluate = 9999\n",
    "num_perm_satisfied_indicator = 0\n",
    "for _ in range(num_permutations_to_evaluate):\n",
    "    permutation = np.random.permutation(X_concat_Y)\n",
    "    X_perm = permutation[:slice]\n",
    "    Y_perm = permutation[slice:]\n",
    "    T_perm = X_perm.mean() - Y_perm.mean()\n",
    "    indicator = int(T_perm > theta_hat)\n",
    "    num_perm_satisfied_indicator += indicator\n",
    "\n",
    "pval_permutation_test = num_perm_satisfied_indicator / num_permutations_to_evaluate\n",
    "print(f'Permutation test p-val: {pval_permutation_test}')"
   ]
  },
  {
   "cell_type": "markdown",
   "source": [
    "the p-value is 0.0004\n",
    "this provides strong evidence to reject the null hypothesis that the means are identical;\n",
    "tihs means that the distributions have different means;\n",
    "this means that the writer is probably not Mark Twain"
   ],
   "metadata": {
    "collapsed": false
   }
  },
  {
   "cell_type": "code",
   "execution_count": 10,
   "metadata": {
    "pycharm": {
     "name": "#%%\n"
    }
   },
   "outputs": [],
   "source": [
    "\n",
    "\n"
   ]
  },
  {
   "cell_type": "code",
   "execution_count": null,
   "outputs": [],
   "source": [],
   "metadata": {
    "collapsed": false,
    "pycharm": {
     "name": "#%%\n"
    }
   }
  }
 ],
 "metadata": {
  "kernelspec": {
   "display_name": "Python 3",
   "language": "python",
   "name": "python3"
  },
  "language_info": {
   "codemirror_mode": {
    "name": "ipython",
    "version": 3
   },
   "file_extension": ".py",
   "mimetype": "text/x-python",
   "name": "python",
   "nbconvert_exporter": "python",
   "pygments_lexer": "ipython3",
   "version": "3.8.3"
  }
 },
 "nbformat": 4,
 "nbformat_minor": 1
}