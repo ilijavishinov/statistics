{
 "cells": [
  {
   "cell_type": "code",
   "execution_count": 2,
   "metadata": {},
   "outputs": [],
   "source": [
    "import numpy as np\n",
    "from scipy.stats import norm, t\n",
    "import plotly.express as px\n",
    "import plotly.graph_objects as go"
   ]
  },
  {
   "cell_type": "markdown",
   "metadata": {
    "pycharm": {
     "name": "#%% md\n"
    }
   },
   "source": [
    "There is a theory that people can postpone their death until after an\n",
    "important event. To test the theory, Phillips and King (1988) collected\n",
    "data on deaths around the Jewish holiday Passover. Of 1919 deaths, 922\n",
    "died the week before the holiday and 997 died the week after. Think of\n",
    "this as a binomial and test the null hypothesis that 0 = 1/2. Report and\n",
    "interpret the p-value. Also construct a confidence interval for 0."
   ]
  },
  {
   "cell_type": "code",
   "execution_count": 6,
   "metadata": {
    "pycharm": {
     "name": "#%%\n"
    }
   },
   "outputs": [
    {
     "name": "stdout",
     "output_type": "stream",
     "text": [
      "CI: (0.45810491075294935, 0.5028122335930642)\n"
     ]
    }
   ],
   "source": [
    "n_died_before = 922\n",
    "n_died_after = 997\n",
    "n = n_died_after + n_died_before\n",
    "\n",
    "# X ~ Binomial(n,p)\n",
    "p_hat = n_died_before / n # plug-in estimate\n",
    "se_hat = np.sqrt(p_hat * (1-p_hat) / n) # standard error\n",
    "\n",
    "alpha = 0.05\n",
    "confidence_interval_upper_bound = p_hat + se_hat * norm.ppf(1 - alpha/2)\n",
    "confidence_interval_lower_bound = p_hat - se_hat * norm.ppf(1 - alpha/2)\n",
    "print(f'CI: {confidence_interval_lower_bound, confidence_interval_upper_bound}')\n",
    "w = (p_hat - 0.5) / se_hat # Def 10.3\n",
    "pval = 2 * norm.cdf(-np.abs(w)) # Theorem 10.13"
   ]
  },
  {
   "cell_type": "code",
   "execution_count": 4,
   "metadata": {
    "pycharm": {
     "name": "#%%\n"
    }
   },
   "outputs": [
    {
     "name": "stdout",
     "output_type": "stream",
     "text": [
      "Wald stat = -1.7133879782678245, p-val = 0.0866411864658904\n"
     ]
    }
   ],
   "source": [
    "print(f'Wald stat = {w}, p-val = {pval}')"
   ]
  },
  {
   "cell_type": "markdown",
   "metadata": {
    "pycharm": {
     "name": "#%% md\n"
    }
   },
   "source": [
    "p-value is 0.08\n",
    "This is weak evidence for rejecting the null hypothesis\n",
    "We do not reject the null hypothesis"
   ]
  },
  {
   "cell_type": "code",
   "execution_count": 6,
   "metadata": {
    "pycharm": {
     "name": "#%%\n"
    }
   },
   "outputs": [],
   "source": []
  },
  {
   "cell_type": "code",
   "execution_count": null,
   "outputs": [],
   "source": [],
   "metadata": {
    "collapsed": false,
    "pycharm": {
     "name": "#%%\n"
    }
   }
  }
 ],
 "metadata": {
  "kernelspec": {
   "display_name": "Python 3",
   "language": "python",
   "name": "python3"
  },
  "language_info": {
   "codemirror_mode": {
    "name": "ipython",
    "version": 3
   },
   "file_extension": ".py",
   "mimetype": "text/x-python",
   "name": "python",
   "nbconvert_exporter": "python",
   "pygments_lexer": "ipython3",
   "version": "3.8.3"
  }
 },
 "nbformat": 4,
 "nbformat_minor": 1
}