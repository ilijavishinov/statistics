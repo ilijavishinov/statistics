{
 "cells": [
  {
   "cell_type": "markdown",
   "source": [
    "### All of Statistics - Chapter 8 Exercise 1\n",
    "Consider the data in Example 8.6. Find the plug-in estimate of the correlation coefficient. Estimate the standard error using the bootstrap. Find a 95 percent confidence interval using the Normal, pivotal, and percentile methods."
   ],
   "metadata": {
    "collapsed": false
   }
  },
  {
   "cell_type": "code",
   "execution_count": 13,
   "metadata": {
    "collapsed": true
   },
   "outputs": [],
   "source": [
    "import numpy as np\n",
    "from scipy.stats import norm\n",
    "import plotly.express as px\n",
    "import plotly.graph_objects as go\n",
    "\n",
    "lsat_sample = np.array([\n",
    "    576, 635, 558, 578, 666, 580, 555, 661, 651, 605, 653, 575, 545, 572, 594\n",
    "])\n",
    "gpa_sample = np.array([\n",
    "    3.39, 3.30, 2.81, 3.03, 3.44, 3.07, 3.00, 3.43, 3.36, 3.13, 3.12, 2.74, 2.76, 2.88, 3.96\n",
    "])"
   ]
  },
  {
   "cell_type": "markdown",
   "source": [
    "Consider the data in Example 8.6.\n",
    "## Requirements:\n",
    "- Find the plug-in estimate of the correlation coefficient\n",
    "- Estimate the standard error using the bootstrap\n",
    "- Find a 95 percent confidence interval using the following methods:\n",
    "    - Normal\n",
    "    - Pivotal\n",
    "    - Percentile"
   ],
   "metadata": {
    "collapsed": false,
    "pycharm": {
     "name": "#%% md\n"
    }
   }
  },
  {
   "cell_type": "markdown",
   "source": [
    "### Task: Find the plug-in estimate of the correlation coefficient"
   ],
   "metadata": {
    "collapsed": false
   }
  },
  {
   "cell_type": "code",
   "execution_count": 14,
   "outputs": [
    {
     "name": "stdout",
     "output_type": "stream",
     "text": [
      "Plug-in estimate for r: r_hat = 0.5459189161795885\n"
     ]
    }
   ],
   "source": [
    "def pearson_correlation(X, Y):\n",
    "    x_mean, y_mean = np.mean(X), np.mean(Y)\n",
    "    x_var, y_var = np.sum((X - x_mean)**2), np.sum((Y - y_mean)**2)\n",
    "    covariance = np.sum((X - x_mean) * (Y - y_mean))\n",
    "    normalization_factor = np.sqrt(x_var * y_var)\n",
    "    return covariance / normalization_factor\n",
    "\n",
    "r_hat = pearson_correlation(gpa_sample, lsat_sample)\n",
    "print(f'Plug-in estimate for r: r_hat = {r_hat}')"
   ],
   "metadata": {
    "collapsed": false,
    "pycharm": {
     "name": "#%%\n"
    }
   }
  },
  {
   "cell_type": "markdown",
   "source": [
    "### Task: Estimate the standard error using the bootstrap"
   ],
   "metadata": {
    "collapsed": false
   }
  },
  {
   "cell_type": "code",
   "execution_count": 15,
   "outputs": [
    {
     "name": "stdout",
     "output_type": "stream",
     "text": [
      "Bootstrap std. error estimate = 0.26162850994014897\n"
     ]
    }
   ],
   "source": [
    "bootstrap_repetitions = 9999\n",
    "bootstrap_estimations = list()\n",
    "\n",
    "for i in range(bootstrap_repetitions):\n",
    "    lsat_bs_sample = np.random.choice(lsat_sample, len(lsat_sample), replace=True)\n",
    "    gpa_bs_sample = np.random.choice(gpa_sample, len(gpa_sample), replace=True)\n",
    "    bootstrap_estimations.append(pearson_correlation(lsat_bs_sample, gpa_bs_sample))\n",
    "\n",
    "se_hat = np.array(bootstrap_estimations).std()\n",
    "print(f'Bootstrap std. error estimate = {se_hat}')"
   ],
   "metadata": {
    "collapsed": false,
    "pycharm": {
     "name": "#%%\n"
    }
   }
  },
  {
   "cell_type": "markdown",
   "source": [
    "### Task: Find a 95 percent confidence interval using the Normal method"
   ],
   "metadata": {
    "collapsed": false
   }
  },
  {
   "cell_type": "code",
   "execution_count": 16,
   "outputs": [
    {
     "name": "stdout",
     "output_type": "stream",
     "text": [
      "Normal method CI:(0.03313645936801701, 1.05870137299116)\n"
     ]
    }
   ],
   "source": [
    "alpha = 0.05\n",
    "z = norm.ppf(1-alpha/2)\n",
    "normal_upper_bound = r_hat + se_hat * z\n",
    "normal_lower_bound = r_hat - se_hat * z\n",
    "print(f'Normal method CI:({normal_lower_bound}, {normal_upper_bound})')"
   ],
   "metadata": {
    "collapsed": false,
    "pycharm": {
     "name": "#%%\n"
    }
   }
  },
  {
   "cell_type": "markdown",
   "source": [
    "### Task: Find a 95 percent confidence interval using the Pivotal method"
   ],
   "metadata": {
    "collapsed": false
   }
  },
  {
   "cell_type": "code",
   "execution_count": 17,
   "outputs": [
    {
     "name": "stdout",
     "output_type": "stream",
     "text": [
      "Percentile method CI: (-0.49595646920490705, 0.5062498146199815)\n"
     ]
    }
   ],
   "source": [
    "alpha = 0.05\n",
    "bootstrap_estimations = np.sort(bootstrap_estimations)\n",
    "percentile_upper_bound = np.quantile(bootstrap_estimations, 1 - alpha/2)\n",
    "percentile_lower_bound = np.quantile(bootstrap_estimations, alpha/2)\n",
    "print(f'Percentile method CI: ({percentile_lower_bound}, {percentile_upper_bound})')"
   ],
   "metadata": {
    "collapsed": false,
    "pycharm": {
     "name": "#%%\n"
    }
   }
  },
  {
   "cell_type": "markdown",
   "source": [
    "### Task: Find a 95 percent confidence interval using the Percentile method"
   ],
   "metadata": {
    "collapsed": false,
    "pycharm": {
     "name": "#%% md\n"
    }
   }
  },
  {
   "cell_type": "code",
   "execution_count": 18,
   "outputs": [
    {
     "name": "stdout",
     "output_type": "stream",
     "text": [
      "Pivotal method CI: (0.5855880177391956, 1.587794301564084)\n"
     ]
    }
   ],
   "source": [
    "alpha = 0.05\n",
    "bootstrap_estimations = np.sort(bootstrap_estimations)\n",
    "pivotal_lower_bound = 2*r_hat - np.quantile(bootstrap_estimations, 1-alpha/2)\n",
    "pivotal_upper_bound = 2*r_hat - np.quantile(bootstrap_estimations, alpha/2)\n",
    "print(f'Pivotal method CI: ({pivotal_lower_bound}, {pivotal_upper_bound})')"
   ],
   "metadata": {
    "collapsed": false,
    "pycharm": {
     "name": "#%%\n"
    }
   }
  },
  {
   "cell_type": "code",
   "execution_count": 18,
   "outputs": [],
   "source": [],
   "metadata": {
    "collapsed": false,
    "pycharm": {
     "name": "#%%\n"
    }
   }
  },
  {
   "cell_type": "code",
   "execution_count": 20,
   "outputs": [
    {
     "name": "stdout",
     "output_type": "stream",
     "text": [
      "Normal method CI:(0.03313645936801701, 1.05870137299116)\n",
      "Percentile method CI: (-0.49595646920490705, 0.5062498146199815)\n",
      "Pivotal method CI: (0.5855880177391956, 1.587794301564084)\n"
     ]
    }
   ],
   "source": [
    "print(f'Normal method CI:({normal_lower_bound}, {normal_upper_bound})')\n",
    "print(f'Percentile method CI: ({percentile_lower_bound}, {percentile_upper_bound})')\n",
    "print(f'Pivotal method CI: ({pivotal_lower_bound}, {pivotal_upper_bound})')"
   ],
   "metadata": {
    "collapsed": false,
    "pycharm": {
     "name": "#%%\n"
    }
   }
  },
  {
   "cell_type": "code",
   "execution_count": 19,
   "outputs": [],
   "source": [],
   "metadata": {
    "collapsed": false,
    "pycharm": {
     "name": "#%%\n"
    }
   }
  },
  {
   "cell_type": "code",
   "execution_count": 19,
   "outputs": [],
   "source": [],
   "metadata": {
    "collapsed": false,
    "pycharm": {
     "name": "#%%\n"
    }
   }
  },
  {
   "cell_type": "code",
   "execution_count": null,
   "outputs": [],
   "source": [],
   "metadata": {
    "collapsed": false,
    "pycharm": {
     "name": "#%%\n"
    }
   }
  }
 ],
 "metadata": {
  "kernelspec": {
   "display_name": "Python 3",
   "language": "python",
   "name": "python3"
  },
  "language_info": {
   "codemirror_mode": {
    "name": "ipython",
    "version": 2
   },
   "file_extension": ".py",
   "mimetype": "text/x-python",
   "name": "python",
   "nbconvert_exporter": "python",
   "pygments_lexer": "ipython2",
   "version": "2.7.6"
  }
 },
 "nbformat": 4,
 "nbformat_minor": 0
}
