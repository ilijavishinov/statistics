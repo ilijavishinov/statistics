{
 "cells": [
  {
   "cell_type": "markdown",
   "source": [
    "### All of Statistics - Chapter 8 Exercise 3\n",
    "Let X1, . . . ,Xn ∼ t3, n = 25\n",
    "Let θ = T(F) = (q.75 − q.25)/1.34 where qp denotes the p_{th} quantile\n",
    "### Requirements:\n",
    "- Do a simulation to compare the coverage and length of the following confidence intervals for θ:\n",
    "    1. Normal interval with standard error from the bootstrap\n",
    "    2. bootstrap percentile interval, and\n",
    "    3. pivotal bootstrap interval."
   ],
   "metadata": {
    "collapsed": false
   }
  },
  {
   "cell_type": "code",
   "execution_count": 3,
   "metadata": {
    "collapsed": true
   },
   "outputs": [],
   "source": [
    "import numpy as np\n",
    "from scipy.stats import norm, t\n",
    "import plotly.express as px\n",
    "import plotly.graph_objects as go"
   ]
  },
  {
   "cell_type": "markdown",
   "metadata": {
    "pycharm": {
     "name": "#%% md\n"
    }
   },
   "source": []
  },
  {
   "cell_type": "markdown",
   "metadata": {
    "pycharm": {
     "name": "#%% md\n"
    }
   },
   "source": [
    "### Task: Initialization"
   ]
  },
  {
   "cell_type": "code",
   "execution_count": 4,
   "metadata": {
    "pycharm": {
     "name": "#%%\n"
    }
   },
   "outputs": [],
   "source": [
    "T_of_F = lambda sample_: (np.quantile(sample_, .75) - np.quantile(sample_, .25)) / 1.34"
   ]
  },
  {
   "cell_type": "markdown",
   "metadata": {},
   "source": [
    "### Task: Let $$X1, . . . ,Xn ∼ t3, n = 25$$"
   ]
  },
  {
   "cell_type": "code",
   "execution_count": 5,
   "metadata": {
    "pycharm": {
     "name": "#%%\n"
    }
   },
   "outputs": [],
   "source": [
    "n = 25\n",
    "sample = np.sort(t.rvs(3, size = n))"
   ]
  },
  {
   "cell_type": "markdown",
   "metadata": {},
   "source": [
    "### Task:\n",
    "Construct the three types of bootstrap 95% intervals for $$T(F)$$ from the data $$X_1, . . . ,X_n$$."
   ]
  },
  {
   "cell_type": "code",
   "execution_count": 8,
   "metadata": {
    "pycharm": {
     "name": "#%%\n"
    }
   },
   "outputs": [
    {
     "name": "stdout",
     "output_type": "stream",
     "text": [
      "Plug-in estimate for theta: theta_hat = 1.1572049013584185\n",
      "Bootstrap std. error estimate = 0.2983673990829605\n",
      "Normal method CI:(0.5724155449949268, 1.74199425772191)\n",
      "Percentile method CI: (0.3850859617718756, 1.5353152182075787)\n",
      "Pivotal method CI: (0.7790945845092583, 1.9293238409449613)\n"
     ]
    }
   ],
   "source": [
    "bootstrap_repetitions = 9999\n",
    "bootstrap_estimations = list()\n",
    "for i in range(bootstrap_repetitions):\n",
    "    bootstrap_sample = np.random.choice(sample, size = len(sample), replace = True)\n",
    "    bootstrap_estimations.append(T_of_F(bootstrap_sample))\n",
    "bootstrap_estimations = np.sort(bootstrap_estimations)\n",
    "theta_hat = T_of_F(sample)\n",
    "se_hat = np.array(bootstrap_estimations).std()\n",
    "print(f'Plug-in estimate for theta: theta_hat = {theta_hat}')\n",
    "print(f'Bootstrap std. error estimate = {se_hat}')\n",
    "\n",
    "alpha = 0.05\n",
    "# Normal method\n",
    "z = norm.ppf(1-alpha/2)\n",
    "normal_upper_bound = theta_hat + se_hat * z\n",
    "normal_lower_bound = theta_hat - se_hat * z\n",
    "print(f'Normal method CI:({normal_lower_bound}, {normal_upper_bound})')\n",
    "# Percentile method\n",
    "percentile_upper_bound = np.quantile(bootstrap_estimations, 1 - alpha/2)\n",
    "percentile_lower_bound = np.quantile(bootstrap_estimations, alpha/2)\n",
    "print(f'Percentile method CI: ({percentile_lower_bound}, {percentile_upper_bound})')\n",
    "# Pivotal method\n",
    "pivotal_lower_bound = 2*theta_hat - np.quantile(bootstrap_estimations, 1-alpha/2)\n",
    "pivotal_upper_bound = 2*theta_hat - np.quantile(bootstrap_estimations, alpha/2)\n",
    "print(f'Pivotal method CI: ({pivotal_lower_bound}, {pivotal_upper_bound})')"
   ]
  },
  {
   "cell_type": "markdown",
   "metadata": {},
   "source": [
    "### Task: Repeat this whole thing many times and estimate the true coverage of the three intervals."
   ]
  },
  {
   "cell_type": "code",
   "execution_count": 7,
   "metadata": {
    "pycharm": {
     "name": "#%%\n"
    }
   },
   "outputs": [
    {
     "name": "stdout",
     "output_type": "stream",
     "text": [
      "The normal method has a coverage of 0.9291%\n",
      "The percentile method has a coverage of 0.9421%\n",
      "The pivotal method has a coverage of 0.779%\n"
     ]
    }
   ],
   "source": [
    "num_repeats = 9999\n",
    "coverage = dict(\n",
    "    normal = 0,\n",
    "    percentile = 0,\n",
    "    pivotal = 0\n",
    ")\n",
    "\n",
    "for _ in range(num_repeats):\n",
    "    bootstrap_sample = np.random.choice(sample, size = len(sample), replace = True)\n",
    "    bootstrap_sample_theta_hat = T_of_F(bootstrap_sample)\n",
    "\n",
    "    if normal_lower_bound < bootstrap_sample_theta_hat < normal_upper_bound:\n",
    "        coverage['normal'] += 1\n",
    "    if pivotal_lower_bound < bootstrap_sample_theta_hat < pivotal_upper_bound:\n",
    "        coverage['pivotal'] += 1\n",
    "    if percentile_lower_bound < bootstrap_sample_theta_hat < percentile_upper_bound:\n",
    "        coverage['percentile'] += 1\n",
    "\n",
    "coverage['normal'] /= num_repeats\n",
    "coverage['percentile'] /= num_repeats\n",
    "coverage['pivotal'] /= num_repeats\n",
    "\n",
    "for method, coverage_pct in coverage.items():\n",
    "    print(f'The {method} method has a coverage of {np.round(coverage_pct,4)}%')"
   ]
  },
  {
   "cell_type": "code",
   "execution_count": 7,
   "metadata": {
    "pycharm": {
     "name": "#%%\n"
    }
   },
   "outputs": [],
   "source": []
  },
  {
   "cell_type": "code",
   "execution_count": null,
   "metadata": {
    "pycharm": {
     "name": "#%%\n"
    }
   },
   "outputs": [],
   "source": []
  }
 ],
 "metadata": {
  "kernelspec": {
   "display_name": "Python 3",
   "language": "python",
   "name": "python3"
  },
  "language_info": {
   "codemirror_mode": {
    "name": "ipython",
    "version": 3
   },
   "file_extension": ".py",
   "mimetype": "text/x-python",
   "name": "python",
   "nbconvert_exporter": "python",
   "pygments_lexer": "ipython3",
   "version": "3.8.3"
  }
 },
 "nbformat": 4,
 "nbformat_minor": 1
}
