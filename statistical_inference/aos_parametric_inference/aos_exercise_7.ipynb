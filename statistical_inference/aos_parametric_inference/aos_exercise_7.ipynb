{
 "cells": [
  {
   "cell_type": "code",
   "execution_count": 14,
   "metadata": {
    "collapsed": true
   },
   "outputs": [],
   "source": [
    "import numpy as np\n",
    "from scipy.stats import norm, binom\n",
    "n = 200\n",
    "X1 = 160\n",
    "X2 = 148"
   ]
  },
  {
   "cell_type": "code",
   "execution_count": 15,
   "outputs": [
    {
     "name": "stdout",
     "output_type": "stream",
     "text": [
      "psi_hat = 0.06000000000000005\n"
     ]
    }
   ],
   "source": [
    "p1_hat = X1/n\n",
    "p2_hat = X2/n\n",
    "psi_hat = p1_hat - p2_hat\n",
    "print(f'psi_hat = {psi_hat}')"
   ],
   "metadata": {
    "collapsed": false,
    "pycharm": {
     "name": "#%%\n"
    }
   }
  },
  {
   "cell_type": "code",
   "execution_count": 16,
   "outputs": [
    {
     "name": "stdout",
     "output_type": "stream",
     "text": [
      "se_psi_hat_parametric = 0.0408224644038059\n",
      "Normal method parametric CI:(-0.020010559991627888, 0.14001055999162798)\n",
      "se_psi_hat_delta = 0.04197618372363071\n",
      "Normal method delta CI:(-0.022271808306752558, 0.14227180830675268)\n"
     ]
    }
   ],
   "source": [
    "bootstrap_repetitions = 1000\n",
    "param_bootstrap_estimations = list()\n",
    "for i in range(bootstrap_repetitions):\n",
    "    # parametric - sampling from estimated distribution\n",
    "    param_bootstrap_sample_treatment1 = binom.rvs(n, p1_hat)\n",
    "    param_bootstrap_sample_treatment2 = binom.rvs(n, p2_hat)\n",
    "    bootstrap_p1_hat = param_bootstrap_sample_treatment1 / n\n",
    "    bootstrap_p2_hat = param_bootstrap_sample_treatment2 / n\n",
    "    param_bootstrap_estimations.append(bootstrap_p1_hat - bootstrap_p2_hat)\n",
    "param_bootstrap_estimations = np.sort(param_bootstrap_estimations)\n",
    "se_psi_hat_parametric = param_bootstrap_estimations.std()\n",
    "print(f'se_psi_hat_parametric = {se_psi_hat_parametric}')\n",
    "\n",
    "alpha = 0.05\n",
    "z = norm.ppf(1-alpha/2)\n",
    "param_normal_upper_bound = psi_hat + se_psi_hat_parametric * z\n",
    "param_normal_lower_bound = psi_hat - se_psi_hat_parametric * z\n",
    "print(f'Normal method parametric CI:({param_normal_lower_bound}, {param_normal_upper_bound})')\n",
    "\n",
    "se_psi_hat_delta = np.sqrt(p1_hat*(1-p1_hat)/n + p2_hat*(1-p2_hat)/n)\n",
    "print(f'se_psi_hat_delta = {se_psi_hat_delta}')\n",
    "delta_normal_upper_bound = psi_hat + se_psi_hat_delta * z\n",
    "delta_normal_lower_bound = psi_hat - se_psi_hat_delta * z\n",
    "print(f'Normal method delta CI:({delta_normal_lower_bound}, {delta_normal_upper_bound})')"
   ],
   "metadata": {
    "collapsed": false,
    "pycharm": {
     "name": "#%%\n"
    }
   }
  },
  {
   "cell_type": "code",
   "execution_count": null,
   "outputs": [],
   "source": [],
   "metadata": {
    "collapsed": false,
    "pycharm": {
     "name": "#%%\n"
    }
   }
  }
 ],
 "metadata": {
  "kernelspec": {
   "display_name": "Python 3",
   "language": "python",
   "name": "python3"
  },
  "language_info": {
   "codemirror_mode": {
    "name": "ipython",
    "version": 2
   },
   "file_extension": ".py",
   "mimetype": "text/x-python",
   "name": "python",
   "nbconvert_exporter": "python",
   "pygments_lexer": "ipython2",
   "version": "2.7.6"
  }
 },
 "nbformat": 4,
 "nbformat_minor": 0
}