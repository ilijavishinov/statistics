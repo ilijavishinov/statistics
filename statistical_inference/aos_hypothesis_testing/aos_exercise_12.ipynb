{
 "cells": [
  {
   "cell_type": "code",
   "execution_count": 2,
   "metadata": {
    "collapsed": true
   },
   "outputs": [],
   "source": [
    "import numpy as np\n",
    "from scipy.stats import norm, t, poisson\n",
    "import plotly.express as px\n",
    "import plotly.graph_objects as go"
   ]
  },
  {
   "cell_type": "code",
   "execution_count": 7,
   "metadata": {
    "pycharm": {
     "name": "#%%\n"
    }
   },
   "outputs": [],
   "source": [
    "lambda_0 = 1\n",
    "n = 20\n",
    "alpha = 0.05\n",
    "z_alpha_half = norm.ppf(1-alpha/2)"
   ]
  },
  {
   "cell_type": "code",
   "execution_count": 10,
   "metadata": {
    "pycharm": {
     "name": "#%%\n"
    }
   },
   "outputs": [
    {
     "name": "stdout",
     "output_type": "stream",
     "text": [
      "Wald test rejection of null: False\n"
     ]
    }
   ],
   "source": [
    "X = poisson.rvs(lambda_0, size = n)\n",
    "lambda_hat = np.mean(X)\n",
    "null_rejected = np.abs((lambda_hat - lambda_0)/np.sqrt(lambda_hat/n)) > z_alpha_half\n",
    "print(f'Wald test rejection of null: {null_rejected}')"
   ]
  },
  {
   "cell_type": "code",
   "execution_count": 12,
   "metadata": {
    "pycharm": {
     "name": "#%%\n"
    }
   },
   "outputs": [
    {
     "name": "stdout",
     "output_type": "stream",
     "text": [
      "Type I error rate = 0.0501050105010501\n"
     ]
    }
   ],
   "source": [
    "num_repetitions = 9999\n",
    "num_rejections = 0\n",
    "\n",
    "for i in range(num_repetitions):\n",
    "    X = poisson.rvs(lambda_0, size = n)\n",
    "    lambda_hat = np.mean(X)\n",
    "    null_rejected = np.abs((lambda_hat - lambda_0)/np.sqrt(lambda_hat/n)) > z_alpha_half\n",
    "\n",
    "    if null_rejected:\n",
    "        num_rejections += 1\n",
    "\n",
    "print(f'Type I error rate = {num_rejections / num_repetitions}')"
   ]
  },
  {
   "cell_type": "code",
   "execution_count": 5,
   "outputs": [],
   "source": [],
   "metadata": {
    "collapsed": false,
    "pycharm": {
     "name": "#%%\n"
    }
   }
  },
  {
   "cell_type": "code",
   "execution_count": null,
   "outputs": [],
   "source": [],
   "metadata": {
    "collapsed": false,
    "pycharm": {
     "name": "#%%\n"
    }
   }
  },
  {
   "cell_type": "code",
   "execution_count": null,
   "outputs": [],
   "source": [],
   "metadata": {
    "collapsed": false,
    "pycharm": {
     "name": "#%%\n"
    }
   }
  }
 ],
 "metadata": {
  "kernelspec": {
   "display_name": "Python 3",
   "language": "python",
   "name": "python3"
  },
  "language_info": {
   "codemirror_mode": {
    "name": "ipython",
    "version": 3
   },
   "file_extension": ".py",
   "mimetype": "text/x-python",
   "name": "python",
   "nbconvert_exporter": "python",
   "pygments_lexer": "ipython3",
   "version": "3.8.3"
  }
 },
 "nbformat": 4,
 "nbformat_minor": 1
}