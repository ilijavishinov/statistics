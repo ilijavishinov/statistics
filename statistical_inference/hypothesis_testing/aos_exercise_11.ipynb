{
 "cells": [
  {
   "cell_type": "code",
   "execution_count": 16,
   "metadata": {},
   "outputs": [],
   "source": [
    "import numpy as np\n",
    "from scipy.stats import norm, t\n",
    "import plotly.express as px\n",
    "import plotly.graph_objects as go\n",
    "import pandas as pd"
   ]
  },
  {
   "cell_type": "markdown",
   "metadata": {
    "pycharm": {
     "name": "#%% md\n"
    }
   },
   "source": [
    "A randomized, double-blind experiment was conducted to assess the\n",
    "effectiveness of several drugs for reducing postoperative nausea. The\n",
    "data are as follows. (read from file)\n",
    "\n",
    "(a) Test each drug versus the placebo at the 5 per cent level. Also, report\n",
    "the estimated odds–ratios. Summarize your findings.\n",
    "(b) Use the Bonferroni and the FDR method to adjust for multiple\n",
    "testing. (Beecher (1959))."
   ]
  },
  {
   "cell_type": "code",
   "execution_count": 17,
   "metadata": {
    "pycharm": {
     "name": "#%%\n"
    }
   },
   "outputs": [
    {
     "data": {
      "text/plain": "                                   Treatment  Number of Patients  \\\nPlacebo                              Placebo                  80   \nChlorpromazine                Chlorpromazine                  75   \nDimenhydrinate                Dimenhydrinate                  85   \nPentobarbital (100mg)  Pentobarbital (100mg)                  67   \nPentobarbital (150mg)  Pentobarbital (150mg)                  85   \n\n                       Incidence of Nausea  \nPlacebo                                 45  \nChlorpromazine                          26  \nDimenhydrinate                          52  \nPentobarbital (100mg)                   35  \nPentobarbital (150mg)                   37  ",
      "text/html": "<div>\n<style scoped>\n    .dataframe tbody tr th:only-of-type {\n        vertical-align: middle;\n    }\n\n    .dataframe tbody tr th {\n        vertical-align: top;\n    }\n\n    .dataframe thead th {\n        text-align: right;\n    }\n</style>\n<table border=\"1\" class=\"dataframe\">\n  <thead>\n    <tr style=\"text-align: right;\">\n      <th></th>\n      <th>Treatment</th>\n      <th>Number of Patients</th>\n      <th>Incidence of Nausea</th>\n    </tr>\n  </thead>\n  <tbody>\n    <tr>\n      <th>Placebo</th>\n      <td>Placebo</td>\n      <td>80</td>\n      <td>45</td>\n    </tr>\n    <tr>\n      <th>Chlorpromazine</th>\n      <td>Chlorpromazine</td>\n      <td>75</td>\n      <td>26</td>\n    </tr>\n    <tr>\n      <th>Dimenhydrinate</th>\n      <td>Dimenhydrinate</td>\n      <td>85</td>\n      <td>52</td>\n    </tr>\n    <tr>\n      <th>Pentobarbital (100mg)</th>\n      <td>Pentobarbital (100mg)</td>\n      <td>67</td>\n      <td>35</td>\n    </tr>\n    <tr>\n      <th>Pentobarbital (150mg)</th>\n      <td>Pentobarbital (150mg)</td>\n      <td>85</td>\n      <td>37</td>\n    </tr>\n  </tbody>\n</table>\n</div>"
     },
     "execution_count": 17,
     "metadata": {},
     "output_type": "execute_result"
    }
   ],
   "source": [
    "data = pd.read_excel('../data/nausea.xlsx', index_col = False, engine = 'openpyxl')\n",
    "data.index = data['Treatment'].values\n",
    "data"
   ]
  },
  {
   "cell_type": "code",
   "execution_count": 18,
   "metadata": {
    "pycharm": {
     "name": "#%%\n"
    }
   },
   "outputs": [
    {
     "data": {
      "text/plain": "                                   Treatment  Number of Patients  \\\nPlacebo                              Placebo                  80   \nChlorpromazine                Chlorpromazine                  75   \nDimenhydrinate                Dimenhydrinate                  85   \nPentobarbital (100mg)  Pentobarbital (100mg)                  67   \nPentobarbital (150mg)  Pentobarbital (150mg)                  85   \n\n                       Incidence of Nausea        p^  \nPlacebo                                 45  0.562500  \nChlorpromazine                          26  0.346667  \nDimenhydrinate                          52  0.611765  \nPentobarbital (100mg)                   35  0.522388  \nPentobarbital (150mg)                   37  0.435294  ",
      "text/html": "<div>\n<style scoped>\n    .dataframe tbody tr th:only-of-type {\n        vertical-align: middle;\n    }\n\n    .dataframe tbody tr th {\n        vertical-align: top;\n    }\n\n    .dataframe thead th {\n        text-align: right;\n    }\n</style>\n<table border=\"1\" class=\"dataframe\">\n  <thead>\n    <tr style=\"text-align: right;\">\n      <th></th>\n      <th>Treatment</th>\n      <th>Number of Patients</th>\n      <th>Incidence of Nausea</th>\n      <th>p^</th>\n    </tr>\n  </thead>\n  <tbody>\n    <tr>\n      <th>Placebo</th>\n      <td>Placebo</td>\n      <td>80</td>\n      <td>45</td>\n      <td>0.562500</td>\n    </tr>\n    <tr>\n      <th>Chlorpromazine</th>\n      <td>Chlorpromazine</td>\n      <td>75</td>\n      <td>26</td>\n      <td>0.346667</td>\n    </tr>\n    <tr>\n      <th>Dimenhydrinate</th>\n      <td>Dimenhydrinate</td>\n      <td>85</td>\n      <td>52</td>\n      <td>0.611765</td>\n    </tr>\n    <tr>\n      <th>Pentobarbital (100mg)</th>\n      <td>Pentobarbital (100mg)</td>\n      <td>67</td>\n      <td>35</td>\n      <td>0.522388</td>\n    </tr>\n    <tr>\n      <th>Pentobarbital (150mg)</th>\n      <td>Pentobarbital (150mg)</td>\n      <td>85</td>\n      <td>37</td>\n      <td>0.435294</td>\n    </tr>\n  </tbody>\n</table>\n</div>"
     },
     "execution_count": 18,
     "metadata": {},
     "output_type": "execute_result"
    }
   ],
   "source": [
    "data['p^'] = data['Incidence of Nausea'] / data['Number of Patients']\n",
    "data"
   ]
  },
  {
   "cell_type": "code",
   "execution_count": 19,
   "metadata": {
    "pycharm": {
     "name": "#%%\n"
    }
   },
   "outputs": [
    {
     "data": {
      "text/plain": "                                   Treatment  Number of Patients  \\\nPlacebo                              Placebo                  80   \nChlorpromazine                Chlorpromazine                  75   \nDimenhydrinate                Dimenhydrinate                  85   \nPentobarbital (100mg)  Pentobarbital (100mg)                  67   \nPentobarbital (150mg)  Pentobarbital (150mg)                  85   \n\n                       Incidence of Nausea        p^       se^  \nPlacebo                                 45  0.562500  0.003076  \nChlorpromazine                          26  0.346667  0.003020  \nDimenhydrinate                          52  0.611765  0.002794  \nPentobarbital (100mg)                   35  0.522388  0.003724  \nPentobarbital (150mg)                   37  0.435294  0.002892  ",
      "text/html": "<div>\n<style scoped>\n    .dataframe tbody tr th:only-of-type {\n        vertical-align: middle;\n    }\n\n    .dataframe tbody tr th {\n        vertical-align: top;\n    }\n\n    .dataframe thead th {\n        text-align: right;\n    }\n</style>\n<table border=\"1\" class=\"dataframe\">\n  <thead>\n    <tr style=\"text-align: right;\">\n      <th></th>\n      <th>Treatment</th>\n      <th>Number of Patients</th>\n      <th>Incidence of Nausea</th>\n      <th>p^</th>\n      <th>se^</th>\n    </tr>\n  </thead>\n  <tbody>\n    <tr>\n      <th>Placebo</th>\n      <td>Placebo</td>\n      <td>80</td>\n      <td>45</td>\n      <td>0.562500</td>\n      <td>0.003076</td>\n    </tr>\n    <tr>\n      <th>Chlorpromazine</th>\n      <td>Chlorpromazine</td>\n      <td>75</td>\n      <td>26</td>\n      <td>0.346667</td>\n      <td>0.003020</td>\n    </tr>\n    <tr>\n      <th>Dimenhydrinate</th>\n      <td>Dimenhydrinate</td>\n      <td>85</td>\n      <td>52</td>\n      <td>0.611765</td>\n      <td>0.002794</td>\n    </tr>\n    <tr>\n      <th>Pentobarbital (100mg)</th>\n      <td>Pentobarbital (100mg)</td>\n      <td>67</td>\n      <td>35</td>\n      <td>0.522388</td>\n      <td>0.003724</td>\n    </tr>\n    <tr>\n      <th>Pentobarbital (150mg)</th>\n      <td>Pentobarbital (150mg)</td>\n      <td>85</td>\n      <td>37</td>\n      <td>0.435294</td>\n      <td>0.002892</td>\n    </tr>\n  </tbody>\n</table>\n</div>"
     },
     "execution_count": 19,
     "metadata": {},
     "output_type": "execute_result"
    }
   ],
   "source": [
    "data['se^'] = data['p^'] * (1 - data['p^']) / data['Number of Patients']\n",
    "data"
   ]
  },
  {
   "cell_type": "code",
   "execution_count": 20,
   "metadata": {
    "pycharm": {
     "name": "#%%\n"
    }
   },
   "outputs": [],
   "source": [
    "p_hat_placebo = data.loc['Placebo', 'p^']\n",
    "se_hat_placebo = data.loc['Placebo', 'se^']"
   ]
  },
  {
   "cell_type": "code",
   "execution_count": 21,
   "metadata": {
    "pycharm": {
     "name": "#%%\n"
    }
   },
   "outputs": [
    {
     "data": {
      "text/plain": "                                   Treatment  Number of Patients  \\\nPlacebo                              Placebo                  80   \nChlorpromazine                Chlorpromazine                  75   \nDimenhydrinate                Dimenhydrinate                  85   \nPentobarbital (100mg)  Pentobarbital (100mg)                  67   \nPentobarbital (150mg)  Pentobarbital (150mg)                  85   \n\n                       Incidence of Nausea        p^       se^         W  \nPlacebo                                 45  0.562500  0.003076  0.000000  \nChlorpromazine                          26  0.346667  0.003020 -2.764364  \nDimenhydrinate                          52  0.611765  0.002794  0.642987  \nPentobarbital (100mg)                   35  0.522388  0.003724 -0.486428  \nPentobarbital (150mg)                   37  0.435294  0.002892 -1.646605  ",
      "text/html": "<div>\n<style scoped>\n    .dataframe tbody tr th:only-of-type {\n        vertical-align: middle;\n    }\n\n    .dataframe tbody tr th {\n        vertical-align: top;\n    }\n\n    .dataframe thead th {\n        text-align: right;\n    }\n</style>\n<table border=\"1\" class=\"dataframe\">\n  <thead>\n    <tr style=\"text-align: right;\">\n      <th></th>\n      <th>Treatment</th>\n      <th>Number of Patients</th>\n      <th>Incidence of Nausea</th>\n      <th>p^</th>\n      <th>se^</th>\n      <th>W</th>\n    </tr>\n  </thead>\n  <tbody>\n    <tr>\n      <th>Placebo</th>\n      <td>Placebo</td>\n      <td>80</td>\n      <td>45</td>\n      <td>0.562500</td>\n      <td>0.003076</td>\n      <td>0.000000</td>\n    </tr>\n    <tr>\n      <th>Chlorpromazine</th>\n      <td>Chlorpromazine</td>\n      <td>75</td>\n      <td>26</td>\n      <td>0.346667</td>\n      <td>0.003020</td>\n      <td>-2.764364</td>\n    </tr>\n    <tr>\n      <th>Dimenhydrinate</th>\n      <td>Dimenhydrinate</td>\n      <td>85</td>\n      <td>52</td>\n      <td>0.611765</td>\n      <td>0.002794</td>\n      <td>0.642987</td>\n    </tr>\n    <tr>\n      <th>Pentobarbital (100mg)</th>\n      <td>Pentobarbital (100mg)</td>\n      <td>67</td>\n      <td>35</td>\n      <td>0.522388</td>\n      <td>0.003724</td>\n      <td>-0.486428</td>\n    </tr>\n    <tr>\n      <th>Pentobarbital (150mg)</th>\n      <td>Pentobarbital (150mg)</td>\n      <td>85</td>\n      <td>37</td>\n      <td>0.435294</td>\n      <td>0.002892</td>\n      <td>-1.646605</td>\n    </tr>\n  </tbody>\n</table>\n</div>"
     },
     "execution_count": 21,
     "metadata": {},
     "output_type": "execute_result"
    }
   ],
   "source": [
    "data['W'] = (data['p^'] - p_hat_placebo) / np.sqrt(data['se^'] + se_hat_placebo)\n",
    "data"
   ]
  },
  {
   "cell_type": "code",
   "execution_count": 22,
   "metadata": {
    "pycharm": {
     "name": "#%%\n"
    }
   },
   "outputs": [
    {
     "data": {
      "text/plain": "                                   Treatment  Number of Patients  \\\nPlacebo                              Placebo                  80   \nChlorpromazine                Chlorpromazine                  75   \nDimenhydrinate                Dimenhydrinate                  85   \nPentobarbital (100mg)  Pentobarbital (100mg)                  67   \nPentobarbital (150mg)  Pentobarbital (150mg)                  85   \n\n                       Incidence of Nausea        p^       se^         W  \\\nPlacebo                                 45  0.562500  0.003076  0.000000   \nChlorpromazine                          26  0.346667  0.003020 -2.764364   \nDimenhydrinate                          52  0.611765  0.002794  0.642987   \nPentobarbital (100mg)                   35  0.522388  0.003724 -0.486428   \nPentobarbital (150mg)                   37  0.435294  0.002892 -1.646605   \n\n                        p-value  \nPlacebo                1.000000  \nChlorpromazine         0.005703  \nDimenhydrinate         0.520232  \nPentobarbital (100mg)  0.626664  \nPentobarbital (150mg)  0.099639  ",
      "text/html": "<div>\n<style scoped>\n    .dataframe tbody tr th:only-of-type {\n        vertical-align: middle;\n    }\n\n    .dataframe tbody tr th {\n        vertical-align: top;\n    }\n\n    .dataframe thead th {\n        text-align: right;\n    }\n</style>\n<table border=\"1\" class=\"dataframe\">\n  <thead>\n    <tr style=\"text-align: right;\">\n      <th></th>\n      <th>Treatment</th>\n      <th>Number of Patients</th>\n      <th>Incidence of Nausea</th>\n      <th>p^</th>\n      <th>se^</th>\n      <th>W</th>\n      <th>p-value</th>\n    </tr>\n  </thead>\n  <tbody>\n    <tr>\n      <th>Placebo</th>\n      <td>Placebo</td>\n      <td>80</td>\n      <td>45</td>\n      <td>0.562500</td>\n      <td>0.003076</td>\n      <td>0.000000</td>\n      <td>1.000000</td>\n    </tr>\n    <tr>\n      <th>Chlorpromazine</th>\n      <td>Chlorpromazine</td>\n      <td>75</td>\n      <td>26</td>\n      <td>0.346667</td>\n      <td>0.003020</td>\n      <td>-2.764364</td>\n      <td>0.005703</td>\n    </tr>\n    <tr>\n      <th>Dimenhydrinate</th>\n      <td>Dimenhydrinate</td>\n      <td>85</td>\n      <td>52</td>\n      <td>0.611765</td>\n      <td>0.002794</td>\n      <td>0.642987</td>\n      <td>0.520232</td>\n    </tr>\n    <tr>\n      <th>Pentobarbital (100mg)</th>\n      <td>Pentobarbital (100mg)</td>\n      <td>67</td>\n      <td>35</td>\n      <td>0.522388</td>\n      <td>0.003724</td>\n      <td>-0.486428</td>\n      <td>0.626664</td>\n    </tr>\n    <tr>\n      <th>Pentobarbital (150mg)</th>\n      <td>Pentobarbital (150mg)</td>\n      <td>85</td>\n      <td>37</td>\n      <td>0.435294</td>\n      <td>0.002892</td>\n      <td>-1.646605</td>\n      <td>0.099639</td>\n    </tr>\n  </tbody>\n</table>\n</div>"
     },
     "execution_count": 22,
     "metadata": {},
     "output_type": "execute_result"
    }
   ],
   "source": [
    "data['p-value'] = 2 * norm.cdf(-np.abs(data['W']))\n",
    "data"
   ]
  },
  {
   "cell_type": "code",
   "execution_count": 23,
   "metadata": {
    "pycharm": {
     "name": "#%%\n"
    }
   },
   "outputs": [
    {
     "data": {
      "text/plain": "                                   Treatment  Number of Patients  \\\nPlacebo                              Placebo                  80   \nChlorpromazine                Chlorpromazine                  75   \nDimenhydrinate                Dimenhydrinate                  85   \nPentobarbital (100mg)  Pentobarbital (100mg)                  67   \nPentobarbital (150mg)  Pentobarbital (150mg)                  85   \n\n                       Incidence of Nausea        p^       se^         W  \\\nPlacebo                                 45  0.562500  0.003076  0.000000   \nChlorpromazine                          26  0.346667  0.003020 -2.764364   \nDimenhydrinate                          52  0.611765  0.002794  0.642987   \nPentobarbital (100mg)                   35  0.522388  0.003724 -0.486428   \nPentobarbital (150mg)                   37  0.435294  0.002892 -1.646605   \n\n                        p-value  Rejected Regular  \nPlacebo                1.000000             False  \nChlorpromazine         0.005703              True  \nDimenhydrinate         0.520232             False  \nPentobarbital (100mg)  0.626664             False  \nPentobarbital (150mg)  0.099639             False  ",
      "text/html": "<div>\n<style scoped>\n    .dataframe tbody tr th:only-of-type {\n        vertical-align: middle;\n    }\n\n    .dataframe tbody tr th {\n        vertical-align: top;\n    }\n\n    .dataframe thead th {\n        text-align: right;\n    }\n</style>\n<table border=\"1\" class=\"dataframe\">\n  <thead>\n    <tr style=\"text-align: right;\">\n      <th></th>\n      <th>Treatment</th>\n      <th>Number of Patients</th>\n      <th>Incidence of Nausea</th>\n      <th>p^</th>\n      <th>se^</th>\n      <th>W</th>\n      <th>p-value</th>\n      <th>Rejected Regular</th>\n    </tr>\n  </thead>\n  <tbody>\n    <tr>\n      <th>Placebo</th>\n      <td>Placebo</td>\n      <td>80</td>\n      <td>45</td>\n      <td>0.562500</td>\n      <td>0.003076</td>\n      <td>0.000000</td>\n      <td>1.000000</td>\n      <td>False</td>\n    </tr>\n    <tr>\n      <th>Chlorpromazine</th>\n      <td>Chlorpromazine</td>\n      <td>75</td>\n      <td>26</td>\n      <td>0.346667</td>\n      <td>0.003020</td>\n      <td>-2.764364</td>\n      <td>0.005703</td>\n      <td>True</td>\n    </tr>\n    <tr>\n      <th>Dimenhydrinate</th>\n      <td>Dimenhydrinate</td>\n      <td>85</td>\n      <td>52</td>\n      <td>0.611765</td>\n      <td>0.002794</td>\n      <td>0.642987</td>\n      <td>0.520232</td>\n      <td>False</td>\n    </tr>\n    <tr>\n      <th>Pentobarbital (100mg)</th>\n      <td>Pentobarbital (100mg)</td>\n      <td>67</td>\n      <td>35</td>\n      <td>0.522388</td>\n      <td>0.003724</td>\n      <td>-0.486428</td>\n      <td>0.626664</td>\n      <td>False</td>\n    </tr>\n    <tr>\n      <th>Pentobarbital (150mg)</th>\n      <td>Pentobarbital (150mg)</td>\n      <td>85</td>\n      <td>37</td>\n      <td>0.435294</td>\n      <td>0.002892</td>\n      <td>-1.646605</td>\n      <td>0.099639</td>\n      <td>False</td>\n    </tr>\n  </tbody>\n</table>\n</div>"
     },
     "execution_count": 23,
     "metadata": {},
     "output_type": "execute_result"
    }
   ],
   "source": [
    "alpha = 0.05\n",
    "data['Rejected Regular'] = data['p-value'] < alpha\n",
    "data"
   ]
  },
  {
   "cell_type": "code",
   "execution_count": 24,
   "metadata": {
    "pycharm": {
     "name": "#%%\n"
    }
   },
   "outputs": [
    {
     "data": {
      "text/plain": "                                   Treatment  Number of Patients  \\\nPlacebo                              Placebo                  80   \nChlorpromazine                Chlorpromazine                  75   \nDimenhydrinate                Dimenhydrinate                  85   \nPentobarbital (100mg)  Pentobarbital (100mg)                  67   \nPentobarbital (150mg)  Pentobarbital (150mg)                  85   \n\n                       Incidence of Nausea        p^       se^         W  \\\nPlacebo                                 45  0.562500  0.003076  0.000000   \nChlorpromazine                          26  0.346667  0.003020 -2.764364   \nDimenhydrinate                          52  0.611765  0.002794  0.642987   \nPentobarbital (100mg)                   35  0.522388  0.003724 -0.486428   \nPentobarbital (150mg)                   37  0.435294  0.002892 -1.646605   \n\n                        p-value  Rejected Regular  Rejected Bonferroni  \nPlacebo                1.000000             False                False  \nChlorpromazine         0.005703              True                 True  \nDimenhydrinate         0.520232             False                False  \nPentobarbital (100mg)  0.626664             False                False  \nPentobarbital (150mg)  0.099639             False                False  ",
      "text/html": "<div>\n<style scoped>\n    .dataframe tbody tr th:only-of-type {\n        vertical-align: middle;\n    }\n\n    .dataframe tbody tr th {\n        vertical-align: top;\n    }\n\n    .dataframe thead th {\n        text-align: right;\n    }\n</style>\n<table border=\"1\" class=\"dataframe\">\n  <thead>\n    <tr style=\"text-align: right;\">\n      <th></th>\n      <th>Treatment</th>\n      <th>Number of Patients</th>\n      <th>Incidence of Nausea</th>\n      <th>p^</th>\n      <th>se^</th>\n      <th>W</th>\n      <th>p-value</th>\n      <th>Rejected Regular</th>\n      <th>Rejected Bonferroni</th>\n    </tr>\n  </thead>\n  <tbody>\n    <tr>\n      <th>Placebo</th>\n      <td>Placebo</td>\n      <td>80</td>\n      <td>45</td>\n      <td>0.562500</td>\n      <td>0.003076</td>\n      <td>0.000000</td>\n      <td>1.000000</td>\n      <td>False</td>\n      <td>False</td>\n    </tr>\n    <tr>\n      <th>Chlorpromazine</th>\n      <td>Chlorpromazine</td>\n      <td>75</td>\n      <td>26</td>\n      <td>0.346667</td>\n      <td>0.003020</td>\n      <td>-2.764364</td>\n      <td>0.005703</td>\n      <td>True</td>\n      <td>True</td>\n    </tr>\n    <tr>\n      <th>Dimenhydrinate</th>\n      <td>Dimenhydrinate</td>\n      <td>85</td>\n      <td>52</td>\n      <td>0.611765</td>\n      <td>0.002794</td>\n      <td>0.642987</td>\n      <td>0.520232</td>\n      <td>False</td>\n      <td>False</td>\n    </tr>\n    <tr>\n      <th>Pentobarbital (100mg)</th>\n      <td>Pentobarbital (100mg)</td>\n      <td>67</td>\n      <td>35</td>\n      <td>0.522388</td>\n      <td>0.003724</td>\n      <td>-0.486428</td>\n      <td>0.626664</td>\n      <td>False</td>\n      <td>False</td>\n    </tr>\n    <tr>\n      <th>Pentobarbital (150mg)</th>\n      <td>Pentobarbital (150mg)</td>\n      <td>85</td>\n      <td>37</td>\n      <td>0.435294</td>\n      <td>0.002892</td>\n      <td>-1.646605</td>\n      <td>0.099639</td>\n      <td>False</td>\n      <td>False</td>\n    </tr>\n  </tbody>\n</table>\n</div>"
     },
     "execution_count": 24,
     "metadata": {},
     "output_type": "execute_result"
    }
   ],
   "source": [
    "bonferroni_threshold = alpha / 4\n",
    "data['Rejected Bonferroni'] = data['p-value'] < bonferroni_threshold\n",
    "data"
   ]
  },
  {
   "cell_type": "code",
   "execution_count": 25,
   "metadata": {
    "pycharm": {
     "name": "#%%\n"
    }
   },
   "outputs": [
    {
     "data": {
      "text/plain": "array([0.00570339, 0.09963923, 0.52023237, 0.62666409])"
     },
     "execution_count": 25,
     "metadata": {},
     "output_type": "execute_result"
    }
   ],
   "source": [
    "ordered_pvalues = np.sort(data['p-value'][1:])\n",
    "ordered_pvalues"
   ]
  },
  {
   "cell_type": "code",
   "execution_count": 26,
   "metadata": {
    "pycharm": {
     "name": "#%%\n"
    }
   },
   "outputs": [
    {
     "data": {
      "text/plain": "[0.0125, 0.025, 0.037500000000000006, 0.05]"
     },
     "execution_count": 26,
     "metadata": {},
     "output_type": "execute_result"
    }
   ],
   "source": [
    "# p-values are independent\n",
    "# recheck this to make sure\n",
    "\n",
    "Cm = 1\n",
    "m = len(ordered_pvalues)\n",
    "l = [i*alpha / (Cm * m) for i in range(1, m+1)]\n",
    "l"
   ]
  },
  {
   "cell_type": "code",
   "execution_count": 27,
   "metadata": {
    "pycharm": {
     "name": "#%%\n"
    }
   },
   "outputs": [
    {
     "name": "stdout",
     "output_type": "stream",
     "text": [
      "1\n",
      "[False, True, False, False, False]\n"
     ]
    }
   ],
   "source": [
    "R = 0\n",
    "rejected_fdr = [False] # for the placebo\n",
    "for i in range(m):\n",
    "    if ordered_pvalues[i] < l[i]:\n",
    "        R = i+1\n",
    "        rejected_fdr.append(True)\n",
    "    else:\n",
    "        rejected_fdr.append(False)\n",
    "\n",
    "print(R)\n",
    "print(rejected_fdr)"
   ]
  },
  {
   "cell_type": "code",
   "execution_count": 28,
   "metadata": {
    "pycharm": {
     "name": "#%%\n"
    }
   },
   "outputs": [
    {
     "data": {
      "text/plain": "                                   Treatment  Number of Patients  \\\nPlacebo                              Placebo                  80   \nChlorpromazine                Chlorpromazine                  75   \nDimenhydrinate                Dimenhydrinate                  85   \nPentobarbital (100mg)  Pentobarbital (100mg)                  67   \nPentobarbital (150mg)  Pentobarbital (150mg)                  85   \n\n                       Incidence of Nausea        p^       se^         W  \\\nPlacebo                                 45  0.562500  0.003076  0.000000   \nChlorpromazine                          26  0.346667  0.003020 -2.764364   \nDimenhydrinate                          52  0.611765  0.002794  0.642987   \nPentobarbital (100mg)                   35  0.522388  0.003724 -0.486428   \nPentobarbital (150mg)                   37  0.435294  0.002892 -1.646605   \n\n                        p-value  Rejected Regular  Rejected Bonferroni  \\\nPlacebo                1.000000             False                False   \nChlorpromazine         0.005703              True                 True   \nDimenhydrinate         0.520232             False                False   \nPentobarbital (100mg)  0.626664             False                False   \nPentobarbital (150mg)  0.099639             False                False   \n\n                       Rejected FDR  \nPlacebo                       False  \nChlorpromazine                 True  \nDimenhydrinate                False  \nPentobarbital (100mg)         False  \nPentobarbital (150mg)         False  ",
      "text/html": "<div>\n<style scoped>\n    .dataframe tbody tr th:only-of-type {\n        vertical-align: middle;\n    }\n\n    .dataframe tbody tr th {\n        vertical-align: top;\n    }\n\n    .dataframe thead th {\n        text-align: right;\n    }\n</style>\n<table border=\"1\" class=\"dataframe\">\n  <thead>\n    <tr style=\"text-align: right;\">\n      <th></th>\n      <th>Treatment</th>\n      <th>Number of Patients</th>\n      <th>Incidence of Nausea</th>\n      <th>p^</th>\n      <th>se^</th>\n      <th>W</th>\n      <th>p-value</th>\n      <th>Rejected Regular</th>\n      <th>Rejected Bonferroni</th>\n      <th>Rejected FDR</th>\n    </tr>\n  </thead>\n  <tbody>\n    <tr>\n      <th>Placebo</th>\n      <td>Placebo</td>\n      <td>80</td>\n      <td>45</td>\n      <td>0.562500</td>\n      <td>0.003076</td>\n      <td>0.000000</td>\n      <td>1.000000</td>\n      <td>False</td>\n      <td>False</td>\n      <td>False</td>\n    </tr>\n    <tr>\n      <th>Chlorpromazine</th>\n      <td>Chlorpromazine</td>\n      <td>75</td>\n      <td>26</td>\n      <td>0.346667</td>\n      <td>0.003020</td>\n      <td>-2.764364</td>\n      <td>0.005703</td>\n      <td>True</td>\n      <td>True</td>\n      <td>True</td>\n    </tr>\n    <tr>\n      <th>Dimenhydrinate</th>\n      <td>Dimenhydrinate</td>\n      <td>85</td>\n      <td>52</td>\n      <td>0.611765</td>\n      <td>0.002794</td>\n      <td>0.642987</td>\n      <td>0.520232</td>\n      <td>False</td>\n      <td>False</td>\n      <td>False</td>\n    </tr>\n    <tr>\n      <th>Pentobarbital (100mg)</th>\n      <td>Pentobarbital (100mg)</td>\n      <td>67</td>\n      <td>35</td>\n      <td>0.522388</td>\n      <td>0.003724</td>\n      <td>-0.486428</td>\n      <td>0.626664</td>\n      <td>False</td>\n      <td>False</td>\n      <td>False</td>\n    </tr>\n    <tr>\n      <th>Pentobarbital (150mg)</th>\n      <td>Pentobarbital (150mg)</td>\n      <td>85</td>\n      <td>37</td>\n      <td>0.435294</td>\n      <td>0.002892</td>\n      <td>-1.646605</td>\n      <td>0.099639</td>\n      <td>False</td>\n      <td>False</td>\n      <td>False</td>\n    </tr>\n  </tbody>\n</table>\n</div>"
     },
     "execution_count": 28,
     "metadata": {},
     "output_type": "execute_result"
    }
   ],
   "source": [
    "data['Rejected FDR'] = rejected_fdr\n",
    "data"
   ]
  },
  {
   "cell_type": "code",
   "execution_count": 29,
   "metadata": {
    "pycharm": {
     "name": "#%%\n"
    }
   },
   "outputs": [
    {
     "data": {
      "text/plain": "                                   Treatment  Number of Patients  \\\nChlorpromazine                Chlorpromazine                  75   \nDimenhydrinate                Dimenhydrinate                  85   \nPentobarbital (100mg)  Pentobarbital (100mg)                  67   \nPentobarbital (150mg)  Pentobarbital (150mg)                  85   \n\n                       Incidence of Nausea        p^       se^         W  \\\nChlorpromazine                          26  0.346667  0.003020 -2.764364   \nDimenhydrinate                          52  0.611765  0.002794  0.642987   \nPentobarbital (100mg)                   35  0.522388  0.003724 -0.486428   \nPentobarbital (150mg)                   37  0.435294  0.002892 -1.646605   \n\n                        p-value  Rejected Regular  Rejected Bonferroni  \\\nChlorpromazine         0.005703              True                 True   \nDimenhydrinate         0.520232             False                False   \nPentobarbital (100mg)  0.626664             False                False   \nPentobarbital (150mg)  0.099639             False                False   \n\n                       Rejected FDR  \nChlorpromazine                 True  \nDimenhydrinate                False  \nPentobarbital (100mg)         False  \nPentobarbital (150mg)         False  ",
      "text/html": "<div>\n<style scoped>\n    .dataframe tbody tr th:only-of-type {\n        vertical-align: middle;\n    }\n\n    .dataframe tbody tr th {\n        vertical-align: top;\n    }\n\n    .dataframe thead th {\n        text-align: right;\n    }\n</style>\n<table border=\"1\" class=\"dataframe\">\n  <thead>\n    <tr style=\"text-align: right;\">\n      <th></th>\n      <th>Treatment</th>\n      <th>Number of Patients</th>\n      <th>Incidence of Nausea</th>\n      <th>p^</th>\n      <th>se^</th>\n      <th>W</th>\n      <th>p-value</th>\n      <th>Rejected Regular</th>\n      <th>Rejected Bonferroni</th>\n      <th>Rejected FDR</th>\n    </tr>\n  </thead>\n  <tbody>\n    <tr>\n      <th>Chlorpromazine</th>\n      <td>Chlorpromazine</td>\n      <td>75</td>\n      <td>26</td>\n      <td>0.346667</td>\n      <td>0.003020</td>\n      <td>-2.764364</td>\n      <td>0.005703</td>\n      <td>True</td>\n      <td>True</td>\n      <td>True</td>\n    </tr>\n    <tr>\n      <th>Dimenhydrinate</th>\n      <td>Dimenhydrinate</td>\n      <td>85</td>\n      <td>52</td>\n      <td>0.611765</td>\n      <td>0.002794</td>\n      <td>0.642987</td>\n      <td>0.520232</td>\n      <td>False</td>\n      <td>False</td>\n      <td>False</td>\n    </tr>\n    <tr>\n      <th>Pentobarbital (100mg)</th>\n      <td>Pentobarbital (100mg)</td>\n      <td>67</td>\n      <td>35</td>\n      <td>0.522388</td>\n      <td>0.003724</td>\n      <td>-0.486428</td>\n      <td>0.626664</td>\n      <td>False</td>\n      <td>False</td>\n      <td>False</td>\n    </tr>\n    <tr>\n      <th>Pentobarbital (150mg)</th>\n      <td>Pentobarbital (150mg)</td>\n      <td>85</td>\n      <td>37</td>\n      <td>0.435294</td>\n      <td>0.002892</td>\n      <td>-1.646605</td>\n      <td>0.099639</td>\n      <td>False</td>\n      <td>False</td>\n      <td>False</td>\n    </tr>\n  </tbody>\n</table>\n</div>"
     },
     "execution_count": 29,
     "metadata": {},
     "output_type": "execute_result"
    }
   ],
   "source": [
    "summary = data.iloc[1:]\n",
    "summary"
   ]
  },
  {
   "cell_type": "code",
   "execution_count": 29,
   "metadata": {
    "pycharm": {
     "name": "#%%\n"
    }
   },
   "outputs": [],
   "source": []
  }
 ],
 "metadata": {
  "kernelspec": {
   "display_name": "Python 3",
   "language": "python",
   "name": "python3"
  },
  "language_info": {
   "codemirror_mode": {
    "name": "ipython",
    "version": 3
   },
   "file_extension": ".py",
   "mimetype": "text/x-python",
   "name": "python",
   "nbconvert_exporter": "python",
   "pygments_lexer": "ipython3",
   "version": "3.8.3"
  }
 },
 "nbformat": 4,
 "nbformat_minor": 1
}