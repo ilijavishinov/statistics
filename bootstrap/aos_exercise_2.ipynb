{
 "cells": [
  {
   "cell_type": "markdown",
   "source": [
    "### All of Statistics - Chapter 8 Exercise 2\n",
    "\n",
    "Conduct a simulation to compare the various bootstrap confidence interval methods.\n",
    "Let n = 50 and let T(F) =\\int (x − µ)^3dF(x)/σ3 be the skewness.\n",
    "\n",
    "## Requirements:\n",
    "\n",
    "- Draw Y1,..., Yn ∼ N(0, 1) and set X_i = e^{Y_i}, i = 1,..., n.\n",
    "- Construct the three types of bootstrap 95% intervals for T(F) from the data X_1,...,X_n.\n",
    "- Repeat this whole thing many times and estimate the true coverage of the three intervals."
   ],
   "metadata": {
    "collapsed": false
   }
  },
  {
   "cell_type": "code",
   "execution_count": 2,
   "metadata": {
    "collapsed": true,
    "ExecuteTime": {
     "end_time": "2024-02-26T18:31:32.465898800Z",
     "start_time": "2024-02-26T18:31:32.451680800Z"
    }
   },
   "outputs": [],
   "source": [
    "import numpy as np\n",
    "from scipy.stats import norm\n",
    "import plotly.express as px\n",
    "import plotly.graph_objects as go"
   ]
  },
  {
   "cell_type": "markdown",
   "source": [],
   "metadata": {
    "collapsed": false,
    "pycharm": {
     "name": "#%% md\n"
    }
   }
  },
  {
   "cell_type": "code",
   "execution_count": 10,
   "outputs": [],
   "source": [
    "def skewness(sample_):\n",
    "    n = len(sample_)\n",
    "    mu = sum(sample_) / n\n",
    "    var = sum((sample_ - mu)**2) / n\n",
    "    return sum((sample_ - mu)**3 / (n * var**(3/2)))"
   ],
   "metadata": {
    "collapsed": false,
    "pycharm": {
     "name": "#%%\n"
    }
   }
  },
  {
   "cell_type": "markdown",
   "source": [
    "### Task: Draw Y1, . . . , Yn ∼ N(0, 1)$$ and set $$X_i = e^{Y_i}, i = 1, . . . , n$$."
   ],
   "metadata": {
    "collapsed": false
   }
  },
  {
   "cell_type": "code",
   "execution_count": 11,
   "outputs": [],
   "source": [
    "n = 50\n",
    "sample = np.exp(norm.rvs(loc = 0, scale = 1, size = 50))"
   ],
   "metadata": {
    "collapsed": false,
    "pycharm": {
     "name": "#%%\n"
    }
   }
  },
  {
   "cell_type": "markdown",
   "source": [
    "### Task: Construct the three types of bootstrap 95% intervals for $$T(F)$$ from the data $$X_1, . . . ,X_n$$."
   ],
   "metadata": {
    "collapsed": false
   }
  },
  {
   "cell_type": "code",
   "execution_count": 13,
   "outputs": [
    {
     "name": "stdout",
     "output_type": "stream",
     "text": [
      "Plug-in estimate for the skewness: skew_hat = 3.0362632057221073\n",
      "Bootstrap std. error estimate = 0.7025490656702861\n",
      "Normal method CI:(1.6592923396360812, 4.413234071808134)\n",
      "Percentile method CI: (1.7293946139347696, 4.493435131414713)\n",
      "Pivotal method CI: (1.5790912800295018, 4.343131797509445)\n"
     ]
    }
   ],
   "source": [
    "bootstrap_repetitions = 9999\n",
    "bootstrap_estimations = list()\n",
    "for i in range(bootstrap_repetitions):\n",
    "    bootstrap_sample = np.random.choice(sample, size = len(sample), replace = True)\n",
    "    bootstrap_estimations.append(skewness(bootstrap_sample))\n",
    "bootstrap_estimations = np.sort(bootstrap_estimations)\n",
    "skewness_hat = skewness(sample)\n",
    "se_hat = np.array(bootstrap_estimations).std()\n",
    "print(f'Plug-in estimate for the skewness: skew_hat = {skewness_hat}')\n",
    "print(f'Bootstrap std. error estimate = {se_hat}')\n",
    "\n",
    "alpha = 0.05\n",
    "\n",
    "# Normal method\n",
    "z = norm.ppf(1-alpha/2)\n",
    "normal_upper_bound = skewness_hat + se_hat * z\n",
    "normal_lower_bound = skewness_hat - se_hat * z\n",
    "print(f'Normal method CI:({normal_lower_bound}, {normal_upper_bound})')\n",
    "\n",
    "# Percentile method\n",
    "percentile_upper_bound = np.quantile(bootstrap_estimations, 1 - alpha/2)\n",
    "percentile_lower_bound = np.quantile(bootstrap_estimations, alpha/2)\n",
    "print(f'Percentile method CI: ({percentile_lower_bound}, {percentile_upper_bound})')\n",
    "\n",
    "# Pivotal method\n",
    "pivotal_lower_bound = 2*skewness_hat - np.quantile(bootstrap_estimations, 1-alpha/2)\n",
    "pivotal_upper_bound = 2*skewness_hat - np.quantile(bootstrap_estimations, alpha/2)\n",
    "print(f'Pivotal method CI: ({pivotal_lower_bound}, {pivotal_upper_bound})')"
   ],
   "metadata": {
    "collapsed": false,
    "pycharm": {
     "name": "#%%\n"
    }
   }
  },
  {
   "cell_type": "markdown",
   "source": [
    "### Task: Repeat this whole thing many times and estimate the true coverage of the three intervals."
   ],
   "metadata": {
    "collapsed": false,
    "pycharm": {
     "name": "#%% md\n"
    }
   }
  },
  {
   "cell_type": "code",
   "execution_count": 15,
   "outputs": [
    {
     "name": "stdout",
     "output_type": "stream",
     "text": [
      "The normal method has a coverage of 0.9532%\n",
      "The percentile method has a coverage of 0.9527%\n",
      "The pivotal method has a coverage of 0.9542%\n"
     ]
    }
   ],
   "source": [
    "num_repeats = 9999\n",
    "coverage = dict(\n",
    "    normal = 0,\n",
    "    percentile = 0,\n",
    "    pivotal = 0\n",
    ")\n",
    "\n",
    "for i in range(num_repeats):\n",
    "    bootstrap_sample = np.random.choice(sample, size = len(sample), replace = True)\n",
    "    bootstrap_sample_skewness = skewness(bootstrap_sample)\n",
    "    \n",
    "    if normal_lower_bound < bootstrap_sample_skewness < normal_upper_bound:\n",
    "        coverage['normal'] += 1\n",
    "    if pivotal_lower_bound < bootstrap_sample_skewness < pivotal_upper_bound:\n",
    "        coverage['pivotal'] += 1\n",
    "    if percentile_lower_bound < bootstrap_sample_skewness < percentile_upper_bound:\n",
    "        coverage['percentile'] += 1\n",
    "    \n",
    "coverage['normal'] /= num_repeats\n",
    "coverage['percentile'] /= num_repeats\n",
    "coverage['pivotal'] /= num_repeats\n",
    "\n",
    "for method, coverage_pct in coverage.items():\n",
    "    print(f'The {method} method has a coverage of {np.round(coverage_pct,4)}%')"
   ],
   "metadata": {
    "collapsed": false,
    "pycharm": {
     "name": "#%%\n"
    }
   }
  },
  {
   "cell_type": "code",
   "source": [],
   "metadata": {
    "collapsed": false,
    "pycharm": {
     "name": "#%%\n"
    }
   },
   "execution_count": 9,
   "outputs": []
  },
  {
   "cell_type": "code",
   "execution_count": 9,
   "outputs": [],
   "source": [],
   "metadata": {
    "collapsed": false,
    "pycharm": {
     "name": "#%%\n"
    }
   }
  },
  {
   "cell_type": "code",
   "execution_count": null,
   "outputs": [],
   "source": [],
   "metadata": {
    "collapsed": false,
    "pycharm": {
     "name": "#%%\n"
    }
   }
  }
 ],
 "metadata": {
  "kernelspec": {
   "display_name": "Python 3",
   "language": "python",
   "name": "python3"
  },
  "language_info": {
   "codemirror_mode": {
    "name": "ipython",
    "version": 2
   },
   "file_extension": ".py",
   "mimetype": "text/x-python",
   "name": "python",
   "nbconvert_exporter": "python",
   "pygments_lexer": "ipython2",
   "version": "2.7.6"
  }
 },
 "nbformat": 4,
 "nbformat_minor": 0
}
