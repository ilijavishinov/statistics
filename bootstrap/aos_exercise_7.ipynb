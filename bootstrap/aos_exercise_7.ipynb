{
 "cells": [
  {
   "cell_type": "markdown",
   "source": [
    "### All of Statistics - Chapter 8 Exercise 7\n",
    "\n",
    "Let X1, ...,Xn ∼ Uniform(0, θ). Let 1θ= Xmax = max{X1, ...,Xn}. Generate a data set of size 50 with θ = 1.\n",
    "(a) Find the distribution of 1θ. Compare the true distribution of 1θ to the histograms from the bootstrap.\n",
    "b) This is a case where the bootstrap does very poorly. In fact, we can prove that this is the case. Show that P(1θ = 1θ) = 0 and yet P(1θ∗ =\n",
    "θ1) ≈ .632. Hint: show that, P(1θ∗ = 1θ) = 1 − (1 − (1/n))^n then take the limit as n gets large."
   ],
   "metadata": {
    "collapsed": false
   }
  },
  {
   "cell_type": "code",
   "execution_count": 26,
   "metadata": {
    "collapsed": true
   },
   "outputs": [],
   "source": [
    "import numpy as np\n",
    "from scipy.stats import norm, t, uniform\n",
    "import plotly.express as px\n",
    "import plotly.graph_objects as go"
   ]
  },
  {
   "cell_type": "code",
   "execution_count": 27,
   "metadata": {
    "pycharm": {
     "name": "#%%\n"
    }
   },
   "outputs": [
    {
     "data": {
      "application/vnd.plotly.v1+json": {
       "data": [
        {
         "alignmentgroup": "True",
         "bingroup": "x",
         "hovertemplate": "variable=0<br>value=%{x}<br>count=%{y}<extra></extra>",
         "legendgroup": "0",
         "marker": {
          "color": "#636efa",
          "pattern": {
           "shape": ""
          }
         },
         "name": "0",
         "nbinsx": 40,
         "offsetgroup": "0",
         "orientation": "v",
         "showlegend": true,
         "x": [
          0.12910999463064754,
          0.29383012216880067,
          0.9974339703489046,
          0.35299586258249727,
          0.8059833967229748,
          0.3693164318926595,
          0.9977944257829237,
          0.05766054153550981,
          0.0162978490686303,
          0.20363255496231802,
          0.6971164968856038,
          0.2331592709015985,
          0.985103676015227,
          0.14832668461680476,
          0.8494849157043562,
          0.38127245189321435,
          0.7076450834273665,
          0.18420986942127227,
          0.5533762809281964,
          0.5793793927085755,
          0.2840517771007903,
          0.5942458196793005,
          0.3392421529613292,
          0.6787548765253565,
          0.7737329354776916,
          0.13235437358734803,
          0.16787341548856283,
          0.863513879795488,
          0.7431197077862264,
          0.14007840872896216,
          0.7414734545843065,
          0.780474210828555,
          0.9920364361901777,
          0.22482912988227366,
          0.45069024474714825,
          0.129280541490438,
          0.48005939637118444,
          0.7370404362518678,
          0.23370522841462305,
          0.49068163386917363,
          0.15443497398197847,
          0.6279048874370425,
          0.6837507647916732,
          0.9330248753440699,
          0.7740794545231651,
          0.7132166893292942,
          0.9207490851848662,
          0.32561470602637654,
          0.3710974825407778,
          0.8220731837692471
         ],
         "xaxis": "x",
         "yaxis": "y",
         "type": "histogram"
        }
       ],
       "layout": {
        "template": {
         "data": {
          "bar": [
           {
            "error_x": {
             "color": "#2a3f5f"
            },
            "error_y": {
             "color": "#2a3f5f"
            },
            "marker": {
             "line": {
              "color": "#E5ECF6",
              "width": 0.5
             },
             "pattern": {
              "fillmode": "overlay",
              "size": 10,
              "solidity": 0.2
             }
            },
            "type": "bar"
           }
          ],
          "barpolar": [
           {
            "marker": {
             "line": {
              "color": "#E5ECF6",
              "width": 0.5
             },
             "pattern": {
              "fillmode": "overlay",
              "size": 10,
              "solidity": 0.2
             }
            },
            "type": "barpolar"
           }
          ],
          "carpet": [
           {
            "aaxis": {
             "endlinecolor": "#2a3f5f",
             "gridcolor": "white",
             "linecolor": "white",
             "minorgridcolor": "white",
             "startlinecolor": "#2a3f5f"
            },
            "baxis": {
             "endlinecolor": "#2a3f5f",
             "gridcolor": "white",
             "linecolor": "white",
             "minorgridcolor": "white",
             "startlinecolor": "#2a3f5f"
            },
            "type": "carpet"
           }
          ],
          "choropleth": [
           {
            "colorbar": {
             "outlinewidth": 0,
             "ticks": ""
            },
            "type": "choropleth"
           }
          ],
          "contour": [
           {
            "colorbar": {
             "outlinewidth": 0,
             "ticks": ""
            },
            "colorscale": [
             [
              0.0,
              "#0d0887"
             ],
             [
              0.1111111111111111,
              "#46039f"
             ],
             [
              0.2222222222222222,
              "#7201a8"
             ],
             [
              0.3333333333333333,
              "#9c179e"
             ],
             [
              0.4444444444444444,
              "#bd3786"
             ],
             [
              0.5555555555555556,
              "#d8576b"
             ],
             [
              0.6666666666666666,
              "#ed7953"
             ],
             [
              0.7777777777777778,
              "#fb9f3a"
             ],
             [
              0.8888888888888888,
              "#fdca26"
             ],
             [
              1.0,
              "#f0f921"
             ]
            ],
            "type": "contour"
           }
          ],
          "contourcarpet": [
           {
            "colorbar": {
             "outlinewidth": 0,
             "ticks": ""
            },
            "type": "contourcarpet"
           }
          ],
          "heatmap": [
           {
            "colorbar": {
             "outlinewidth": 0,
             "ticks": ""
            },
            "colorscale": [
             [
              0.0,
              "#0d0887"
             ],
             [
              0.1111111111111111,
              "#46039f"
             ],
             [
              0.2222222222222222,
              "#7201a8"
             ],
             [
              0.3333333333333333,
              "#9c179e"
             ],
             [
              0.4444444444444444,
              "#bd3786"
             ],
             [
              0.5555555555555556,
              "#d8576b"
             ],
             [
              0.6666666666666666,
              "#ed7953"
             ],
             [
              0.7777777777777778,
              "#fb9f3a"
             ],
             [
              0.8888888888888888,
              "#fdca26"
             ],
             [
              1.0,
              "#f0f921"
             ]
            ],
            "type": "heatmap"
           }
          ],
          "heatmapgl": [
           {
            "colorbar": {
             "outlinewidth": 0,
             "ticks": ""
            },
            "colorscale": [
             [
              0.0,
              "#0d0887"
             ],
             [
              0.1111111111111111,
              "#46039f"
             ],
             [
              0.2222222222222222,
              "#7201a8"
             ],
             [
              0.3333333333333333,
              "#9c179e"
             ],
             [
              0.4444444444444444,
              "#bd3786"
             ],
             [
              0.5555555555555556,
              "#d8576b"
             ],
             [
              0.6666666666666666,
              "#ed7953"
             ],
             [
              0.7777777777777778,
              "#fb9f3a"
             ],
             [
              0.8888888888888888,
              "#fdca26"
             ],
             [
              1.0,
              "#f0f921"
             ]
            ],
            "type": "heatmapgl"
           }
          ],
          "histogram": [
           {
            "marker": {
             "pattern": {
              "fillmode": "overlay",
              "size": 10,
              "solidity": 0.2
             }
            },
            "type": "histogram"
           }
          ],
          "histogram2d": [
           {
            "colorbar": {
             "outlinewidth": 0,
             "ticks": ""
            },
            "colorscale": [
             [
              0.0,
              "#0d0887"
             ],
             [
              0.1111111111111111,
              "#46039f"
             ],
             [
              0.2222222222222222,
              "#7201a8"
             ],
             [
              0.3333333333333333,
              "#9c179e"
             ],
             [
              0.4444444444444444,
              "#bd3786"
             ],
             [
              0.5555555555555556,
              "#d8576b"
             ],
             [
              0.6666666666666666,
              "#ed7953"
             ],
             [
              0.7777777777777778,
              "#fb9f3a"
             ],
             [
              0.8888888888888888,
              "#fdca26"
             ],
             [
              1.0,
              "#f0f921"
             ]
            ],
            "type": "histogram2d"
           }
          ],
          "histogram2dcontour": [
           {
            "colorbar": {
             "outlinewidth": 0,
             "ticks": ""
            },
            "colorscale": [
             [
              0.0,
              "#0d0887"
             ],
             [
              0.1111111111111111,
              "#46039f"
             ],
             [
              0.2222222222222222,
              "#7201a8"
             ],
             [
              0.3333333333333333,
              "#9c179e"
             ],
             [
              0.4444444444444444,
              "#bd3786"
             ],
             [
              0.5555555555555556,
              "#d8576b"
             ],
             [
              0.6666666666666666,
              "#ed7953"
             ],
             [
              0.7777777777777778,
              "#fb9f3a"
             ],
             [
              0.8888888888888888,
              "#fdca26"
             ],
             [
              1.0,
              "#f0f921"
             ]
            ],
            "type": "histogram2dcontour"
           }
          ],
          "mesh3d": [
           {
            "colorbar": {
             "outlinewidth": 0,
             "ticks": ""
            },
            "type": "mesh3d"
           }
          ],
          "parcoords": [
           {
            "line": {
             "colorbar": {
              "outlinewidth": 0,
              "ticks": ""
             }
            },
            "type": "parcoords"
           }
          ],
          "pie": [
           {
            "automargin": true,
            "type": "pie"
           }
          ],
          "scatter": [
           {
            "marker": {
             "colorbar": {
              "outlinewidth": 0,
              "ticks": ""
             }
            },
            "type": "scatter"
           }
          ],
          "scatter3d": [
           {
            "line": {
             "colorbar": {
              "outlinewidth": 0,
              "ticks": ""
             }
            },
            "marker": {
             "colorbar": {
              "outlinewidth": 0,
              "ticks": ""
             }
            },
            "type": "scatter3d"
           }
          ],
          "scattercarpet": [
           {
            "marker": {
             "colorbar": {
              "outlinewidth": 0,
              "ticks": ""
             }
            },
            "type": "scattercarpet"
           }
          ],
          "scattergeo": [
           {
            "marker": {
             "colorbar": {
              "outlinewidth": 0,
              "ticks": ""
             }
            },
            "type": "scattergeo"
           }
          ],
          "scattergl": [
           {
            "marker": {
             "colorbar": {
              "outlinewidth": 0,
              "ticks": ""
             }
            },
            "type": "scattergl"
           }
          ],
          "scattermapbox": [
           {
            "marker": {
             "colorbar": {
              "outlinewidth": 0,
              "ticks": ""
             }
            },
            "type": "scattermapbox"
           }
          ],
          "scatterpolar": [
           {
            "marker": {
             "colorbar": {
              "outlinewidth": 0,
              "ticks": ""
             }
            },
            "type": "scatterpolar"
           }
          ],
          "scatterpolargl": [
           {
            "marker": {
             "colorbar": {
              "outlinewidth": 0,
              "ticks": ""
             }
            },
            "type": "scatterpolargl"
           }
          ],
          "scatterternary": [
           {
            "marker": {
             "colorbar": {
              "outlinewidth": 0,
              "ticks": ""
             }
            },
            "type": "scatterternary"
           }
          ],
          "surface": [
           {
            "colorbar": {
             "outlinewidth": 0,
             "ticks": ""
            },
            "colorscale": [
             [
              0.0,
              "#0d0887"
             ],
             [
              0.1111111111111111,
              "#46039f"
             ],
             [
              0.2222222222222222,
              "#7201a8"
             ],
             [
              0.3333333333333333,
              "#9c179e"
             ],
             [
              0.4444444444444444,
              "#bd3786"
             ],
             [
              0.5555555555555556,
              "#d8576b"
             ],
             [
              0.6666666666666666,
              "#ed7953"
             ],
             [
              0.7777777777777778,
              "#fb9f3a"
             ],
             [
              0.8888888888888888,
              "#fdca26"
             ],
             [
              1.0,
              "#f0f921"
             ]
            ],
            "type": "surface"
           }
          ],
          "table": [
           {
            "cells": {
             "fill": {
              "color": "#EBF0F8"
             },
             "line": {
              "color": "white"
             }
            },
            "header": {
             "fill": {
              "color": "#C8D4E3"
             },
             "line": {
              "color": "white"
             }
            },
            "type": "table"
           }
          ]
         },
         "layout": {
          "annotationdefaults": {
           "arrowcolor": "#2a3f5f",
           "arrowhead": 0,
           "arrowwidth": 1
          },
          "autotypenumbers": "strict",
          "coloraxis": {
           "colorbar": {
            "outlinewidth": 0,
            "ticks": ""
           }
          },
          "colorscale": {
           "diverging": [
            [
             0,
             "#8e0152"
            ],
            [
             0.1,
             "#c51b7d"
            ],
            [
             0.2,
             "#de77ae"
            ],
            [
             0.3,
             "#f1b6da"
            ],
            [
             0.4,
             "#fde0ef"
            ],
            [
             0.5,
             "#f7f7f7"
            ],
            [
             0.6,
             "#e6f5d0"
            ],
            [
             0.7,
             "#b8e186"
            ],
            [
             0.8,
             "#7fbc41"
            ],
            [
             0.9,
             "#4d9221"
            ],
            [
             1,
             "#276419"
            ]
           ],
           "sequential": [
            [
             0.0,
             "#0d0887"
            ],
            [
             0.1111111111111111,
             "#46039f"
            ],
            [
             0.2222222222222222,
             "#7201a8"
            ],
            [
             0.3333333333333333,
             "#9c179e"
            ],
            [
             0.4444444444444444,
             "#bd3786"
            ],
            [
             0.5555555555555556,
             "#d8576b"
            ],
            [
             0.6666666666666666,
             "#ed7953"
            ],
            [
             0.7777777777777778,
             "#fb9f3a"
            ],
            [
             0.8888888888888888,
             "#fdca26"
            ],
            [
             1.0,
             "#f0f921"
            ]
           ],
           "sequentialminus": [
            [
             0.0,
             "#0d0887"
            ],
            [
             0.1111111111111111,
             "#46039f"
            ],
            [
             0.2222222222222222,
             "#7201a8"
            ],
            [
             0.3333333333333333,
             "#9c179e"
            ],
            [
             0.4444444444444444,
             "#bd3786"
            ],
            [
             0.5555555555555556,
             "#d8576b"
            ],
            [
             0.6666666666666666,
             "#ed7953"
            ],
            [
             0.7777777777777778,
             "#fb9f3a"
            ],
            [
             0.8888888888888888,
             "#fdca26"
            ],
            [
             1.0,
             "#f0f921"
            ]
           ]
          },
          "colorway": [
           "#636efa",
           "#EF553B",
           "#00cc96",
           "#ab63fa",
           "#FFA15A",
           "#19d3f3",
           "#FF6692",
           "#B6E880",
           "#FF97FF",
           "#FECB52"
          ],
          "font": {
           "color": "#2a3f5f"
          },
          "geo": {
           "bgcolor": "white",
           "lakecolor": "white",
           "landcolor": "#E5ECF6",
           "showlakes": true,
           "showland": true,
           "subunitcolor": "white"
          },
          "hoverlabel": {
           "align": "left"
          },
          "hovermode": "closest",
          "mapbox": {
           "style": "light"
          },
          "paper_bgcolor": "white",
          "plot_bgcolor": "#E5ECF6",
          "polar": {
           "angularaxis": {
            "gridcolor": "white",
            "linecolor": "white",
            "ticks": ""
           },
           "bgcolor": "#E5ECF6",
           "radialaxis": {
            "gridcolor": "white",
            "linecolor": "white",
            "ticks": ""
           }
          },
          "scene": {
           "xaxis": {
            "backgroundcolor": "#E5ECF6",
            "gridcolor": "white",
            "gridwidth": 2,
            "linecolor": "white",
            "showbackground": true,
            "ticks": "",
            "zerolinecolor": "white"
           },
           "yaxis": {
            "backgroundcolor": "#E5ECF6",
            "gridcolor": "white",
            "gridwidth": 2,
            "linecolor": "white",
            "showbackground": true,
            "ticks": "",
            "zerolinecolor": "white"
           },
           "zaxis": {
            "backgroundcolor": "#E5ECF6",
            "gridcolor": "white",
            "gridwidth": 2,
            "linecolor": "white",
            "showbackground": true,
            "ticks": "",
            "zerolinecolor": "white"
           }
          },
          "shapedefaults": {
           "line": {
            "color": "#2a3f5f"
           }
          },
          "ternary": {
           "aaxis": {
            "gridcolor": "white",
            "linecolor": "white",
            "ticks": ""
           },
           "baxis": {
            "gridcolor": "white",
            "linecolor": "white",
            "ticks": ""
           },
           "bgcolor": "#E5ECF6",
           "caxis": {
            "gridcolor": "white",
            "linecolor": "white",
            "ticks": ""
           }
          },
          "title": {
           "x": 0.05
          },
          "xaxis": {
           "automargin": true,
           "gridcolor": "white",
           "linecolor": "white",
           "ticks": "",
           "title": {
            "standoff": 15
           },
           "zerolinecolor": "white",
           "zerolinewidth": 2
          },
          "yaxis": {
           "automargin": true,
           "gridcolor": "white",
           "linecolor": "white",
           "ticks": "",
           "title": {
            "standoff": 15
           },
           "zerolinecolor": "white",
           "zerolinewidth": 2
          }
         }
        },
        "xaxis": {
         "anchor": "y",
         "domain": [
          0.0,
          1.0
         ],
         "title": {
          "text": "value"
         }
        },
        "yaxis": {
         "anchor": "x",
         "domain": [
          0.0,
          1.0
         ],
         "title": {
          "text": "count"
         }
        },
        "legend": {
         "title": {
          "text": "variable"
         },
         "tracegroupgap": 0
        },
        "title": {
         "text": "Sample Distribution"
        },
        "barmode": "relative"
       },
       "config": {
        "plotlyServerURL": "https://plot.ly"
       }
      },
      "text/html": "<div>                            <div id=\"4371a5c9-d6f3-4afe-95c1-e602a5561fe2\" class=\"plotly-graph-div\" style=\"height:525px; width:100%;\"></div>            <script type=\"text/javascript\">                require([\"plotly\"], function(Plotly) {                    window.PLOTLYENV=window.PLOTLYENV || {};                                    if (document.getElementById(\"4371a5c9-d6f3-4afe-95c1-e602a5561fe2\")) {                    Plotly.newPlot(                        \"4371a5c9-d6f3-4afe-95c1-e602a5561fe2\",                        [{\"alignmentgroup\":\"True\",\"bingroup\":\"x\",\"hovertemplate\":\"variable=0<br>value=%{x}<br>count=%{y}<extra></extra>\",\"legendgroup\":\"0\",\"marker\":{\"color\":\"#636efa\",\"pattern\":{\"shape\":\"\"}},\"name\":\"0\",\"nbinsx\":40,\"offsetgroup\":\"0\",\"orientation\":\"v\",\"showlegend\":true,\"x\":[0.12910999463064754,0.29383012216880067,0.9974339703489046,0.35299586258249727,0.8059833967229748,0.3693164318926595,0.9977944257829237,0.05766054153550981,0.0162978490686303,0.20363255496231802,0.6971164968856038,0.2331592709015985,0.985103676015227,0.14832668461680476,0.8494849157043562,0.38127245189321435,0.7076450834273665,0.18420986942127227,0.5533762809281964,0.5793793927085755,0.2840517771007903,0.5942458196793005,0.3392421529613292,0.6787548765253565,0.7737329354776916,0.13235437358734803,0.16787341548856283,0.863513879795488,0.7431197077862264,0.14007840872896216,0.7414734545843065,0.780474210828555,0.9920364361901777,0.22482912988227366,0.45069024474714825,0.129280541490438,0.48005939637118444,0.7370404362518678,0.23370522841462305,0.49068163386917363,0.15443497398197847,0.6279048874370425,0.6837507647916732,0.9330248753440699,0.7740794545231651,0.7132166893292942,0.9207490851848662,0.32561470602637654,0.3710974825407778,0.8220731837692471],\"xaxis\":\"x\",\"yaxis\":\"y\",\"type\":\"histogram\"}],                        {\"template\":{\"data\":{\"bar\":[{\"error_x\":{\"color\":\"#2a3f5f\"},\"error_y\":{\"color\":\"#2a3f5f\"},\"marker\":{\"line\":{\"color\":\"#E5ECF6\",\"width\":0.5},\"pattern\":{\"fillmode\":\"overlay\",\"size\":10,\"solidity\":0.2}},\"type\":\"bar\"}],\"barpolar\":[{\"marker\":{\"line\":{\"color\":\"#E5ECF6\",\"width\":0.5},\"pattern\":{\"fillmode\":\"overlay\",\"size\":10,\"solidity\":0.2}},\"type\":\"barpolar\"}],\"carpet\":[{\"aaxis\":{\"endlinecolor\":\"#2a3f5f\",\"gridcolor\":\"white\",\"linecolor\":\"white\",\"minorgridcolor\":\"white\",\"startlinecolor\":\"#2a3f5f\"},\"baxis\":{\"endlinecolor\":\"#2a3f5f\",\"gridcolor\":\"white\",\"linecolor\":\"white\",\"minorgridcolor\":\"white\",\"startlinecolor\":\"#2a3f5f\"},\"type\":\"carpet\"}],\"choropleth\":[{\"colorbar\":{\"outlinewidth\":0,\"ticks\":\"\"},\"type\":\"choropleth\"}],\"contour\":[{\"colorbar\":{\"outlinewidth\":0,\"ticks\":\"\"},\"colorscale\":[[0.0,\"#0d0887\"],[0.1111111111111111,\"#46039f\"],[0.2222222222222222,\"#7201a8\"],[0.3333333333333333,\"#9c179e\"],[0.4444444444444444,\"#bd3786\"],[0.5555555555555556,\"#d8576b\"],[0.6666666666666666,\"#ed7953\"],[0.7777777777777778,\"#fb9f3a\"],[0.8888888888888888,\"#fdca26\"],[1.0,\"#f0f921\"]],\"type\":\"contour\"}],\"contourcarpet\":[{\"colorbar\":{\"outlinewidth\":0,\"ticks\":\"\"},\"type\":\"contourcarpet\"}],\"heatmap\":[{\"colorbar\":{\"outlinewidth\":0,\"ticks\":\"\"},\"colorscale\":[[0.0,\"#0d0887\"],[0.1111111111111111,\"#46039f\"],[0.2222222222222222,\"#7201a8\"],[0.3333333333333333,\"#9c179e\"],[0.4444444444444444,\"#bd3786\"],[0.5555555555555556,\"#d8576b\"],[0.6666666666666666,\"#ed7953\"],[0.7777777777777778,\"#fb9f3a\"],[0.8888888888888888,\"#fdca26\"],[1.0,\"#f0f921\"]],\"type\":\"heatmap\"}],\"heatmapgl\":[{\"colorbar\":{\"outlinewidth\":0,\"ticks\":\"\"},\"colorscale\":[[0.0,\"#0d0887\"],[0.1111111111111111,\"#46039f\"],[0.2222222222222222,\"#7201a8\"],[0.3333333333333333,\"#9c179e\"],[0.4444444444444444,\"#bd3786\"],[0.5555555555555556,\"#d8576b\"],[0.6666666666666666,\"#ed7953\"],[0.7777777777777778,\"#fb9f3a\"],[0.8888888888888888,\"#fdca26\"],[1.0,\"#f0f921\"]],\"type\":\"heatmapgl\"}],\"histogram\":[{\"marker\":{\"pattern\":{\"fillmode\":\"overlay\",\"size\":10,\"solidity\":0.2}},\"type\":\"histogram\"}],\"histogram2d\":[{\"colorbar\":{\"outlinewidth\":0,\"ticks\":\"\"},\"colorscale\":[[0.0,\"#0d0887\"],[0.1111111111111111,\"#46039f\"],[0.2222222222222222,\"#7201a8\"],[0.3333333333333333,\"#9c179e\"],[0.4444444444444444,\"#bd3786\"],[0.5555555555555556,\"#d8576b\"],[0.6666666666666666,\"#ed7953\"],[0.7777777777777778,\"#fb9f3a\"],[0.8888888888888888,\"#fdca26\"],[1.0,\"#f0f921\"]],\"type\":\"histogram2d\"}],\"histogram2dcontour\":[{\"colorbar\":{\"outlinewidth\":0,\"ticks\":\"\"},\"colorscale\":[[0.0,\"#0d0887\"],[0.1111111111111111,\"#46039f\"],[0.2222222222222222,\"#7201a8\"],[0.3333333333333333,\"#9c179e\"],[0.4444444444444444,\"#bd3786\"],[0.5555555555555556,\"#d8576b\"],[0.6666666666666666,\"#ed7953\"],[0.7777777777777778,\"#fb9f3a\"],[0.8888888888888888,\"#fdca26\"],[1.0,\"#f0f921\"]],\"type\":\"histogram2dcontour\"}],\"mesh3d\":[{\"colorbar\":{\"outlinewidth\":0,\"ticks\":\"\"},\"type\":\"mesh3d\"}],\"parcoords\":[{\"line\":{\"colorbar\":{\"outlinewidth\":0,\"ticks\":\"\"}},\"type\":\"parcoords\"}],\"pie\":[{\"automargin\":true,\"type\":\"pie\"}],\"scatter\":[{\"marker\":{\"colorbar\":{\"outlinewidth\":0,\"ticks\":\"\"}},\"type\":\"scatter\"}],\"scatter3d\":[{\"line\":{\"colorbar\":{\"outlinewidth\":0,\"ticks\":\"\"}},\"marker\":{\"colorbar\":{\"outlinewidth\":0,\"ticks\":\"\"}},\"type\":\"scatter3d\"}],\"scattercarpet\":[{\"marker\":{\"colorbar\":{\"outlinewidth\":0,\"ticks\":\"\"}},\"type\":\"scattercarpet\"}],\"scattergeo\":[{\"marker\":{\"colorbar\":{\"outlinewidth\":0,\"ticks\":\"\"}},\"type\":\"scattergeo\"}],\"scattergl\":[{\"marker\":{\"colorbar\":{\"outlinewidth\":0,\"ticks\":\"\"}},\"type\":\"scattergl\"}],\"scattermapbox\":[{\"marker\":{\"colorbar\":{\"outlinewidth\":0,\"ticks\":\"\"}},\"type\":\"scattermapbox\"}],\"scatterpolar\":[{\"marker\":{\"colorbar\":{\"outlinewidth\":0,\"ticks\":\"\"}},\"type\":\"scatterpolar\"}],\"scatterpolargl\":[{\"marker\":{\"colorbar\":{\"outlinewidth\":0,\"ticks\":\"\"}},\"type\":\"scatterpolargl\"}],\"scatterternary\":[{\"marker\":{\"colorbar\":{\"outlinewidth\":0,\"ticks\":\"\"}},\"type\":\"scatterternary\"}],\"surface\":[{\"colorbar\":{\"outlinewidth\":0,\"ticks\":\"\"},\"colorscale\":[[0.0,\"#0d0887\"],[0.1111111111111111,\"#46039f\"],[0.2222222222222222,\"#7201a8\"],[0.3333333333333333,\"#9c179e\"],[0.4444444444444444,\"#bd3786\"],[0.5555555555555556,\"#d8576b\"],[0.6666666666666666,\"#ed7953\"],[0.7777777777777778,\"#fb9f3a\"],[0.8888888888888888,\"#fdca26\"],[1.0,\"#f0f921\"]],\"type\":\"surface\"}],\"table\":[{\"cells\":{\"fill\":{\"color\":\"#EBF0F8\"},\"line\":{\"color\":\"white\"}},\"header\":{\"fill\":{\"color\":\"#C8D4E3\"},\"line\":{\"color\":\"white\"}},\"type\":\"table\"}]},\"layout\":{\"annotationdefaults\":{\"arrowcolor\":\"#2a3f5f\",\"arrowhead\":0,\"arrowwidth\":1},\"autotypenumbers\":\"strict\",\"coloraxis\":{\"colorbar\":{\"outlinewidth\":0,\"ticks\":\"\"}},\"colorscale\":{\"diverging\":[[0,\"#8e0152\"],[0.1,\"#c51b7d\"],[0.2,\"#de77ae\"],[0.3,\"#f1b6da\"],[0.4,\"#fde0ef\"],[0.5,\"#f7f7f7\"],[0.6,\"#e6f5d0\"],[0.7,\"#b8e186\"],[0.8,\"#7fbc41\"],[0.9,\"#4d9221\"],[1,\"#276419\"]],\"sequential\":[[0.0,\"#0d0887\"],[0.1111111111111111,\"#46039f\"],[0.2222222222222222,\"#7201a8\"],[0.3333333333333333,\"#9c179e\"],[0.4444444444444444,\"#bd3786\"],[0.5555555555555556,\"#d8576b\"],[0.6666666666666666,\"#ed7953\"],[0.7777777777777778,\"#fb9f3a\"],[0.8888888888888888,\"#fdca26\"],[1.0,\"#f0f921\"]],\"sequentialminus\":[[0.0,\"#0d0887\"],[0.1111111111111111,\"#46039f\"],[0.2222222222222222,\"#7201a8\"],[0.3333333333333333,\"#9c179e\"],[0.4444444444444444,\"#bd3786\"],[0.5555555555555556,\"#d8576b\"],[0.6666666666666666,\"#ed7953\"],[0.7777777777777778,\"#fb9f3a\"],[0.8888888888888888,\"#fdca26\"],[1.0,\"#f0f921\"]]},\"colorway\":[\"#636efa\",\"#EF553B\",\"#00cc96\",\"#ab63fa\",\"#FFA15A\",\"#19d3f3\",\"#FF6692\",\"#B6E880\",\"#FF97FF\",\"#FECB52\"],\"font\":{\"color\":\"#2a3f5f\"},\"geo\":{\"bgcolor\":\"white\",\"lakecolor\":\"white\",\"landcolor\":\"#E5ECF6\",\"showlakes\":true,\"showland\":true,\"subunitcolor\":\"white\"},\"hoverlabel\":{\"align\":\"left\"},\"hovermode\":\"closest\",\"mapbox\":{\"style\":\"light\"},\"paper_bgcolor\":\"white\",\"plot_bgcolor\":\"#E5ECF6\",\"polar\":{\"angularaxis\":{\"gridcolor\":\"white\",\"linecolor\":\"white\",\"ticks\":\"\"},\"bgcolor\":\"#E5ECF6\",\"radialaxis\":{\"gridcolor\":\"white\",\"linecolor\":\"white\",\"ticks\":\"\"}},\"scene\":{\"xaxis\":{\"backgroundcolor\":\"#E5ECF6\",\"gridcolor\":\"white\",\"gridwidth\":2,\"linecolor\":\"white\",\"showbackground\":true,\"ticks\":\"\",\"zerolinecolor\":\"white\"},\"yaxis\":{\"backgroundcolor\":\"#E5ECF6\",\"gridcolor\":\"white\",\"gridwidth\":2,\"linecolor\":\"white\",\"showbackground\":true,\"ticks\":\"\",\"zerolinecolor\":\"white\"},\"zaxis\":{\"backgroundcolor\":\"#E5ECF6\",\"gridcolor\":\"white\",\"gridwidth\":2,\"linecolor\":\"white\",\"showbackground\":true,\"ticks\":\"\",\"zerolinecolor\":\"white\"}},\"shapedefaults\":{\"line\":{\"color\":\"#2a3f5f\"}},\"ternary\":{\"aaxis\":{\"gridcolor\":\"white\",\"linecolor\":\"white\",\"ticks\":\"\"},\"baxis\":{\"gridcolor\":\"white\",\"linecolor\":\"white\",\"ticks\":\"\"},\"bgcolor\":\"#E5ECF6\",\"caxis\":{\"gridcolor\":\"white\",\"linecolor\":\"white\",\"ticks\":\"\"}},\"title\":{\"x\":0.05},\"xaxis\":{\"automargin\":true,\"gridcolor\":\"white\",\"linecolor\":\"white\",\"ticks\":\"\",\"title\":{\"standoff\":15},\"zerolinecolor\":\"white\",\"zerolinewidth\":2},\"yaxis\":{\"automargin\":true,\"gridcolor\":\"white\",\"linecolor\":\"white\",\"ticks\":\"\",\"title\":{\"standoff\":15},\"zerolinecolor\":\"white\",\"zerolinewidth\":2}}},\"xaxis\":{\"anchor\":\"y\",\"domain\":[0.0,1.0],\"title\":{\"text\":\"value\"}},\"yaxis\":{\"anchor\":\"x\",\"domain\":[0.0,1.0],\"title\":{\"text\":\"count\"}},\"legend\":{\"title\":{\"text\":\"variable\"},\"tracegroupgap\":0},\"title\":{\"text\":\"Sample Distribution\"},\"barmode\":\"relative\"},                        {\"responsive\": true}                    ).then(function(){\n                            \nvar gd = document.getElementById('4371a5c9-d6f3-4afe-95c1-e602a5561fe2');\nvar x = new MutationObserver(function (mutations, observer) {{\n        var display = window.getComputedStyle(gd).display;\n        if (!display || display === 'none') {{\n            console.log([gd, 'removed!']);\n            Plotly.purge(gd);\n            observer.disconnect();\n        }}\n}});\n\n// Listen for the removal of the full notebook cells\nvar notebookContainer = gd.closest('#notebook-container');\nif (notebookContainer) {{\n    x.observe(notebookContainer, {childList: true});\n}}\n\n// Listen for the clearing of the current output cell\nvar outputEl = gd.closest('.output');\nif (outputEl) {{\n    x.observe(outputEl, {childList: true});\n}}\n\n                        })                };                });            </script>        </div>"
     },
     "metadata": {},
     "output_type": "display_data"
    }
   ],
   "source": [
    "T_of_F =  lambda sample_: np.max(sample_)\n",
    "n = 50\n",
    "theta = 1\n",
    "sample = uniform.rvs(0,theta,n)\n",
    "px.histogram(sample, nbins = 40, title = 'Sample Distribution')"
   ]
  },
  {
   "cell_type": "code",
   "execution_count": 28,
   "metadata": {
    "pycharm": {
     "name": "#%%\n"
    }
   },
   "outputs": [
    {
     "name": "stdout",
     "output_type": "stream",
     "text": [
      "theta_hat = 0.9977944257829237\n",
      "se_hat = 0.01192555260805425\n",
      "Normal method CI:(0.9744207721753996, 1.0211680793904476)\n",
      "Percentile method CI: (0.985103676015227, 0.9977944257829237)\n",
      "Pivotal method CI: (0.9977944257829237, 1.0104851755506203)\n"
     ]
    }
   ],
   "source": [
    "bootstrap_repetitions = 1000\n",
    "bootstrap_estimations = list()\n",
    "for i in range(bootstrap_repetitions):\n",
    "    bootstrap_sample = np.random.choice(sample, size = len(sample), replace = True)\n",
    "    bootstrap_estimations.append(T_of_F(bootstrap_sample))\n",
    "\n",
    "bootstrap_estimations = np.sort(bootstrap_estimations)\n",
    "theta_hat = T_of_F(sample)\n",
    "se_hat = np.array(bootstrap_estimations).std()\n",
    "print(f'theta_hat = {theta_hat}')\n",
    "print(f'se_hat = {se_hat}')\n",
    "\n",
    "# Normal method\n",
    "alpha = 0.05\n",
    "z = norm.ppf(1-alpha/2)\n",
    "normal_upper_bound = theta_hat + se_hat * z\n",
    "normal_lower_bound = theta_hat - se_hat * z\n",
    "print(f'Normal method CI:({normal_lower_bound}, {normal_upper_bound})')\n",
    "\n",
    "# Percentile method\n",
    "alpha = 0.05\n",
    "percentile_upper_bound = np.quantile(bootstrap_estimations, 1 - alpha/2)\n",
    "percentile_lower_bound = np.quantile(bootstrap_estimations, alpha/2)\n",
    "print(f'Percentile method CI: ({percentile_lower_bound}, {percentile_upper_bound})')\n",
    "\n",
    "# Pivotal method\n",
    "alpha = 0.05\n",
    "pivotal_lower_bound = 2*theta_hat - np.quantile(bootstrap_estimations, 1-alpha/2)\n",
    "pivotal_upper_bound = 2*theta_hat - np.quantile(bootstrap_estimations, alpha/2)\n",
    "print(f'Pivotal method CI: ({pivotal_lower_bound}, {pivotal_upper_bound})')"
   ]
  },
  {
   "cell_type": "code",
   "execution_count": 29,
   "metadata": {
    "pycharm": {
     "name": "#%%\n"
    }
   },
   "outputs": [
    {
     "data": {
      "application/vnd.plotly.v1+json": {
       "data": [
        {
         "alignmentgroup": "True",
         "bingroup": "x",
         "hovertemplate": "variable=0<br>value=%{x}<br>count=%{y}<extra></extra>",
         "legendgroup": "0",
         "marker": {
          "color": "#636efa",
          "pattern": {
           "shape": ""
          }
         },
         "name": "0",
         "offsetgroup": "0",
         "orientation": "v",
         "showlegend": true,
         "x": [
          0.863513879795488,
          0.863513879795488,
          0.863513879795488,
          0.9207490851848662,
          0.9207490851848662,
          0.9207490851848662,
          0.9207490851848662,
          0.9330248753440699,
          0.9330248753440699,
          0.9330248753440699,
          0.9330248753440699,
          0.9330248753440699,
          0.9330248753440699,
          0.9330248753440699,
          0.9330248753440699,
          0.9330248753440699,
          0.9330248753440699,
          0.9330248753440699,
          0.9330248753440699,
          0.9330248753440699,
          0.9330248753440699,
          0.9330248753440699,
          0.985103676015227,
          0.985103676015227,
          0.985103676015227,
          0.985103676015227,
          0.985103676015227,
          0.985103676015227,
          0.985103676015227,
          0.985103676015227,
          0.985103676015227,
          0.985103676015227,
          0.985103676015227,
          0.985103676015227,
          0.985103676015227,
          0.985103676015227,
          0.985103676015227,
          0.985103676015227,
          0.985103676015227,
          0.985103676015227,
          0.985103676015227,
          0.985103676015227,
          0.985103676015227,
          0.985103676015227,
          0.985103676015227,
          0.985103676015227,
          0.985103676015227,
          0.985103676015227,
          0.985103676015227,
          0.985103676015227,
          0.985103676015227,
          0.985103676015227,
          0.985103676015227,
          0.985103676015227,
          0.985103676015227,
          0.985103676015227,
          0.985103676015227,
          0.985103676015227,
          0.985103676015227,
          0.985103676015227,
          0.9920364361901777,
          0.9920364361901777,
          0.9920364361901777,
          0.9920364361901777,
          0.9920364361901777,
          0.9920364361901777,
          0.9920364361901777,
          0.9920364361901777,
          0.9920364361901777,
          0.9920364361901777,
          0.9920364361901777,
          0.9920364361901777,
          0.9920364361901777,
          0.9920364361901777,
          0.9920364361901777,
          0.9920364361901777,
          0.9920364361901777,
          0.9920364361901777,
          0.9920364361901777,
          0.9920364361901777,
          0.9920364361901777,
          0.9920364361901777,
          0.9920364361901777,
          0.9920364361901777,
          0.9920364361901777,
          0.9920364361901777,
          0.9920364361901777,
          0.9920364361901777,
          0.9920364361901777,
          0.9920364361901777,
          0.9920364361901777,
          0.9920364361901777,
          0.9920364361901777,
          0.9920364361901777,
          0.9920364361901777,
          0.9920364361901777,
          0.9920364361901777,
          0.9920364361901777,
          0.9920364361901777,
          0.9920364361901777,
          0.9920364361901777,
          0.9920364361901777,
          0.9920364361901777,
          0.9920364361901777,
          0.9920364361901777,
          0.9920364361901777,
          0.9920364361901777,
          0.9920364361901777,
          0.9920364361901777,
          0.9920364361901777,
          0.9920364361901777,
          0.9920364361901777,
          0.9920364361901777,
          0.9920364361901777,
          0.9920364361901777,
          0.9920364361901777,
          0.9920364361901777,
          0.9920364361901777,
          0.9920364361901777,
          0.9920364361901777,
          0.9920364361901777,
          0.9920364361901777,
          0.9920364361901777,
          0.9920364361901777,
          0.9920364361901777,
          0.9920364361901777,
          0.9920364361901777,
          0.9920364361901777,
          0.9920364361901777,
          0.9920364361901777,
          0.9920364361901777,
          0.9920364361901777,
          0.9974339703489046,
          0.9974339703489046,
          0.9974339703489046,
          0.9974339703489046,
          0.9974339703489046,
          0.9974339703489046,
          0.9974339703489046,
          0.9974339703489046,
          0.9974339703489046,
          0.9974339703489046,
          0.9974339703489046,
          0.9974339703489046,
          0.9974339703489046,
          0.9974339703489046,
          0.9974339703489046,
          0.9974339703489046,
          0.9974339703489046,
          0.9974339703489046,
          0.9974339703489046,
          0.9974339703489046,
          0.9974339703489046,
          0.9974339703489046,
          0.9974339703489046,
          0.9974339703489046,
          0.9974339703489046,
          0.9974339703489046,
          0.9974339703489046,
          0.9974339703489046,
          0.9974339703489046,
          0.9974339703489046,
          0.9974339703489046,
          0.9974339703489046,
          0.9974339703489046,
          0.9974339703489046,
          0.9974339703489046,
          0.9974339703489046,
          0.9974339703489046,
          0.9974339703489046,
          0.9974339703489046,
          0.9974339703489046,
          0.9974339703489046,
          0.9974339703489046,
          0.9974339703489046,
          0.9974339703489046,
          0.9974339703489046,
          0.9974339703489046,
          0.9974339703489046,
          0.9974339703489046,
          0.9974339703489046,
          0.9974339703489046,
          0.9974339703489046,
          0.9974339703489046,
          0.9974339703489046,
          0.9974339703489046,
          0.9974339703489046,
          0.9974339703489046,
          0.9974339703489046,
          0.9974339703489046,
          0.9974339703489046,
          0.9974339703489046,
          0.9974339703489046,
          0.9974339703489046,
          0.9974339703489046,
          0.9974339703489046,
          0.9974339703489046,
          0.9974339703489046,
          0.9974339703489046,
          0.9974339703489046,
          0.9974339703489046,
          0.9974339703489046,
          0.9974339703489046,
          0.9974339703489046,
          0.9974339703489046,
          0.9974339703489046,
          0.9974339703489046,
          0.9974339703489046,
          0.9974339703489046,
          0.9974339703489046,
          0.9974339703489046,
          0.9974339703489046,
          0.9974339703489046,
          0.9974339703489046,
          0.9974339703489046,
          0.9974339703489046,
          0.9974339703489046,
          0.9974339703489046,
          0.9974339703489046,
          0.9974339703489046,
          0.9974339703489046,
          0.9974339703489046,
          0.9974339703489046,
          0.9974339703489046,
          0.9974339703489046,
          0.9974339703489046,
          0.9974339703489046,
          0.9974339703489046,
          0.9974339703489046,
          0.9974339703489046,
          0.9974339703489046,
          0.9974339703489046,
          0.9974339703489046,
          0.9974339703489046,
          0.9974339703489046,
          0.9974339703489046,
          0.9974339703489046,
          0.9974339703489046,
          0.9974339703489046,
          0.9974339703489046,
          0.9974339703489046,
          0.9974339703489046,
          0.9974339703489046,
          0.9974339703489046,
          0.9974339703489046,
          0.9974339703489046,
          0.9974339703489046,
          0.9974339703489046,
          0.9974339703489046,
          0.9974339703489046,
          0.9974339703489046,
          0.9974339703489046,
          0.9974339703489046,
          0.9974339703489046,
          0.9974339703489046,
          0.9974339703489046,
          0.9974339703489046,
          0.9974339703489046,
          0.9974339703489046,
          0.9974339703489046,
          0.9974339703489046,
          0.9974339703489046,
          0.9974339703489046,
          0.9974339703489046,
          0.9974339703489046,
          0.9974339703489046,
          0.9974339703489046,
          0.9974339703489046,
          0.9974339703489046,
          0.9974339703489046,
          0.9974339703489046,
          0.9974339703489046,
          0.9974339703489046,
          0.9974339703489046,
          0.9974339703489046,
          0.9974339703489046,
          0.9974339703489046,
          0.9974339703489046,
          0.9974339703489046,
          0.9974339703489046,
          0.9974339703489046,
          0.9974339703489046,
          0.9974339703489046,
          0.9974339703489046,
          0.9974339703489046,
          0.9974339703489046,
          0.9974339703489046,
          0.9974339703489046,
          0.9974339703489046,
          0.9974339703489046,
          0.9974339703489046,
          0.9974339703489046,
          0.9974339703489046,
          0.9974339703489046,
          0.9974339703489046,
          0.9974339703489046,
          0.9974339703489046,
          0.9974339703489046,
          0.9974339703489046,
          0.9974339703489046,
          0.9974339703489046,
          0.9974339703489046,
          0.9974339703489046,
          0.9974339703489046,
          0.9974339703489046,
          0.9974339703489046,
          0.9974339703489046,
          0.9974339703489046,
          0.9974339703489046,
          0.9974339703489046,
          0.9974339703489046,
          0.9974339703489046,
          0.9974339703489046,
          0.9974339703489046,
          0.9974339703489046,
          0.9974339703489046,
          0.9974339703489046,
          0.9974339703489046,
          0.9974339703489046,
          0.9974339703489046,
          0.9974339703489046,
          0.9974339703489046,
          0.9974339703489046,
          0.9974339703489046,
          0.9974339703489046,
          0.9974339703489046,
          0.9974339703489046,
          0.9974339703489046,
          0.9974339703489046,
          0.9974339703489046,
          0.9974339703489046,
          0.9974339703489046,
          0.9974339703489046,
          0.9974339703489046,
          0.9974339703489046,
          0.9974339703489046,
          0.9974339703489046,
          0.9974339703489046,
          0.9974339703489046,
          0.9974339703489046,
          0.9974339703489046,
          0.9974339703489046,
          0.9974339703489046,
          0.9974339703489046,
          0.9974339703489046,
          0.9974339703489046,
          0.9974339703489046,
          0.9974339703489046,
          0.9974339703489046,
          0.9974339703489046,
          0.9974339703489046,
          0.9974339703489046,
          0.9974339703489046,
          0.9974339703489046,
          0.9974339703489046,
          0.9974339703489046,
          0.9974339703489046,
          0.9974339703489046,
          0.9974339703489046,
          0.9977944257829237,
          0.9977944257829237,
          0.9977944257829237,
          0.9977944257829237,
          0.9977944257829237,
          0.9977944257829237,
          0.9977944257829237,
          0.9977944257829237,
          0.9977944257829237,
          0.9977944257829237,
          0.9977944257829237,
          0.9977944257829237,
          0.9977944257829237,
          0.9977944257829237,
          0.9977944257829237,
          0.9977944257829237,
          0.9977944257829237,
          0.9977944257829237,
          0.9977944257829237,
          0.9977944257829237,
          0.9977944257829237,
          0.9977944257829237,
          0.9977944257829237,
          0.9977944257829237,
          0.9977944257829237,
          0.9977944257829237,
          0.9977944257829237,
          0.9977944257829237,
          0.9977944257829237,
          0.9977944257829237,
          0.9977944257829237,
          0.9977944257829237,
          0.9977944257829237,
          0.9977944257829237,
          0.9977944257829237,
          0.9977944257829237,
          0.9977944257829237,
          0.9977944257829237,
          0.9977944257829237,
          0.9977944257829237,
          0.9977944257829237,
          0.9977944257829237,
          0.9977944257829237,
          0.9977944257829237,
          0.9977944257829237,
          0.9977944257829237,
          0.9977944257829237,
          0.9977944257829237,
          0.9977944257829237,
          0.9977944257829237,
          0.9977944257829237,
          0.9977944257829237,
          0.9977944257829237,
          0.9977944257829237,
          0.9977944257829237,
          0.9977944257829237,
          0.9977944257829237,
          0.9977944257829237,
          0.9977944257829237,
          0.9977944257829237,
          0.9977944257829237,
          0.9977944257829237,
          0.9977944257829237,
          0.9977944257829237,
          0.9977944257829237,
          0.9977944257829237,
          0.9977944257829237,
          0.9977944257829237,
          0.9977944257829237,
          0.9977944257829237,
          0.9977944257829237,
          0.9977944257829237,
          0.9977944257829237,
          0.9977944257829237,
          0.9977944257829237,
          0.9977944257829237,
          0.9977944257829237,
          0.9977944257829237,
          0.9977944257829237,
          0.9977944257829237,
          0.9977944257829237,
          0.9977944257829237,
          0.9977944257829237,
          0.9977944257829237,
          0.9977944257829237,
          0.9977944257829237,
          0.9977944257829237,
          0.9977944257829237,
          0.9977944257829237,
          0.9977944257829237,
          0.9977944257829237,
          0.9977944257829237,
          0.9977944257829237,
          0.9977944257829237,
          0.9977944257829237,
          0.9977944257829237,
          0.9977944257829237,
          0.9977944257829237,
          0.9977944257829237,
          0.9977944257829237,
          0.9977944257829237,
          0.9977944257829237,
          0.9977944257829237,
          0.9977944257829237,
          0.9977944257829237,
          0.9977944257829237,
          0.9977944257829237,
          0.9977944257829237,
          0.9977944257829237,
          0.9977944257829237,
          0.9977944257829237,
          0.9977944257829237,
          0.9977944257829237,
          0.9977944257829237,
          0.9977944257829237,
          0.9977944257829237,
          0.9977944257829237,
          0.9977944257829237,
          0.9977944257829237,
          0.9977944257829237,
          0.9977944257829237,
          0.9977944257829237,
          0.9977944257829237,
          0.9977944257829237,
          0.9977944257829237,
          0.9977944257829237,
          0.9977944257829237,
          0.9977944257829237,
          0.9977944257829237,
          0.9977944257829237,
          0.9977944257829237,
          0.9977944257829237,
          0.9977944257829237,
          0.9977944257829237,
          0.9977944257829237,
          0.9977944257829237,
          0.9977944257829237,
          0.9977944257829237,
          0.9977944257829237,
          0.9977944257829237,
          0.9977944257829237,
          0.9977944257829237,
          0.9977944257829237,
          0.9977944257829237,
          0.9977944257829237,
          0.9977944257829237,
          0.9977944257829237,
          0.9977944257829237,
          0.9977944257829237,
          0.9977944257829237,
          0.9977944257829237,
          0.9977944257829237,
          0.9977944257829237,
          0.9977944257829237,
          0.9977944257829237,
          0.9977944257829237,
          0.9977944257829237,
          0.9977944257829237,
          0.9977944257829237,
          0.9977944257829237,
          0.9977944257829237,
          0.9977944257829237,
          0.9977944257829237,
          0.9977944257829237,
          0.9977944257829237,
          0.9977944257829237,
          0.9977944257829237,
          0.9977944257829237,
          0.9977944257829237,
          0.9977944257829237,
          0.9977944257829237,
          0.9977944257829237,
          0.9977944257829237,
          0.9977944257829237,
          0.9977944257829237,
          0.9977944257829237,
          0.9977944257829237,
          0.9977944257829237,
          0.9977944257829237,
          0.9977944257829237,
          0.9977944257829237,
          0.9977944257829237,
          0.9977944257829237,
          0.9977944257829237,
          0.9977944257829237,
          0.9977944257829237,
          0.9977944257829237,
          0.9977944257829237,
          0.9977944257829237,
          0.9977944257829237,
          0.9977944257829237,
          0.9977944257829237,
          0.9977944257829237,
          0.9977944257829237,
          0.9977944257829237,
          0.9977944257829237,
          0.9977944257829237,
          0.9977944257829237,
          0.9977944257829237,
          0.9977944257829237,
          0.9977944257829237,
          0.9977944257829237,
          0.9977944257829237,
          0.9977944257829237,
          0.9977944257829237,
          0.9977944257829237,
          0.9977944257829237,
          0.9977944257829237,
          0.9977944257829237,
          0.9977944257829237,
          0.9977944257829237,
          0.9977944257829237,
          0.9977944257829237,
          0.9977944257829237,
          0.9977944257829237,
          0.9977944257829237,
          0.9977944257829237,
          0.9977944257829237,
          0.9977944257829237,
          0.9977944257829237,
          0.9977944257829237,
          0.9977944257829237,
          0.9977944257829237,
          0.9977944257829237,
          0.9977944257829237,
          0.9977944257829237,
          0.9977944257829237,
          0.9977944257829237,
          0.9977944257829237,
          0.9977944257829237,
          0.9977944257829237,
          0.9977944257829237,
          0.9977944257829237,
          0.9977944257829237,
          0.9977944257829237,
          0.9977944257829237,
          0.9977944257829237,
          0.9977944257829237,
          0.9977944257829237,
          0.9977944257829237,
          0.9977944257829237,
          0.9977944257829237,
          0.9977944257829237,
          0.9977944257829237,
          0.9977944257829237,
          0.9977944257829237,
          0.9977944257829237,
          0.9977944257829237,
          0.9977944257829237,
          0.9977944257829237,
          0.9977944257829237,
          0.9977944257829237,
          0.9977944257829237,
          0.9977944257829237,
          0.9977944257829237,
          0.9977944257829237,
          0.9977944257829237,
          0.9977944257829237,
          0.9977944257829237,
          0.9977944257829237,
          0.9977944257829237,
          0.9977944257829237,
          0.9977944257829237,
          0.9977944257829237,
          0.9977944257829237,
          0.9977944257829237,
          0.9977944257829237,
          0.9977944257829237,
          0.9977944257829237,
          0.9977944257829237,
          0.9977944257829237,
          0.9977944257829237,
          0.9977944257829237,
          0.9977944257829237,
          0.9977944257829237,
          0.9977944257829237,
          0.9977944257829237,
          0.9977944257829237,
          0.9977944257829237,
          0.9977944257829237,
          0.9977944257829237,
          0.9977944257829237,
          0.9977944257829237,
          0.9977944257829237,
          0.9977944257829237,
          0.9977944257829237,
          0.9977944257829237,
          0.9977944257829237,
          0.9977944257829237,
          0.9977944257829237,
          0.9977944257829237,
          0.9977944257829237,
          0.9977944257829237,
          0.9977944257829237,
          0.9977944257829237,
          0.9977944257829237,
          0.9977944257829237,
          0.9977944257829237,
          0.9977944257829237,
          0.9977944257829237,
          0.9977944257829237,
          0.9977944257829237,
          0.9977944257829237,
          0.9977944257829237,
          0.9977944257829237,
          0.9977944257829237,
          0.9977944257829237,
          0.9977944257829237,
          0.9977944257829237,
          0.9977944257829237,
          0.9977944257829237,
          0.9977944257829237,
          0.9977944257829237,
          0.9977944257829237,
          0.9977944257829237,
          0.9977944257829237,
          0.9977944257829237,
          0.9977944257829237,
          0.9977944257829237,
          0.9977944257829237,
          0.9977944257829237,
          0.9977944257829237,
          0.9977944257829237,
          0.9977944257829237,
          0.9977944257829237,
          0.9977944257829237,
          0.9977944257829237,
          0.9977944257829237,
          0.9977944257829237,
          0.9977944257829237,
          0.9977944257829237,
          0.9977944257829237,
          0.9977944257829237,
          0.9977944257829237,
          0.9977944257829237,
          0.9977944257829237,
          0.9977944257829237,
          0.9977944257829237,
          0.9977944257829237,
          0.9977944257829237,
          0.9977944257829237,
          0.9977944257829237,
          0.9977944257829237,
          0.9977944257829237,
          0.9977944257829237,
          0.9977944257829237,
          0.9977944257829237,
          0.9977944257829237,
          0.9977944257829237,
          0.9977944257829237,
          0.9977944257829237,
          0.9977944257829237,
          0.9977944257829237,
          0.9977944257829237,
          0.9977944257829237,
          0.9977944257829237,
          0.9977944257829237,
          0.9977944257829237,
          0.9977944257829237,
          0.9977944257829237,
          0.9977944257829237,
          0.9977944257829237,
          0.9977944257829237,
          0.9977944257829237,
          0.9977944257829237,
          0.9977944257829237,
          0.9977944257829237,
          0.9977944257829237,
          0.9977944257829237,
          0.9977944257829237,
          0.9977944257829237,
          0.9977944257829237,
          0.9977944257829237,
          0.9977944257829237,
          0.9977944257829237,
          0.9977944257829237,
          0.9977944257829237,
          0.9977944257829237,
          0.9977944257829237,
          0.9977944257829237,
          0.9977944257829237,
          0.9977944257829237,
          0.9977944257829237,
          0.9977944257829237,
          0.9977944257829237,
          0.9977944257829237,
          0.9977944257829237,
          0.9977944257829237,
          0.9977944257829237,
          0.9977944257829237,
          0.9977944257829237,
          0.9977944257829237,
          0.9977944257829237,
          0.9977944257829237,
          0.9977944257829237,
          0.9977944257829237,
          0.9977944257829237,
          0.9977944257829237,
          0.9977944257829237,
          0.9977944257829237,
          0.9977944257829237,
          0.9977944257829237,
          0.9977944257829237,
          0.9977944257829237,
          0.9977944257829237,
          0.9977944257829237,
          0.9977944257829237,
          0.9977944257829237,
          0.9977944257829237,
          0.9977944257829237,
          0.9977944257829237,
          0.9977944257829237,
          0.9977944257829237,
          0.9977944257829237,
          0.9977944257829237,
          0.9977944257829237,
          0.9977944257829237,
          0.9977944257829237,
          0.9977944257829237,
          0.9977944257829237,
          0.9977944257829237,
          0.9977944257829237,
          0.9977944257829237,
          0.9977944257829237,
          0.9977944257829237,
          0.9977944257829237,
          0.9977944257829237,
          0.9977944257829237,
          0.9977944257829237,
          0.9977944257829237,
          0.9977944257829237,
          0.9977944257829237,
          0.9977944257829237,
          0.9977944257829237,
          0.9977944257829237,
          0.9977944257829237,
          0.9977944257829237,
          0.9977944257829237,
          0.9977944257829237,
          0.9977944257829237,
          0.9977944257829237,
          0.9977944257829237,
          0.9977944257829237,
          0.9977944257829237,
          0.9977944257829237,
          0.9977944257829237,
          0.9977944257829237,
          0.9977944257829237,
          0.9977944257829237,
          0.9977944257829237,
          0.9977944257829237,
          0.9977944257829237,
          0.9977944257829237,
          0.9977944257829237,
          0.9977944257829237,
          0.9977944257829237,
          0.9977944257829237,
          0.9977944257829237,
          0.9977944257829237,
          0.9977944257829237,
          0.9977944257829237,
          0.9977944257829237,
          0.9977944257829237,
          0.9977944257829237,
          0.9977944257829237,
          0.9977944257829237,
          0.9977944257829237,
          0.9977944257829237,
          0.9977944257829237,
          0.9977944257829237,
          0.9977944257829237,
          0.9977944257829237,
          0.9977944257829237,
          0.9977944257829237,
          0.9977944257829237,
          0.9977944257829237,
          0.9977944257829237,
          0.9977944257829237,
          0.9977944257829237,
          0.9977944257829237,
          0.9977944257829237,
          0.9977944257829237,
          0.9977944257829237,
          0.9977944257829237,
          0.9977944257829237,
          0.9977944257829237,
          0.9977944257829237,
          0.9977944257829237,
          0.9977944257829237,
          0.9977944257829237,
          0.9977944257829237,
          0.9977944257829237,
          0.9977944257829237,
          0.9977944257829237,
          0.9977944257829237,
          0.9977944257829237,
          0.9977944257829237,
          0.9977944257829237,
          0.9977944257829237,
          0.9977944257829237,
          0.9977944257829237,
          0.9977944257829237,
          0.9977944257829237,
          0.9977944257829237,
          0.9977944257829237,
          0.9977944257829237,
          0.9977944257829237,
          0.9977944257829237,
          0.9977944257829237,
          0.9977944257829237,
          0.9977944257829237,
          0.9977944257829237,
          0.9977944257829237,
          0.9977944257829237,
          0.9977944257829237,
          0.9977944257829237,
          0.9977944257829237,
          0.9977944257829237,
          0.9977944257829237,
          0.9977944257829237,
          0.9977944257829237,
          0.9977944257829237,
          0.9977944257829237,
          0.9977944257829237,
          0.9977944257829237,
          0.9977944257829237,
          0.9977944257829237,
          0.9977944257829237,
          0.9977944257829237,
          0.9977944257829237,
          0.9977944257829237,
          0.9977944257829237,
          0.9977944257829237,
          0.9977944257829237,
          0.9977944257829237,
          0.9977944257829237,
          0.9977944257829237,
          0.9977944257829237,
          0.9977944257829237,
          0.9977944257829237,
          0.9977944257829237,
          0.9977944257829237,
          0.9977944257829237,
          0.9977944257829237,
          0.9977944257829237,
          0.9977944257829237,
          0.9977944257829237,
          0.9977944257829237,
          0.9977944257829237,
          0.9977944257829237,
          0.9977944257829237,
          0.9977944257829237,
          0.9977944257829237,
          0.9977944257829237,
          0.9977944257829237,
          0.9977944257829237,
          0.9977944257829237,
          0.9977944257829237,
          0.9977944257829237,
          0.9977944257829237,
          0.9977944257829237,
          0.9977944257829237,
          0.9977944257829237,
          0.9977944257829237,
          0.9977944257829237,
          0.9977944257829237,
          0.9977944257829237,
          0.9977944257829237,
          0.9977944257829237,
          0.9977944257829237,
          0.9977944257829237,
          0.9977944257829237,
          0.9977944257829237,
          0.9977944257829237,
          0.9977944257829237,
          0.9977944257829237,
          0.9977944257829237,
          0.9977944257829237,
          0.9977944257829237,
          0.9977944257829237,
          0.9977944257829237,
          0.9977944257829237,
          0.9977944257829237,
          0.9977944257829237,
          0.9977944257829237,
          0.9977944257829237,
          0.9977944257829237,
          0.9977944257829237,
          0.9977944257829237,
          0.9977944257829237,
          0.9977944257829237,
          0.9977944257829237,
          0.9977944257829237,
          0.9977944257829237,
          0.9977944257829237,
          0.9977944257829237,
          0.9977944257829237,
          0.9977944257829237,
          0.9977944257829237,
          0.9977944257829237,
          0.9977944257829237,
          0.9977944257829237,
          0.9977944257829237,
          0.9977944257829237,
          0.9977944257829237,
          0.9977944257829237,
          0.9977944257829237,
          0.9977944257829237,
          0.9977944257829237,
          0.9977944257829237,
          0.9977944257829237,
          0.9977944257829237,
          0.9977944257829237,
          0.9977944257829237,
          0.9977944257829237,
          0.9977944257829237,
          0.9977944257829237,
          0.9977944257829237,
          0.9977944257829237,
          0.9977944257829237,
          0.9977944257829237,
          0.9977944257829237,
          0.9977944257829237,
          0.9977944257829237,
          0.9977944257829237,
          0.9977944257829237,
          0.9977944257829237,
          0.9977944257829237,
          0.9977944257829237,
          0.9977944257829237,
          0.9977944257829237,
          0.9977944257829237,
          0.9977944257829237,
          0.9977944257829237,
          0.9977944257829237,
          0.9977944257829237,
          0.9977944257829237,
          0.9977944257829237,
          0.9977944257829237,
          0.9977944257829237,
          0.9977944257829237
         ],
         "xaxis": "x",
         "yaxis": "y",
         "type": "histogram"
        }
       ],
       "layout": {
        "template": {
         "data": {
          "bar": [
           {
            "error_x": {
             "color": "#2a3f5f"
            },
            "error_y": {
             "color": "#2a3f5f"
            },
            "marker": {
             "line": {
              "color": "#E5ECF6",
              "width": 0.5
             },
             "pattern": {
              "fillmode": "overlay",
              "size": 10,
              "solidity": 0.2
             }
            },
            "type": "bar"
           }
          ],
          "barpolar": [
           {
            "marker": {
             "line": {
              "color": "#E5ECF6",
              "width": 0.5
             },
             "pattern": {
              "fillmode": "overlay",
              "size": 10,
              "solidity": 0.2
             }
            },
            "type": "barpolar"
           }
          ],
          "carpet": [
           {
            "aaxis": {
             "endlinecolor": "#2a3f5f",
             "gridcolor": "white",
             "linecolor": "white",
             "minorgridcolor": "white",
             "startlinecolor": "#2a3f5f"
            },
            "baxis": {
             "endlinecolor": "#2a3f5f",
             "gridcolor": "white",
             "linecolor": "white",
             "minorgridcolor": "white",
             "startlinecolor": "#2a3f5f"
            },
            "type": "carpet"
           }
          ],
          "choropleth": [
           {
            "colorbar": {
             "outlinewidth": 0,
             "ticks": ""
            },
            "type": "choropleth"
           }
          ],
          "contour": [
           {
            "colorbar": {
             "outlinewidth": 0,
             "ticks": ""
            },
            "colorscale": [
             [
              0.0,
              "#0d0887"
             ],
             [
              0.1111111111111111,
              "#46039f"
             ],
             [
              0.2222222222222222,
              "#7201a8"
             ],
             [
              0.3333333333333333,
              "#9c179e"
             ],
             [
              0.4444444444444444,
              "#bd3786"
             ],
             [
              0.5555555555555556,
              "#d8576b"
             ],
             [
              0.6666666666666666,
              "#ed7953"
             ],
             [
              0.7777777777777778,
              "#fb9f3a"
             ],
             [
              0.8888888888888888,
              "#fdca26"
             ],
             [
              1.0,
              "#f0f921"
             ]
            ],
            "type": "contour"
           }
          ],
          "contourcarpet": [
           {
            "colorbar": {
             "outlinewidth": 0,
             "ticks": ""
            },
            "type": "contourcarpet"
           }
          ],
          "heatmap": [
           {
            "colorbar": {
             "outlinewidth": 0,
             "ticks": ""
            },
            "colorscale": [
             [
              0.0,
              "#0d0887"
             ],
             [
              0.1111111111111111,
              "#46039f"
             ],
             [
              0.2222222222222222,
              "#7201a8"
             ],
             [
              0.3333333333333333,
              "#9c179e"
             ],
             [
              0.4444444444444444,
              "#bd3786"
             ],
             [
              0.5555555555555556,
              "#d8576b"
             ],
             [
              0.6666666666666666,
              "#ed7953"
             ],
             [
              0.7777777777777778,
              "#fb9f3a"
             ],
             [
              0.8888888888888888,
              "#fdca26"
             ],
             [
              1.0,
              "#f0f921"
             ]
            ],
            "type": "heatmap"
           }
          ],
          "heatmapgl": [
           {
            "colorbar": {
             "outlinewidth": 0,
             "ticks": ""
            },
            "colorscale": [
             [
              0.0,
              "#0d0887"
             ],
             [
              0.1111111111111111,
              "#46039f"
             ],
             [
              0.2222222222222222,
              "#7201a8"
             ],
             [
              0.3333333333333333,
              "#9c179e"
             ],
             [
              0.4444444444444444,
              "#bd3786"
             ],
             [
              0.5555555555555556,
              "#d8576b"
             ],
             [
              0.6666666666666666,
              "#ed7953"
             ],
             [
              0.7777777777777778,
              "#fb9f3a"
             ],
             [
              0.8888888888888888,
              "#fdca26"
             ],
             [
              1.0,
              "#f0f921"
             ]
            ],
            "type": "heatmapgl"
           }
          ],
          "histogram": [
           {
            "marker": {
             "pattern": {
              "fillmode": "overlay",
              "size": 10,
              "solidity": 0.2
             }
            },
            "type": "histogram"
           }
          ],
          "histogram2d": [
           {
            "colorbar": {
             "outlinewidth": 0,
             "ticks": ""
            },
            "colorscale": [
             [
              0.0,
              "#0d0887"
             ],
             [
              0.1111111111111111,
              "#46039f"
             ],
             [
              0.2222222222222222,
              "#7201a8"
             ],
             [
              0.3333333333333333,
              "#9c179e"
             ],
             [
              0.4444444444444444,
              "#bd3786"
             ],
             [
              0.5555555555555556,
              "#d8576b"
             ],
             [
              0.6666666666666666,
              "#ed7953"
             ],
             [
              0.7777777777777778,
              "#fb9f3a"
             ],
             [
              0.8888888888888888,
              "#fdca26"
             ],
             [
              1.0,
              "#f0f921"
             ]
            ],
            "type": "histogram2d"
           }
          ],
          "histogram2dcontour": [
           {
            "colorbar": {
             "outlinewidth": 0,
             "ticks": ""
            },
            "colorscale": [
             [
              0.0,
              "#0d0887"
             ],
             [
              0.1111111111111111,
              "#46039f"
             ],
             [
              0.2222222222222222,
              "#7201a8"
             ],
             [
              0.3333333333333333,
              "#9c179e"
             ],
             [
              0.4444444444444444,
              "#bd3786"
             ],
             [
              0.5555555555555556,
              "#d8576b"
             ],
             [
              0.6666666666666666,
              "#ed7953"
             ],
             [
              0.7777777777777778,
              "#fb9f3a"
             ],
             [
              0.8888888888888888,
              "#fdca26"
             ],
             [
              1.0,
              "#f0f921"
             ]
            ],
            "type": "histogram2dcontour"
           }
          ],
          "mesh3d": [
           {
            "colorbar": {
             "outlinewidth": 0,
             "ticks": ""
            },
            "type": "mesh3d"
           }
          ],
          "parcoords": [
           {
            "line": {
             "colorbar": {
              "outlinewidth": 0,
              "ticks": ""
             }
            },
            "type": "parcoords"
           }
          ],
          "pie": [
           {
            "automargin": true,
            "type": "pie"
           }
          ],
          "scatter": [
           {
            "marker": {
             "colorbar": {
              "outlinewidth": 0,
              "ticks": ""
             }
            },
            "type": "scatter"
           }
          ],
          "scatter3d": [
           {
            "line": {
             "colorbar": {
              "outlinewidth": 0,
              "ticks": ""
             }
            },
            "marker": {
             "colorbar": {
              "outlinewidth": 0,
              "ticks": ""
             }
            },
            "type": "scatter3d"
           }
          ],
          "scattercarpet": [
           {
            "marker": {
             "colorbar": {
              "outlinewidth": 0,
              "ticks": ""
             }
            },
            "type": "scattercarpet"
           }
          ],
          "scattergeo": [
           {
            "marker": {
             "colorbar": {
              "outlinewidth": 0,
              "ticks": ""
             }
            },
            "type": "scattergeo"
           }
          ],
          "scattergl": [
           {
            "marker": {
             "colorbar": {
              "outlinewidth": 0,
              "ticks": ""
             }
            },
            "type": "scattergl"
           }
          ],
          "scattermapbox": [
           {
            "marker": {
             "colorbar": {
              "outlinewidth": 0,
              "ticks": ""
             }
            },
            "type": "scattermapbox"
           }
          ],
          "scatterpolar": [
           {
            "marker": {
             "colorbar": {
              "outlinewidth": 0,
              "ticks": ""
             }
            },
            "type": "scatterpolar"
           }
          ],
          "scatterpolargl": [
           {
            "marker": {
             "colorbar": {
              "outlinewidth": 0,
              "ticks": ""
             }
            },
            "type": "scatterpolargl"
           }
          ],
          "scatterternary": [
           {
            "marker": {
             "colorbar": {
              "outlinewidth": 0,
              "ticks": ""
             }
            },
            "type": "scatterternary"
           }
          ],
          "surface": [
           {
            "colorbar": {
             "outlinewidth": 0,
             "ticks": ""
            },
            "colorscale": [
             [
              0.0,
              "#0d0887"
             ],
             [
              0.1111111111111111,
              "#46039f"
             ],
             [
              0.2222222222222222,
              "#7201a8"
             ],
             [
              0.3333333333333333,
              "#9c179e"
             ],
             [
              0.4444444444444444,
              "#bd3786"
             ],
             [
              0.5555555555555556,
              "#d8576b"
             ],
             [
              0.6666666666666666,
              "#ed7953"
             ],
             [
              0.7777777777777778,
              "#fb9f3a"
             ],
             [
              0.8888888888888888,
              "#fdca26"
             ],
             [
              1.0,
              "#f0f921"
             ]
            ],
            "type": "surface"
           }
          ],
          "table": [
           {
            "cells": {
             "fill": {
              "color": "#EBF0F8"
             },
             "line": {
              "color": "white"
             }
            },
            "header": {
             "fill": {
              "color": "#C8D4E3"
             },
             "line": {
              "color": "white"
             }
            },
            "type": "table"
           }
          ]
         },
         "layout": {
          "annotationdefaults": {
           "arrowcolor": "#2a3f5f",
           "arrowhead": 0,
           "arrowwidth": 1
          },
          "autotypenumbers": "strict",
          "coloraxis": {
           "colorbar": {
            "outlinewidth": 0,
            "ticks": ""
           }
          },
          "colorscale": {
           "diverging": [
            [
             0,
             "#8e0152"
            ],
            [
             0.1,
             "#c51b7d"
            ],
            [
             0.2,
             "#de77ae"
            ],
            [
             0.3,
             "#f1b6da"
            ],
            [
             0.4,
             "#fde0ef"
            ],
            [
             0.5,
             "#f7f7f7"
            ],
            [
             0.6,
             "#e6f5d0"
            ],
            [
             0.7,
             "#b8e186"
            ],
            [
             0.8,
             "#7fbc41"
            ],
            [
             0.9,
             "#4d9221"
            ],
            [
             1,
             "#276419"
            ]
           ],
           "sequential": [
            [
             0.0,
             "#0d0887"
            ],
            [
             0.1111111111111111,
             "#46039f"
            ],
            [
             0.2222222222222222,
             "#7201a8"
            ],
            [
             0.3333333333333333,
             "#9c179e"
            ],
            [
             0.4444444444444444,
             "#bd3786"
            ],
            [
             0.5555555555555556,
             "#d8576b"
            ],
            [
             0.6666666666666666,
             "#ed7953"
            ],
            [
             0.7777777777777778,
             "#fb9f3a"
            ],
            [
             0.8888888888888888,
             "#fdca26"
            ],
            [
             1.0,
             "#f0f921"
            ]
           ],
           "sequentialminus": [
            [
             0.0,
             "#0d0887"
            ],
            [
             0.1111111111111111,
             "#46039f"
            ],
            [
             0.2222222222222222,
             "#7201a8"
            ],
            [
             0.3333333333333333,
             "#9c179e"
            ],
            [
             0.4444444444444444,
             "#bd3786"
            ],
            [
             0.5555555555555556,
             "#d8576b"
            ],
            [
             0.6666666666666666,
             "#ed7953"
            ],
            [
             0.7777777777777778,
             "#fb9f3a"
            ],
            [
             0.8888888888888888,
             "#fdca26"
            ],
            [
             1.0,
             "#f0f921"
            ]
           ]
          },
          "colorway": [
           "#636efa",
           "#EF553B",
           "#00cc96",
           "#ab63fa",
           "#FFA15A",
           "#19d3f3",
           "#FF6692",
           "#B6E880",
           "#FF97FF",
           "#FECB52"
          ],
          "font": {
           "color": "#2a3f5f"
          },
          "geo": {
           "bgcolor": "white",
           "lakecolor": "white",
           "landcolor": "#E5ECF6",
           "showlakes": true,
           "showland": true,
           "subunitcolor": "white"
          },
          "hoverlabel": {
           "align": "left"
          },
          "hovermode": "closest",
          "mapbox": {
           "style": "light"
          },
          "paper_bgcolor": "white",
          "plot_bgcolor": "#E5ECF6",
          "polar": {
           "angularaxis": {
            "gridcolor": "white",
            "linecolor": "white",
            "ticks": ""
           },
           "bgcolor": "#E5ECF6",
           "radialaxis": {
            "gridcolor": "white",
            "linecolor": "white",
            "ticks": ""
           }
          },
          "scene": {
           "xaxis": {
            "backgroundcolor": "#E5ECF6",
            "gridcolor": "white",
            "gridwidth": 2,
            "linecolor": "white",
            "showbackground": true,
            "ticks": "",
            "zerolinecolor": "white"
           },
           "yaxis": {
            "backgroundcolor": "#E5ECF6",
            "gridcolor": "white",
            "gridwidth": 2,
            "linecolor": "white",
            "showbackground": true,
            "ticks": "",
            "zerolinecolor": "white"
           },
           "zaxis": {
            "backgroundcolor": "#E5ECF6",
            "gridcolor": "white",
            "gridwidth": 2,
            "linecolor": "white",
            "showbackground": true,
            "ticks": "",
            "zerolinecolor": "white"
           }
          },
          "shapedefaults": {
           "line": {
            "color": "#2a3f5f"
           }
          },
          "ternary": {
           "aaxis": {
            "gridcolor": "white",
            "linecolor": "white",
            "ticks": ""
           },
           "baxis": {
            "gridcolor": "white",
            "linecolor": "white",
            "ticks": ""
           },
           "bgcolor": "#E5ECF6",
           "caxis": {
            "gridcolor": "white",
            "linecolor": "white",
            "ticks": ""
           }
          },
          "title": {
           "x": 0.05
          },
          "xaxis": {
           "automargin": true,
           "gridcolor": "white",
           "linecolor": "white",
           "ticks": "",
           "title": {
            "standoff": 15
           },
           "zerolinecolor": "white",
           "zerolinewidth": 2
          },
          "yaxis": {
           "automargin": true,
           "gridcolor": "white",
           "linecolor": "white",
           "ticks": "",
           "title": {
            "standoff": 15
           },
           "zerolinecolor": "white",
           "zerolinewidth": 2
          }
         }
        },
        "xaxis": {
         "anchor": "y",
         "domain": [
          0.0,
          1.0
         ],
         "title": {
          "text": "value"
         }
        },
        "yaxis": {
         "anchor": "x",
         "domain": [
          0.0,
          1.0
         ],
         "title": {
          "text": "count"
         }
        },
        "legend": {
         "title": {
          "text": "variable"
         },
         "tracegroupgap": 0
        },
        "title": {
         "text": "Histogram of the bootstrap replications of theta"
        },
        "barmode": "relative"
       },
       "config": {
        "plotlyServerURL": "https://plot.ly"
       }
      },
      "text/html": "<div>                            <div id=\"f34b24a7-8a2e-4be8-9005-d1cd77657f84\" class=\"plotly-graph-div\" style=\"height:525px; width:100%;\"></div>            <script type=\"text/javascript\">                require([\"plotly\"], function(Plotly) {                    window.PLOTLYENV=window.PLOTLYENV || {};                                    if (document.getElementById(\"f34b24a7-8a2e-4be8-9005-d1cd77657f84\")) {                    Plotly.newPlot(                        \"f34b24a7-8a2e-4be8-9005-d1cd77657f84\",                        [{\"alignmentgroup\":\"True\",\"bingroup\":\"x\",\"hovertemplate\":\"variable=0<br>value=%{x}<br>count=%{y}<extra></extra>\",\"legendgroup\":\"0\",\"marker\":{\"color\":\"#636efa\",\"pattern\":{\"shape\":\"\"}},\"name\":\"0\",\"offsetgroup\":\"0\",\"orientation\":\"v\",\"showlegend\":true,\"x\":[0.863513879795488,0.863513879795488,0.863513879795488,0.9207490851848662,0.9207490851848662,0.9207490851848662,0.9207490851848662,0.9330248753440699,0.9330248753440699,0.9330248753440699,0.9330248753440699,0.9330248753440699,0.9330248753440699,0.9330248753440699,0.9330248753440699,0.9330248753440699,0.9330248753440699,0.9330248753440699,0.9330248753440699,0.9330248753440699,0.9330248753440699,0.9330248753440699,0.985103676015227,0.985103676015227,0.985103676015227,0.985103676015227,0.985103676015227,0.985103676015227,0.985103676015227,0.985103676015227,0.985103676015227,0.985103676015227,0.985103676015227,0.985103676015227,0.985103676015227,0.985103676015227,0.985103676015227,0.985103676015227,0.985103676015227,0.985103676015227,0.985103676015227,0.985103676015227,0.985103676015227,0.985103676015227,0.985103676015227,0.985103676015227,0.985103676015227,0.985103676015227,0.985103676015227,0.985103676015227,0.985103676015227,0.985103676015227,0.985103676015227,0.985103676015227,0.985103676015227,0.985103676015227,0.985103676015227,0.985103676015227,0.985103676015227,0.985103676015227,0.9920364361901777,0.9920364361901777,0.9920364361901777,0.9920364361901777,0.9920364361901777,0.9920364361901777,0.9920364361901777,0.9920364361901777,0.9920364361901777,0.9920364361901777,0.9920364361901777,0.9920364361901777,0.9920364361901777,0.9920364361901777,0.9920364361901777,0.9920364361901777,0.9920364361901777,0.9920364361901777,0.9920364361901777,0.9920364361901777,0.9920364361901777,0.9920364361901777,0.9920364361901777,0.9920364361901777,0.9920364361901777,0.9920364361901777,0.9920364361901777,0.9920364361901777,0.9920364361901777,0.9920364361901777,0.9920364361901777,0.9920364361901777,0.9920364361901777,0.9920364361901777,0.9920364361901777,0.9920364361901777,0.9920364361901777,0.9920364361901777,0.9920364361901777,0.9920364361901777,0.9920364361901777,0.9920364361901777,0.9920364361901777,0.9920364361901777,0.9920364361901777,0.9920364361901777,0.9920364361901777,0.9920364361901777,0.9920364361901777,0.9920364361901777,0.9920364361901777,0.9920364361901777,0.9920364361901777,0.9920364361901777,0.9920364361901777,0.9920364361901777,0.9920364361901777,0.9920364361901777,0.9920364361901777,0.9920364361901777,0.9920364361901777,0.9920364361901777,0.9920364361901777,0.9920364361901777,0.9920364361901777,0.9920364361901777,0.9920364361901777,0.9920364361901777,0.9920364361901777,0.9920364361901777,0.9920364361901777,0.9920364361901777,0.9974339703489046,0.9974339703489046,0.9974339703489046,0.9974339703489046,0.9974339703489046,0.9974339703489046,0.9974339703489046,0.9974339703489046,0.9974339703489046,0.9974339703489046,0.9974339703489046,0.9974339703489046,0.9974339703489046,0.9974339703489046,0.9974339703489046,0.9974339703489046,0.9974339703489046,0.9974339703489046,0.9974339703489046,0.9974339703489046,0.9974339703489046,0.9974339703489046,0.9974339703489046,0.9974339703489046,0.9974339703489046,0.9974339703489046,0.9974339703489046,0.9974339703489046,0.9974339703489046,0.9974339703489046,0.9974339703489046,0.9974339703489046,0.9974339703489046,0.9974339703489046,0.9974339703489046,0.9974339703489046,0.9974339703489046,0.9974339703489046,0.9974339703489046,0.9974339703489046,0.9974339703489046,0.9974339703489046,0.9974339703489046,0.9974339703489046,0.9974339703489046,0.9974339703489046,0.9974339703489046,0.9974339703489046,0.9974339703489046,0.9974339703489046,0.9974339703489046,0.9974339703489046,0.9974339703489046,0.9974339703489046,0.9974339703489046,0.9974339703489046,0.9974339703489046,0.9974339703489046,0.9974339703489046,0.9974339703489046,0.9974339703489046,0.9974339703489046,0.9974339703489046,0.9974339703489046,0.9974339703489046,0.9974339703489046,0.9974339703489046,0.9974339703489046,0.9974339703489046,0.9974339703489046,0.9974339703489046,0.9974339703489046,0.9974339703489046,0.9974339703489046,0.9974339703489046,0.9974339703489046,0.9974339703489046,0.9974339703489046,0.9974339703489046,0.9974339703489046,0.9974339703489046,0.9974339703489046,0.9974339703489046,0.9974339703489046,0.9974339703489046,0.9974339703489046,0.9974339703489046,0.9974339703489046,0.9974339703489046,0.9974339703489046,0.9974339703489046,0.9974339703489046,0.9974339703489046,0.9974339703489046,0.9974339703489046,0.9974339703489046,0.9974339703489046,0.9974339703489046,0.9974339703489046,0.9974339703489046,0.9974339703489046,0.9974339703489046,0.9974339703489046,0.9974339703489046,0.9974339703489046,0.9974339703489046,0.9974339703489046,0.9974339703489046,0.9974339703489046,0.9974339703489046,0.9974339703489046,0.9974339703489046,0.9974339703489046,0.9974339703489046,0.9974339703489046,0.9974339703489046,0.9974339703489046,0.9974339703489046,0.9974339703489046,0.9974339703489046,0.9974339703489046,0.9974339703489046,0.9974339703489046,0.9974339703489046,0.9974339703489046,0.9974339703489046,0.9974339703489046,0.9974339703489046,0.9974339703489046,0.9974339703489046,0.9974339703489046,0.9974339703489046,0.9974339703489046,0.9974339703489046,0.9974339703489046,0.9974339703489046,0.9974339703489046,0.9974339703489046,0.9974339703489046,0.9974339703489046,0.9974339703489046,0.9974339703489046,0.9974339703489046,0.9974339703489046,0.9974339703489046,0.9974339703489046,0.9974339703489046,0.9974339703489046,0.9974339703489046,0.9974339703489046,0.9974339703489046,0.9974339703489046,0.9974339703489046,0.9974339703489046,0.9974339703489046,0.9974339703489046,0.9974339703489046,0.9974339703489046,0.9974339703489046,0.9974339703489046,0.9974339703489046,0.9974339703489046,0.9974339703489046,0.9974339703489046,0.9974339703489046,0.9974339703489046,0.9974339703489046,0.9974339703489046,0.9974339703489046,0.9974339703489046,0.9974339703489046,0.9974339703489046,0.9974339703489046,0.9974339703489046,0.9974339703489046,0.9974339703489046,0.9974339703489046,0.9974339703489046,0.9974339703489046,0.9974339703489046,0.9974339703489046,0.9974339703489046,0.9974339703489046,0.9974339703489046,0.9974339703489046,0.9974339703489046,0.9974339703489046,0.9974339703489046,0.9974339703489046,0.9974339703489046,0.9974339703489046,0.9974339703489046,0.9974339703489046,0.9974339703489046,0.9974339703489046,0.9974339703489046,0.9974339703489046,0.9974339703489046,0.9974339703489046,0.9974339703489046,0.9974339703489046,0.9974339703489046,0.9974339703489046,0.9974339703489046,0.9974339703489046,0.9974339703489046,0.9974339703489046,0.9974339703489046,0.9974339703489046,0.9974339703489046,0.9974339703489046,0.9974339703489046,0.9974339703489046,0.9974339703489046,0.9974339703489046,0.9974339703489046,0.9974339703489046,0.9974339703489046,0.9974339703489046,0.9974339703489046,0.9974339703489046,0.9974339703489046,0.9974339703489046,0.9974339703489046,0.9974339703489046,0.9974339703489046,0.9974339703489046,0.9977944257829237,0.9977944257829237,0.9977944257829237,0.9977944257829237,0.9977944257829237,0.9977944257829237,0.9977944257829237,0.9977944257829237,0.9977944257829237,0.9977944257829237,0.9977944257829237,0.9977944257829237,0.9977944257829237,0.9977944257829237,0.9977944257829237,0.9977944257829237,0.9977944257829237,0.9977944257829237,0.9977944257829237,0.9977944257829237,0.9977944257829237,0.9977944257829237,0.9977944257829237,0.9977944257829237,0.9977944257829237,0.9977944257829237,0.9977944257829237,0.9977944257829237,0.9977944257829237,0.9977944257829237,0.9977944257829237,0.9977944257829237,0.9977944257829237,0.9977944257829237,0.9977944257829237,0.9977944257829237,0.9977944257829237,0.9977944257829237,0.9977944257829237,0.9977944257829237,0.9977944257829237,0.9977944257829237,0.9977944257829237,0.9977944257829237,0.9977944257829237,0.9977944257829237,0.9977944257829237,0.9977944257829237,0.9977944257829237,0.9977944257829237,0.9977944257829237,0.9977944257829237,0.9977944257829237,0.9977944257829237,0.9977944257829237,0.9977944257829237,0.9977944257829237,0.9977944257829237,0.9977944257829237,0.9977944257829237,0.9977944257829237,0.9977944257829237,0.9977944257829237,0.9977944257829237,0.9977944257829237,0.9977944257829237,0.9977944257829237,0.9977944257829237,0.9977944257829237,0.9977944257829237,0.9977944257829237,0.9977944257829237,0.9977944257829237,0.9977944257829237,0.9977944257829237,0.9977944257829237,0.9977944257829237,0.9977944257829237,0.9977944257829237,0.9977944257829237,0.9977944257829237,0.9977944257829237,0.9977944257829237,0.9977944257829237,0.9977944257829237,0.9977944257829237,0.9977944257829237,0.9977944257829237,0.9977944257829237,0.9977944257829237,0.9977944257829237,0.9977944257829237,0.9977944257829237,0.9977944257829237,0.9977944257829237,0.9977944257829237,0.9977944257829237,0.9977944257829237,0.9977944257829237,0.9977944257829237,0.9977944257829237,0.9977944257829237,0.9977944257829237,0.9977944257829237,0.9977944257829237,0.9977944257829237,0.9977944257829237,0.9977944257829237,0.9977944257829237,0.9977944257829237,0.9977944257829237,0.9977944257829237,0.9977944257829237,0.9977944257829237,0.9977944257829237,0.9977944257829237,0.9977944257829237,0.9977944257829237,0.9977944257829237,0.9977944257829237,0.9977944257829237,0.9977944257829237,0.9977944257829237,0.9977944257829237,0.9977944257829237,0.9977944257829237,0.9977944257829237,0.9977944257829237,0.9977944257829237,0.9977944257829237,0.9977944257829237,0.9977944257829237,0.9977944257829237,0.9977944257829237,0.9977944257829237,0.9977944257829237,0.9977944257829237,0.9977944257829237,0.9977944257829237,0.9977944257829237,0.9977944257829237,0.9977944257829237,0.9977944257829237,0.9977944257829237,0.9977944257829237,0.9977944257829237,0.9977944257829237,0.9977944257829237,0.9977944257829237,0.9977944257829237,0.9977944257829237,0.9977944257829237,0.9977944257829237,0.9977944257829237,0.9977944257829237,0.9977944257829237,0.9977944257829237,0.9977944257829237,0.9977944257829237,0.9977944257829237,0.9977944257829237,0.9977944257829237,0.9977944257829237,0.9977944257829237,0.9977944257829237,0.9977944257829237,0.9977944257829237,0.9977944257829237,0.9977944257829237,0.9977944257829237,0.9977944257829237,0.9977944257829237,0.9977944257829237,0.9977944257829237,0.9977944257829237,0.9977944257829237,0.9977944257829237,0.9977944257829237,0.9977944257829237,0.9977944257829237,0.9977944257829237,0.9977944257829237,0.9977944257829237,0.9977944257829237,0.9977944257829237,0.9977944257829237,0.9977944257829237,0.9977944257829237,0.9977944257829237,0.9977944257829237,0.9977944257829237,0.9977944257829237,0.9977944257829237,0.9977944257829237,0.9977944257829237,0.9977944257829237,0.9977944257829237,0.9977944257829237,0.9977944257829237,0.9977944257829237,0.9977944257829237,0.9977944257829237,0.9977944257829237,0.9977944257829237,0.9977944257829237,0.9977944257829237,0.9977944257829237,0.9977944257829237,0.9977944257829237,0.9977944257829237,0.9977944257829237,0.9977944257829237,0.9977944257829237,0.9977944257829237,0.9977944257829237,0.9977944257829237,0.9977944257829237,0.9977944257829237,0.9977944257829237,0.9977944257829237,0.9977944257829237,0.9977944257829237,0.9977944257829237,0.9977944257829237,0.9977944257829237,0.9977944257829237,0.9977944257829237,0.9977944257829237,0.9977944257829237,0.9977944257829237,0.9977944257829237,0.9977944257829237,0.9977944257829237,0.9977944257829237,0.9977944257829237,0.9977944257829237,0.9977944257829237,0.9977944257829237,0.9977944257829237,0.9977944257829237,0.9977944257829237,0.9977944257829237,0.9977944257829237,0.9977944257829237,0.9977944257829237,0.9977944257829237,0.9977944257829237,0.9977944257829237,0.9977944257829237,0.9977944257829237,0.9977944257829237,0.9977944257829237,0.9977944257829237,0.9977944257829237,0.9977944257829237,0.9977944257829237,0.9977944257829237,0.9977944257829237,0.9977944257829237,0.9977944257829237,0.9977944257829237,0.9977944257829237,0.9977944257829237,0.9977944257829237,0.9977944257829237,0.9977944257829237,0.9977944257829237,0.9977944257829237,0.9977944257829237,0.9977944257829237,0.9977944257829237,0.9977944257829237,0.9977944257829237,0.9977944257829237,0.9977944257829237,0.9977944257829237,0.9977944257829237,0.9977944257829237,0.9977944257829237,0.9977944257829237,0.9977944257829237,0.9977944257829237,0.9977944257829237,0.9977944257829237,0.9977944257829237,0.9977944257829237,0.9977944257829237,0.9977944257829237,0.9977944257829237,0.9977944257829237,0.9977944257829237,0.9977944257829237,0.9977944257829237,0.9977944257829237,0.9977944257829237,0.9977944257829237,0.9977944257829237,0.9977944257829237,0.9977944257829237,0.9977944257829237,0.9977944257829237,0.9977944257829237,0.9977944257829237,0.9977944257829237,0.9977944257829237,0.9977944257829237,0.9977944257829237,0.9977944257829237,0.9977944257829237,0.9977944257829237,0.9977944257829237,0.9977944257829237,0.9977944257829237,0.9977944257829237,0.9977944257829237,0.9977944257829237,0.9977944257829237,0.9977944257829237,0.9977944257829237,0.9977944257829237,0.9977944257829237,0.9977944257829237,0.9977944257829237,0.9977944257829237,0.9977944257829237,0.9977944257829237,0.9977944257829237,0.9977944257829237,0.9977944257829237,0.9977944257829237,0.9977944257829237,0.9977944257829237,0.9977944257829237,0.9977944257829237,0.9977944257829237,0.9977944257829237,0.9977944257829237,0.9977944257829237,0.9977944257829237,0.9977944257829237,0.9977944257829237,0.9977944257829237,0.9977944257829237,0.9977944257829237,0.9977944257829237,0.9977944257829237,0.9977944257829237,0.9977944257829237,0.9977944257829237,0.9977944257829237,0.9977944257829237,0.9977944257829237,0.9977944257829237,0.9977944257829237,0.9977944257829237,0.9977944257829237,0.9977944257829237,0.9977944257829237,0.9977944257829237,0.9977944257829237,0.9977944257829237,0.9977944257829237,0.9977944257829237,0.9977944257829237,0.9977944257829237,0.9977944257829237,0.9977944257829237,0.9977944257829237,0.9977944257829237,0.9977944257829237,0.9977944257829237,0.9977944257829237,0.9977944257829237,0.9977944257829237,0.9977944257829237,0.9977944257829237,0.9977944257829237,0.9977944257829237,0.9977944257829237,0.9977944257829237,0.9977944257829237,0.9977944257829237,0.9977944257829237,0.9977944257829237,0.9977944257829237,0.9977944257829237,0.9977944257829237,0.9977944257829237,0.9977944257829237,0.9977944257829237,0.9977944257829237,0.9977944257829237,0.9977944257829237,0.9977944257829237,0.9977944257829237,0.9977944257829237,0.9977944257829237,0.9977944257829237,0.9977944257829237,0.9977944257829237,0.9977944257829237,0.9977944257829237,0.9977944257829237,0.9977944257829237,0.9977944257829237,0.9977944257829237,0.9977944257829237,0.9977944257829237,0.9977944257829237,0.9977944257829237,0.9977944257829237,0.9977944257829237,0.9977944257829237,0.9977944257829237,0.9977944257829237,0.9977944257829237,0.9977944257829237,0.9977944257829237,0.9977944257829237,0.9977944257829237,0.9977944257829237,0.9977944257829237,0.9977944257829237,0.9977944257829237,0.9977944257829237,0.9977944257829237,0.9977944257829237,0.9977944257829237,0.9977944257829237,0.9977944257829237,0.9977944257829237,0.9977944257829237,0.9977944257829237,0.9977944257829237,0.9977944257829237,0.9977944257829237,0.9977944257829237,0.9977944257829237,0.9977944257829237,0.9977944257829237,0.9977944257829237,0.9977944257829237,0.9977944257829237,0.9977944257829237,0.9977944257829237,0.9977944257829237,0.9977944257829237,0.9977944257829237,0.9977944257829237,0.9977944257829237,0.9977944257829237,0.9977944257829237,0.9977944257829237,0.9977944257829237,0.9977944257829237,0.9977944257829237,0.9977944257829237,0.9977944257829237,0.9977944257829237,0.9977944257829237,0.9977944257829237,0.9977944257829237,0.9977944257829237,0.9977944257829237,0.9977944257829237,0.9977944257829237,0.9977944257829237,0.9977944257829237,0.9977944257829237,0.9977944257829237,0.9977944257829237,0.9977944257829237,0.9977944257829237,0.9977944257829237,0.9977944257829237,0.9977944257829237,0.9977944257829237,0.9977944257829237,0.9977944257829237,0.9977944257829237,0.9977944257829237,0.9977944257829237,0.9977944257829237,0.9977944257829237,0.9977944257829237,0.9977944257829237,0.9977944257829237,0.9977944257829237,0.9977944257829237,0.9977944257829237,0.9977944257829237,0.9977944257829237,0.9977944257829237,0.9977944257829237,0.9977944257829237,0.9977944257829237,0.9977944257829237,0.9977944257829237,0.9977944257829237,0.9977944257829237,0.9977944257829237,0.9977944257829237,0.9977944257829237,0.9977944257829237,0.9977944257829237,0.9977944257829237,0.9977944257829237,0.9977944257829237,0.9977944257829237,0.9977944257829237,0.9977944257829237,0.9977944257829237,0.9977944257829237,0.9977944257829237,0.9977944257829237,0.9977944257829237,0.9977944257829237,0.9977944257829237,0.9977944257829237,0.9977944257829237,0.9977944257829237,0.9977944257829237,0.9977944257829237,0.9977944257829237,0.9977944257829237,0.9977944257829237,0.9977944257829237,0.9977944257829237,0.9977944257829237,0.9977944257829237,0.9977944257829237,0.9977944257829237,0.9977944257829237,0.9977944257829237,0.9977944257829237,0.9977944257829237,0.9977944257829237,0.9977944257829237,0.9977944257829237,0.9977944257829237,0.9977944257829237,0.9977944257829237,0.9977944257829237,0.9977944257829237,0.9977944257829237,0.9977944257829237,0.9977944257829237,0.9977944257829237,0.9977944257829237,0.9977944257829237,0.9977944257829237,0.9977944257829237,0.9977944257829237,0.9977944257829237,0.9977944257829237,0.9977944257829237,0.9977944257829237,0.9977944257829237,0.9977944257829237,0.9977944257829237,0.9977944257829237,0.9977944257829237,0.9977944257829237,0.9977944257829237,0.9977944257829237,0.9977944257829237,0.9977944257829237,0.9977944257829237,0.9977944257829237,0.9977944257829237,0.9977944257829237,0.9977944257829237,0.9977944257829237,0.9977944257829237,0.9977944257829237,0.9977944257829237,0.9977944257829237,0.9977944257829237,0.9977944257829237,0.9977944257829237,0.9977944257829237,0.9977944257829237,0.9977944257829237,0.9977944257829237,0.9977944257829237,0.9977944257829237,0.9977944257829237,0.9977944257829237,0.9977944257829237,0.9977944257829237,0.9977944257829237,0.9977944257829237,0.9977944257829237,0.9977944257829237,0.9977944257829237,0.9977944257829237,0.9977944257829237,0.9977944257829237,0.9977944257829237,0.9977944257829237,0.9977944257829237,0.9977944257829237,0.9977944257829237,0.9977944257829237,0.9977944257829237,0.9977944257829237,0.9977944257829237,0.9977944257829237,0.9977944257829237,0.9977944257829237,0.9977944257829237,0.9977944257829237,0.9977944257829237,0.9977944257829237,0.9977944257829237,0.9977944257829237,0.9977944257829237,0.9977944257829237,0.9977944257829237,0.9977944257829237,0.9977944257829237,0.9977944257829237,0.9977944257829237,0.9977944257829237,0.9977944257829237,0.9977944257829237,0.9977944257829237,0.9977944257829237,0.9977944257829237,0.9977944257829237,0.9977944257829237,0.9977944257829237,0.9977944257829237,0.9977944257829237,0.9977944257829237,0.9977944257829237,0.9977944257829237,0.9977944257829237,0.9977944257829237,0.9977944257829237,0.9977944257829237],\"xaxis\":\"x\",\"yaxis\":\"y\",\"type\":\"histogram\"}],                        {\"template\":{\"data\":{\"bar\":[{\"error_x\":{\"color\":\"#2a3f5f\"},\"error_y\":{\"color\":\"#2a3f5f\"},\"marker\":{\"line\":{\"color\":\"#E5ECF6\",\"width\":0.5},\"pattern\":{\"fillmode\":\"overlay\",\"size\":10,\"solidity\":0.2}},\"type\":\"bar\"}],\"barpolar\":[{\"marker\":{\"line\":{\"color\":\"#E5ECF6\",\"width\":0.5},\"pattern\":{\"fillmode\":\"overlay\",\"size\":10,\"solidity\":0.2}},\"type\":\"barpolar\"}],\"carpet\":[{\"aaxis\":{\"endlinecolor\":\"#2a3f5f\",\"gridcolor\":\"white\",\"linecolor\":\"white\",\"minorgridcolor\":\"white\",\"startlinecolor\":\"#2a3f5f\"},\"baxis\":{\"endlinecolor\":\"#2a3f5f\",\"gridcolor\":\"white\",\"linecolor\":\"white\",\"minorgridcolor\":\"white\",\"startlinecolor\":\"#2a3f5f\"},\"type\":\"carpet\"}],\"choropleth\":[{\"colorbar\":{\"outlinewidth\":0,\"ticks\":\"\"},\"type\":\"choropleth\"}],\"contour\":[{\"colorbar\":{\"outlinewidth\":0,\"ticks\":\"\"},\"colorscale\":[[0.0,\"#0d0887\"],[0.1111111111111111,\"#46039f\"],[0.2222222222222222,\"#7201a8\"],[0.3333333333333333,\"#9c179e\"],[0.4444444444444444,\"#bd3786\"],[0.5555555555555556,\"#d8576b\"],[0.6666666666666666,\"#ed7953\"],[0.7777777777777778,\"#fb9f3a\"],[0.8888888888888888,\"#fdca26\"],[1.0,\"#f0f921\"]],\"type\":\"contour\"}],\"contourcarpet\":[{\"colorbar\":{\"outlinewidth\":0,\"ticks\":\"\"},\"type\":\"contourcarpet\"}],\"heatmap\":[{\"colorbar\":{\"outlinewidth\":0,\"ticks\":\"\"},\"colorscale\":[[0.0,\"#0d0887\"],[0.1111111111111111,\"#46039f\"],[0.2222222222222222,\"#7201a8\"],[0.3333333333333333,\"#9c179e\"],[0.4444444444444444,\"#bd3786\"],[0.5555555555555556,\"#d8576b\"],[0.6666666666666666,\"#ed7953\"],[0.7777777777777778,\"#fb9f3a\"],[0.8888888888888888,\"#fdca26\"],[1.0,\"#f0f921\"]],\"type\":\"heatmap\"}],\"heatmapgl\":[{\"colorbar\":{\"outlinewidth\":0,\"ticks\":\"\"},\"colorscale\":[[0.0,\"#0d0887\"],[0.1111111111111111,\"#46039f\"],[0.2222222222222222,\"#7201a8\"],[0.3333333333333333,\"#9c179e\"],[0.4444444444444444,\"#bd3786\"],[0.5555555555555556,\"#d8576b\"],[0.6666666666666666,\"#ed7953\"],[0.7777777777777778,\"#fb9f3a\"],[0.8888888888888888,\"#fdca26\"],[1.0,\"#f0f921\"]],\"type\":\"heatmapgl\"}],\"histogram\":[{\"marker\":{\"pattern\":{\"fillmode\":\"overlay\",\"size\":10,\"solidity\":0.2}},\"type\":\"histogram\"}],\"histogram2d\":[{\"colorbar\":{\"outlinewidth\":0,\"ticks\":\"\"},\"colorscale\":[[0.0,\"#0d0887\"],[0.1111111111111111,\"#46039f\"],[0.2222222222222222,\"#7201a8\"],[0.3333333333333333,\"#9c179e\"],[0.4444444444444444,\"#bd3786\"],[0.5555555555555556,\"#d8576b\"],[0.6666666666666666,\"#ed7953\"],[0.7777777777777778,\"#fb9f3a\"],[0.8888888888888888,\"#fdca26\"],[1.0,\"#f0f921\"]],\"type\":\"histogram2d\"}],\"histogram2dcontour\":[{\"colorbar\":{\"outlinewidth\":0,\"ticks\":\"\"},\"colorscale\":[[0.0,\"#0d0887\"],[0.1111111111111111,\"#46039f\"],[0.2222222222222222,\"#7201a8\"],[0.3333333333333333,\"#9c179e\"],[0.4444444444444444,\"#bd3786\"],[0.5555555555555556,\"#d8576b\"],[0.6666666666666666,\"#ed7953\"],[0.7777777777777778,\"#fb9f3a\"],[0.8888888888888888,\"#fdca26\"],[1.0,\"#f0f921\"]],\"type\":\"histogram2dcontour\"}],\"mesh3d\":[{\"colorbar\":{\"outlinewidth\":0,\"ticks\":\"\"},\"type\":\"mesh3d\"}],\"parcoords\":[{\"line\":{\"colorbar\":{\"outlinewidth\":0,\"ticks\":\"\"}},\"type\":\"parcoords\"}],\"pie\":[{\"automargin\":true,\"type\":\"pie\"}],\"scatter\":[{\"marker\":{\"colorbar\":{\"outlinewidth\":0,\"ticks\":\"\"}},\"type\":\"scatter\"}],\"scatter3d\":[{\"line\":{\"colorbar\":{\"outlinewidth\":0,\"ticks\":\"\"}},\"marker\":{\"colorbar\":{\"outlinewidth\":0,\"ticks\":\"\"}},\"type\":\"scatter3d\"}],\"scattercarpet\":[{\"marker\":{\"colorbar\":{\"outlinewidth\":0,\"ticks\":\"\"}},\"type\":\"scattercarpet\"}],\"scattergeo\":[{\"marker\":{\"colorbar\":{\"outlinewidth\":0,\"ticks\":\"\"}},\"type\":\"scattergeo\"}],\"scattergl\":[{\"marker\":{\"colorbar\":{\"outlinewidth\":0,\"ticks\":\"\"}},\"type\":\"scattergl\"}],\"scattermapbox\":[{\"marker\":{\"colorbar\":{\"outlinewidth\":0,\"ticks\":\"\"}},\"type\":\"scattermapbox\"}],\"scatterpolar\":[{\"marker\":{\"colorbar\":{\"outlinewidth\":0,\"ticks\":\"\"}},\"type\":\"scatterpolar\"}],\"scatterpolargl\":[{\"marker\":{\"colorbar\":{\"outlinewidth\":0,\"ticks\":\"\"}},\"type\":\"scatterpolargl\"}],\"scatterternary\":[{\"marker\":{\"colorbar\":{\"outlinewidth\":0,\"ticks\":\"\"}},\"type\":\"scatterternary\"}],\"surface\":[{\"colorbar\":{\"outlinewidth\":0,\"ticks\":\"\"},\"colorscale\":[[0.0,\"#0d0887\"],[0.1111111111111111,\"#46039f\"],[0.2222222222222222,\"#7201a8\"],[0.3333333333333333,\"#9c179e\"],[0.4444444444444444,\"#bd3786\"],[0.5555555555555556,\"#d8576b\"],[0.6666666666666666,\"#ed7953\"],[0.7777777777777778,\"#fb9f3a\"],[0.8888888888888888,\"#fdca26\"],[1.0,\"#f0f921\"]],\"type\":\"surface\"}],\"table\":[{\"cells\":{\"fill\":{\"color\":\"#EBF0F8\"},\"line\":{\"color\":\"white\"}},\"header\":{\"fill\":{\"color\":\"#C8D4E3\"},\"line\":{\"color\":\"white\"}},\"type\":\"table\"}]},\"layout\":{\"annotationdefaults\":{\"arrowcolor\":\"#2a3f5f\",\"arrowhead\":0,\"arrowwidth\":1},\"autotypenumbers\":\"strict\",\"coloraxis\":{\"colorbar\":{\"outlinewidth\":0,\"ticks\":\"\"}},\"colorscale\":{\"diverging\":[[0,\"#8e0152\"],[0.1,\"#c51b7d\"],[0.2,\"#de77ae\"],[0.3,\"#f1b6da\"],[0.4,\"#fde0ef\"],[0.5,\"#f7f7f7\"],[0.6,\"#e6f5d0\"],[0.7,\"#b8e186\"],[0.8,\"#7fbc41\"],[0.9,\"#4d9221\"],[1,\"#276419\"]],\"sequential\":[[0.0,\"#0d0887\"],[0.1111111111111111,\"#46039f\"],[0.2222222222222222,\"#7201a8\"],[0.3333333333333333,\"#9c179e\"],[0.4444444444444444,\"#bd3786\"],[0.5555555555555556,\"#d8576b\"],[0.6666666666666666,\"#ed7953\"],[0.7777777777777778,\"#fb9f3a\"],[0.8888888888888888,\"#fdca26\"],[1.0,\"#f0f921\"]],\"sequentialminus\":[[0.0,\"#0d0887\"],[0.1111111111111111,\"#46039f\"],[0.2222222222222222,\"#7201a8\"],[0.3333333333333333,\"#9c179e\"],[0.4444444444444444,\"#bd3786\"],[0.5555555555555556,\"#d8576b\"],[0.6666666666666666,\"#ed7953\"],[0.7777777777777778,\"#fb9f3a\"],[0.8888888888888888,\"#fdca26\"],[1.0,\"#f0f921\"]]},\"colorway\":[\"#636efa\",\"#EF553B\",\"#00cc96\",\"#ab63fa\",\"#FFA15A\",\"#19d3f3\",\"#FF6692\",\"#B6E880\",\"#FF97FF\",\"#FECB52\"],\"font\":{\"color\":\"#2a3f5f\"},\"geo\":{\"bgcolor\":\"white\",\"lakecolor\":\"white\",\"landcolor\":\"#E5ECF6\",\"showlakes\":true,\"showland\":true,\"subunitcolor\":\"white\"},\"hoverlabel\":{\"align\":\"left\"},\"hovermode\":\"closest\",\"mapbox\":{\"style\":\"light\"},\"paper_bgcolor\":\"white\",\"plot_bgcolor\":\"#E5ECF6\",\"polar\":{\"angularaxis\":{\"gridcolor\":\"white\",\"linecolor\":\"white\",\"ticks\":\"\"},\"bgcolor\":\"#E5ECF6\",\"radialaxis\":{\"gridcolor\":\"white\",\"linecolor\":\"white\",\"ticks\":\"\"}},\"scene\":{\"xaxis\":{\"backgroundcolor\":\"#E5ECF6\",\"gridcolor\":\"white\",\"gridwidth\":2,\"linecolor\":\"white\",\"showbackground\":true,\"ticks\":\"\",\"zerolinecolor\":\"white\"},\"yaxis\":{\"backgroundcolor\":\"#E5ECF6\",\"gridcolor\":\"white\",\"gridwidth\":2,\"linecolor\":\"white\",\"showbackground\":true,\"ticks\":\"\",\"zerolinecolor\":\"white\"},\"zaxis\":{\"backgroundcolor\":\"#E5ECF6\",\"gridcolor\":\"white\",\"gridwidth\":2,\"linecolor\":\"white\",\"showbackground\":true,\"ticks\":\"\",\"zerolinecolor\":\"white\"}},\"shapedefaults\":{\"line\":{\"color\":\"#2a3f5f\"}},\"ternary\":{\"aaxis\":{\"gridcolor\":\"white\",\"linecolor\":\"white\",\"ticks\":\"\"},\"baxis\":{\"gridcolor\":\"white\",\"linecolor\":\"white\",\"ticks\":\"\"},\"bgcolor\":\"#E5ECF6\",\"caxis\":{\"gridcolor\":\"white\",\"linecolor\":\"white\",\"ticks\":\"\"}},\"title\":{\"x\":0.05},\"xaxis\":{\"automargin\":true,\"gridcolor\":\"white\",\"linecolor\":\"white\",\"ticks\":\"\",\"title\":{\"standoff\":15},\"zerolinecolor\":\"white\",\"zerolinewidth\":2},\"yaxis\":{\"automargin\":true,\"gridcolor\":\"white\",\"linecolor\":\"white\",\"ticks\":\"\",\"title\":{\"standoff\":15},\"zerolinecolor\":\"white\",\"zerolinewidth\":2}}},\"xaxis\":{\"anchor\":\"y\",\"domain\":[0.0,1.0],\"title\":{\"text\":\"value\"}},\"yaxis\":{\"anchor\":\"x\",\"domain\":[0.0,1.0],\"title\":{\"text\":\"count\"}},\"legend\":{\"title\":{\"text\":\"variable\"},\"tracegroupgap\":0},\"title\":{\"text\":\"Histogram of the bootstrap replications of theta\"},\"barmode\":\"relative\"},                        {\"responsive\": true}                    ).then(function(){\n                            \nvar gd = document.getElementById('f34b24a7-8a2e-4be8-9005-d1cd77657f84');\nvar x = new MutationObserver(function (mutations, observer) {{\n        var display = window.getComputedStyle(gd).display;\n        if (!display || display === 'none') {{\n            console.log([gd, 'removed!']);\n            Plotly.purge(gd);\n            observer.disconnect();\n        }}\n}});\n\n// Listen for the removal of the full notebook cells\nvar notebookContainer = gd.closest('#notebook-container');\nif (notebookContainer) {{\n    x.observe(notebookContainer, {childList: true});\n}}\n\n// Listen for the clearing of the current output cell\nvar outputEl = gd.closest('.output');\nif (outputEl) {{\n    x.observe(outputEl, {childList: true});\n}}\n\n                        })                };                });            </script>        </div>"
     },
     "metadata": {},
     "output_type": "display_data"
    }
   ],
   "source": [
    "px.histogram(\n",
    "    bootstrap_estimations,\n",
    "    title = 'Histogram of the bootstrap replications of theta',\n",
    ")"
   ]
  },
  {
   "cell_type": "code",
   "execution_count": 34,
   "metadata": {
    "pycharm": {
     "name": "#%%\n"
    }
   },
   "outputs": [
    {
     "data": {
      "application/vnd.plotly.v1+json": {
       "data": [
        {
         "hovertemplate": "x=%{x}<br>y=%{y}<extra></extra>",
         "legendgroup": "",
         "line": {
          "color": "#636efa",
          "dash": "solid"
         },
         "marker": {
          "symbol": "circle"
         },
         "mode": "lines",
         "name": "",
         "orientation": "v",
         "showlegend": false,
         "x": [
          0.0,
          0.0015015015015015015,
          0.003003003003003003,
          0.0045045045045045045,
          0.006006006006006006,
          0.0075075075075075074,
          0.009009009009009009,
          0.01051051051051051,
          0.012012012012012012,
          0.013513513513513514,
          0.015015015015015015,
          0.016516516516516516,
          0.018018018018018018,
          0.01951951951951952,
          0.02102102102102102,
          0.02252252252252252,
          0.024024024024024024,
          0.025525525525525526,
          0.02702702702702703,
          0.028528528528528527,
          0.03003003003003003,
          0.03153153153153153,
          0.03303303303303303,
          0.03453453453453453,
          0.036036036036036036,
          0.03753753753753754,
          0.03903903903903904,
          0.04054054054054054,
          0.04204204204204204,
          0.04354354354354354,
          0.04504504504504504,
          0.046546546546546545,
          0.04804804804804805,
          0.04954954954954955,
          0.05105105105105105,
          0.052552552552552555,
          0.05405405405405406,
          0.05555555555555555,
          0.057057057057057055,
          0.05855855855855856,
          0.06006006006006006,
          0.06156156156156156,
          0.06306306306306306,
          0.06456456456456457,
          0.06606606606606606,
          0.06756756756756757,
          0.06906906906906907,
          0.07057057057057058,
          0.07207207207207207,
          0.07357357357357357,
          0.07507507507507508,
          0.07657657657657657,
          0.07807807807807808,
          0.07957957957957958,
          0.08108108108108109,
          0.08258258258258258,
          0.08408408408408408,
          0.08558558558558559,
          0.08708708708708708,
          0.08858858858858859,
          0.09009009009009009,
          0.0915915915915916,
          0.09309309309309309,
          0.0945945945945946,
          0.0960960960960961,
          0.09759759759759759,
          0.0990990990990991,
          0.1006006006006006,
          0.1021021021021021,
          0.1036036036036036,
          0.10510510510510511,
          0.1066066066066066,
          0.10810810810810811,
          0.10960960960960961,
          0.1111111111111111,
          0.11261261261261261,
          0.11411411411411411,
          0.11561561561561562,
          0.11711711711711711,
          0.11861861861861862,
          0.12012012012012012,
          0.12162162162162161,
          0.12312312312312312,
          0.12462462462462462,
          0.12612612612612611,
          0.12762762762762764,
          0.12912912912912913,
          0.13063063063063063,
          0.13213213213213212,
          0.13363363363363362,
          0.13513513513513514,
          0.13663663663663664,
          0.13813813813813813,
          0.13963963963963963,
          0.14114114114114115,
          0.14264264264264265,
          0.14414414414414414,
          0.14564564564564564,
          0.14714714714714713,
          0.14864864864864866,
          0.15015015015015015,
          0.15165165165165165,
          0.15315315315315314,
          0.15465465465465467,
          0.15615615615615616,
          0.15765765765765766,
          0.15915915915915915,
          0.16066066066066065,
          0.16216216216216217,
          0.16366366366366367,
          0.16516516516516516,
          0.16666666666666666,
          0.16816816816816815,
          0.16966966966966968,
          0.17117117117117117,
          0.17267267267267267,
          0.17417417417417416,
          0.17567567567567569,
          0.17717717717717718,
          0.17867867867867868,
          0.18018018018018017,
          0.18168168168168167,
          0.1831831831831832,
          0.18468468468468469,
          0.18618618618618618,
          0.18768768768768768,
          0.1891891891891892,
          0.1906906906906907,
          0.1921921921921922,
          0.19369369369369369,
          0.19519519519519518,
          0.1966966966966967,
          0.1981981981981982,
          0.1996996996996997,
          0.2012012012012012,
          0.20270270270270271,
          0.2042042042042042,
          0.2057057057057057,
          0.2072072072072072,
          0.2087087087087087,
          0.21021021021021022,
          0.21171171171171171,
          0.2132132132132132,
          0.2147147147147147,
          0.21621621621621623,
          0.21771771771771772,
          0.21921921921921922,
          0.22072072072072071,
          0.2222222222222222,
          0.22372372372372373,
          0.22522522522522523,
          0.22672672672672672,
          0.22822822822822822,
          0.22972972972972971,
          0.23123123123123124,
          0.23273273273273273,
          0.23423423423423423,
          0.23573573573573572,
          0.23723723723723725,
          0.23873873873873874,
          0.24024024024024024,
          0.24174174174174173,
          0.24324324324324323,
          0.24474474474474475,
          0.24624624624624625,
          0.24774774774774774,
          0.24924924924924924,
          0.25075075075075076,
          0.25225225225225223,
          0.25375375375375375,
          0.2552552552552553,
          0.25675675675675674,
          0.25825825825825827,
          0.25975975975975973,
          0.26126126126126126,
          0.2627627627627628,
          0.26426426426426425,
          0.26576576576576577,
          0.26726726726726724,
          0.26876876876876876,
          0.2702702702702703,
          0.27177177177177175,
          0.2732732732732733,
          0.2747747747747748,
          0.27627627627627627,
          0.2777777777777778,
          0.27927927927927926,
          0.2807807807807808,
          0.2822822822822823,
          0.28378378378378377,
          0.2852852852852853,
          0.28678678678678676,
          0.2882882882882883,
          0.2897897897897898,
          0.2912912912912913,
          0.2927927927927928,
          0.29429429429429427,
          0.2957957957957958,
          0.2972972972972973,
          0.2987987987987988,
          0.3003003003003003,
          0.3018018018018018,
          0.3033033033033033,
          0.3048048048048048,
          0.3063063063063063,
          0.3078078078078078,
          0.30930930930930933,
          0.3108108108108108,
          0.3123123123123123,
          0.3138138138138138,
          0.3153153153153153,
          0.31681681681681684,
          0.3183183183183183,
          0.31981981981981983,
          0.3213213213213213,
          0.3228228228228228,
          0.32432432432432434,
          0.3258258258258258,
          0.32732732732732733,
          0.3288288288288288,
          0.3303303303303303,
          0.33183183183183185,
          0.3333333333333333,
          0.33483483483483484,
          0.3363363363363363,
          0.33783783783783783,
          0.33933933933933935,
          0.3408408408408408,
          0.34234234234234234,
          0.34384384384384387,
          0.34534534534534533,
          0.34684684684684686,
          0.3483483483483483,
          0.34984984984984985,
          0.35135135135135137,
          0.35285285285285284,
          0.35435435435435436,
          0.35585585585585583,
          0.35735735735735735,
          0.3588588588588589,
          0.36036036036036034,
          0.36186186186186187,
          0.36336336336336333,
          0.36486486486486486,
          0.3663663663663664,
          0.36786786786786785,
          0.36936936936936937,
          0.3708708708708709,
          0.37237237237237236,
          0.3738738738738739,
          0.37537537537537535,
          0.3768768768768769,
          0.3783783783783784,
          0.37987987987987987,
          0.3813813813813814,
          0.38288288288288286,
          0.3843843843843844,
          0.3858858858858859,
          0.38738738738738737,
          0.3888888888888889,
          0.39039039039039036,
          0.3918918918918919,
          0.3933933933933934,
          0.3948948948948949,
          0.3963963963963964,
          0.39789789789789787,
          0.3993993993993994,
          0.4009009009009009,
          0.4024024024024024,
          0.4039039039039039,
          0.40540540540540543,
          0.4069069069069069,
          0.4084084084084084,
          0.4099099099099099,
          0.4114114114114114,
          0.41291291291291293,
          0.4144144144144144,
          0.4159159159159159,
          0.4174174174174174,
          0.4189189189189189,
          0.42042042042042044,
          0.4219219219219219,
          0.42342342342342343,
          0.4249249249249249,
          0.4264264264264264,
          0.42792792792792794,
          0.4294294294294294,
          0.43093093093093093,
          0.43243243243243246,
          0.4339339339339339,
          0.43543543543543545,
          0.4369369369369369,
          0.43843843843843844,
          0.43993993993993996,
          0.44144144144144143,
          0.44294294294294295,
          0.4444444444444444,
          0.44594594594594594,
          0.44744744744744747,
          0.44894894894894893,
          0.45045045045045046,
          0.4519519519519519,
          0.45345345345345345,
          0.45495495495495497,
          0.45645645645645644,
          0.45795795795795796,
          0.45945945945945943,
          0.46096096096096095,
          0.4624624624624625,
          0.46396396396396394,
          0.46546546546546547,
          0.466966966966967,
          0.46846846846846846,
          0.46996996996997,
          0.47147147147147145,
          0.47297297297297297,
          0.4744744744744745,
          0.47597597597597596,
          0.4774774774774775,
          0.47897897897897895,
          0.4804804804804805,
          0.481981981981982,
          0.48348348348348347,
          0.484984984984985,
          0.48648648648648646,
          0.487987987987988,
          0.4894894894894895,
          0.49099099099099097,
          0.4924924924924925,
          0.49399399399399396,
          0.4954954954954955,
          0.496996996996997,
          0.4984984984984985,
          0.5,
          0.5015015015015015,
          0.503003003003003,
          0.5045045045045045,
          0.506006006006006,
          0.5075075075075075,
          0.509009009009009,
          0.5105105105105106,
          0.512012012012012,
          0.5135135135135135,
          0.515015015015015,
          0.5165165165165165,
          0.5180180180180181,
          0.5195195195195195,
          0.521021021021021,
          0.5225225225225225,
          0.524024024024024,
          0.5255255255255256,
          0.527027027027027,
          0.5285285285285285,
          0.53003003003003,
          0.5315315315315315,
          0.5330330330330331,
          0.5345345345345345,
          0.536036036036036,
          0.5375375375375375,
          0.539039039039039,
          0.5405405405405406,
          0.542042042042042,
          0.5435435435435435,
          0.545045045045045,
          0.5465465465465466,
          0.5480480480480481,
          0.5495495495495496,
          0.551051051051051,
          0.5525525525525525,
          0.5540540540540541,
          0.5555555555555556,
          0.5570570570570571,
          0.5585585585585585,
          0.56006006006006,
          0.5615615615615616,
          0.5630630630630631,
          0.5645645645645646,
          0.566066066066066,
          0.5675675675675675,
          0.5690690690690691,
          0.5705705705705706,
          0.5720720720720721,
          0.5735735735735735,
          0.575075075075075,
          0.5765765765765766,
          0.5780780780780781,
          0.5795795795795796,
          0.581081081081081,
          0.5825825825825826,
          0.5840840840840841,
          0.5855855855855856,
          0.5870870870870871,
          0.5885885885885885,
          0.5900900900900901,
          0.5915915915915916,
          0.5930930930930931,
          0.5945945945945946,
          0.596096096096096,
          0.5975975975975976,
          0.5990990990990991,
          0.6006006006006006,
          0.6021021021021021,
          0.6036036036036035,
          0.6051051051051051,
          0.6066066066066066,
          0.6081081081081081,
          0.6096096096096096,
          0.6111111111111112,
          0.6126126126126126,
          0.6141141141141141,
          0.6156156156156156,
          0.6171171171171171,
          0.6186186186186187,
          0.6201201201201201,
          0.6216216216216216,
          0.6231231231231231,
          0.6246246246246246,
          0.6261261261261262,
          0.6276276276276276,
          0.6291291291291291,
          0.6306306306306306,
          0.6321321321321322,
          0.6336336336336337,
          0.6351351351351351,
          0.6366366366366366,
          0.6381381381381381,
          0.6396396396396397,
          0.6411411411411412,
          0.6426426426426426,
          0.6441441441441441,
          0.6456456456456456,
          0.6471471471471472,
          0.6486486486486487,
          0.6501501501501501,
          0.6516516516516516,
          0.6531531531531531,
          0.6546546546546547,
          0.6561561561561562,
          0.6576576576576576,
          0.6591591591591591,
          0.6606606606606606,
          0.6621621621621622,
          0.6636636636636637,
          0.6651651651651651,
          0.6666666666666666,
          0.6681681681681682,
          0.6696696696696697,
          0.6711711711711712,
          0.6726726726726726,
          0.6741741741741741,
          0.6756756756756757,
          0.6771771771771772,
          0.6786786786786787,
          0.6801801801801802,
          0.6816816816816816,
          0.6831831831831832,
          0.6846846846846847,
          0.6861861861861862,
          0.6876876876876877,
          0.6891891891891891,
          0.6906906906906907,
          0.6921921921921922,
          0.6936936936936937,
          0.6951951951951952,
          0.6966966966966966,
          0.6981981981981982,
          0.6996996996996997,
          0.7012012012012012,
          0.7027027027027027,
          0.7042042042042042,
          0.7057057057057057,
          0.7072072072072072,
          0.7087087087087087,
          0.7102102102102102,
          0.7117117117117117,
          0.7132132132132132,
          0.7147147147147147,
          0.7162162162162162,
          0.7177177177177178,
          0.7192192192192192,
          0.7207207207207207,
          0.7222222222222222,
          0.7237237237237237,
          0.7252252252252253,
          0.7267267267267267,
          0.7282282282282282,
          0.7297297297297297,
          0.7312312312312312,
          0.7327327327327328,
          0.7342342342342342,
          0.7357357357357357,
          0.7372372372372372,
          0.7387387387387387,
          0.7402402402402403,
          0.7417417417417418,
          0.7432432432432432,
          0.7447447447447447,
          0.7462462462462462,
          0.7477477477477478,
          0.7492492492492493,
          0.7507507507507507,
          0.7522522522522522,
          0.7537537537537538,
          0.7552552552552553,
          0.7567567567567568,
          0.7582582582582582,
          0.7597597597597597,
          0.7612612612612613,
          0.7627627627627628,
          0.7642642642642643,
          0.7657657657657657,
          0.7672672672672672,
          0.7687687687687688,
          0.7702702702702703,
          0.7717717717717718,
          0.7732732732732732,
          0.7747747747747747,
          0.7762762762762763,
          0.7777777777777778,
          0.7792792792792793,
          0.7807807807807807,
          0.7822822822822822,
          0.7837837837837838,
          0.7852852852852853,
          0.7867867867867868,
          0.7882882882882882,
          0.7897897897897898,
          0.7912912912912913,
          0.7927927927927928,
          0.7942942942942943,
          0.7957957957957957,
          0.7972972972972973,
          0.7987987987987988,
          0.8003003003003003,
          0.8018018018018018,
          0.8033033033033034,
          0.8048048048048048,
          0.8063063063063063,
          0.8078078078078078,
          0.8093093093093093,
          0.8108108108108109,
          0.8123123123123123,
          0.8138138138138138,
          0.8153153153153153,
          0.8168168168168168,
          0.8183183183183184,
          0.8198198198198198,
          0.8213213213213213,
          0.8228228228228228,
          0.8243243243243243,
          0.8258258258258259,
          0.8273273273273273,
          0.8288288288288288,
          0.8303303303303303,
          0.8318318318318318,
          0.8333333333333334,
          0.8348348348348348,
          0.8363363363363363,
          0.8378378378378378,
          0.8393393393393394,
          0.8408408408408409,
          0.8423423423423423,
          0.8438438438438438,
          0.8453453453453453,
          0.8468468468468469,
          0.8483483483483484,
          0.8498498498498498,
          0.8513513513513513,
          0.8528528528528528,
          0.8543543543543544,
          0.8558558558558559,
          0.8573573573573573,
          0.8588588588588588,
          0.8603603603603603,
          0.8618618618618619,
          0.8633633633633634,
          0.8648648648648649,
          0.8663663663663663,
          0.8678678678678678,
          0.8693693693693694,
          0.8708708708708709,
          0.8723723723723724,
          0.8738738738738738,
          0.8753753753753754,
          0.8768768768768769,
          0.8783783783783784,
          0.8798798798798799,
          0.8813813813813813,
          0.8828828828828829,
          0.8843843843843844,
          0.8858858858858859,
          0.8873873873873874,
          0.8888888888888888,
          0.8903903903903904,
          0.8918918918918919,
          0.8933933933933934,
          0.8948948948948949,
          0.8963963963963963,
          0.8978978978978979,
          0.8993993993993994,
          0.9009009009009009,
          0.9024024024024024,
          0.9039039039039038,
          0.9054054054054054,
          0.9069069069069069,
          0.9084084084084084,
          0.9099099099099099,
          0.9114114114114114,
          0.9129129129129129,
          0.9144144144144144,
          0.9159159159159159,
          0.9174174174174174,
          0.9189189189189189,
          0.9204204204204204,
          0.9219219219219219,
          0.9234234234234234,
          0.924924924924925,
          0.9264264264264264,
          0.9279279279279279,
          0.9294294294294294,
          0.9309309309309309,
          0.9324324324324325,
          0.933933933933934,
          0.9354354354354354,
          0.9369369369369369,
          0.9384384384384384,
          0.93993993993994,
          0.9414414414414415,
          0.9429429429429429,
          0.9444444444444444,
          0.9459459459459459,
          0.9474474474474475,
          0.948948948948949,
          0.9504504504504504,
          0.9519519519519519,
          0.9534534534534534,
          0.954954954954955,
          0.9564564564564565,
          0.9579579579579579,
          0.9594594594594594,
          0.960960960960961,
          0.9624624624624625,
          0.963963963963964,
          0.9654654654654654,
          0.9669669669669669,
          0.9684684684684685,
          0.96996996996997,
          0.9714714714714715,
          0.9729729729729729,
          0.9744744744744744,
          0.975975975975976,
          0.9774774774774775,
          0.978978978978979,
          0.9804804804804804,
          0.9819819819819819,
          0.9834834834834835,
          0.984984984984985,
          0.9864864864864865,
          0.9879879879879879,
          0.9894894894894894,
          0.990990990990991,
          0.9924924924924925,
          0.993993993993994,
          0.9954954954954955,
          0.996996996996997,
          0.9984984984984985,
          1.0,
          1.0015015015015014,
          1.003003003003003,
          1.0045045045045045,
          1.006006006006006,
          1.0075075075075075,
          1.009009009009009,
          1.0105105105105106,
          1.012012012012012,
          1.0135135135135136,
          1.015015015015015,
          1.0165165165165164,
          1.018018018018018,
          1.0195195195195195,
          1.021021021021021,
          1.0225225225225225,
          1.024024024024024,
          1.0255255255255256,
          1.027027027027027,
          1.0285285285285286,
          1.03003003003003,
          1.0315315315315314,
          1.033033033033033,
          1.0345345345345345,
          1.0360360360360361,
          1.0375375375375375,
          1.039039039039039,
          1.0405405405405406,
          1.042042042042042,
          1.0435435435435436,
          1.045045045045045,
          1.0465465465465464,
          1.048048048048048,
          1.0495495495495495,
          1.0510510510510511,
          1.0525525525525525,
          1.054054054054054,
          1.0555555555555556,
          1.057057057057057,
          1.0585585585585586,
          1.06006006006006,
          1.0615615615615615,
          1.063063063063063,
          1.0645645645645645,
          1.0660660660660661,
          1.0675675675675675,
          1.069069069069069,
          1.0705705705705706,
          1.072072072072072,
          1.0735735735735736,
          1.075075075075075,
          1.0765765765765765,
          1.078078078078078,
          1.0795795795795795,
          1.0810810810810811,
          1.0825825825825826,
          1.084084084084084,
          1.0855855855855856,
          1.087087087087087,
          1.0885885885885886,
          1.09009009009009,
          1.0915915915915917,
          1.093093093093093,
          1.0945945945945945,
          1.0960960960960962,
          1.0975975975975976,
          1.0990990990990992,
          1.1006006006006006,
          1.102102102102102,
          1.1036036036036037,
          1.105105105105105,
          1.1066066066066067,
          1.1081081081081081,
          1.1096096096096095,
          1.1111111111111112,
          1.1126126126126126,
          1.1141141141141142,
          1.1156156156156156,
          1.117117117117117,
          1.1186186186186187,
          1.12012012012012,
          1.1216216216216217,
          1.1231231231231231,
          1.1246246246246245,
          1.1261261261261262,
          1.1276276276276276,
          1.1291291291291292,
          1.1306306306306306,
          1.132132132132132,
          1.1336336336336337,
          1.135135135135135,
          1.1366366366366367,
          1.1381381381381381,
          1.1396396396396395,
          1.1411411411411412,
          1.1426426426426426,
          1.1441441441441442,
          1.1456456456456456,
          1.147147147147147,
          1.1486486486486487,
          1.15015015015015,
          1.1516516516516517,
          1.1531531531531531,
          1.1546546546546546,
          1.1561561561561562,
          1.1576576576576576,
          1.1591591591591592,
          1.1606606606606606,
          1.162162162162162,
          1.1636636636636637,
          1.165165165165165,
          1.1666666666666667,
          1.1681681681681682,
          1.1696696696696696,
          1.1711711711711712,
          1.1726726726726726,
          1.1741741741741742,
          1.1756756756756757,
          1.177177177177177,
          1.1786786786786787,
          1.1801801801801801,
          1.1816816816816818,
          1.1831831831831832,
          1.1846846846846846,
          1.1861861861861862,
          1.1876876876876876,
          1.1891891891891893,
          1.1906906906906907,
          1.192192192192192,
          1.1936936936936937,
          1.1951951951951951,
          1.1966966966966968,
          1.1981981981981982,
          1.1996996996996996,
          1.2012012012012012,
          1.2027027027027026,
          1.2042042042042043,
          1.2057057057057057,
          1.207207207207207,
          1.2087087087087087,
          1.2102102102102101,
          1.2117117117117118,
          1.2132132132132132,
          1.2147147147147146,
          1.2162162162162162,
          1.2177177177177176,
          1.2192192192192193,
          1.2207207207207207,
          1.2222222222222223,
          1.2237237237237237,
          1.2252252252252251,
          1.2267267267267268,
          1.2282282282282282,
          1.2297297297297298,
          1.2312312312312312,
          1.2327327327327327,
          1.2342342342342343,
          1.2357357357357357,
          1.2372372372372373,
          1.2387387387387387,
          1.2402402402402402,
          1.2417417417417418,
          1.2432432432432432,
          1.2447447447447448,
          1.2462462462462462,
          1.2477477477477477,
          1.2492492492492493,
          1.2507507507507507,
          1.2522522522522523,
          1.2537537537537538,
          1.2552552552552552,
          1.2567567567567568,
          1.2582582582582582,
          1.2597597597597598,
          1.2612612612612613,
          1.2627627627627627,
          1.2642642642642643,
          1.2657657657657657,
          1.2672672672672673,
          1.2687687687687688,
          1.2702702702702702,
          1.2717717717717718,
          1.2732732732732732,
          1.2747747747747749,
          1.2762762762762763,
          1.2777777777777777,
          1.2792792792792793,
          1.2807807807807807,
          1.2822822822822824,
          1.2837837837837838,
          1.2852852852852852,
          1.2867867867867868,
          1.2882882882882882,
          1.2897897897897899,
          1.2912912912912913,
          1.2927927927927927,
          1.2942942942942943,
          1.2957957957957957,
          1.2972972972972974,
          1.2987987987987988,
          1.3003003003003002,
          1.3018018018018018,
          1.3033033033033032,
          1.3048048048048049,
          1.3063063063063063,
          1.3078078078078077,
          1.3093093093093093,
          1.3108108108108107,
          1.3123123123123124,
          1.3138138138138138,
          1.3153153153153152,
          1.3168168168168168,
          1.3183183183183182,
          1.3198198198198199,
          1.3213213213213213,
          1.3228228228228227,
          1.3243243243243243,
          1.3258258258258258,
          1.3273273273273274,
          1.3288288288288288,
          1.3303303303303302,
          1.3318318318318318,
          1.3333333333333333,
          1.334834834834835,
          1.3363363363363363,
          1.3378378378378377,
          1.3393393393393394,
          1.3408408408408408,
          1.3423423423423424,
          1.3438438438438438,
          1.3453453453453452,
          1.3468468468468469,
          1.3483483483483483,
          1.34984984984985,
          1.3513513513513513,
          1.352852852852853,
          1.3543543543543544,
          1.3558558558558558,
          1.3573573573573574,
          1.3588588588588588,
          1.3603603603603605,
          1.3618618618618619,
          1.3633633633633633,
          1.364864864864865,
          1.3663663663663663,
          1.367867867867868,
          1.3693693693693694,
          1.3708708708708708,
          1.3723723723723724,
          1.3738738738738738,
          1.3753753753753755,
          1.3768768768768769,
          1.3783783783783783,
          1.37987987987988,
          1.3813813813813813,
          1.382882882882883,
          1.3843843843843844,
          1.3858858858858858,
          1.3873873873873874,
          1.3888888888888888,
          1.3903903903903905,
          1.3918918918918919,
          1.3933933933933933,
          1.394894894894895,
          1.3963963963963963,
          1.397897897897898,
          1.3993993993993994,
          1.4009009009009008,
          1.4024024024024024,
          1.4039039039039038,
          1.4054054054054055,
          1.406906906906907,
          1.4084084084084083,
          1.40990990990991,
          1.4114114114114114,
          1.412912912912913,
          1.4144144144144144,
          1.4159159159159158,
          1.4174174174174174,
          1.4189189189189189,
          1.4204204204204205,
          1.421921921921922,
          1.4234234234234233,
          1.424924924924925,
          1.4264264264264264,
          1.427927927927928,
          1.4294294294294294,
          1.4309309309309308,
          1.4324324324324325,
          1.4339339339339339,
          1.4354354354354355,
          1.436936936936937,
          1.4384384384384383,
          1.43993993993994,
          1.4414414414414414,
          1.442942942942943,
          1.4444444444444444,
          1.4459459459459458,
          1.4474474474474475,
          1.4489489489489489,
          1.4504504504504505,
          1.451951951951952,
          1.4534534534534533,
          1.454954954954955,
          1.4564564564564564,
          1.457957957957958,
          1.4594594594594594,
          1.4609609609609608,
          1.4624624624624625,
          1.4639639639639639,
          1.4654654654654655,
          1.466966966966967,
          1.4684684684684683,
          1.46996996996997,
          1.4714714714714714,
          1.472972972972973,
          1.4744744744744744,
          1.475975975975976,
          1.4774774774774775,
          1.478978978978979,
          1.4804804804804805,
          1.481981981981982,
          1.4834834834834836,
          1.484984984984985,
          1.4864864864864864,
          1.487987987987988,
          1.4894894894894894,
          1.490990990990991,
          1.4924924924924925,
          1.493993993993994,
          1.4954954954954955,
          1.496996996996997,
          1.4984984984984986,
          1.5
         ],
         "xaxis": "x",
         "y": [
          0.0,
          6.70329822819313E-142,
          7.547242850660965E-127,
          4.812284301370966E-118,
          8.497435210193538E-112,
          5.953639852694998E-107,
          5.417555082628523E-103,
          1.2050229383390518E-99,
          9.555211282174749E-97,
          3.4451619546437616E-94,
          6.668750935977395E-92,
          7.8020259788634685E-90,
          6.021604503057604E-88,
          3.276765127234881E-86,
          1.3239675627468146E-84,
          4.138432548289832E-83,
          1.0344368237633156E-81,
          2.1244898942348458E-80,
          3.666458534367679E-79,
          5.418256214640983E-78,
          6.966520436109513E-77,
          7.900000819803926E-76,
          7.9943002408057185E-75,
          7.2926486034308E-74,
          6.050459088692601E-73,
          4.601137740603983E-72,
          3.2291957774385135E-71,
          2.104343879361395E-70,
          1.280220567623155E-69,
          7.306396555826238E-69,
          3.928821165011382E-68,
          1.9983236413663356E-67,
          9.648399593730632E-67,
          4.4363864266359626E-66,
          1.948324331343513E-65,
          8.194323484405796E-65,
          3.308632973846334E-64,
          1.2854160282326603E-63,
          4.814998139081091E-63,
          1.742341674249376E-62,
          6.101263035783559E-62,
          2.0709185173938725E-61,
          6.823691669680021E-61,
          2.1857409446493584E-60,
          6.815040951745768E-60,
          2.07089420897624E-59,
          6.13989817426249E-59,
          1.7780353100716483E-58,
          5.034176014242459E-58,
          1.3948617920308593E-57,
          3.7855587614852456E-57,
          1.0071249645912549E-56,
          2.628626260403362E-56,
          6.735729274889918E-56,
          1.695707650248849E-55,
          4.196735404128989E-55,
          1.0217266774120225E-54,
          2.4483550154647238E-54,
          5.777916186095306E-54,
          1.3435491327754497E-53,
          3.079910250912194E-53,
          6.963549968913932E-53,
          1.5535574047643773E-52,
          3.421482289645501E-52,
          7.44164991411623E-52,
          1.599047611894191E-51,
          3.395879452573121E-51,
          7.13010654786984E-51,
          1.4806075283718948E-50,
          3.04175957418789E-50,
          6.184228473542922E-50,
          1.244660307086878E-49,
          2.4805292499431435E-49,
          4.896485350711321E-49,
          9.57601251370036E-49,
          1.8558977386314664E-48,
          3.5653082176073423E-48,
          6.790696286429987E-48,
          1.2826327000823954E-47,
          2.403001055155014E-47,
          4.466410428456041E-47,
          8.237630880440971E-47,
          1.5078838777683288E-46,
          2.739902790262973E-46,
          4.942891024952552E-46,
          8.854819988276018E-46,
          1.5754435271352197E-45,
          2.7843218587435327E-45,
          4.888732113955694E-45,
          8.528991725651204E-45,
          1.4787204244021573E-44,
          2.5481299874645437E-44,
          4.364780794960791E-44,
          7.433014426514078E-44,
          1.2585883473211571E-43,
          2.1191973740351318E-43,
          3.548780931429825E-43,
          5.910940346128037E-43,
          9.793807270930765E-43,
          1.6143981265995354E-42,
          2.647762130303982E-42,
          4.3211593492029854E-42,
          7.018059688918764E-42,
          1.1344112181449668E-41,
          1.8251588435672536E-41,
          2.923118278238782E-41,
          4.660638684876912E-41,
          7.398343639853189E-41,
          1.1693627214621849E-40,
          1.8404513651773127E-40,
          2.8846526353746584E-40,
          4.502871799598835E-40,
          7.0007479095693635E-40,
          1.0841494614660236E-39,
          1.6724532223633802E-39,
          2.570208457277269E-39,
          3.935146838391925E-39,
          6.002880522483669E-39,
          9.124137911820002E-39,
          1.3819231668588343E-38,
          2.0857474977268479E-38,
          3.137260335425622E-38,
          4.702999925868531E-38,
          7.026822101814417E-38,
          1.0464679271174393E-37,
          1.553455083843937E-37,
          2.2987915073316198E-37,
          3.3911760174378486E-37,
          4.987376927621036E-37,
          7.312837312735615E-37,
          1.0690838259950285E-36,
          1.5583662484459848E-36,
          2.265054110854873E-36,
          3.282901183063576E-36,
          4.74488511496106E-36,
          6.839121555442871E-36,
          9.83103722720117E-36,
          1.4094187103732508E-35,
          2.0152981108425544E-35,
          2.8741780509336825E-35,
          4.088644211321796E-35,
          5.801657449199409E-35,
          8.211971788798869E-35,
          1.1595262467718014E-34,
          1.6333014046595878E-34,
          2.2951931714249964E-34,
          3.217759228797153E-34,
          4.5007323358499355E-34,
          6.280899261249101E-34,
          8.745463988160025E-34,
          1.215008692218602E-33,
          1.6843186924078375E-33,
          2.329861497661511E-33,
          3.2159496642735535E-33,
          4.429694652014522E-33,
          6.088854832024112E-33,
          8.35230554333661E-33,
          1.1433981075401186E-32,
          1.5621405566016388E-32,
          2.1300278279388478E-32,
          2.898703257380733E-32,
          3.9371877945843485E-32,
          5.337560046308063E-32,
          7.222438943817134E-32,
          9.754824231271426E-32,
          1.315101583990511E-31,
          1.769754712324416E-31,
          2.3773342364886654E-31,
          3.1878663080386553E-31,
          4.267286219505137E-31,
          5.702354780403037E-31,
          7.60705038766554E-31,
          1.0130866816708049E-30,
          1.3469568356619557E-30,
          1.7879108857172695E-30,
          2.3693618410745874E-30,
          3.1348611906066728E-30,
          4.141089156165012E-30,
          5.461701833207189E-30,
          7.192273677074919E-30,
          9.456638203731825E-30,
          1.2415011062415897E-29,
          1.6274382092676367E-29,
          2.1301791943657498E-29,
          2.784127096069079E-29,
          3.633542160184981E-29,
          4.7352880901870993E-29,
          6.162321918518166E-29,
          8.008123111502864E-29,
          1.0392307476576976E-28,
          1.3467733783495907E-28,
          1.7429488713948567E-28,
          2.2526232487068635E-28,
          2.907450779233721E-28,
          3.747676405824144E-28,
          4.824403442965258E-28,
          6.202443251010305E-28,
          7.963892023654454E-28,
          1.0212614979798782E-27,
          1.307986167105654E-27,
          1.673128968745027E-27,
          2.137574006893547E-27,
          2.727618901826228E-27,
          3.47634004845725E-27,
          4.4252927015123605E-27,
          5.626625702376761E-27,
          7.145709145929696E-27,
          9.064395925212761E-27,
          1.1485065794240861E-26,
          1.4535634453441196E-26,
          1.8375751518148964E-26,
          2.320446168670723E-26,
          2.9269664924593217E-26,
          3.6879786370459427E-26,
          4.6418157778544827E-26,
          5.836072304894693E-26,
          7.329781486700419E-26,
          9.196091261306735E-26,
          1.152554894470843E-25,
          1.443012959436746E-25,
          1.8048171740049118E-25,
          2.2550419221120234E-25,
          2.8147410175805837E-25,
          3.509850528225548E-25,
          4.372290890987293E-25,
          5.4413111000409945E-25,
          6.765126676639775E-25,
          8.40291386578818E-25,
          1.042723540678758E-24,
          1.2926988716415175E-24,
          1.6010985909730839E-24,
          1.9812297364400124E-24,
          2.4493517223175026E-24,
          3.0253141172541685E-24,
          3.733328503797597E-24,
          4.602901838895162E-24,
          5.669964186042232E-24,
          6.978230194234148E-24,
          8.580841454066107E-24,
          1.0542346100723145E-23,
          1.2941083033155796E-23,
          1.587205120400166E-23,
          1.9450359989966014E-23,
          2.3815375130201078E-23,
          2.913569665396139E-23,
          3.561513123647572E-23,
          4.3499852261849716E-23,
          5.308697740223048E-23,
          6.47348367633014E-23,
          7.887525579457777E-23,
          9.602823762383116E-23,
          1.1681950089529168E-22,
          1.420014135002369E-22,
          1.7247796204670342E-22,
          2.0933451416531802E-22,
          2.5387326888365723E-22,
          3.076554529361004E-22,
          3.7255151222950236E-22,
          4.508007726869271E-22,
          5.4508230908692135E-22,
          6.5859907100783725E-22,
          7.951776793836714E-22,
          9.593867345683523E-22,
          1.1566769777773232E-21,
          1.3935472346276808E-21,
          1.6777407565425724E-21,
          2.018477379642248E-21,
          2.4267278607007106E-21,
          2.9155378482129005E-21,
          3.500410229541929E-21,
          4.1997560926165814E-21,
          5.0354262875962E-21,
          6.0333376106759665E-21,
          7.224210005508302E-21,
          8.644433941606641E-21,
          1.0337090346001626E-20,
          1.2353149206575855E-20,
          1.4752877316153312E-20,
          1.7607490681800166E-20,
          2.1001092994836592E-20,
          2.503294837156185E-20,
          2.9820144480206714E-20,
          3.5500711335657585E-20,
          4.223727166557622E-20,
          5.022131105445281E-20,
          5.967817031413966E-20,
          7.087287900805521E-20,
          8.411696811232002E-20,
          9.977642182289567E-20,
          1.1828095396309072E-19,
          1.401348238262323E-19,
          1.6592944019586512E-19,
          1.963580413986057E-19,
          2.3223278433848697E-19,
          2.745046274272158E-19,
          3.242864521777947E-19,
          3.828799371350322E-19,
          4.518067771064621E-19,
          5.328449318500275E-19,
          6.280706932120857E-19,
          7.399074801698168E-19,
          8.711824095837526E-19,
          1.025191849291522E-18,
          1.2057773424134089E-18,
          1.4174135007599028E-18,
          1.6653097048442145E-18,
          1.9555277225719473E-18,
          2.295117673162527E-18,
          2.692275122881893E-18,
          3.1565225111688028E-18,
          3.698918576985406E-18,
          4.332299994021611E-18,
          5.07156003914221E-18,
          5.933969821858209E-18,
          6.939548405776313E-18,
          8.111489069694523E-18,
          9.476650001834177E-18,
          1.1066118913390075E-17,
          1.291586241709538E-17,
          1.50674725656043E-17,
          1.756902470888948E-17,
          2.0476062838540972E-17,
          2.385273087290337E-17,
          2.7773070937425176E-17,
          3.232251265162643E-17,
          3.759958079524894E-17,
          4.3717852544953574E-17,
          5.080819981034932E-17,
          5.902135712219738E-17,
          6.85308611138569E-17,
          7.953641397649347E-17,
          9.226773045705904E-17,
          1.0698893611697644E-16,
          1.2400359380260636E-16,
          1.4366044573703054E-16,
          1.6635997048439177E-16,
          1.925618674403544E-16,
          2.227935966663572E-16,
          2.576601190348075E-16,
          2.978550010424992E-16,
          3.441730705614379E-16,
          3.9752483455299405E-16,
          4.589528977289838E-16,
          5.296506527049675E-16,
          6.109835478116948E-16,
          7.045132789113068E-16,
          8.120252968815247E-16,
          9.3556007351587E-16,
          1.0774486261561171E-15,
          1.2403528662313993E-15,
          1.4273114099109467E-15,
          1.6417915713031784E-15,
          1.8877483511654318E-15,
          2.1696913381846296E-15,
          2.492760556968558E-15,
          2.8628124284972295E-15,
          3.2865171567129335E-15,
          3.7714690211168566E-15,
          4.3263112418884514E-15,
          4.960877293625084E-15,
          5.686350779000977E-15,
          6.515446237579522E-15,
          7.462613561044682E-15,
          8.544269018050944E-15,
          9.779056264014646E-15,
          1.1188141128106367E-14,
          1.2795544436838568E-14,
          1.4628517656741552E-14,
          1.6717966724280464E-14,
          1.9098930086589783E-14,
          2.1811117710020384E-14,
          2.4899518633687394E-14,
          2.8415085562459026E-14,
          3.241550601908661E-14,
          3.6966070720852014E-14,
          4.2140651126187655E-14,
          4.802279952606573E-14,
          5.470698665107662E-14,
          6.229999354650261E-14,
          7.09224764553442E-14,
          8.071072566684882E-14,
          9.181864176056149E-14,
          1.0441995543293109E-13,
          1.1871072016600277E-13,
          1.349121104210559E-13,
          1.5327356185393604E-13,
          1.7407629429494005E-13,
          1.9763726296419937E-13,
          2.2431358865517098E-13,
          2.5450752347300084E-13,
          2.88672015227581E-13,
          3.273169408220031E-13,
          3.710160870289133E-13,
          4.204149659953299E-13,
          4.762395627583968E-13,
          5.393061231006599E-13,
          6.105321023368436E-13,
          6.909484092429593E-13,
          7.817130944527375E-13,
          8.841266494168339E-13,
          9.996491006288875E-13,
          1.1299191044539092E-12,
          1.27677527077675E-12,
          1.4422799690493376E-12,
          1.6287458984189929E-12,
          1.838765734764067E-12,
          2.075245201947234E-12,
          2.3414399527946823E-12,
          2.6409966875894283E-12,
          2.9779989846668154E-12,
          3.357018369477494E-12,
          3.783171205777896E-12,
          4.262182055948835E-12,
          4.8004542275034866E-12,
          5.4051483002782215E-12,
          6.084269514368992E-12,
          6.846764993448201E-12,
          7.70263188251708E-12,
          8.663037594510798E-12,
          9.740453487517822E-12,
          1.0948803434929303E-11,
          1.230362890599875E-11,
          1.382227234539816E-11,
          1.552408082917972E-11,
          1.7430632182734603E-11,
          1.9565985975848355E-11,
          2.1956962063027788E-11,
          2.4633449616014447E-11,
          2.7628749902655397E-11,
          3.097995640466599E-11,
          3.472837623941154E-11,
          3.891999726122935E-11,
          4.360600566929857E-11,
          4.884335944618561E-11,
          5.4695423498029604E-11,
          6.123267296879217E-11,
          6.853347186278108E-11,
          7.668493483683506E-11,
          8.578388082341808E-11,
          9.593788802470323E-11,
          1.0726646078330657E-10,
          1.1990231989662803E-10,
          1.3399282910658586E-10,
          1.497015717764849E-10,
          1.6721009317152428E-10,
          1.8671982530121544E-10,
          2.0845421297485248E-10,
          2.3266106157709642E-10,
          2.5961512910804825E-10,
          2.896209872657745E-10,
          3.230161787980147E-10,
          3.60174701035984E-10,
          4.0151084846474333E-10,
          4.474834504106555E-10,
          4.98600543459095E-10,
          5.554245220862827E-10,
          6.185778152265421E-10,
          6.887491411392362E-10,
          7.667003980175136E-10,
          8.532742533435104E-10,
          9.494025010789413E-10,
          1.0561152624356307E-9,
          1.1745511132560158E-9,
          1.3059682289929303E-9,
          1.4517566469891665E-9,
          1.6134517552757945E-9,
          1.792749127510349E-9,
          1.9915208350520647E-9,
          2.2118333795865623E-9,
          2.455967403288422E-9,
          2.726439348329384E-9,
          3.0260252537194E-9,
          3.3577868951465633E-9,
          3.7251004927552437E-9,
          4.131688232859369E-9,
          4.581652872551194E-9,
          5.079515721213162E-9,
          5.630258320285347E-9,
          6.239368172421542E-9,
          6.912888903677688E-9,
          7.657475277795086E-9,
          8.480453520238196E-9,
          9.389887451748631E-9,
          1.0394650976983997E-8,
          1.1504507523774239E-8,
          1.2730197082912213E-8,
          1.4083531557603326E-8,
          1.5577499196233703E-8,
          1.7226378952256376E-8,
          1.9045865691444414E-8,
          2.1053207249891428E-8,
          2.3267354436566875E-8,
          2.5709125172717627E-8,
          2.8401384067337115E-8,
          3.1369238844390665E-8,
          3.4640255163987084E-8,
          3.8244691517286436E-8,
          4.2215756024369906E-8,
          4.658988712693335E-8,
          5.140706034401707E-8,
          5.67111234509158E-8,
          6.255016264967892E-8,
          6.897690252573182E-8,
          7.604914283101763E-8,
          8.383023540042004E-8,
          9.238960479790487E-8,
          1.0180331660288415E-7,
          1.121546975879955E-7,
          1.23535012409682E-7,
          1.360442018336028E-7,
          1.497916879523393E-7,
          1.6489725232453462E-7,
          1.814919934758461E-7,
          1.9971937075720059E-7,
          2.1973634215607482E-7,
          2.417146043084159E-7,
          2.658419436643782E-7,
          2.923237085251589E-7,
          3.213844124973682E-7,
          3.5326948080701393E-7,
          3.8824715188734874E-7,
          4.2661054770611007E-7,
          4.6867992743529953E-7,
          5.148051403002767E-7,
          5.653682947762804E-7,
          6.207866627447039E-7,
          6.815158387817922E-7,
          7.480531764397076E-7,
          8.209415252083945E-7,
          9.007732938180377E-7,
          9.881948676793181E-7,
          1.0839114105659853E-6,
          1.1886920831371655E-6,
          1.3033757135971078E-6,
          1.4288769586982224E-6,
          1.5661929964449345E-6,
          1.7164107952541146E-6,
          1.8807150080020065E-6,
          2.06039654335022E-6,
          2.2568618710333128E-6,
          2.471643122405439E-6,
          2.7064090525417346E-6,
          2.9629769355757267E-6,
          3.2433254707631295E-6,
          3.549608783047041E-6,
          3.884171608653678E-6,
          4.2495657635596715E-6,
          4.648568000543511E-6,
          5.084199369018623E-6,
          5.559746201020061E-6,
          6.078782856566958E-6,
          6.6451963722820165E-6,
          7.263213168614774E-6,
          7.937427983365302E-6,
          8.672835212552373E-6,
          9.474862853985362E-6,
          1.0349409264385814E-5,
          1.1302882957546753E-5,
          1.234224568893305E-5,
          1.3475059091477007E-5,
          1.4709535148060696E-5,
          1.605459080859708E-5,
          1.751990708370125E-5,
          1.91159929728411E-5,
          2.085425461282266E-5,
          2.2747070062400208E-5,
          2.480787017115866E-5,
          2.7051226015537987E-5,
          2.9492943422184878E-5,
          3.215016513910058E-5,
          3.504148125812751E-5,
          3.818704853886045E-5,
          4.1608719333977473E-5,
          4.533018086957908E-5,
          4.9377105691966E-5,
          5.377731415406048E-5,
          5.856094988142811E-5,
          6.37606692293108E-5,
          6.941184581898973E-5,
          7.55527913241941E-5,
          8.222499376716837E-5,
          8.947337467885984E-5,
          9.734656658011345E-5,
          1.0589721235039224E-4,
          1.1518228816809802E-4,
          1.2526345183335006E-4,
          1.362074184191556E-4,
          1.480863653428137E-4,
          1.609783691053578E-4,
          1.749678761140648E-4,
          1.9014621018323928E-4,
          2.0661211950037065E-4,
          2.2447236605187184E-4,
          2.438423607239405E-4,
          2.648468475310913E-4,
          2.876206406804034E-4,
          3.1230941845110686E-4,
          3.39070578162428E-4,
          3.6807415681564155E-4,
          3.9950382233134435E-4,
          4.3355794066401304E-4,
          4.704507244593535E-4,
          5.104134693339262E-4,
          5.536958842980296E-4,
          6.005675233151124E-4,
          6.51319325499812E-4,
          7.062652719963917E-4,
          7.657441681621063E-4,
          8.301215603009459E-4,
          8.99791796856942E-4,
          9.751802446912768E-4,
          0.0010567456718249858,
          0.0011449828088469383,
          0.001240425102057536,
          0.0013436476723490132,
          0.0014552704948249846,
          0.0015759618152224528,
          0.0017064418203442122,
          0.0018474865809273884,
          0.001999932286674333,
          0.0021646797945719873,
          0.0023426995131063805,
          0.002535036646576852,
          0.0027428168254115814,
          0.0029672521502054072,
          0.0032096476791361947,
          0.0034714083905009047,
          0.0037540466543131007,
          0.00405919024928033,
          0.004388590964002313,
          0.004744133823921713,
          0.005127846988455635,
          0.005541912365789617,
          0.005988676996114092,
          0.006470665257581193,
          0.006990591952988651,
          0.0075513763392111855,
          0.008156157165625677,
          0.008808308792341998,
          0.009511458463889899,
          0.010269504819164527,
          0.01108663772398269,
          0.011967359518434306,
          0.012916507777518405,
          0.013939279690225681,
          0.01504125816933552,
          0.016228439811845075,
          0.017507264837978237,
          0.018884649145407495,
          0.020368018624502326,
          0.02196534589019017,
          0.02368518959653726,
          0.025536736511185543,
          0.027529846538714597,
          0.029675100894599127,
          0.03198385364483819,
          0.03446828684076908,
          0.03714146949368724,
          0.04001742065024905,
          0.043111176846890364,
          0.046438864239840005,
          0.05001777572706212,
          0.053866453399120995,
          0.05800477667831572,
          0.06245405652897951,
          0.06723713614703031,
          0.07237849856347478,
          0.0,
          0.0,
          0.0,
          0.0,
          0.0,
          0.0,
          0.0,
          0.0,
          0.0,
          0.0,
          0.0,
          0.0,
          0.0,
          0.0,
          0.0,
          0.0,
          0.0,
          0.0,
          0.0,
          0.0,
          0.0,
          0.0,
          0.0,
          0.0,
          0.0,
          0.0,
          0.0,
          0.0,
          0.0,
          0.0,
          0.0,
          0.0,
          0.0,
          0.0,
          0.0,
          0.0,
          0.0,
          0.0,
          0.0,
          0.0,
          0.0,
          0.0,
          0.0,
          0.0,
          0.0,
          0.0,
          0.0,
          0.0,
          0.0,
          0.0,
          0.0,
          0.0,
          0.0,
          0.0,
          0.0,
          0.0,
          0.0,
          0.0,
          0.0,
          0.0,
          0.0,
          0.0,
          0.0,
          0.0,
          0.0,
          0.0,
          0.0,
          0.0,
          0.0,
          0.0,
          0.0,
          0.0,
          0.0,
          0.0,
          0.0,
          0.0,
          0.0,
          0.0,
          0.0,
          0.0,
          0.0,
          0.0,
          0.0,
          0.0,
          0.0,
          0.0,
          0.0,
          0.0,
          0.0,
          0.0,
          0.0,
          0.0,
          0.0,
          0.0,
          0.0,
          0.0,
          0.0,
          0.0,
          0.0,
          0.0,
          0.0,
          0.0,
          0.0,
          0.0,
          0.0,
          0.0,
          0.0,
          0.0,
          0.0,
          0.0,
          0.0,
          0.0,
          0.0,
          0.0,
          0.0,
          0.0,
          0.0,
          0.0,
          0.0,
          0.0,
          0.0,
          0.0,
          0.0,
          0.0,
          0.0,
          0.0,
          0.0,
          0.0,
          0.0,
          0.0,
          0.0,
          0.0,
          0.0,
          0.0,
          0.0,
          0.0,
          0.0,
          0.0,
          0.0,
          0.0,
          0.0,
          0.0,
          0.0,
          0.0,
          0.0,
          0.0,
          0.0,
          0.0,
          0.0,
          0.0,
          0.0,
          0.0,
          0.0,
          0.0,
          0.0,
          0.0,
          0.0,
          0.0,
          0.0,
          0.0,
          0.0,
          0.0,
          0.0,
          0.0,
          0.0,
          0.0,
          0.0,
          0.0,
          0.0,
          0.0,
          0.0,
          0.0,
          0.0,
          0.0,
          0.0,
          0.0,
          0.0,
          0.0,
          0.0,
          0.0,
          0.0,
          0.0,
          0.0,
          0.0,
          0.0,
          0.0,
          0.0,
          0.0,
          0.0,
          0.0,
          0.0,
          0.0,
          0.0,
          0.0,
          0.0,
          0.0,
          0.0,
          0.0,
          0.0,
          0.0,
          0.0,
          0.0,
          0.0,
          0.0,
          0.0,
          0.0,
          0.0,
          0.0,
          0.0,
          0.0,
          0.0,
          0.0,
          0.0,
          0.0,
          0.0,
          0.0,
          0.0,
          0.0,
          0.0,
          0.0,
          0.0,
          0.0,
          0.0,
          0.0,
          0.0,
          0.0,
          0.0,
          0.0,
          0.0,
          0.0,
          0.0,
          0.0,
          0.0,
          0.0,
          0.0,
          0.0,
          0.0,
          0.0,
          0.0,
          0.0,
          0.0,
          0.0,
          0.0,
          0.0,
          0.0,
          0.0,
          0.0,
          0.0,
          0.0,
          0.0,
          0.0,
          0.0,
          0.0,
          0.0,
          0.0,
          0.0,
          0.0,
          0.0,
          0.0,
          0.0,
          0.0,
          0.0,
          0.0,
          0.0,
          0.0,
          0.0,
          0.0,
          0.0,
          0.0,
          0.0,
          0.0,
          0.0,
          0.0,
          0.0,
          0.0,
          0.0,
          0.0,
          0.0,
          0.0,
          0.0,
          0.0,
          0.0,
          0.0,
          0.0,
          0.0,
          0.0,
          0.0,
          0.0,
          0.0,
          0.0,
          0.0,
          0.0,
          0.0,
          0.0,
          0.0,
          0.0,
          0.0,
          0.0,
          0.0,
          0.0,
          0.0,
          0.0,
          0.0,
          0.0,
          0.0,
          0.0,
          0.0,
          0.0,
          0.0,
          0.0,
          0.0,
          0.0,
          0.0,
          0.0,
          0.0,
          0.0,
          0.0,
          0.0,
          0.0,
          0.0,
          0.0,
          0.0,
          0.0,
          0.0,
          0.0,
          0.0,
          0.0,
          0.0,
          0.0,
          0.0,
          0.0,
          0.0,
          0.0
         ],
         "yaxis": "y",
         "type": "scatter"
        }
       ],
       "layout": {
        "template": {
         "data": {
          "bar": [
           {
            "error_x": {
             "color": "#2a3f5f"
            },
            "error_y": {
             "color": "#2a3f5f"
            },
            "marker": {
             "line": {
              "color": "#E5ECF6",
              "width": 0.5
             },
             "pattern": {
              "fillmode": "overlay",
              "size": 10,
              "solidity": 0.2
             }
            },
            "type": "bar"
           }
          ],
          "barpolar": [
           {
            "marker": {
             "line": {
              "color": "#E5ECF6",
              "width": 0.5
             },
             "pattern": {
              "fillmode": "overlay",
              "size": 10,
              "solidity": 0.2
             }
            },
            "type": "barpolar"
           }
          ],
          "carpet": [
           {
            "aaxis": {
             "endlinecolor": "#2a3f5f",
             "gridcolor": "white",
             "linecolor": "white",
             "minorgridcolor": "white",
             "startlinecolor": "#2a3f5f"
            },
            "baxis": {
             "endlinecolor": "#2a3f5f",
             "gridcolor": "white",
             "linecolor": "white",
             "minorgridcolor": "white",
             "startlinecolor": "#2a3f5f"
            },
            "type": "carpet"
           }
          ],
          "choropleth": [
           {
            "colorbar": {
             "outlinewidth": 0,
             "ticks": ""
            },
            "type": "choropleth"
           }
          ],
          "contour": [
           {
            "colorbar": {
             "outlinewidth": 0,
             "ticks": ""
            },
            "colorscale": [
             [
              0.0,
              "#0d0887"
             ],
             [
              0.1111111111111111,
              "#46039f"
             ],
             [
              0.2222222222222222,
              "#7201a8"
             ],
             [
              0.3333333333333333,
              "#9c179e"
             ],
             [
              0.4444444444444444,
              "#bd3786"
             ],
             [
              0.5555555555555556,
              "#d8576b"
             ],
             [
              0.6666666666666666,
              "#ed7953"
             ],
             [
              0.7777777777777778,
              "#fb9f3a"
             ],
             [
              0.8888888888888888,
              "#fdca26"
             ],
             [
              1.0,
              "#f0f921"
             ]
            ],
            "type": "contour"
           }
          ],
          "contourcarpet": [
           {
            "colorbar": {
             "outlinewidth": 0,
             "ticks": ""
            },
            "type": "contourcarpet"
           }
          ],
          "heatmap": [
           {
            "colorbar": {
             "outlinewidth": 0,
             "ticks": ""
            },
            "colorscale": [
             [
              0.0,
              "#0d0887"
             ],
             [
              0.1111111111111111,
              "#46039f"
             ],
             [
              0.2222222222222222,
              "#7201a8"
             ],
             [
              0.3333333333333333,
              "#9c179e"
             ],
             [
              0.4444444444444444,
              "#bd3786"
             ],
             [
              0.5555555555555556,
              "#d8576b"
             ],
             [
              0.6666666666666666,
              "#ed7953"
             ],
             [
              0.7777777777777778,
              "#fb9f3a"
             ],
             [
              0.8888888888888888,
              "#fdca26"
             ],
             [
              1.0,
              "#f0f921"
             ]
            ],
            "type": "heatmap"
           }
          ],
          "heatmapgl": [
           {
            "colorbar": {
             "outlinewidth": 0,
             "ticks": ""
            },
            "colorscale": [
             [
              0.0,
              "#0d0887"
             ],
             [
              0.1111111111111111,
              "#46039f"
             ],
             [
              0.2222222222222222,
              "#7201a8"
             ],
             [
              0.3333333333333333,
              "#9c179e"
             ],
             [
              0.4444444444444444,
              "#bd3786"
             ],
             [
              0.5555555555555556,
              "#d8576b"
             ],
             [
              0.6666666666666666,
              "#ed7953"
             ],
             [
              0.7777777777777778,
              "#fb9f3a"
             ],
             [
              0.8888888888888888,
              "#fdca26"
             ],
             [
              1.0,
              "#f0f921"
             ]
            ],
            "type": "heatmapgl"
           }
          ],
          "histogram": [
           {
            "marker": {
             "pattern": {
              "fillmode": "overlay",
              "size": 10,
              "solidity": 0.2
             }
            },
            "type": "histogram"
           }
          ],
          "histogram2d": [
           {
            "colorbar": {
             "outlinewidth": 0,
             "ticks": ""
            },
            "colorscale": [
             [
              0.0,
              "#0d0887"
             ],
             [
              0.1111111111111111,
              "#46039f"
             ],
             [
              0.2222222222222222,
              "#7201a8"
             ],
             [
              0.3333333333333333,
              "#9c179e"
             ],
             [
              0.4444444444444444,
              "#bd3786"
             ],
             [
              0.5555555555555556,
              "#d8576b"
             ],
             [
              0.6666666666666666,
              "#ed7953"
             ],
             [
              0.7777777777777778,
              "#fb9f3a"
             ],
             [
              0.8888888888888888,
              "#fdca26"
             ],
             [
              1.0,
              "#f0f921"
             ]
            ],
            "type": "histogram2d"
           }
          ],
          "histogram2dcontour": [
           {
            "colorbar": {
             "outlinewidth": 0,
             "ticks": ""
            },
            "colorscale": [
             [
              0.0,
              "#0d0887"
             ],
             [
              0.1111111111111111,
              "#46039f"
             ],
             [
              0.2222222222222222,
              "#7201a8"
             ],
             [
              0.3333333333333333,
              "#9c179e"
             ],
             [
              0.4444444444444444,
              "#bd3786"
             ],
             [
              0.5555555555555556,
              "#d8576b"
             ],
             [
              0.6666666666666666,
              "#ed7953"
             ],
             [
              0.7777777777777778,
              "#fb9f3a"
             ],
             [
              0.8888888888888888,
              "#fdca26"
             ],
             [
              1.0,
              "#f0f921"
             ]
            ],
            "type": "histogram2dcontour"
           }
          ],
          "mesh3d": [
           {
            "colorbar": {
             "outlinewidth": 0,
             "ticks": ""
            },
            "type": "mesh3d"
           }
          ],
          "parcoords": [
           {
            "line": {
             "colorbar": {
              "outlinewidth": 0,
              "ticks": ""
             }
            },
            "type": "parcoords"
           }
          ],
          "pie": [
           {
            "automargin": true,
            "type": "pie"
           }
          ],
          "scatter": [
           {
            "marker": {
             "colorbar": {
              "outlinewidth": 0,
              "ticks": ""
             }
            },
            "type": "scatter"
           }
          ],
          "scatter3d": [
           {
            "line": {
             "colorbar": {
              "outlinewidth": 0,
              "ticks": ""
             }
            },
            "marker": {
             "colorbar": {
              "outlinewidth": 0,
              "ticks": ""
             }
            },
            "type": "scatter3d"
           }
          ],
          "scattercarpet": [
           {
            "marker": {
             "colorbar": {
              "outlinewidth": 0,
              "ticks": ""
             }
            },
            "type": "scattercarpet"
           }
          ],
          "scattergeo": [
           {
            "marker": {
             "colorbar": {
              "outlinewidth": 0,
              "ticks": ""
             }
            },
            "type": "scattergeo"
           }
          ],
          "scattergl": [
           {
            "marker": {
             "colorbar": {
              "outlinewidth": 0,
              "ticks": ""
             }
            },
            "type": "scattergl"
           }
          ],
          "scattermapbox": [
           {
            "marker": {
             "colorbar": {
              "outlinewidth": 0,
              "ticks": ""
             }
            },
            "type": "scattermapbox"
           }
          ],
          "scatterpolar": [
           {
            "marker": {
             "colorbar": {
              "outlinewidth": 0,
              "ticks": ""
             }
            },
            "type": "scatterpolar"
           }
          ],
          "scatterpolargl": [
           {
            "marker": {
             "colorbar": {
              "outlinewidth": 0,
              "ticks": ""
             }
            },
            "type": "scatterpolargl"
           }
          ],
          "scatterternary": [
           {
            "marker": {
             "colorbar": {
              "outlinewidth": 0,
              "ticks": ""
             }
            },
            "type": "scatterternary"
           }
          ],
          "surface": [
           {
            "colorbar": {
             "outlinewidth": 0,
             "ticks": ""
            },
            "colorscale": [
             [
              0.0,
              "#0d0887"
             ],
             [
              0.1111111111111111,
              "#46039f"
             ],
             [
              0.2222222222222222,
              "#7201a8"
             ],
             [
              0.3333333333333333,
              "#9c179e"
             ],
             [
              0.4444444444444444,
              "#bd3786"
             ],
             [
              0.5555555555555556,
              "#d8576b"
             ],
             [
              0.6666666666666666,
              "#ed7953"
             ],
             [
              0.7777777777777778,
              "#fb9f3a"
             ],
             [
              0.8888888888888888,
              "#fdca26"
             ],
             [
              1.0,
              "#f0f921"
             ]
            ],
            "type": "surface"
           }
          ],
          "table": [
           {
            "cells": {
             "fill": {
              "color": "#EBF0F8"
             },
             "line": {
              "color": "white"
             }
            },
            "header": {
             "fill": {
              "color": "#C8D4E3"
             },
             "line": {
              "color": "white"
             }
            },
            "type": "table"
           }
          ]
         },
         "layout": {
          "annotationdefaults": {
           "arrowcolor": "#2a3f5f",
           "arrowhead": 0,
           "arrowwidth": 1
          },
          "autotypenumbers": "strict",
          "coloraxis": {
           "colorbar": {
            "outlinewidth": 0,
            "ticks": ""
           }
          },
          "colorscale": {
           "diverging": [
            [
             0,
             "#8e0152"
            ],
            [
             0.1,
             "#c51b7d"
            ],
            [
             0.2,
             "#de77ae"
            ],
            [
             0.3,
             "#f1b6da"
            ],
            [
             0.4,
             "#fde0ef"
            ],
            [
             0.5,
             "#f7f7f7"
            ],
            [
             0.6,
             "#e6f5d0"
            ],
            [
             0.7,
             "#b8e186"
            ],
            [
             0.8,
             "#7fbc41"
            ],
            [
             0.9,
             "#4d9221"
            ],
            [
             1,
             "#276419"
            ]
           ],
           "sequential": [
            [
             0.0,
             "#0d0887"
            ],
            [
             0.1111111111111111,
             "#46039f"
            ],
            [
             0.2222222222222222,
             "#7201a8"
            ],
            [
             0.3333333333333333,
             "#9c179e"
            ],
            [
             0.4444444444444444,
             "#bd3786"
            ],
            [
             0.5555555555555556,
             "#d8576b"
            ],
            [
             0.6666666666666666,
             "#ed7953"
            ],
            [
             0.7777777777777778,
             "#fb9f3a"
            ],
            [
             0.8888888888888888,
             "#fdca26"
            ],
            [
             1.0,
             "#f0f921"
            ]
           ],
           "sequentialminus": [
            [
             0.0,
             "#0d0887"
            ],
            [
             0.1111111111111111,
             "#46039f"
            ],
            [
             0.2222222222222222,
             "#7201a8"
            ],
            [
             0.3333333333333333,
             "#9c179e"
            ],
            [
             0.4444444444444444,
             "#bd3786"
            ],
            [
             0.5555555555555556,
             "#d8576b"
            ],
            [
             0.6666666666666666,
             "#ed7953"
            ],
            [
             0.7777777777777778,
             "#fb9f3a"
            ],
            [
             0.8888888888888888,
             "#fdca26"
            ],
            [
             1.0,
             "#f0f921"
            ]
           ]
          },
          "colorway": [
           "#636efa",
           "#EF553B",
           "#00cc96",
           "#ab63fa",
           "#FFA15A",
           "#19d3f3",
           "#FF6692",
           "#B6E880",
           "#FF97FF",
           "#FECB52"
          ],
          "font": {
           "color": "#2a3f5f"
          },
          "geo": {
           "bgcolor": "white",
           "lakecolor": "white",
           "landcolor": "#E5ECF6",
           "showlakes": true,
           "showland": true,
           "subunitcolor": "white"
          },
          "hoverlabel": {
           "align": "left"
          },
          "hovermode": "closest",
          "mapbox": {
           "style": "light"
          },
          "paper_bgcolor": "white",
          "plot_bgcolor": "#E5ECF6",
          "polar": {
           "angularaxis": {
            "gridcolor": "white",
            "linecolor": "white",
            "ticks": ""
           },
           "bgcolor": "#E5ECF6",
           "radialaxis": {
            "gridcolor": "white",
            "linecolor": "white",
            "ticks": ""
           }
          },
          "scene": {
           "xaxis": {
            "backgroundcolor": "#E5ECF6",
            "gridcolor": "white",
            "gridwidth": 2,
            "linecolor": "white",
            "showbackground": true,
            "ticks": "",
            "zerolinecolor": "white"
           },
           "yaxis": {
            "backgroundcolor": "#E5ECF6",
            "gridcolor": "white",
            "gridwidth": 2,
            "linecolor": "white",
            "showbackground": true,
            "ticks": "",
            "zerolinecolor": "white"
           },
           "zaxis": {
            "backgroundcolor": "#E5ECF6",
            "gridcolor": "white",
            "gridwidth": 2,
            "linecolor": "white",
            "showbackground": true,
            "ticks": "",
            "zerolinecolor": "white"
           }
          },
          "shapedefaults": {
           "line": {
            "color": "#2a3f5f"
           }
          },
          "ternary": {
           "aaxis": {
            "gridcolor": "white",
            "linecolor": "white",
            "ticks": ""
           },
           "baxis": {
            "gridcolor": "white",
            "linecolor": "white",
            "ticks": ""
           },
           "bgcolor": "#E5ECF6",
           "caxis": {
            "gridcolor": "white",
            "linecolor": "white",
            "ticks": ""
           }
          },
          "title": {
           "x": 0.05
          },
          "xaxis": {
           "automargin": true,
           "gridcolor": "white",
           "linecolor": "white",
           "ticks": "",
           "title": {
            "standoff": 15
           },
           "zerolinecolor": "white",
           "zerolinewidth": 2
          },
          "yaxis": {
           "automargin": true,
           "gridcolor": "white",
           "linecolor": "white",
           "ticks": "",
           "title": {
            "standoff": 15
           },
           "zerolinecolor": "white",
           "zerolinewidth": 2
          }
         }
        },
        "xaxis": {
         "anchor": "y",
         "domain": [
          0.0,
          1.0
         ],
         "title": {
          "text": "x"
         }
        },
        "yaxis": {
         "anchor": "x",
         "domain": [
          0.0,
          1.0
         ],
         "title": {
          "text": "y"
         }
        },
        "legend": {
         "tracegroupgap": 0
        },
        "title": {
         "text": "True distribution function for theta_hat"
        }
       },
       "config": {
        "plotlyServerURL": "https://plot.ly"
       }
      },
      "text/html": "<div>                            <div id=\"7d0a1b52-19ea-4ccb-a9be-31b81d727f83\" class=\"plotly-graph-div\" style=\"height:525px; width:100%;\"></div>            <script type=\"text/javascript\">                require([\"plotly\"], function(Plotly) {                    window.PLOTLYENV=window.PLOTLYENV || {};                                    if (document.getElementById(\"7d0a1b52-19ea-4ccb-a9be-31b81d727f83\")) {                    Plotly.newPlot(                        \"7d0a1b52-19ea-4ccb-a9be-31b81d727f83\",                        [{\"hovertemplate\":\"x=%{x}<br>y=%{y}<extra></extra>\",\"legendgroup\":\"\",\"line\":{\"color\":\"#636efa\",\"dash\":\"solid\"},\"marker\":{\"symbol\":\"circle\"},\"mode\":\"lines\",\"name\":\"\",\"orientation\":\"v\",\"showlegend\":false,\"x\":[0.0,0.0015015015015015015,0.003003003003003003,0.0045045045045045045,0.006006006006006006,0.0075075075075075074,0.009009009009009009,0.01051051051051051,0.012012012012012012,0.013513513513513514,0.015015015015015015,0.016516516516516516,0.018018018018018018,0.01951951951951952,0.02102102102102102,0.02252252252252252,0.024024024024024024,0.025525525525525526,0.02702702702702703,0.028528528528528527,0.03003003003003003,0.03153153153153153,0.03303303303303303,0.03453453453453453,0.036036036036036036,0.03753753753753754,0.03903903903903904,0.04054054054054054,0.04204204204204204,0.04354354354354354,0.04504504504504504,0.046546546546546545,0.04804804804804805,0.04954954954954955,0.05105105105105105,0.052552552552552555,0.05405405405405406,0.05555555555555555,0.057057057057057055,0.05855855855855856,0.06006006006006006,0.06156156156156156,0.06306306306306306,0.06456456456456457,0.06606606606606606,0.06756756756756757,0.06906906906906907,0.07057057057057058,0.07207207207207207,0.07357357357357357,0.07507507507507508,0.07657657657657657,0.07807807807807808,0.07957957957957958,0.08108108108108109,0.08258258258258258,0.08408408408408408,0.08558558558558559,0.08708708708708708,0.08858858858858859,0.09009009009009009,0.0915915915915916,0.09309309309309309,0.0945945945945946,0.0960960960960961,0.09759759759759759,0.0990990990990991,0.1006006006006006,0.1021021021021021,0.1036036036036036,0.10510510510510511,0.1066066066066066,0.10810810810810811,0.10960960960960961,0.1111111111111111,0.11261261261261261,0.11411411411411411,0.11561561561561562,0.11711711711711711,0.11861861861861862,0.12012012012012012,0.12162162162162161,0.12312312312312312,0.12462462462462462,0.12612612612612611,0.12762762762762764,0.12912912912912913,0.13063063063063063,0.13213213213213212,0.13363363363363362,0.13513513513513514,0.13663663663663664,0.13813813813813813,0.13963963963963963,0.14114114114114115,0.14264264264264265,0.14414414414414414,0.14564564564564564,0.14714714714714713,0.14864864864864866,0.15015015015015015,0.15165165165165165,0.15315315315315314,0.15465465465465467,0.15615615615615616,0.15765765765765766,0.15915915915915915,0.16066066066066065,0.16216216216216217,0.16366366366366367,0.16516516516516516,0.16666666666666666,0.16816816816816815,0.16966966966966968,0.17117117117117117,0.17267267267267267,0.17417417417417416,0.17567567567567569,0.17717717717717718,0.17867867867867868,0.18018018018018017,0.18168168168168167,0.1831831831831832,0.18468468468468469,0.18618618618618618,0.18768768768768768,0.1891891891891892,0.1906906906906907,0.1921921921921922,0.19369369369369369,0.19519519519519518,0.1966966966966967,0.1981981981981982,0.1996996996996997,0.2012012012012012,0.20270270270270271,0.2042042042042042,0.2057057057057057,0.2072072072072072,0.2087087087087087,0.21021021021021022,0.21171171171171171,0.2132132132132132,0.2147147147147147,0.21621621621621623,0.21771771771771772,0.21921921921921922,0.22072072072072071,0.2222222222222222,0.22372372372372373,0.22522522522522523,0.22672672672672672,0.22822822822822822,0.22972972972972971,0.23123123123123124,0.23273273273273273,0.23423423423423423,0.23573573573573572,0.23723723723723725,0.23873873873873874,0.24024024024024024,0.24174174174174173,0.24324324324324323,0.24474474474474475,0.24624624624624625,0.24774774774774774,0.24924924924924924,0.25075075075075076,0.25225225225225223,0.25375375375375375,0.2552552552552553,0.25675675675675674,0.25825825825825827,0.25975975975975973,0.26126126126126126,0.2627627627627628,0.26426426426426425,0.26576576576576577,0.26726726726726724,0.26876876876876876,0.2702702702702703,0.27177177177177175,0.2732732732732733,0.2747747747747748,0.27627627627627627,0.2777777777777778,0.27927927927927926,0.2807807807807808,0.2822822822822823,0.28378378378378377,0.2852852852852853,0.28678678678678676,0.2882882882882883,0.2897897897897898,0.2912912912912913,0.2927927927927928,0.29429429429429427,0.2957957957957958,0.2972972972972973,0.2987987987987988,0.3003003003003003,0.3018018018018018,0.3033033033033033,0.3048048048048048,0.3063063063063063,0.3078078078078078,0.30930930930930933,0.3108108108108108,0.3123123123123123,0.3138138138138138,0.3153153153153153,0.31681681681681684,0.3183183183183183,0.31981981981981983,0.3213213213213213,0.3228228228228228,0.32432432432432434,0.3258258258258258,0.32732732732732733,0.3288288288288288,0.3303303303303303,0.33183183183183185,0.3333333333333333,0.33483483483483484,0.3363363363363363,0.33783783783783783,0.33933933933933935,0.3408408408408408,0.34234234234234234,0.34384384384384387,0.34534534534534533,0.34684684684684686,0.3483483483483483,0.34984984984984985,0.35135135135135137,0.35285285285285284,0.35435435435435436,0.35585585585585583,0.35735735735735735,0.3588588588588589,0.36036036036036034,0.36186186186186187,0.36336336336336333,0.36486486486486486,0.3663663663663664,0.36786786786786785,0.36936936936936937,0.3708708708708709,0.37237237237237236,0.3738738738738739,0.37537537537537535,0.3768768768768769,0.3783783783783784,0.37987987987987987,0.3813813813813814,0.38288288288288286,0.3843843843843844,0.3858858858858859,0.38738738738738737,0.3888888888888889,0.39039039039039036,0.3918918918918919,0.3933933933933934,0.3948948948948949,0.3963963963963964,0.39789789789789787,0.3993993993993994,0.4009009009009009,0.4024024024024024,0.4039039039039039,0.40540540540540543,0.4069069069069069,0.4084084084084084,0.4099099099099099,0.4114114114114114,0.41291291291291293,0.4144144144144144,0.4159159159159159,0.4174174174174174,0.4189189189189189,0.42042042042042044,0.4219219219219219,0.42342342342342343,0.4249249249249249,0.4264264264264264,0.42792792792792794,0.4294294294294294,0.43093093093093093,0.43243243243243246,0.4339339339339339,0.43543543543543545,0.4369369369369369,0.43843843843843844,0.43993993993993996,0.44144144144144143,0.44294294294294295,0.4444444444444444,0.44594594594594594,0.44744744744744747,0.44894894894894893,0.45045045045045046,0.4519519519519519,0.45345345345345345,0.45495495495495497,0.45645645645645644,0.45795795795795796,0.45945945945945943,0.46096096096096095,0.4624624624624625,0.46396396396396394,0.46546546546546547,0.466966966966967,0.46846846846846846,0.46996996996997,0.47147147147147145,0.47297297297297297,0.4744744744744745,0.47597597597597596,0.4774774774774775,0.47897897897897895,0.4804804804804805,0.481981981981982,0.48348348348348347,0.484984984984985,0.48648648648648646,0.487987987987988,0.4894894894894895,0.49099099099099097,0.4924924924924925,0.49399399399399396,0.4954954954954955,0.496996996996997,0.4984984984984985,0.5,0.5015015015015015,0.503003003003003,0.5045045045045045,0.506006006006006,0.5075075075075075,0.509009009009009,0.5105105105105106,0.512012012012012,0.5135135135135135,0.515015015015015,0.5165165165165165,0.5180180180180181,0.5195195195195195,0.521021021021021,0.5225225225225225,0.524024024024024,0.5255255255255256,0.527027027027027,0.5285285285285285,0.53003003003003,0.5315315315315315,0.5330330330330331,0.5345345345345345,0.536036036036036,0.5375375375375375,0.539039039039039,0.5405405405405406,0.542042042042042,0.5435435435435435,0.545045045045045,0.5465465465465466,0.5480480480480481,0.5495495495495496,0.551051051051051,0.5525525525525525,0.5540540540540541,0.5555555555555556,0.5570570570570571,0.5585585585585585,0.56006006006006,0.5615615615615616,0.5630630630630631,0.5645645645645646,0.566066066066066,0.5675675675675675,0.5690690690690691,0.5705705705705706,0.5720720720720721,0.5735735735735735,0.575075075075075,0.5765765765765766,0.5780780780780781,0.5795795795795796,0.581081081081081,0.5825825825825826,0.5840840840840841,0.5855855855855856,0.5870870870870871,0.5885885885885885,0.5900900900900901,0.5915915915915916,0.5930930930930931,0.5945945945945946,0.596096096096096,0.5975975975975976,0.5990990990990991,0.6006006006006006,0.6021021021021021,0.6036036036036035,0.6051051051051051,0.6066066066066066,0.6081081081081081,0.6096096096096096,0.6111111111111112,0.6126126126126126,0.6141141141141141,0.6156156156156156,0.6171171171171171,0.6186186186186187,0.6201201201201201,0.6216216216216216,0.6231231231231231,0.6246246246246246,0.6261261261261262,0.6276276276276276,0.6291291291291291,0.6306306306306306,0.6321321321321322,0.6336336336336337,0.6351351351351351,0.6366366366366366,0.6381381381381381,0.6396396396396397,0.6411411411411412,0.6426426426426426,0.6441441441441441,0.6456456456456456,0.6471471471471472,0.6486486486486487,0.6501501501501501,0.6516516516516516,0.6531531531531531,0.6546546546546547,0.6561561561561562,0.6576576576576576,0.6591591591591591,0.6606606606606606,0.6621621621621622,0.6636636636636637,0.6651651651651651,0.6666666666666666,0.6681681681681682,0.6696696696696697,0.6711711711711712,0.6726726726726726,0.6741741741741741,0.6756756756756757,0.6771771771771772,0.6786786786786787,0.6801801801801802,0.6816816816816816,0.6831831831831832,0.6846846846846847,0.6861861861861862,0.6876876876876877,0.6891891891891891,0.6906906906906907,0.6921921921921922,0.6936936936936937,0.6951951951951952,0.6966966966966966,0.6981981981981982,0.6996996996996997,0.7012012012012012,0.7027027027027027,0.7042042042042042,0.7057057057057057,0.7072072072072072,0.7087087087087087,0.7102102102102102,0.7117117117117117,0.7132132132132132,0.7147147147147147,0.7162162162162162,0.7177177177177178,0.7192192192192192,0.7207207207207207,0.7222222222222222,0.7237237237237237,0.7252252252252253,0.7267267267267267,0.7282282282282282,0.7297297297297297,0.7312312312312312,0.7327327327327328,0.7342342342342342,0.7357357357357357,0.7372372372372372,0.7387387387387387,0.7402402402402403,0.7417417417417418,0.7432432432432432,0.7447447447447447,0.7462462462462462,0.7477477477477478,0.7492492492492493,0.7507507507507507,0.7522522522522522,0.7537537537537538,0.7552552552552553,0.7567567567567568,0.7582582582582582,0.7597597597597597,0.7612612612612613,0.7627627627627628,0.7642642642642643,0.7657657657657657,0.7672672672672672,0.7687687687687688,0.7702702702702703,0.7717717717717718,0.7732732732732732,0.7747747747747747,0.7762762762762763,0.7777777777777778,0.7792792792792793,0.7807807807807807,0.7822822822822822,0.7837837837837838,0.7852852852852853,0.7867867867867868,0.7882882882882882,0.7897897897897898,0.7912912912912913,0.7927927927927928,0.7942942942942943,0.7957957957957957,0.7972972972972973,0.7987987987987988,0.8003003003003003,0.8018018018018018,0.8033033033033034,0.8048048048048048,0.8063063063063063,0.8078078078078078,0.8093093093093093,0.8108108108108109,0.8123123123123123,0.8138138138138138,0.8153153153153153,0.8168168168168168,0.8183183183183184,0.8198198198198198,0.8213213213213213,0.8228228228228228,0.8243243243243243,0.8258258258258259,0.8273273273273273,0.8288288288288288,0.8303303303303303,0.8318318318318318,0.8333333333333334,0.8348348348348348,0.8363363363363363,0.8378378378378378,0.8393393393393394,0.8408408408408409,0.8423423423423423,0.8438438438438438,0.8453453453453453,0.8468468468468469,0.8483483483483484,0.8498498498498498,0.8513513513513513,0.8528528528528528,0.8543543543543544,0.8558558558558559,0.8573573573573573,0.8588588588588588,0.8603603603603603,0.8618618618618619,0.8633633633633634,0.8648648648648649,0.8663663663663663,0.8678678678678678,0.8693693693693694,0.8708708708708709,0.8723723723723724,0.8738738738738738,0.8753753753753754,0.8768768768768769,0.8783783783783784,0.8798798798798799,0.8813813813813813,0.8828828828828829,0.8843843843843844,0.8858858858858859,0.8873873873873874,0.8888888888888888,0.8903903903903904,0.8918918918918919,0.8933933933933934,0.8948948948948949,0.8963963963963963,0.8978978978978979,0.8993993993993994,0.9009009009009009,0.9024024024024024,0.9039039039039038,0.9054054054054054,0.9069069069069069,0.9084084084084084,0.9099099099099099,0.9114114114114114,0.9129129129129129,0.9144144144144144,0.9159159159159159,0.9174174174174174,0.9189189189189189,0.9204204204204204,0.9219219219219219,0.9234234234234234,0.924924924924925,0.9264264264264264,0.9279279279279279,0.9294294294294294,0.9309309309309309,0.9324324324324325,0.933933933933934,0.9354354354354354,0.9369369369369369,0.9384384384384384,0.93993993993994,0.9414414414414415,0.9429429429429429,0.9444444444444444,0.9459459459459459,0.9474474474474475,0.948948948948949,0.9504504504504504,0.9519519519519519,0.9534534534534534,0.954954954954955,0.9564564564564565,0.9579579579579579,0.9594594594594594,0.960960960960961,0.9624624624624625,0.963963963963964,0.9654654654654654,0.9669669669669669,0.9684684684684685,0.96996996996997,0.9714714714714715,0.9729729729729729,0.9744744744744744,0.975975975975976,0.9774774774774775,0.978978978978979,0.9804804804804804,0.9819819819819819,0.9834834834834835,0.984984984984985,0.9864864864864865,0.9879879879879879,0.9894894894894894,0.990990990990991,0.9924924924924925,0.993993993993994,0.9954954954954955,0.996996996996997,0.9984984984984985,1.0,1.0015015015015014,1.003003003003003,1.0045045045045045,1.006006006006006,1.0075075075075075,1.009009009009009,1.0105105105105106,1.012012012012012,1.0135135135135136,1.015015015015015,1.0165165165165164,1.018018018018018,1.0195195195195195,1.021021021021021,1.0225225225225225,1.024024024024024,1.0255255255255256,1.027027027027027,1.0285285285285286,1.03003003003003,1.0315315315315314,1.033033033033033,1.0345345345345345,1.0360360360360361,1.0375375375375375,1.039039039039039,1.0405405405405406,1.042042042042042,1.0435435435435436,1.045045045045045,1.0465465465465464,1.048048048048048,1.0495495495495495,1.0510510510510511,1.0525525525525525,1.054054054054054,1.0555555555555556,1.057057057057057,1.0585585585585586,1.06006006006006,1.0615615615615615,1.063063063063063,1.0645645645645645,1.0660660660660661,1.0675675675675675,1.069069069069069,1.0705705705705706,1.072072072072072,1.0735735735735736,1.075075075075075,1.0765765765765765,1.078078078078078,1.0795795795795795,1.0810810810810811,1.0825825825825826,1.084084084084084,1.0855855855855856,1.087087087087087,1.0885885885885886,1.09009009009009,1.0915915915915917,1.093093093093093,1.0945945945945945,1.0960960960960962,1.0975975975975976,1.0990990990990992,1.1006006006006006,1.102102102102102,1.1036036036036037,1.105105105105105,1.1066066066066067,1.1081081081081081,1.1096096096096095,1.1111111111111112,1.1126126126126126,1.1141141141141142,1.1156156156156156,1.117117117117117,1.1186186186186187,1.12012012012012,1.1216216216216217,1.1231231231231231,1.1246246246246245,1.1261261261261262,1.1276276276276276,1.1291291291291292,1.1306306306306306,1.132132132132132,1.1336336336336337,1.135135135135135,1.1366366366366367,1.1381381381381381,1.1396396396396395,1.1411411411411412,1.1426426426426426,1.1441441441441442,1.1456456456456456,1.147147147147147,1.1486486486486487,1.15015015015015,1.1516516516516517,1.1531531531531531,1.1546546546546546,1.1561561561561562,1.1576576576576576,1.1591591591591592,1.1606606606606606,1.162162162162162,1.1636636636636637,1.165165165165165,1.1666666666666667,1.1681681681681682,1.1696696696696696,1.1711711711711712,1.1726726726726726,1.1741741741741742,1.1756756756756757,1.177177177177177,1.1786786786786787,1.1801801801801801,1.1816816816816818,1.1831831831831832,1.1846846846846846,1.1861861861861862,1.1876876876876876,1.1891891891891893,1.1906906906906907,1.192192192192192,1.1936936936936937,1.1951951951951951,1.1966966966966968,1.1981981981981982,1.1996996996996996,1.2012012012012012,1.2027027027027026,1.2042042042042043,1.2057057057057057,1.207207207207207,1.2087087087087087,1.2102102102102101,1.2117117117117118,1.2132132132132132,1.2147147147147146,1.2162162162162162,1.2177177177177176,1.2192192192192193,1.2207207207207207,1.2222222222222223,1.2237237237237237,1.2252252252252251,1.2267267267267268,1.2282282282282282,1.2297297297297298,1.2312312312312312,1.2327327327327327,1.2342342342342343,1.2357357357357357,1.2372372372372373,1.2387387387387387,1.2402402402402402,1.2417417417417418,1.2432432432432432,1.2447447447447448,1.2462462462462462,1.2477477477477477,1.2492492492492493,1.2507507507507507,1.2522522522522523,1.2537537537537538,1.2552552552552552,1.2567567567567568,1.2582582582582582,1.2597597597597598,1.2612612612612613,1.2627627627627627,1.2642642642642643,1.2657657657657657,1.2672672672672673,1.2687687687687688,1.2702702702702702,1.2717717717717718,1.2732732732732732,1.2747747747747749,1.2762762762762763,1.2777777777777777,1.2792792792792793,1.2807807807807807,1.2822822822822824,1.2837837837837838,1.2852852852852852,1.2867867867867868,1.2882882882882882,1.2897897897897899,1.2912912912912913,1.2927927927927927,1.2942942942942943,1.2957957957957957,1.2972972972972974,1.2987987987987988,1.3003003003003002,1.3018018018018018,1.3033033033033032,1.3048048048048049,1.3063063063063063,1.3078078078078077,1.3093093093093093,1.3108108108108107,1.3123123123123124,1.3138138138138138,1.3153153153153152,1.3168168168168168,1.3183183183183182,1.3198198198198199,1.3213213213213213,1.3228228228228227,1.3243243243243243,1.3258258258258258,1.3273273273273274,1.3288288288288288,1.3303303303303302,1.3318318318318318,1.3333333333333333,1.334834834834835,1.3363363363363363,1.3378378378378377,1.3393393393393394,1.3408408408408408,1.3423423423423424,1.3438438438438438,1.3453453453453452,1.3468468468468469,1.3483483483483483,1.34984984984985,1.3513513513513513,1.352852852852853,1.3543543543543544,1.3558558558558558,1.3573573573573574,1.3588588588588588,1.3603603603603605,1.3618618618618619,1.3633633633633633,1.364864864864865,1.3663663663663663,1.367867867867868,1.3693693693693694,1.3708708708708708,1.3723723723723724,1.3738738738738738,1.3753753753753755,1.3768768768768769,1.3783783783783783,1.37987987987988,1.3813813813813813,1.382882882882883,1.3843843843843844,1.3858858858858858,1.3873873873873874,1.3888888888888888,1.3903903903903905,1.3918918918918919,1.3933933933933933,1.394894894894895,1.3963963963963963,1.397897897897898,1.3993993993993994,1.4009009009009008,1.4024024024024024,1.4039039039039038,1.4054054054054055,1.406906906906907,1.4084084084084083,1.40990990990991,1.4114114114114114,1.412912912912913,1.4144144144144144,1.4159159159159158,1.4174174174174174,1.4189189189189189,1.4204204204204205,1.421921921921922,1.4234234234234233,1.424924924924925,1.4264264264264264,1.427927927927928,1.4294294294294294,1.4309309309309308,1.4324324324324325,1.4339339339339339,1.4354354354354355,1.436936936936937,1.4384384384384383,1.43993993993994,1.4414414414414414,1.442942942942943,1.4444444444444444,1.4459459459459458,1.4474474474474475,1.4489489489489489,1.4504504504504505,1.451951951951952,1.4534534534534533,1.454954954954955,1.4564564564564564,1.457957957957958,1.4594594594594594,1.4609609609609608,1.4624624624624625,1.4639639639639639,1.4654654654654655,1.466966966966967,1.4684684684684683,1.46996996996997,1.4714714714714714,1.472972972972973,1.4744744744744744,1.475975975975976,1.4774774774774775,1.478978978978979,1.4804804804804805,1.481981981981982,1.4834834834834836,1.484984984984985,1.4864864864864864,1.487987987987988,1.4894894894894894,1.490990990990991,1.4924924924924925,1.493993993993994,1.4954954954954955,1.496996996996997,1.4984984984984986,1.5],\"xaxis\":\"x\",\"y\":[0.0,6.70329822819313e-142,7.547242850660965e-127,4.812284301370966e-118,8.497435210193538e-112,5.953639852694998e-107,5.417555082628523e-103,1.2050229383390518e-99,9.555211282174749e-97,3.4451619546437616e-94,6.668750935977395e-92,7.8020259788634685e-90,6.021604503057604e-88,3.276765127234881e-86,1.3239675627468146e-84,4.138432548289832e-83,1.0344368237633156e-81,2.1244898942348458e-80,3.666458534367679e-79,5.418256214640983e-78,6.966520436109513e-77,7.900000819803926e-76,7.9943002408057185e-75,7.2926486034308e-74,6.050459088692601e-73,4.601137740603983e-72,3.2291957774385135e-71,2.104343879361395e-70,1.280220567623155e-69,7.306396555826238e-69,3.928821165011382e-68,1.9983236413663356e-67,9.648399593730632e-67,4.4363864266359626e-66,1.948324331343513e-65,8.194323484405796e-65,3.308632973846334e-64,1.2854160282326603e-63,4.814998139081091e-63,1.742341674249376e-62,6.101263035783559e-62,2.0709185173938725e-61,6.823691669680021e-61,2.1857409446493584e-60,6.815040951745768e-60,2.07089420897624e-59,6.13989817426249e-59,1.7780353100716483e-58,5.034176014242459e-58,1.3948617920308593e-57,3.7855587614852456e-57,1.0071249645912549e-56,2.628626260403362e-56,6.735729274889918e-56,1.695707650248849e-55,4.196735404128989e-55,1.0217266774120225e-54,2.4483550154647238e-54,5.777916186095306e-54,1.3435491327754497e-53,3.079910250912194e-53,6.963549968913932e-53,1.5535574047643773e-52,3.421482289645501e-52,7.44164991411623e-52,1.599047611894191e-51,3.395879452573121e-51,7.13010654786984e-51,1.4806075283718948e-50,3.04175957418789e-50,6.184228473542922e-50,1.244660307086878e-49,2.4805292499431435e-49,4.896485350711321e-49,9.57601251370036e-49,1.8558977386314664e-48,3.5653082176073423e-48,6.790696286429987e-48,1.2826327000823954e-47,2.403001055155014e-47,4.466410428456041e-47,8.237630880440971e-47,1.5078838777683288e-46,2.739902790262973e-46,4.942891024952552e-46,8.854819988276018e-46,1.5754435271352197e-45,2.7843218587435327e-45,4.888732113955694e-45,8.528991725651204e-45,1.4787204244021573e-44,2.5481299874645437e-44,4.364780794960791e-44,7.433014426514078e-44,1.2585883473211571e-43,2.1191973740351318e-43,3.548780931429825e-43,5.910940346128037e-43,9.793807270930765e-43,1.6143981265995354e-42,2.647762130303982e-42,4.3211593492029854e-42,7.018059688918764e-42,1.1344112181449668e-41,1.8251588435672536e-41,2.923118278238782e-41,4.660638684876912e-41,7.398343639853189e-41,1.1693627214621849e-40,1.8404513651773127e-40,2.8846526353746584e-40,4.502871799598835e-40,7.0007479095693635e-40,1.0841494614660236e-39,1.6724532223633802e-39,2.570208457277269e-39,3.935146838391925e-39,6.002880522483669e-39,9.124137911820002e-39,1.3819231668588343e-38,2.0857474977268479e-38,3.137260335425622e-38,4.702999925868531e-38,7.026822101814417e-38,1.0464679271174393e-37,1.553455083843937e-37,2.2987915073316198e-37,3.3911760174378486e-37,4.987376927621036e-37,7.312837312735615e-37,1.0690838259950285e-36,1.5583662484459848e-36,2.265054110854873e-36,3.282901183063576e-36,4.74488511496106e-36,6.839121555442871e-36,9.83103722720117e-36,1.4094187103732508e-35,2.0152981108425544e-35,2.8741780509336825e-35,4.088644211321796e-35,5.801657449199409e-35,8.211971788798869e-35,1.1595262467718014e-34,1.6333014046595878e-34,2.2951931714249964e-34,3.217759228797153e-34,4.5007323358499355e-34,6.280899261249101e-34,8.745463988160025e-34,1.215008692218602e-33,1.6843186924078375e-33,2.329861497661511e-33,3.2159496642735535e-33,4.429694652014522e-33,6.088854832024112e-33,8.35230554333661e-33,1.1433981075401186e-32,1.5621405566016388e-32,2.1300278279388478e-32,2.898703257380733e-32,3.9371877945843485e-32,5.337560046308063e-32,7.222438943817134e-32,9.754824231271426e-32,1.315101583990511e-31,1.769754712324416e-31,2.3773342364886654e-31,3.1878663080386553e-31,4.267286219505137e-31,5.702354780403037e-31,7.60705038766554e-31,1.0130866816708049e-30,1.3469568356619557e-30,1.7879108857172695e-30,2.3693618410745874e-30,3.1348611906066728e-30,4.141089156165012e-30,5.461701833207189e-30,7.192273677074919e-30,9.456638203731825e-30,1.2415011062415897e-29,1.6274382092676367e-29,2.1301791943657498e-29,2.784127096069079e-29,3.633542160184981e-29,4.7352880901870993e-29,6.162321918518166e-29,8.008123111502864e-29,1.0392307476576976e-28,1.3467733783495907e-28,1.7429488713948567e-28,2.2526232487068635e-28,2.907450779233721e-28,3.747676405824144e-28,4.824403442965258e-28,6.202443251010305e-28,7.963892023654454e-28,1.0212614979798782e-27,1.307986167105654e-27,1.673128968745027e-27,2.137574006893547e-27,2.727618901826228e-27,3.47634004845725e-27,4.4252927015123605e-27,5.626625702376761e-27,7.145709145929696e-27,9.064395925212761e-27,1.1485065794240861e-26,1.4535634453441196e-26,1.8375751518148964e-26,2.320446168670723e-26,2.9269664924593217e-26,3.6879786370459427e-26,4.6418157778544827e-26,5.836072304894693e-26,7.329781486700419e-26,9.196091261306735e-26,1.152554894470843e-25,1.443012959436746e-25,1.8048171740049118e-25,2.2550419221120234e-25,2.8147410175805837e-25,3.509850528225548e-25,4.372290890987293e-25,5.4413111000409945e-25,6.765126676639775e-25,8.40291386578818e-25,1.042723540678758e-24,1.2926988716415175e-24,1.6010985909730839e-24,1.9812297364400124e-24,2.4493517223175026e-24,3.0253141172541685e-24,3.733328503797597e-24,4.602901838895162e-24,5.669964186042232e-24,6.978230194234148e-24,8.580841454066107e-24,1.0542346100723145e-23,1.2941083033155796e-23,1.587205120400166e-23,1.9450359989966014e-23,2.3815375130201078e-23,2.913569665396139e-23,3.561513123647572e-23,4.3499852261849716e-23,5.308697740223048e-23,6.47348367633014e-23,7.887525579457777e-23,9.602823762383116e-23,1.1681950089529168e-22,1.420014135002369e-22,1.7247796204670342e-22,2.0933451416531802e-22,2.5387326888365723e-22,3.076554529361004e-22,3.7255151222950236e-22,4.508007726869271e-22,5.4508230908692135e-22,6.5859907100783725e-22,7.951776793836714e-22,9.593867345683523e-22,1.1566769777773232e-21,1.3935472346276808e-21,1.6777407565425724e-21,2.018477379642248e-21,2.4267278607007106e-21,2.9155378482129005e-21,3.500410229541929e-21,4.1997560926165814e-21,5.0354262875962e-21,6.0333376106759665e-21,7.224210005508302e-21,8.644433941606641e-21,1.0337090346001626e-20,1.2353149206575855e-20,1.4752877316153312e-20,1.7607490681800166e-20,2.1001092994836592e-20,2.503294837156185e-20,2.9820144480206714e-20,3.5500711335657585e-20,4.223727166557622e-20,5.022131105445281e-20,5.967817031413966e-20,7.087287900805521e-20,8.411696811232002e-20,9.977642182289567e-20,1.1828095396309072e-19,1.401348238262323e-19,1.6592944019586512e-19,1.963580413986057e-19,2.3223278433848697e-19,2.745046274272158e-19,3.242864521777947e-19,3.828799371350322e-19,4.518067771064621e-19,5.328449318500275e-19,6.280706932120857e-19,7.399074801698168e-19,8.711824095837526e-19,1.025191849291522e-18,1.2057773424134089e-18,1.4174135007599028e-18,1.6653097048442145e-18,1.9555277225719473e-18,2.295117673162527e-18,2.692275122881893e-18,3.1565225111688028e-18,3.698918576985406e-18,4.332299994021611e-18,5.07156003914221e-18,5.933969821858209e-18,6.939548405776313e-18,8.111489069694523e-18,9.476650001834177e-18,1.1066118913390075e-17,1.291586241709538e-17,1.50674725656043e-17,1.756902470888948e-17,2.0476062838540972e-17,2.385273087290337e-17,2.7773070937425176e-17,3.232251265162643e-17,3.759958079524894e-17,4.3717852544953574e-17,5.080819981034932e-17,5.902135712219738e-17,6.85308611138569e-17,7.953641397649347e-17,9.226773045705904e-17,1.0698893611697644e-16,1.2400359380260636e-16,1.4366044573703054e-16,1.6635997048439177e-16,1.925618674403544e-16,2.227935966663572e-16,2.576601190348075e-16,2.978550010424992e-16,3.441730705614379e-16,3.9752483455299405e-16,4.589528977289838e-16,5.296506527049675e-16,6.109835478116948e-16,7.045132789113068e-16,8.120252968815247e-16,9.3556007351587e-16,1.0774486261561171e-15,1.2403528662313993e-15,1.4273114099109467e-15,1.6417915713031784e-15,1.8877483511654318e-15,2.1696913381846296e-15,2.492760556968558e-15,2.8628124284972295e-15,3.2865171567129335e-15,3.7714690211168566e-15,4.3263112418884514e-15,4.960877293625084e-15,5.686350779000977e-15,6.515446237579522e-15,7.462613561044682e-15,8.544269018050944e-15,9.779056264014646e-15,1.1188141128106367e-14,1.2795544436838568e-14,1.4628517656741552e-14,1.6717966724280464e-14,1.9098930086589783e-14,2.1811117710020384e-14,2.4899518633687394e-14,2.8415085562459026e-14,3.241550601908661e-14,3.6966070720852014e-14,4.2140651126187655e-14,4.802279952606573e-14,5.470698665107662e-14,6.229999354650261e-14,7.09224764553442e-14,8.071072566684882e-14,9.181864176056149e-14,1.0441995543293109e-13,1.1871072016600277e-13,1.349121104210559e-13,1.5327356185393604e-13,1.7407629429494005e-13,1.9763726296419937e-13,2.2431358865517098e-13,2.5450752347300084e-13,2.88672015227581e-13,3.273169408220031e-13,3.710160870289133e-13,4.204149659953299e-13,4.762395627583968e-13,5.393061231006599e-13,6.105321023368436e-13,6.909484092429593e-13,7.817130944527375e-13,8.841266494168339e-13,9.996491006288875e-13,1.1299191044539092e-12,1.27677527077675e-12,1.4422799690493376e-12,1.6287458984189929e-12,1.838765734764067e-12,2.075245201947234e-12,2.3414399527946823e-12,2.6409966875894283e-12,2.9779989846668154e-12,3.357018369477494e-12,3.783171205777896e-12,4.262182055948835e-12,4.8004542275034866e-12,5.4051483002782215e-12,6.084269514368992e-12,6.846764993448201e-12,7.70263188251708e-12,8.663037594510798e-12,9.740453487517822e-12,1.0948803434929303e-11,1.230362890599875e-11,1.382227234539816e-11,1.552408082917972e-11,1.7430632182734603e-11,1.9565985975848355e-11,2.1956962063027788e-11,2.4633449616014447e-11,2.7628749902655397e-11,3.097995640466599e-11,3.472837623941154e-11,3.891999726122935e-11,4.360600566929857e-11,4.884335944618561e-11,5.4695423498029604e-11,6.123267296879217e-11,6.853347186278108e-11,7.668493483683506e-11,8.578388082341808e-11,9.593788802470323e-11,1.0726646078330657e-10,1.1990231989662803e-10,1.3399282910658586e-10,1.497015717764849e-10,1.6721009317152428e-10,1.8671982530121544e-10,2.0845421297485248e-10,2.3266106157709642e-10,2.5961512910804825e-10,2.896209872657745e-10,3.230161787980147e-10,3.60174701035984e-10,4.0151084846474333e-10,4.474834504106555e-10,4.98600543459095e-10,5.554245220862827e-10,6.185778152265421e-10,6.887491411392362e-10,7.667003980175136e-10,8.532742533435104e-10,9.494025010789413e-10,1.0561152624356307e-09,1.1745511132560158e-09,1.3059682289929303e-09,1.4517566469891665e-09,1.6134517552757945e-09,1.792749127510349e-09,1.9915208350520647e-09,2.2118333795865623e-09,2.455967403288422e-09,2.726439348329384e-09,3.0260252537194e-09,3.3577868951465633e-09,3.7251004927552437e-09,4.131688232859369e-09,4.581652872551194e-09,5.079515721213162e-09,5.630258320285347e-09,6.239368172421542e-09,6.912888903677688e-09,7.657475277795086e-09,8.480453520238196e-09,9.389887451748631e-09,1.0394650976983997e-08,1.1504507523774239e-08,1.2730197082912213e-08,1.4083531557603326e-08,1.5577499196233703e-08,1.7226378952256376e-08,1.9045865691444414e-08,2.1053207249891428e-08,2.3267354436566875e-08,2.5709125172717627e-08,2.8401384067337115e-08,3.1369238844390665e-08,3.4640255163987084e-08,3.8244691517286436e-08,4.2215756024369906e-08,4.658988712693335e-08,5.140706034401707e-08,5.67111234509158e-08,6.255016264967892e-08,6.897690252573182e-08,7.604914283101763e-08,8.383023540042004e-08,9.238960479790487e-08,1.0180331660288415e-07,1.121546975879955e-07,1.23535012409682e-07,1.360442018336028e-07,1.497916879523393e-07,1.6489725232453462e-07,1.814919934758461e-07,1.9971937075720059e-07,2.1973634215607482e-07,2.417146043084159e-07,2.658419436643782e-07,2.923237085251589e-07,3.213844124973682e-07,3.5326948080701393e-07,3.8824715188734874e-07,4.2661054770611007e-07,4.6867992743529953e-07,5.148051403002767e-07,5.653682947762804e-07,6.207866627447039e-07,6.815158387817922e-07,7.480531764397076e-07,8.209415252083945e-07,9.007732938180377e-07,9.881948676793181e-07,1.0839114105659853e-06,1.1886920831371655e-06,1.3033757135971078e-06,1.4288769586982224e-06,1.5661929964449345e-06,1.7164107952541146e-06,1.8807150080020065e-06,2.06039654335022e-06,2.2568618710333128e-06,2.471643122405439e-06,2.7064090525417346e-06,2.9629769355757267e-06,3.2433254707631295e-06,3.549608783047041e-06,3.884171608653678e-06,4.2495657635596715e-06,4.648568000543511e-06,5.084199369018623e-06,5.559746201020061e-06,6.078782856566958e-06,6.6451963722820165e-06,7.263213168614774e-06,7.937427983365302e-06,8.672835212552373e-06,9.474862853985362e-06,1.0349409264385814e-05,1.1302882957546753e-05,1.234224568893305e-05,1.3475059091477007e-05,1.4709535148060696e-05,1.605459080859708e-05,1.751990708370125e-05,1.91159929728411e-05,2.085425461282266e-05,2.2747070062400208e-05,2.480787017115866e-05,2.7051226015537987e-05,2.9492943422184878e-05,3.215016513910058e-05,3.504148125812751e-05,3.818704853886045e-05,4.1608719333977473e-05,4.533018086957908e-05,4.9377105691966e-05,5.377731415406048e-05,5.856094988142811e-05,6.37606692293108e-05,6.941184581898973e-05,7.55527913241941e-05,8.222499376716837e-05,8.947337467885984e-05,9.734656658011345e-05,0.00010589721235039224,0.00011518228816809802,0.00012526345183335006,0.0001362074184191556,0.0001480863653428137,0.0001609783691053578,0.0001749678761140648,0.00019014621018323928,0.00020661211950037065,0.00022447236605187184,0.0002438423607239405,0.0002648468475310913,0.0002876206406804034,0.00031230941845110686,0.000339070578162428,0.00036807415681564155,0.00039950382233134435,0.00043355794066401304,0.0004704507244593535,0.0005104134693339262,0.0005536958842980296,0.0006005675233151124,0.000651319325499812,0.0007062652719963917,0.0007657441681621063,0.0008301215603009459,0.000899791796856942,0.0009751802446912768,0.0010567456718249858,0.0011449828088469383,0.001240425102057536,0.0013436476723490132,0.0014552704948249846,0.0015759618152224528,0.0017064418203442122,0.0018474865809273884,0.001999932286674333,0.0021646797945719873,0.0023426995131063805,0.002535036646576852,0.0027428168254115814,0.0029672521502054072,0.0032096476791361947,0.0034714083905009047,0.0037540466543131007,0.00405919024928033,0.004388590964002313,0.004744133823921713,0.005127846988455635,0.005541912365789617,0.005988676996114092,0.006470665257581193,0.006990591952988651,0.0075513763392111855,0.008156157165625677,0.008808308792341998,0.009511458463889899,0.010269504819164527,0.01108663772398269,0.011967359518434306,0.012916507777518405,0.013939279690225681,0.01504125816933552,0.016228439811845075,0.017507264837978237,0.018884649145407495,0.020368018624502326,0.02196534589019017,0.02368518959653726,0.025536736511185543,0.027529846538714597,0.029675100894599127,0.03198385364483819,0.03446828684076908,0.03714146949368724,0.04001742065024905,0.043111176846890364,0.046438864239840005,0.05001777572706212,0.053866453399120995,0.05800477667831572,0.06245405652897951,0.06723713614703031,0.07237849856347478,0.0,0.0,0.0,0.0,0.0,0.0,0.0,0.0,0.0,0.0,0.0,0.0,0.0,0.0,0.0,0.0,0.0,0.0,0.0,0.0,0.0,0.0,0.0,0.0,0.0,0.0,0.0,0.0,0.0,0.0,0.0,0.0,0.0,0.0,0.0,0.0,0.0,0.0,0.0,0.0,0.0,0.0,0.0,0.0,0.0,0.0,0.0,0.0,0.0,0.0,0.0,0.0,0.0,0.0,0.0,0.0,0.0,0.0,0.0,0.0,0.0,0.0,0.0,0.0,0.0,0.0,0.0,0.0,0.0,0.0,0.0,0.0,0.0,0.0,0.0,0.0,0.0,0.0,0.0,0.0,0.0,0.0,0.0,0.0,0.0,0.0,0.0,0.0,0.0,0.0,0.0,0.0,0.0,0.0,0.0,0.0,0.0,0.0,0.0,0.0,0.0,0.0,0.0,0.0,0.0,0.0,0.0,0.0,0.0,0.0,0.0,0.0,0.0,0.0,0.0,0.0,0.0,0.0,0.0,0.0,0.0,0.0,0.0,0.0,0.0,0.0,0.0,0.0,0.0,0.0,0.0,0.0,0.0,0.0,0.0,0.0,0.0,0.0,0.0,0.0,0.0,0.0,0.0,0.0,0.0,0.0,0.0,0.0,0.0,0.0,0.0,0.0,0.0,0.0,0.0,0.0,0.0,0.0,0.0,0.0,0.0,0.0,0.0,0.0,0.0,0.0,0.0,0.0,0.0,0.0,0.0,0.0,0.0,0.0,0.0,0.0,0.0,0.0,0.0,0.0,0.0,0.0,0.0,0.0,0.0,0.0,0.0,0.0,0.0,0.0,0.0,0.0,0.0,0.0,0.0,0.0,0.0,0.0,0.0,0.0,0.0,0.0,0.0,0.0,0.0,0.0,0.0,0.0,0.0,0.0,0.0,0.0,0.0,0.0,0.0,0.0,0.0,0.0,0.0,0.0,0.0,0.0,0.0,0.0,0.0,0.0,0.0,0.0,0.0,0.0,0.0,0.0,0.0,0.0,0.0,0.0,0.0,0.0,0.0,0.0,0.0,0.0,0.0,0.0,0.0,0.0,0.0,0.0,0.0,0.0,0.0,0.0,0.0,0.0,0.0,0.0,0.0,0.0,0.0,0.0,0.0,0.0,0.0,0.0,0.0,0.0,0.0,0.0,0.0,0.0,0.0,0.0,0.0,0.0,0.0,0.0,0.0,0.0,0.0,0.0,0.0,0.0,0.0,0.0,0.0,0.0,0.0,0.0,0.0,0.0,0.0,0.0,0.0,0.0,0.0,0.0,0.0,0.0,0.0,0.0,0.0,0.0,0.0,0.0,0.0,0.0,0.0,0.0,0.0,0.0,0.0,0.0,0.0,0.0,0.0,0.0,0.0,0.0,0.0,0.0,0.0,0.0,0.0,0.0,0.0,0.0,0.0,0.0,0.0,0.0,0.0,0.0,0.0],\"yaxis\":\"y\",\"type\":\"scatter\"}],                        {\"template\":{\"data\":{\"bar\":[{\"error_x\":{\"color\":\"#2a3f5f\"},\"error_y\":{\"color\":\"#2a3f5f\"},\"marker\":{\"line\":{\"color\":\"#E5ECF6\",\"width\":0.5},\"pattern\":{\"fillmode\":\"overlay\",\"size\":10,\"solidity\":0.2}},\"type\":\"bar\"}],\"barpolar\":[{\"marker\":{\"line\":{\"color\":\"#E5ECF6\",\"width\":0.5},\"pattern\":{\"fillmode\":\"overlay\",\"size\":10,\"solidity\":0.2}},\"type\":\"barpolar\"}],\"carpet\":[{\"aaxis\":{\"endlinecolor\":\"#2a3f5f\",\"gridcolor\":\"white\",\"linecolor\":\"white\",\"minorgridcolor\":\"white\",\"startlinecolor\":\"#2a3f5f\"},\"baxis\":{\"endlinecolor\":\"#2a3f5f\",\"gridcolor\":\"white\",\"linecolor\":\"white\",\"minorgridcolor\":\"white\",\"startlinecolor\":\"#2a3f5f\"},\"type\":\"carpet\"}],\"choropleth\":[{\"colorbar\":{\"outlinewidth\":0,\"ticks\":\"\"},\"type\":\"choropleth\"}],\"contour\":[{\"colorbar\":{\"outlinewidth\":0,\"ticks\":\"\"},\"colorscale\":[[0.0,\"#0d0887\"],[0.1111111111111111,\"#46039f\"],[0.2222222222222222,\"#7201a8\"],[0.3333333333333333,\"#9c179e\"],[0.4444444444444444,\"#bd3786\"],[0.5555555555555556,\"#d8576b\"],[0.6666666666666666,\"#ed7953\"],[0.7777777777777778,\"#fb9f3a\"],[0.8888888888888888,\"#fdca26\"],[1.0,\"#f0f921\"]],\"type\":\"contour\"}],\"contourcarpet\":[{\"colorbar\":{\"outlinewidth\":0,\"ticks\":\"\"},\"type\":\"contourcarpet\"}],\"heatmap\":[{\"colorbar\":{\"outlinewidth\":0,\"ticks\":\"\"},\"colorscale\":[[0.0,\"#0d0887\"],[0.1111111111111111,\"#46039f\"],[0.2222222222222222,\"#7201a8\"],[0.3333333333333333,\"#9c179e\"],[0.4444444444444444,\"#bd3786\"],[0.5555555555555556,\"#d8576b\"],[0.6666666666666666,\"#ed7953\"],[0.7777777777777778,\"#fb9f3a\"],[0.8888888888888888,\"#fdca26\"],[1.0,\"#f0f921\"]],\"type\":\"heatmap\"}],\"heatmapgl\":[{\"colorbar\":{\"outlinewidth\":0,\"ticks\":\"\"},\"colorscale\":[[0.0,\"#0d0887\"],[0.1111111111111111,\"#46039f\"],[0.2222222222222222,\"#7201a8\"],[0.3333333333333333,\"#9c179e\"],[0.4444444444444444,\"#bd3786\"],[0.5555555555555556,\"#d8576b\"],[0.6666666666666666,\"#ed7953\"],[0.7777777777777778,\"#fb9f3a\"],[0.8888888888888888,\"#fdca26\"],[1.0,\"#f0f921\"]],\"type\":\"heatmapgl\"}],\"histogram\":[{\"marker\":{\"pattern\":{\"fillmode\":\"overlay\",\"size\":10,\"solidity\":0.2}},\"type\":\"histogram\"}],\"histogram2d\":[{\"colorbar\":{\"outlinewidth\":0,\"ticks\":\"\"},\"colorscale\":[[0.0,\"#0d0887\"],[0.1111111111111111,\"#46039f\"],[0.2222222222222222,\"#7201a8\"],[0.3333333333333333,\"#9c179e\"],[0.4444444444444444,\"#bd3786\"],[0.5555555555555556,\"#d8576b\"],[0.6666666666666666,\"#ed7953\"],[0.7777777777777778,\"#fb9f3a\"],[0.8888888888888888,\"#fdca26\"],[1.0,\"#f0f921\"]],\"type\":\"histogram2d\"}],\"histogram2dcontour\":[{\"colorbar\":{\"outlinewidth\":0,\"ticks\":\"\"},\"colorscale\":[[0.0,\"#0d0887\"],[0.1111111111111111,\"#46039f\"],[0.2222222222222222,\"#7201a8\"],[0.3333333333333333,\"#9c179e\"],[0.4444444444444444,\"#bd3786\"],[0.5555555555555556,\"#d8576b\"],[0.6666666666666666,\"#ed7953\"],[0.7777777777777778,\"#fb9f3a\"],[0.8888888888888888,\"#fdca26\"],[1.0,\"#f0f921\"]],\"type\":\"histogram2dcontour\"}],\"mesh3d\":[{\"colorbar\":{\"outlinewidth\":0,\"ticks\":\"\"},\"type\":\"mesh3d\"}],\"parcoords\":[{\"line\":{\"colorbar\":{\"outlinewidth\":0,\"ticks\":\"\"}},\"type\":\"parcoords\"}],\"pie\":[{\"automargin\":true,\"type\":\"pie\"}],\"scatter\":[{\"marker\":{\"colorbar\":{\"outlinewidth\":0,\"ticks\":\"\"}},\"type\":\"scatter\"}],\"scatter3d\":[{\"line\":{\"colorbar\":{\"outlinewidth\":0,\"ticks\":\"\"}},\"marker\":{\"colorbar\":{\"outlinewidth\":0,\"ticks\":\"\"}},\"type\":\"scatter3d\"}],\"scattercarpet\":[{\"marker\":{\"colorbar\":{\"outlinewidth\":0,\"ticks\":\"\"}},\"type\":\"scattercarpet\"}],\"scattergeo\":[{\"marker\":{\"colorbar\":{\"outlinewidth\":0,\"ticks\":\"\"}},\"type\":\"scattergeo\"}],\"scattergl\":[{\"marker\":{\"colorbar\":{\"outlinewidth\":0,\"ticks\":\"\"}},\"type\":\"scattergl\"}],\"scattermapbox\":[{\"marker\":{\"colorbar\":{\"outlinewidth\":0,\"ticks\":\"\"}},\"type\":\"scattermapbox\"}],\"scatterpolar\":[{\"marker\":{\"colorbar\":{\"outlinewidth\":0,\"ticks\":\"\"}},\"type\":\"scatterpolar\"}],\"scatterpolargl\":[{\"marker\":{\"colorbar\":{\"outlinewidth\":0,\"ticks\":\"\"}},\"type\":\"scatterpolargl\"}],\"scatterternary\":[{\"marker\":{\"colorbar\":{\"outlinewidth\":0,\"ticks\":\"\"}},\"type\":\"scatterternary\"}],\"surface\":[{\"colorbar\":{\"outlinewidth\":0,\"ticks\":\"\"},\"colorscale\":[[0.0,\"#0d0887\"],[0.1111111111111111,\"#46039f\"],[0.2222222222222222,\"#7201a8\"],[0.3333333333333333,\"#9c179e\"],[0.4444444444444444,\"#bd3786\"],[0.5555555555555556,\"#d8576b\"],[0.6666666666666666,\"#ed7953\"],[0.7777777777777778,\"#fb9f3a\"],[0.8888888888888888,\"#fdca26\"],[1.0,\"#f0f921\"]],\"type\":\"surface\"}],\"table\":[{\"cells\":{\"fill\":{\"color\":\"#EBF0F8\"},\"line\":{\"color\":\"white\"}},\"header\":{\"fill\":{\"color\":\"#C8D4E3\"},\"line\":{\"color\":\"white\"}},\"type\":\"table\"}]},\"layout\":{\"annotationdefaults\":{\"arrowcolor\":\"#2a3f5f\",\"arrowhead\":0,\"arrowwidth\":1},\"autotypenumbers\":\"strict\",\"coloraxis\":{\"colorbar\":{\"outlinewidth\":0,\"ticks\":\"\"}},\"colorscale\":{\"diverging\":[[0,\"#8e0152\"],[0.1,\"#c51b7d\"],[0.2,\"#de77ae\"],[0.3,\"#f1b6da\"],[0.4,\"#fde0ef\"],[0.5,\"#f7f7f7\"],[0.6,\"#e6f5d0\"],[0.7,\"#b8e186\"],[0.8,\"#7fbc41\"],[0.9,\"#4d9221\"],[1,\"#276419\"]],\"sequential\":[[0.0,\"#0d0887\"],[0.1111111111111111,\"#46039f\"],[0.2222222222222222,\"#7201a8\"],[0.3333333333333333,\"#9c179e\"],[0.4444444444444444,\"#bd3786\"],[0.5555555555555556,\"#d8576b\"],[0.6666666666666666,\"#ed7953\"],[0.7777777777777778,\"#fb9f3a\"],[0.8888888888888888,\"#fdca26\"],[1.0,\"#f0f921\"]],\"sequentialminus\":[[0.0,\"#0d0887\"],[0.1111111111111111,\"#46039f\"],[0.2222222222222222,\"#7201a8\"],[0.3333333333333333,\"#9c179e\"],[0.4444444444444444,\"#bd3786\"],[0.5555555555555556,\"#d8576b\"],[0.6666666666666666,\"#ed7953\"],[0.7777777777777778,\"#fb9f3a\"],[0.8888888888888888,\"#fdca26\"],[1.0,\"#f0f921\"]]},\"colorway\":[\"#636efa\",\"#EF553B\",\"#00cc96\",\"#ab63fa\",\"#FFA15A\",\"#19d3f3\",\"#FF6692\",\"#B6E880\",\"#FF97FF\",\"#FECB52\"],\"font\":{\"color\":\"#2a3f5f\"},\"geo\":{\"bgcolor\":\"white\",\"lakecolor\":\"white\",\"landcolor\":\"#E5ECF6\",\"showlakes\":true,\"showland\":true,\"subunitcolor\":\"white\"},\"hoverlabel\":{\"align\":\"left\"},\"hovermode\":\"closest\",\"mapbox\":{\"style\":\"light\"},\"paper_bgcolor\":\"white\",\"plot_bgcolor\":\"#E5ECF6\",\"polar\":{\"angularaxis\":{\"gridcolor\":\"white\",\"linecolor\":\"white\",\"ticks\":\"\"},\"bgcolor\":\"#E5ECF6\",\"radialaxis\":{\"gridcolor\":\"white\",\"linecolor\":\"white\",\"ticks\":\"\"}},\"scene\":{\"xaxis\":{\"backgroundcolor\":\"#E5ECF6\",\"gridcolor\":\"white\",\"gridwidth\":2,\"linecolor\":\"white\",\"showbackground\":true,\"ticks\":\"\",\"zerolinecolor\":\"white\"},\"yaxis\":{\"backgroundcolor\":\"#E5ECF6\",\"gridcolor\":\"white\",\"gridwidth\":2,\"linecolor\":\"white\",\"showbackground\":true,\"ticks\":\"\",\"zerolinecolor\":\"white\"},\"zaxis\":{\"backgroundcolor\":\"#E5ECF6\",\"gridcolor\":\"white\",\"gridwidth\":2,\"linecolor\":\"white\",\"showbackground\":true,\"ticks\":\"\",\"zerolinecolor\":\"white\"}},\"shapedefaults\":{\"line\":{\"color\":\"#2a3f5f\"}},\"ternary\":{\"aaxis\":{\"gridcolor\":\"white\",\"linecolor\":\"white\",\"ticks\":\"\"},\"baxis\":{\"gridcolor\":\"white\",\"linecolor\":\"white\",\"ticks\":\"\"},\"bgcolor\":\"#E5ECF6\",\"caxis\":{\"gridcolor\":\"white\",\"linecolor\":\"white\",\"ticks\":\"\"}},\"title\":{\"x\":0.05},\"xaxis\":{\"automargin\":true,\"gridcolor\":\"white\",\"linecolor\":\"white\",\"ticks\":\"\",\"title\":{\"standoff\":15},\"zerolinecolor\":\"white\",\"zerolinewidth\":2},\"yaxis\":{\"automargin\":true,\"gridcolor\":\"white\",\"linecolor\":\"white\",\"ticks\":\"\",\"title\":{\"standoff\":15},\"zerolinecolor\":\"white\",\"zerolinewidth\":2}}},\"xaxis\":{\"anchor\":\"y\",\"domain\":[0.0,1.0],\"title\":{\"text\":\"x\"}},\"yaxis\":{\"anchor\":\"x\",\"domain\":[0.0,1.0],\"title\":{\"text\":\"y\"}},\"legend\":{\"tracegroupgap\":0},\"title\":{\"text\":\"True distribution function for theta_hat\"}},                        {\"responsive\": true}                    ).then(function(){\n                            \nvar gd = document.getElementById('7d0a1b52-19ea-4ccb-a9be-31b81d727f83');\nvar x = new MutationObserver(function (mutations, observer) {{\n        var display = window.getComputedStyle(gd).display;\n        if (!display || display === 'none') {{\n            console.log([gd, 'removed!']);\n            Plotly.purge(gd);\n            observer.disconnect();\n        }}\n}});\n\n// Listen for the removal of the full notebook cells\nvar notebookContainer = gd.closest('#notebook-container');\nif (notebookContainer) {{\n    x.observe(notebookContainer, {childList: true});\n}}\n\n// Listen for the clearing of the current output cell\nvar outputEl = gd.closest('.output');\nif (outputEl) {{\n    x.observe(outputEl, {childList: true});\n}}\n\n                        })                };                });            </script>        </div>"
     },
     "metadata": {},
     "output_type": "display_data"
    }
   ],
   "source": [
    "x_axis = np.linspace(0, 1.5, 1000)\n",
    "theta_cdf = lambda x: x**n / theta**n if x <= 1 else 1\n",
    "theta_real_cdf = list(map(theta_cdf, x_axis))\n",
    "theta_real_pdf = np.append([0], np.diff(theta_real_cdf))\n",
    "fig = px.line(\n",
    "    x = x_axis, y = theta_real_pdf,\n",
    "    title = 'True distribution function for theta_hat'\n",
    ")\n",
    "fig.show()"
   ]
  },
  {
   "cell_type": "code",
   "execution_count": 35,
   "metadata": {
    "pycharm": {
     "name": "#%%\n"
    }
   },
   "outputs": [
    {
     "data": {
      "application/vnd.plotly.v1+json": {
       "data": [
        {
         "alignmentgroup": "True",
         "hovertemplate": "x=%{x}<br>y=%{y}<extra></extra>",
         "legendgroup": "",
         "marker": {
          "color": "#636efa",
          "pattern": {
           "shape": ""
          }
         },
         "name": "",
         "offsetgroup": "",
         "orientation": "v",
         "showlegend": false,
         "textposition": "auto",
         "x": [
          0.0,
          0.015151515151515152,
          0.030303030303030304,
          0.045454545454545456,
          0.06060606060606061,
          0.07575757575757576,
          0.09090909090909091,
          0.10606060606060606,
          0.12121212121212122,
          0.13636363636363635,
          0.15151515151515152,
          0.16666666666666669,
          0.18181818181818182,
          0.19696969696969696,
          0.21212121212121213,
          0.2272727272727273,
          0.24242424242424243,
          0.25757575757575757,
          0.2727272727272727,
          0.2878787878787879,
          0.30303030303030304,
          0.3181818181818182,
          0.33333333333333337,
          0.3484848484848485,
          0.36363636363636365,
          0.3787878787878788,
          0.3939393939393939,
          0.4090909090909091,
          0.42424242424242425,
          0.4393939393939394,
          0.4545454545454546,
          0.4696969696969697,
          0.48484848484848486,
          0.5,
          0.5151515151515151,
          0.5303030303030303,
          0.5454545454545454,
          0.5606060606060607,
          0.5757575757575758,
          0.5909090909090909,
          0.6060606060606061,
          0.6212121212121212,
          0.6363636363636364,
          0.6515151515151515,
          0.6666666666666667,
          0.6818181818181819,
          0.696969696969697,
          0.7121212121212122,
          0.7272727272727273,
          0.7424242424242424,
          0.7575757575757576,
          0.7727272727272727,
          0.7878787878787878,
          0.8030303030303031,
          0.8181818181818182,
          0.8333333333333334,
          0.8484848484848485,
          0.8636363636363636,
          0.8787878787878788,
          0.8939393939393939,
          0.9090909090909092,
          0.9242424242424243,
          0.9393939393939394,
          0.9545454545454546,
          0.9696969696969697,
          0.9848484848484849,
          1.0,
          1.0151515151515151,
          1.0303030303030303,
          1.0454545454545454,
          1.0606060606060606,
          1.0757575757575757,
          1.0909090909090908,
          1.1060606060606062,
          1.1212121212121213,
          1.1363636363636365,
          1.1515151515151516,
          1.1666666666666667,
          1.1818181818181819,
          1.196969696969697,
          1.2121212121212122,
          1.2272727272727273,
          1.2424242424242424,
          1.2575757575757576,
          1.2727272727272727,
          1.2878787878787878,
          1.303030303030303,
          1.3181818181818181,
          1.3333333333333335,
          1.3484848484848486,
          1.3636363636363638,
          1.378787878787879,
          1.393939393939394,
          1.4090909090909092,
          1.4242424242424243,
          1.4393939393939394,
          1.4545454545454546,
          1.4696969696969697,
          1.4848484848484849,
          1.5
         ],
         "xaxis": "x",
         "y": [
          0.0,
          0.0,
          0.0,
          0.0,
          0.0,
          0.0,
          0.0,
          0.0,
          0.0,
          0.0,
          0.0,
          0.0,
          0.0,
          0.0,
          0.0,
          0.0,
          0.0,
          0.0,
          0.0,
          0.0,
          0.0,
          0.0,
          0.0,
          0.0,
          0.0,
          0.0,
          0.0,
          0.0,
          0.0,
          0.0,
          0.0,
          0.0,
          0.0,
          0.0,
          0.0,
          0.0,
          0.0,
          0.0,
          0.0,
          0.0,
          0.0,
          0.0,
          0.0,
          0.0,
          0.0,
          0.0,
          0.0,
          0.0,
          0.0,
          0.0,
          0.0,
          0.0,
          0.0,
          0.0,
          0.0,
          0.0,
          0.0,
          0.003,
          0.0,
          0.0,
          0.0,
          0.004,
          0.015,
          0.0,
          0.0,
          0.038,
          0.94,
          0.0,
          0.0,
          0.0,
          0.0,
          0.0,
          0.0,
          0.0,
          0.0,
          0.0,
          0.0,
          0.0,
          0.0,
          0.0,
          0.0,
          0.0,
          0.0,
          0.0,
          0.0,
          0.0,
          0.0,
          0.0,
          0.0,
          0.0,
          0.0,
          0.0,
          0.0,
          0.0,
          0.0,
          0.0,
          0.0,
          0.0,
          0.0,
          0.0
         ],
         "yaxis": "y",
         "type": "bar"
        },
        {
         "x": [
          0.0,
          0.0015015015015015015,
          0.003003003003003003,
          0.0045045045045045045,
          0.006006006006006006,
          0.0075075075075075074,
          0.009009009009009009,
          0.01051051051051051,
          0.012012012012012012,
          0.013513513513513514,
          0.015015015015015015,
          0.016516516516516516,
          0.018018018018018018,
          0.01951951951951952,
          0.02102102102102102,
          0.02252252252252252,
          0.024024024024024024,
          0.025525525525525526,
          0.02702702702702703,
          0.028528528528528527,
          0.03003003003003003,
          0.03153153153153153,
          0.03303303303303303,
          0.03453453453453453,
          0.036036036036036036,
          0.03753753753753754,
          0.03903903903903904,
          0.04054054054054054,
          0.04204204204204204,
          0.04354354354354354,
          0.04504504504504504,
          0.046546546546546545,
          0.04804804804804805,
          0.04954954954954955,
          0.05105105105105105,
          0.052552552552552555,
          0.05405405405405406,
          0.05555555555555555,
          0.057057057057057055,
          0.05855855855855856,
          0.06006006006006006,
          0.06156156156156156,
          0.06306306306306306,
          0.06456456456456457,
          0.06606606606606606,
          0.06756756756756757,
          0.06906906906906907,
          0.07057057057057058,
          0.07207207207207207,
          0.07357357357357357,
          0.07507507507507508,
          0.07657657657657657,
          0.07807807807807808,
          0.07957957957957958,
          0.08108108108108109,
          0.08258258258258258,
          0.08408408408408408,
          0.08558558558558559,
          0.08708708708708708,
          0.08858858858858859,
          0.09009009009009009,
          0.0915915915915916,
          0.09309309309309309,
          0.0945945945945946,
          0.0960960960960961,
          0.09759759759759759,
          0.0990990990990991,
          0.1006006006006006,
          0.1021021021021021,
          0.1036036036036036,
          0.10510510510510511,
          0.1066066066066066,
          0.10810810810810811,
          0.10960960960960961,
          0.1111111111111111,
          0.11261261261261261,
          0.11411411411411411,
          0.11561561561561562,
          0.11711711711711711,
          0.11861861861861862,
          0.12012012012012012,
          0.12162162162162161,
          0.12312312312312312,
          0.12462462462462462,
          0.12612612612612611,
          0.12762762762762764,
          0.12912912912912913,
          0.13063063063063063,
          0.13213213213213212,
          0.13363363363363362,
          0.13513513513513514,
          0.13663663663663664,
          0.13813813813813813,
          0.13963963963963963,
          0.14114114114114115,
          0.14264264264264265,
          0.14414414414414414,
          0.14564564564564564,
          0.14714714714714713,
          0.14864864864864866,
          0.15015015015015015,
          0.15165165165165165,
          0.15315315315315314,
          0.15465465465465467,
          0.15615615615615616,
          0.15765765765765766,
          0.15915915915915915,
          0.16066066066066065,
          0.16216216216216217,
          0.16366366366366367,
          0.16516516516516516,
          0.16666666666666666,
          0.16816816816816815,
          0.16966966966966968,
          0.17117117117117117,
          0.17267267267267267,
          0.17417417417417416,
          0.17567567567567569,
          0.17717717717717718,
          0.17867867867867868,
          0.18018018018018017,
          0.18168168168168167,
          0.1831831831831832,
          0.18468468468468469,
          0.18618618618618618,
          0.18768768768768768,
          0.1891891891891892,
          0.1906906906906907,
          0.1921921921921922,
          0.19369369369369369,
          0.19519519519519518,
          0.1966966966966967,
          0.1981981981981982,
          0.1996996996996997,
          0.2012012012012012,
          0.20270270270270271,
          0.2042042042042042,
          0.2057057057057057,
          0.2072072072072072,
          0.2087087087087087,
          0.21021021021021022,
          0.21171171171171171,
          0.2132132132132132,
          0.2147147147147147,
          0.21621621621621623,
          0.21771771771771772,
          0.21921921921921922,
          0.22072072072072071,
          0.2222222222222222,
          0.22372372372372373,
          0.22522522522522523,
          0.22672672672672672,
          0.22822822822822822,
          0.22972972972972971,
          0.23123123123123124,
          0.23273273273273273,
          0.23423423423423423,
          0.23573573573573572,
          0.23723723723723725,
          0.23873873873873874,
          0.24024024024024024,
          0.24174174174174173,
          0.24324324324324323,
          0.24474474474474475,
          0.24624624624624625,
          0.24774774774774774,
          0.24924924924924924,
          0.25075075075075076,
          0.25225225225225223,
          0.25375375375375375,
          0.2552552552552553,
          0.25675675675675674,
          0.25825825825825827,
          0.25975975975975973,
          0.26126126126126126,
          0.2627627627627628,
          0.26426426426426425,
          0.26576576576576577,
          0.26726726726726724,
          0.26876876876876876,
          0.2702702702702703,
          0.27177177177177175,
          0.2732732732732733,
          0.2747747747747748,
          0.27627627627627627,
          0.2777777777777778,
          0.27927927927927926,
          0.2807807807807808,
          0.2822822822822823,
          0.28378378378378377,
          0.2852852852852853,
          0.28678678678678676,
          0.2882882882882883,
          0.2897897897897898,
          0.2912912912912913,
          0.2927927927927928,
          0.29429429429429427,
          0.2957957957957958,
          0.2972972972972973,
          0.2987987987987988,
          0.3003003003003003,
          0.3018018018018018,
          0.3033033033033033,
          0.3048048048048048,
          0.3063063063063063,
          0.3078078078078078,
          0.30930930930930933,
          0.3108108108108108,
          0.3123123123123123,
          0.3138138138138138,
          0.3153153153153153,
          0.31681681681681684,
          0.3183183183183183,
          0.31981981981981983,
          0.3213213213213213,
          0.3228228228228228,
          0.32432432432432434,
          0.3258258258258258,
          0.32732732732732733,
          0.3288288288288288,
          0.3303303303303303,
          0.33183183183183185,
          0.3333333333333333,
          0.33483483483483484,
          0.3363363363363363,
          0.33783783783783783,
          0.33933933933933935,
          0.3408408408408408,
          0.34234234234234234,
          0.34384384384384387,
          0.34534534534534533,
          0.34684684684684686,
          0.3483483483483483,
          0.34984984984984985,
          0.35135135135135137,
          0.35285285285285284,
          0.35435435435435436,
          0.35585585585585583,
          0.35735735735735735,
          0.3588588588588589,
          0.36036036036036034,
          0.36186186186186187,
          0.36336336336336333,
          0.36486486486486486,
          0.3663663663663664,
          0.36786786786786785,
          0.36936936936936937,
          0.3708708708708709,
          0.37237237237237236,
          0.3738738738738739,
          0.37537537537537535,
          0.3768768768768769,
          0.3783783783783784,
          0.37987987987987987,
          0.3813813813813814,
          0.38288288288288286,
          0.3843843843843844,
          0.3858858858858859,
          0.38738738738738737,
          0.3888888888888889,
          0.39039039039039036,
          0.3918918918918919,
          0.3933933933933934,
          0.3948948948948949,
          0.3963963963963964,
          0.39789789789789787,
          0.3993993993993994,
          0.4009009009009009,
          0.4024024024024024,
          0.4039039039039039,
          0.40540540540540543,
          0.4069069069069069,
          0.4084084084084084,
          0.4099099099099099,
          0.4114114114114114,
          0.41291291291291293,
          0.4144144144144144,
          0.4159159159159159,
          0.4174174174174174,
          0.4189189189189189,
          0.42042042042042044,
          0.4219219219219219,
          0.42342342342342343,
          0.4249249249249249,
          0.4264264264264264,
          0.42792792792792794,
          0.4294294294294294,
          0.43093093093093093,
          0.43243243243243246,
          0.4339339339339339,
          0.43543543543543545,
          0.4369369369369369,
          0.43843843843843844,
          0.43993993993993996,
          0.44144144144144143,
          0.44294294294294295,
          0.4444444444444444,
          0.44594594594594594,
          0.44744744744744747,
          0.44894894894894893,
          0.45045045045045046,
          0.4519519519519519,
          0.45345345345345345,
          0.45495495495495497,
          0.45645645645645644,
          0.45795795795795796,
          0.45945945945945943,
          0.46096096096096095,
          0.4624624624624625,
          0.46396396396396394,
          0.46546546546546547,
          0.466966966966967,
          0.46846846846846846,
          0.46996996996997,
          0.47147147147147145,
          0.47297297297297297,
          0.4744744744744745,
          0.47597597597597596,
          0.4774774774774775,
          0.47897897897897895,
          0.4804804804804805,
          0.481981981981982,
          0.48348348348348347,
          0.484984984984985,
          0.48648648648648646,
          0.487987987987988,
          0.4894894894894895,
          0.49099099099099097,
          0.4924924924924925,
          0.49399399399399396,
          0.4954954954954955,
          0.496996996996997,
          0.4984984984984985,
          0.5,
          0.5015015015015015,
          0.503003003003003,
          0.5045045045045045,
          0.506006006006006,
          0.5075075075075075,
          0.509009009009009,
          0.5105105105105106,
          0.512012012012012,
          0.5135135135135135,
          0.515015015015015,
          0.5165165165165165,
          0.5180180180180181,
          0.5195195195195195,
          0.521021021021021,
          0.5225225225225225,
          0.524024024024024,
          0.5255255255255256,
          0.527027027027027,
          0.5285285285285285,
          0.53003003003003,
          0.5315315315315315,
          0.5330330330330331,
          0.5345345345345345,
          0.536036036036036,
          0.5375375375375375,
          0.539039039039039,
          0.5405405405405406,
          0.542042042042042,
          0.5435435435435435,
          0.545045045045045,
          0.5465465465465466,
          0.5480480480480481,
          0.5495495495495496,
          0.551051051051051,
          0.5525525525525525,
          0.5540540540540541,
          0.5555555555555556,
          0.5570570570570571,
          0.5585585585585585,
          0.56006006006006,
          0.5615615615615616,
          0.5630630630630631,
          0.5645645645645646,
          0.566066066066066,
          0.5675675675675675,
          0.5690690690690691,
          0.5705705705705706,
          0.5720720720720721,
          0.5735735735735735,
          0.575075075075075,
          0.5765765765765766,
          0.5780780780780781,
          0.5795795795795796,
          0.581081081081081,
          0.5825825825825826,
          0.5840840840840841,
          0.5855855855855856,
          0.5870870870870871,
          0.5885885885885885,
          0.5900900900900901,
          0.5915915915915916,
          0.5930930930930931,
          0.5945945945945946,
          0.596096096096096,
          0.5975975975975976,
          0.5990990990990991,
          0.6006006006006006,
          0.6021021021021021,
          0.6036036036036035,
          0.6051051051051051,
          0.6066066066066066,
          0.6081081081081081,
          0.6096096096096096,
          0.6111111111111112,
          0.6126126126126126,
          0.6141141141141141,
          0.6156156156156156,
          0.6171171171171171,
          0.6186186186186187,
          0.6201201201201201,
          0.6216216216216216,
          0.6231231231231231,
          0.6246246246246246,
          0.6261261261261262,
          0.6276276276276276,
          0.6291291291291291,
          0.6306306306306306,
          0.6321321321321322,
          0.6336336336336337,
          0.6351351351351351,
          0.6366366366366366,
          0.6381381381381381,
          0.6396396396396397,
          0.6411411411411412,
          0.6426426426426426,
          0.6441441441441441,
          0.6456456456456456,
          0.6471471471471472,
          0.6486486486486487,
          0.6501501501501501,
          0.6516516516516516,
          0.6531531531531531,
          0.6546546546546547,
          0.6561561561561562,
          0.6576576576576576,
          0.6591591591591591,
          0.6606606606606606,
          0.6621621621621622,
          0.6636636636636637,
          0.6651651651651651,
          0.6666666666666666,
          0.6681681681681682,
          0.6696696696696697,
          0.6711711711711712,
          0.6726726726726726,
          0.6741741741741741,
          0.6756756756756757,
          0.6771771771771772,
          0.6786786786786787,
          0.6801801801801802,
          0.6816816816816816,
          0.6831831831831832,
          0.6846846846846847,
          0.6861861861861862,
          0.6876876876876877,
          0.6891891891891891,
          0.6906906906906907,
          0.6921921921921922,
          0.6936936936936937,
          0.6951951951951952,
          0.6966966966966966,
          0.6981981981981982,
          0.6996996996996997,
          0.7012012012012012,
          0.7027027027027027,
          0.7042042042042042,
          0.7057057057057057,
          0.7072072072072072,
          0.7087087087087087,
          0.7102102102102102,
          0.7117117117117117,
          0.7132132132132132,
          0.7147147147147147,
          0.7162162162162162,
          0.7177177177177178,
          0.7192192192192192,
          0.7207207207207207,
          0.7222222222222222,
          0.7237237237237237,
          0.7252252252252253,
          0.7267267267267267,
          0.7282282282282282,
          0.7297297297297297,
          0.7312312312312312,
          0.7327327327327328,
          0.7342342342342342,
          0.7357357357357357,
          0.7372372372372372,
          0.7387387387387387,
          0.7402402402402403,
          0.7417417417417418,
          0.7432432432432432,
          0.7447447447447447,
          0.7462462462462462,
          0.7477477477477478,
          0.7492492492492493,
          0.7507507507507507,
          0.7522522522522522,
          0.7537537537537538,
          0.7552552552552553,
          0.7567567567567568,
          0.7582582582582582,
          0.7597597597597597,
          0.7612612612612613,
          0.7627627627627628,
          0.7642642642642643,
          0.7657657657657657,
          0.7672672672672672,
          0.7687687687687688,
          0.7702702702702703,
          0.7717717717717718,
          0.7732732732732732,
          0.7747747747747747,
          0.7762762762762763,
          0.7777777777777778,
          0.7792792792792793,
          0.7807807807807807,
          0.7822822822822822,
          0.7837837837837838,
          0.7852852852852853,
          0.7867867867867868,
          0.7882882882882882,
          0.7897897897897898,
          0.7912912912912913,
          0.7927927927927928,
          0.7942942942942943,
          0.7957957957957957,
          0.7972972972972973,
          0.7987987987987988,
          0.8003003003003003,
          0.8018018018018018,
          0.8033033033033034,
          0.8048048048048048,
          0.8063063063063063,
          0.8078078078078078,
          0.8093093093093093,
          0.8108108108108109,
          0.8123123123123123,
          0.8138138138138138,
          0.8153153153153153,
          0.8168168168168168,
          0.8183183183183184,
          0.8198198198198198,
          0.8213213213213213,
          0.8228228228228228,
          0.8243243243243243,
          0.8258258258258259,
          0.8273273273273273,
          0.8288288288288288,
          0.8303303303303303,
          0.8318318318318318,
          0.8333333333333334,
          0.8348348348348348,
          0.8363363363363363,
          0.8378378378378378,
          0.8393393393393394,
          0.8408408408408409,
          0.8423423423423423,
          0.8438438438438438,
          0.8453453453453453,
          0.8468468468468469,
          0.8483483483483484,
          0.8498498498498498,
          0.8513513513513513,
          0.8528528528528528,
          0.8543543543543544,
          0.8558558558558559,
          0.8573573573573573,
          0.8588588588588588,
          0.8603603603603603,
          0.8618618618618619,
          0.8633633633633634,
          0.8648648648648649,
          0.8663663663663663,
          0.8678678678678678,
          0.8693693693693694,
          0.8708708708708709,
          0.8723723723723724,
          0.8738738738738738,
          0.8753753753753754,
          0.8768768768768769,
          0.8783783783783784,
          0.8798798798798799,
          0.8813813813813813,
          0.8828828828828829,
          0.8843843843843844,
          0.8858858858858859,
          0.8873873873873874,
          0.8888888888888888,
          0.8903903903903904,
          0.8918918918918919,
          0.8933933933933934,
          0.8948948948948949,
          0.8963963963963963,
          0.8978978978978979,
          0.8993993993993994,
          0.9009009009009009,
          0.9024024024024024,
          0.9039039039039038,
          0.9054054054054054,
          0.9069069069069069,
          0.9084084084084084,
          0.9099099099099099,
          0.9114114114114114,
          0.9129129129129129,
          0.9144144144144144,
          0.9159159159159159,
          0.9174174174174174,
          0.9189189189189189,
          0.9204204204204204,
          0.9219219219219219,
          0.9234234234234234,
          0.924924924924925,
          0.9264264264264264,
          0.9279279279279279,
          0.9294294294294294,
          0.9309309309309309,
          0.9324324324324325,
          0.933933933933934,
          0.9354354354354354,
          0.9369369369369369,
          0.9384384384384384,
          0.93993993993994,
          0.9414414414414415,
          0.9429429429429429,
          0.9444444444444444,
          0.9459459459459459,
          0.9474474474474475,
          0.948948948948949,
          0.9504504504504504,
          0.9519519519519519,
          0.9534534534534534,
          0.954954954954955,
          0.9564564564564565,
          0.9579579579579579,
          0.9594594594594594,
          0.960960960960961,
          0.9624624624624625,
          0.963963963963964,
          0.9654654654654654,
          0.9669669669669669,
          0.9684684684684685,
          0.96996996996997,
          0.9714714714714715,
          0.9729729729729729,
          0.9744744744744744,
          0.975975975975976,
          0.9774774774774775,
          0.978978978978979,
          0.9804804804804804,
          0.9819819819819819,
          0.9834834834834835,
          0.984984984984985,
          0.9864864864864865,
          0.9879879879879879,
          0.9894894894894894,
          0.990990990990991,
          0.9924924924924925,
          0.993993993993994,
          0.9954954954954955,
          0.996996996996997,
          0.9984984984984985,
          1.0,
          1.0015015015015014,
          1.003003003003003,
          1.0045045045045045,
          1.006006006006006,
          1.0075075075075075,
          1.009009009009009,
          1.0105105105105106,
          1.012012012012012,
          1.0135135135135136,
          1.015015015015015,
          1.0165165165165164,
          1.018018018018018,
          1.0195195195195195,
          1.021021021021021,
          1.0225225225225225,
          1.024024024024024,
          1.0255255255255256,
          1.027027027027027,
          1.0285285285285286,
          1.03003003003003,
          1.0315315315315314,
          1.033033033033033,
          1.0345345345345345,
          1.0360360360360361,
          1.0375375375375375,
          1.039039039039039,
          1.0405405405405406,
          1.042042042042042,
          1.0435435435435436,
          1.045045045045045,
          1.0465465465465464,
          1.048048048048048,
          1.0495495495495495,
          1.0510510510510511,
          1.0525525525525525,
          1.054054054054054,
          1.0555555555555556,
          1.057057057057057,
          1.0585585585585586,
          1.06006006006006,
          1.0615615615615615,
          1.063063063063063,
          1.0645645645645645,
          1.0660660660660661,
          1.0675675675675675,
          1.069069069069069,
          1.0705705705705706,
          1.072072072072072,
          1.0735735735735736,
          1.075075075075075,
          1.0765765765765765,
          1.078078078078078,
          1.0795795795795795,
          1.0810810810810811,
          1.0825825825825826,
          1.084084084084084,
          1.0855855855855856,
          1.087087087087087,
          1.0885885885885886,
          1.09009009009009,
          1.0915915915915917,
          1.093093093093093,
          1.0945945945945945,
          1.0960960960960962,
          1.0975975975975976,
          1.0990990990990992,
          1.1006006006006006,
          1.102102102102102,
          1.1036036036036037,
          1.105105105105105,
          1.1066066066066067,
          1.1081081081081081,
          1.1096096096096095,
          1.1111111111111112,
          1.1126126126126126,
          1.1141141141141142,
          1.1156156156156156,
          1.117117117117117,
          1.1186186186186187,
          1.12012012012012,
          1.1216216216216217,
          1.1231231231231231,
          1.1246246246246245,
          1.1261261261261262,
          1.1276276276276276,
          1.1291291291291292,
          1.1306306306306306,
          1.132132132132132,
          1.1336336336336337,
          1.135135135135135,
          1.1366366366366367,
          1.1381381381381381,
          1.1396396396396395,
          1.1411411411411412,
          1.1426426426426426,
          1.1441441441441442,
          1.1456456456456456,
          1.147147147147147,
          1.1486486486486487,
          1.15015015015015,
          1.1516516516516517,
          1.1531531531531531,
          1.1546546546546546,
          1.1561561561561562,
          1.1576576576576576,
          1.1591591591591592,
          1.1606606606606606,
          1.162162162162162,
          1.1636636636636637,
          1.165165165165165,
          1.1666666666666667,
          1.1681681681681682,
          1.1696696696696696,
          1.1711711711711712,
          1.1726726726726726,
          1.1741741741741742,
          1.1756756756756757,
          1.177177177177177,
          1.1786786786786787,
          1.1801801801801801,
          1.1816816816816818,
          1.1831831831831832,
          1.1846846846846846,
          1.1861861861861862,
          1.1876876876876876,
          1.1891891891891893,
          1.1906906906906907,
          1.192192192192192,
          1.1936936936936937,
          1.1951951951951951,
          1.1966966966966968,
          1.1981981981981982,
          1.1996996996996996,
          1.2012012012012012,
          1.2027027027027026,
          1.2042042042042043,
          1.2057057057057057,
          1.207207207207207,
          1.2087087087087087,
          1.2102102102102101,
          1.2117117117117118,
          1.2132132132132132,
          1.2147147147147146,
          1.2162162162162162,
          1.2177177177177176,
          1.2192192192192193,
          1.2207207207207207,
          1.2222222222222223,
          1.2237237237237237,
          1.2252252252252251,
          1.2267267267267268,
          1.2282282282282282,
          1.2297297297297298,
          1.2312312312312312,
          1.2327327327327327,
          1.2342342342342343,
          1.2357357357357357,
          1.2372372372372373,
          1.2387387387387387,
          1.2402402402402402,
          1.2417417417417418,
          1.2432432432432432,
          1.2447447447447448,
          1.2462462462462462,
          1.2477477477477477,
          1.2492492492492493,
          1.2507507507507507,
          1.2522522522522523,
          1.2537537537537538,
          1.2552552552552552,
          1.2567567567567568,
          1.2582582582582582,
          1.2597597597597598,
          1.2612612612612613,
          1.2627627627627627,
          1.2642642642642643,
          1.2657657657657657,
          1.2672672672672673,
          1.2687687687687688,
          1.2702702702702702,
          1.2717717717717718,
          1.2732732732732732,
          1.2747747747747749,
          1.2762762762762763,
          1.2777777777777777,
          1.2792792792792793,
          1.2807807807807807,
          1.2822822822822824,
          1.2837837837837838,
          1.2852852852852852,
          1.2867867867867868,
          1.2882882882882882,
          1.2897897897897899,
          1.2912912912912913,
          1.2927927927927927,
          1.2942942942942943,
          1.2957957957957957,
          1.2972972972972974,
          1.2987987987987988,
          1.3003003003003002,
          1.3018018018018018,
          1.3033033033033032,
          1.3048048048048049,
          1.3063063063063063,
          1.3078078078078077,
          1.3093093093093093,
          1.3108108108108107,
          1.3123123123123124,
          1.3138138138138138,
          1.3153153153153152,
          1.3168168168168168,
          1.3183183183183182,
          1.3198198198198199,
          1.3213213213213213,
          1.3228228228228227,
          1.3243243243243243,
          1.3258258258258258,
          1.3273273273273274,
          1.3288288288288288,
          1.3303303303303302,
          1.3318318318318318,
          1.3333333333333333,
          1.334834834834835,
          1.3363363363363363,
          1.3378378378378377,
          1.3393393393393394,
          1.3408408408408408,
          1.3423423423423424,
          1.3438438438438438,
          1.3453453453453452,
          1.3468468468468469,
          1.3483483483483483,
          1.34984984984985,
          1.3513513513513513,
          1.352852852852853,
          1.3543543543543544,
          1.3558558558558558,
          1.3573573573573574,
          1.3588588588588588,
          1.3603603603603605,
          1.3618618618618619,
          1.3633633633633633,
          1.364864864864865,
          1.3663663663663663,
          1.367867867867868,
          1.3693693693693694,
          1.3708708708708708,
          1.3723723723723724,
          1.3738738738738738,
          1.3753753753753755,
          1.3768768768768769,
          1.3783783783783783,
          1.37987987987988,
          1.3813813813813813,
          1.382882882882883,
          1.3843843843843844,
          1.3858858858858858,
          1.3873873873873874,
          1.3888888888888888,
          1.3903903903903905,
          1.3918918918918919,
          1.3933933933933933,
          1.394894894894895,
          1.3963963963963963,
          1.397897897897898,
          1.3993993993993994,
          1.4009009009009008,
          1.4024024024024024,
          1.4039039039039038,
          1.4054054054054055,
          1.406906906906907,
          1.4084084084084083,
          1.40990990990991,
          1.4114114114114114,
          1.412912912912913,
          1.4144144144144144,
          1.4159159159159158,
          1.4174174174174174,
          1.4189189189189189,
          1.4204204204204205,
          1.421921921921922,
          1.4234234234234233,
          1.424924924924925,
          1.4264264264264264,
          1.427927927927928,
          1.4294294294294294,
          1.4309309309309308,
          1.4324324324324325,
          1.4339339339339339,
          1.4354354354354355,
          1.436936936936937,
          1.4384384384384383,
          1.43993993993994,
          1.4414414414414414,
          1.442942942942943,
          1.4444444444444444,
          1.4459459459459458,
          1.4474474474474475,
          1.4489489489489489,
          1.4504504504504505,
          1.451951951951952,
          1.4534534534534533,
          1.454954954954955,
          1.4564564564564564,
          1.457957957957958,
          1.4594594594594594,
          1.4609609609609608,
          1.4624624624624625,
          1.4639639639639639,
          1.4654654654654655,
          1.466966966966967,
          1.4684684684684683,
          1.46996996996997,
          1.4714714714714714,
          1.472972972972973,
          1.4744744744744744,
          1.475975975975976,
          1.4774774774774775,
          1.478978978978979,
          1.4804804804804805,
          1.481981981981982,
          1.4834834834834836,
          1.484984984984985,
          1.4864864864864864,
          1.487987987987988,
          1.4894894894894894,
          1.490990990990991,
          1.4924924924924925,
          1.493993993993994,
          1.4954954954954955,
          1.496996996996997,
          1.4984984984984986,
          1.5
         ],
         "y": [
          0.0,
          6.70329822819313E-142,
          7.547242850660965E-127,
          4.812284301370966E-118,
          8.497435210193538E-112,
          5.953639852694998E-107,
          5.417555082628523E-103,
          1.2050229383390518E-99,
          9.555211282174749E-97,
          3.4451619546437616E-94,
          6.668750935977395E-92,
          7.8020259788634685E-90,
          6.021604503057604E-88,
          3.276765127234881E-86,
          1.3239675627468146E-84,
          4.138432548289832E-83,
          1.0344368237633156E-81,
          2.1244898942348458E-80,
          3.666458534367679E-79,
          5.418256214640983E-78,
          6.966520436109513E-77,
          7.900000819803926E-76,
          7.9943002408057185E-75,
          7.2926486034308E-74,
          6.050459088692601E-73,
          4.601137740603983E-72,
          3.2291957774385135E-71,
          2.104343879361395E-70,
          1.280220567623155E-69,
          7.306396555826238E-69,
          3.928821165011382E-68,
          1.9983236413663356E-67,
          9.648399593730632E-67,
          4.4363864266359626E-66,
          1.948324331343513E-65,
          8.194323484405796E-65,
          3.308632973846334E-64,
          1.2854160282326603E-63,
          4.814998139081091E-63,
          1.742341674249376E-62,
          6.101263035783559E-62,
          2.0709185173938725E-61,
          6.823691669680021E-61,
          2.1857409446493584E-60,
          6.815040951745768E-60,
          2.07089420897624E-59,
          6.13989817426249E-59,
          1.7780353100716483E-58,
          5.034176014242459E-58,
          1.3948617920308593E-57,
          3.7855587614852456E-57,
          1.0071249645912549E-56,
          2.628626260403362E-56,
          6.735729274889918E-56,
          1.695707650248849E-55,
          4.196735404128989E-55,
          1.0217266774120225E-54,
          2.4483550154647238E-54,
          5.777916186095306E-54,
          1.3435491327754497E-53,
          3.079910250912194E-53,
          6.963549968913932E-53,
          1.5535574047643773E-52,
          3.421482289645501E-52,
          7.44164991411623E-52,
          1.599047611894191E-51,
          3.395879452573121E-51,
          7.13010654786984E-51,
          1.4806075283718948E-50,
          3.04175957418789E-50,
          6.184228473542922E-50,
          1.244660307086878E-49,
          2.4805292499431435E-49,
          4.896485350711321E-49,
          9.57601251370036E-49,
          1.8558977386314664E-48,
          3.5653082176073423E-48,
          6.790696286429987E-48,
          1.2826327000823954E-47,
          2.403001055155014E-47,
          4.466410428456041E-47,
          8.237630880440971E-47,
          1.5078838777683288E-46,
          2.739902790262973E-46,
          4.942891024952552E-46,
          8.854819988276018E-46,
          1.5754435271352197E-45,
          2.7843218587435327E-45,
          4.888732113955694E-45,
          8.528991725651204E-45,
          1.4787204244021573E-44,
          2.5481299874645437E-44,
          4.364780794960791E-44,
          7.433014426514078E-44,
          1.2585883473211571E-43,
          2.1191973740351318E-43,
          3.548780931429825E-43,
          5.910940346128037E-43,
          9.793807270930765E-43,
          1.6143981265995354E-42,
          2.647762130303982E-42,
          4.3211593492029854E-42,
          7.018059688918764E-42,
          1.1344112181449668E-41,
          1.8251588435672536E-41,
          2.923118278238782E-41,
          4.660638684876912E-41,
          7.398343639853189E-41,
          1.1693627214621849E-40,
          1.8404513651773127E-40,
          2.8846526353746584E-40,
          4.502871799598835E-40,
          7.0007479095693635E-40,
          1.0841494614660236E-39,
          1.6724532223633802E-39,
          2.570208457277269E-39,
          3.935146838391925E-39,
          6.002880522483669E-39,
          9.124137911820002E-39,
          1.3819231668588343E-38,
          2.0857474977268479E-38,
          3.137260335425622E-38,
          4.702999925868531E-38,
          7.026822101814417E-38,
          1.0464679271174393E-37,
          1.553455083843937E-37,
          2.2987915073316198E-37,
          3.3911760174378486E-37,
          4.987376927621036E-37,
          7.312837312735615E-37,
          1.0690838259950285E-36,
          1.5583662484459848E-36,
          2.265054110854873E-36,
          3.282901183063576E-36,
          4.74488511496106E-36,
          6.839121555442871E-36,
          9.83103722720117E-36,
          1.4094187103732508E-35,
          2.0152981108425544E-35,
          2.8741780509336825E-35,
          4.088644211321796E-35,
          5.801657449199409E-35,
          8.211971788798869E-35,
          1.1595262467718014E-34,
          1.6333014046595878E-34,
          2.2951931714249964E-34,
          3.217759228797153E-34,
          4.5007323358499355E-34,
          6.280899261249101E-34,
          8.745463988160025E-34,
          1.215008692218602E-33,
          1.6843186924078375E-33,
          2.329861497661511E-33,
          3.2159496642735535E-33,
          4.429694652014522E-33,
          6.088854832024112E-33,
          8.35230554333661E-33,
          1.1433981075401186E-32,
          1.5621405566016388E-32,
          2.1300278279388478E-32,
          2.898703257380733E-32,
          3.9371877945843485E-32,
          5.337560046308063E-32,
          7.222438943817134E-32,
          9.754824231271426E-32,
          1.315101583990511E-31,
          1.769754712324416E-31,
          2.3773342364886654E-31,
          3.1878663080386553E-31,
          4.267286219505137E-31,
          5.702354780403037E-31,
          7.60705038766554E-31,
          1.0130866816708049E-30,
          1.3469568356619557E-30,
          1.7879108857172695E-30,
          2.3693618410745874E-30,
          3.1348611906066728E-30,
          4.141089156165012E-30,
          5.461701833207189E-30,
          7.192273677074919E-30,
          9.456638203731825E-30,
          1.2415011062415897E-29,
          1.6274382092676367E-29,
          2.1301791943657498E-29,
          2.784127096069079E-29,
          3.633542160184981E-29,
          4.7352880901870993E-29,
          6.162321918518166E-29,
          8.008123111502864E-29,
          1.0392307476576976E-28,
          1.3467733783495907E-28,
          1.7429488713948567E-28,
          2.2526232487068635E-28,
          2.907450779233721E-28,
          3.747676405824144E-28,
          4.824403442965258E-28,
          6.202443251010305E-28,
          7.963892023654454E-28,
          1.0212614979798782E-27,
          1.307986167105654E-27,
          1.673128968745027E-27,
          2.137574006893547E-27,
          2.727618901826228E-27,
          3.47634004845725E-27,
          4.4252927015123605E-27,
          5.626625702376761E-27,
          7.145709145929696E-27,
          9.064395925212761E-27,
          1.1485065794240861E-26,
          1.4535634453441196E-26,
          1.8375751518148964E-26,
          2.320446168670723E-26,
          2.9269664924593217E-26,
          3.6879786370459427E-26,
          4.6418157778544827E-26,
          5.836072304894693E-26,
          7.329781486700419E-26,
          9.196091261306735E-26,
          1.152554894470843E-25,
          1.443012959436746E-25,
          1.8048171740049118E-25,
          2.2550419221120234E-25,
          2.8147410175805837E-25,
          3.509850528225548E-25,
          4.372290890987293E-25,
          5.4413111000409945E-25,
          6.765126676639775E-25,
          8.40291386578818E-25,
          1.042723540678758E-24,
          1.2926988716415175E-24,
          1.6010985909730839E-24,
          1.9812297364400124E-24,
          2.4493517223175026E-24,
          3.0253141172541685E-24,
          3.733328503797597E-24,
          4.602901838895162E-24,
          5.669964186042232E-24,
          6.978230194234148E-24,
          8.580841454066107E-24,
          1.0542346100723145E-23,
          1.2941083033155796E-23,
          1.587205120400166E-23,
          1.9450359989966014E-23,
          2.3815375130201078E-23,
          2.913569665396139E-23,
          3.561513123647572E-23,
          4.3499852261849716E-23,
          5.308697740223048E-23,
          6.47348367633014E-23,
          7.887525579457777E-23,
          9.602823762383116E-23,
          1.1681950089529168E-22,
          1.420014135002369E-22,
          1.7247796204670342E-22,
          2.0933451416531802E-22,
          2.5387326888365723E-22,
          3.076554529361004E-22,
          3.7255151222950236E-22,
          4.508007726869271E-22,
          5.4508230908692135E-22,
          6.5859907100783725E-22,
          7.951776793836714E-22,
          9.593867345683523E-22,
          1.1566769777773232E-21,
          1.3935472346276808E-21,
          1.6777407565425724E-21,
          2.018477379642248E-21,
          2.4267278607007106E-21,
          2.9155378482129005E-21,
          3.500410229541929E-21,
          4.1997560926165814E-21,
          5.0354262875962E-21,
          6.0333376106759665E-21,
          7.224210005508302E-21,
          8.644433941606641E-21,
          1.0337090346001626E-20,
          1.2353149206575855E-20,
          1.4752877316153312E-20,
          1.7607490681800166E-20,
          2.1001092994836592E-20,
          2.503294837156185E-20,
          2.9820144480206714E-20,
          3.5500711335657585E-20,
          4.223727166557622E-20,
          5.022131105445281E-20,
          5.967817031413966E-20,
          7.087287900805521E-20,
          8.411696811232002E-20,
          9.977642182289567E-20,
          1.1828095396309072E-19,
          1.401348238262323E-19,
          1.6592944019586512E-19,
          1.963580413986057E-19,
          2.3223278433848697E-19,
          2.745046274272158E-19,
          3.242864521777947E-19,
          3.828799371350322E-19,
          4.518067771064621E-19,
          5.328449318500275E-19,
          6.280706932120857E-19,
          7.399074801698168E-19,
          8.711824095837526E-19,
          1.025191849291522E-18,
          1.2057773424134089E-18,
          1.4174135007599028E-18,
          1.6653097048442145E-18,
          1.9555277225719473E-18,
          2.295117673162527E-18,
          2.692275122881893E-18,
          3.1565225111688028E-18,
          3.698918576985406E-18,
          4.332299994021611E-18,
          5.07156003914221E-18,
          5.933969821858209E-18,
          6.939548405776313E-18,
          8.111489069694523E-18,
          9.476650001834177E-18,
          1.1066118913390075E-17,
          1.291586241709538E-17,
          1.50674725656043E-17,
          1.756902470888948E-17,
          2.0476062838540972E-17,
          2.385273087290337E-17,
          2.7773070937425176E-17,
          3.232251265162643E-17,
          3.759958079524894E-17,
          4.3717852544953574E-17,
          5.080819981034932E-17,
          5.902135712219738E-17,
          6.85308611138569E-17,
          7.953641397649347E-17,
          9.226773045705904E-17,
          1.0698893611697644E-16,
          1.2400359380260636E-16,
          1.4366044573703054E-16,
          1.6635997048439177E-16,
          1.925618674403544E-16,
          2.227935966663572E-16,
          2.576601190348075E-16,
          2.978550010424992E-16,
          3.441730705614379E-16,
          3.9752483455299405E-16,
          4.589528977289838E-16,
          5.296506527049675E-16,
          6.109835478116948E-16,
          7.045132789113068E-16,
          8.120252968815247E-16,
          9.3556007351587E-16,
          1.0774486261561171E-15,
          1.2403528662313993E-15,
          1.4273114099109467E-15,
          1.6417915713031784E-15,
          1.8877483511654318E-15,
          2.1696913381846296E-15,
          2.492760556968558E-15,
          2.8628124284972295E-15,
          3.2865171567129335E-15,
          3.7714690211168566E-15,
          4.3263112418884514E-15,
          4.960877293625084E-15,
          5.686350779000977E-15,
          6.515446237579522E-15,
          7.462613561044682E-15,
          8.544269018050944E-15,
          9.779056264014646E-15,
          1.1188141128106367E-14,
          1.2795544436838568E-14,
          1.4628517656741552E-14,
          1.6717966724280464E-14,
          1.9098930086589783E-14,
          2.1811117710020384E-14,
          2.4899518633687394E-14,
          2.8415085562459026E-14,
          3.241550601908661E-14,
          3.6966070720852014E-14,
          4.2140651126187655E-14,
          4.802279952606573E-14,
          5.470698665107662E-14,
          6.229999354650261E-14,
          7.09224764553442E-14,
          8.071072566684882E-14,
          9.181864176056149E-14,
          1.0441995543293109E-13,
          1.1871072016600277E-13,
          1.349121104210559E-13,
          1.5327356185393604E-13,
          1.7407629429494005E-13,
          1.9763726296419937E-13,
          2.2431358865517098E-13,
          2.5450752347300084E-13,
          2.88672015227581E-13,
          3.273169408220031E-13,
          3.710160870289133E-13,
          4.204149659953299E-13,
          4.762395627583968E-13,
          5.393061231006599E-13,
          6.105321023368436E-13,
          6.909484092429593E-13,
          7.817130944527375E-13,
          8.841266494168339E-13,
          9.996491006288875E-13,
          1.1299191044539092E-12,
          1.27677527077675E-12,
          1.4422799690493376E-12,
          1.6287458984189929E-12,
          1.838765734764067E-12,
          2.075245201947234E-12,
          2.3414399527946823E-12,
          2.6409966875894283E-12,
          2.9779989846668154E-12,
          3.357018369477494E-12,
          3.783171205777896E-12,
          4.262182055948835E-12,
          4.8004542275034866E-12,
          5.4051483002782215E-12,
          6.084269514368992E-12,
          6.846764993448201E-12,
          7.70263188251708E-12,
          8.663037594510798E-12,
          9.740453487517822E-12,
          1.0948803434929303E-11,
          1.230362890599875E-11,
          1.382227234539816E-11,
          1.552408082917972E-11,
          1.7430632182734603E-11,
          1.9565985975848355E-11,
          2.1956962063027788E-11,
          2.4633449616014447E-11,
          2.7628749902655397E-11,
          3.097995640466599E-11,
          3.472837623941154E-11,
          3.891999726122935E-11,
          4.360600566929857E-11,
          4.884335944618561E-11,
          5.4695423498029604E-11,
          6.123267296879217E-11,
          6.853347186278108E-11,
          7.668493483683506E-11,
          8.578388082341808E-11,
          9.593788802470323E-11,
          1.0726646078330657E-10,
          1.1990231989662803E-10,
          1.3399282910658586E-10,
          1.497015717764849E-10,
          1.6721009317152428E-10,
          1.8671982530121544E-10,
          2.0845421297485248E-10,
          2.3266106157709642E-10,
          2.5961512910804825E-10,
          2.896209872657745E-10,
          3.230161787980147E-10,
          3.60174701035984E-10,
          4.0151084846474333E-10,
          4.474834504106555E-10,
          4.98600543459095E-10,
          5.554245220862827E-10,
          6.185778152265421E-10,
          6.887491411392362E-10,
          7.667003980175136E-10,
          8.532742533435104E-10,
          9.494025010789413E-10,
          1.0561152624356307E-9,
          1.1745511132560158E-9,
          1.3059682289929303E-9,
          1.4517566469891665E-9,
          1.6134517552757945E-9,
          1.792749127510349E-9,
          1.9915208350520647E-9,
          2.2118333795865623E-9,
          2.455967403288422E-9,
          2.726439348329384E-9,
          3.0260252537194E-9,
          3.3577868951465633E-9,
          3.7251004927552437E-9,
          4.131688232859369E-9,
          4.581652872551194E-9,
          5.079515721213162E-9,
          5.630258320285347E-9,
          6.239368172421542E-9,
          6.912888903677688E-9,
          7.657475277795086E-9,
          8.480453520238196E-9,
          9.389887451748631E-9,
          1.0394650976983997E-8,
          1.1504507523774239E-8,
          1.2730197082912213E-8,
          1.4083531557603326E-8,
          1.5577499196233703E-8,
          1.7226378952256376E-8,
          1.9045865691444414E-8,
          2.1053207249891428E-8,
          2.3267354436566875E-8,
          2.5709125172717627E-8,
          2.8401384067337115E-8,
          3.1369238844390665E-8,
          3.4640255163987084E-8,
          3.8244691517286436E-8,
          4.2215756024369906E-8,
          4.658988712693335E-8,
          5.140706034401707E-8,
          5.67111234509158E-8,
          6.255016264967892E-8,
          6.897690252573182E-8,
          7.604914283101763E-8,
          8.383023540042004E-8,
          9.238960479790487E-8,
          1.0180331660288415E-7,
          1.121546975879955E-7,
          1.23535012409682E-7,
          1.360442018336028E-7,
          1.497916879523393E-7,
          1.6489725232453462E-7,
          1.814919934758461E-7,
          1.9971937075720059E-7,
          2.1973634215607482E-7,
          2.417146043084159E-7,
          2.658419436643782E-7,
          2.923237085251589E-7,
          3.213844124973682E-7,
          3.5326948080701393E-7,
          3.8824715188734874E-7,
          4.2661054770611007E-7,
          4.6867992743529953E-7,
          5.148051403002767E-7,
          5.653682947762804E-7,
          6.207866627447039E-7,
          6.815158387817922E-7,
          7.480531764397076E-7,
          8.209415252083945E-7,
          9.007732938180377E-7,
          9.881948676793181E-7,
          1.0839114105659853E-6,
          1.1886920831371655E-6,
          1.3033757135971078E-6,
          1.4288769586982224E-6,
          1.5661929964449345E-6,
          1.7164107952541146E-6,
          1.8807150080020065E-6,
          2.06039654335022E-6,
          2.2568618710333128E-6,
          2.471643122405439E-6,
          2.7064090525417346E-6,
          2.9629769355757267E-6,
          3.2433254707631295E-6,
          3.549608783047041E-6,
          3.884171608653678E-6,
          4.2495657635596715E-6,
          4.648568000543511E-6,
          5.084199369018623E-6,
          5.559746201020061E-6,
          6.078782856566958E-6,
          6.6451963722820165E-6,
          7.263213168614774E-6,
          7.937427983365302E-6,
          8.672835212552373E-6,
          9.474862853985362E-6,
          1.0349409264385814E-5,
          1.1302882957546753E-5,
          1.234224568893305E-5,
          1.3475059091477007E-5,
          1.4709535148060696E-5,
          1.605459080859708E-5,
          1.751990708370125E-5,
          1.91159929728411E-5,
          2.085425461282266E-5,
          2.2747070062400208E-5,
          2.480787017115866E-5,
          2.7051226015537987E-5,
          2.9492943422184878E-5,
          3.215016513910058E-5,
          3.504148125812751E-5,
          3.818704853886045E-5,
          4.1608719333977473E-5,
          4.533018086957908E-5,
          4.9377105691966E-5,
          5.377731415406048E-5,
          5.856094988142811E-5,
          6.37606692293108E-5,
          6.941184581898973E-5,
          7.55527913241941E-5,
          8.222499376716837E-5,
          8.947337467885984E-5,
          9.734656658011345E-5,
          1.0589721235039224E-4,
          1.1518228816809802E-4,
          1.2526345183335006E-4,
          1.362074184191556E-4,
          1.480863653428137E-4,
          1.609783691053578E-4,
          1.749678761140648E-4,
          1.9014621018323928E-4,
          2.0661211950037065E-4,
          2.2447236605187184E-4,
          2.438423607239405E-4,
          2.648468475310913E-4,
          2.876206406804034E-4,
          3.1230941845110686E-4,
          3.39070578162428E-4,
          3.6807415681564155E-4,
          3.9950382233134435E-4,
          4.3355794066401304E-4,
          4.704507244593535E-4,
          5.104134693339262E-4,
          5.536958842980296E-4,
          6.005675233151124E-4,
          6.51319325499812E-4,
          7.062652719963917E-4,
          7.657441681621063E-4,
          8.301215603009459E-4,
          8.99791796856942E-4,
          9.751802446912768E-4,
          0.0010567456718249858,
          0.0011449828088469383,
          0.001240425102057536,
          0.0013436476723490132,
          0.0014552704948249846,
          0.0015759618152224528,
          0.0017064418203442122,
          0.0018474865809273884,
          0.001999932286674333,
          0.0021646797945719873,
          0.0023426995131063805,
          0.002535036646576852,
          0.0027428168254115814,
          0.0029672521502054072,
          0.0032096476791361947,
          0.0034714083905009047,
          0.0037540466543131007,
          0.00405919024928033,
          0.004388590964002313,
          0.004744133823921713,
          0.005127846988455635,
          0.005541912365789617,
          0.005988676996114092,
          0.006470665257581193,
          0.006990591952988651,
          0.0075513763392111855,
          0.008156157165625677,
          0.008808308792341998,
          0.009511458463889899,
          0.010269504819164527,
          0.01108663772398269,
          0.011967359518434306,
          0.012916507777518405,
          0.013939279690225681,
          0.01504125816933552,
          0.016228439811845075,
          0.017507264837978237,
          0.018884649145407495,
          0.020368018624502326,
          0.02196534589019017,
          0.02368518959653726,
          0.025536736511185543,
          0.027529846538714597,
          0.029675100894599127,
          0.03198385364483819,
          0.03446828684076908,
          0.03714146949368724,
          0.04001742065024905,
          0.043111176846890364,
          0.046438864239840005,
          0.05001777572706212,
          0.053866453399120995,
          0.05800477667831572,
          0.06245405652897951,
          0.06723713614703031,
          0.07237849856347478,
          0.0,
          0.0,
          0.0,
          0.0,
          0.0,
          0.0,
          0.0,
          0.0,
          0.0,
          0.0,
          0.0,
          0.0,
          0.0,
          0.0,
          0.0,
          0.0,
          0.0,
          0.0,
          0.0,
          0.0,
          0.0,
          0.0,
          0.0,
          0.0,
          0.0,
          0.0,
          0.0,
          0.0,
          0.0,
          0.0,
          0.0,
          0.0,
          0.0,
          0.0,
          0.0,
          0.0,
          0.0,
          0.0,
          0.0,
          0.0,
          0.0,
          0.0,
          0.0,
          0.0,
          0.0,
          0.0,
          0.0,
          0.0,
          0.0,
          0.0,
          0.0,
          0.0,
          0.0,
          0.0,
          0.0,
          0.0,
          0.0,
          0.0,
          0.0,
          0.0,
          0.0,
          0.0,
          0.0,
          0.0,
          0.0,
          0.0,
          0.0,
          0.0,
          0.0,
          0.0,
          0.0,
          0.0,
          0.0,
          0.0,
          0.0,
          0.0,
          0.0,
          0.0,
          0.0,
          0.0,
          0.0,
          0.0,
          0.0,
          0.0,
          0.0,
          0.0,
          0.0,
          0.0,
          0.0,
          0.0,
          0.0,
          0.0,
          0.0,
          0.0,
          0.0,
          0.0,
          0.0,
          0.0,
          0.0,
          0.0,
          0.0,
          0.0,
          0.0,
          0.0,
          0.0,
          0.0,
          0.0,
          0.0,
          0.0,
          0.0,
          0.0,
          0.0,
          0.0,
          0.0,
          0.0,
          0.0,
          0.0,
          0.0,
          0.0,
          0.0,
          0.0,
          0.0,
          0.0,
          0.0,
          0.0,
          0.0,
          0.0,
          0.0,
          0.0,
          0.0,
          0.0,
          0.0,
          0.0,
          0.0,
          0.0,
          0.0,
          0.0,
          0.0,
          0.0,
          0.0,
          0.0,
          0.0,
          0.0,
          0.0,
          0.0,
          0.0,
          0.0,
          0.0,
          0.0,
          0.0,
          0.0,
          0.0,
          0.0,
          0.0,
          0.0,
          0.0,
          0.0,
          0.0,
          0.0,
          0.0,
          0.0,
          0.0,
          0.0,
          0.0,
          0.0,
          0.0,
          0.0,
          0.0,
          0.0,
          0.0,
          0.0,
          0.0,
          0.0,
          0.0,
          0.0,
          0.0,
          0.0,
          0.0,
          0.0,
          0.0,
          0.0,
          0.0,
          0.0,
          0.0,
          0.0,
          0.0,
          0.0,
          0.0,
          0.0,
          0.0,
          0.0,
          0.0,
          0.0,
          0.0,
          0.0,
          0.0,
          0.0,
          0.0,
          0.0,
          0.0,
          0.0,
          0.0,
          0.0,
          0.0,
          0.0,
          0.0,
          0.0,
          0.0,
          0.0,
          0.0,
          0.0,
          0.0,
          0.0,
          0.0,
          0.0,
          0.0,
          0.0,
          0.0,
          0.0,
          0.0,
          0.0,
          0.0,
          0.0,
          0.0,
          0.0,
          0.0,
          0.0,
          0.0,
          0.0,
          0.0,
          0.0,
          0.0,
          0.0,
          0.0,
          0.0,
          0.0,
          0.0,
          0.0,
          0.0,
          0.0,
          0.0,
          0.0,
          0.0,
          0.0,
          0.0,
          0.0,
          0.0,
          0.0,
          0.0,
          0.0,
          0.0,
          0.0,
          0.0,
          0.0,
          0.0,
          0.0,
          0.0,
          0.0,
          0.0,
          0.0,
          0.0,
          0.0,
          0.0,
          0.0,
          0.0,
          0.0,
          0.0,
          0.0,
          0.0,
          0.0,
          0.0,
          0.0,
          0.0,
          0.0,
          0.0,
          0.0,
          0.0,
          0.0,
          0.0,
          0.0,
          0.0,
          0.0,
          0.0,
          0.0,
          0.0,
          0.0,
          0.0,
          0.0,
          0.0,
          0.0,
          0.0,
          0.0,
          0.0,
          0.0,
          0.0,
          0.0,
          0.0,
          0.0,
          0.0,
          0.0,
          0.0,
          0.0,
          0.0,
          0.0,
          0.0,
          0.0,
          0.0,
          0.0,
          0.0,
          0.0,
          0.0,
          0.0,
          0.0,
          0.0,
          0.0,
          0.0,
          0.0,
          0.0,
          0.0,
          0.0,
          0.0,
          0.0,
          0.0,
          0.0,
          0.0,
          0.0,
          0.0,
          0.0,
          0.0,
          0.0,
          0.0,
          0.0,
          0.0
         ],
         "type": "scatter"
        }
       ],
       "layout": {
        "template": {
         "data": {
          "bar": [
           {
            "error_x": {
             "color": "#2a3f5f"
            },
            "error_y": {
             "color": "#2a3f5f"
            },
            "marker": {
             "line": {
              "color": "#E5ECF6",
              "width": 0.5
             },
             "pattern": {
              "fillmode": "overlay",
              "size": 10,
              "solidity": 0.2
             }
            },
            "type": "bar"
           }
          ],
          "barpolar": [
           {
            "marker": {
             "line": {
              "color": "#E5ECF6",
              "width": 0.5
             },
             "pattern": {
              "fillmode": "overlay",
              "size": 10,
              "solidity": 0.2
             }
            },
            "type": "barpolar"
           }
          ],
          "carpet": [
           {
            "aaxis": {
             "endlinecolor": "#2a3f5f",
             "gridcolor": "white",
             "linecolor": "white",
             "minorgridcolor": "white",
             "startlinecolor": "#2a3f5f"
            },
            "baxis": {
             "endlinecolor": "#2a3f5f",
             "gridcolor": "white",
             "linecolor": "white",
             "minorgridcolor": "white",
             "startlinecolor": "#2a3f5f"
            },
            "type": "carpet"
           }
          ],
          "choropleth": [
           {
            "colorbar": {
             "outlinewidth": 0,
             "ticks": ""
            },
            "type": "choropleth"
           }
          ],
          "contour": [
           {
            "colorbar": {
             "outlinewidth": 0,
             "ticks": ""
            },
            "colorscale": [
             [
              0.0,
              "#0d0887"
             ],
             [
              0.1111111111111111,
              "#46039f"
             ],
             [
              0.2222222222222222,
              "#7201a8"
             ],
             [
              0.3333333333333333,
              "#9c179e"
             ],
             [
              0.4444444444444444,
              "#bd3786"
             ],
             [
              0.5555555555555556,
              "#d8576b"
             ],
             [
              0.6666666666666666,
              "#ed7953"
             ],
             [
              0.7777777777777778,
              "#fb9f3a"
             ],
             [
              0.8888888888888888,
              "#fdca26"
             ],
             [
              1.0,
              "#f0f921"
             ]
            ],
            "type": "contour"
           }
          ],
          "contourcarpet": [
           {
            "colorbar": {
             "outlinewidth": 0,
             "ticks": ""
            },
            "type": "contourcarpet"
           }
          ],
          "heatmap": [
           {
            "colorbar": {
             "outlinewidth": 0,
             "ticks": ""
            },
            "colorscale": [
             [
              0.0,
              "#0d0887"
             ],
             [
              0.1111111111111111,
              "#46039f"
             ],
             [
              0.2222222222222222,
              "#7201a8"
             ],
             [
              0.3333333333333333,
              "#9c179e"
             ],
             [
              0.4444444444444444,
              "#bd3786"
             ],
             [
              0.5555555555555556,
              "#d8576b"
             ],
             [
              0.6666666666666666,
              "#ed7953"
             ],
             [
              0.7777777777777778,
              "#fb9f3a"
             ],
             [
              0.8888888888888888,
              "#fdca26"
             ],
             [
              1.0,
              "#f0f921"
             ]
            ],
            "type": "heatmap"
           }
          ],
          "heatmapgl": [
           {
            "colorbar": {
             "outlinewidth": 0,
             "ticks": ""
            },
            "colorscale": [
             [
              0.0,
              "#0d0887"
             ],
             [
              0.1111111111111111,
              "#46039f"
             ],
             [
              0.2222222222222222,
              "#7201a8"
             ],
             [
              0.3333333333333333,
              "#9c179e"
             ],
             [
              0.4444444444444444,
              "#bd3786"
             ],
             [
              0.5555555555555556,
              "#d8576b"
             ],
             [
              0.6666666666666666,
              "#ed7953"
             ],
             [
              0.7777777777777778,
              "#fb9f3a"
             ],
             [
              0.8888888888888888,
              "#fdca26"
             ],
             [
              1.0,
              "#f0f921"
             ]
            ],
            "type": "heatmapgl"
           }
          ],
          "histogram": [
           {
            "marker": {
             "pattern": {
              "fillmode": "overlay",
              "size": 10,
              "solidity": 0.2
             }
            },
            "type": "histogram"
           }
          ],
          "histogram2d": [
           {
            "colorbar": {
             "outlinewidth": 0,
             "ticks": ""
            },
            "colorscale": [
             [
              0.0,
              "#0d0887"
             ],
             [
              0.1111111111111111,
              "#46039f"
             ],
             [
              0.2222222222222222,
              "#7201a8"
             ],
             [
              0.3333333333333333,
              "#9c179e"
             ],
             [
              0.4444444444444444,
              "#bd3786"
             ],
             [
              0.5555555555555556,
              "#d8576b"
             ],
             [
              0.6666666666666666,
              "#ed7953"
             ],
             [
              0.7777777777777778,
              "#fb9f3a"
             ],
             [
              0.8888888888888888,
              "#fdca26"
             ],
             [
              1.0,
              "#f0f921"
             ]
            ],
            "type": "histogram2d"
           }
          ],
          "histogram2dcontour": [
           {
            "colorbar": {
             "outlinewidth": 0,
             "ticks": ""
            },
            "colorscale": [
             [
              0.0,
              "#0d0887"
             ],
             [
              0.1111111111111111,
              "#46039f"
             ],
             [
              0.2222222222222222,
              "#7201a8"
             ],
             [
              0.3333333333333333,
              "#9c179e"
             ],
             [
              0.4444444444444444,
              "#bd3786"
             ],
             [
              0.5555555555555556,
              "#d8576b"
             ],
             [
              0.6666666666666666,
              "#ed7953"
             ],
             [
              0.7777777777777778,
              "#fb9f3a"
             ],
             [
              0.8888888888888888,
              "#fdca26"
             ],
             [
              1.0,
              "#f0f921"
             ]
            ],
            "type": "histogram2dcontour"
           }
          ],
          "mesh3d": [
           {
            "colorbar": {
             "outlinewidth": 0,
             "ticks": ""
            },
            "type": "mesh3d"
           }
          ],
          "parcoords": [
           {
            "line": {
             "colorbar": {
              "outlinewidth": 0,
              "ticks": ""
             }
            },
            "type": "parcoords"
           }
          ],
          "pie": [
           {
            "automargin": true,
            "type": "pie"
           }
          ],
          "scatter": [
           {
            "marker": {
             "colorbar": {
              "outlinewidth": 0,
              "ticks": ""
             }
            },
            "type": "scatter"
           }
          ],
          "scatter3d": [
           {
            "line": {
             "colorbar": {
              "outlinewidth": 0,
              "ticks": ""
             }
            },
            "marker": {
             "colorbar": {
              "outlinewidth": 0,
              "ticks": ""
             }
            },
            "type": "scatter3d"
           }
          ],
          "scattercarpet": [
           {
            "marker": {
             "colorbar": {
              "outlinewidth": 0,
              "ticks": ""
             }
            },
            "type": "scattercarpet"
           }
          ],
          "scattergeo": [
           {
            "marker": {
             "colorbar": {
              "outlinewidth": 0,
              "ticks": ""
             }
            },
            "type": "scattergeo"
           }
          ],
          "scattergl": [
           {
            "marker": {
             "colorbar": {
              "outlinewidth": 0,
              "ticks": ""
             }
            },
            "type": "scattergl"
           }
          ],
          "scattermapbox": [
           {
            "marker": {
             "colorbar": {
              "outlinewidth": 0,
              "ticks": ""
             }
            },
            "type": "scattermapbox"
           }
          ],
          "scatterpolar": [
           {
            "marker": {
             "colorbar": {
              "outlinewidth": 0,
              "ticks": ""
             }
            },
            "type": "scatterpolar"
           }
          ],
          "scatterpolargl": [
           {
            "marker": {
             "colorbar": {
              "outlinewidth": 0,
              "ticks": ""
             }
            },
            "type": "scatterpolargl"
           }
          ],
          "scatterternary": [
           {
            "marker": {
             "colorbar": {
              "outlinewidth": 0,
              "ticks": ""
             }
            },
            "type": "scatterternary"
           }
          ],
          "surface": [
           {
            "colorbar": {
             "outlinewidth": 0,
             "ticks": ""
            },
            "colorscale": [
             [
              0.0,
              "#0d0887"
             ],
             [
              0.1111111111111111,
              "#46039f"
             ],
             [
              0.2222222222222222,
              "#7201a8"
             ],
             [
              0.3333333333333333,
              "#9c179e"
             ],
             [
              0.4444444444444444,
              "#bd3786"
             ],
             [
              0.5555555555555556,
              "#d8576b"
             ],
             [
              0.6666666666666666,
              "#ed7953"
             ],
             [
              0.7777777777777778,
              "#fb9f3a"
             ],
             [
              0.8888888888888888,
              "#fdca26"
             ],
             [
              1.0,
              "#f0f921"
             ]
            ],
            "type": "surface"
           }
          ],
          "table": [
           {
            "cells": {
             "fill": {
              "color": "#EBF0F8"
             },
             "line": {
              "color": "white"
             }
            },
            "header": {
             "fill": {
              "color": "#C8D4E3"
             },
             "line": {
              "color": "white"
             }
            },
            "type": "table"
           }
          ]
         },
         "layout": {
          "annotationdefaults": {
           "arrowcolor": "#2a3f5f",
           "arrowhead": 0,
           "arrowwidth": 1
          },
          "autotypenumbers": "strict",
          "coloraxis": {
           "colorbar": {
            "outlinewidth": 0,
            "ticks": ""
           }
          },
          "colorscale": {
           "diverging": [
            [
             0,
             "#8e0152"
            ],
            [
             0.1,
             "#c51b7d"
            ],
            [
             0.2,
             "#de77ae"
            ],
            [
             0.3,
             "#f1b6da"
            ],
            [
             0.4,
             "#fde0ef"
            ],
            [
             0.5,
             "#f7f7f7"
            ],
            [
             0.6,
             "#e6f5d0"
            ],
            [
             0.7,
             "#b8e186"
            ],
            [
             0.8,
             "#7fbc41"
            ],
            [
             0.9,
             "#4d9221"
            ],
            [
             1,
             "#276419"
            ]
           ],
           "sequential": [
            [
             0.0,
             "#0d0887"
            ],
            [
             0.1111111111111111,
             "#46039f"
            ],
            [
             0.2222222222222222,
             "#7201a8"
            ],
            [
             0.3333333333333333,
             "#9c179e"
            ],
            [
             0.4444444444444444,
             "#bd3786"
            ],
            [
             0.5555555555555556,
             "#d8576b"
            ],
            [
             0.6666666666666666,
             "#ed7953"
            ],
            [
             0.7777777777777778,
             "#fb9f3a"
            ],
            [
             0.8888888888888888,
             "#fdca26"
            ],
            [
             1.0,
             "#f0f921"
            ]
           ],
           "sequentialminus": [
            [
             0.0,
             "#0d0887"
            ],
            [
             0.1111111111111111,
             "#46039f"
            ],
            [
             0.2222222222222222,
             "#7201a8"
            ],
            [
             0.3333333333333333,
             "#9c179e"
            ],
            [
             0.4444444444444444,
             "#bd3786"
            ],
            [
             0.5555555555555556,
             "#d8576b"
            ],
            [
             0.6666666666666666,
             "#ed7953"
            ],
            [
             0.7777777777777778,
             "#fb9f3a"
            ],
            [
             0.8888888888888888,
             "#fdca26"
            ],
            [
             1.0,
             "#f0f921"
            ]
           ]
          },
          "colorway": [
           "#636efa",
           "#EF553B",
           "#00cc96",
           "#ab63fa",
           "#FFA15A",
           "#19d3f3",
           "#FF6692",
           "#B6E880",
           "#FF97FF",
           "#FECB52"
          ],
          "font": {
           "color": "#2a3f5f"
          },
          "geo": {
           "bgcolor": "white",
           "lakecolor": "white",
           "landcolor": "#E5ECF6",
           "showlakes": true,
           "showland": true,
           "subunitcolor": "white"
          },
          "hoverlabel": {
           "align": "left"
          },
          "hovermode": "closest",
          "mapbox": {
           "style": "light"
          },
          "paper_bgcolor": "white",
          "plot_bgcolor": "#E5ECF6",
          "polar": {
           "angularaxis": {
            "gridcolor": "white",
            "linecolor": "white",
            "ticks": ""
           },
           "bgcolor": "#E5ECF6",
           "radialaxis": {
            "gridcolor": "white",
            "linecolor": "white",
            "ticks": ""
           }
          },
          "scene": {
           "xaxis": {
            "backgroundcolor": "#E5ECF6",
            "gridcolor": "white",
            "gridwidth": 2,
            "linecolor": "white",
            "showbackground": true,
            "ticks": "",
            "zerolinecolor": "white"
           },
           "yaxis": {
            "backgroundcolor": "#E5ECF6",
            "gridcolor": "white",
            "gridwidth": 2,
            "linecolor": "white",
            "showbackground": true,
            "ticks": "",
            "zerolinecolor": "white"
           },
           "zaxis": {
            "backgroundcolor": "#E5ECF6",
            "gridcolor": "white",
            "gridwidth": 2,
            "linecolor": "white",
            "showbackground": true,
            "ticks": "",
            "zerolinecolor": "white"
           }
          },
          "shapedefaults": {
           "line": {
            "color": "#2a3f5f"
           }
          },
          "ternary": {
           "aaxis": {
            "gridcolor": "white",
            "linecolor": "white",
            "ticks": ""
           },
           "baxis": {
            "gridcolor": "white",
            "linecolor": "white",
            "ticks": ""
           },
           "bgcolor": "#E5ECF6",
           "caxis": {
            "gridcolor": "white",
            "linecolor": "white",
            "ticks": ""
           }
          },
          "title": {
           "x": 0.05
          },
          "xaxis": {
           "automargin": true,
           "gridcolor": "white",
           "linecolor": "white",
           "ticks": "",
           "title": {
            "standoff": 15
           },
           "zerolinecolor": "white",
           "zerolinewidth": 2
          },
          "yaxis": {
           "automargin": true,
           "gridcolor": "white",
           "linecolor": "white",
           "ticks": "",
           "title": {
            "standoff": 15
           },
           "zerolinecolor": "white",
           "zerolinewidth": 2
          }
         }
        },
        "xaxis": {
         "anchor": "y",
         "domain": [
          0.0,
          1.0
         ],
         "title": {
          "text": "x"
         }
        },
        "yaxis": {
         "anchor": "x",
         "domain": [
          0.0,
          1.0
         ],
         "title": {
          "text": "y"
         }
        },
        "legend": {
         "tracegroupgap": 0
        },
        "title": {
         "text": "Comparison of the true distribution and the bootstrap replications"
        },
        "barmode": "relative"
       },
       "config": {
        "plotlyServerURL": "https://plot.ly"
       }
      },
      "text/html": "<div>                            <div id=\"9f888408-5c03-481a-84e2-3765bbf07401\" class=\"plotly-graph-div\" style=\"height:525px; width:100%;\"></div>            <script type=\"text/javascript\">                require([\"plotly\"], function(Plotly) {                    window.PLOTLYENV=window.PLOTLYENV || {};                                    if (document.getElementById(\"9f888408-5c03-481a-84e2-3765bbf07401\")) {                    Plotly.newPlot(                        \"9f888408-5c03-481a-84e2-3765bbf07401\",                        [{\"alignmentgroup\":\"True\",\"hovertemplate\":\"x=%{x}<br>y=%{y}<extra></extra>\",\"legendgroup\":\"\",\"marker\":{\"color\":\"#636efa\",\"pattern\":{\"shape\":\"\"}},\"name\":\"\",\"offsetgroup\":\"\",\"orientation\":\"v\",\"showlegend\":false,\"textposition\":\"auto\",\"x\":[0.0,0.015151515151515152,0.030303030303030304,0.045454545454545456,0.06060606060606061,0.07575757575757576,0.09090909090909091,0.10606060606060606,0.12121212121212122,0.13636363636363635,0.15151515151515152,0.16666666666666669,0.18181818181818182,0.19696969696969696,0.21212121212121213,0.2272727272727273,0.24242424242424243,0.25757575757575757,0.2727272727272727,0.2878787878787879,0.30303030303030304,0.3181818181818182,0.33333333333333337,0.3484848484848485,0.36363636363636365,0.3787878787878788,0.3939393939393939,0.4090909090909091,0.42424242424242425,0.4393939393939394,0.4545454545454546,0.4696969696969697,0.48484848484848486,0.5,0.5151515151515151,0.5303030303030303,0.5454545454545454,0.5606060606060607,0.5757575757575758,0.5909090909090909,0.6060606060606061,0.6212121212121212,0.6363636363636364,0.6515151515151515,0.6666666666666667,0.6818181818181819,0.696969696969697,0.7121212121212122,0.7272727272727273,0.7424242424242424,0.7575757575757576,0.7727272727272727,0.7878787878787878,0.8030303030303031,0.8181818181818182,0.8333333333333334,0.8484848484848485,0.8636363636363636,0.8787878787878788,0.8939393939393939,0.9090909090909092,0.9242424242424243,0.9393939393939394,0.9545454545454546,0.9696969696969697,0.9848484848484849,1.0,1.0151515151515151,1.0303030303030303,1.0454545454545454,1.0606060606060606,1.0757575757575757,1.0909090909090908,1.1060606060606062,1.1212121212121213,1.1363636363636365,1.1515151515151516,1.1666666666666667,1.1818181818181819,1.196969696969697,1.2121212121212122,1.2272727272727273,1.2424242424242424,1.2575757575757576,1.2727272727272727,1.2878787878787878,1.303030303030303,1.3181818181818181,1.3333333333333335,1.3484848484848486,1.3636363636363638,1.378787878787879,1.393939393939394,1.4090909090909092,1.4242424242424243,1.4393939393939394,1.4545454545454546,1.4696969696969697,1.4848484848484849,1.5],\"xaxis\":\"x\",\"y\":[0.0,0.0,0.0,0.0,0.0,0.0,0.0,0.0,0.0,0.0,0.0,0.0,0.0,0.0,0.0,0.0,0.0,0.0,0.0,0.0,0.0,0.0,0.0,0.0,0.0,0.0,0.0,0.0,0.0,0.0,0.0,0.0,0.0,0.0,0.0,0.0,0.0,0.0,0.0,0.0,0.0,0.0,0.0,0.0,0.0,0.0,0.0,0.0,0.0,0.0,0.0,0.0,0.0,0.0,0.0,0.0,0.0,0.003,0.0,0.0,0.0,0.004,0.015,0.0,0.0,0.038,0.94,0.0,0.0,0.0,0.0,0.0,0.0,0.0,0.0,0.0,0.0,0.0,0.0,0.0,0.0,0.0,0.0,0.0,0.0,0.0,0.0,0.0,0.0,0.0,0.0,0.0,0.0,0.0,0.0,0.0,0.0,0.0,0.0,0.0],\"yaxis\":\"y\",\"type\":\"bar\"},{\"x\":[0.0,0.0015015015015015015,0.003003003003003003,0.0045045045045045045,0.006006006006006006,0.0075075075075075074,0.009009009009009009,0.01051051051051051,0.012012012012012012,0.013513513513513514,0.015015015015015015,0.016516516516516516,0.018018018018018018,0.01951951951951952,0.02102102102102102,0.02252252252252252,0.024024024024024024,0.025525525525525526,0.02702702702702703,0.028528528528528527,0.03003003003003003,0.03153153153153153,0.03303303303303303,0.03453453453453453,0.036036036036036036,0.03753753753753754,0.03903903903903904,0.04054054054054054,0.04204204204204204,0.04354354354354354,0.04504504504504504,0.046546546546546545,0.04804804804804805,0.04954954954954955,0.05105105105105105,0.052552552552552555,0.05405405405405406,0.05555555555555555,0.057057057057057055,0.05855855855855856,0.06006006006006006,0.06156156156156156,0.06306306306306306,0.06456456456456457,0.06606606606606606,0.06756756756756757,0.06906906906906907,0.07057057057057058,0.07207207207207207,0.07357357357357357,0.07507507507507508,0.07657657657657657,0.07807807807807808,0.07957957957957958,0.08108108108108109,0.08258258258258258,0.08408408408408408,0.08558558558558559,0.08708708708708708,0.08858858858858859,0.09009009009009009,0.0915915915915916,0.09309309309309309,0.0945945945945946,0.0960960960960961,0.09759759759759759,0.0990990990990991,0.1006006006006006,0.1021021021021021,0.1036036036036036,0.10510510510510511,0.1066066066066066,0.10810810810810811,0.10960960960960961,0.1111111111111111,0.11261261261261261,0.11411411411411411,0.11561561561561562,0.11711711711711711,0.11861861861861862,0.12012012012012012,0.12162162162162161,0.12312312312312312,0.12462462462462462,0.12612612612612611,0.12762762762762764,0.12912912912912913,0.13063063063063063,0.13213213213213212,0.13363363363363362,0.13513513513513514,0.13663663663663664,0.13813813813813813,0.13963963963963963,0.14114114114114115,0.14264264264264265,0.14414414414414414,0.14564564564564564,0.14714714714714713,0.14864864864864866,0.15015015015015015,0.15165165165165165,0.15315315315315314,0.15465465465465467,0.15615615615615616,0.15765765765765766,0.15915915915915915,0.16066066066066065,0.16216216216216217,0.16366366366366367,0.16516516516516516,0.16666666666666666,0.16816816816816815,0.16966966966966968,0.17117117117117117,0.17267267267267267,0.17417417417417416,0.17567567567567569,0.17717717717717718,0.17867867867867868,0.18018018018018017,0.18168168168168167,0.1831831831831832,0.18468468468468469,0.18618618618618618,0.18768768768768768,0.1891891891891892,0.1906906906906907,0.1921921921921922,0.19369369369369369,0.19519519519519518,0.1966966966966967,0.1981981981981982,0.1996996996996997,0.2012012012012012,0.20270270270270271,0.2042042042042042,0.2057057057057057,0.2072072072072072,0.2087087087087087,0.21021021021021022,0.21171171171171171,0.2132132132132132,0.2147147147147147,0.21621621621621623,0.21771771771771772,0.21921921921921922,0.22072072072072071,0.2222222222222222,0.22372372372372373,0.22522522522522523,0.22672672672672672,0.22822822822822822,0.22972972972972971,0.23123123123123124,0.23273273273273273,0.23423423423423423,0.23573573573573572,0.23723723723723725,0.23873873873873874,0.24024024024024024,0.24174174174174173,0.24324324324324323,0.24474474474474475,0.24624624624624625,0.24774774774774774,0.24924924924924924,0.25075075075075076,0.25225225225225223,0.25375375375375375,0.2552552552552553,0.25675675675675674,0.25825825825825827,0.25975975975975973,0.26126126126126126,0.2627627627627628,0.26426426426426425,0.26576576576576577,0.26726726726726724,0.26876876876876876,0.2702702702702703,0.27177177177177175,0.2732732732732733,0.2747747747747748,0.27627627627627627,0.2777777777777778,0.27927927927927926,0.2807807807807808,0.2822822822822823,0.28378378378378377,0.2852852852852853,0.28678678678678676,0.2882882882882883,0.2897897897897898,0.2912912912912913,0.2927927927927928,0.29429429429429427,0.2957957957957958,0.2972972972972973,0.2987987987987988,0.3003003003003003,0.3018018018018018,0.3033033033033033,0.3048048048048048,0.3063063063063063,0.3078078078078078,0.30930930930930933,0.3108108108108108,0.3123123123123123,0.3138138138138138,0.3153153153153153,0.31681681681681684,0.3183183183183183,0.31981981981981983,0.3213213213213213,0.3228228228228228,0.32432432432432434,0.3258258258258258,0.32732732732732733,0.3288288288288288,0.3303303303303303,0.33183183183183185,0.3333333333333333,0.33483483483483484,0.3363363363363363,0.33783783783783783,0.33933933933933935,0.3408408408408408,0.34234234234234234,0.34384384384384387,0.34534534534534533,0.34684684684684686,0.3483483483483483,0.34984984984984985,0.35135135135135137,0.35285285285285284,0.35435435435435436,0.35585585585585583,0.35735735735735735,0.3588588588588589,0.36036036036036034,0.36186186186186187,0.36336336336336333,0.36486486486486486,0.3663663663663664,0.36786786786786785,0.36936936936936937,0.3708708708708709,0.37237237237237236,0.3738738738738739,0.37537537537537535,0.3768768768768769,0.3783783783783784,0.37987987987987987,0.3813813813813814,0.38288288288288286,0.3843843843843844,0.3858858858858859,0.38738738738738737,0.3888888888888889,0.39039039039039036,0.3918918918918919,0.3933933933933934,0.3948948948948949,0.3963963963963964,0.39789789789789787,0.3993993993993994,0.4009009009009009,0.4024024024024024,0.4039039039039039,0.40540540540540543,0.4069069069069069,0.4084084084084084,0.4099099099099099,0.4114114114114114,0.41291291291291293,0.4144144144144144,0.4159159159159159,0.4174174174174174,0.4189189189189189,0.42042042042042044,0.4219219219219219,0.42342342342342343,0.4249249249249249,0.4264264264264264,0.42792792792792794,0.4294294294294294,0.43093093093093093,0.43243243243243246,0.4339339339339339,0.43543543543543545,0.4369369369369369,0.43843843843843844,0.43993993993993996,0.44144144144144143,0.44294294294294295,0.4444444444444444,0.44594594594594594,0.44744744744744747,0.44894894894894893,0.45045045045045046,0.4519519519519519,0.45345345345345345,0.45495495495495497,0.45645645645645644,0.45795795795795796,0.45945945945945943,0.46096096096096095,0.4624624624624625,0.46396396396396394,0.46546546546546547,0.466966966966967,0.46846846846846846,0.46996996996997,0.47147147147147145,0.47297297297297297,0.4744744744744745,0.47597597597597596,0.4774774774774775,0.47897897897897895,0.4804804804804805,0.481981981981982,0.48348348348348347,0.484984984984985,0.48648648648648646,0.487987987987988,0.4894894894894895,0.49099099099099097,0.4924924924924925,0.49399399399399396,0.4954954954954955,0.496996996996997,0.4984984984984985,0.5,0.5015015015015015,0.503003003003003,0.5045045045045045,0.506006006006006,0.5075075075075075,0.509009009009009,0.5105105105105106,0.512012012012012,0.5135135135135135,0.515015015015015,0.5165165165165165,0.5180180180180181,0.5195195195195195,0.521021021021021,0.5225225225225225,0.524024024024024,0.5255255255255256,0.527027027027027,0.5285285285285285,0.53003003003003,0.5315315315315315,0.5330330330330331,0.5345345345345345,0.536036036036036,0.5375375375375375,0.539039039039039,0.5405405405405406,0.542042042042042,0.5435435435435435,0.545045045045045,0.5465465465465466,0.5480480480480481,0.5495495495495496,0.551051051051051,0.5525525525525525,0.5540540540540541,0.5555555555555556,0.5570570570570571,0.5585585585585585,0.56006006006006,0.5615615615615616,0.5630630630630631,0.5645645645645646,0.566066066066066,0.5675675675675675,0.5690690690690691,0.5705705705705706,0.5720720720720721,0.5735735735735735,0.575075075075075,0.5765765765765766,0.5780780780780781,0.5795795795795796,0.581081081081081,0.5825825825825826,0.5840840840840841,0.5855855855855856,0.5870870870870871,0.5885885885885885,0.5900900900900901,0.5915915915915916,0.5930930930930931,0.5945945945945946,0.596096096096096,0.5975975975975976,0.5990990990990991,0.6006006006006006,0.6021021021021021,0.6036036036036035,0.6051051051051051,0.6066066066066066,0.6081081081081081,0.6096096096096096,0.6111111111111112,0.6126126126126126,0.6141141141141141,0.6156156156156156,0.6171171171171171,0.6186186186186187,0.6201201201201201,0.6216216216216216,0.6231231231231231,0.6246246246246246,0.6261261261261262,0.6276276276276276,0.6291291291291291,0.6306306306306306,0.6321321321321322,0.6336336336336337,0.6351351351351351,0.6366366366366366,0.6381381381381381,0.6396396396396397,0.6411411411411412,0.6426426426426426,0.6441441441441441,0.6456456456456456,0.6471471471471472,0.6486486486486487,0.6501501501501501,0.6516516516516516,0.6531531531531531,0.6546546546546547,0.6561561561561562,0.6576576576576576,0.6591591591591591,0.6606606606606606,0.6621621621621622,0.6636636636636637,0.6651651651651651,0.6666666666666666,0.6681681681681682,0.6696696696696697,0.6711711711711712,0.6726726726726726,0.6741741741741741,0.6756756756756757,0.6771771771771772,0.6786786786786787,0.6801801801801802,0.6816816816816816,0.6831831831831832,0.6846846846846847,0.6861861861861862,0.6876876876876877,0.6891891891891891,0.6906906906906907,0.6921921921921922,0.6936936936936937,0.6951951951951952,0.6966966966966966,0.6981981981981982,0.6996996996996997,0.7012012012012012,0.7027027027027027,0.7042042042042042,0.7057057057057057,0.7072072072072072,0.7087087087087087,0.7102102102102102,0.7117117117117117,0.7132132132132132,0.7147147147147147,0.7162162162162162,0.7177177177177178,0.7192192192192192,0.7207207207207207,0.7222222222222222,0.7237237237237237,0.7252252252252253,0.7267267267267267,0.7282282282282282,0.7297297297297297,0.7312312312312312,0.7327327327327328,0.7342342342342342,0.7357357357357357,0.7372372372372372,0.7387387387387387,0.7402402402402403,0.7417417417417418,0.7432432432432432,0.7447447447447447,0.7462462462462462,0.7477477477477478,0.7492492492492493,0.7507507507507507,0.7522522522522522,0.7537537537537538,0.7552552552552553,0.7567567567567568,0.7582582582582582,0.7597597597597597,0.7612612612612613,0.7627627627627628,0.7642642642642643,0.7657657657657657,0.7672672672672672,0.7687687687687688,0.7702702702702703,0.7717717717717718,0.7732732732732732,0.7747747747747747,0.7762762762762763,0.7777777777777778,0.7792792792792793,0.7807807807807807,0.7822822822822822,0.7837837837837838,0.7852852852852853,0.7867867867867868,0.7882882882882882,0.7897897897897898,0.7912912912912913,0.7927927927927928,0.7942942942942943,0.7957957957957957,0.7972972972972973,0.7987987987987988,0.8003003003003003,0.8018018018018018,0.8033033033033034,0.8048048048048048,0.8063063063063063,0.8078078078078078,0.8093093093093093,0.8108108108108109,0.8123123123123123,0.8138138138138138,0.8153153153153153,0.8168168168168168,0.8183183183183184,0.8198198198198198,0.8213213213213213,0.8228228228228228,0.8243243243243243,0.8258258258258259,0.8273273273273273,0.8288288288288288,0.8303303303303303,0.8318318318318318,0.8333333333333334,0.8348348348348348,0.8363363363363363,0.8378378378378378,0.8393393393393394,0.8408408408408409,0.8423423423423423,0.8438438438438438,0.8453453453453453,0.8468468468468469,0.8483483483483484,0.8498498498498498,0.8513513513513513,0.8528528528528528,0.8543543543543544,0.8558558558558559,0.8573573573573573,0.8588588588588588,0.8603603603603603,0.8618618618618619,0.8633633633633634,0.8648648648648649,0.8663663663663663,0.8678678678678678,0.8693693693693694,0.8708708708708709,0.8723723723723724,0.8738738738738738,0.8753753753753754,0.8768768768768769,0.8783783783783784,0.8798798798798799,0.8813813813813813,0.8828828828828829,0.8843843843843844,0.8858858858858859,0.8873873873873874,0.8888888888888888,0.8903903903903904,0.8918918918918919,0.8933933933933934,0.8948948948948949,0.8963963963963963,0.8978978978978979,0.8993993993993994,0.9009009009009009,0.9024024024024024,0.9039039039039038,0.9054054054054054,0.9069069069069069,0.9084084084084084,0.9099099099099099,0.9114114114114114,0.9129129129129129,0.9144144144144144,0.9159159159159159,0.9174174174174174,0.9189189189189189,0.9204204204204204,0.9219219219219219,0.9234234234234234,0.924924924924925,0.9264264264264264,0.9279279279279279,0.9294294294294294,0.9309309309309309,0.9324324324324325,0.933933933933934,0.9354354354354354,0.9369369369369369,0.9384384384384384,0.93993993993994,0.9414414414414415,0.9429429429429429,0.9444444444444444,0.9459459459459459,0.9474474474474475,0.948948948948949,0.9504504504504504,0.9519519519519519,0.9534534534534534,0.954954954954955,0.9564564564564565,0.9579579579579579,0.9594594594594594,0.960960960960961,0.9624624624624625,0.963963963963964,0.9654654654654654,0.9669669669669669,0.9684684684684685,0.96996996996997,0.9714714714714715,0.9729729729729729,0.9744744744744744,0.975975975975976,0.9774774774774775,0.978978978978979,0.9804804804804804,0.9819819819819819,0.9834834834834835,0.984984984984985,0.9864864864864865,0.9879879879879879,0.9894894894894894,0.990990990990991,0.9924924924924925,0.993993993993994,0.9954954954954955,0.996996996996997,0.9984984984984985,1.0,1.0015015015015014,1.003003003003003,1.0045045045045045,1.006006006006006,1.0075075075075075,1.009009009009009,1.0105105105105106,1.012012012012012,1.0135135135135136,1.015015015015015,1.0165165165165164,1.018018018018018,1.0195195195195195,1.021021021021021,1.0225225225225225,1.024024024024024,1.0255255255255256,1.027027027027027,1.0285285285285286,1.03003003003003,1.0315315315315314,1.033033033033033,1.0345345345345345,1.0360360360360361,1.0375375375375375,1.039039039039039,1.0405405405405406,1.042042042042042,1.0435435435435436,1.045045045045045,1.0465465465465464,1.048048048048048,1.0495495495495495,1.0510510510510511,1.0525525525525525,1.054054054054054,1.0555555555555556,1.057057057057057,1.0585585585585586,1.06006006006006,1.0615615615615615,1.063063063063063,1.0645645645645645,1.0660660660660661,1.0675675675675675,1.069069069069069,1.0705705705705706,1.072072072072072,1.0735735735735736,1.075075075075075,1.0765765765765765,1.078078078078078,1.0795795795795795,1.0810810810810811,1.0825825825825826,1.084084084084084,1.0855855855855856,1.087087087087087,1.0885885885885886,1.09009009009009,1.0915915915915917,1.093093093093093,1.0945945945945945,1.0960960960960962,1.0975975975975976,1.0990990990990992,1.1006006006006006,1.102102102102102,1.1036036036036037,1.105105105105105,1.1066066066066067,1.1081081081081081,1.1096096096096095,1.1111111111111112,1.1126126126126126,1.1141141141141142,1.1156156156156156,1.117117117117117,1.1186186186186187,1.12012012012012,1.1216216216216217,1.1231231231231231,1.1246246246246245,1.1261261261261262,1.1276276276276276,1.1291291291291292,1.1306306306306306,1.132132132132132,1.1336336336336337,1.135135135135135,1.1366366366366367,1.1381381381381381,1.1396396396396395,1.1411411411411412,1.1426426426426426,1.1441441441441442,1.1456456456456456,1.147147147147147,1.1486486486486487,1.15015015015015,1.1516516516516517,1.1531531531531531,1.1546546546546546,1.1561561561561562,1.1576576576576576,1.1591591591591592,1.1606606606606606,1.162162162162162,1.1636636636636637,1.165165165165165,1.1666666666666667,1.1681681681681682,1.1696696696696696,1.1711711711711712,1.1726726726726726,1.1741741741741742,1.1756756756756757,1.177177177177177,1.1786786786786787,1.1801801801801801,1.1816816816816818,1.1831831831831832,1.1846846846846846,1.1861861861861862,1.1876876876876876,1.1891891891891893,1.1906906906906907,1.192192192192192,1.1936936936936937,1.1951951951951951,1.1966966966966968,1.1981981981981982,1.1996996996996996,1.2012012012012012,1.2027027027027026,1.2042042042042043,1.2057057057057057,1.207207207207207,1.2087087087087087,1.2102102102102101,1.2117117117117118,1.2132132132132132,1.2147147147147146,1.2162162162162162,1.2177177177177176,1.2192192192192193,1.2207207207207207,1.2222222222222223,1.2237237237237237,1.2252252252252251,1.2267267267267268,1.2282282282282282,1.2297297297297298,1.2312312312312312,1.2327327327327327,1.2342342342342343,1.2357357357357357,1.2372372372372373,1.2387387387387387,1.2402402402402402,1.2417417417417418,1.2432432432432432,1.2447447447447448,1.2462462462462462,1.2477477477477477,1.2492492492492493,1.2507507507507507,1.2522522522522523,1.2537537537537538,1.2552552552552552,1.2567567567567568,1.2582582582582582,1.2597597597597598,1.2612612612612613,1.2627627627627627,1.2642642642642643,1.2657657657657657,1.2672672672672673,1.2687687687687688,1.2702702702702702,1.2717717717717718,1.2732732732732732,1.2747747747747749,1.2762762762762763,1.2777777777777777,1.2792792792792793,1.2807807807807807,1.2822822822822824,1.2837837837837838,1.2852852852852852,1.2867867867867868,1.2882882882882882,1.2897897897897899,1.2912912912912913,1.2927927927927927,1.2942942942942943,1.2957957957957957,1.2972972972972974,1.2987987987987988,1.3003003003003002,1.3018018018018018,1.3033033033033032,1.3048048048048049,1.3063063063063063,1.3078078078078077,1.3093093093093093,1.3108108108108107,1.3123123123123124,1.3138138138138138,1.3153153153153152,1.3168168168168168,1.3183183183183182,1.3198198198198199,1.3213213213213213,1.3228228228228227,1.3243243243243243,1.3258258258258258,1.3273273273273274,1.3288288288288288,1.3303303303303302,1.3318318318318318,1.3333333333333333,1.334834834834835,1.3363363363363363,1.3378378378378377,1.3393393393393394,1.3408408408408408,1.3423423423423424,1.3438438438438438,1.3453453453453452,1.3468468468468469,1.3483483483483483,1.34984984984985,1.3513513513513513,1.352852852852853,1.3543543543543544,1.3558558558558558,1.3573573573573574,1.3588588588588588,1.3603603603603605,1.3618618618618619,1.3633633633633633,1.364864864864865,1.3663663663663663,1.367867867867868,1.3693693693693694,1.3708708708708708,1.3723723723723724,1.3738738738738738,1.3753753753753755,1.3768768768768769,1.3783783783783783,1.37987987987988,1.3813813813813813,1.382882882882883,1.3843843843843844,1.3858858858858858,1.3873873873873874,1.3888888888888888,1.3903903903903905,1.3918918918918919,1.3933933933933933,1.394894894894895,1.3963963963963963,1.397897897897898,1.3993993993993994,1.4009009009009008,1.4024024024024024,1.4039039039039038,1.4054054054054055,1.406906906906907,1.4084084084084083,1.40990990990991,1.4114114114114114,1.412912912912913,1.4144144144144144,1.4159159159159158,1.4174174174174174,1.4189189189189189,1.4204204204204205,1.421921921921922,1.4234234234234233,1.424924924924925,1.4264264264264264,1.427927927927928,1.4294294294294294,1.4309309309309308,1.4324324324324325,1.4339339339339339,1.4354354354354355,1.436936936936937,1.4384384384384383,1.43993993993994,1.4414414414414414,1.442942942942943,1.4444444444444444,1.4459459459459458,1.4474474474474475,1.4489489489489489,1.4504504504504505,1.451951951951952,1.4534534534534533,1.454954954954955,1.4564564564564564,1.457957957957958,1.4594594594594594,1.4609609609609608,1.4624624624624625,1.4639639639639639,1.4654654654654655,1.466966966966967,1.4684684684684683,1.46996996996997,1.4714714714714714,1.472972972972973,1.4744744744744744,1.475975975975976,1.4774774774774775,1.478978978978979,1.4804804804804805,1.481981981981982,1.4834834834834836,1.484984984984985,1.4864864864864864,1.487987987987988,1.4894894894894894,1.490990990990991,1.4924924924924925,1.493993993993994,1.4954954954954955,1.496996996996997,1.4984984984984986,1.5],\"y\":[0.0,6.70329822819313e-142,7.547242850660965e-127,4.812284301370966e-118,8.497435210193538e-112,5.953639852694998e-107,5.417555082628523e-103,1.2050229383390518e-99,9.555211282174749e-97,3.4451619546437616e-94,6.668750935977395e-92,7.8020259788634685e-90,6.021604503057604e-88,3.276765127234881e-86,1.3239675627468146e-84,4.138432548289832e-83,1.0344368237633156e-81,2.1244898942348458e-80,3.666458534367679e-79,5.418256214640983e-78,6.966520436109513e-77,7.900000819803926e-76,7.9943002408057185e-75,7.2926486034308e-74,6.050459088692601e-73,4.601137740603983e-72,3.2291957774385135e-71,2.104343879361395e-70,1.280220567623155e-69,7.306396555826238e-69,3.928821165011382e-68,1.9983236413663356e-67,9.648399593730632e-67,4.4363864266359626e-66,1.948324331343513e-65,8.194323484405796e-65,3.308632973846334e-64,1.2854160282326603e-63,4.814998139081091e-63,1.742341674249376e-62,6.101263035783559e-62,2.0709185173938725e-61,6.823691669680021e-61,2.1857409446493584e-60,6.815040951745768e-60,2.07089420897624e-59,6.13989817426249e-59,1.7780353100716483e-58,5.034176014242459e-58,1.3948617920308593e-57,3.7855587614852456e-57,1.0071249645912549e-56,2.628626260403362e-56,6.735729274889918e-56,1.695707650248849e-55,4.196735404128989e-55,1.0217266774120225e-54,2.4483550154647238e-54,5.777916186095306e-54,1.3435491327754497e-53,3.079910250912194e-53,6.963549968913932e-53,1.5535574047643773e-52,3.421482289645501e-52,7.44164991411623e-52,1.599047611894191e-51,3.395879452573121e-51,7.13010654786984e-51,1.4806075283718948e-50,3.04175957418789e-50,6.184228473542922e-50,1.244660307086878e-49,2.4805292499431435e-49,4.896485350711321e-49,9.57601251370036e-49,1.8558977386314664e-48,3.5653082176073423e-48,6.790696286429987e-48,1.2826327000823954e-47,2.403001055155014e-47,4.466410428456041e-47,8.237630880440971e-47,1.5078838777683288e-46,2.739902790262973e-46,4.942891024952552e-46,8.854819988276018e-46,1.5754435271352197e-45,2.7843218587435327e-45,4.888732113955694e-45,8.528991725651204e-45,1.4787204244021573e-44,2.5481299874645437e-44,4.364780794960791e-44,7.433014426514078e-44,1.2585883473211571e-43,2.1191973740351318e-43,3.548780931429825e-43,5.910940346128037e-43,9.793807270930765e-43,1.6143981265995354e-42,2.647762130303982e-42,4.3211593492029854e-42,7.018059688918764e-42,1.1344112181449668e-41,1.8251588435672536e-41,2.923118278238782e-41,4.660638684876912e-41,7.398343639853189e-41,1.1693627214621849e-40,1.8404513651773127e-40,2.8846526353746584e-40,4.502871799598835e-40,7.0007479095693635e-40,1.0841494614660236e-39,1.6724532223633802e-39,2.570208457277269e-39,3.935146838391925e-39,6.002880522483669e-39,9.124137911820002e-39,1.3819231668588343e-38,2.0857474977268479e-38,3.137260335425622e-38,4.702999925868531e-38,7.026822101814417e-38,1.0464679271174393e-37,1.553455083843937e-37,2.2987915073316198e-37,3.3911760174378486e-37,4.987376927621036e-37,7.312837312735615e-37,1.0690838259950285e-36,1.5583662484459848e-36,2.265054110854873e-36,3.282901183063576e-36,4.74488511496106e-36,6.839121555442871e-36,9.83103722720117e-36,1.4094187103732508e-35,2.0152981108425544e-35,2.8741780509336825e-35,4.088644211321796e-35,5.801657449199409e-35,8.211971788798869e-35,1.1595262467718014e-34,1.6333014046595878e-34,2.2951931714249964e-34,3.217759228797153e-34,4.5007323358499355e-34,6.280899261249101e-34,8.745463988160025e-34,1.215008692218602e-33,1.6843186924078375e-33,2.329861497661511e-33,3.2159496642735535e-33,4.429694652014522e-33,6.088854832024112e-33,8.35230554333661e-33,1.1433981075401186e-32,1.5621405566016388e-32,2.1300278279388478e-32,2.898703257380733e-32,3.9371877945843485e-32,5.337560046308063e-32,7.222438943817134e-32,9.754824231271426e-32,1.315101583990511e-31,1.769754712324416e-31,2.3773342364886654e-31,3.1878663080386553e-31,4.267286219505137e-31,5.702354780403037e-31,7.60705038766554e-31,1.0130866816708049e-30,1.3469568356619557e-30,1.7879108857172695e-30,2.3693618410745874e-30,3.1348611906066728e-30,4.141089156165012e-30,5.461701833207189e-30,7.192273677074919e-30,9.456638203731825e-30,1.2415011062415897e-29,1.6274382092676367e-29,2.1301791943657498e-29,2.784127096069079e-29,3.633542160184981e-29,4.7352880901870993e-29,6.162321918518166e-29,8.008123111502864e-29,1.0392307476576976e-28,1.3467733783495907e-28,1.7429488713948567e-28,2.2526232487068635e-28,2.907450779233721e-28,3.747676405824144e-28,4.824403442965258e-28,6.202443251010305e-28,7.963892023654454e-28,1.0212614979798782e-27,1.307986167105654e-27,1.673128968745027e-27,2.137574006893547e-27,2.727618901826228e-27,3.47634004845725e-27,4.4252927015123605e-27,5.626625702376761e-27,7.145709145929696e-27,9.064395925212761e-27,1.1485065794240861e-26,1.4535634453441196e-26,1.8375751518148964e-26,2.320446168670723e-26,2.9269664924593217e-26,3.6879786370459427e-26,4.6418157778544827e-26,5.836072304894693e-26,7.329781486700419e-26,9.196091261306735e-26,1.152554894470843e-25,1.443012959436746e-25,1.8048171740049118e-25,2.2550419221120234e-25,2.8147410175805837e-25,3.509850528225548e-25,4.372290890987293e-25,5.4413111000409945e-25,6.765126676639775e-25,8.40291386578818e-25,1.042723540678758e-24,1.2926988716415175e-24,1.6010985909730839e-24,1.9812297364400124e-24,2.4493517223175026e-24,3.0253141172541685e-24,3.733328503797597e-24,4.602901838895162e-24,5.669964186042232e-24,6.978230194234148e-24,8.580841454066107e-24,1.0542346100723145e-23,1.2941083033155796e-23,1.587205120400166e-23,1.9450359989966014e-23,2.3815375130201078e-23,2.913569665396139e-23,3.561513123647572e-23,4.3499852261849716e-23,5.308697740223048e-23,6.47348367633014e-23,7.887525579457777e-23,9.602823762383116e-23,1.1681950089529168e-22,1.420014135002369e-22,1.7247796204670342e-22,2.0933451416531802e-22,2.5387326888365723e-22,3.076554529361004e-22,3.7255151222950236e-22,4.508007726869271e-22,5.4508230908692135e-22,6.5859907100783725e-22,7.951776793836714e-22,9.593867345683523e-22,1.1566769777773232e-21,1.3935472346276808e-21,1.6777407565425724e-21,2.018477379642248e-21,2.4267278607007106e-21,2.9155378482129005e-21,3.500410229541929e-21,4.1997560926165814e-21,5.0354262875962e-21,6.0333376106759665e-21,7.224210005508302e-21,8.644433941606641e-21,1.0337090346001626e-20,1.2353149206575855e-20,1.4752877316153312e-20,1.7607490681800166e-20,2.1001092994836592e-20,2.503294837156185e-20,2.9820144480206714e-20,3.5500711335657585e-20,4.223727166557622e-20,5.022131105445281e-20,5.967817031413966e-20,7.087287900805521e-20,8.411696811232002e-20,9.977642182289567e-20,1.1828095396309072e-19,1.401348238262323e-19,1.6592944019586512e-19,1.963580413986057e-19,2.3223278433848697e-19,2.745046274272158e-19,3.242864521777947e-19,3.828799371350322e-19,4.518067771064621e-19,5.328449318500275e-19,6.280706932120857e-19,7.399074801698168e-19,8.711824095837526e-19,1.025191849291522e-18,1.2057773424134089e-18,1.4174135007599028e-18,1.6653097048442145e-18,1.9555277225719473e-18,2.295117673162527e-18,2.692275122881893e-18,3.1565225111688028e-18,3.698918576985406e-18,4.332299994021611e-18,5.07156003914221e-18,5.933969821858209e-18,6.939548405776313e-18,8.111489069694523e-18,9.476650001834177e-18,1.1066118913390075e-17,1.291586241709538e-17,1.50674725656043e-17,1.756902470888948e-17,2.0476062838540972e-17,2.385273087290337e-17,2.7773070937425176e-17,3.232251265162643e-17,3.759958079524894e-17,4.3717852544953574e-17,5.080819981034932e-17,5.902135712219738e-17,6.85308611138569e-17,7.953641397649347e-17,9.226773045705904e-17,1.0698893611697644e-16,1.2400359380260636e-16,1.4366044573703054e-16,1.6635997048439177e-16,1.925618674403544e-16,2.227935966663572e-16,2.576601190348075e-16,2.978550010424992e-16,3.441730705614379e-16,3.9752483455299405e-16,4.589528977289838e-16,5.296506527049675e-16,6.109835478116948e-16,7.045132789113068e-16,8.120252968815247e-16,9.3556007351587e-16,1.0774486261561171e-15,1.2403528662313993e-15,1.4273114099109467e-15,1.6417915713031784e-15,1.8877483511654318e-15,2.1696913381846296e-15,2.492760556968558e-15,2.8628124284972295e-15,3.2865171567129335e-15,3.7714690211168566e-15,4.3263112418884514e-15,4.960877293625084e-15,5.686350779000977e-15,6.515446237579522e-15,7.462613561044682e-15,8.544269018050944e-15,9.779056264014646e-15,1.1188141128106367e-14,1.2795544436838568e-14,1.4628517656741552e-14,1.6717966724280464e-14,1.9098930086589783e-14,2.1811117710020384e-14,2.4899518633687394e-14,2.8415085562459026e-14,3.241550601908661e-14,3.6966070720852014e-14,4.2140651126187655e-14,4.802279952606573e-14,5.470698665107662e-14,6.229999354650261e-14,7.09224764553442e-14,8.071072566684882e-14,9.181864176056149e-14,1.0441995543293109e-13,1.1871072016600277e-13,1.349121104210559e-13,1.5327356185393604e-13,1.7407629429494005e-13,1.9763726296419937e-13,2.2431358865517098e-13,2.5450752347300084e-13,2.88672015227581e-13,3.273169408220031e-13,3.710160870289133e-13,4.204149659953299e-13,4.762395627583968e-13,5.393061231006599e-13,6.105321023368436e-13,6.909484092429593e-13,7.817130944527375e-13,8.841266494168339e-13,9.996491006288875e-13,1.1299191044539092e-12,1.27677527077675e-12,1.4422799690493376e-12,1.6287458984189929e-12,1.838765734764067e-12,2.075245201947234e-12,2.3414399527946823e-12,2.6409966875894283e-12,2.9779989846668154e-12,3.357018369477494e-12,3.783171205777896e-12,4.262182055948835e-12,4.8004542275034866e-12,5.4051483002782215e-12,6.084269514368992e-12,6.846764993448201e-12,7.70263188251708e-12,8.663037594510798e-12,9.740453487517822e-12,1.0948803434929303e-11,1.230362890599875e-11,1.382227234539816e-11,1.552408082917972e-11,1.7430632182734603e-11,1.9565985975848355e-11,2.1956962063027788e-11,2.4633449616014447e-11,2.7628749902655397e-11,3.097995640466599e-11,3.472837623941154e-11,3.891999726122935e-11,4.360600566929857e-11,4.884335944618561e-11,5.4695423498029604e-11,6.123267296879217e-11,6.853347186278108e-11,7.668493483683506e-11,8.578388082341808e-11,9.593788802470323e-11,1.0726646078330657e-10,1.1990231989662803e-10,1.3399282910658586e-10,1.497015717764849e-10,1.6721009317152428e-10,1.8671982530121544e-10,2.0845421297485248e-10,2.3266106157709642e-10,2.5961512910804825e-10,2.896209872657745e-10,3.230161787980147e-10,3.60174701035984e-10,4.0151084846474333e-10,4.474834504106555e-10,4.98600543459095e-10,5.554245220862827e-10,6.185778152265421e-10,6.887491411392362e-10,7.667003980175136e-10,8.532742533435104e-10,9.494025010789413e-10,1.0561152624356307e-09,1.1745511132560158e-09,1.3059682289929303e-09,1.4517566469891665e-09,1.6134517552757945e-09,1.792749127510349e-09,1.9915208350520647e-09,2.2118333795865623e-09,2.455967403288422e-09,2.726439348329384e-09,3.0260252537194e-09,3.3577868951465633e-09,3.7251004927552437e-09,4.131688232859369e-09,4.581652872551194e-09,5.079515721213162e-09,5.630258320285347e-09,6.239368172421542e-09,6.912888903677688e-09,7.657475277795086e-09,8.480453520238196e-09,9.389887451748631e-09,1.0394650976983997e-08,1.1504507523774239e-08,1.2730197082912213e-08,1.4083531557603326e-08,1.5577499196233703e-08,1.7226378952256376e-08,1.9045865691444414e-08,2.1053207249891428e-08,2.3267354436566875e-08,2.5709125172717627e-08,2.8401384067337115e-08,3.1369238844390665e-08,3.4640255163987084e-08,3.8244691517286436e-08,4.2215756024369906e-08,4.658988712693335e-08,5.140706034401707e-08,5.67111234509158e-08,6.255016264967892e-08,6.897690252573182e-08,7.604914283101763e-08,8.383023540042004e-08,9.238960479790487e-08,1.0180331660288415e-07,1.121546975879955e-07,1.23535012409682e-07,1.360442018336028e-07,1.497916879523393e-07,1.6489725232453462e-07,1.814919934758461e-07,1.9971937075720059e-07,2.1973634215607482e-07,2.417146043084159e-07,2.658419436643782e-07,2.923237085251589e-07,3.213844124973682e-07,3.5326948080701393e-07,3.8824715188734874e-07,4.2661054770611007e-07,4.6867992743529953e-07,5.148051403002767e-07,5.653682947762804e-07,6.207866627447039e-07,6.815158387817922e-07,7.480531764397076e-07,8.209415252083945e-07,9.007732938180377e-07,9.881948676793181e-07,1.0839114105659853e-06,1.1886920831371655e-06,1.3033757135971078e-06,1.4288769586982224e-06,1.5661929964449345e-06,1.7164107952541146e-06,1.8807150080020065e-06,2.06039654335022e-06,2.2568618710333128e-06,2.471643122405439e-06,2.7064090525417346e-06,2.9629769355757267e-06,3.2433254707631295e-06,3.549608783047041e-06,3.884171608653678e-06,4.2495657635596715e-06,4.648568000543511e-06,5.084199369018623e-06,5.559746201020061e-06,6.078782856566958e-06,6.6451963722820165e-06,7.263213168614774e-06,7.937427983365302e-06,8.672835212552373e-06,9.474862853985362e-06,1.0349409264385814e-05,1.1302882957546753e-05,1.234224568893305e-05,1.3475059091477007e-05,1.4709535148060696e-05,1.605459080859708e-05,1.751990708370125e-05,1.91159929728411e-05,2.085425461282266e-05,2.2747070062400208e-05,2.480787017115866e-05,2.7051226015537987e-05,2.9492943422184878e-05,3.215016513910058e-05,3.504148125812751e-05,3.818704853886045e-05,4.1608719333977473e-05,4.533018086957908e-05,4.9377105691966e-05,5.377731415406048e-05,5.856094988142811e-05,6.37606692293108e-05,6.941184581898973e-05,7.55527913241941e-05,8.222499376716837e-05,8.947337467885984e-05,9.734656658011345e-05,0.00010589721235039224,0.00011518228816809802,0.00012526345183335006,0.0001362074184191556,0.0001480863653428137,0.0001609783691053578,0.0001749678761140648,0.00019014621018323928,0.00020661211950037065,0.00022447236605187184,0.0002438423607239405,0.0002648468475310913,0.0002876206406804034,0.00031230941845110686,0.000339070578162428,0.00036807415681564155,0.00039950382233134435,0.00043355794066401304,0.0004704507244593535,0.0005104134693339262,0.0005536958842980296,0.0006005675233151124,0.000651319325499812,0.0007062652719963917,0.0007657441681621063,0.0008301215603009459,0.000899791796856942,0.0009751802446912768,0.0010567456718249858,0.0011449828088469383,0.001240425102057536,0.0013436476723490132,0.0014552704948249846,0.0015759618152224528,0.0017064418203442122,0.0018474865809273884,0.001999932286674333,0.0021646797945719873,0.0023426995131063805,0.002535036646576852,0.0027428168254115814,0.0029672521502054072,0.0032096476791361947,0.0034714083905009047,0.0037540466543131007,0.00405919024928033,0.004388590964002313,0.004744133823921713,0.005127846988455635,0.005541912365789617,0.005988676996114092,0.006470665257581193,0.006990591952988651,0.0075513763392111855,0.008156157165625677,0.008808308792341998,0.009511458463889899,0.010269504819164527,0.01108663772398269,0.011967359518434306,0.012916507777518405,0.013939279690225681,0.01504125816933552,0.016228439811845075,0.017507264837978237,0.018884649145407495,0.020368018624502326,0.02196534589019017,0.02368518959653726,0.025536736511185543,0.027529846538714597,0.029675100894599127,0.03198385364483819,0.03446828684076908,0.03714146949368724,0.04001742065024905,0.043111176846890364,0.046438864239840005,0.05001777572706212,0.053866453399120995,0.05800477667831572,0.06245405652897951,0.06723713614703031,0.07237849856347478,0.0,0.0,0.0,0.0,0.0,0.0,0.0,0.0,0.0,0.0,0.0,0.0,0.0,0.0,0.0,0.0,0.0,0.0,0.0,0.0,0.0,0.0,0.0,0.0,0.0,0.0,0.0,0.0,0.0,0.0,0.0,0.0,0.0,0.0,0.0,0.0,0.0,0.0,0.0,0.0,0.0,0.0,0.0,0.0,0.0,0.0,0.0,0.0,0.0,0.0,0.0,0.0,0.0,0.0,0.0,0.0,0.0,0.0,0.0,0.0,0.0,0.0,0.0,0.0,0.0,0.0,0.0,0.0,0.0,0.0,0.0,0.0,0.0,0.0,0.0,0.0,0.0,0.0,0.0,0.0,0.0,0.0,0.0,0.0,0.0,0.0,0.0,0.0,0.0,0.0,0.0,0.0,0.0,0.0,0.0,0.0,0.0,0.0,0.0,0.0,0.0,0.0,0.0,0.0,0.0,0.0,0.0,0.0,0.0,0.0,0.0,0.0,0.0,0.0,0.0,0.0,0.0,0.0,0.0,0.0,0.0,0.0,0.0,0.0,0.0,0.0,0.0,0.0,0.0,0.0,0.0,0.0,0.0,0.0,0.0,0.0,0.0,0.0,0.0,0.0,0.0,0.0,0.0,0.0,0.0,0.0,0.0,0.0,0.0,0.0,0.0,0.0,0.0,0.0,0.0,0.0,0.0,0.0,0.0,0.0,0.0,0.0,0.0,0.0,0.0,0.0,0.0,0.0,0.0,0.0,0.0,0.0,0.0,0.0,0.0,0.0,0.0,0.0,0.0,0.0,0.0,0.0,0.0,0.0,0.0,0.0,0.0,0.0,0.0,0.0,0.0,0.0,0.0,0.0,0.0,0.0,0.0,0.0,0.0,0.0,0.0,0.0,0.0,0.0,0.0,0.0,0.0,0.0,0.0,0.0,0.0,0.0,0.0,0.0,0.0,0.0,0.0,0.0,0.0,0.0,0.0,0.0,0.0,0.0,0.0,0.0,0.0,0.0,0.0,0.0,0.0,0.0,0.0,0.0,0.0,0.0,0.0,0.0,0.0,0.0,0.0,0.0,0.0,0.0,0.0,0.0,0.0,0.0,0.0,0.0,0.0,0.0,0.0,0.0,0.0,0.0,0.0,0.0,0.0,0.0,0.0,0.0,0.0,0.0,0.0,0.0,0.0,0.0,0.0,0.0,0.0,0.0,0.0,0.0,0.0,0.0,0.0,0.0,0.0,0.0,0.0,0.0,0.0,0.0,0.0,0.0,0.0,0.0,0.0,0.0,0.0,0.0,0.0,0.0,0.0,0.0,0.0,0.0,0.0,0.0,0.0,0.0,0.0,0.0,0.0,0.0,0.0,0.0,0.0,0.0,0.0,0.0,0.0,0.0,0.0,0.0,0.0,0.0,0.0,0.0,0.0,0.0,0.0,0.0,0.0,0.0,0.0,0.0,0.0,0.0,0.0,0.0,0.0],\"type\":\"scatter\"}],                        {\"template\":{\"data\":{\"bar\":[{\"error_x\":{\"color\":\"#2a3f5f\"},\"error_y\":{\"color\":\"#2a3f5f\"},\"marker\":{\"line\":{\"color\":\"#E5ECF6\",\"width\":0.5},\"pattern\":{\"fillmode\":\"overlay\",\"size\":10,\"solidity\":0.2}},\"type\":\"bar\"}],\"barpolar\":[{\"marker\":{\"line\":{\"color\":\"#E5ECF6\",\"width\":0.5},\"pattern\":{\"fillmode\":\"overlay\",\"size\":10,\"solidity\":0.2}},\"type\":\"barpolar\"}],\"carpet\":[{\"aaxis\":{\"endlinecolor\":\"#2a3f5f\",\"gridcolor\":\"white\",\"linecolor\":\"white\",\"minorgridcolor\":\"white\",\"startlinecolor\":\"#2a3f5f\"},\"baxis\":{\"endlinecolor\":\"#2a3f5f\",\"gridcolor\":\"white\",\"linecolor\":\"white\",\"minorgridcolor\":\"white\",\"startlinecolor\":\"#2a3f5f\"},\"type\":\"carpet\"}],\"choropleth\":[{\"colorbar\":{\"outlinewidth\":0,\"ticks\":\"\"},\"type\":\"choropleth\"}],\"contour\":[{\"colorbar\":{\"outlinewidth\":0,\"ticks\":\"\"},\"colorscale\":[[0.0,\"#0d0887\"],[0.1111111111111111,\"#46039f\"],[0.2222222222222222,\"#7201a8\"],[0.3333333333333333,\"#9c179e\"],[0.4444444444444444,\"#bd3786\"],[0.5555555555555556,\"#d8576b\"],[0.6666666666666666,\"#ed7953\"],[0.7777777777777778,\"#fb9f3a\"],[0.8888888888888888,\"#fdca26\"],[1.0,\"#f0f921\"]],\"type\":\"contour\"}],\"contourcarpet\":[{\"colorbar\":{\"outlinewidth\":0,\"ticks\":\"\"},\"type\":\"contourcarpet\"}],\"heatmap\":[{\"colorbar\":{\"outlinewidth\":0,\"ticks\":\"\"},\"colorscale\":[[0.0,\"#0d0887\"],[0.1111111111111111,\"#46039f\"],[0.2222222222222222,\"#7201a8\"],[0.3333333333333333,\"#9c179e\"],[0.4444444444444444,\"#bd3786\"],[0.5555555555555556,\"#d8576b\"],[0.6666666666666666,\"#ed7953\"],[0.7777777777777778,\"#fb9f3a\"],[0.8888888888888888,\"#fdca26\"],[1.0,\"#f0f921\"]],\"type\":\"heatmap\"}],\"heatmapgl\":[{\"colorbar\":{\"outlinewidth\":0,\"ticks\":\"\"},\"colorscale\":[[0.0,\"#0d0887\"],[0.1111111111111111,\"#46039f\"],[0.2222222222222222,\"#7201a8\"],[0.3333333333333333,\"#9c179e\"],[0.4444444444444444,\"#bd3786\"],[0.5555555555555556,\"#d8576b\"],[0.6666666666666666,\"#ed7953\"],[0.7777777777777778,\"#fb9f3a\"],[0.8888888888888888,\"#fdca26\"],[1.0,\"#f0f921\"]],\"type\":\"heatmapgl\"}],\"histogram\":[{\"marker\":{\"pattern\":{\"fillmode\":\"overlay\",\"size\":10,\"solidity\":0.2}},\"type\":\"histogram\"}],\"histogram2d\":[{\"colorbar\":{\"outlinewidth\":0,\"ticks\":\"\"},\"colorscale\":[[0.0,\"#0d0887\"],[0.1111111111111111,\"#46039f\"],[0.2222222222222222,\"#7201a8\"],[0.3333333333333333,\"#9c179e\"],[0.4444444444444444,\"#bd3786\"],[0.5555555555555556,\"#d8576b\"],[0.6666666666666666,\"#ed7953\"],[0.7777777777777778,\"#fb9f3a\"],[0.8888888888888888,\"#fdca26\"],[1.0,\"#f0f921\"]],\"type\":\"histogram2d\"}],\"histogram2dcontour\":[{\"colorbar\":{\"outlinewidth\":0,\"ticks\":\"\"},\"colorscale\":[[0.0,\"#0d0887\"],[0.1111111111111111,\"#46039f\"],[0.2222222222222222,\"#7201a8\"],[0.3333333333333333,\"#9c179e\"],[0.4444444444444444,\"#bd3786\"],[0.5555555555555556,\"#d8576b\"],[0.6666666666666666,\"#ed7953\"],[0.7777777777777778,\"#fb9f3a\"],[0.8888888888888888,\"#fdca26\"],[1.0,\"#f0f921\"]],\"type\":\"histogram2dcontour\"}],\"mesh3d\":[{\"colorbar\":{\"outlinewidth\":0,\"ticks\":\"\"},\"type\":\"mesh3d\"}],\"parcoords\":[{\"line\":{\"colorbar\":{\"outlinewidth\":0,\"ticks\":\"\"}},\"type\":\"parcoords\"}],\"pie\":[{\"automargin\":true,\"type\":\"pie\"}],\"scatter\":[{\"marker\":{\"colorbar\":{\"outlinewidth\":0,\"ticks\":\"\"}},\"type\":\"scatter\"}],\"scatter3d\":[{\"line\":{\"colorbar\":{\"outlinewidth\":0,\"ticks\":\"\"}},\"marker\":{\"colorbar\":{\"outlinewidth\":0,\"ticks\":\"\"}},\"type\":\"scatter3d\"}],\"scattercarpet\":[{\"marker\":{\"colorbar\":{\"outlinewidth\":0,\"ticks\":\"\"}},\"type\":\"scattercarpet\"}],\"scattergeo\":[{\"marker\":{\"colorbar\":{\"outlinewidth\":0,\"ticks\":\"\"}},\"type\":\"scattergeo\"}],\"scattergl\":[{\"marker\":{\"colorbar\":{\"outlinewidth\":0,\"ticks\":\"\"}},\"type\":\"scattergl\"}],\"scattermapbox\":[{\"marker\":{\"colorbar\":{\"outlinewidth\":0,\"ticks\":\"\"}},\"type\":\"scattermapbox\"}],\"scatterpolar\":[{\"marker\":{\"colorbar\":{\"outlinewidth\":0,\"ticks\":\"\"}},\"type\":\"scatterpolar\"}],\"scatterpolargl\":[{\"marker\":{\"colorbar\":{\"outlinewidth\":0,\"ticks\":\"\"}},\"type\":\"scatterpolargl\"}],\"scatterternary\":[{\"marker\":{\"colorbar\":{\"outlinewidth\":0,\"ticks\":\"\"}},\"type\":\"scatterternary\"}],\"surface\":[{\"colorbar\":{\"outlinewidth\":0,\"ticks\":\"\"},\"colorscale\":[[0.0,\"#0d0887\"],[0.1111111111111111,\"#46039f\"],[0.2222222222222222,\"#7201a8\"],[0.3333333333333333,\"#9c179e\"],[0.4444444444444444,\"#bd3786\"],[0.5555555555555556,\"#d8576b\"],[0.6666666666666666,\"#ed7953\"],[0.7777777777777778,\"#fb9f3a\"],[0.8888888888888888,\"#fdca26\"],[1.0,\"#f0f921\"]],\"type\":\"surface\"}],\"table\":[{\"cells\":{\"fill\":{\"color\":\"#EBF0F8\"},\"line\":{\"color\":\"white\"}},\"header\":{\"fill\":{\"color\":\"#C8D4E3\"},\"line\":{\"color\":\"white\"}},\"type\":\"table\"}]},\"layout\":{\"annotationdefaults\":{\"arrowcolor\":\"#2a3f5f\",\"arrowhead\":0,\"arrowwidth\":1},\"autotypenumbers\":\"strict\",\"coloraxis\":{\"colorbar\":{\"outlinewidth\":0,\"ticks\":\"\"}},\"colorscale\":{\"diverging\":[[0,\"#8e0152\"],[0.1,\"#c51b7d\"],[0.2,\"#de77ae\"],[0.3,\"#f1b6da\"],[0.4,\"#fde0ef\"],[0.5,\"#f7f7f7\"],[0.6,\"#e6f5d0\"],[0.7,\"#b8e186\"],[0.8,\"#7fbc41\"],[0.9,\"#4d9221\"],[1,\"#276419\"]],\"sequential\":[[0.0,\"#0d0887\"],[0.1111111111111111,\"#46039f\"],[0.2222222222222222,\"#7201a8\"],[0.3333333333333333,\"#9c179e\"],[0.4444444444444444,\"#bd3786\"],[0.5555555555555556,\"#d8576b\"],[0.6666666666666666,\"#ed7953\"],[0.7777777777777778,\"#fb9f3a\"],[0.8888888888888888,\"#fdca26\"],[1.0,\"#f0f921\"]],\"sequentialminus\":[[0.0,\"#0d0887\"],[0.1111111111111111,\"#46039f\"],[0.2222222222222222,\"#7201a8\"],[0.3333333333333333,\"#9c179e\"],[0.4444444444444444,\"#bd3786\"],[0.5555555555555556,\"#d8576b\"],[0.6666666666666666,\"#ed7953\"],[0.7777777777777778,\"#fb9f3a\"],[0.8888888888888888,\"#fdca26\"],[1.0,\"#f0f921\"]]},\"colorway\":[\"#636efa\",\"#EF553B\",\"#00cc96\",\"#ab63fa\",\"#FFA15A\",\"#19d3f3\",\"#FF6692\",\"#B6E880\",\"#FF97FF\",\"#FECB52\"],\"font\":{\"color\":\"#2a3f5f\"},\"geo\":{\"bgcolor\":\"white\",\"lakecolor\":\"white\",\"landcolor\":\"#E5ECF6\",\"showlakes\":true,\"showland\":true,\"subunitcolor\":\"white\"},\"hoverlabel\":{\"align\":\"left\"},\"hovermode\":\"closest\",\"mapbox\":{\"style\":\"light\"},\"paper_bgcolor\":\"white\",\"plot_bgcolor\":\"#E5ECF6\",\"polar\":{\"angularaxis\":{\"gridcolor\":\"white\",\"linecolor\":\"white\",\"ticks\":\"\"},\"bgcolor\":\"#E5ECF6\",\"radialaxis\":{\"gridcolor\":\"white\",\"linecolor\":\"white\",\"ticks\":\"\"}},\"scene\":{\"xaxis\":{\"backgroundcolor\":\"#E5ECF6\",\"gridcolor\":\"white\",\"gridwidth\":2,\"linecolor\":\"white\",\"showbackground\":true,\"ticks\":\"\",\"zerolinecolor\":\"white\"},\"yaxis\":{\"backgroundcolor\":\"#E5ECF6\",\"gridcolor\":\"white\",\"gridwidth\":2,\"linecolor\":\"white\",\"showbackground\":true,\"ticks\":\"\",\"zerolinecolor\":\"white\"},\"zaxis\":{\"backgroundcolor\":\"#E5ECF6\",\"gridcolor\":\"white\",\"gridwidth\":2,\"linecolor\":\"white\",\"showbackground\":true,\"ticks\":\"\",\"zerolinecolor\":\"white\"}},\"shapedefaults\":{\"line\":{\"color\":\"#2a3f5f\"}},\"ternary\":{\"aaxis\":{\"gridcolor\":\"white\",\"linecolor\":\"white\",\"ticks\":\"\"},\"baxis\":{\"gridcolor\":\"white\",\"linecolor\":\"white\",\"ticks\":\"\"},\"bgcolor\":\"#E5ECF6\",\"caxis\":{\"gridcolor\":\"white\",\"linecolor\":\"white\",\"ticks\":\"\"}},\"title\":{\"x\":0.05},\"xaxis\":{\"automargin\":true,\"gridcolor\":\"white\",\"linecolor\":\"white\",\"ticks\":\"\",\"title\":{\"standoff\":15},\"zerolinecolor\":\"white\",\"zerolinewidth\":2},\"yaxis\":{\"automargin\":true,\"gridcolor\":\"white\",\"linecolor\":\"white\",\"ticks\":\"\",\"title\":{\"standoff\":15},\"zerolinecolor\":\"white\",\"zerolinewidth\":2}}},\"xaxis\":{\"anchor\":\"y\",\"domain\":[0.0,1.0],\"title\":{\"text\":\"x\"}},\"yaxis\":{\"anchor\":\"x\",\"domain\":[0.0,1.0],\"title\":{\"text\":\"y\"}},\"legend\":{\"tracegroupgap\":0},\"title\":{\"text\":\"Comparison of the true distribution and the bootstrap replications\"},\"barmode\":\"relative\"},                        {\"responsive\": true}                    ).then(function(){\n                            \nvar gd = document.getElementById('9f888408-5c03-481a-84e2-3765bbf07401');\nvar x = new MutationObserver(function (mutations, observer) {{\n        var display = window.getComputedStyle(gd).display;\n        if (!display || display === 'none') {{\n            console.log([gd, 'removed!']);\n            Plotly.purge(gd);\n            observer.disconnect();\n        }}\n}});\n\n// Listen for the removal of the full notebook cells\nvar notebookContainer = gd.closest('#notebook-container');\nif (notebookContainer) {{\n    x.observe(notebookContainer, {childList: true});\n}}\n\n// Listen for the clearing of the current output cell\nvar outputEl = gd.closest('.output');\nif (outputEl) {{\n    x.observe(outputEl, {childList: true});\n}}\n\n                        })                };                });            </script>        </div>"
     },
     "metadata": {},
     "output_type": "display_data"
    }
   ],
   "source": [
    "x_axis_bar = np.linspace(0,1.5,100)\n",
    "bootstrap_hist, _ = np.histogram(bootstrap_estimations, bins = 100, range = [0,1.5])\n",
    "bootstrap_hist = bootstrap_hist / sum(bootstrap_hist)\n",
    "fig = px.bar(\n",
    "    x = x_axis_bar, y = bootstrap_hist,\n",
    "    title = 'Comparison of the true distribution and the bootstrap replications'\n",
    ")\n",
    "fig.add_trace(go.Scatter(\n",
    "    x = x_axis, y = theta_real_pdf,\n",
    "))\n",
    "fig.show()"
   ]
  },
  {
   "cell_type": "code",
   "execution_count": 31,
   "metadata": {
    "pycharm": {
     "name": "#%%\n"
    }
   },
   "outputs": [],
   "source": []
  },
  {
   "cell_type": "code",
   "execution_count": null,
   "outputs": [],
   "source": [],
   "metadata": {
    "collapsed": false,
    "pycharm": {
     "name": "#%%\n"
    }
   }
  }
 ],
 "metadata": {
  "kernelspec": {
   "display_name": "Python 3",
   "language": "python",
   "name": "python3"
  },
  "language_info": {
   "codemirror_mode": {
    "name": "ipython",
    "version": 3
   },
   "file_extension": ".py",
   "mimetype": "text/x-python",
   "name": "python",
   "nbconvert_exporter": "python",
   "pygments_lexer": "ipython3",
   "version": "3.8.3"
  }
 },
 "nbformat": 4,
 "nbformat_minor": 1
}
