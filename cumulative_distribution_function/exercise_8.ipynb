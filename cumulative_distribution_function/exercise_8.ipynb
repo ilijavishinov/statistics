{
 "cells": [
  {
   "cell_type": "markdown",
   "source": [
    "## All of Statistics - Chapter 7 Exercise 8\n",
    "Get the data on eruption times and waiting times between eruptions of the Old Faithful geyser from the website. Estimate the mean waiting time and give a standard error for the estimate. Also, give a 90 percent confidence interval for the mean waiting time. Now estimate the median waiting time. In the next chapter we will see how to get the standard error for the median.\n",
    "\n",
    "# Requirements\n",
    "- Estimate the mean waiting time\n",
    "- Give a standard error for the estimate\n",
    "- Give a 90% confidence interval for the mean waiting time\n",
    "- Estimate the median waiting time"
   ],
   "metadata": {
    "collapsed": false
   }
  },
  {
   "cell_type": "code",
   "execution_count": 7,
   "metadata": {
    "collapsed": true
   },
   "outputs": [],
   "source": [
    "import numpy as np\n",
    "import pandas as pd\n",
    "import plotly.express as px\n",
    "import plotly.graph_objects as go\n",
    "from scipy.stats import norm\n",
    "\n",
    "dataset = pd.read_csv('../data/geysers.csv')"
   ]
  },
  {
   "cell_type": "markdown",
   "source": [
    "### Task 1: Estimate the mean waiting time"
   ],
   "metadata": {
    "collapsed": false
   }
  },
  {
   "cell_type": "code",
   "execution_count": 8,
   "outputs": [
    {
     "name": "stdout",
     "output_type": "stream",
     "text": [
      "70.8970588235294\n"
     ]
    }
   ],
   "source": [
    "# sample for waiting times\n",
    "sample = dataset['waiting'].to_numpy()\n",
    "n = len(sample)\n",
    "\n",
    "# mean estimate\n",
    "theta_hat = sample.mean()\n",
    "print(theta_hat)"
   ],
   "metadata": {
    "collapsed": false,
    "pycharm": {
     "name": "#%%\n"
    }
   }
  },
  {
   "cell_type": "markdown",
   "source": [
    "### Task 2: Give a standard error for the estimate"
   ],
   "metadata": {
    "collapsed": false
   }
  },
  {
   "cell_type": "code",
   "execution_count": 9,
   "outputs": [
    {
     "name": "stdout",
     "output_type": "stream",
     "text": [
      "0.824316366377517\n"
     ]
    }
   ],
   "source": [
    "se_hat = np.std(sample,ddof = 1) / np.sqrt(n)\n",
    "print(se_hat)"
   ],
   "metadata": {
    "collapsed": false,
    "pycharm": {
     "name": "#%%\n"
    }
   }
  },
  {
   "cell_type": "markdown",
   "source": [
    "### Task 3: Give a 90% confidence interval for the mean waiting time"
   ],
   "metadata": {
    "collapsed": false
   }
  },
  {
   "cell_type": "code",
   "execution_count": 10,
   "outputs": [
    {
     "name": "stdout",
     "output_type": "stream",
     "text": [
      "69.54117905853789 72.25293858852092\n"
     ]
    }
   ],
   "source": [
    "alpha = 0.1\n",
    "upper_bound = theta_hat + se_hat * norm.ppf(1 - alpha/2)\n",
    "lower_bound = theta_hat - se_hat * norm.ppf(1 - alpha/2)\n",
    "print(lower_bound, upper_bound)"
   ],
   "metadata": {
    "collapsed": false,
    "pycharm": {
     "name": "#%%\n"
    }
   }
  },
  {
   "cell_type": "code",
   "execution_count": 11,
   "outputs": [
    {
     "name": "stdout",
     "output_type": "stream",
     "text": [
      "Theta_hat = 70.8970588235294\n",
      "se(theta_hat) = 0.824316366377517\n",
      "95% CI: (69.54117905853789, 72.25293858852092)\n"
     ]
    }
   ],
   "source": [
    "print(f'Theta_hat = {theta_hat}')\n",
    "print(f'se(theta_hat) = {se_hat}')\n",
    "print(f'95% CI: ({lower_bound}, {upper_bound})')"
   ],
   "metadata": {
    "collapsed": false,
    "pycharm": {
     "name": "#%%\n"
    }
   }
  },
  {
   "cell_type": "markdown",
   "source": [
    "### Task 4: Estimate the median waiting time"
   ],
   "metadata": {
    "collapsed": false,
    "pycharm": {
     "name": "#%% md\n"
    }
   }
  },
  {
   "cell_type": "code",
   "execution_count": 13,
   "outputs": [
    {
     "name": "stdout",
     "output_type": "stream",
     "text": [
      "median_hat: 76.0\n"
     ]
    }
   ],
   "source": [
    "median_hat = np.median(sample)\n",
    "print(f'median_hat: {median_hat}')"
   ],
   "metadata": {
    "collapsed": false,
    "pycharm": {
     "name": "#%%\n"
    }
   }
  },
  {
   "cell_type": "code",
   "execution_count": 12,
   "outputs": [],
   "source": [],
   "metadata": {
    "collapsed": false,
    "pycharm": {
     "name": "#%%\n"
    }
   }
  },
  {
   "cell_type": "code",
   "execution_count": null,
   "outputs": [],
   "source": [],
   "metadata": {
    "collapsed": false,
    "pycharm": {
     "name": "#%%\n"
    }
   }
  }
 ],
 "metadata": {
  "kernelspec": {
   "display_name": "Python 3",
   "language": "python",
   "name": "python3"
  },
  "language_info": {
   "codemirror_mode": {
    "name": "ipython",
    "version": 2
   },
   "file_extension": ".py",
   "mimetype": "text/x-python",
   "name": "python",
   "nbconvert_exporter": "python",
   "pygments_lexer": "ipython2",
   "version": "2.7.6"
  }
 },
 "nbformat": 4,
 "nbformat_minor": 0
}
