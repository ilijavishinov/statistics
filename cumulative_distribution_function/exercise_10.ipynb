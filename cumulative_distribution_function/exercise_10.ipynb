{
 "cells": [
  {
   "cell_type": "markdown",
   "source": [
    "## All of Statistics - Chapter 7 Exercise 10\n",
    "\n",
    "In 1975, an experiment was conducted to see if cloud seeding produced rainfall. 26 clouds were seeded with silver nitrate and 26 were not. The decision to seed or not was made at random. Get the data from http://lib.stat.cmu.edu/DASL/Stories/CloudSeeding.html Let θ be the difference in the mean precipitation from the two groups. Estimate θ. Estimate the standard error of the estimate and produce a 95 percent confidence interval.\n",
    "\n",
    "### Requirements:\n",
    "- Estimate θ\n",
    "- Estimate the standard error of the estimate\n",
    "- Produce a 95 percent confidence interval"
   ],
   "metadata": {
    "collapsed": false
   }
  },
  {
   "cell_type": "code",
   "execution_count": 1,
   "metadata": {},
   "outputs": [],
   "source": [
    "import numpy as np\n",
    "import pandas as pd\n",
    "import plotly.express as px\n",
    "import plotly.graph_objects as go\n",
    "from scipy.stats import norm\n",
    "\n",
    "dataset = pd.read_csv('../data/cloud_seeding.csv')"
   ]
  },
  {
   "cell_type": "markdown",
   "metadata": {
    "pycharm": {
     "name": "#%% md\n"
    }
   },
   "source": [
    "In 1975, an experiment was conducted to see if cloud seeding produced rainfall.\n",
    "26 clouds were seeded with silver nitrate and 26 were not.\n",
    "The decision to seed or not was made at random.\n",
    "Let θ be the difference in the mean precipitation from the two groups.\n"
   ]
  },
  {
   "cell_type": "code",
   "execution_count": 2,
   "metadata": {
    "pycharm": {
     "name": "#%%\n"
    }
   },
   "outputs": [],
   "source": [
    "sample_seeded = dataset['Seeded_Clouds'].to_numpy()\n",
    "sample_not_seeded = dataset['Unseeded_Clouds'].to_numpy()"
   ]
  },
  {
   "cell_type": "code",
   "execution_count": 3,
   "metadata": {
    "pycharm": {
     "name": "#%%\n"
    }
   },
   "outputs": [
    {
     "name": "stdout",
     "output_type": "stream",
     "text": [
      "277.3961538461539\n"
     ]
    }
   ],
   "source": [
    "# estimate of the difference in the mean pericipation\n",
    "theta_hat = np.mean(sample_seeded) - np.mean(sample_not_seeded)\n",
    "print(theta_hat)"
   ]
  },
  {
   "cell_type": "code",
   "execution_count": 4,
   "metadata": {
    "pycharm": {
     "name": "#%%\n"
    }
   },
   "outputs": [
    {
     "data": {
      "text/plain": [
       "138.81991721642947"
      ]
     },
     "execution_count": 4,
     "metadata": {},
     "output_type": "execute_result"
    }
   ],
   "source": [
    "n = len(sample_seeded)\n",
    "\n",
    "# assuming independence\n",
    "se_theta = np.sqrt(\n",
    "    np.std(sample_seeded, ddof = 1)**2 / n\n",
    "    +\n",
    "    np.std(sample_not_seeded, ddof = 1)**2 / n\n",
    ")\n",
    "se_theta"
   ]
  },
  {
   "cell_type": "code",
   "execution_count": 5,
   "metadata": {
    "pycharm": {
     "name": "#%%\n"
    }
   },
   "outputs": [],
   "source": [
    "# confidence interval\n",
    "alpha = 0.05\n",
    "lower_bound = theta_hat - norm.ppf(1 - alpha/2) * se_theta\n",
    "upper_bound = theta_hat + norm.ppf(1 - alpha/2) * se_theta"
   ]
  },
  {
   "cell_type": "code",
   "execution_count": 6,
   "metadata": {
    "pycharm": {
     "name": "#%%\n"
    }
   },
   "outputs": [
    {
     "name": "stdout",
     "output_type": "stream",
     "text": [
      "Theta_hat = 277.3961538461539\n",
      "se(theta_hat) = 138.81991721642947\n",
      "95% CI: (5.314115765120334, 549.4781919271875)\n"
     ]
    }
   ],
   "source": [
    "print(f'Theta_hat = {theta_hat}')\n",
    "print(f'se(theta_hat) = {se_theta}')\n",
    "print(f'95% CI: ({lower_bound}, {upper_bound})')"
   ]
  },
  {
   "cell_type": "code",
   "execution_count": null,
   "metadata": {
    "pycharm": {
     "name": "#%%\n"
    }
   },
   "outputs": [],
   "source": []
  },
  {
   "cell_type": "code",
   "execution_count": null,
   "metadata": {},
   "outputs": [],
   "source": []
  },
  {
   "cell_type": "code",
   "execution_count": null,
   "metadata": {},
   "outputs": [],
   "source": []
  },
  {
   "cell_type": "code",
   "execution_count": null,
   "metadata": {},
   "outputs": [],
   "source": []
  },
  {
   "cell_type": "code",
   "execution_count": null,
   "metadata": {},
   "outputs": [],
   "source": []
  }
 ],
 "metadata": {
  "kernelspec": {
   "display_name": "Python 3",
   "language": "python",
   "name": "python3"
  },
  "language_info": {
   "codemirror_mode": {
    "name": "ipython",
    "version": 3
   },
   "file_extension": ".py",
   "mimetype": "text/x-python",
   "name": "python",
   "nbconvert_exporter": "python",
   "pygments_lexer": "ipython3",
   "version": "3.8.3"
  }
 },
 "nbformat": 4,
 "nbformat_minor": 1
}
