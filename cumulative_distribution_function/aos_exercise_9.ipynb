{
 "cells": [
  {
   "cell_type": "markdown",
   "source": [
    "## All of Statistics - Chapter 7 Exercise 9\n",
    "\n",
    "100 people are given a standard antibiotic to treat an infection and another 100 are given a new antibiotic. In the first group, 90 people recover; in the second group, 85 people recover. Let p1 be the probability of recovery under the standard treatment and let p2 be the probability of recovery under the new treatment. We are interested in estimating θ = p1 − p2. Provide an estimate, standard error, an 80 percent confidence interval, and a 95 percent confidence interval for θ."
   ],
   "metadata": {
    "collapsed": false
   }
  },
  {
   "cell_type": "code",
   "execution_count": 4,
   "metadata": {
    "collapsed": true
   },
   "outputs": [],
   "source": [
    "import numpy as np\n",
    "from scipy.stats import norm"
   ]
  },
  {
   "cell_type": "code",
   "execution_count": 5,
   "outputs": [],
   "source": [
    "n = 100\n",
    "p1_hat = 90/n\n",
    "p2_hat = 85/n\n",
    "\n",
    "theta_hat = p1_hat - p2_hat\n",
    "# from the solution for se_theta_hat in exercise 7.2\n",
    "se_theta_hat = np.sqrt(\n",
    "    p1_hat*(1-p1_hat) / n\n",
    "    +\n",
    "    p2_hat*(1-p2_hat) / n\n",
    ")"
   ],
   "metadata": {
    "collapsed": false,
    "pycharm": {
     "name": "#%%\n"
    }
   }
  },
  {
   "cell_type": "code",
   "execution_count": 6,
   "outputs": [],
   "source": [
    "alpha_1 = 0.2\n",
    "alpha_2 = 0.05\n",
    "\n",
    "lower_bound_1 = theta_hat - norm.ppf(1 - alpha_1 / 2) * se_theta_hat\n",
    "upper_bound_1 = theta_hat + norm.ppf(1 - alpha_1 / 2) * se_theta_hat\n",
    "\n",
    "lower_bound_2 = theta_hat - norm.ppf(1 - alpha_2 / 2) * se_theta_hat\n",
    "upper_bound_2 = theta_hat + norm.ppf(1 - alpha_2 / 2) * se_theta_hat"
   ],
   "metadata": {
    "collapsed": false,
    "pycharm": {
     "name": "#%%\n"
    }
   }
  },
  {
   "cell_type": "code",
   "execution_count": 7,
   "outputs": [
    {
     "name": "stdout",
     "output_type": "stream",
     "text": [
      "Theta_hat = 0.050000000000000044\n",
      "se(theta_hat) = 0.4663689526544407\n",
      "80% CI: (-0.5476758613956941, 0.6476758613956942)\n",
      "95% CI: (-0.8640663507103694, 0.9640663507103695)\n"
     ]
    }
   ],
   "source": [
    "print(f'Theta_hat = {theta_hat}')\n",
    "print(f'se(theta_hat) = {se_theta_hat}')\n",
    "print(f'80% CI: ({lower_bound_1}, {upper_bound_1})')\n",
    "print(f'95% CI: ({lower_bound_2}, {upper_bound_2})')"
   ],
   "metadata": {
    "collapsed": false,
    "pycharm": {
     "name": "#%%\n"
    }
   }
  },
  {
   "cell_type": "code",
   "execution_count": null,
   "outputs": [],
   "source": [],
   "metadata": {
    "collapsed": false,
    "pycharm": {
     "name": "#%%\n"
    }
   }
  }
 ],
 "metadata": {
  "kernelspec": {
   "display_name": "Python 3",
   "language": "python",
   "name": "python3"
  },
  "language_info": {
   "codemirror_mode": {
    "name": "ipython",
    "version": 2
   },
   "file_extension": ".py",
   "mimetype": "text/x-python",
   "name": "python",
   "nbconvert_exporter": "python",
   "pygments_lexer": "ipython2",
   "version": "2.7.6"
  }
 },
 "nbformat": 4,
 "nbformat_minor": 0
}
