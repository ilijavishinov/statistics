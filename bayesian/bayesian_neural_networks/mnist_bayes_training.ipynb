{
 "cells": [
  {
   "cell_type": "code",
   "execution_count": 20,
   "metadata": {
    "collapsed": true
   },
   "outputs": [],
   "source": [
    "import os\n",
    "import warnings\n",
    "import matplotlib\n",
    "matplotlib.use('Agg')\n",
    "from matplotlib import figure\n",
    "from matplotlib.backends import backend_agg\n",
    "import pandas as pd\n",
    "import numpy as np\n",
    "import tensorflow as tf\n",
    "import tensorflow_probability as tfp\n",
    "warnings.simplefilter(action='ignore')\n",
    "import seaborn as sns\n",
    "tfd = tfp.distributions\n",
    "from utils import *"
   ]
  },
  {
   "cell_type": "code",
   "execution_count": 21,
   "outputs": [],
   "source": [
    "NUM_CLASSES = 10\n",
    "LEARNING_RATE = 0.001\n",
    "NUM_EPOCHS = 300\n",
    "BATCH_SIZE =128"
   ],
   "metadata": {
    "collapsed": false,
    "pycharm": {
     "name": "#%%\n"
    }
   }
  },
  {
   "cell_type": "code",
   "execution_count": 24,
   "outputs": [
    {
     "name": "stdout",
     "output_type": "stream",
     "text": [
      "Training set class count\n"
     ]
    },
    {
     "data": {
      "text/plain": "1    6742\n7    6265\n3    6131\n2    5958\n9    5949\n0    5923\n6    5918\n8    5851\n4    5842\n5    5421\ndtype: int64"
     },
     "execution_count": 24,
     "metadata": {},
     "output_type": "execute_result"
    }
   ],
   "source": [
    "train_set, heldout_set = tf.keras.datasets.mnist.load_data()\n",
    "labels = pd.Series(train_set[1])\n",
    "print(\"Training set class count\")\n",
    "labels.value_counts()"
   ],
   "metadata": {
    "collapsed": false,
    "pycharm": {
     "name": "#%%\n"
    }
   }
  },
  {
   "cell_type": "code",
   "execution_count": 25,
   "outputs": [
    {
     "data": {
      "text/plain": "(array([    0,     1,     2, ..., 59997, 59998, 59999], dtype=int64),)"
     },
     "execution_count": 25,
     "metadata": {},
     "output_type": "execute_result"
    }
   ],
   "source": [
    "where_in = np.where(train_set[1] != 3)\n",
    "where_in\n",
    "train_in = train_set[0][where_in]\n",
    "train_set_in = (train_set[0][where_in], train_set[1][where_in])\n",
    "train_in.shape"
   ],
   "metadata": {
    "collapsed": false,
    "pycharm": {
     "name": "#%%\n"
    }
   }
  },
  {
   "cell_type": "code",
   "execution_count": 31,
   "outputs": [],
   "source": [
    "def create_model():\n",
    "  kl_divergence_function = (lambda q, p, _: tfd.kl_divergence(q, p) / tf.cast(NUM_TRAIN_EXAMPLES, dtype=tf.float32))\n",
    "\n",
    "  model = tf.keras.models.Sequential([\n",
    "      tfp.layers.Convolution2DFlipout(\n",
    "          6, kernel_size=5, padding='SAME',\n",
    "          kernel_divergence_fn=kl_divergence_function,\n",
    "          activation=tf.nn.relu),\n",
    "      tf.keras.layers.MaxPooling2D(\n",
    "          pool_size=[2, 2], strides=[2, 2],\n",
    "          padding='SAME'),\n",
    "      tfp.layers.Convolution2DFlipout(\n",
    "          16, kernel_size=5, padding='SAME',\n",
    "          kernel_divergence_fn=kl_divergence_function,\n",
    "          activation=tf.nn.relu),\n",
    "      tf.keras.layers.MaxPooling2D(\n",
    "          pool_size=[2, 2], strides=[2, 2],\n",
    "          padding='SAME'),\n",
    "      tfp.layers.Convolution2DFlipout(\n",
    "          120, kernel_size=5, padding='SAME',\n",
    "          kernel_divergence_fn=kl_divergence_function,\n",
    "          activation=tf.nn.relu),\n",
    "      tf.keras.layers.Flatten(),\n",
    "      tfp.layers.DenseFlipout(\n",
    "          84, kernel_divergence_fn=kl_divergence_function,\n",
    "          activation=tf.nn.relu),\n",
    "      tfp.layers.DenseFlipout(\n",
    "          NUM_CLASSES, kernel_divergence_fn=kl_divergence_function,\n",
    "          activation=tf.nn.softmax)\n",
    "  ])\n",
    "\n",
    "  model.compile(tf.keras.optimizers.Adam(lr= LEARNING_RATE),\n",
    "                loss='categorical_crossentropy',\n",
    "                metrics=['accuracy'],\n",
    "                experimental_run_tf_function=False)\n",
    "  return model\n",
    "\n",
    "\n",
    "train_seq = DatasetSequence(data=train_set_in, batch_size=BATCH_SIZE)\n",
    "heldout_seq = DatasetSequence(data=heldout_set, batch_size=BATCH_SIZE)\n",
    "model = create_model()\n",
    "model.build(input_shape=[None, 28, 28, 1])"
   ],
   "metadata": {
    "collapsed": false,
    "pycharm": {
     "name": "#%%\n"
    }
   }
  },
  {
   "cell_type": "code",
   "execution_count": 34,
   "outputs": [
    {
     "name": "stdout",
     "output_type": "stream",
     "text": [
      " ... Training convolutional neural network\n",
      "0\n",
      "0\n",
      "1\n",
      "2\n",
      "3\n",
      "4\n",
      "5\n",
      "6\n",
      "7\n",
      "8\n",
      "9\n",
      "10\n",
      "11\n",
      "12\n",
      "13\n",
      "14\n",
      "15\n",
      "16\n",
      "17\n",
      "18\n",
      "19\n",
      "20\n",
      "21\n",
      "22\n",
      "23\n",
      "24\n",
      "25\n",
      "26\n",
      "27\n",
      "28\n",
      "29\n",
      "30\n",
      "31\n",
      "32\n",
      "33\n",
      "34\n",
      "35\n",
      "36\n",
      "37\n",
      "38\n",
      "39\n",
      "40\n",
      "41\n",
      "42\n",
      "43\n",
      "44\n",
      "45\n",
      "46\n",
      "47\n",
      "48\n",
      "49\n",
      "50\n",
      "51\n",
      "52\n",
      "53\n",
      "INFO:tensorflow:Assets written to: mnist_bayes.tf\\assets\n"
     ]
    }
   ],
   "source": [
    "print(' ... Training convolutional neural network')\n",
    "for epoch in range(NUM_EPOCHS):\n",
    "    print(epoch)\n",
    "    epoch_accuracy, epoch_loss = [], []\n",
    "    for step, (batch_x, batch_y) in enumerate(train_seq):\n",
    "      batch_loss, batch_accuracy = model.train_on_batch(batch_x, batch_y)\n",
    "model.save('mnist_bayes.tf')"
   ],
   "metadata": {
    "collapsed": false,
    "pycharm": {
     "name": "#%%\n"
    }
   }
  }
 ],
 "metadata": {
  "kernelspec": {
   "display_name": "Python 3",
   "language": "python",
   "name": "python3"
  },
  "language_info": {
   "codemirror_mode": {
    "name": "ipython",
    "version": 2
   },
   "file_extension": ".py",
   "mimetype": "text/x-python",
   "name": "python",
   "nbconvert_exporter": "python",
   "pygments_lexer": "ipython2",
   "version": "2.7.6"
  }
 },
 "nbformat": 4,
 "nbformat_minor": 0
}