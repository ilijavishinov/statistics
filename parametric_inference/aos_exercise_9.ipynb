{
 "cells": [
  {
   "cell_type": "code",
   "execution_count": 78,
   "metadata": {},
   "outputs": [],
   "source": [
    "import numpy as np\n",
    "from scipy.stats import norm, t\n",
    "import plotly.express as px\n",
    "import plotly.graph_objects as go"
   ]
  },
  {
   "cell_type": "markdown",
   "metadata": {
    "pycharm": {
     "name": "#%% md\n"
    }
   },
   "source": [
    "### Task definition\n",
    "- Let $X1, ...,Xn ~ Normal(µ, 1)$\n",
    "- Let $\\hatθ = e^µ$\n",
    "- Let $\\hatθ = e^\\overline{X}$\n",
    "### Requirements:\n",
    "- Create a data set (using $µ = 5$) consisting of $n=100$ observations\n",
    "- Use the bootstrap to get the se and 95 percent confidence interval for θ\n",
    "- Plot a histogram of the bootstrap replications. This is an estimate of the distribution of $\\hatθ$\n",
    "- Compare this to the true sampling distribution of $\\hatθ$"
   ]
  },
  {
   "cell_type": "code",
   "execution_count": 79,
   "metadata": {
    "pycharm": {
     "name": "#%%\n"
    }
   },
   "outputs": [
    {
     "data": {
      "application/vnd.plotly.v1+json": {
       "data": [
        {
         "alignmentgroup": "True",
         "bingroup": "x",
         "hovertemplate": "variable=0<br>value=%{x}<br>count=%{y}<extra></extra>",
         "legendgroup": "0",
         "marker": {
          "color": "#636efa",
          "pattern": {
           "shape": ""
          }
         },
         "name": "0",
         "nbinsx": 40,
         "offsetgroup": "0",
         "orientation": "v",
         "showlegend": true,
         "x": [
          5.542441713138148,
          4.16245557875368,
          5.297051350266183,
          6.360299576586747,
          4.611949696602841,
          5.591928117548982,
          3.5603307270602356,
          4.939118793281019,
          5.6162661303683965,
          4.201181859600567,
          4.669474721237306,
          4.927669857937967,
          5.387771140396844,
          4.3146813029188875,
          5.664825725110151,
          7.288493185166638,
          7.015442446794903,
          5.672767443342843,
          5.286086286430738,
          3.486435605658321,
          5.1403371780707925,
          6.199776047798199,
          6.495217228910948,
          5.519664983282413,
          2.903299748531717,
          4.91024582942426,
          5.182339197814305,
          4.847369305506485,
          5.315168630980062,
          5.623931301290745,
          4.815298412420793,
          5.94204250514636,
          5.7344645486986785,
          4.15162472993046,
          2.8584472981576856,
          3.6633202526269146,
          4.7330982121971905,
          4.588200861477315,
          4.147831051852105,
          4.30494857667437,
          5.780518670174879,
          5.683192487805716,
          6.303317729679635,
          1.979575544703962,
          4.603602353389129,
          4.837204004744641,
          6.518739754927987,
          4.159717459156141,
          4.053374610624842,
          5.0988098178089825,
          4.387432303125949,
          5.401660005505375,
          5.7300249481841234,
          3.794668568595914,
          5.8078503348700865,
          2.6199505372168654,
          2.7402911947593425,
          5.240776429534191,
          4.0479107849580345,
          5.564533527506433,
          4.856572913769816,
          3.984301043547083,
          5.460775848594121,
          5.338201277880264,
          4.150785679592375,
          5.133717966945954,
          6.247681127792988,
          5.234660819621268,
          5.503608290924002,
          4.174238962883742,
          5.4629841063338125,
          4.269170822461426,
          4.106142182716569,
          4.9691540071184,
          5.374532387026516,
          4.662374318747698,
          5.770680390611873,
          5.2838815859642345,
          6.684124226518698,
          5.349671104706452,
          8.277124403848369,
          6.32148984276856,
          6.035218267855221,
          4.5776175450155625,
          4.3360290869905675,
          4.588779570412134,
          5.599289667622147,
          4.559723071841559,
          3.867006002273375,
          6.779815928911177,
          6.138896824849891,
          4.545626945447213,
          4.796505150742491,
          5.992546119715835,
          5.569352054870618,
          3.6190961373019093,
          5.193907224480083,
          6.142833131561112,
          4.869457588576181,
          3.1027227952858647
         ],
         "xaxis": "x",
         "yaxis": "y",
         "type": "histogram"
        }
       ],
       "layout": {
        "template": {
         "data": {
          "bar": [
           {
            "error_x": {
             "color": "#2a3f5f"
            },
            "error_y": {
             "color": "#2a3f5f"
            },
            "marker": {
             "line": {
              "color": "#E5ECF6",
              "width": 0.5
             },
             "pattern": {
              "fillmode": "overlay",
              "size": 10,
              "solidity": 0.2
             }
            },
            "type": "bar"
           }
          ],
          "barpolar": [
           {
            "marker": {
             "line": {
              "color": "#E5ECF6",
              "width": 0.5
             },
             "pattern": {
              "fillmode": "overlay",
              "size": 10,
              "solidity": 0.2
             }
            },
            "type": "barpolar"
           }
          ],
          "carpet": [
           {
            "aaxis": {
             "endlinecolor": "#2a3f5f",
             "gridcolor": "white",
             "linecolor": "white",
             "minorgridcolor": "white",
             "startlinecolor": "#2a3f5f"
            },
            "baxis": {
             "endlinecolor": "#2a3f5f",
             "gridcolor": "white",
             "linecolor": "white",
             "minorgridcolor": "white",
             "startlinecolor": "#2a3f5f"
            },
            "type": "carpet"
           }
          ],
          "choropleth": [
           {
            "colorbar": {
             "outlinewidth": 0,
             "ticks": ""
            },
            "type": "choropleth"
           }
          ],
          "contour": [
           {
            "colorbar": {
             "outlinewidth": 0,
             "ticks": ""
            },
            "colorscale": [
             [
              0.0,
              "#0d0887"
             ],
             [
              0.1111111111111111,
              "#46039f"
             ],
             [
              0.2222222222222222,
              "#7201a8"
             ],
             [
              0.3333333333333333,
              "#9c179e"
             ],
             [
              0.4444444444444444,
              "#bd3786"
             ],
             [
              0.5555555555555556,
              "#d8576b"
             ],
             [
              0.6666666666666666,
              "#ed7953"
             ],
             [
              0.7777777777777778,
              "#fb9f3a"
             ],
             [
              0.8888888888888888,
              "#fdca26"
             ],
             [
              1.0,
              "#f0f921"
             ]
            ],
            "type": "contour"
           }
          ],
          "contourcarpet": [
           {
            "colorbar": {
             "outlinewidth": 0,
             "ticks": ""
            },
            "type": "contourcarpet"
           }
          ],
          "heatmap": [
           {
            "colorbar": {
             "outlinewidth": 0,
             "ticks": ""
            },
            "colorscale": [
             [
              0.0,
              "#0d0887"
             ],
             [
              0.1111111111111111,
              "#46039f"
             ],
             [
              0.2222222222222222,
              "#7201a8"
             ],
             [
              0.3333333333333333,
              "#9c179e"
             ],
             [
              0.4444444444444444,
              "#bd3786"
             ],
             [
              0.5555555555555556,
              "#d8576b"
             ],
             [
              0.6666666666666666,
              "#ed7953"
             ],
             [
              0.7777777777777778,
              "#fb9f3a"
             ],
             [
              0.8888888888888888,
              "#fdca26"
             ],
             [
              1.0,
              "#f0f921"
             ]
            ],
            "type": "heatmap"
           }
          ],
          "heatmapgl": [
           {
            "colorbar": {
             "outlinewidth": 0,
             "ticks": ""
            },
            "colorscale": [
             [
              0.0,
              "#0d0887"
             ],
             [
              0.1111111111111111,
              "#46039f"
             ],
             [
              0.2222222222222222,
              "#7201a8"
             ],
             [
              0.3333333333333333,
              "#9c179e"
             ],
             [
              0.4444444444444444,
              "#bd3786"
             ],
             [
              0.5555555555555556,
              "#d8576b"
             ],
             [
              0.6666666666666666,
              "#ed7953"
             ],
             [
              0.7777777777777778,
              "#fb9f3a"
             ],
             [
              0.8888888888888888,
              "#fdca26"
             ],
             [
              1.0,
              "#f0f921"
             ]
            ],
            "type": "heatmapgl"
           }
          ],
          "histogram": [
           {
            "marker": {
             "pattern": {
              "fillmode": "overlay",
              "size": 10,
              "solidity": 0.2
             }
            },
            "type": "histogram"
           }
          ],
          "histogram2d": [
           {
            "colorbar": {
             "outlinewidth": 0,
             "ticks": ""
            },
            "colorscale": [
             [
              0.0,
              "#0d0887"
             ],
             [
              0.1111111111111111,
              "#46039f"
             ],
             [
              0.2222222222222222,
              "#7201a8"
             ],
             [
              0.3333333333333333,
              "#9c179e"
             ],
             [
              0.4444444444444444,
              "#bd3786"
             ],
             [
              0.5555555555555556,
              "#d8576b"
             ],
             [
              0.6666666666666666,
              "#ed7953"
             ],
             [
              0.7777777777777778,
              "#fb9f3a"
             ],
             [
              0.8888888888888888,
              "#fdca26"
             ],
             [
              1.0,
              "#f0f921"
             ]
            ],
            "type": "histogram2d"
           }
          ],
          "histogram2dcontour": [
           {
            "colorbar": {
             "outlinewidth": 0,
             "ticks": ""
            },
            "colorscale": [
             [
              0.0,
              "#0d0887"
             ],
             [
              0.1111111111111111,
              "#46039f"
             ],
             [
              0.2222222222222222,
              "#7201a8"
             ],
             [
              0.3333333333333333,
              "#9c179e"
             ],
             [
              0.4444444444444444,
              "#bd3786"
             ],
             [
              0.5555555555555556,
              "#d8576b"
             ],
             [
              0.6666666666666666,
              "#ed7953"
             ],
             [
              0.7777777777777778,
              "#fb9f3a"
             ],
             [
              0.8888888888888888,
              "#fdca26"
             ],
             [
              1.0,
              "#f0f921"
             ]
            ],
            "type": "histogram2dcontour"
           }
          ],
          "mesh3d": [
           {
            "colorbar": {
             "outlinewidth": 0,
             "ticks": ""
            },
            "type": "mesh3d"
           }
          ],
          "parcoords": [
           {
            "line": {
             "colorbar": {
              "outlinewidth": 0,
              "ticks": ""
             }
            },
            "type": "parcoords"
           }
          ],
          "pie": [
           {
            "automargin": true,
            "type": "pie"
           }
          ],
          "scatter": [
           {
            "marker": {
             "colorbar": {
              "outlinewidth": 0,
              "ticks": ""
             }
            },
            "type": "scatter"
           }
          ],
          "scatter3d": [
           {
            "line": {
             "colorbar": {
              "outlinewidth": 0,
              "ticks": ""
             }
            },
            "marker": {
             "colorbar": {
              "outlinewidth": 0,
              "ticks": ""
             }
            },
            "type": "scatter3d"
           }
          ],
          "scattercarpet": [
           {
            "marker": {
             "colorbar": {
              "outlinewidth": 0,
              "ticks": ""
             }
            },
            "type": "scattercarpet"
           }
          ],
          "scattergeo": [
           {
            "marker": {
             "colorbar": {
              "outlinewidth": 0,
              "ticks": ""
             }
            },
            "type": "scattergeo"
           }
          ],
          "scattergl": [
           {
            "marker": {
             "colorbar": {
              "outlinewidth": 0,
              "ticks": ""
             }
            },
            "type": "scattergl"
           }
          ],
          "scattermapbox": [
           {
            "marker": {
             "colorbar": {
              "outlinewidth": 0,
              "ticks": ""
             }
            },
            "type": "scattermapbox"
           }
          ],
          "scatterpolar": [
           {
            "marker": {
             "colorbar": {
              "outlinewidth": 0,
              "ticks": ""
             }
            },
            "type": "scatterpolar"
           }
          ],
          "scatterpolargl": [
           {
            "marker": {
             "colorbar": {
              "outlinewidth": 0,
              "ticks": ""
             }
            },
            "type": "scatterpolargl"
           }
          ],
          "scatterternary": [
           {
            "marker": {
             "colorbar": {
              "outlinewidth": 0,
              "ticks": ""
             }
            },
            "type": "scatterternary"
           }
          ],
          "surface": [
           {
            "colorbar": {
             "outlinewidth": 0,
             "ticks": ""
            },
            "colorscale": [
             [
              0.0,
              "#0d0887"
             ],
             [
              0.1111111111111111,
              "#46039f"
             ],
             [
              0.2222222222222222,
              "#7201a8"
             ],
             [
              0.3333333333333333,
              "#9c179e"
             ],
             [
              0.4444444444444444,
              "#bd3786"
             ],
             [
              0.5555555555555556,
              "#d8576b"
             ],
             [
              0.6666666666666666,
              "#ed7953"
             ],
             [
              0.7777777777777778,
              "#fb9f3a"
             ],
             [
              0.8888888888888888,
              "#fdca26"
             ],
             [
              1.0,
              "#f0f921"
             ]
            ],
            "type": "surface"
           }
          ],
          "table": [
           {
            "cells": {
             "fill": {
              "color": "#EBF0F8"
             },
             "line": {
              "color": "white"
             }
            },
            "header": {
             "fill": {
              "color": "#C8D4E3"
             },
             "line": {
              "color": "white"
             }
            },
            "type": "table"
           }
          ]
         },
         "layout": {
          "annotationdefaults": {
           "arrowcolor": "#2a3f5f",
           "arrowhead": 0,
           "arrowwidth": 1
          },
          "autotypenumbers": "strict",
          "coloraxis": {
           "colorbar": {
            "outlinewidth": 0,
            "ticks": ""
           }
          },
          "colorscale": {
           "diverging": [
            [
             0,
             "#8e0152"
            ],
            [
             0.1,
             "#c51b7d"
            ],
            [
             0.2,
             "#de77ae"
            ],
            [
             0.3,
             "#f1b6da"
            ],
            [
             0.4,
             "#fde0ef"
            ],
            [
             0.5,
             "#f7f7f7"
            ],
            [
             0.6,
             "#e6f5d0"
            ],
            [
             0.7,
             "#b8e186"
            ],
            [
             0.8,
             "#7fbc41"
            ],
            [
             0.9,
             "#4d9221"
            ],
            [
             1,
             "#276419"
            ]
           ],
           "sequential": [
            [
             0.0,
             "#0d0887"
            ],
            [
             0.1111111111111111,
             "#46039f"
            ],
            [
             0.2222222222222222,
             "#7201a8"
            ],
            [
             0.3333333333333333,
             "#9c179e"
            ],
            [
             0.4444444444444444,
             "#bd3786"
            ],
            [
             0.5555555555555556,
             "#d8576b"
            ],
            [
             0.6666666666666666,
             "#ed7953"
            ],
            [
             0.7777777777777778,
             "#fb9f3a"
            ],
            [
             0.8888888888888888,
             "#fdca26"
            ],
            [
             1.0,
             "#f0f921"
            ]
           ],
           "sequentialminus": [
            [
             0.0,
             "#0d0887"
            ],
            [
             0.1111111111111111,
             "#46039f"
            ],
            [
             0.2222222222222222,
             "#7201a8"
            ],
            [
             0.3333333333333333,
             "#9c179e"
            ],
            [
             0.4444444444444444,
             "#bd3786"
            ],
            [
             0.5555555555555556,
             "#d8576b"
            ],
            [
             0.6666666666666666,
             "#ed7953"
            ],
            [
             0.7777777777777778,
             "#fb9f3a"
            ],
            [
             0.8888888888888888,
             "#fdca26"
            ],
            [
             1.0,
             "#f0f921"
            ]
           ]
          },
          "colorway": [
           "#636efa",
           "#EF553B",
           "#00cc96",
           "#ab63fa",
           "#FFA15A",
           "#19d3f3",
           "#FF6692",
           "#B6E880",
           "#FF97FF",
           "#FECB52"
          ],
          "font": {
           "color": "#2a3f5f"
          },
          "geo": {
           "bgcolor": "white",
           "lakecolor": "white",
           "landcolor": "#E5ECF6",
           "showlakes": true,
           "showland": true,
           "subunitcolor": "white"
          },
          "hoverlabel": {
           "align": "left"
          },
          "hovermode": "closest",
          "mapbox": {
           "style": "light"
          },
          "paper_bgcolor": "white",
          "plot_bgcolor": "#E5ECF6",
          "polar": {
           "angularaxis": {
            "gridcolor": "white",
            "linecolor": "white",
            "ticks": ""
           },
           "bgcolor": "#E5ECF6",
           "radialaxis": {
            "gridcolor": "white",
            "linecolor": "white",
            "ticks": ""
           }
          },
          "scene": {
           "xaxis": {
            "backgroundcolor": "#E5ECF6",
            "gridcolor": "white",
            "gridwidth": 2,
            "linecolor": "white",
            "showbackground": true,
            "ticks": "",
            "zerolinecolor": "white"
           },
           "yaxis": {
            "backgroundcolor": "#E5ECF6",
            "gridcolor": "white",
            "gridwidth": 2,
            "linecolor": "white",
            "showbackground": true,
            "ticks": "",
            "zerolinecolor": "white"
           },
           "zaxis": {
            "backgroundcolor": "#E5ECF6",
            "gridcolor": "white",
            "gridwidth": 2,
            "linecolor": "white",
            "showbackground": true,
            "ticks": "",
            "zerolinecolor": "white"
           }
          },
          "shapedefaults": {
           "line": {
            "color": "#2a3f5f"
           }
          },
          "ternary": {
           "aaxis": {
            "gridcolor": "white",
            "linecolor": "white",
            "ticks": ""
           },
           "baxis": {
            "gridcolor": "white",
            "linecolor": "white",
            "ticks": ""
           },
           "bgcolor": "#E5ECF6",
           "caxis": {
            "gridcolor": "white",
            "linecolor": "white",
            "ticks": ""
           }
          },
          "title": {
           "x": 0.05
          },
          "xaxis": {
           "automargin": true,
           "gridcolor": "white",
           "linecolor": "white",
           "ticks": "",
           "title": {
            "standoff": 15
           },
           "zerolinecolor": "white",
           "zerolinewidth": 2
          },
          "yaxis": {
           "automargin": true,
           "gridcolor": "white",
           "linecolor": "white",
           "ticks": "",
           "title": {
            "standoff": 15
           },
           "zerolinecolor": "white",
           "zerolinewidth": 2
          }
         }
        },
        "xaxis": {
         "anchor": "y",
         "domain": [
          0.0,
          1.0
         ],
         "title": {
          "text": "value"
         }
        },
        "yaxis": {
         "anchor": "x",
         "domain": [
          0.0,
          1.0
         ],
         "title": {
          "text": "count"
         }
        },
        "legend": {
         "title": {
          "text": "variable"
         },
         "tracegroupgap": 0
        },
        "title": {
         "text": "Sample Distribution"
        },
        "barmode": "relative"
       },
       "config": {
        "plotlyServerURL": "https://plot.ly"
       }
      },
      "text/html": "<div>                            <div id=\"d2f63413-41f3-4779-9e7f-eef0c988c612\" class=\"plotly-graph-div\" style=\"height:525px; width:100%;\"></div>            <script type=\"text/javascript\">                require([\"plotly\"], function(Plotly) {                    window.PLOTLYENV=window.PLOTLYENV || {};                                    if (document.getElementById(\"d2f63413-41f3-4779-9e7f-eef0c988c612\")) {                    Plotly.newPlot(                        \"d2f63413-41f3-4779-9e7f-eef0c988c612\",                        [{\"alignmentgroup\":\"True\",\"bingroup\":\"x\",\"hovertemplate\":\"variable=0<br>value=%{x}<br>count=%{y}<extra></extra>\",\"legendgroup\":\"0\",\"marker\":{\"color\":\"#636efa\",\"pattern\":{\"shape\":\"\"}},\"name\":\"0\",\"nbinsx\":40,\"offsetgroup\":\"0\",\"orientation\":\"v\",\"showlegend\":true,\"x\":[5.542441713138148,4.16245557875368,5.297051350266183,6.360299576586747,4.611949696602841,5.591928117548982,3.5603307270602356,4.939118793281019,5.6162661303683965,4.201181859600567,4.669474721237306,4.927669857937967,5.387771140396844,4.3146813029188875,5.664825725110151,7.288493185166638,7.015442446794903,5.672767443342843,5.286086286430738,3.486435605658321,5.1403371780707925,6.199776047798199,6.495217228910948,5.519664983282413,2.903299748531717,4.91024582942426,5.182339197814305,4.847369305506485,5.315168630980062,5.623931301290745,4.815298412420793,5.94204250514636,5.7344645486986785,4.15162472993046,2.8584472981576856,3.6633202526269146,4.7330982121971905,4.588200861477315,4.147831051852105,4.30494857667437,5.780518670174879,5.683192487805716,6.303317729679635,1.979575544703962,4.603602353389129,4.837204004744641,6.518739754927987,4.159717459156141,4.053374610624842,5.0988098178089825,4.387432303125949,5.401660005505375,5.7300249481841234,3.794668568595914,5.8078503348700865,2.6199505372168654,2.7402911947593425,5.240776429534191,4.0479107849580345,5.564533527506433,4.856572913769816,3.984301043547083,5.460775848594121,5.338201277880264,4.150785679592375,5.133717966945954,6.247681127792988,5.234660819621268,5.503608290924002,4.174238962883742,5.4629841063338125,4.269170822461426,4.106142182716569,4.9691540071184,5.374532387026516,4.662374318747698,5.770680390611873,5.2838815859642345,6.684124226518698,5.349671104706452,8.277124403848369,6.32148984276856,6.035218267855221,4.5776175450155625,4.3360290869905675,4.588779570412134,5.599289667622147,4.559723071841559,3.867006002273375,6.779815928911177,6.138896824849891,4.545626945447213,4.796505150742491,5.992546119715835,5.569352054870618,3.6190961373019093,5.193907224480083,6.142833131561112,4.869457588576181,3.1027227952858647],\"xaxis\":\"x\",\"yaxis\":\"y\",\"type\":\"histogram\"}],                        {\"template\":{\"data\":{\"bar\":[{\"error_x\":{\"color\":\"#2a3f5f\"},\"error_y\":{\"color\":\"#2a3f5f\"},\"marker\":{\"line\":{\"color\":\"#E5ECF6\",\"width\":0.5},\"pattern\":{\"fillmode\":\"overlay\",\"size\":10,\"solidity\":0.2}},\"type\":\"bar\"}],\"barpolar\":[{\"marker\":{\"line\":{\"color\":\"#E5ECF6\",\"width\":0.5},\"pattern\":{\"fillmode\":\"overlay\",\"size\":10,\"solidity\":0.2}},\"type\":\"barpolar\"}],\"carpet\":[{\"aaxis\":{\"endlinecolor\":\"#2a3f5f\",\"gridcolor\":\"white\",\"linecolor\":\"white\",\"minorgridcolor\":\"white\",\"startlinecolor\":\"#2a3f5f\"},\"baxis\":{\"endlinecolor\":\"#2a3f5f\",\"gridcolor\":\"white\",\"linecolor\":\"white\",\"minorgridcolor\":\"white\",\"startlinecolor\":\"#2a3f5f\"},\"type\":\"carpet\"}],\"choropleth\":[{\"colorbar\":{\"outlinewidth\":0,\"ticks\":\"\"},\"type\":\"choropleth\"}],\"contour\":[{\"colorbar\":{\"outlinewidth\":0,\"ticks\":\"\"},\"colorscale\":[[0.0,\"#0d0887\"],[0.1111111111111111,\"#46039f\"],[0.2222222222222222,\"#7201a8\"],[0.3333333333333333,\"#9c179e\"],[0.4444444444444444,\"#bd3786\"],[0.5555555555555556,\"#d8576b\"],[0.6666666666666666,\"#ed7953\"],[0.7777777777777778,\"#fb9f3a\"],[0.8888888888888888,\"#fdca26\"],[1.0,\"#f0f921\"]],\"type\":\"contour\"}],\"contourcarpet\":[{\"colorbar\":{\"outlinewidth\":0,\"ticks\":\"\"},\"type\":\"contourcarpet\"}],\"heatmap\":[{\"colorbar\":{\"outlinewidth\":0,\"ticks\":\"\"},\"colorscale\":[[0.0,\"#0d0887\"],[0.1111111111111111,\"#46039f\"],[0.2222222222222222,\"#7201a8\"],[0.3333333333333333,\"#9c179e\"],[0.4444444444444444,\"#bd3786\"],[0.5555555555555556,\"#d8576b\"],[0.6666666666666666,\"#ed7953\"],[0.7777777777777778,\"#fb9f3a\"],[0.8888888888888888,\"#fdca26\"],[1.0,\"#f0f921\"]],\"type\":\"heatmap\"}],\"heatmapgl\":[{\"colorbar\":{\"outlinewidth\":0,\"ticks\":\"\"},\"colorscale\":[[0.0,\"#0d0887\"],[0.1111111111111111,\"#46039f\"],[0.2222222222222222,\"#7201a8\"],[0.3333333333333333,\"#9c179e\"],[0.4444444444444444,\"#bd3786\"],[0.5555555555555556,\"#d8576b\"],[0.6666666666666666,\"#ed7953\"],[0.7777777777777778,\"#fb9f3a\"],[0.8888888888888888,\"#fdca26\"],[1.0,\"#f0f921\"]],\"type\":\"heatmapgl\"}],\"histogram\":[{\"marker\":{\"pattern\":{\"fillmode\":\"overlay\",\"size\":10,\"solidity\":0.2}},\"type\":\"histogram\"}],\"histogram2d\":[{\"colorbar\":{\"outlinewidth\":0,\"ticks\":\"\"},\"colorscale\":[[0.0,\"#0d0887\"],[0.1111111111111111,\"#46039f\"],[0.2222222222222222,\"#7201a8\"],[0.3333333333333333,\"#9c179e\"],[0.4444444444444444,\"#bd3786\"],[0.5555555555555556,\"#d8576b\"],[0.6666666666666666,\"#ed7953\"],[0.7777777777777778,\"#fb9f3a\"],[0.8888888888888888,\"#fdca26\"],[1.0,\"#f0f921\"]],\"type\":\"histogram2d\"}],\"histogram2dcontour\":[{\"colorbar\":{\"outlinewidth\":0,\"ticks\":\"\"},\"colorscale\":[[0.0,\"#0d0887\"],[0.1111111111111111,\"#46039f\"],[0.2222222222222222,\"#7201a8\"],[0.3333333333333333,\"#9c179e\"],[0.4444444444444444,\"#bd3786\"],[0.5555555555555556,\"#d8576b\"],[0.6666666666666666,\"#ed7953\"],[0.7777777777777778,\"#fb9f3a\"],[0.8888888888888888,\"#fdca26\"],[1.0,\"#f0f921\"]],\"type\":\"histogram2dcontour\"}],\"mesh3d\":[{\"colorbar\":{\"outlinewidth\":0,\"ticks\":\"\"},\"type\":\"mesh3d\"}],\"parcoords\":[{\"line\":{\"colorbar\":{\"outlinewidth\":0,\"ticks\":\"\"}},\"type\":\"parcoords\"}],\"pie\":[{\"automargin\":true,\"type\":\"pie\"}],\"scatter\":[{\"marker\":{\"colorbar\":{\"outlinewidth\":0,\"ticks\":\"\"}},\"type\":\"scatter\"}],\"scatter3d\":[{\"line\":{\"colorbar\":{\"outlinewidth\":0,\"ticks\":\"\"}},\"marker\":{\"colorbar\":{\"outlinewidth\":0,\"ticks\":\"\"}},\"type\":\"scatter3d\"}],\"scattercarpet\":[{\"marker\":{\"colorbar\":{\"outlinewidth\":0,\"ticks\":\"\"}},\"type\":\"scattercarpet\"}],\"scattergeo\":[{\"marker\":{\"colorbar\":{\"outlinewidth\":0,\"ticks\":\"\"}},\"type\":\"scattergeo\"}],\"scattergl\":[{\"marker\":{\"colorbar\":{\"outlinewidth\":0,\"ticks\":\"\"}},\"type\":\"scattergl\"}],\"scattermapbox\":[{\"marker\":{\"colorbar\":{\"outlinewidth\":0,\"ticks\":\"\"}},\"type\":\"scattermapbox\"}],\"scatterpolar\":[{\"marker\":{\"colorbar\":{\"outlinewidth\":0,\"ticks\":\"\"}},\"type\":\"scatterpolar\"}],\"scatterpolargl\":[{\"marker\":{\"colorbar\":{\"outlinewidth\":0,\"ticks\":\"\"}},\"type\":\"scatterpolargl\"}],\"scatterternary\":[{\"marker\":{\"colorbar\":{\"outlinewidth\":0,\"ticks\":\"\"}},\"type\":\"scatterternary\"}],\"surface\":[{\"colorbar\":{\"outlinewidth\":0,\"ticks\":\"\"},\"colorscale\":[[0.0,\"#0d0887\"],[0.1111111111111111,\"#46039f\"],[0.2222222222222222,\"#7201a8\"],[0.3333333333333333,\"#9c179e\"],[0.4444444444444444,\"#bd3786\"],[0.5555555555555556,\"#d8576b\"],[0.6666666666666666,\"#ed7953\"],[0.7777777777777778,\"#fb9f3a\"],[0.8888888888888888,\"#fdca26\"],[1.0,\"#f0f921\"]],\"type\":\"surface\"}],\"table\":[{\"cells\":{\"fill\":{\"color\":\"#EBF0F8\"},\"line\":{\"color\":\"white\"}},\"header\":{\"fill\":{\"color\":\"#C8D4E3\"},\"line\":{\"color\":\"white\"}},\"type\":\"table\"}]},\"layout\":{\"annotationdefaults\":{\"arrowcolor\":\"#2a3f5f\",\"arrowhead\":0,\"arrowwidth\":1},\"autotypenumbers\":\"strict\",\"coloraxis\":{\"colorbar\":{\"outlinewidth\":0,\"ticks\":\"\"}},\"colorscale\":{\"diverging\":[[0,\"#8e0152\"],[0.1,\"#c51b7d\"],[0.2,\"#de77ae\"],[0.3,\"#f1b6da\"],[0.4,\"#fde0ef\"],[0.5,\"#f7f7f7\"],[0.6,\"#e6f5d0\"],[0.7,\"#b8e186\"],[0.8,\"#7fbc41\"],[0.9,\"#4d9221\"],[1,\"#276419\"]],\"sequential\":[[0.0,\"#0d0887\"],[0.1111111111111111,\"#46039f\"],[0.2222222222222222,\"#7201a8\"],[0.3333333333333333,\"#9c179e\"],[0.4444444444444444,\"#bd3786\"],[0.5555555555555556,\"#d8576b\"],[0.6666666666666666,\"#ed7953\"],[0.7777777777777778,\"#fb9f3a\"],[0.8888888888888888,\"#fdca26\"],[1.0,\"#f0f921\"]],\"sequentialminus\":[[0.0,\"#0d0887\"],[0.1111111111111111,\"#46039f\"],[0.2222222222222222,\"#7201a8\"],[0.3333333333333333,\"#9c179e\"],[0.4444444444444444,\"#bd3786\"],[0.5555555555555556,\"#d8576b\"],[0.6666666666666666,\"#ed7953\"],[0.7777777777777778,\"#fb9f3a\"],[0.8888888888888888,\"#fdca26\"],[1.0,\"#f0f921\"]]},\"colorway\":[\"#636efa\",\"#EF553B\",\"#00cc96\",\"#ab63fa\",\"#FFA15A\",\"#19d3f3\",\"#FF6692\",\"#B6E880\",\"#FF97FF\",\"#FECB52\"],\"font\":{\"color\":\"#2a3f5f\"},\"geo\":{\"bgcolor\":\"white\",\"lakecolor\":\"white\",\"landcolor\":\"#E5ECF6\",\"showlakes\":true,\"showland\":true,\"subunitcolor\":\"white\"},\"hoverlabel\":{\"align\":\"left\"},\"hovermode\":\"closest\",\"mapbox\":{\"style\":\"light\"},\"paper_bgcolor\":\"white\",\"plot_bgcolor\":\"#E5ECF6\",\"polar\":{\"angularaxis\":{\"gridcolor\":\"white\",\"linecolor\":\"white\",\"ticks\":\"\"},\"bgcolor\":\"#E5ECF6\",\"radialaxis\":{\"gridcolor\":\"white\",\"linecolor\":\"white\",\"ticks\":\"\"}},\"scene\":{\"xaxis\":{\"backgroundcolor\":\"#E5ECF6\",\"gridcolor\":\"white\",\"gridwidth\":2,\"linecolor\":\"white\",\"showbackground\":true,\"ticks\":\"\",\"zerolinecolor\":\"white\"},\"yaxis\":{\"backgroundcolor\":\"#E5ECF6\",\"gridcolor\":\"white\",\"gridwidth\":2,\"linecolor\":\"white\",\"showbackground\":true,\"ticks\":\"\",\"zerolinecolor\":\"white\"},\"zaxis\":{\"backgroundcolor\":\"#E5ECF6\",\"gridcolor\":\"white\",\"gridwidth\":2,\"linecolor\":\"white\",\"showbackground\":true,\"ticks\":\"\",\"zerolinecolor\":\"white\"}},\"shapedefaults\":{\"line\":{\"color\":\"#2a3f5f\"}},\"ternary\":{\"aaxis\":{\"gridcolor\":\"white\",\"linecolor\":\"white\",\"ticks\":\"\"},\"baxis\":{\"gridcolor\":\"white\",\"linecolor\":\"white\",\"ticks\":\"\"},\"bgcolor\":\"#E5ECF6\",\"caxis\":{\"gridcolor\":\"white\",\"linecolor\":\"white\",\"ticks\":\"\"}},\"title\":{\"x\":0.05},\"xaxis\":{\"automargin\":true,\"gridcolor\":\"white\",\"linecolor\":\"white\",\"ticks\":\"\",\"title\":{\"standoff\":15},\"zerolinecolor\":\"white\",\"zerolinewidth\":2},\"yaxis\":{\"automargin\":true,\"gridcolor\":\"white\",\"linecolor\":\"white\",\"ticks\":\"\",\"title\":{\"standoff\":15},\"zerolinecolor\":\"white\",\"zerolinewidth\":2}}},\"xaxis\":{\"anchor\":\"y\",\"domain\":[0.0,1.0],\"title\":{\"text\":\"value\"}},\"yaxis\":{\"anchor\":\"x\",\"domain\":[0.0,1.0],\"title\":{\"text\":\"count\"}},\"legend\":{\"title\":{\"text\":\"variable\"},\"tracegroupgap\":0},\"title\":{\"text\":\"Sample Distribution\"},\"barmode\":\"relative\"},                        {\"responsive\": true}                    ).then(function(){\n                            \nvar gd = document.getElementById('d2f63413-41f3-4779-9e7f-eef0c988c612');\nvar x = new MutationObserver(function (mutations, observer) {{\n        var display = window.getComputedStyle(gd).display;\n        if (!display || display === 'none') {{\n            console.log([gd, 'removed!']);\n            Plotly.purge(gd);\n            observer.disconnect();\n        }}\n}});\n\n// Listen for the removal of the full notebook cells\nvar notebookContainer = gd.closest('#notebook-container');\nif (notebookContainer) {{\n    x.observe(notebookContainer, {childList: true});\n}}\n\n// Listen for the clearing of the current output cell\nvar outputEl = gd.closest('.output');\nif (outputEl) {{\n    x.observe(outputEl, {childList: true});\n}}\n\n                        })                };                });            </script>        </div>"
     },
     "metadata": {},
     "output_type": "display_data"
    }
   ],
   "source": [
    "T_of_F = lambda sample_: np.exp(np.mean(sample_))\n",
    "mu = 5\n",
    "n = 100\n",
    "sample = norm.rvs(loc = mu, scale = 1, size = n)\n",
    "px.histogram(sample, nbins = 40, title = 'Sample Distribution')"
   ]
  },
  {
   "cell_type": "code",
   "metadata": {
    "pycharm": {
     "name": "#%%\n"
    }
   },
   "source": [
    "mu_hat = sample.mean()\n",
    "theta_hat = T_of_F(sample)\n",
    "print(f'mu_hat = {mu_hat}')\n",
    "print(f'theta_hat = {theta_hat}')\n",
    "\n",
    "bootstrap_repetitions = 1000\n",
    "param_bootstrap_estimations = list()\n",
    "for i in range(bootstrap_repetitions):\n",
    "    param_bootstrap_sample = norm.rvs(loc=mu_hat, scale=1, size=len(sample))\n",
    "    param_bootstrap_estimations.append(T_of_F(param_bootstrap_sample))\n",
    "param_bootstrap_estimations = np.sort(param_bootstrap_estimations)\n",
    "param_se_hat = np.array(param_bootstrap_estimations).std()\n",
    "print(f'param_se_hat = {param_se_hat}')\n",
    "\n",
    "nonparam_bootstrap_estimations = list()\n",
    "for i in range(bootstrap_repetitions):\n",
    "    nonparam_bootstrap_sample = np.random.choice(sample, size = len(sample), replace = True)\n",
    "    nonparam_bootstrap_estimations.append(T_of_F(nonparam_bootstrap_sample))\n",
    "nonparam_bootstrap_estimations = np.sort(nonparam_bootstrap_estimations)\n",
    "nonparam_se_hat = np.array(nonparam_bootstrap_estimations).std()\n",
    "print(f'nonparam_se_hat = {nonparam_se_hat}')\n",
    "\n",
    "delta_se_hat = theta_hat / np.sqrt(n)\n",
    "print(f'delta_se_hat = {delta_se_hat}')\n",
    "\n",
    "alpha = 0.05\n",
    "z = norm.ppf(1-alpha/2)\n",
    "param_normal_bounds = theta_hat - param_se_hat * z, theta_hat + param_se_hat * z\n",
    "print(f'Pararmetric CI:({param_normal_bounds})')\n",
    "nonparam_normal_bounds = theta_hat - nonparam_se_hat * z, theta_hat + nonparam_se_hat * z\n",
    "print(f'Nonpararmetric CI:({nonparam_normal_bounds})')\n",
    "delta_normal_bounds = theta_hat - delta_se_hat * z, theta_hat + delta_se_hat * z\n",
    "print(f'Delta CI:({delta_normal_bounds})')"
   ],
   "execution_count": 80,
   "outputs": [
    {
     "name": "stdout",
     "output_type": "stream",
     "text": [
      "mu_hat = 5.019567446503926\n",
      "theta_hat = 151.34582446792814\n",
      "param_se_hat = 15.812275150639586\n",
      "nonparam_se_hat = 16.17669822104704\n",
      "delta_se_hat = 15.134582446792814\n",
      "Pararmetric CI:((120.3543346590369, 182.33731427681937))\n",
      "Nonpararmetric CI:((119.64007856590278, 183.0515703699535))\n",
      "Delta CI:((121.68258795116213, 181.00906098469414))\n"
     ]
    }
   ]
  },
  {
   "cell_type": "code",
   "execution_count": 81,
   "metadata": {
    "pycharm": {
     "name": "#%%\n"
    }
   },
   "outputs": [
    {
     "data": {
      "application/vnd.plotly.v1+json": {
       "data": [
        {
         "alignmentgroup": "True",
         "bingroup": "x",
         "hovertemplate": "variable=0<br>value=%{x}<br>count=%{y}<extra></extra>",
         "legendgroup": "0",
         "marker": {
          "color": "#636efa",
          "pattern": {
           "shape": ""
          }
         },
         "name": "0",
         "offsetgroup": "0",
         "orientation": "v",
         "showlegend": true,
         "x": [
          111.84336787852442,
          115.25567240128025,
          116.69991405567413,
          116.97957152256288,
          117.23046364626583,
          117.3972219244147,
          118.87578403854408,
          118.97439494460563,
          119.00528731865087,
          119.81812385641014,
          119.85709595416158,
          119.91273150496087,
          120.18357531608635,
          120.31591762601538,
          121.28985505563323,
          121.2913397537062,
          122.83379078228346,
          123.06338267894414,
          123.42756259622433,
          123.4285353002894,
          123.43367226605494,
          123.65118577776758,
          123.67700554698162,
          124.20507189226193,
          124.2549601702398,
          124.31848442042224,
          124.40467042181594,
          124.78874311462666,
          124.8146849750282,
          124.87683633193376,
          125.11530022768852,
          125.49459500167814,
          125.5677182502365,
          125.88303837959083,
          126.22197964858312,
          126.61938925249662,
          127.76748886137416,
          127.80795943508404,
          127.85973810885963,
          128.04871245749928,
          128.07337234288315,
          128.1750273717048,
          128.4881765028809,
          128.57893322293154,
          128.63958201808742,
          128.73241438712586,
          128.75590969911102,
          128.88270059862617,
          128.97235431783207,
          128.97290803086312,
          129.11671992018577,
          129.13366050775505,
          129.3032424206051,
          129.4994424385641,
          129.5325832119261,
          129.68168456797503,
          129.72451036858223,
          129.7641084563665,
          129.83763509129818,
          129.87818532114838,
          129.882992412095,
          129.9549361162731,
          130.0989353298348,
          130.1155422974799,
          130.124334892246,
          130.190561032382,
          130.33775285975528,
          130.39036529798932,
          130.4289746079305,
          130.4398094519498,
          130.878673472548,
          130.90443179170808,
          130.93837251422033,
          130.95752117300725,
          131.09451990563826,
          131.15669124613714,
          131.39539659341384,
          131.4306810959413,
          131.44930471253713,
          131.54440840471153,
          131.57629209557246,
          131.590869513108,
          131.81837878011143,
          132.0839799632283,
          132.16721928073122,
          132.27460834611355,
          132.3313221843242,
          132.3374637469021,
          132.4074336131319,
          132.4633206612899,
          132.4677336238558,
          132.5701678841663,
          132.71405981383916,
          132.7196545857584,
          132.74341609729845,
          132.79186836158576,
          132.804590345013,
          132.80894992103066,
          132.81636726582957,
          132.81760149618026,
          132.87458738642022,
          132.99026064800077,
          133.11871308777086,
          133.12061825236756,
          133.12539385071312,
          133.14204795916788,
          133.23940577595516,
          133.25196289129835,
          133.32802368024082,
          133.3335276790594,
          133.7108345488934,
          133.92569507596176,
          133.9737292713966,
          134.00978661057619,
          134.13245423948223,
          134.1691522567309,
          134.23520639664684,
          134.4582418045383,
          134.50605210531322,
          134.51079785788576,
          134.79206904391717,
          134.86166924186813,
          134.9421341399469,
          134.94417417442207,
          134.9985293261332,
          135.01917088932933,
          135.05505003399287,
          135.1751040480723,
          135.37249952803404,
          135.49961600310397,
          135.51530365760806,
          135.5637545616877,
          135.61295436460702,
          135.67087005410332,
          135.70803974250882,
          135.76723511204827,
          135.84381393238746,
          135.8939958573485,
          135.92603581976314,
          136.06677200481369,
          136.11070686906052,
          136.1110258555661,
          136.14812102917153,
          136.18555219458017,
          136.24594617421778,
          136.27746107792535,
          136.34459894574664,
          136.4132013290146,
          136.48864744166437,
          136.58109627302193,
          136.6422276987132,
          136.64496938039113,
          136.66431794208407,
          136.70796163507612,
          136.8441735509265,
          136.8629178729542,
          136.90387065966442,
          136.9446335602905,
          137.04990835244087,
          137.08860662005887,
          137.12400814833808,
          137.19067601255148,
          137.24421811944887,
          137.252051213193,
          137.3073803731505,
          137.31225790692758,
          137.3283096261725,
          137.4126476187842,
          137.53741548607726,
          137.57978677846634,
          137.62458840472976,
          137.6546138868768,
          137.67982997266745,
          137.6910180034582,
          137.78202092953052,
          137.81193647958278,
          137.97104261944423,
          138.04238354673154,
          138.07194038839435,
          138.07214573605603,
          138.197231061584,
          138.19898656148368,
          138.30127848214667,
          138.44199145800383,
          138.4685963476991,
          138.5037438319653,
          138.59982805281498,
          138.6170944451316,
          138.67030445300978,
          138.67199339737166,
          138.67477520590407,
          138.72118760652384,
          138.7800712889882,
          138.7967091002779,
          138.81927877960615,
          138.96814592604056,
          138.98190853744248,
          139.17569387818105,
          139.19012320927646,
          139.27569940694522,
          139.28565965317037,
          139.33001001753127,
          139.37923357593843,
          139.40173925434186,
          139.40621189232272,
          139.42112014954537,
          139.46746537271068,
          139.55052690112686,
          139.56753704534103,
          139.61135770963435,
          139.6298710876391,
          139.65682847461605,
          139.67017262198198,
          139.68189126074137,
          139.71026953466912,
          139.77759001222253,
          139.83334906937594,
          139.85639918086778,
          139.91567628706372,
          140.0191806594145,
          140.02534589865533,
          140.03548378881644,
          140.04832112139758,
          140.13441856805548,
          140.18696211698636,
          140.1989490912651,
          140.21070838943,
          140.21728788264403,
          140.23911255275328,
          140.3087797347307,
          140.3638797622777,
          140.36514834555285,
          140.4470906793075,
          140.51137663869065,
          140.51455747448932,
          140.52684346228284,
          140.53524146670077,
          140.53555097847916,
          140.56428198752252,
          140.58448716734205,
          140.68095202007265,
          140.7918809725379,
          140.79619505924626,
          140.80113591264882,
          140.82422140504428,
          140.8578377459491,
          140.87066924294368,
          140.91523591677532,
          141.03218786302477,
          141.1253762863053,
          141.1294902890112,
          141.28989315159203,
          141.29424384639788,
          141.29747576031815,
          141.33608138999062,
          141.35636568694085,
          141.3925969996709,
          141.49016437387658,
          141.49736157571505,
          141.53071503557655,
          141.53154433690523,
          141.57135947828033,
          141.59561722700923,
          141.63232348939349,
          141.64798107892378,
          141.7108451679397,
          141.75366044344406,
          141.78643826449746,
          141.8029015793896,
          141.8579788836605,
          141.85936188126016,
          141.92006927913934,
          142.0019294787916,
          142.01216875149964,
          142.09022772528627,
          142.17225805292415,
          142.20475921068282,
          142.32134233774354,
          142.39583336559036,
          142.41231033729917,
          142.44441453826224,
          142.4566401798193,
          142.54627656659525,
          142.63908451815522,
          142.68770211775364,
          142.7084628340378,
          142.8261015567393,
          142.87025341858566,
          142.99359116920184,
          143.01896657090768,
          143.0498430964517,
          143.1225881493479,
          143.17812972618177,
          143.19717930261965,
          143.2279136064923,
          143.24025760564942,
          143.24182926266897,
          143.2471099147771,
          143.25850004388613,
          143.3114057503409,
          143.32417829315003,
          143.32651951898018,
          143.34513762644465,
          143.37477411812026,
          143.3818369209924,
          143.4435620375544,
          143.45198758976235,
          143.6046869027848,
          143.81048083363112,
          143.82056755092307,
          143.87234448129715,
          143.90874837012743,
          143.97146803181144,
          143.97898078704776,
          143.98965173449494,
          144.01472093524126,
          144.1009575549928,
          144.1352631676805,
          144.2298660089745,
          144.25976285178157,
          144.3364776695444,
          144.40567066462464,
          144.42354444693393,
          144.4810602146619,
          144.5337549216003,
          144.56800628492843,
          144.61332065787158,
          144.6134943731669,
          144.68690307980657,
          144.69601923294874,
          144.74214624791819,
          144.80330088986238,
          144.95272270574114,
          144.95405284100144,
          144.99285886950597,
          145.02537638040874,
          145.0296292891505,
          145.0564932040624,
          145.05833326044151,
          145.06058532806134,
          145.09420556750163,
          145.11692517459275,
          145.1187933950608,
          145.12400124037134,
          145.1409700136274,
          145.25713923857663,
          145.33276129651642,
          145.37378279599494,
          145.40390768019014,
          145.4196894005091,
          145.46037637519527,
          145.4614520140082,
          145.56747916732067,
          145.58431061315744,
          145.5947460994917,
          145.5979403740707,
          145.6056456382338,
          145.61039967132493,
          145.6553749610035,
          145.68677786463618,
          145.7040504469087,
          145.76985396548284,
          145.90766444551807,
          145.9851648858756,
          146.05091672899343,
          146.11889987649934,
          146.13774521656995,
          146.18727363569792,
          146.20972273754245,
          146.2628582996329,
          146.27872359177292,
          146.3053880001571,
          146.35714856628186,
          146.35899538358433,
          146.38453169700492,
          146.41063154162126,
          146.4609672060813,
          146.47258724786852,
          146.52913019336177,
          146.57280881178775,
          146.59497153894628,
          146.65790932946592,
          146.74334025758907,
          146.7570413706816,
          146.79068534526473,
          146.88443039521732,
          146.922410736149,
          146.93754282556134,
          146.95107819203173,
          147.02072907346684,
          147.05331479193788,
          147.07056478014064,
          147.1206354481009,
          147.34453672377893,
          147.34991999597028,
          147.3598308355121,
          147.38085962036652,
          147.40554656178068,
          147.45164087080016,
          147.47522980885952,
          147.61570261912834,
          147.62269608583128,
          147.67404045069327,
          147.67731130500906,
          147.68258123371822,
          147.69985662251537,
          147.73689690012748,
          147.8543623423476,
          147.877650299642,
          147.91180725903118,
          147.9388512221131,
          147.9512717061963,
          147.9565525390751,
          148.06644616593834,
          148.30331691226905,
          148.30882831038716,
          148.31121839582045,
          148.33743173087652,
          148.40555842363966,
          148.42216640022127,
          148.43194943847183,
          148.44919697777092,
          148.51050232254914,
          148.5281965701775,
          148.58771257946174,
          148.70181625410243,
          148.83711645080993,
          148.86601634217834,
          148.88449342052897,
          148.93415771141787,
          148.99400964694834,
          149.0167498181951,
          149.06688694811123,
          149.1030843630422,
          149.19295197666352,
          149.20427329002,
          149.2061493925759,
          149.27748214360332,
          149.2787450942227,
          149.35107245214428,
          149.3889411599448,
          149.4358943207356,
          149.4426858200037,
          149.48746266703958,
          149.54946646538104,
          149.55840795659466,
          149.6088155232173,
          149.6820726195641,
          149.7218465388417,
          149.76258744410853,
          149.82711798986054,
          149.83874581787904,
          149.85414274720037,
          149.89743595281655,
          149.90825472516752,
          149.95309297876983,
          149.96057087375684,
          149.97090364488653,
          149.9790785178478,
          149.9988127635773,
          150.03061025259169,
          150.03553002685933,
          150.05453364320394,
          150.13735293127607,
          150.14372100510963,
          150.17371035135827,
          150.1887604822242,
          150.1996935766867,
          150.2612453359592,
          150.26685917726752,
          150.29694043405135,
          150.31570639493674,
          150.33997144196107,
          150.37246048896736,
          150.4178282634277,
          150.49201606256955,
          150.51402429064788,
          150.5483765988523,
          150.56562911986586,
          150.59300465246568,
          150.63429681691466,
          150.69410766105224,
          150.71883254362749,
          150.72505517425424,
          150.72964001743927,
          150.73981407681327,
          150.76017598233264,
          150.81147942359763,
          150.8189002157187,
          150.90341038005107,
          150.92738271151015,
          150.9876638135419,
          150.99736453009226,
          151.01231057415984,
          151.0339874732615,
          151.07427581106208,
          151.13445533324906,
          151.13492144941213,
          151.15820439170912,
          151.1777204524783,
          151.18245884530387,
          151.3526588181554,
          151.35629142604262,
          151.370949043796,
          151.39271640169153,
          151.43578820349762,
          151.47606451023393,
          151.48920440243498,
          151.51227435365166,
          151.58122888673208,
          151.63899452076998,
          151.64785328261064,
          151.66185220220717,
          151.72578557959338,
          151.73172456202994,
          151.75312734630015,
          151.78983484767875,
          151.79219696671896,
          151.8961433492061,
          151.89957399056797,
          151.910764328402,
          151.9135093294107,
          151.93025883515594,
          151.95607016173201,
          151.97603049071526,
          152.00308132955962,
          152.09011673101418,
          152.10828528737608,
          152.11239088341387,
          152.12698854695407,
          152.2291324830084,
          152.29492409138672,
          152.30034673088034,
          152.33150395794476,
          152.38078512811825,
          152.43165404156807,
          152.46092903395734,
          152.63601383111097,
          152.7847283735599,
          152.79140677418772,
          152.95196194887836,
          152.9589739329897,
          153.0254079821745,
          153.0635683760923,
          153.0791610536373,
          153.13876420426428,
          153.17370202757678,
          153.2277384555293,
          153.2295987161472,
          153.2798214854357,
          153.28972580855353,
          153.430469946389,
          153.45977526442678,
          153.58093008989889,
          153.6119732364441,
          153.62688940352228,
          153.65453716530922,
          153.66238578266695,
          153.6917001969799,
          153.70981233715827,
          153.79088308030788,
          153.85192620651762,
          153.85593898987148,
          153.90552506855647,
          153.90918635980188,
          153.93885985135555,
          153.9988486909787,
          154.00030382547544,
          154.0713699312957,
          154.09206168094238,
          154.10887473839614,
          154.110999668404,
          154.15559333931748,
          154.21755364672882,
          154.26301368828015,
          154.28591167387117,
          154.43004114742948,
          154.55627683822283,
          154.56122215952962,
          154.5757488077458,
          154.6088249888373,
          154.6434115542822,
          154.69835108100355,
          154.7823739482644,
          154.78314151840073,
          154.8167023741197,
          154.8563007671392,
          154.9161653205982,
          154.91893335115955,
          154.92744321152716,
          154.9664824107129,
          154.9794081428949,
          155.02619917923153,
          155.0738993486013,
          155.07861088451412,
          155.11787644517688,
          155.18151352929448,
          155.28346525711504,
          155.2892569081474,
          155.29329454345947,
          155.29754326434198,
          155.30519661982555,
          155.309056076313,
          155.38216715415996,
          155.39487340623802,
          155.40080941162387,
          155.46348393659787,
          155.47260846909893,
          155.50427929856605,
          155.6127279481859,
          155.62116000958966,
          155.69031989816162,
          155.71449224423418,
          155.72110250183115,
          155.79028321465893,
          155.8062058468046,
          155.85254099086887,
          155.87174068846804,
          155.87943450841408,
          156.038317198404,
          156.15438265390182,
          156.35605439374197,
          156.40756545040497,
          156.414783760027,
          156.44852449040786,
          156.4674284463911,
          156.5017725982017,
          156.53705758518277,
          156.56591416798307,
          156.6603787998467,
          156.71781723131565,
          156.82293441207392,
          156.9216015701919,
          156.92643860204333,
          156.93621324173287,
          156.9754350084739,
          156.98007877254508,
          156.99933914543283,
          157.03457243429085,
          157.24543510198757,
          157.30466408406616,
          157.30971768761054,
          157.327332400329,
          157.49329888868365,
          157.54200279322387,
          157.73545370454838,
          157.76318049481912,
          157.76341450065613,
          157.81507072130302,
          157.83671256730096,
          157.84278332419206,
          158.02105010111813,
          158.02994793134278,
          158.0752270137175,
          158.0973795992813,
          158.11953295977236,
          158.12411391940336,
          158.15306619488004,
          158.1538543483746,
          158.18038344908922,
          158.19495569877557,
          158.21425603635728,
          158.21666835908786,
          158.26316629145015,
          158.2946844942828,
          158.32004867658773,
          158.3671870200292,
          158.4297959926582,
          158.4689764168213,
          158.47573406013134,
          158.49292040279596,
          158.5094905938637,
          158.55271414097817,
          158.57390006238154,
          158.65164982463386,
          158.67465754634043,
          158.701996664396,
          158.73073576108064,
          158.73655493529404,
          158.79436707348665,
          158.90203244293605,
          158.90928392191057,
          159.09250637062698,
          159.112530703696,
          159.11774596962164,
          159.2038506452269,
          159.31537986314646,
          159.5089523782464,
          159.52208386532874,
          159.58986170922063,
          159.6024318616781,
          159.6385977190952,
          159.72372164421017,
          159.73564240560674,
          159.79647187944406,
          159.84675272941882,
          159.93252786017976,
          159.9662273647298,
          160.05755500642533,
          160.06499982612883,
          160.15982669023825,
          160.16141362847006,
          160.1973178616078,
          160.22885843040342,
          160.26452820240544,
          160.28629857897465,
          160.32415250355882,
          160.37501145442738,
          160.46163682032886,
          160.4808397758844,
          160.58169475854882,
          160.64853387049203,
          160.81506117045785,
          160.83915171744084,
          160.84984392422905,
          160.90973344125018,
          160.9204702944225,
          160.95158440190525,
          161.0456545837192,
          161.09369521447078,
          161.10742506445357,
          161.1754872879958,
          161.21098830156896,
          161.22122402005633,
          161.27321496472575,
          161.3602827985024,
          161.41906373133068,
          161.6063094943403,
          161.69394838210795,
          161.7040444032917,
          161.72762055126958,
          161.75138337615007,
          161.77509323330392,
          161.89965373051604,
          161.93860763876788,
          161.980158455352,
          161.98833562924736,
          162.0932314766586,
          162.13522193427968,
          162.1375916916269,
          162.14792851058286,
          162.15061992477706,
          162.18192803488301,
          162.20086351845788,
          162.2363371390475,
          162.25233508644666,
          162.26790714507976,
          162.27531801219513,
          162.35061697191176,
          162.3961290149208,
          162.4048817595182,
          162.45179353714002,
          162.47248458485316,
          162.4780284940557,
          162.51080429967166,
          162.5425494913957,
          162.57062016435185,
          162.62028871142894,
          162.63208268939266,
          162.63819727095125,
          162.70552085724847,
          162.80673937091643,
          162.8871835596191,
          162.93475205011254,
          162.97730466029535,
          162.97762746406875,
          163.01035969616157,
          163.07086955148674,
          163.08086377343722,
          163.24321455777343,
          163.2496782344707,
          163.25129774331623,
          163.29134734981668,
          163.33241415015198,
          163.4391953189794,
          163.49522932593408,
          163.60904540312995,
          163.65036299325254,
          163.7078129824335,
          163.86945266373036,
          164.0316178679605,
          164.03539455590703,
          164.14349761365983,
          164.15426545947102,
          164.18840419293687,
          164.20396800228372,
          164.23455629482623,
          164.23685450434542,
          164.2691197715917,
          164.28953599250693,
          164.48680239699138,
          164.56634638336104,
          164.75535373379364,
          164.76489175500467,
          164.78814135394197,
          164.8120104122529,
          164.8176123792202,
          164.97032046227966,
          164.98393053104573,
          165.07149756990083,
          165.2334651166459,
          165.26515867073735,
          165.2852729101595,
          165.4154900578019,
          165.49820434873854,
          165.537922845698,
          165.53800368829155,
          165.54146826868833,
          165.59892754533934,
          165.63457350712386,
          165.69159957011055,
          165.72803240945404,
          165.85756028556898,
          165.85822076716266,
          166.0692743806368,
          166.07565351216252,
          166.10926859738322,
          166.17177434059667,
          166.21202532992905,
          166.28672748387928,
          166.3053543899737,
          166.30717018650952,
          166.32409559791552,
          166.38003741789518,
          166.4218435138082,
          166.42745167967195,
          166.48403241783853,
          166.4930169132828,
          166.4948068168683,
          166.49811627609807,
          166.5327870211811,
          166.53490975927647,
          166.71494007164276,
          166.74854434641387,
          166.76965930620662,
          166.92541222414002,
          166.93316934765247,
          166.93468175409708,
          167.00278855575226,
          167.0386224636399,
          167.12280364812827,
          167.23139790138853,
          167.45068914128035,
          167.46627524195532,
          167.48756414473436,
          167.5339448192473,
          167.60018588806653,
          167.62798989763704,
          167.71722463387,
          167.73755315613946,
          167.79239295665124,
          167.9106737650599,
          167.94602721317617,
          168.00156774541875,
          168.12401622035387,
          168.16937203227835,
          168.30500992367786,
          168.3104665305456,
          168.4493747185857,
          168.46171345344112,
          168.7118652806177,
          168.77692645345408,
          169.09180478857658,
          169.3470272668906,
          169.37087305785823,
          169.58709220390014,
          169.69036202653155,
          169.85704052632045,
          169.86739234700408,
          169.8743611109916,
          169.99245913093407,
          170.016814529255,
          170.34593391636596,
          170.40899520863573,
          170.40965764673226,
          170.45674252002368,
          170.4757458533577,
          170.53378053214968,
          170.54203627210336,
          170.5947020712069,
          170.6697838883822,
          170.76641291849225,
          170.83633922364487,
          170.88058745758815,
          170.95712137131625,
          171.07034962555255,
          171.11833374039804,
          171.13114927499572,
          171.13819063887036,
          171.33265778361462,
          171.43891737891846,
          171.52116609214272,
          171.53374518129945,
          171.5671573291238,
          171.57155963396016,
          171.60154423385893,
          171.80371985498834,
          171.98724644661272,
          171.99939507089215,
          172.028498768668,
          172.08888136574592,
          172.10021043273872,
          172.12034974217846,
          172.6498115154155,
          172.67142890140178,
          172.72824875464946,
          172.76637834597676,
          172.84504197317293,
          172.90520770815888,
          172.98878490098227,
          173.07791574200456,
          173.49151654914053,
          173.5622852769282,
          173.57091252784792,
          173.64001173017454,
          173.76198152288163,
          173.77770141507213,
          173.78662416457377,
          173.86713318123,
          173.99333741016372,
          174.1715482444781,
          174.19601222563486,
          174.45007618303518,
          174.61813006216005,
          174.71029610427297,
          174.98874302184868,
          175.22860657198285,
          175.24616516668675,
          175.2742347894676,
          175.33308557061684,
          175.51651889669296,
          175.63895447327133,
          175.79063230575844,
          176.34814973049484,
          176.54641573977807,
          176.59358984816387,
          176.6122521804117,
          177.660832821753,
          177.75348312977786,
          177.96465202228526,
          178.01469067817837,
          178.2603401617968,
          178.52802490427086,
          178.68022017882754,
          178.8933183083571,
          178.9239948606466,
          178.932833609951,
          179.64157502258809,
          180.03420844708523,
          180.09233045581675,
          180.40573415942728,
          180.79720927744467,
          180.99533939110597,
          181.119601695443,
          181.25125670432521,
          181.84504721875024,
          181.87718552190788,
          182.17340360681914,
          182.52118595734302,
          182.6062534224255,
          182.8940743816492,
          182.96268423417743,
          183.33283385861998,
          183.49889730345575,
          184.01853595151374,
          184.05690099374038,
          184.44822085302047,
          184.73685500146502,
          184.96415854471587,
          185.33338274733356,
          185.33762197304614,
          185.72236689568436,
          186.3408707644309,
          186.48077704194313,
          187.74405385882432,
          187.9215116151321,
          187.9598439150339,
          188.53708669537542,
          188.63424796381963,
          189.3528052191301,
          189.7981893834978,
          190.94271618547342,
          191.43129897372123,
          192.6723600977127,
          192.6767612784678,
          192.87821266437268,
          193.87318309902335,
          194.3240626848941,
          194.4072735288483,
          194.96714289362802,
          195.28417018025948,
          200.59979002603103,
          203.3698161584824,
          203.60409839768573,
          203.6185768094982,
          204.66107006775061,
          204.91318313562917,
          207.1797343869017,
          212.26616223491618,
          212.80183343803148
         ],
         "xaxis": "x",
         "yaxis": "y",
         "type": "histogram"
        }
       ],
       "layout": {
        "template": {
         "data": {
          "bar": [
           {
            "error_x": {
             "color": "#2a3f5f"
            },
            "error_y": {
             "color": "#2a3f5f"
            },
            "marker": {
             "line": {
              "color": "#E5ECF6",
              "width": 0.5
             },
             "pattern": {
              "fillmode": "overlay",
              "size": 10,
              "solidity": 0.2
             }
            },
            "type": "bar"
           }
          ],
          "barpolar": [
           {
            "marker": {
             "line": {
              "color": "#E5ECF6",
              "width": 0.5
             },
             "pattern": {
              "fillmode": "overlay",
              "size": 10,
              "solidity": 0.2
             }
            },
            "type": "barpolar"
           }
          ],
          "carpet": [
           {
            "aaxis": {
             "endlinecolor": "#2a3f5f",
             "gridcolor": "white",
             "linecolor": "white",
             "minorgridcolor": "white",
             "startlinecolor": "#2a3f5f"
            },
            "baxis": {
             "endlinecolor": "#2a3f5f",
             "gridcolor": "white",
             "linecolor": "white",
             "minorgridcolor": "white",
             "startlinecolor": "#2a3f5f"
            },
            "type": "carpet"
           }
          ],
          "choropleth": [
           {
            "colorbar": {
             "outlinewidth": 0,
             "ticks": ""
            },
            "type": "choropleth"
           }
          ],
          "contour": [
           {
            "colorbar": {
             "outlinewidth": 0,
             "ticks": ""
            },
            "colorscale": [
             [
              0.0,
              "#0d0887"
             ],
             [
              0.1111111111111111,
              "#46039f"
             ],
             [
              0.2222222222222222,
              "#7201a8"
             ],
             [
              0.3333333333333333,
              "#9c179e"
             ],
             [
              0.4444444444444444,
              "#bd3786"
             ],
             [
              0.5555555555555556,
              "#d8576b"
             ],
             [
              0.6666666666666666,
              "#ed7953"
             ],
             [
              0.7777777777777778,
              "#fb9f3a"
             ],
             [
              0.8888888888888888,
              "#fdca26"
             ],
             [
              1.0,
              "#f0f921"
             ]
            ],
            "type": "contour"
           }
          ],
          "contourcarpet": [
           {
            "colorbar": {
             "outlinewidth": 0,
             "ticks": ""
            },
            "type": "contourcarpet"
           }
          ],
          "heatmap": [
           {
            "colorbar": {
             "outlinewidth": 0,
             "ticks": ""
            },
            "colorscale": [
             [
              0.0,
              "#0d0887"
             ],
             [
              0.1111111111111111,
              "#46039f"
             ],
             [
              0.2222222222222222,
              "#7201a8"
             ],
             [
              0.3333333333333333,
              "#9c179e"
             ],
             [
              0.4444444444444444,
              "#bd3786"
             ],
             [
              0.5555555555555556,
              "#d8576b"
             ],
             [
              0.6666666666666666,
              "#ed7953"
             ],
             [
              0.7777777777777778,
              "#fb9f3a"
             ],
             [
              0.8888888888888888,
              "#fdca26"
             ],
             [
              1.0,
              "#f0f921"
             ]
            ],
            "type": "heatmap"
           }
          ],
          "heatmapgl": [
           {
            "colorbar": {
             "outlinewidth": 0,
             "ticks": ""
            },
            "colorscale": [
             [
              0.0,
              "#0d0887"
             ],
             [
              0.1111111111111111,
              "#46039f"
             ],
             [
              0.2222222222222222,
              "#7201a8"
             ],
             [
              0.3333333333333333,
              "#9c179e"
             ],
             [
              0.4444444444444444,
              "#bd3786"
             ],
             [
              0.5555555555555556,
              "#d8576b"
             ],
             [
              0.6666666666666666,
              "#ed7953"
             ],
             [
              0.7777777777777778,
              "#fb9f3a"
             ],
             [
              0.8888888888888888,
              "#fdca26"
             ],
             [
              1.0,
              "#f0f921"
             ]
            ],
            "type": "heatmapgl"
           }
          ],
          "histogram": [
           {
            "marker": {
             "pattern": {
              "fillmode": "overlay",
              "size": 10,
              "solidity": 0.2
             }
            },
            "type": "histogram"
           }
          ],
          "histogram2d": [
           {
            "colorbar": {
             "outlinewidth": 0,
             "ticks": ""
            },
            "colorscale": [
             [
              0.0,
              "#0d0887"
             ],
             [
              0.1111111111111111,
              "#46039f"
             ],
             [
              0.2222222222222222,
              "#7201a8"
             ],
             [
              0.3333333333333333,
              "#9c179e"
             ],
             [
              0.4444444444444444,
              "#bd3786"
             ],
             [
              0.5555555555555556,
              "#d8576b"
             ],
             [
              0.6666666666666666,
              "#ed7953"
             ],
             [
              0.7777777777777778,
              "#fb9f3a"
             ],
             [
              0.8888888888888888,
              "#fdca26"
             ],
             [
              1.0,
              "#f0f921"
             ]
            ],
            "type": "histogram2d"
           }
          ],
          "histogram2dcontour": [
           {
            "colorbar": {
             "outlinewidth": 0,
             "ticks": ""
            },
            "colorscale": [
             [
              0.0,
              "#0d0887"
             ],
             [
              0.1111111111111111,
              "#46039f"
             ],
             [
              0.2222222222222222,
              "#7201a8"
             ],
             [
              0.3333333333333333,
              "#9c179e"
             ],
             [
              0.4444444444444444,
              "#bd3786"
             ],
             [
              0.5555555555555556,
              "#d8576b"
             ],
             [
              0.6666666666666666,
              "#ed7953"
             ],
             [
              0.7777777777777778,
              "#fb9f3a"
             ],
             [
              0.8888888888888888,
              "#fdca26"
             ],
             [
              1.0,
              "#f0f921"
             ]
            ],
            "type": "histogram2dcontour"
           }
          ],
          "mesh3d": [
           {
            "colorbar": {
             "outlinewidth": 0,
             "ticks": ""
            },
            "type": "mesh3d"
           }
          ],
          "parcoords": [
           {
            "line": {
             "colorbar": {
              "outlinewidth": 0,
              "ticks": ""
             }
            },
            "type": "parcoords"
           }
          ],
          "pie": [
           {
            "automargin": true,
            "type": "pie"
           }
          ],
          "scatter": [
           {
            "marker": {
             "colorbar": {
              "outlinewidth": 0,
              "ticks": ""
             }
            },
            "type": "scatter"
           }
          ],
          "scatter3d": [
           {
            "line": {
             "colorbar": {
              "outlinewidth": 0,
              "ticks": ""
             }
            },
            "marker": {
             "colorbar": {
              "outlinewidth": 0,
              "ticks": ""
             }
            },
            "type": "scatter3d"
           }
          ],
          "scattercarpet": [
           {
            "marker": {
             "colorbar": {
              "outlinewidth": 0,
              "ticks": ""
             }
            },
            "type": "scattercarpet"
           }
          ],
          "scattergeo": [
           {
            "marker": {
             "colorbar": {
              "outlinewidth": 0,
              "ticks": ""
             }
            },
            "type": "scattergeo"
           }
          ],
          "scattergl": [
           {
            "marker": {
             "colorbar": {
              "outlinewidth": 0,
              "ticks": ""
             }
            },
            "type": "scattergl"
           }
          ],
          "scattermapbox": [
           {
            "marker": {
             "colorbar": {
              "outlinewidth": 0,
              "ticks": ""
             }
            },
            "type": "scattermapbox"
           }
          ],
          "scatterpolar": [
           {
            "marker": {
             "colorbar": {
              "outlinewidth": 0,
              "ticks": ""
             }
            },
            "type": "scatterpolar"
           }
          ],
          "scatterpolargl": [
           {
            "marker": {
             "colorbar": {
              "outlinewidth": 0,
              "ticks": ""
             }
            },
            "type": "scatterpolargl"
           }
          ],
          "scatterternary": [
           {
            "marker": {
             "colorbar": {
              "outlinewidth": 0,
              "ticks": ""
             }
            },
            "type": "scatterternary"
           }
          ],
          "surface": [
           {
            "colorbar": {
             "outlinewidth": 0,
             "ticks": ""
            },
            "colorscale": [
             [
              0.0,
              "#0d0887"
             ],
             [
              0.1111111111111111,
              "#46039f"
             ],
             [
              0.2222222222222222,
              "#7201a8"
             ],
             [
              0.3333333333333333,
              "#9c179e"
             ],
             [
              0.4444444444444444,
              "#bd3786"
             ],
             [
              0.5555555555555556,
              "#d8576b"
             ],
             [
              0.6666666666666666,
              "#ed7953"
             ],
             [
              0.7777777777777778,
              "#fb9f3a"
             ],
             [
              0.8888888888888888,
              "#fdca26"
             ],
             [
              1.0,
              "#f0f921"
             ]
            ],
            "type": "surface"
           }
          ],
          "table": [
           {
            "cells": {
             "fill": {
              "color": "#EBF0F8"
             },
             "line": {
              "color": "white"
             }
            },
            "header": {
             "fill": {
              "color": "#C8D4E3"
             },
             "line": {
              "color": "white"
             }
            },
            "type": "table"
           }
          ]
         },
         "layout": {
          "annotationdefaults": {
           "arrowcolor": "#2a3f5f",
           "arrowhead": 0,
           "arrowwidth": 1
          },
          "autotypenumbers": "strict",
          "coloraxis": {
           "colorbar": {
            "outlinewidth": 0,
            "ticks": ""
           }
          },
          "colorscale": {
           "diverging": [
            [
             0,
             "#8e0152"
            ],
            [
             0.1,
             "#c51b7d"
            ],
            [
             0.2,
             "#de77ae"
            ],
            [
             0.3,
             "#f1b6da"
            ],
            [
             0.4,
             "#fde0ef"
            ],
            [
             0.5,
             "#f7f7f7"
            ],
            [
             0.6,
             "#e6f5d0"
            ],
            [
             0.7,
             "#b8e186"
            ],
            [
             0.8,
             "#7fbc41"
            ],
            [
             0.9,
             "#4d9221"
            ],
            [
             1,
             "#276419"
            ]
           ],
           "sequential": [
            [
             0.0,
             "#0d0887"
            ],
            [
             0.1111111111111111,
             "#46039f"
            ],
            [
             0.2222222222222222,
             "#7201a8"
            ],
            [
             0.3333333333333333,
             "#9c179e"
            ],
            [
             0.4444444444444444,
             "#bd3786"
            ],
            [
             0.5555555555555556,
             "#d8576b"
            ],
            [
             0.6666666666666666,
             "#ed7953"
            ],
            [
             0.7777777777777778,
             "#fb9f3a"
            ],
            [
             0.8888888888888888,
             "#fdca26"
            ],
            [
             1.0,
             "#f0f921"
            ]
           ],
           "sequentialminus": [
            [
             0.0,
             "#0d0887"
            ],
            [
             0.1111111111111111,
             "#46039f"
            ],
            [
             0.2222222222222222,
             "#7201a8"
            ],
            [
             0.3333333333333333,
             "#9c179e"
            ],
            [
             0.4444444444444444,
             "#bd3786"
            ],
            [
             0.5555555555555556,
             "#d8576b"
            ],
            [
             0.6666666666666666,
             "#ed7953"
            ],
            [
             0.7777777777777778,
             "#fb9f3a"
            ],
            [
             0.8888888888888888,
             "#fdca26"
            ],
            [
             1.0,
             "#f0f921"
            ]
           ]
          },
          "colorway": [
           "#636efa",
           "#EF553B",
           "#00cc96",
           "#ab63fa",
           "#FFA15A",
           "#19d3f3",
           "#FF6692",
           "#B6E880",
           "#FF97FF",
           "#FECB52"
          ],
          "font": {
           "color": "#2a3f5f"
          },
          "geo": {
           "bgcolor": "white",
           "lakecolor": "white",
           "landcolor": "#E5ECF6",
           "showlakes": true,
           "showland": true,
           "subunitcolor": "white"
          },
          "hoverlabel": {
           "align": "left"
          },
          "hovermode": "closest",
          "mapbox": {
           "style": "light"
          },
          "paper_bgcolor": "white",
          "plot_bgcolor": "#E5ECF6",
          "polar": {
           "angularaxis": {
            "gridcolor": "white",
            "linecolor": "white",
            "ticks": ""
           },
           "bgcolor": "#E5ECF6",
           "radialaxis": {
            "gridcolor": "white",
            "linecolor": "white",
            "ticks": ""
           }
          },
          "scene": {
           "xaxis": {
            "backgroundcolor": "#E5ECF6",
            "gridcolor": "white",
            "gridwidth": 2,
            "linecolor": "white",
            "showbackground": true,
            "ticks": "",
            "zerolinecolor": "white"
           },
           "yaxis": {
            "backgroundcolor": "#E5ECF6",
            "gridcolor": "white",
            "gridwidth": 2,
            "linecolor": "white",
            "showbackground": true,
            "ticks": "",
            "zerolinecolor": "white"
           },
           "zaxis": {
            "backgroundcolor": "#E5ECF6",
            "gridcolor": "white",
            "gridwidth": 2,
            "linecolor": "white",
            "showbackground": true,
            "ticks": "",
            "zerolinecolor": "white"
           }
          },
          "shapedefaults": {
           "line": {
            "color": "#2a3f5f"
           }
          },
          "ternary": {
           "aaxis": {
            "gridcolor": "white",
            "linecolor": "white",
            "ticks": ""
           },
           "baxis": {
            "gridcolor": "white",
            "linecolor": "white",
            "ticks": ""
           },
           "bgcolor": "#E5ECF6",
           "caxis": {
            "gridcolor": "white",
            "linecolor": "white",
            "ticks": ""
           }
          },
          "title": {
           "x": 0.05
          },
          "xaxis": {
           "automargin": true,
           "gridcolor": "white",
           "linecolor": "white",
           "ticks": "",
           "title": {
            "standoff": 15
           },
           "zerolinecolor": "white",
           "zerolinewidth": 2
          },
          "yaxis": {
           "automargin": true,
           "gridcolor": "white",
           "linecolor": "white",
           "ticks": "",
           "title": {
            "standoff": 15
           },
           "zerolinecolor": "white",
           "zerolinewidth": 2
          }
         }
        },
        "xaxis": {
         "anchor": "y",
         "domain": [
          0.0,
          1.0
         ],
         "title": {
          "text": "value"
         }
        },
        "yaxis": {
         "anchor": "x",
         "domain": [
          0.0,
          1.0
         ],
         "title": {
          "text": "count"
         }
        },
        "legend": {
         "title": {
          "text": "variable"
         },
         "tracegroupgap": 0
        },
        "title": {
         "text": "Histogram of the parametric bootstrap replications of theta"
        },
        "barmode": "relative"
       },
       "config": {
        "plotlyServerURL": "https://plot.ly"
       }
      },
      "text/html": "<div>                            <div id=\"97bda829-6288-4f34-9fea-c43ed6ceff14\" class=\"plotly-graph-div\" style=\"height:525px; width:100%;\"></div>            <script type=\"text/javascript\">                require([\"plotly\"], function(Plotly) {                    window.PLOTLYENV=window.PLOTLYENV || {};                                    if (document.getElementById(\"97bda829-6288-4f34-9fea-c43ed6ceff14\")) {                    Plotly.newPlot(                        \"97bda829-6288-4f34-9fea-c43ed6ceff14\",                        [{\"alignmentgroup\":\"True\",\"bingroup\":\"x\",\"hovertemplate\":\"variable=0<br>value=%{x}<br>count=%{y}<extra></extra>\",\"legendgroup\":\"0\",\"marker\":{\"color\":\"#636efa\",\"pattern\":{\"shape\":\"\"}},\"name\":\"0\",\"offsetgroup\":\"0\",\"orientation\":\"v\",\"showlegend\":true,\"x\":[111.84336787852442,115.25567240128025,116.69991405567413,116.97957152256288,117.23046364626583,117.3972219244147,118.87578403854408,118.97439494460563,119.00528731865087,119.81812385641014,119.85709595416158,119.91273150496087,120.18357531608635,120.31591762601538,121.28985505563323,121.2913397537062,122.83379078228346,123.06338267894414,123.42756259622433,123.4285353002894,123.43367226605494,123.65118577776758,123.67700554698162,124.20507189226193,124.2549601702398,124.31848442042224,124.40467042181594,124.78874311462666,124.8146849750282,124.87683633193376,125.11530022768852,125.49459500167814,125.5677182502365,125.88303837959083,126.22197964858312,126.61938925249662,127.76748886137416,127.80795943508404,127.85973810885963,128.04871245749928,128.07337234288315,128.1750273717048,128.4881765028809,128.57893322293154,128.63958201808742,128.73241438712586,128.75590969911102,128.88270059862617,128.97235431783207,128.97290803086312,129.11671992018577,129.13366050775505,129.3032424206051,129.4994424385641,129.5325832119261,129.68168456797503,129.72451036858223,129.7641084563665,129.83763509129818,129.87818532114838,129.882992412095,129.9549361162731,130.0989353298348,130.1155422974799,130.124334892246,130.190561032382,130.33775285975528,130.39036529798932,130.4289746079305,130.4398094519498,130.878673472548,130.90443179170808,130.93837251422033,130.95752117300725,131.09451990563826,131.15669124613714,131.39539659341384,131.4306810959413,131.44930471253713,131.54440840471153,131.57629209557246,131.590869513108,131.81837878011143,132.0839799632283,132.16721928073122,132.27460834611355,132.3313221843242,132.3374637469021,132.4074336131319,132.4633206612899,132.4677336238558,132.5701678841663,132.71405981383916,132.7196545857584,132.74341609729845,132.79186836158576,132.804590345013,132.80894992103066,132.81636726582957,132.81760149618026,132.87458738642022,132.99026064800077,133.11871308777086,133.12061825236756,133.12539385071312,133.14204795916788,133.23940577595516,133.25196289129835,133.32802368024082,133.3335276790594,133.7108345488934,133.92569507596176,133.9737292713966,134.00978661057619,134.13245423948223,134.1691522567309,134.23520639664684,134.4582418045383,134.50605210531322,134.51079785788576,134.79206904391717,134.86166924186813,134.9421341399469,134.94417417442207,134.9985293261332,135.01917088932933,135.05505003399287,135.1751040480723,135.37249952803404,135.49961600310397,135.51530365760806,135.5637545616877,135.61295436460702,135.67087005410332,135.70803974250882,135.76723511204827,135.84381393238746,135.8939958573485,135.92603581976314,136.06677200481369,136.11070686906052,136.1110258555661,136.14812102917153,136.18555219458017,136.24594617421778,136.27746107792535,136.34459894574664,136.4132013290146,136.48864744166437,136.58109627302193,136.6422276987132,136.64496938039113,136.66431794208407,136.70796163507612,136.8441735509265,136.8629178729542,136.90387065966442,136.9446335602905,137.04990835244087,137.08860662005887,137.12400814833808,137.19067601255148,137.24421811944887,137.252051213193,137.3073803731505,137.31225790692758,137.3283096261725,137.4126476187842,137.53741548607726,137.57978677846634,137.62458840472976,137.6546138868768,137.67982997266745,137.6910180034582,137.78202092953052,137.81193647958278,137.97104261944423,138.04238354673154,138.07194038839435,138.07214573605603,138.197231061584,138.19898656148368,138.30127848214667,138.44199145800383,138.4685963476991,138.5037438319653,138.59982805281498,138.6170944451316,138.67030445300978,138.67199339737166,138.67477520590407,138.72118760652384,138.7800712889882,138.7967091002779,138.81927877960615,138.96814592604056,138.98190853744248,139.17569387818105,139.19012320927646,139.27569940694522,139.28565965317037,139.33001001753127,139.37923357593843,139.40173925434186,139.40621189232272,139.42112014954537,139.46746537271068,139.55052690112686,139.56753704534103,139.61135770963435,139.6298710876391,139.65682847461605,139.67017262198198,139.68189126074137,139.71026953466912,139.77759001222253,139.83334906937594,139.85639918086778,139.91567628706372,140.0191806594145,140.02534589865533,140.03548378881644,140.04832112139758,140.13441856805548,140.18696211698636,140.1989490912651,140.21070838943,140.21728788264403,140.23911255275328,140.3087797347307,140.3638797622777,140.36514834555285,140.4470906793075,140.51137663869065,140.51455747448932,140.52684346228284,140.53524146670077,140.53555097847916,140.56428198752252,140.58448716734205,140.68095202007265,140.7918809725379,140.79619505924626,140.80113591264882,140.82422140504428,140.8578377459491,140.87066924294368,140.91523591677532,141.03218786302477,141.1253762863053,141.1294902890112,141.28989315159203,141.29424384639788,141.29747576031815,141.33608138999062,141.35636568694085,141.3925969996709,141.49016437387658,141.49736157571505,141.53071503557655,141.53154433690523,141.57135947828033,141.59561722700923,141.63232348939349,141.64798107892378,141.7108451679397,141.75366044344406,141.78643826449746,141.8029015793896,141.8579788836605,141.85936188126016,141.92006927913934,142.0019294787916,142.01216875149964,142.09022772528627,142.17225805292415,142.20475921068282,142.32134233774354,142.39583336559036,142.41231033729917,142.44441453826224,142.4566401798193,142.54627656659525,142.63908451815522,142.68770211775364,142.7084628340378,142.8261015567393,142.87025341858566,142.99359116920184,143.01896657090768,143.0498430964517,143.1225881493479,143.17812972618177,143.19717930261965,143.2279136064923,143.24025760564942,143.24182926266897,143.2471099147771,143.25850004388613,143.3114057503409,143.32417829315003,143.32651951898018,143.34513762644465,143.37477411812026,143.3818369209924,143.4435620375544,143.45198758976235,143.6046869027848,143.81048083363112,143.82056755092307,143.87234448129715,143.90874837012743,143.97146803181144,143.97898078704776,143.98965173449494,144.01472093524126,144.1009575549928,144.1352631676805,144.2298660089745,144.25976285178157,144.3364776695444,144.40567066462464,144.42354444693393,144.4810602146619,144.5337549216003,144.56800628492843,144.61332065787158,144.6134943731669,144.68690307980657,144.69601923294874,144.74214624791819,144.80330088986238,144.95272270574114,144.95405284100144,144.99285886950597,145.02537638040874,145.0296292891505,145.0564932040624,145.05833326044151,145.06058532806134,145.09420556750163,145.11692517459275,145.1187933950608,145.12400124037134,145.1409700136274,145.25713923857663,145.33276129651642,145.37378279599494,145.40390768019014,145.4196894005091,145.46037637519527,145.4614520140082,145.56747916732067,145.58431061315744,145.5947460994917,145.5979403740707,145.6056456382338,145.61039967132493,145.6553749610035,145.68677786463618,145.7040504469087,145.76985396548284,145.90766444551807,145.9851648858756,146.05091672899343,146.11889987649934,146.13774521656995,146.18727363569792,146.20972273754245,146.2628582996329,146.27872359177292,146.3053880001571,146.35714856628186,146.35899538358433,146.38453169700492,146.41063154162126,146.4609672060813,146.47258724786852,146.52913019336177,146.57280881178775,146.59497153894628,146.65790932946592,146.74334025758907,146.7570413706816,146.79068534526473,146.88443039521732,146.922410736149,146.93754282556134,146.95107819203173,147.02072907346684,147.05331479193788,147.07056478014064,147.1206354481009,147.34453672377893,147.34991999597028,147.3598308355121,147.38085962036652,147.40554656178068,147.45164087080016,147.47522980885952,147.61570261912834,147.62269608583128,147.67404045069327,147.67731130500906,147.68258123371822,147.69985662251537,147.73689690012748,147.8543623423476,147.877650299642,147.91180725903118,147.9388512221131,147.9512717061963,147.9565525390751,148.06644616593834,148.30331691226905,148.30882831038716,148.31121839582045,148.33743173087652,148.40555842363966,148.42216640022127,148.43194943847183,148.44919697777092,148.51050232254914,148.5281965701775,148.58771257946174,148.70181625410243,148.83711645080993,148.86601634217834,148.88449342052897,148.93415771141787,148.99400964694834,149.0167498181951,149.06688694811123,149.1030843630422,149.19295197666352,149.20427329002,149.2061493925759,149.27748214360332,149.2787450942227,149.35107245214428,149.3889411599448,149.4358943207356,149.4426858200037,149.48746266703958,149.54946646538104,149.55840795659466,149.6088155232173,149.6820726195641,149.7218465388417,149.76258744410853,149.82711798986054,149.83874581787904,149.85414274720037,149.89743595281655,149.90825472516752,149.95309297876983,149.96057087375684,149.97090364488653,149.9790785178478,149.9988127635773,150.03061025259169,150.03553002685933,150.05453364320394,150.13735293127607,150.14372100510963,150.17371035135827,150.1887604822242,150.1996935766867,150.2612453359592,150.26685917726752,150.29694043405135,150.31570639493674,150.33997144196107,150.37246048896736,150.4178282634277,150.49201606256955,150.51402429064788,150.5483765988523,150.56562911986586,150.59300465246568,150.63429681691466,150.69410766105224,150.71883254362749,150.72505517425424,150.72964001743927,150.73981407681327,150.76017598233264,150.81147942359763,150.8189002157187,150.90341038005107,150.92738271151015,150.9876638135419,150.99736453009226,151.01231057415984,151.0339874732615,151.07427581106208,151.13445533324906,151.13492144941213,151.15820439170912,151.1777204524783,151.18245884530387,151.3526588181554,151.35629142604262,151.370949043796,151.39271640169153,151.43578820349762,151.47606451023393,151.48920440243498,151.51227435365166,151.58122888673208,151.63899452076998,151.64785328261064,151.66185220220717,151.72578557959338,151.73172456202994,151.75312734630015,151.78983484767875,151.79219696671896,151.8961433492061,151.89957399056797,151.910764328402,151.9135093294107,151.93025883515594,151.95607016173201,151.97603049071526,152.00308132955962,152.09011673101418,152.10828528737608,152.11239088341387,152.12698854695407,152.2291324830084,152.29492409138672,152.30034673088034,152.33150395794476,152.38078512811825,152.43165404156807,152.46092903395734,152.63601383111097,152.7847283735599,152.79140677418772,152.95196194887836,152.9589739329897,153.0254079821745,153.0635683760923,153.0791610536373,153.13876420426428,153.17370202757678,153.2277384555293,153.2295987161472,153.2798214854357,153.28972580855353,153.430469946389,153.45977526442678,153.58093008989889,153.6119732364441,153.62688940352228,153.65453716530922,153.66238578266695,153.6917001969799,153.70981233715827,153.79088308030788,153.85192620651762,153.85593898987148,153.90552506855647,153.90918635980188,153.93885985135555,153.9988486909787,154.00030382547544,154.0713699312957,154.09206168094238,154.10887473839614,154.110999668404,154.15559333931748,154.21755364672882,154.26301368828015,154.28591167387117,154.43004114742948,154.55627683822283,154.56122215952962,154.5757488077458,154.6088249888373,154.6434115542822,154.69835108100355,154.7823739482644,154.78314151840073,154.8167023741197,154.8563007671392,154.9161653205982,154.91893335115955,154.92744321152716,154.9664824107129,154.9794081428949,155.02619917923153,155.0738993486013,155.07861088451412,155.11787644517688,155.18151352929448,155.28346525711504,155.2892569081474,155.29329454345947,155.29754326434198,155.30519661982555,155.309056076313,155.38216715415996,155.39487340623802,155.40080941162387,155.46348393659787,155.47260846909893,155.50427929856605,155.6127279481859,155.62116000958966,155.69031989816162,155.71449224423418,155.72110250183115,155.79028321465893,155.8062058468046,155.85254099086887,155.87174068846804,155.87943450841408,156.038317198404,156.15438265390182,156.35605439374197,156.40756545040497,156.414783760027,156.44852449040786,156.4674284463911,156.5017725982017,156.53705758518277,156.56591416798307,156.6603787998467,156.71781723131565,156.82293441207392,156.9216015701919,156.92643860204333,156.93621324173287,156.9754350084739,156.98007877254508,156.99933914543283,157.03457243429085,157.24543510198757,157.30466408406616,157.30971768761054,157.327332400329,157.49329888868365,157.54200279322387,157.73545370454838,157.76318049481912,157.76341450065613,157.81507072130302,157.83671256730096,157.84278332419206,158.02105010111813,158.02994793134278,158.0752270137175,158.0973795992813,158.11953295977236,158.12411391940336,158.15306619488004,158.1538543483746,158.18038344908922,158.19495569877557,158.21425603635728,158.21666835908786,158.26316629145015,158.2946844942828,158.32004867658773,158.3671870200292,158.4297959926582,158.4689764168213,158.47573406013134,158.49292040279596,158.5094905938637,158.55271414097817,158.57390006238154,158.65164982463386,158.67465754634043,158.701996664396,158.73073576108064,158.73655493529404,158.79436707348665,158.90203244293605,158.90928392191057,159.09250637062698,159.112530703696,159.11774596962164,159.2038506452269,159.31537986314646,159.5089523782464,159.52208386532874,159.58986170922063,159.6024318616781,159.6385977190952,159.72372164421017,159.73564240560674,159.79647187944406,159.84675272941882,159.93252786017976,159.9662273647298,160.05755500642533,160.06499982612883,160.15982669023825,160.16141362847006,160.1973178616078,160.22885843040342,160.26452820240544,160.28629857897465,160.32415250355882,160.37501145442738,160.46163682032886,160.4808397758844,160.58169475854882,160.64853387049203,160.81506117045785,160.83915171744084,160.84984392422905,160.90973344125018,160.9204702944225,160.95158440190525,161.0456545837192,161.09369521447078,161.10742506445357,161.1754872879958,161.21098830156896,161.22122402005633,161.27321496472575,161.3602827985024,161.41906373133068,161.6063094943403,161.69394838210795,161.7040444032917,161.72762055126958,161.75138337615007,161.77509323330392,161.89965373051604,161.93860763876788,161.980158455352,161.98833562924736,162.0932314766586,162.13522193427968,162.1375916916269,162.14792851058286,162.15061992477706,162.18192803488301,162.20086351845788,162.2363371390475,162.25233508644666,162.26790714507976,162.27531801219513,162.35061697191176,162.3961290149208,162.4048817595182,162.45179353714002,162.47248458485316,162.4780284940557,162.51080429967166,162.5425494913957,162.57062016435185,162.62028871142894,162.63208268939266,162.63819727095125,162.70552085724847,162.80673937091643,162.8871835596191,162.93475205011254,162.97730466029535,162.97762746406875,163.01035969616157,163.07086955148674,163.08086377343722,163.24321455777343,163.2496782344707,163.25129774331623,163.29134734981668,163.33241415015198,163.4391953189794,163.49522932593408,163.60904540312995,163.65036299325254,163.7078129824335,163.86945266373036,164.0316178679605,164.03539455590703,164.14349761365983,164.15426545947102,164.18840419293687,164.20396800228372,164.23455629482623,164.23685450434542,164.2691197715917,164.28953599250693,164.48680239699138,164.56634638336104,164.75535373379364,164.76489175500467,164.78814135394197,164.8120104122529,164.8176123792202,164.97032046227966,164.98393053104573,165.07149756990083,165.2334651166459,165.26515867073735,165.2852729101595,165.4154900578019,165.49820434873854,165.537922845698,165.53800368829155,165.54146826868833,165.59892754533934,165.63457350712386,165.69159957011055,165.72803240945404,165.85756028556898,165.85822076716266,166.0692743806368,166.07565351216252,166.10926859738322,166.17177434059667,166.21202532992905,166.28672748387928,166.3053543899737,166.30717018650952,166.32409559791552,166.38003741789518,166.4218435138082,166.42745167967195,166.48403241783853,166.4930169132828,166.4948068168683,166.49811627609807,166.5327870211811,166.53490975927647,166.71494007164276,166.74854434641387,166.76965930620662,166.92541222414002,166.93316934765247,166.93468175409708,167.00278855575226,167.0386224636399,167.12280364812827,167.23139790138853,167.45068914128035,167.46627524195532,167.48756414473436,167.5339448192473,167.60018588806653,167.62798989763704,167.71722463387,167.73755315613946,167.79239295665124,167.9106737650599,167.94602721317617,168.00156774541875,168.12401622035387,168.16937203227835,168.30500992367786,168.3104665305456,168.4493747185857,168.46171345344112,168.7118652806177,168.77692645345408,169.09180478857658,169.3470272668906,169.37087305785823,169.58709220390014,169.69036202653155,169.85704052632045,169.86739234700408,169.8743611109916,169.99245913093407,170.016814529255,170.34593391636596,170.40899520863573,170.40965764673226,170.45674252002368,170.4757458533577,170.53378053214968,170.54203627210336,170.5947020712069,170.6697838883822,170.76641291849225,170.83633922364487,170.88058745758815,170.95712137131625,171.07034962555255,171.11833374039804,171.13114927499572,171.13819063887036,171.33265778361462,171.43891737891846,171.52116609214272,171.53374518129945,171.5671573291238,171.57155963396016,171.60154423385893,171.80371985498834,171.98724644661272,171.99939507089215,172.028498768668,172.08888136574592,172.10021043273872,172.12034974217846,172.6498115154155,172.67142890140178,172.72824875464946,172.76637834597676,172.84504197317293,172.90520770815888,172.98878490098227,173.07791574200456,173.49151654914053,173.5622852769282,173.57091252784792,173.64001173017454,173.76198152288163,173.77770141507213,173.78662416457377,173.86713318123,173.99333741016372,174.1715482444781,174.19601222563486,174.45007618303518,174.61813006216005,174.71029610427297,174.98874302184868,175.22860657198285,175.24616516668675,175.2742347894676,175.33308557061684,175.51651889669296,175.63895447327133,175.79063230575844,176.34814973049484,176.54641573977807,176.59358984816387,176.6122521804117,177.660832821753,177.75348312977786,177.96465202228526,178.01469067817837,178.2603401617968,178.52802490427086,178.68022017882754,178.8933183083571,178.9239948606466,178.932833609951,179.64157502258809,180.03420844708523,180.09233045581675,180.40573415942728,180.79720927744467,180.99533939110597,181.119601695443,181.25125670432521,181.84504721875024,181.87718552190788,182.17340360681914,182.52118595734302,182.6062534224255,182.8940743816492,182.96268423417743,183.33283385861998,183.49889730345575,184.01853595151374,184.05690099374038,184.44822085302047,184.73685500146502,184.96415854471587,185.33338274733356,185.33762197304614,185.72236689568436,186.3408707644309,186.48077704194313,187.74405385882432,187.9215116151321,187.9598439150339,188.53708669537542,188.63424796381963,189.3528052191301,189.7981893834978,190.94271618547342,191.43129897372123,192.6723600977127,192.6767612784678,192.87821266437268,193.87318309902335,194.3240626848941,194.4072735288483,194.96714289362802,195.28417018025948,200.59979002603103,203.3698161584824,203.60409839768573,203.6185768094982,204.66107006775061,204.91318313562917,207.1797343869017,212.26616223491618,212.80183343803148],\"xaxis\":\"x\",\"yaxis\":\"y\",\"type\":\"histogram\"}],                        {\"template\":{\"data\":{\"bar\":[{\"error_x\":{\"color\":\"#2a3f5f\"},\"error_y\":{\"color\":\"#2a3f5f\"},\"marker\":{\"line\":{\"color\":\"#E5ECF6\",\"width\":0.5},\"pattern\":{\"fillmode\":\"overlay\",\"size\":10,\"solidity\":0.2}},\"type\":\"bar\"}],\"barpolar\":[{\"marker\":{\"line\":{\"color\":\"#E5ECF6\",\"width\":0.5},\"pattern\":{\"fillmode\":\"overlay\",\"size\":10,\"solidity\":0.2}},\"type\":\"barpolar\"}],\"carpet\":[{\"aaxis\":{\"endlinecolor\":\"#2a3f5f\",\"gridcolor\":\"white\",\"linecolor\":\"white\",\"minorgridcolor\":\"white\",\"startlinecolor\":\"#2a3f5f\"},\"baxis\":{\"endlinecolor\":\"#2a3f5f\",\"gridcolor\":\"white\",\"linecolor\":\"white\",\"minorgridcolor\":\"white\",\"startlinecolor\":\"#2a3f5f\"},\"type\":\"carpet\"}],\"choropleth\":[{\"colorbar\":{\"outlinewidth\":0,\"ticks\":\"\"},\"type\":\"choropleth\"}],\"contour\":[{\"colorbar\":{\"outlinewidth\":0,\"ticks\":\"\"},\"colorscale\":[[0.0,\"#0d0887\"],[0.1111111111111111,\"#46039f\"],[0.2222222222222222,\"#7201a8\"],[0.3333333333333333,\"#9c179e\"],[0.4444444444444444,\"#bd3786\"],[0.5555555555555556,\"#d8576b\"],[0.6666666666666666,\"#ed7953\"],[0.7777777777777778,\"#fb9f3a\"],[0.8888888888888888,\"#fdca26\"],[1.0,\"#f0f921\"]],\"type\":\"contour\"}],\"contourcarpet\":[{\"colorbar\":{\"outlinewidth\":0,\"ticks\":\"\"},\"type\":\"contourcarpet\"}],\"heatmap\":[{\"colorbar\":{\"outlinewidth\":0,\"ticks\":\"\"},\"colorscale\":[[0.0,\"#0d0887\"],[0.1111111111111111,\"#46039f\"],[0.2222222222222222,\"#7201a8\"],[0.3333333333333333,\"#9c179e\"],[0.4444444444444444,\"#bd3786\"],[0.5555555555555556,\"#d8576b\"],[0.6666666666666666,\"#ed7953\"],[0.7777777777777778,\"#fb9f3a\"],[0.8888888888888888,\"#fdca26\"],[1.0,\"#f0f921\"]],\"type\":\"heatmap\"}],\"heatmapgl\":[{\"colorbar\":{\"outlinewidth\":0,\"ticks\":\"\"},\"colorscale\":[[0.0,\"#0d0887\"],[0.1111111111111111,\"#46039f\"],[0.2222222222222222,\"#7201a8\"],[0.3333333333333333,\"#9c179e\"],[0.4444444444444444,\"#bd3786\"],[0.5555555555555556,\"#d8576b\"],[0.6666666666666666,\"#ed7953\"],[0.7777777777777778,\"#fb9f3a\"],[0.8888888888888888,\"#fdca26\"],[1.0,\"#f0f921\"]],\"type\":\"heatmapgl\"}],\"histogram\":[{\"marker\":{\"pattern\":{\"fillmode\":\"overlay\",\"size\":10,\"solidity\":0.2}},\"type\":\"histogram\"}],\"histogram2d\":[{\"colorbar\":{\"outlinewidth\":0,\"ticks\":\"\"},\"colorscale\":[[0.0,\"#0d0887\"],[0.1111111111111111,\"#46039f\"],[0.2222222222222222,\"#7201a8\"],[0.3333333333333333,\"#9c179e\"],[0.4444444444444444,\"#bd3786\"],[0.5555555555555556,\"#d8576b\"],[0.6666666666666666,\"#ed7953\"],[0.7777777777777778,\"#fb9f3a\"],[0.8888888888888888,\"#fdca26\"],[1.0,\"#f0f921\"]],\"type\":\"histogram2d\"}],\"histogram2dcontour\":[{\"colorbar\":{\"outlinewidth\":0,\"ticks\":\"\"},\"colorscale\":[[0.0,\"#0d0887\"],[0.1111111111111111,\"#46039f\"],[0.2222222222222222,\"#7201a8\"],[0.3333333333333333,\"#9c179e\"],[0.4444444444444444,\"#bd3786\"],[0.5555555555555556,\"#d8576b\"],[0.6666666666666666,\"#ed7953\"],[0.7777777777777778,\"#fb9f3a\"],[0.8888888888888888,\"#fdca26\"],[1.0,\"#f0f921\"]],\"type\":\"histogram2dcontour\"}],\"mesh3d\":[{\"colorbar\":{\"outlinewidth\":0,\"ticks\":\"\"},\"type\":\"mesh3d\"}],\"parcoords\":[{\"line\":{\"colorbar\":{\"outlinewidth\":0,\"ticks\":\"\"}},\"type\":\"parcoords\"}],\"pie\":[{\"automargin\":true,\"type\":\"pie\"}],\"scatter\":[{\"marker\":{\"colorbar\":{\"outlinewidth\":0,\"ticks\":\"\"}},\"type\":\"scatter\"}],\"scatter3d\":[{\"line\":{\"colorbar\":{\"outlinewidth\":0,\"ticks\":\"\"}},\"marker\":{\"colorbar\":{\"outlinewidth\":0,\"ticks\":\"\"}},\"type\":\"scatter3d\"}],\"scattercarpet\":[{\"marker\":{\"colorbar\":{\"outlinewidth\":0,\"ticks\":\"\"}},\"type\":\"scattercarpet\"}],\"scattergeo\":[{\"marker\":{\"colorbar\":{\"outlinewidth\":0,\"ticks\":\"\"}},\"type\":\"scattergeo\"}],\"scattergl\":[{\"marker\":{\"colorbar\":{\"outlinewidth\":0,\"ticks\":\"\"}},\"type\":\"scattergl\"}],\"scattermapbox\":[{\"marker\":{\"colorbar\":{\"outlinewidth\":0,\"ticks\":\"\"}},\"type\":\"scattermapbox\"}],\"scatterpolar\":[{\"marker\":{\"colorbar\":{\"outlinewidth\":0,\"ticks\":\"\"}},\"type\":\"scatterpolar\"}],\"scatterpolargl\":[{\"marker\":{\"colorbar\":{\"outlinewidth\":0,\"ticks\":\"\"}},\"type\":\"scatterpolargl\"}],\"scatterternary\":[{\"marker\":{\"colorbar\":{\"outlinewidth\":0,\"ticks\":\"\"}},\"type\":\"scatterternary\"}],\"surface\":[{\"colorbar\":{\"outlinewidth\":0,\"ticks\":\"\"},\"colorscale\":[[0.0,\"#0d0887\"],[0.1111111111111111,\"#46039f\"],[0.2222222222222222,\"#7201a8\"],[0.3333333333333333,\"#9c179e\"],[0.4444444444444444,\"#bd3786\"],[0.5555555555555556,\"#d8576b\"],[0.6666666666666666,\"#ed7953\"],[0.7777777777777778,\"#fb9f3a\"],[0.8888888888888888,\"#fdca26\"],[1.0,\"#f0f921\"]],\"type\":\"surface\"}],\"table\":[{\"cells\":{\"fill\":{\"color\":\"#EBF0F8\"},\"line\":{\"color\":\"white\"}},\"header\":{\"fill\":{\"color\":\"#C8D4E3\"},\"line\":{\"color\":\"white\"}},\"type\":\"table\"}]},\"layout\":{\"annotationdefaults\":{\"arrowcolor\":\"#2a3f5f\",\"arrowhead\":0,\"arrowwidth\":1},\"autotypenumbers\":\"strict\",\"coloraxis\":{\"colorbar\":{\"outlinewidth\":0,\"ticks\":\"\"}},\"colorscale\":{\"diverging\":[[0,\"#8e0152\"],[0.1,\"#c51b7d\"],[0.2,\"#de77ae\"],[0.3,\"#f1b6da\"],[0.4,\"#fde0ef\"],[0.5,\"#f7f7f7\"],[0.6,\"#e6f5d0\"],[0.7,\"#b8e186\"],[0.8,\"#7fbc41\"],[0.9,\"#4d9221\"],[1,\"#276419\"]],\"sequential\":[[0.0,\"#0d0887\"],[0.1111111111111111,\"#46039f\"],[0.2222222222222222,\"#7201a8\"],[0.3333333333333333,\"#9c179e\"],[0.4444444444444444,\"#bd3786\"],[0.5555555555555556,\"#d8576b\"],[0.6666666666666666,\"#ed7953\"],[0.7777777777777778,\"#fb9f3a\"],[0.8888888888888888,\"#fdca26\"],[1.0,\"#f0f921\"]],\"sequentialminus\":[[0.0,\"#0d0887\"],[0.1111111111111111,\"#46039f\"],[0.2222222222222222,\"#7201a8\"],[0.3333333333333333,\"#9c179e\"],[0.4444444444444444,\"#bd3786\"],[0.5555555555555556,\"#d8576b\"],[0.6666666666666666,\"#ed7953\"],[0.7777777777777778,\"#fb9f3a\"],[0.8888888888888888,\"#fdca26\"],[1.0,\"#f0f921\"]]},\"colorway\":[\"#636efa\",\"#EF553B\",\"#00cc96\",\"#ab63fa\",\"#FFA15A\",\"#19d3f3\",\"#FF6692\",\"#B6E880\",\"#FF97FF\",\"#FECB52\"],\"font\":{\"color\":\"#2a3f5f\"},\"geo\":{\"bgcolor\":\"white\",\"lakecolor\":\"white\",\"landcolor\":\"#E5ECF6\",\"showlakes\":true,\"showland\":true,\"subunitcolor\":\"white\"},\"hoverlabel\":{\"align\":\"left\"},\"hovermode\":\"closest\",\"mapbox\":{\"style\":\"light\"},\"paper_bgcolor\":\"white\",\"plot_bgcolor\":\"#E5ECF6\",\"polar\":{\"angularaxis\":{\"gridcolor\":\"white\",\"linecolor\":\"white\",\"ticks\":\"\"},\"bgcolor\":\"#E5ECF6\",\"radialaxis\":{\"gridcolor\":\"white\",\"linecolor\":\"white\",\"ticks\":\"\"}},\"scene\":{\"xaxis\":{\"backgroundcolor\":\"#E5ECF6\",\"gridcolor\":\"white\",\"gridwidth\":2,\"linecolor\":\"white\",\"showbackground\":true,\"ticks\":\"\",\"zerolinecolor\":\"white\"},\"yaxis\":{\"backgroundcolor\":\"#E5ECF6\",\"gridcolor\":\"white\",\"gridwidth\":2,\"linecolor\":\"white\",\"showbackground\":true,\"ticks\":\"\",\"zerolinecolor\":\"white\"},\"zaxis\":{\"backgroundcolor\":\"#E5ECF6\",\"gridcolor\":\"white\",\"gridwidth\":2,\"linecolor\":\"white\",\"showbackground\":true,\"ticks\":\"\",\"zerolinecolor\":\"white\"}},\"shapedefaults\":{\"line\":{\"color\":\"#2a3f5f\"}},\"ternary\":{\"aaxis\":{\"gridcolor\":\"white\",\"linecolor\":\"white\",\"ticks\":\"\"},\"baxis\":{\"gridcolor\":\"white\",\"linecolor\":\"white\",\"ticks\":\"\"},\"bgcolor\":\"#E5ECF6\",\"caxis\":{\"gridcolor\":\"white\",\"linecolor\":\"white\",\"ticks\":\"\"}},\"title\":{\"x\":0.05},\"xaxis\":{\"automargin\":true,\"gridcolor\":\"white\",\"linecolor\":\"white\",\"ticks\":\"\",\"title\":{\"standoff\":15},\"zerolinecolor\":\"white\",\"zerolinewidth\":2},\"yaxis\":{\"automargin\":true,\"gridcolor\":\"white\",\"linecolor\":\"white\",\"ticks\":\"\",\"title\":{\"standoff\":15},\"zerolinecolor\":\"white\",\"zerolinewidth\":2}}},\"xaxis\":{\"anchor\":\"y\",\"domain\":[0.0,1.0],\"title\":{\"text\":\"value\"}},\"yaxis\":{\"anchor\":\"x\",\"domain\":[0.0,1.0],\"title\":{\"text\":\"count\"}},\"legend\":{\"title\":{\"text\":\"variable\"},\"tracegroupgap\":0},\"title\":{\"text\":\"Histogram of the parametric bootstrap replications of theta\"},\"barmode\":\"relative\"},                        {\"responsive\": true}                    ).then(function(){\n                            \nvar gd = document.getElementById('97bda829-6288-4f34-9fea-c43ed6ceff14');\nvar x = new MutationObserver(function (mutations, observer) {{\n        var display = window.getComputedStyle(gd).display;\n        if (!display || display === 'none') {{\n            console.log([gd, 'removed!']);\n            Plotly.purge(gd);\n            observer.disconnect();\n        }}\n}});\n\n// Listen for the removal of the full notebook cells\nvar notebookContainer = gd.closest('#notebook-container');\nif (notebookContainer) {{\n    x.observe(notebookContainer, {childList: true});\n}}\n\n// Listen for the clearing of the current output cell\nvar outputEl = gd.closest('.output');\nif (outputEl) {{\n    x.observe(outputEl, {childList: true});\n}}\n\n                        })                };                });            </script>        </div>"
     },
     "metadata": {},
     "output_type": "display_data"
    }
   ],
   "source": [
    "px.histogram(param_bootstrap_estimations,\n",
    "             title = 'Histogram of the parametric bootstrap replications of theta')"
   ]
  },
  {
   "cell_type": "code",
   "execution_count": 82,
   "outputs": [
    {
     "data": {
      "application/vnd.plotly.v1+json": {
       "data": [
        {
         "alignmentgroup": "True",
         "bingroup": "x",
         "hovertemplate": "variable=0<br>value=%{x}<br>count=%{y}<extra></extra>",
         "legendgroup": "0",
         "marker": {
          "color": "#636efa",
          "pattern": {
           "shape": ""
          }
         },
         "name": "0",
         "offsetgroup": "0",
         "orientation": "v",
         "showlegend": true,
         "x": [
          112.53537107126822,
          112.68568759640263,
          114.66477507080653,
          115.97889196380189,
          116.3699367608301,
          117.66955437079548,
          117.94533277979514,
          118.31876320427591,
          119.75182967133365,
          120.3253205806749,
          120.50547016873628,
          120.54187461887955,
          120.67048313933704,
          121.3126844193474,
          121.53334916317124,
          121.7432461377385,
          121.7658138122572,
          122.03868790453595,
          122.07827297690456,
          122.23110558049025,
          122.53445720716091,
          122.59279743310123,
          122.73525344605841,
          122.90810203699303,
          123.41771477065441,
          123.50432854728776,
          123.61123542290754,
          123.93964913707876,
          124.20337451073459,
          124.22033348554973,
          124.56721724049898,
          124.91134056562777,
          125.08355954233299,
          125.39514248323806,
          125.49256581337826,
          126.04210045398695,
          126.1658664625657,
          126.2905736227964,
          126.56669462876448,
          126.61336682585527,
          126.68223911529964,
          126.80248063905594,
          126.80748846065048,
          126.82043500424426,
          126.82574280416705,
          126.8446118570461,
          126.85220264402999,
          126.85843185776986,
          127.19717569756568,
          127.33358652135517,
          127.40591278245849,
          127.51288240334486,
          127.79769777087434,
          127.9407163444179,
          127.94907986627824,
          128.18274492469783,
          128.38561019293385,
          128.44813312407658,
          128.58295111043296,
          128.668964326482,
          128.7730711013519,
          128.78734392657927,
          129.03714895776284,
          129.116686141299,
          129.2405888034408,
          129.4943252438659,
          129.6415369179068,
          129.6790695921174,
          129.7026254348574,
          129.74638087825932,
          129.77960188684517,
          129.90239612821946,
          130.25088408148298,
          130.26070390158696,
          130.2852132161647,
          130.50725880228083,
          130.71737697173563,
          130.77681920391655,
          130.7777791891654,
          130.87707832419832,
          130.93738587845877,
          131.0165054863927,
          131.18103596630922,
          131.2134187684655,
          131.3064853042647,
          131.34780908280405,
          131.3524662076575,
          131.46867665029816,
          131.4897100577666,
          131.59645899168765,
          131.78530702147677,
          131.790142026955,
          131.93120021048708,
          131.93553374064354,
          132.2902599127184,
          132.34161368141685,
          132.39784814898053,
          132.4031707053584,
          132.5622840578781,
          132.5780687863845,
          132.57811956638204,
          132.58326474683673,
          132.64018801075085,
          132.68537376509258,
          132.92234260428918,
          132.96824479982828,
          132.99981117570923,
          133.1362532344943,
          133.1559767061493,
          133.16737827388698,
          133.29621464815617,
          133.40700341283846,
          133.49193466597328,
          133.73894063365373,
          133.7411208458959,
          133.85854140286423,
          134.01558245970247,
          134.12007252872596,
          134.3151716776475,
          134.39275545650952,
          134.39582039445463,
          134.42287511851137,
          134.66640011880745,
          134.82895632584246,
          134.90558762924903,
          135.01587785757457,
          135.02606769568212,
          135.04913003110892,
          135.11137621730484,
          135.23956780371327,
          135.3114992606703,
          135.3516923373384,
          135.47286934173027,
          135.55058436088183,
          135.6383149427363,
          135.8614307606168,
          135.8760598607361,
          135.9100406497931,
          135.94603003067024,
          135.97558167012656,
          136.1058522890777,
          136.1494112748169,
          136.49034728459068,
          136.56394301247323,
          136.62472063495895,
          136.6408344787253,
          136.7430192682074,
          136.79551921351128,
          136.8238267890525,
          136.82631503595647,
          137.11153723031993,
          137.31129645023657,
          137.32175192578111,
          137.56961258449903,
          137.6096925078784,
          137.64397053475628,
          137.77439300669067,
          137.92108748414876,
          137.9970799515126,
          138.00795632214124,
          138.00855577055097,
          138.0911493041483,
          138.1421443901714,
          138.1659496199034,
          138.20164459333353,
          138.262413711092,
          138.33981839328908,
          138.48883428930043,
          138.49320542670975,
          138.54707734773123,
          138.5478041248553,
          138.66298569517733,
          138.74788955384327,
          138.76441507553494,
          138.90421551616961,
          139.0404228113372,
          139.06103524596008,
          139.1041781743605,
          139.15759469532316,
          139.2363573585535,
          139.29855927695974,
          139.35414113676657,
          139.46910978054638,
          139.48306378467595,
          139.5530698620804,
          139.60578142864708,
          139.6212435082111,
          139.6336661339368,
          139.73442825948266,
          139.7541009636679,
          139.75663220349566,
          139.93281041604436,
          140.0103957514398,
          140.01568162226457,
          140.08794392588462,
          140.1761174975325,
          140.20299330509462,
          140.2870513257246,
          140.30898774624276,
          140.33282700042164,
          140.4790250188351,
          140.52580146050374,
          140.527299948597,
          140.61681376129047,
          140.63313541291296,
          140.652262409004,
          140.66307679718946,
          140.68926968275395,
          140.72679023735657,
          140.82572658950147,
          140.92366517896562,
          140.96058606069099,
          140.96728102232495,
          140.98541149879443,
          140.98935212335167,
          141.02477286625626,
          141.03656198907382,
          141.1021132413026,
          141.12343539331002,
          141.12375033920148,
          141.13375861411384,
          141.1358228702866,
          141.16978529648893,
          141.18595805310326,
          141.23677532609022,
          141.23956054321255,
          141.25555335100051,
          141.25714428954882,
          141.37038332945892,
          141.4465068888328,
          141.4686118559903,
          141.50300257906684,
          141.51631411118365,
          141.55160681977588,
          141.57088985538272,
          141.59156566432318,
          141.61360617798482,
          141.64075778565598,
          141.65341476026984,
          141.65606497591892,
          141.73002302355084,
          141.91484520804732,
          141.94862227760765,
          141.9601497053373,
          141.96185581209645,
          142.01158795211092,
          142.03847015612018,
          142.09050814251913,
          142.10297844994605,
          142.3629052796019,
          142.36647485786736,
          142.42118695912936,
          142.44993364089515,
          142.53008229332204,
          142.59259249273708,
          142.64709801487132,
          142.64875773744026,
          142.67512150993736,
          142.7710580274546,
          142.77798216951214,
          142.83851109186773,
          142.85825215851256,
          142.87990747609348,
          142.90461940169797,
          142.93173849904596,
          142.95672602844368,
          142.98305623629855,
          143.08931768494253,
          143.1043803172589,
          143.18692990963171,
          143.19829902318094,
          143.26020936634814,
          143.2873870814298,
          143.31190783524775,
          143.35468917095062,
          143.48244571079798,
          143.4978624935318,
          143.53345769050298,
          143.5363430322212,
          143.60575616998565,
          143.62853377162315,
          143.69117538647507,
          143.69986232601696,
          143.72203578480315,
          143.72604391271892,
          143.74743659863572,
          143.90834867982252,
          143.9473597124232,
          143.95905366640378,
          143.9664237830387,
          144.14768639871653,
          144.15330431587265,
          144.16012830428045,
          144.2122088736539,
          144.22193872183928,
          144.22357851348875,
          144.28432644163925,
          144.33660570299648,
          144.37806812155233,
          144.4531358377565,
          144.48236734890156,
          144.52988514366766,
          144.54859421935996,
          144.55723120171987,
          144.59255832821998,
          144.60080099751715,
          144.60702652594236,
          144.61196009089568,
          144.6330980809188,
          144.65285884515575,
          144.84414124808808,
          144.89637880751113,
          144.94515641450823,
          144.96085029491525,
          145.00279442690282,
          145.01396550289095,
          145.02827212991843,
          145.11937959299277,
          145.14069338532354,
          145.1755874571699,
          145.23142403000142,
          145.23180138961652,
          145.26089443938477,
          145.30461232510987,
          145.31346525041806,
          145.34976639349983,
          145.37612420894268,
          145.38747076106876,
          145.3928492710962,
          145.39979348648873,
          145.41981630549446,
          145.478893633785,
          145.5041882961066,
          145.54281921575617,
          145.55271871534995,
          145.55384987704878,
          145.60969858359346,
          145.61742038978264,
          145.62378451670753,
          145.62844398559778,
          145.64883287126997,
          145.71543646668175,
          145.76073449505535,
          145.77249687275457,
          145.7772083087501,
          145.83650782083544,
          145.85259593026007,
          145.88612107103853,
          145.90895004895071,
          145.9134645412102,
          145.92205478842433,
          146.04097020531105,
          146.10798774112976,
          146.11447918262488,
          146.15925193855165,
          146.16343792649587,
          146.17207240922423,
          146.20263642968655,
          146.24073497089742,
          146.2470135025249,
          146.30099241739256,
          146.3204482987918,
          146.38023158602786,
          146.4257147640825,
          146.44252265762836,
          146.44281917305074,
          146.44292466390974,
          146.4795900460198,
          146.5283044012875,
          146.5342270578515,
          146.5391645423146,
          146.57677868665345,
          146.6098577966732,
          146.65640187259174,
          146.68227238192986,
          146.69278069045725,
          146.70188566789892,
          146.73110983285224,
          146.77027808402948,
          146.86196407803024,
          146.9075084885444,
          146.93340761041074,
          146.9748352224319,
          147.0049118423215,
          147.07975887798978,
          147.1112031637492,
          147.11643855064534,
          147.1573063799347,
          147.16859774551236,
          147.20366203532893,
          147.20428850293578,
          147.30634931946486,
          147.36304949174254,
          147.43715468137128,
          147.442869738597,
          147.4457041974524,
          147.47363019102087,
          147.48549260569274,
          147.55106443267854,
          147.5842166754517,
          147.62731650726482,
          147.67191680865798,
          147.69781446056757,
          147.74364908948965,
          147.94016907524895,
          147.95965929968986,
          148.05205707807696,
          148.0726276438313,
          148.13328309010575,
          148.22186584036834,
          148.22607653593937,
          148.2642436270031,
          148.33215473657705,
          148.33361818170133,
          148.41505119812206,
          148.44176621089835,
          148.53485480812142,
          148.54341390822367,
          148.62062491015976,
          148.6211728129389,
          148.6241006188854,
          148.64483138007836,
          148.6574696627775,
          148.7721519002655,
          148.82697670457185,
          148.85546429246276,
          148.96688814643574,
          148.96813531201929,
          149.01111670433315,
          149.0963705040526,
          149.12718096420807,
          149.170053361289,
          149.17573746694555,
          149.20200458409306,
          149.3041756339061,
          149.3230547660879,
          149.34990966939824,
          149.358912664759,
          149.4036241446125,
          149.44049250501965,
          149.4577958788929,
          149.47659155957388,
          149.4948309428297,
          149.49817019609304,
          149.53300859081156,
          149.54161192737777,
          149.61141878739738,
          149.6518644500805,
          149.6613998820111,
          149.68539934195198,
          149.68629668073544,
          149.69561277693543,
          149.71132171946442,
          149.7141625279638,
          149.86742723945562,
          149.8729927667041,
          149.90083929479408,
          149.9043905497832,
          150.06427986439346,
          150.13412277112778,
          150.16114712789587,
          150.2022395765365,
          150.2170268933085,
          150.23670722220868,
          150.2556342807757,
          150.31275785033452,
          150.3519932983509,
          150.3769161021534,
          150.4003760402329,
          150.5677041924253,
          150.58583002123135,
          150.60488105284526,
          150.63245728996276,
          150.7051805632804,
          150.78033392564123,
          150.82691394481947,
          150.84982840375824,
          150.88048131550758,
          150.8896538030161,
          150.99343164896982,
          150.99838282094098,
          151.00478444099812,
          151.01317588140375,
          151.01359198768282,
          151.03492723283557,
          151.0501892816264,
          151.05781100632356,
          151.15934431117313,
          151.17277572440344,
          151.28642284241062,
          151.32500554504736,
          151.33292587803663,
          151.42448105241095,
          151.44695794868025,
          151.55551387130146,
          151.56477341354764,
          151.57340117462604,
          151.57398938731615,
          151.66792089291008,
          151.75005999686022,
          151.80949963283555,
          151.85023044762872,
          151.87721550583268,
          151.89618778568914,
          151.9295358196167,
          151.95679071920506,
          152.0267950758758,
          152.05098199857733,
          152.05880921692832,
          152.07563442750453,
          152.12001659312685,
          152.17968677864377,
          152.20566588451632,
          152.25062828286534,
          152.29525991476237,
          152.3042063649196,
          152.36888035154107,
          152.42391040421003,
          152.43592921722467,
          152.45703562071364,
          152.46462319802544,
          152.5002458265235,
          152.50129787133136,
          152.56453691906745,
          152.5833613207435,
          152.59014440804148,
          152.60140796377163,
          152.6470928900266,
          152.67111431122157,
          152.68378692370194,
          152.71990893559155,
          152.75438757925167,
          152.77623302805725,
          152.7818870438512,
          152.78330763775134,
          152.8230401065563,
          152.98997962835392,
          153.0026680020729,
          153.00933684231327,
          153.01259716244613,
          153.07288981468474,
          153.1025665000963,
          153.21194914556253,
          153.22357098503255,
          153.244552642381,
          153.26742698914057,
          153.33009951485369,
          153.36350149923823,
          153.38236483403335,
          153.4158226209257,
          153.4343212647983,
          153.47445730392175,
          153.4971211143816,
          153.50175838003884,
          153.5127066610264,
          153.52967907494678,
          153.5533645994596,
          153.55337133531287,
          153.5731475833381,
          153.60213471285735,
          153.64931548217015,
          153.66156307962302,
          153.6776293700127,
          153.7078358071059,
          153.718375160166,
          153.7198681103437,
          153.72468725052474,
          153.90013492472903,
          153.94852622293544,
          154.0184941595419,
          154.0472732232165,
          154.06246501283513,
          154.13022951452632,
          154.15887991291967,
          154.22355910272657,
          154.3116593004602,
          154.45549153165732,
          154.4754650315918,
          154.5087963633364,
          154.55343151862505,
          154.60532633676888,
          154.64830535471978,
          154.7869845364651,
          154.83465132717774,
          154.83842268483096,
          154.83901934672934,
          154.87819167057577,
          155.03725638601773,
          155.0410497477861,
          155.0444569309141,
          155.05375099202726,
          155.08903340568736,
          155.116376807644,
          155.151082050569,
          155.23299232626633,
          155.25808602507573,
          155.27881811930163,
          155.36258776734084,
          155.3793382981826,
          155.398526694151,
          155.41553547185174,
          155.45081008662027,
          155.4529875170112,
          155.47413208805514,
          155.47484628491014,
          155.4755286806397,
          155.78262891161705,
          155.79259327192676,
          155.89392688276465,
          155.9029897981511,
          155.931001797212,
          156.0049129318124,
          156.00795048203565,
          156.00890373683413,
          156.01902892832064,
          156.04195657170746,
          156.06392750200453,
          156.17524982179742,
          156.18753880799875,
          156.20624035787785,
          156.23363338830404,
          156.24822806395375,
          156.2526633604998,
          156.2679818818619,
          156.32869400935496,
          156.37225682238372,
          156.4484088395017,
          156.513361606717,
          156.52569578672222,
          156.5378789359619,
          156.54219734092666,
          156.60377569756756,
          156.6080732476073,
          156.6846666642936,
          156.89495724857758,
          156.90771530767884,
          156.9340003563264,
          156.93803403510245,
          156.9544927920309,
          157.0407575066344,
          157.08000184587775,
          157.142112622048,
          157.1693387257831,
          157.26440987790184,
          157.27287240018055,
          157.30764899112035,
          157.3320736533632,
          157.34450141507904,
          157.44106325542086,
          157.49778749345978,
          157.56350649038947,
          157.58892189793983,
          157.60468194155138,
          157.67804494621197,
          157.74577570084674,
          157.7579771706871,
          157.7738366609178,
          157.87987981202352,
          157.90871914864417,
          158.03183364294415,
          158.0358457614947,
          158.16211492182475,
          158.19605189776124,
          158.3669129611059,
          158.3746653812838,
          158.48562616519789,
          158.56907652421185,
          158.58411680506762,
          158.69813476661696,
          158.70617883566635,
          158.74141436196402,
          158.81912885641032,
          158.8836261056379,
          158.91033036589886,
          158.91668660603915,
          159.00170317565428,
          159.0132183820225,
          159.0319692951544,
          159.09211138032327,
          159.16165419673771,
          159.20234801843262,
          159.23135384641895,
          159.30576431654148,
          159.4113528816234,
          159.44345995300412,
          159.45890312931536,
          159.48023425776398,
          159.5467787236528,
          159.67348998569105,
          159.68941994833642,
          159.70548105995542,
          159.74157903878617,
          159.78556120353107,
          159.8505212194889,
          160.0583876764699,
          160.13253620010173,
          160.2050554353306,
          160.20584866754584,
          160.210979813747,
          160.23371616424666,
          160.27779152702888,
          160.2981258333,
          160.40379341563627,
          160.49725783099345,
          160.5326906411202,
          160.56451066672852,
          160.63729944726262,
          160.74701618953833,
          160.7486359582217,
          160.79040017519495,
          160.81202342032336,
          160.934575395213,
          160.96828294691645,
          161.03770262962098,
          161.06820702696385,
          161.08016798740545,
          161.08724725982572,
          161.12284929351264,
          161.143987902427,
          161.22365933234548,
          161.28910164159225,
          161.3085921340242,
          161.31019430466242,
          161.3675128717592,
          161.44915271417125,
          161.5355681772521,
          161.64348048410923,
          161.69377781472227,
          161.75075838994798,
          162.01627675606332,
          162.06001212928481,
          162.0637442542052,
          162.06826227635798,
          162.07258168380181,
          162.08859773478022,
          162.1014735068415,
          162.11407746237768,
          162.17159440490445,
          162.47859908502895,
          162.5012273375253,
          162.68510355934578,
          162.73500636154608,
          162.92442305279388,
          162.96635837133007,
          163.01154378836506,
          163.058790074894,
          163.06547897659925,
          163.10198003614153,
          163.133288673201,
          163.1485179965126,
          163.24673480002232,
          163.25516397269107,
          163.28284758489906,
          163.32027502644533,
          163.43407592057923,
          163.46936748788198,
          163.47233195052436,
          163.5360663262641,
          163.56435074098206,
          163.59575260217707,
          163.62336993748082,
          163.65260071157664,
          163.68242107122262,
          163.86511343899178,
          163.9335154278995,
          164.05748479850263,
          164.0770840948248,
          164.09140217669534,
          164.11159832893742,
          164.11460795773394,
          164.16704816288387,
          164.19076736038474,
          164.19305420302135,
          164.1998423616878,
          164.22947755254611,
          164.25196652946374,
          164.29930424607704,
          164.37266671250188,
          164.72693336556057,
          164.75813956806465,
          164.78240299237103,
          164.7904406625459,
          164.88194189991947,
          164.90246251554115,
          164.93628210073913,
          164.9777770894751,
          165.00951746975,
          165.14590799325106,
          165.1743613056872,
          165.20762359852358,
          165.232021208627,
          165.24969076677593,
          165.54407839799322,
          165.55351162509226,
          165.57696147200048,
          165.63927958945658,
          165.68446400694006,
          165.69267399608393,
          165.73984047703775,
          165.78134628631253,
          165.80851038018199,
          165.86405925743296,
          165.9059982320905,
          166.04540526078935,
          166.44014285285692,
          166.4406259366137,
          166.45496746975266,
          166.53565652065015,
          166.54220838837048,
          166.55124912962276,
          166.57467455627818,
          166.5757969001245,
          166.63255850405724,
          166.7750642362013,
          166.78545814149794,
          166.79269093213966,
          166.81703846151672,
          166.82278372799666,
          166.95013364541504,
          167.01215984500334,
          167.01495358022487,
          167.05690886251247,
          167.15008574341934,
          167.16079964334176,
          167.1666563885297,
          167.20922193312583,
          167.28952709376424,
          167.33167493946257,
          167.44446929128327,
          167.5593624068113,
          167.70504314199547,
          167.71411786089814,
          167.7312293742575,
          167.82317562669456,
          167.84245516115575,
          168.01085518684556,
          168.03671276696676,
          168.23752752532764,
          168.29510240539997,
          168.39395381639943,
          168.43406393156167,
          168.53634966689597,
          168.58394576372712,
          168.62280111674568,
          168.65525120360795,
          168.70395742094493,
          168.74226642271626,
          168.78701125646046,
          169.2796544338508,
          169.3031528411137,
          169.495098629039,
          169.53632910629537,
          169.60276622752562,
          169.70709622308758,
          169.80530312324987,
          169.9443221383679,
          170.02525859823425,
          170.032665616189,
          170.0640078916872,
          170.27960960276712,
          170.31424608436603,
          170.48874804067128,
          170.7447372502311,
          170.8186576319156,
          171.08082539189868,
          171.16037016652828,
          171.28814447238094,
          171.29502353028064,
          171.47503481525385,
          171.5698173354119,
          171.60403436935104,
          171.75822468256263,
          171.7957150350506,
          171.83532005080485,
          171.9013890358179,
          171.95522500345268,
          172.10872081163484,
          172.14459882568258,
          172.1961294473882,
          172.28146900523222,
          172.29221024089057,
          172.38637576265918,
          172.43526662588567,
          172.63682862637376,
          172.75318663511993,
          173.08797472426525,
          173.45598725670496,
          173.481476834542,
          173.48205318066917,
          173.54368403873278,
          173.98445030960542,
          174.31926195113164,
          174.70373421253606,
          174.84485828686002,
          174.93331252953422,
          174.9810140707799,
          175.36504882284993,
          175.4876545512672,
          175.51832452730727,
          175.52141170149602,
          175.87866336424136,
          176.0530984314494,
          176.05729990096145,
          176.1238810009839,
          176.19601795007944,
          176.22298277617085,
          176.24236195013705,
          176.33887155253856,
          176.42113968548455,
          176.46666678486392,
          176.60337149217554,
          176.78642415069467,
          176.79905760205548,
          176.79997818227352,
          176.84273654505373,
          176.8593441000061,
          177.19149816047184,
          177.21696548205696,
          177.22829808718532,
          177.33969932449898,
          177.36935323265865,
          177.39511776629067,
          177.45127725790636,
          177.5160425836522,
          177.60172996931678,
          177.72818477207227,
          177.74474262175002,
          177.80986605275237,
          177.86079576456362,
          177.89873172204483,
          177.9967134126988,
          178.00690099595468,
          178.07673681540496,
          178.0915477326899,
          178.1056742606885,
          178.16804034591308,
          178.26571255465478,
          178.76040980650816,
          178.8035593930589,
          178.94055150053458,
          179.0046351365816,
          179.09773067650607,
          179.491528608465,
          179.55910301495996,
          179.8932190257504,
          179.99890844726673,
          180.07801904202978,
          180.0890105679976,
          180.4649712028706,
          180.5613925633839,
          180.68099160750958,
          180.71682567366636,
          181.64593502339366,
          181.66866392648924,
          181.80163140622363,
          182.0247969822917,
          182.07695422479625,
          182.10391614099004,
          182.44002538845038,
          182.55684103952268,
          182.91831690726582,
          183.12519196417887,
          183.2632449328786,
          183.27745468366743,
          183.5862923233796,
          183.89845112572996,
          184.04598199486318,
          184.3517974814373,
          184.38978909341643,
          185.3746303314385,
          185.7788982890753,
          186.30680940975142,
          187.42257032733775,
          187.8480394612055,
          188.1087197901855,
          188.8836756004121,
          189.43731206917073,
          189.49055167969016,
          190.48296921056092,
          190.6034041462732,
          191.03896836361994,
          191.06264739101331,
          191.6613400690829,
          191.66259238114017,
          193.27215902304226,
          194.14120458209172,
          194.98295555639038,
          195.50882748156027,
          195.56804421711135,
          195.57941641588022,
          197.5091753844112,
          198.65584859160168,
          199.40003921965797,
          199.50010280321305,
          199.83121635127586,
          199.87380024418096,
          200.92911890874439,
          204.13993942957276,
          212.18817792346437,
          220.4466045248817
         ],
         "xaxis": "x",
         "yaxis": "y",
         "type": "histogram"
        }
       ],
       "layout": {
        "template": {
         "data": {
          "bar": [
           {
            "error_x": {
             "color": "#2a3f5f"
            },
            "error_y": {
             "color": "#2a3f5f"
            },
            "marker": {
             "line": {
              "color": "#E5ECF6",
              "width": 0.5
             },
             "pattern": {
              "fillmode": "overlay",
              "size": 10,
              "solidity": 0.2
             }
            },
            "type": "bar"
           }
          ],
          "barpolar": [
           {
            "marker": {
             "line": {
              "color": "#E5ECF6",
              "width": 0.5
             },
             "pattern": {
              "fillmode": "overlay",
              "size": 10,
              "solidity": 0.2
             }
            },
            "type": "barpolar"
           }
          ],
          "carpet": [
           {
            "aaxis": {
             "endlinecolor": "#2a3f5f",
             "gridcolor": "white",
             "linecolor": "white",
             "minorgridcolor": "white",
             "startlinecolor": "#2a3f5f"
            },
            "baxis": {
             "endlinecolor": "#2a3f5f",
             "gridcolor": "white",
             "linecolor": "white",
             "minorgridcolor": "white",
             "startlinecolor": "#2a3f5f"
            },
            "type": "carpet"
           }
          ],
          "choropleth": [
           {
            "colorbar": {
             "outlinewidth": 0,
             "ticks": ""
            },
            "type": "choropleth"
           }
          ],
          "contour": [
           {
            "colorbar": {
             "outlinewidth": 0,
             "ticks": ""
            },
            "colorscale": [
             [
              0.0,
              "#0d0887"
             ],
             [
              0.1111111111111111,
              "#46039f"
             ],
             [
              0.2222222222222222,
              "#7201a8"
             ],
             [
              0.3333333333333333,
              "#9c179e"
             ],
             [
              0.4444444444444444,
              "#bd3786"
             ],
             [
              0.5555555555555556,
              "#d8576b"
             ],
             [
              0.6666666666666666,
              "#ed7953"
             ],
             [
              0.7777777777777778,
              "#fb9f3a"
             ],
             [
              0.8888888888888888,
              "#fdca26"
             ],
             [
              1.0,
              "#f0f921"
             ]
            ],
            "type": "contour"
           }
          ],
          "contourcarpet": [
           {
            "colorbar": {
             "outlinewidth": 0,
             "ticks": ""
            },
            "type": "contourcarpet"
           }
          ],
          "heatmap": [
           {
            "colorbar": {
             "outlinewidth": 0,
             "ticks": ""
            },
            "colorscale": [
             [
              0.0,
              "#0d0887"
             ],
             [
              0.1111111111111111,
              "#46039f"
             ],
             [
              0.2222222222222222,
              "#7201a8"
             ],
             [
              0.3333333333333333,
              "#9c179e"
             ],
             [
              0.4444444444444444,
              "#bd3786"
             ],
             [
              0.5555555555555556,
              "#d8576b"
             ],
             [
              0.6666666666666666,
              "#ed7953"
             ],
             [
              0.7777777777777778,
              "#fb9f3a"
             ],
             [
              0.8888888888888888,
              "#fdca26"
             ],
             [
              1.0,
              "#f0f921"
             ]
            ],
            "type": "heatmap"
           }
          ],
          "heatmapgl": [
           {
            "colorbar": {
             "outlinewidth": 0,
             "ticks": ""
            },
            "colorscale": [
             [
              0.0,
              "#0d0887"
             ],
             [
              0.1111111111111111,
              "#46039f"
             ],
             [
              0.2222222222222222,
              "#7201a8"
             ],
             [
              0.3333333333333333,
              "#9c179e"
             ],
             [
              0.4444444444444444,
              "#bd3786"
             ],
             [
              0.5555555555555556,
              "#d8576b"
             ],
             [
              0.6666666666666666,
              "#ed7953"
             ],
             [
              0.7777777777777778,
              "#fb9f3a"
             ],
             [
              0.8888888888888888,
              "#fdca26"
             ],
             [
              1.0,
              "#f0f921"
             ]
            ],
            "type": "heatmapgl"
           }
          ],
          "histogram": [
           {
            "marker": {
             "pattern": {
              "fillmode": "overlay",
              "size": 10,
              "solidity": 0.2
             }
            },
            "type": "histogram"
           }
          ],
          "histogram2d": [
           {
            "colorbar": {
             "outlinewidth": 0,
             "ticks": ""
            },
            "colorscale": [
             [
              0.0,
              "#0d0887"
             ],
             [
              0.1111111111111111,
              "#46039f"
             ],
             [
              0.2222222222222222,
              "#7201a8"
             ],
             [
              0.3333333333333333,
              "#9c179e"
             ],
             [
              0.4444444444444444,
              "#bd3786"
             ],
             [
              0.5555555555555556,
              "#d8576b"
             ],
             [
              0.6666666666666666,
              "#ed7953"
             ],
             [
              0.7777777777777778,
              "#fb9f3a"
             ],
             [
              0.8888888888888888,
              "#fdca26"
             ],
             [
              1.0,
              "#f0f921"
             ]
            ],
            "type": "histogram2d"
           }
          ],
          "histogram2dcontour": [
           {
            "colorbar": {
             "outlinewidth": 0,
             "ticks": ""
            },
            "colorscale": [
             [
              0.0,
              "#0d0887"
             ],
             [
              0.1111111111111111,
              "#46039f"
             ],
             [
              0.2222222222222222,
              "#7201a8"
             ],
             [
              0.3333333333333333,
              "#9c179e"
             ],
             [
              0.4444444444444444,
              "#bd3786"
             ],
             [
              0.5555555555555556,
              "#d8576b"
             ],
             [
              0.6666666666666666,
              "#ed7953"
             ],
             [
              0.7777777777777778,
              "#fb9f3a"
             ],
             [
              0.8888888888888888,
              "#fdca26"
             ],
             [
              1.0,
              "#f0f921"
             ]
            ],
            "type": "histogram2dcontour"
           }
          ],
          "mesh3d": [
           {
            "colorbar": {
             "outlinewidth": 0,
             "ticks": ""
            },
            "type": "mesh3d"
           }
          ],
          "parcoords": [
           {
            "line": {
             "colorbar": {
              "outlinewidth": 0,
              "ticks": ""
             }
            },
            "type": "parcoords"
           }
          ],
          "pie": [
           {
            "automargin": true,
            "type": "pie"
           }
          ],
          "scatter": [
           {
            "marker": {
             "colorbar": {
              "outlinewidth": 0,
              "ticks": ""
             }
            },
            "type": "scatter"
           }
          ],
          "scatter3d": [
           {
            "line": {
             "colorbar": {
              "outlinewidth": 0,
              "ticks": ""
             }
            },
            "marker": {
             "colorbar": {
              "outlinewidth": 0,
              "ticks": ""
             }
            },
            "type": "scatter3d"
           }
          ],
          "scattercarpet": [
           {
            "marker": {
             "colorbar": {
              "outlinewidth": 0,
              "ticks": ""
             }
            },
            "type": "scattercarpet"
           }
          ],
          "scattergeo": [
           {
            "marker": {
             "colorbar": {
              "outlinewidth": 0,
              "ticks": ""
             }
            },
            "type": "scattergeo"
           }
          ],
          "scattergl": [
           {
            "marker": {
             "colorbar": {
              "outlinewidth": 0,
              "ticks": ""
             }
            },
            "type": "scattergl"
           }
          ],
          "scattermapbox": [
           {
            "marker": {
             "colorbar": {
              "outlinewidth": 0,
              "ticks": ""
             }
            },
            "type": "scattermapbox"
           }
          ],
          "scatterpolar": [
           {
            "marker": {
             "colorbar": {
              "outlinewidth": 0,
              "ticks": ""
             }
            },
            "type": "scatterpolar"
           }
          ],
          "scatterpolargl": [
           {
            "marker": {
             "colorbar": {
              "outlinewidth": 0,
              "ticks": ""
             }
            },
            "type": "scatterpolargl"
           }
          ],
          "scatterternary": [
           {
            "marker": {
             "colorbar": {
              "outlinewidth": 0,
              "ticks": ""
             }
            },
            "type": "scatterternary"
           }
          ],
          "surface": [
           {
            "colorbar": {
             "outlinewidth": 0,
             "ticks": ""
            },
            "colorscale": [
             [
              0.0,
              "#0d0887"
             ],
             [
              0.1111111111111111,
              "#46039f"
             ],
             [
              0.2222222222222222,
              "#7201a8"
             ],
             [
              0.3333333333333333,
              "#9c179e"
             ],
             [
              0.4444444444444444,
              "#bd3786"
             ],
             [
              0.5555555555555556,
              "#d8576b"
             ],
             [
              0.6666666666666666,
              "#ed7953"
             ],
             [
              0.7777777777777778,
              "#fb9f3a"
             ],
             [
              0.8888888888888888,
              "#fdca26"
             ],
             [
              1.0,
              "#f0f921"
             ]
            ],
            "type": "surface"
           }
          ],
          "table": [
           {
            "cells": {
             "fill": {
              "color": "#EBF0F8"
             },
             "line": {
              "color": "white"
             }
            },
            "header": {
             "fill": {
              "color": "#C8D4E3"
             },
             "line": {
              "color": "white"
             }
            },
            "type": "table"
           }
          ]
         },
         "layout": {
          "annotationdefaults": {
           "arrowcolor": "#2a3f5f",
           "arrowhead": 0,
           "arrowwidth": 1
          },
          "autotypenumbers": "strict",
          "coloraxis": {
           "colorbar": {
            "outlinewidth": 0,
            "ticks": ""
           }
          },
          "colorscale": {
           "diverging": [
            [
             0,
             "#8e0152"
            ],
            [
             0.1,
             "#c51b7d"
            ],
            [
             0.2,
             "#de77ae"
            ],
            [
             0.3,
             "#f1b6da"
            ],
            [
             0.4,
             "#fde0ef"
            ],
            [
             0.5,
             "#f7f7f7"
            ],
            [
             0.6,
             "#e6f5d0"
            ],
            [
             0.7,
             "#b8e186"
            ],
            [
             0.8,
             "#7fbc41"
            ],
            [
             0.9,
             "#4d9221"
            ],
            [
             1,
             "#276419"
            ]
           ],
           "sequential": [
            [
             0.0,
             "#0d0887"
            ],
            [
             0.1111111111111111,
             "#46039f"
            ],
            [
             0.2222222222222222,
             "#7201a8"
            ],
            [
             0.3333333333333333,
             "#9c179e"
            ],
            [
             0.4444444444444444,
             "#bd3786"
            ],
            [
             0.5555555555555556,
             "#d8576b"
            ],
            [
             0.6666666666666666,
             "#ed7953"
            ],
            [
             0.7777777777777778,
             "#fb9f3a"
            ],
            [
             0.8888888888888888,
             "#fdca26"
            ],
            [
             1.0,
             "#f0f921"
            ]
           ],
           "sequentialminus": [
            [
             0.0,
             "#0d0887"
            ],
            [
             0.1111111111111111,
             "#46039f"
            ],
            [
             0.2222222222222222,
             "#7201a8"
            ],
            [
             0.3333333333333333,
             "#9c179e"
            ],
            [
             0.4444444444444444,
             "#bd3786"
            ],
            [
             0.5555555555555556,
             "#d8576b"
            ],
            [
             0.6666666666666666,
             "#ed7953"
            ],
            [
             0.7777777777777778,
             "#fb9f3a"
            ],
            [
             0.8888888888888888,
             "#fdca26"
            ],
            [
             1.0,
             "#f0f921"
            ]
           ]
          },
          "colorway": [
           "#636efa",
           "#EF553B",
           "#00cc96",
           "#ab63fa",
           "#FFA15A",
           "#19d3f3",
           "#FF6692",
           "#B6E880",
           "#FF97FF",
           "#FECB52"
          ],
          "font": {
           "color": "#2a3f5f"
          },
          "geo": {
           "bgcolor": "white",
           "lakecolor": "white",
           "landcolor": "#E5ECF6",
           "showlakes": true,
           "showland": true,
           "subunitcolor": "white"
          },
          "hoverlabel": {
           "align": "left"
          },
          "hovermode": "closest",
          "mapbox": {
           "style": "light"
          },
          "paper_bgcolor": "white",
          "plot_bgcolor": "#E5ECF6",
          "polar": {
           "angularaxis": {
            "gridcolor": "white",
            "linecolor": "white",
            "ticks": ""
           },
           "bgcolor": "#E5ECF6",
           "radialaxis": {
            "gridcolor": "white",
            "linecolor": "white",
            "ticks": ""
           }
          },
          "scene": {
           "xaxis": {
            "backgroundcolor": "#E5ECF6",
            "gridcolor": "white",
            "gridwidth": 2,
            "linecolor": "white",
            "showbackground": true,
            "ticks": "",
            "zerolinecolor": "white"
           },
           "yaxis": {
            "backgroundcolor": "#E5ECF6",
            "gridcolor": "white",
            "gridwidth": 2,
            "linecolor": "white",
            "showbackground": true,
            "ticks": "",
            "zerolinecolor": "white"
           },
           "zaxis": {
            "backgroundcolor": "#E5ECF6",
            "gridcolor": "white",
            "gridwidth": 2,
            "linecolor": "white",
            "showbackground": true,
            "ticks": "",
            "zerolinecolor": "white"
           }
          },
          "shapedefaults": {
           "line": {
            "color": "#2a3f5f"
           }
          },
          "ternary": {
           "aaxis": {
            "gridcolor": "white",
            "linecolor": "white",
            "ticks": ""
           },
           "baxis": {
            "gridcolor": "white",
            "linecolor": "white",
            "ticks": ""
           },
           "bgcolor": "#E5ECF6",
           "caxis": {
            "gridcolor": "white",
            "linecolor": "white",
            "ticks": ""
           }
          },
          "title": {
           "x": 0.05
          },
          "xaxis": {
           "automargin": true,
           "gridcolor": "white",
           "linecolor": "white",
           "ticks": "",
           "title": {
            "standoff": 15
           },
           "zerolinecolor": "white",
           "zerolinewidth": 2
          },
          "yaxis": {
           "automargin": true,
           "gridcolor": "white",
           "linecolor": "white",
           "ticks": "",
           "title": {
            "standoff": 15
           },
           "zerolinecolor": "white",
           "zerolinewidth": 2
          }
         }
        },
        "xaxis": {
         "anchor": "y",
         "domain": [
          0.0,
          1.0
         ],
         "title": {
          "text": "value"
         }
        },
        "yaxis": {
         "anchor": "x",
         "domain": [
          0.0,
          1.0
         ],
         "title": {
          "text": "count"
         }
        },
        "legend": {
         "title": {
          "text": "variable"
         },
         "tracegroupgap": 0
        },
        "title": {
         "text": "Histogram of the nonparametric bootstrap replications of theta"
        },
        "barmode": "relative"
       },
       "config": {
        "plotlyServerURL": "https://plot.ly"
       }
      },
      "text/html": "<div>                            <div id=\"3f0bac50-9a0f-446f-b653-c47cc66df701\" class=\"plotly-graph-div\" style=\"height:525px; width:100%;\"></div>            <script type=\"text/javascript\">                require([\"plotly\"], function(Plotly) {                    window.PLOTLYENV=window.PLOTLYENV || {};                                    if (document.getElementById(\"3f0bac50-9a0f-446f-b653-c47cc66df701\")) {                    Plotly.newPlot(                        \"3f0bac50-9a0f-446f-b653-c47cc66df701\",                        [{\"alignmentgroup\":\"True\",\"bingroup\":\"x\",\"hovertemplate\":\"variable=0<br>value=%{x}<br>count=%{y}<extra></extra>\",\"legendgroup\":\"0\",\"marker\":{\"color\":\"#636efa\",\"pattern\":{\"shape\":\"\"}},\"name\":\"0\",\"offsetgroup\":\"0\",\"orientation\":\"v\",\"showlegend\":true,\"x\":[112.53537107126822,112.68568759640263,114.66477507080653,115.97889196380189,116.3699367608301,117.66955437079548,117.94533277979514,118.31876320427591,119.75182967133365,120.3253205806749,120.50547016873628,120.54187461887955,120.67048313933704,121.3126844193474,121.53334916317124,121.7432461377385,121.7658138122572,122.03868790453595,122.07827297690456,122.23110558049025,122.53445720716091,122.59279743310123,122.73525344605841,122.90810203699303,123.41771477065441,123.50432854728776,123.61123542290754,123.93964913707876,124.20337451073459,124.22033348554973,124.56721724049898,124.91134056562777,125.08355954233299,125.39514248323806,125.49256581337826,126.04210045398695,126.1658664625657,126.2905736227964,126.56669462876448,126.61336682585527,126.68223911529964,126.80248063905594,126.80748846065048,126.82043500424426,126.82574280416705,126.8446118570461,126.85220264402999,126.85843185776986,127.19717569756568,127.33358652135517,127.40591278245849,127.51288240334486,127.79769777087434,127.9407163444179,127.94907986627824,128.18274492469783,128.38561019293385,128.44813312407658,128.58295111043296,128.668964326482,128.7730711013519,128.78734392657927,129.03714895776284,129.116686141299,129.2405888034408,129.4943252438659,129.6415369179068,129.6790695921174,129.7026254348574,129.74638087825932,129.77960188684517,129.90239612821946,130.25088408148298,130.26070390158696,130.2852132161647,130.50725880228083,130.71737697173563,130.77681920391655,130.7777791891654,130.87707832419832,130.93738587845877,131.0165054863927,131.18103596630922,131.2134187684655,131.3064853042647,131.34780908280405,131.3524662076575,131.46867665029816,131.4897100577666,131.59645899168765,131.78530702147677,131.790142026955,131.93120021048708,131.93553374064354,132.2902599127184,132.34161368141685,132.39784814898053,132.4031707053584,132.5622840578781,132.5780687863845,132.57811956638204,132.58326474683673,132.64018801075085,132.68537376509258,132.92234260428918,132.96824479982828,132.99981117570923,133.1362532344943,133.1559767061493,133.16737827388698,133.29621464815617,133.40700341283846,133.49193466597328,133.73894063365373,133.7411208458959,133.85854140286423,134.01558245970247,134.12007252872596,134.3151716776475,134.39275545650952,134.39582039445463,134.42287511851137,134.66640011880745,134.82895632584246,134.90558762924903,135.01587785757457,135.02606769568212,135.04913003110892,135.11137621730484,135.23956780371327,135.3114992606703,135.3516923373384,135.47286934173027,135.55058436088183,135.6383149427363,135.8614307606168,135.8760598607361,135.9100406497931,135.94603003067024,135.97558167012656,136.1058522890777,136.1494112748169,136.49034728459068,136.56394301247323,136.62472063495895,136.6408344787253,136.7430192682074,136.79551921351128,136.8238267890525,136.82631503595647,137.11153723031993,137.31129645023657,137.32175192578111,137.56961258449903,137.6096925078784,137.64397053475628,137.77439300669067,137.92108748414876,137.9970799515126,138.00795632214124,138.00855577055097,138.0911493041483,138.1421443901714,138.1659496199034,138.20164459333353,138.262413711092,138.33981839328908,138.48883428930043,138.49320542670975,138.54707734773123,138.5478041248553,138.66298569517733,138.74788955384327,138.76441507553494,138.90421551616961,139.0404228113372,139.06103524596008,139.1041781743605,139.15759469532316,139.2363573585535,139.29855927695974,139.35414113676657,139.46910978054638,139.48306378467595,139.5530698620804,139.60578142864708,139.6212435082111,139.6336661339368,139.73442825948266,139.7541009636679,139.75663220349566,139.93281041604436,140.0103957514398,140.01568162226457,140.08794392588462,140.1761174975325,140.20299330509462,140.2870513257246,140.30898774624276,140.33282700042164,140.4790250188351,140.52580146050374,140.527299948597,140.61681376129047,140.63313541291296,140.652262409004,140.66307679718946,140.68926968275395,140.72679023735657,140.82572658950147,140.92366517896562,140.96058606069099,140.96728102232495,140.98541149879443,140.98935212335167,141.02477286625626,141.03656198907382,141.1021132413026,141.12343539331002,141.12375033920148,141.13375861411384,141.1358228702866,141.16978529648893,141.18595805310326,141.23677532609022,141.23956054321255,141.25555335100051,141.25714428954882,141.37038332945892,141.4465068888328,141.4686118559903,141.50300257906684,141.51631411118365,141.55160681977588,141.57088985538272,141.59156566432318,141.61360617798482,141.64075778565598,141.65341476026984,141.65606497591892,141.73002302355084,141.91484520804732,141.94862227760765,141.9601497053373,141.96185581209645,142.01158795211092,142.03847015612018,142.09050814251913,142.10297844994605,142.3629052796019,142.36647485786736,142.42118695912936,142.44993364089515,142.53008229332204,142.59259249273708,142.64709801487132,142.64875773744026,142.67512150993736,142.7710580274546,142.77798216951214,142.83851109186773,142.85825215851256,142.87990747609348,142.90461940169797,142.93173849904596,142.95672602844368,142.98305623629855,143.08931768494253,143.1043803172589,143.18692990963171,143.19829902318094,143.26020936634814,143.2873870814298,143.31190783524775,143.35468917095062,143.48244571079798,143.4978624935318,143.53345769050298,143.5363430322212,143.60575616998565,143.62853377162315,143.69117538647507,143.69986232601696,143.72203578480315,143.72604391271892,143.74743659863572,143.90834867982252,143.9473597124232,143.95905366640378,143.9664237830387,144.14768639871653,144.15330431587265,144.16012830428045,144.2122088736539,144.22193872183928,144.22357851348875,144.28432644163925,144.33660570299648,144.37806812155233,144.4531358377565,144.48236734890156,144.52988514366766,144.54859421935996,144.55723120171987,144.59255832821998,144.60080099751715,144.60702652594236,144.61196009089568,144.6330980809188,144.65285884515575,144.84414124808808,144.89637880751113,144.94515641450823,144.96085029491525,145.00279442690282,145.01396550289095,145.02827212991843,145.11937959299277,145.14069338532354,145.1755874571699,145.23142403000142,145.23180138961652,145.26089443938477,145.30461232510987,145.31346525041806,145.34976639349983,145.37612420894268,145.38747076106876,145.3928492710962,145.39979348648873,145.41981630549446,145.478893633785,145.5041882961066,145.54281921575617,145.55271871534995,145.55384987704878,145.60969858359346,145.61742038978264,145.62378451670753,145.62844398559778,145.64883287126997,145.71543646668175,145.76073449505535,145.77249687275457,145.7772083087501,145.83650782083544,145.85259593026007,145.88612107103853,145.90895004895071,145.9134645412102,145.92205478842433,146.04097020531105,146.10798774112976,146.11447918262488,146.15925193855165,146.16343792649587,146.17207240922423,146.20263642968655,146.24073497089742,146.2470135025249,146.30099241739256,146.3204482987918,146.38023158602786,146.4257147640825,146.44252265762836,146.44281917305074,146.44292466390974,146.4795900460198,146.5283044012875,146.5342270578515,146.5391645423146,146.57677868665345,146.6098577966732,146.65640187259174,146.68227238192986,146.69278069045725,146.70188566789892,146.73110983285224,146.77027808402948,146.86196407803024,146.9075084885444,146.93340761041074,146.9748352224319,147.0049118423215,147.07975887798978,147.1112031637492,147.11643855064534,147.1573063799347,147.16859774551236,147.20366203532893,147.20428850293578,147.30634931946486,147.36304949174254,147.43715468137128,147.442869738597,147.4457041974524,147.47363019102087,147.48549260569274,147.55106443267854,147.5842166754517,147.62731650726482,147.67191680865798,147.69781446056757,147.74364908948965,147.94016907524895,147.95965929968986,148.05205707807696,148.0726276438313,148.13328309010575,148.22186584036834,148.22607653593937,148.2642436270031,148.33215473657705,148.33361818170133,148.41505119812206,148.44176621089835,148.53485480812142,148.54341390822367,148.62062491015976,148.6211728129389,148.6241006188854,148.64483138007836,148.6574696627775,148.7721519002655,148.82697670457185,148.85546429246276,148.96688814643574,148.96813531201929,149.01111670433315,149.0963705040526,149.12718096420807,149.170053361289,149.17573746694555,149.20200458409306,149.3041756339061,149.3230547660879,149.34990966939824,149.358912664759,149.4036241446125,149.44049250501965,149.4577958788929,149.47659155957388,149.4948309428297,149.49817019609304,149.53300859081156,149.54161192737777,149.61141878739738,149.6518644500805,149.6613998820111,149.68539934195198,149.68629668073544,149.69561277693543,149.71132171946442,149.7141625279638,149.86742723945562,149.8729927667041,149.90083929479408,149.9043905497832,150.06427986439346,150.13412277112778,150.16114712789587,150.2022395765365,150.2170268933085,150.23670722220868,150.2556342807757,150.31275785033452,150.3519932983509,150.3769161021534,150.4003760402329,150.5677041924253,150.58583002123135,150.60488105284526,150.63245728996276,150.7051805632804,150.78033392564123,150.82691394481947,150.84982840375824,150.88048131550758,150.8896538030161,150.99343164896982,150.99838282094098,151.00478444099812,151.01317588140375,151.01359198768282,151.03492723283557,151.0501892816264,151.05781100632356,151.15934431117313,151.17277572440344,151.28642284241062,151.32500554504736,151.33292587803663,151.42448105241095,151.44695794868025,151.55551387130146,151.56477341354764,151.57340117462604,151.57398938731615,151.66792089291008,151.75005999686022,151.80949963283555,151.85023044762872,151.87721550583268,151.89618778568914,151.9295358196167,151.95679071920506,152.0267950758758,152.05098199857733,152.05880921692832,152.07563442750453,152.12001659312685,152.17968677864377,152.20566588451632,152.25062828286534,152.29525991476237,152.3042063649196,152.36888035154107,152.42391040421003,152.43592921722467,152.45703562071364,152.46462319802544,152.5002458265235,152.50129787133136,152.56453691906745,152.5833613207435,152.59014440804148,152.60140796377163,152.6470928900266,152.67111431122157,152.68378692370194,152.71990893559155,152.75438757925167,152.77623302805725,152.7818870438512,152.78330763775134,152.8230401065563,152.98997962835392,153.0026680020729,153.00933684231327,153.01259716244613,153.07288981468474,153.1025665000963,153.21194914556253,153.22357098503255,153.244552642381,153.26742698914057,153.33009951485369,153.36350149923823,153.38236483403335,153.4158226209257,153.4343212647983,153.47445730392175,153.4971211143816,153.50175838003884,153.5127066610264,153.52967907494678,153.5533645994596,153.55337133531287,153.5731475833381,153.60213471285735,153.64931548217015,153.66156307962302,153.6776293700127,153.7078358071059,153.718375160166,153.7198681103437,153.72468725052474,153.90013492472903,153.94852622293544,154.0184941595419,154.0472732232165,154.06246501283513,154.13022951452632,154.15887991291967,154.22355910272657,154.3116593004602,154.45549153165732,154.4754650315918,154.5087963633364,154.55343151862505,154.60532633676888,154.64830535471978,154.7869845364651,154.83465132717774,154.83842268483096,154.83901934672934,154.87819167057577,155.03725638601773,155.0410497477861,155.0444569309141,155.05375099202726,155.08903340568736,155.116376807644,155.151082050569,155.23299232626633,155.25808602507573,155.27881811930163,155.36258776734084,155.3793382981826,155.398526694151,155.41553547185174,155.45081008662027,155.4529875170112,155.47413208805514,155.47484628491014,155.4755286806397,155.78262891161705,155.79259327192676,155.89392688276465,155.9029897981511,155.931001797212,156.0049129318124,156.00795048203565,156.00890373683413,156.01902892832064,156.04195657170746,156.06392750200453,156.17524982179742,156.18753880799875,156.20624035787785,156.23363338830404,156.24822806395375,156.2526633604998,156.2679818818619,156.32869400935496,156.37225682238372,156.4484088395017,156.513361606717,156.52569578672222,156.5378789359619,156.54219734092666,156.60377569756756,156.6080732476073,156.6846666642936,156.89495724857758,156.90771530767884,156.9340003563264,156.93803403510245,156.9544927920309,157.0407575066344,157.08000184587775,157.142112622048,157.1693387257831,157.26440987790184,157.27287240018055,157.30764899112035,157.3320736533632,157.34450141507904,157.44106325542086,157.49778749345978,157.56350649038947,157.58892189793983,157.60468194155138,157.67804494621197,157.74577570084674,157.7579771706871,157.7738366609178,157.87987981202352,157.90871914864417,158.03183364294415,158.0358457614947,158.16211492182475,158.19605189776124,158.3669129611059,158.3746653812838,158.48562616519789,158.56907652421185,158.58411680506762,158.69813476661696,158.70617883566635,158.74141436196402,158.81912885641032,158.8836261056379,158.91033036589886,158.91668660603915,159.00170317565428,159.0132183820225,159.0319692951544,159.09211138032327,159.16165419673771,159.20234801843262,159.23135384641895,159.30576431654148,159.4113528816234,159.44345995300412,159.45890312931536,159.48023425776398,159.5467787236528,159.67348998569105,159.68941994833642,159.70548105995542,159.74157903878617,159.78556120353107,159.8505212194889,160.0583876764699,160.13253620010173,160.2050554353306,160.20584866754584,160.210979813747,160.23371616424666,160.27779152702888,160.2981258333,160.40379341563627,160.49725783099345,160.5326906411202,160.56451066672852,160.63729944726262,160.74701618953833,160.7486359582217,160.79040017519495,160.81202342032336,160.934575395213,160.96828294691645,161.03770262962098,161.06820702696385,161.08016798740545,161.08724725982572,161.12284929351264,161.143987902427,161.22365933234548,161.28910164159225,161.3085921340242,161.31019430466242,161.3675128717592,161.44915271417125,161.5355681772521,161.64348048410923,161.69377781472227,161.75075838994798,162.01627675606332,162.06001212928481,162.0637442542052,162.06826227635798,162.07258168380181,162.08859773478022,162.1014735068415,162.11407746237768,162.17159440490445,162.47859908502895,162.5012273375253,162.68510355934578,162.73500636154608,162.92442305279388,162.96635837133007,163.01154378836506,163.058790074894,163.06547897659925,163.10198003614153,163.133288673201,163.1485179965126,163.24673480002232,163.25516397269107,163.28284758489906,163.32027502644533,163.43407592057923,163.46936748788198,163.47233195052436,163.5360663262641,163.56435074098206,163.59575260217707,163.62336993748082,163.65260071157664,163.68242107122262,163.86511343899178,163.9335154278995,164.05748479850263,164.0770840948248,164.09140217669534,164.11159832893742,164.11460795773394,164.16704816288387,164.19076736038474,164.19305420302135,164.1998423616878,164.22947755254611,164.25196652946374,164.29930424607704,164.37266671250188,164.72693336556057,164.75813956806465,164.78240299237103,164.7904406625459,164.88194189991947,164.90246251554115,164.93628210073913,164.9777770894751,165.00951746975,165.14590799325106,165.1743613056872,165.20762359852358,165.232021208627,165.24969076677593,165.54407839799322,165.55351162509226,165.57696147200048,165.63927958945658,165.68446400694006,165.69267399608393,165.73984047703775,165.78134628631253,165.80851038018199,165.86405925743296,165.9059982320905,166.04540526078935,166.44014285285692,166.4406259366137,166.45496746975266,166.53565652065015,166.54220838837048,166.55124912962276,166.57467455627818,166.5757969001245,166.63255850405724,166.7750642362013,166.78545814149794,166.79269093213966,166.81703846151672,166.82278372799666,166.95013364541504,167.01215984500334,167.01495358022487,167.05690886251247,167.15008574341934,167.16079964334176,167.1666563885297,167.20922193312583,167.28952709376424,167.33167493946257,167.44446929128327,167.5593624068113,167.70504314199547,167.71411786089814,167.7312293742575,167.82317562669456,167.84245516115575,168.01085518684556,168.03671276696676,168.23752752532764,168.29510240539997,168.39395381639943,168.43406393156167,168.53634966689597,168.58394576372712,168.62280111674568,168.65525120360795,168.70395742094493,168.74226642271626,168.78701125646046,169.2796544338508,169.3031528411137,169.495098629039,169.53632910629537,169.60276622752562,169.70709622308758,169.80530312324987,169.9443221383679,170.02525859823425,170.032665616189,170.0640078916872,170.27960960276712,170.31424608436603,170.48874804067128,170.7447372502311,170.8186576319156,171.08082539189868,171.16037016652828,171.28814447238094,171.29502353028064,171.47503481525385,171.5698173354119,171.60403436935104,171.75822468256263,171.7957150350506,171.83532005080485,171.9013890358179,171.95522500345268,172.10872081163484,172.14459882568258,172.1961294473882,172.28146900523222,172.29221024089057,172.38637576265918,172.43526662588567,172.63682862637376,172.75318663511993,173.08797472426525,173.45598725670496,173.481476834542,173.48205318066917,173.54368403873278,173.98445030960542,174.31926195113164,174.70373421253606,174.84485828686002,174.93331252953422,174.9810140707799,175.36504882284993,175.4876545512672,175.51832452730727,175.52141170149602,175.87866336424136,176.0530984314494,176.05729990096145,176.1238810009839,176.19601795007944,176.22298277617085,176.24236195013705,176.33887155253856,176.42113968548455,176.46666678486392,176.60337149217554,176.78642415069467,176.79905760205548,176.79997818227352,176.84273654505373,176.8593441000061,177.19149816047184,177.21696548205696,177.22829808718532,177.33969932449898,177.36935323265865,177.39511776629067,177.45127725790636,177.5160425836522,177.60172996931678,177.72818477207227,177.74474262175002,177.80986605275237,177.86079576456362,177.89873172204483,177.9967134126988,178.00690099595468,178.07673681540496,178.0915477326899,178.1056742606885,178.16804034591308,178.26571255465478,178.76040980650816,178.8035593930589,178.94055150053458,179.0046351365816,179.09773067650607,179.491528608465,179.55910301495996,179.8932190257504,179.99890844726673,180.07801904202978,180.0890105679976,180.4649712028706,180.5613925633839,180.68099160750958,180.71682567366636,181.64593502339366,181.66866392648924,181.80163140622363,182.0247969822917,182.07695422479625,182.10391614099004,182.44002538845038,182.55684103952268,182.91831690726582,183.12519196417887,183.2632449328786,183.27745468366743,183.5862923233796,183.89845112572996,184.04598199486318,184.3517974814373,184.38978909341643,185.3746303314385,185.7788982890753,186.30680940975142,187.42257032733775,187.8480394612055,188.1087197901855,188.8836756004121,189.43731206917073,189.49055167969016,190.48296921056092,190.6034041462732,191.03896836361994,191.06264739101331,191.6613400690829,191.66259238114017,193.27215902304226,194.14120458209172,194.98295555639038,195.50882748156027,195.56804421711135,195.57941641588022,197.5091753844112,198.65584859160168,199.40003921965797,199.50010280321305,199.83121635127586,199.87380024418096,200.92911890874439,204.13993942957276,212.18817792346437,220.4466045248817],\"xaxis\":\"x\",\"yaxis\":\"y\",\"type\":\"histogram\"}],                        {\"template\":{\"data\":{\"bar\":[{\"error_x\":{\"color\":\"#2a3f5f\"},\"error_y\":{\"color\":\"#2a3f5f\"},\"marker\":{\"line\":{\"color\":\"#E5ECF6\",\"width\":0.5},\"pattern\":{\"fillmode\":\"overlay\",\"size\":10,\"solidity\":0.2}},\"type\":\"bar\"}],\"barpolar\":[{\"marker\":{\"line\":{\"color\":\"#E5ECF6\",\"width\":0.5},\"pattern\":{\"fillmode\":\"overlay\",\"size\":10,\"solidity\":0.2}},\"type\":\"barpolar\"}],\"carpet\":[{\"aaxis\":{\"endlinecolor\":\"#2a3f5f\",\"gridcolor\":\"white\",\"linecolor\":\"white\",\"minorgridcolor\":\"white\",\"startlinecolor\":\"#2a3f5f\"},\"baxis\":{\"endlinecolor\":\"#2a3f5f\",\"gridcolor\":\"white\",\"linecolor\":\"white\",\"minorgridcolor\":\"white\",\"startlinecolor\":\"#2a3f5f\"},\"type\":\"carpet\"}],\"choropleth\":[{\"colorbar\":{\"outlinewidth\":0,\"ticks\":\"\"},\"type\":\"choropleth\"}],\"contour\":[{\"colorbar\":{\"outlinewidth\":0,\"ticks\":\"\"},\"colorscale\":[[0.0,\"#0d0887\"],[0.1111111111111111,\"#46039f\"],[0.2222222222222222,\"#7201a8\"],[0.3333333333333333,\"#9c179e\"],[0.4444444444444444,\"#bd3786\"],[0.5555555555555556,\"#d8576b\"],[0.6666666666666666,\"#ed7953\"],[0.7777777777777778,\"#fb9f3a\"],[0.8888888888888888,\"#fdca26\"],[1.0,\"#f0f921\"]],\"type\":\"contour\"}],\"contourcarpet\":[{\"colorbar\":{\"outlinewidth\":0,\"ticks\":\"\"},\"type\":\"contourcarpet\"}],\"heatmap\":[{\"colorbar\":{\"outlinewidth\":0,\"ticks\":\"\"},\"colorscale\":[[0.0,\"#0d0887\"],[0.1111111111111111,\"#46039f\"],[0.2222222222222222,\"#7201a8\"],[0.3333333333333333,\"#9c179e\"],[0.4444444444444444,\"#bd3786\"],[0.5555555555555556,\"#d8576b\"],[0.6666666666666666,\"#ed7953\"],[0.7777777777777778,\"#fb9f3a\"],[0.8888888888888888,\"#fdca26\"],[1.0,\"#f0f921\"]],\"type\":\"heatmap\"}],\"heatmapgl\":[{\"colorbar\":{\"outlinewidth\":0,\"ticks\":\"\"},\"colorscale\":[[0.0,\"#0d0887\"],[0.1111111111111111,\"#46039f\"],[0.2222222222222222,\"#7201a8\"],[0.3333333333333333,\"#9c179e\"],[0.4444444444444444,\"#bd3786\"],[0.5555555555555556,\"#d8576b\"],[0.6666666666666666,\"#ed7953\"],[0.7777777777777778,\"#fb9f3a\"],[0.8888888888888888,\"#fdca26\"],[1.0,\"#f0f921\"]],\"type\":\"heatmapgl\"}],\"histogram\":[{\"marker\":{\"pattern\":{\"fillmode\":\"overlay\",\"size\":10,\"solidity\":0.2}},\"type\":\"histogram\"}],\"histogram2d\":[{\"colorbar\":{\"outlinewidth\":0,\"ticks\":\"\"},\"colorscale\":[[0.0,\"#0d0887\"],[0.1111111111111111,\"#46039f\"],[0.2222222222222222,\"#7201a8\"],[0.3333333333333333,\"#9c179e\"],[0.4444444444444444,\"#bd3786\"],[0.5555555555555556,\"#d8576b\"],[0.6666666666666666,\"#ed7953\"],[0.7777777777777778,\"#fb9f3a\"],[0.8888888888888888,\"#fdca26\"],[1.0,\"#f0f921\"]],\"type\":\"histogram2d\"}],\"histogram2dcontour\":[{\"colorbar\":{\"outlinewidth\":0,\"ticks\":\"\"},\"colorscale\":[[0.0,\"#0d0887\"],[0.1111111111111111,\"#46039f\"],[0.2222222222222222,\"#7201a8\"],[0.3333333333333333,\"#9c179e\"],[0.4444444444444444,\"#bd3786\"],[0.5555555555555556,\"#d8576b\"],[0.6666666666666666,\"#ed7953\"],[0.7777777777777778,\"#fb9f3a\"],[0.8888888888888888,\"#fdca26\"],[1.0,\"#f0f921\"]],\"type\":\"histogram2dcontour\"}],\"mesh3d\":[{\"colorbar\":{\"outlinewidth\":0,\"ticks\":\"\"},\"type\":\"mesh3d\"}],\"parcoords\":[{\"line\":{\"colorbar\":{\"outlinewidth\":0,\"ticks\":\"\"}},\"type\":\"parcoords\"}],\"pie\":[{\"automargin\":true,\"type\":\"pie\"}],\"scatter\":[{\"marker\":{\"colorbar\":{\"outlinewidth\":0,\"ticks\":\"\"}},\"type\":\"scatter\"}],\"scatter3d\":[{\"line\":{\"colorbar\":{\"outlinewidth\":0,\"ticks\":\"\"}},\"marker\":{\"colorbar\":{\"outlinewidth\":0,\"ticks\":\"\"}},\"type\":\"scatter3d\"}],\"scattercarpet\":[{\"marker\":{\"colorbar\":{\"outlinewidth\":0,\"ticks\":\"\"}},\"type\":\"scattercarpet\"}],\"scattergeo\":[{\"marker\":{\"colorbar\":{\"outlinewidth\":0,\"ticks\":\"\"}},\"type\":\"scattergeo\"}],\"scattergl\":[{\"marker\":{\"colorbar\":{\"outlinewidth\":0,\"ticks\":\"\"}},\"type\":\"scattergl\"}],\"scattermapbox\":[{\"marker\":{\"colorbar\":{\"outlinewidth\":0,\"ticks\":\"\"}},\"type\":\"scattermapbox\"}],\"scatterpolar\":[{\"marker\":{\"colorbar\":{\"outlinewidth\":0,\"ticks\":\"\"}},\"type\":\"scatterpolar\"}],\"scatterpolargl\":[{\"marker\":{\"colorbar\":{\"outlinewidth\":0,\"ticks\":\"\"}},\"type\":\"scatterpolargl\"}],\"scatterternary\":[{\"marker\":{\"colorbar\":{\"outlinewidth\":0,\"ticks\":\"\"}},\"type\":\"scatterternary\"}],\"surface\":[{\"colorbar\":{\"outlinewidth\":0,\"ticks\":\"\"},\"colorscale\":[[0.0,\"#0d0887\"],[0.1111111111111111,\"#46039f\"],[0.2222222222222222,\"#7201a8\"],[0.3333333333333333,\"#9c179e\"],[0.4444444444444444,\"#bd3786\"],[0.5555555555555556,\"#d8576b\"],[0.6666666666666666,\"#ed7953\"],[0.7777777777777778,\"#fb9f3a\"],[0.8888888888888888,\"#fdca26\"],[1.0,\"#f0f921\"]],\"type\":\"surface\"}],\"table\":[{\"cells\":{\"fill\":{\"color\":\"#EBF0F8\"},\"line\":{\"color\":\"white\"}},\"header\":{\"fill\":{\"color\":\"#C8D4E3\"},\"line\":{\"color\":\"white\"}},\"type\":\"table\"}]},\"layout\":{\"annotationdefaults\":{\"arrowcolor\":\"#2a3f5f\",\"arrowhead\":0,\"arrowwidth\":1},\"autotypenumbers\":\"strict\",\"coloraxis\":{\"colorbar\":{\"outlinewidth\":0,\"ticks\":\"\"}},\"colorscale\":{\"diverging\":[[0,\"#8e0152\"],[0.1,\"#c51b7d\"],[0.2,\"#de77ae\"],[0.3,\"#f1b6da\"],[0.4,\"#fde0ef\"],[0.5,\"#f7f7f7\"],[0.6,\"#e6f5d0\"],[0.7,\"#b8e186\"],[0.8,\"#7fbc41\"],[0.9,\"#4d9221\"],[1,\"#276419\"]],\"sequential\":[[0.0,\"#0d0887\"],[0.1111111111111111,\"#46039f\"],[0.2222222222222222,\"#7201a8\"],[0.3333333333333333,\"#9c179e\"],[0.4444444444444444,\"#bd3786\"],[0.5555555555555556,\"#d8576b\"],[0.6666666666666666,\"#ed7953\"],[0.7777777777777778,\"#fb9f3a\"],[0.8888888888888888,\"#fdca26\"],[1.0,\"#f0f921\"]],\"sequentialminus\":[[0.0,\"#0d0887\"],[0.1111111111111111,\"#46039f\"],[0.2222222222222222,\"#7201a8\"],[0.3333333333333333,\"#9c179e\"],[0.4444444444444444,\"#bd3786\"],[0.5555555555555556,\"#d8576b\"],[0.6666666666666666,\"#ed7953\"],[0.7777777777777778,\"#fb9f3a\"],[0.8888888888888888,\"#fdca26\"],[1.0,\"#f0f921\"]]},\"colorway\":[\"#636efa\",\"#EF553B\",\"#00cc96\",\"#ab63fa\",\"#FFA15A\",\"#19d3f3\",\"#FF6692\",\"#B6E880\",\"#FF97FF\",\"#FECB52\"],\"font\":{\"color\":\"#2a3f5f\"},\"geo\":{\"bgcolor\":\"white\",\"lakecolor\":\"white\",\"landcolor\":\"#E5ECF6\",\"showlakes\":true,\"showland\":true,\"subunitcolor\":\"white\"},\"hoverlabel\":{\"align\":\"left\"},\"hovermode\":\"closest\",\"mapbox\":{\"style\":\"light\"},\"paper_bgcolor\":\"white\",\"plot_bgcolor\":\"#E5ECF6\",\"polar\":{\"angularaxis\":{\"gridcolor\":\"white\",\"linecolor\":\"white\",\"ticks\":\"\"},\"bgcolor\":\"#E5ECF6\",\"radialaxis\":{\"gridcolor\":\"white\",\"linecolor\":\"white\",\"ticks\":\"\"}},\"scene\":{\"xaxis\":{\"backgroundcolor\":\"#E5ECF6\",\"gridcolor\":\"white\",\"gridwidth\":2,\"linecolor\":\"white\",\"showbackground\":true,\"ticks\":\"\",\"zerolinecolor\":\"white\"},\"yaxis\":{\"backgroundcolor\":\"#E5ECF6\",\"gridcolor\":\"white\",\"gridwidth\":2,\"linecolor\":\"white\",\"showbackground\":true,\"ticks\":\"\",\"zerolinecolor\":\"white\"},\"zaxis\":{\"backgroundcolor\":\"#E5ECF6\",\"gridcolor\":\"white\",\"gridwidth\":2,\"linecolor\":\"white\",\"showbackground\":true,\"ticks\":\"\",\"zerolinecolor\":\"white\"}},\"shapedefaults\":{\"line\":{\"color\":\"#2a3f5f\"}},\"ternary\":{\"aaxis\":{\"gridcolor\":\"white\",\"linecolor\":\"white\",\"ticks\":\"\"},\"baxis\":{\"gridcolor\":\"white\",\"linecolor\":\"white\",\"ticks\":\"\"},\"bgcolor\":\"#E5ECF6\",\"caxis\":{\"gridcolor\":\"white\",\"linecolor\":\"white\",\"ticks\":\"\"}},\"title\":{\"x\":0.05},\"xaxis\":{\"automargin\":true,\"gridcolor\":\"white\",\"linecolor\":\"white\",\"ticks\":\"\",\"title\":{\"standoff\":15},\"zerolinecolor\":\"white\",\"zerolinewidth\":2},\"yaxis\":{\"automargin\":true,\"gridcolor\":\"white\",\"linecolor\":\"white\",\"ticks\":\"\",\"title\":{\"standoff\":15},\"zerolinecolor\":\"white\",\"zerolinewidth\":2}}},\"xaxis\":{\"anchor\":\"y\",\"domain\":[0.0,1.0],\"title\":{\"text\":\"value\"}},\"yaxis\":{\"anchor\":\"x\",\"domain\":[0.0,1.0],\"title\":{\"text\":\"count\"}},\"legend\":{\"title\":{\"text\":\"variable\"},\"tracegroupgap\":0},\"title\":{\"text\":\"Histogram of the nonparametric bootstrap replications of theta\"},\"barmode\":\"relative\"},                        {\"responsive\": true}                    ).then(function(){\n                            \nvar gd = document.getElementById('3f0bac50-9a0f-446f-b653-c47cc66df701');\nvar x = new MutationObserver(function (mutations, observer) {{\n        var display = window.getComputedStyle(gd).display;\n        if (!display || display === 'none') {{\n            console.log([gd, 'removed!']);\n            Plotly.purge(gd);\n            observer.disconnect();\n        }}\n}});\n\n// Listen for the removal of the full notebook cells\nvar notebookContainer = gd.closest('#notebook-container');\nif (notebookContainer) {{\n    x.observe(notebookContainer, {childList: true});\n}}\n\n// Listen for the clearing of the current output cell\nvar outputEl = gd.closest('.output');\nif (outputEl) {{\n    x.observe(outputEl, {childList: true});\n}}\n\n                        })                };                });            </script>        </div>"
     },
     "metadata": {},
     "output_type": "display_data"
    }
   ],
   "source": [
    "px.histogram(nonparam_bootstrap_estimations,\n",
    "             title = 'Histogram of the nonparametric bootstrap replications of theta')"
   ],
   "metadata": {
    "collapsed": false,
    "pycharm": {
     "name": "#%%\n"
    }
   }
  },
  {
   "cell_type": "code",
   "execution_count": 103,
   "metadata": {
    "pycharm": {
     "name": "#%%\n"
    }
   },
   "outputs": [
    {
     "data": {
      "application/vnd.plotly.v1+json": {
       "data": [
        {
         "hovertemplate": "x=%{x}<br>y=%{y}<extra></extra>",
         "legendgroup": "",
         "line": {
          "color": "#636efa",
          "dash": "solid"
         },
         "marker": {
          "symbol": "circle"
         },
         "mode": "lines",
         "name": "",
         "orientation": "v",
         "showlegend": false,
         "x": [
          100.0,
          100.20040080160321,
          100.40080160320642,
          100.60120240480961,
          100.80160320641282,
          101.00200400801603,
          101.20240480961924,
          101.40280561122245,
          101.60320641282566,
          101.80360721442885,
          102.00400801603206,
          102.20440881763527,
          102.40480961923848,
          102.60521042084169,
          102.8056112224449,
          103.00601202404809,
          103.2064128256513,
          103.40681362725451,
          103.60721442885772,
          103.80761523046093,
          104.00801603206413,
          104.20841683366733,
          104.40881763527054,
          104.60921843687375,
          104.80961923847696,
          105.01002004008016,
          105.21042084168337,
          105.41082164328657,
          105.61122244488978,
          105.81162324649299,
          106.0120240480962,
          106.2124248496994,
          106.41282565130261,
          106.6132264529058,
          106.81362725450902,
          107.01402805611222,
          107.21442885771543,
          107.41482965931864,
          107.61523046092185,
          107.81563126252505,
          108.01603206412825,
          108.21643286573146,
          108.41683366733467,
          108.61723446893788,
          108.81763527054107,
          109.01803607214428,
          109.21843687374749,
          109.4188376753507,
          109.61923847695391,
          109.81963927855712,
          110.02004008016033,
          110.22044088176352,
          110.42084168336673,
          110.62124248496994,
          110.82164328657315,
          111.02204408817636,
          111.22244488977955,
          111.42284569138276,
          111.62324649298597,
          111.82364729458918,
          112.02404809619239,
          112.2244488977956,
          112.4248496993988,
          112.625250501002,
          112.82565130260521,
          113.02605210420842,
          113.22645290581163,
          113.42685370741484,
          113.62725450901803,
          113.82765531062124,
          114.02805611222445,
          114.22845691382766,
          114.42885771543087,
          114.62925851703407,
          114.82965931863727,
          115.03006012024048,
          115.23046092184369,
          115.4308617234469,
          115.6312625250501,
          115.83166332665331,
          116.03206412825651,
          116.23246492985972,
          116.43286573146293,
          116.63326653306613,
          116.83366733466934,
          117.03406813627254,
          117.23446893787576,
          117.43486973947896,
          117.63527054108216,
          117.83567134268537,
          118.03607214428858,
          118.23647294589179,
          118.43687374749499,
          118.6372745490982,
          118.8376753507014,
          119.03807615230461,
          119.23847695390782,
          119.43887775551102,
          119.63927855711422,
          119.83967935871743,
          120.04008016032064,
          120.24048096192385,
          120.44088176352706,
          120.64128256513027,
          120.84168336673346,
          121.04208416833667,
          121.24248496993988,
          121.44288577154309,
          121.6432865731463,
          121.84368737474949,
          122.0440881763527,
          122.24448897795591,
          122.44488977955912,
          122.64529058116233,
          122.84569138276554,
          123.04609218436875,
          123.24649298597194,
          123.44689378757515,
          123.64729458917836,
          123.84769539078157,
          124.04809619238478,
          124.24849699398797,
          124.44889779559118,
          124.64929859719439,
          124.8496993987976,
          125.0501002004008,
          125.250501002004,
          125.45090180360722,
          125.65130260521042,
          125.85170340681363,
          126.05210420841684,
          126.25250501002004,
          126.45290581162325,
          126.65330661322645,
          126.85370741482966,
          127.05410821643287,
          127.25450901803607,
          127.45490981963928,
          127.65531062124248,
          127.8557114228457,
          128.0561122244489,
          128.25651302605212,
          128.4569138276553,
          128.6573146292585,
          128.85771543086173,
          129.05811623246493,
          129.25851703406815,
          129.45891783567134,
          129.65931863727454,
          129.85971943887776,
          130.06012024048096,
          130.26052104208418,
          130.46092184368737,
          130.66132264529057,
          130.8617234468938,
          131.06212424849699,
          131.2625250501002,
          131.4629258517034,
          131.66332665330663,
          131.86372745490982,
          132.06412825651302,
          132.26452905811624,
          132.46492985971943,
          132.66533066132266,
          132.86573146292585,
          133.06613226452907,
          133.26653306613227,
          133.46693386773546,
          133.6673346693387,
          133.86773547094188,
          134.06813627254508,
          134.2685370741483,
          134.46893787575152,
          134.66933867735472,
          134.8697394789579,
          135.07014028056113,
          135.27054108216433,
          135.47094188376752,
          135.67134268537075,
          135.87174348697394,
          136.07214428857716,
          136.27254509018036,
          136.47294589178358,
          136.67334669338678,
          136.87374749498997,
          137.0741482965932,
          137.2745490981964,
          137.47494989979958,
          137.6753507014028,
          137.87575150300603,
          138.07615230460922,
          138.27655310621242,
          138.47695390781564,
          138.67735470941884,
          138.87775551102203,
          139.07815631262525,
          139.27855711422845,
          139.47895791583167,
          139.67935871743487,
          139.8797595190381,
          140.08016032064128,
          140.28056112224448,
          140.4809619238477,
          140.6813627254509,
          140.88176352705412,
          141.0821643286573,
          141.28256513026054,
          141.48296593186373,
          141.68336673346693,
          141.88376753507015,
          142.08416833667334,
          142.28456913827654,
          142.48496993987976,
          142.68537074148298,
          142.88577154308618,
          143.08617234468937,
          143.2865731462926,
          143.4869739478958,
          143.68737474949899,
          143.8877755511022,
          144.0881763527054,
          144.28857715430863,
          144.48897795591182,
          144.68937875751504,
          144.88977955911824,
          145.09018036072143,
          145.29058116232466,
          145.49098196392785,
          145.69138276553107,
          145.89178356713427,
          146.0921843687375,
          146.2925851703407,
          146.49298597194388,
          146.6933867735471,
          146.8937875751503,
          147.0941883767535,
          147.29458917835672,
          147.4949899799599,
          147.69539078156313,
          147.89579158316633,
          148.09619238476955,
          148.29659318637275,
          148.49699398797594,
          148.69739478957916,
          148.89779559118236,
          149.09819639278558,
          149.29859719438878,
          149.498997995992,
          149.6993987975952,
          149.8997995991984,
          150.1002004008016,
          150.3006012024048,
          150.501002004008,
          150.70140280561122,
          150.90180360721445,
          151.10220440881764,
          151.30260521042084,
          151.50300601202406,
          151.70340681362725,
          151.90380761523045,
          152.10420841683367,
          152.30460921843687,
          152.5050100200401,
          152.70541082164328,
          152.9058116232465,
          153.1062124248497,
          153.3066132264529,
          153.50701402805612,
          153.7074148296593,
          153.90781563126254,
          154.10821643286573,
          154.30861723446895,
          154.50901803607215,
          154.70941883767534,
          154.90981963927857,
          155.11022044088176,
          155.31062124248496,
          155.51102204408818,
          155.7114228456914,
          155.9118236472946,
          156.1122244488978,
          156.31262525050101,
          156.5130260521042,
          156.7134268537074,
          156.91382765531063,
          157.11422845691382,
          157.31462925851704,
          157.51503006012024,
          157.71543086172346,
          157.91583166332666,
          158.11623246492985,
          158.31663326653307,
          158.51703406813627,
          158.71743486973946,
          158.9178356713427,
          159.1182364729459,
          159.3186372745491,
          159.5190380761523,
          159.71943887775552,
          159.91983967935872,
          160.1202404809619,
          160.32064128256513,
          160.52104208416833,
          160.72144288577155,
          160.92184368737475,
          161.12224448897797,
          161.32264529058116,
          161.52304609218436,
          161.72344689378758,
          161.92384769539078,
          162.124248496994,
          162.3246492985972,
          162.52505010020042,
          162.7254509018036,
          162.9258517034068,
          163.12625250501003,
          163.32665330661322,
          163.52705410821642,
          163.72745490981964,
          163.92785571142286,
          164.12825651302606,
          164.32865731462925,
          164.52905811623248,
          164.72945891783567,
          164.92985971943887,
          165.1302605210421,
          165.3306613226453,
          165.53106212424848,
          165.7314629258517,
          165.93186372745492,
          166.13226452905812,
          166.3326653306613,
          166.53306613226454,
          166.73346693386773,
          166.93386773547093,
          167.13426853707415,
          167.33466933867737,
          167.53507014028057,
          167.73547094188376,
          167.93587174348698,
          168.13627254509018,
          168.33667334669337,
          168.5370741482966,
          168.73747494989982,
          168.93787575150301,
          169.1382765531062,
          169.33867735470943,
          169.53907815631263,
          169.73947895791582,
          169.93987975951904,
          170.14028056112227,
          170.34068136272543,
          170.54108216432866,
          170.74148296593188,
          170.94188376753507,
          171.14228456913827,
          171.3426853707415,
          171.5430861723447,
          171.74348697394788,
          171.9438877755511,
          172.14428857715433,
          172.34468937875752,
          172.54509018036072,
          172.74549098196394,
          172.94589178356713,
          173.14629258517033,
          173.34669338677355,
          173.54709418837678,
          173.74749498997994,
          173.94789579158316,
          174.1482965931864,
          174.34869739478958,
          174.54909819639278,
          174.749498997996,
          174.9498997995992,
          175.1503006012024,
          175.3507014028056,
          175.55110220440883,
          175.75150300601203,
          175.95190380761522,
          176.15230460921845,
          176.35270541082164,
          176.55310621242484,
          176.75350701402806,
          176.95390781563128,
          177.15430861723448,
          177.35470941883767,
          177.5551102204409,
          177.7555110220441,
          177.95591182364728,
          178.1563126252505,
          178.35671342685373,
          178.5571142284569,
          178.75751503006012,
          178.95791583166334,
          179.15831663326654,
          179.35871743486973,
          179.55911823647295,
          179.75951903807615,
          179.95991983967934,
          180.16032064128257,
          180.3607214428858,
          180.56112224448898,
          180.76152304609218,
          180.9619238476954,
          181.1623246492986,
          181.3627254509018,
          181.56312625250501,
          181.76352705410824,
          181.96392785571143,
          182.16432865731463,
          182.36472945891785,
          182.56513026052104,
          182.76553106212424,
          182.96593186372746,
          183.16633266533066,
          183.36673346693385,
          183.56713426853707,
          183.7675350701403,
          183.9679358717435,
          184.1683366733467,
          184.3687374749499,
          184.5691382765531,
          184.7695390781563,
          184.96993987975952,
          185.17034068136275,
          185.37074148296594,
          185.57114228456913,
          185.77154308617236,
          185.97194388777555,
          186.17234468937875,
          186.37274549098197,
          186.5731462925852,
          186.77354709418836,
          186.97394789579158,
          187.1743486973948,
          187.374749498998,
          187.5751503006012,
          187.77555110220442,
          187.9759519038076,
          188.1763527054108,
          188.37675350701403,
          188.57715430861725,
          188.77755511022045,
          188.97795591182364,
          189.17835671342687,
          189.37875751503006,
          189.57915831663325,
          189.77955911823648,
          189.9799599198397,
          190.1803607214429,
          190.3807615230461,
          190.5811623246493,
          190.7815631262525,
          190.9819639278557,
          191.18236472945893,
          191.38276553106215,
          191.58316633266531,
          191.78356713426854,
          191.98396793587176,
          192.18436873747495,
          192.38476953907815,
          192.58517034068137,
          192.78557114228457,
          192.98597194388776,
          193.18637274549098,
          193.3867735470942,
          193.5871743486974,
          193.7875751503006,
          193.98797595190382,
          194.18837675350701,
          194.3887775551102,
          194.58917835671343,
          194.78957915831666,
          194.98997995991982,
          195.19038076152304,
          195.39078156312627,
          195.59118236472946,
          195.79158316633266,
          195.99198396793588,
          196.19238476953907,
          196.39278557114227,
          196.5931863727455,
          196.79358717434872,
          196.9939879759519,
          197.1943887775551,
          197.39478957915833,
          197.59519038076152,
          197.79559118236472,
          197.99599198396794,
          198.19639278557116,
          198.39679358717436,
          198.59719438877755,
          198.79759519038078,
          198.99799599198397,
          199.19839679358716,
          199.3987975951904,
          199.5991983967936,
          199.79959919839678,
          200.0
         ],
         "xaxis": "x",
         "y": [
          0.0,
          3.423746680248472E-6,
          3.696172247492189E-6,
          3.988074189856776E-6,
          4.300668858304967E-6,
          4.635235643891043E-6,
          4.993119379475826E-6,
          5.3757327794244555E-6,
          5.784558914635586E-6,
          6.221153719782177E-6,
          6.68714852960688E-6,
          7.18425264070079E-6,
          7.714255895109045E-6,
          8.279031281661648E-6,
          8.880537550884132E-6,
          9.520821838893167E-6,
          1.0202022295589482E-5,
          1.0926370712068353E-5,
          1.1696195142010005E-5,
          1.2513922511562197E-5,
          1.3382081211844665E-5,
          1.4303303668140372E-5,
          1.528032887950111E-5,
          1.631600492224211E-5,
          1.7413291410643043E-5,
          1.857526190782345E-5,
          1.9805106279756444E-5,
          2.1106132984983713E-5,
          2.248177129244715E-5,
          2.3935573419730258E-5,
          2.547121658378975E-5,
          2.709250495619615E-5,
          2.8803371514433897E-5,
          3.060787978114663E-5,
          3.2510225442871266E-5,
          3.4514737839358E-5,
          3.662588131555112E-5,
          3.884825642662621E-5,
          4.118660098825159E-5,
          4.36457909627516E-5,
          4.6230841172394945E-5,
          4.894690583186819E-5,
          5.179927888997887E-5,
          5.479339417323835E-5,
          5.793482532211636E-5,
          6.1229285511534E-5,
          6.468262694800907E-5,
          6.830084013442262E-5,
          7.209005289541821E-5,
          7.605652915521955E-5,
          8.020666746065704E-5,
          8.454699924199493E-5,
          8.908418680552929E-5,
          9.38250210501014E-5,
          9.877641890259302E-5,
          1.0394542046593858E-4,
          1.0933918587458088E-4,
          1.1496499185201714E-4,
          1.2083022796627622E-4,
          1.2694239257950244E-4,
          1.3330908848692858E-4,
          1.399380182443245E-4,
          1.4683697917915704E-4,
          1.5401385808505152E-4,
          1.614766255977557E-4,
          1.692333302522617E-4,
          1.7729209221982976E-4,
          1.8566109672752762E-4,
          1.9434858715892912E-4,
          2.0336285784108626E-4,
          2.127122465162305E-4,
          2.2240512650524395E-4,
          2.324498985657921E-4,
          2.4285498244745827E-4,
          2.5362880815277093E-4,
          2.647798069090332E-4,
          2.7631640185538705E-4,
          2.8824699845734787E-4,
          3.0057997465270797E-4,
          3.1332367074087854E-4,
          3.2648637902371516E-4,
          3.4007633320932897E-4,
          3.5410169758908275E-4,
          3.685705560020659E-4,
          3.834909005950224E-4,
          3.9887062039622306E-4,
          4.1471748971525814E-4,
          4.310391563796673E-4,
          4.478431298311925E-4,
          4.651367690905895E-4,
          4.829272706096191E-4,
          5.012216560303772E-4,
          5.200267598632485E-4,
          5.393492171069988E-4,
          5.591954508256756E-4,
          5.795716597058204E-4,
          6.004838056056158E-4,
          6.21937601124202E-4,
          6.439384972058235E-4,
          6.664916708000405E-4,
          6.896020125991692E-4,
          7.132741148748317E-4,
          7.375122594317288E-4,
          7.623204057017781E-4,
          7.877021790000695E-4,
          8.136608589621765E-4,
          8.401993681855235E-4,
          8.673202610953445E-4,
          8.950257130575581E-4,
          9.233175097565424E-4,
          9.521970368652523E-4,
          9.81665270015638E-4,
          0.0010117227651067935,
          0.001042369648958024,
          0.0010736056103275507,
          0.0011054298913294389,
          0.0011378412792407387,
          0.0011708380987534572,
          0.0012044182046541466,
          0.001238578974973585,
          0.0012733173046079599,
          0.001308629599437422,
          0.001344511770956916,
          0.0013809592314157348,
          0.0014179668895179104,
          0.0014555291466512715,
          0.001493639893697482,
          0.0015322925084004305,
          0.0015714798533365618,
          0.0016111942744714489,
          0.0016514276003150238,
          0.0016921711417072702,
          0.0017334156921980926,
          0.0017751515290789568,
          0.0018173684150191091,
          0.0018600556003521493,
          0.001903201825994509,
          0.0019467953269990332,
          0.001990823836757874,
          0.002035274591821512,
          0.0020801343373888503,
          0.002125389333402422,
          0.002171025361289755,
          0.0022170277313307146,
          0.002263381290640923,
          0.0023100704317786658,
          0.0023570791019495996,
          0.0024043908128108527,
          0.0024519886508764244,
          0.0024998552884842318,
          0.002547972995331216,
          0.0025963236505798792,
          0.002644888755474528,
          0.002693649446516788,
          0.0027425865091221246,
          0.0027916803917790722,
          0.002840911220708453,
          0.0028902588149298247,
          0.002939702701827529,
          0.002989222133091607,
          0.0030387961010776565,
          0.0030884033555572676,
          0.003138022420799913,
          0.0031876316130183824,
          0.0032372090581045954,
          0.0032867327096841037,
          0.0033361803674116786,
          0.003385529695518752,
          0.0034347582416054956,
          0.0034838434555729547,
          0.0035327627087914926,
          0.0035814933133653803,
          0.0036300125415352213,
          0.003678297645180628,
          0.0037263258753876816,
          0.0037740745020488076,
          0.0038215208335017903,
          0.0038686422361493555,
          0.003915416154043505,
          0.003961820128413562,
          0.004007831817135377,
          0.004053429014039267,
          0.004098589668152075,
          0.004143291902715618,
          0.004187514034086681,
          0.004231234590371502,
          0.004274432329899436,
          0.004317086259380709,
          0.004359175651828917,
          0.004400680064189033,
          0.004441579354631409,
          0.00448185369951859,
          0.00452148361002791,
          0.004560449948365963,
          0.004598733943619537,
          0.004636317207176166,
          0.004673181747737842,
          0.004709309985826582,
          0.0047446847679257775,
          0.004779289380042129,
          0.0048131075608386364,
          0.004846123514255174,
          0.004878321921584439,
          0.004909687953032482,
          0.004940207278760156,
          0.0049698660793202065,
          0.004998651055604153,
          0.005026549438155392,
          0.00505354899593502,
          0.005079638044533152,
          0.005104805453721328,
          0.005129040654486994,
          0.005152333645430995,
          0.005174674998550122,
          0.00519605586446753,
          0.005216467977019468,
          0.005235903657249907,
          0.0052543558167982285,
          0.00527181796069115,
          0.005288284189541637,
          0.00530374920111637,
          0.005318208291359261,
          0.0053316573547758095,
          0.005344092884273122,
          0.005355511970394522,
          0.005365912299996056,
          0.005375292154368494,
          0.00538365040675548,
          0.005390986519398566,
          0.00539730053997195,
          0.00540259309753699,
          0.0054068653979537085,
          0.005410119218796083,
          0.005412356903771565,
          0.005413581356639552,
          0.0054137960346905545,
          0.005413004941746347,
          0.0054112126207048195,
          0.005408424145697088,
          0.0054046451137670926,
          0.005399881636207138,
          0.005394140329476826,
          0.005387428305740849,
          0.0053797531630844775,
          0.005371122975349696,
          0.00536154628167973,
          0.0053510320757342855,
          0.005339589794618238,
          0.00532722930752505,
          0.005313960904139603,
          0.005299795282799558,
          0.005284743538377934,
          0.005268817150032579,
          0.00525202796870905,
          0.005234388204483631,
          0.005215910413725489,
          0.005196607486179783,
          0.005176492631804308,
          0.005155579367644991,
          0.005133881504465032,
          0.0051114131334055735,
          0.0050881886125409,
          0.005064222553363362,
          0.005039529807274179,
          0.005014125452037166,
          0.004988024778219913,
          0.004961243275685812,
          0.004933796620031017,
          0.00490570065917062,
          0.004876971399875085,
          0.004847624994431032,
          0.004817677727383618,
          0.004787146002318221,
          0.004756046328810215,
          0.004724395309459117,
          0.004692209627033206,
          0.00465950603179921,
          0.004626301328953364,
          0.004592612366247528,
          0.004558456021754975,
          0.004523849191856333,
          0.004488808779357312,
          0.004453351681853679,
          0.004417494780290965,
          0.004381254927694922,
          0.004344648938183759,
          0.004307693576177218,
          0.004270405545832023,
          0.00423280148073002,
          0.00419489793381711,
          0.004156711367585664,
          0.004118258144493625,
          0.004079554517700035,
          0.004040616621994508,
          0.004001460465059226,
          0.0039621019189459705,
          0.003922556711885905,
          0.0038828404203135047,
          0.0038429684612342196,
          0.0038029560848134025,
          0.003762818367302523,
          0.003722570204186204,
          0.003682226303687086,
          0.0036418011804915107,
          0.003601309149794285,
          0.0035607643216065687,
          0.0035201805953757326,
          0.00347957165486501,
          0.0034389509632968274,
          0.0033983317588350825,
          0.0033577270502738177,
          0.003317149613058845,
          0.003276611985546518,
          0.0032361264655433875,
          0.0031957051071300757,
          0.0031553597177198522,
          0.0031151018553929877,
          0.0030749428265050005,
          0.003034893683505846,
          0.0029949652230700785,
          0.002955167984401208,
          0.0029155122478450313,
          0.002876008033689592,
          0.002836665101228819,
          0.0027974929480354405,
          0.0027585008094654917,
          0.002719697658386977,
          0.0026810922050923836,
          0.0026426928974653263,
          0.002604507921300403,
          0.0025665452008568623,
          0.002528812399589908,
          0.002491316921050868,
          0.0024540659100098505,
          0.0024170662537008614,
          0.0023803245832922926,
          0.0023438472754557793,
          0.0023076404541672035,
          0.002271709992582638,
          0.0022360615151297836,
          0.0022007003996911134,
          0.0021656317799430003,
          0.0021308605478206344,
          0.002096391356113947,
          0.0020622286211555707,
          0.0020283765256579045,
          0.0019948390216307788,
          0.0019616198333967105,
          0.001928722460735055,
          0.0018961501820721205,
          0.0018639060577846367,
          0.0018319929335862684,
          0.0018004134439589814,
          0.001769170015688326,
          0.001738264871436579,
          0.00170770003339471,
          0.001677477326968102,
          0.0016475983845318787,
          0.001618064649215989,
          0.0015888773787433585,
          0.0015600376492794776,
          0.0015315463593538192,
          0.0015034042337598308,
          0.0014756118275176533,
          0.0014481695298301789,
          0.0014210775680645327,
          0.0013943360117419923,
          0.0013679447765317931,
          0.0013419036282494856,
          0.001316212186859289,
          0.00129086993046168,
          0.0012658761992795364,
          0.00124123019964395,
          0.0012169310079405138,
          0.0011929775745604942,
          0.0011693687278313547,
          0.0011461031779070874,
          0.0011231795206531059,
          0.0011005962414911696,
          0.0010783517192146652,
          0.0010564442297839038,
          0.0010348719500612447,
          0.0010136329615373363,
          9.927252539987386E-4,
          9.721467291575747E-4,
          9.518952042498752E-4,
          9.319684155708607E-4,
          9.123640219792506E-4,
          8.930796083446157E-4,
          8.741126889524331E-4,
          8.554607108480772E-4,
          8.371210571425092E-4,
          8.190910502524629E-4,
          8.013679550953334E-4,
          7.839489822227819E-4,
          7.668312909012709E-4,
          7.50011992138977E-4,
          7.334881516458669E-4,
          7.172567927478113E-4,
          7.013148992301987E-4,
          6.856594181320341E-4,
          6.702872624726464E-4,
          6.551953139241062E-4,
          6.403804254220269E-4,
          6.258394237134146E-4,
          6.115691118442346E-4,
          5.975662715934638E-4,
          5.838276658343133E-4,
          5.703500408453799E-4,
          5.571301285555164E-4,
          5.441646487313045E-4,
          5.314503111006896E-4,
          5.18983817422547E-4,
          5.067618634896354E-4,
          4.947811410783709E-4,
          4.830383398359839E-4,
          4.7153014911016644E-4,
          4.602532597224318E-4,
          4.4920436568107736E-4,
          4.3838016583985784E-4,
          4.2777736549926004E-4,
          4.1739267795048995E-4,
          4.072228259696109E-4,
          3.9726454324906513E-4,
          3.875145757851195E-4,
          3.779696832029167E-4,
          3.686266400371174E-4,
          3.594822369568096E-4,
          3.505332819401241E-4,
          3.4177660140122246E-4,
          3.3320904126477036E-4,
          3.2482746799722406E-4,
          3.1662876958460373E-4,
          3.086098564692996E-4,
          3.0076766243902764E-4,
          2.9309914546982174E-4,
          2.8560128852894717E-4,
          2.782711003297411E-4,
          2.7110561605026007E-4,
          2.641018980066301E-4,
          2.572570362877613E-4,
          2.505681493510936E-4,
          2.4403238458059473E-4,
          2.376469188044572E-4,
          2.3140895878059897E-4,
          2.2531574164486035E-4,
          2.1936453532123146E-4,
          2.1355263890610043E-4,
          2.078773830113123E-4,
          2.023361300810267E-4,
          1.969262746763789E-4,
          1.9164524372794478E-4,
          1.8649049676178198E-4,
          1.8145952609593952E-4,
          1.765498570098778E-4,
          1.7175904788613305E-4,
          1.6708469032922224E-4,
          1.6252440925534906E-4,
          1.5807586296356924E-4,
          1.5373674317764596E-4,
          1.4950477507091886E-4,
          1.4537771726719217E-4,
          1.413533618189744E-4,
          1.3742953417084092E-4,
          1.3360409309792765E-4,
          1.2987493063021383E-4,
          1.262399719558216E-4,
          1.2269717531065982E-4,
          1.1924453184863903E-4,
          1.1588006549767549E-4,
          1.1260183280192848E-4,
          1.0940792274671818E-4,
          1.0629645657400655E-4,
          1.0326558758033677E-4,
          1.0031350090689006E-4,
          9.743841331466552E-5,
          9.463857294988998E-5,
          9.191225909888079E-5,
          8.925778193336065E-5,
          8.667348224478122E-5,
          8.415773117242953E-5,
          8.170892992009904E-5,
          7.932550946887496E-5,
          7.700593027870628E-5,
          7.474868198553697E-5,
          7.255228309221984E-5,
          7.041528065232505E-5,
          6.833624994961873E-5,
          6.631379417199046E-5,
          6.434654408182805E-5,
          6.24331576801751E-5,
          6.0572319870444424E-5,
          5.8762742114915056E-5,
          5.7003162092783555E-5,
          5.5292343350221707E-5,
          5.362907495387592E-5,
          5.201217113770529E-5,
          5.044047095104087E-5,
          4.891283790497969E-5,
          4.742815961600311E-5
         ],
         "yaxis": "y",
         "type": "scatter"
        }
       ],
       "layout": {
        "template": {
         "data": {
          "bar": [
           {
            "error_x": {
             "color": "#2a3f5f"
            },
            "error_y": {
             "color": "#2a3f5f"
            },
            "marker": {
             "line": {
              "color": "#E5ECF6",
              "width": 0.5
             },
             "pattern": {
              "fillmode": "overlay",
              "size": 10,
              "solidity": 0.2
             }
            },
            "type": "bar"
           }
          ],
          "barpolar": [
           {
            "marker": {
             "line": {
              "color": "#E5ECF6",
              "width": 0.5
             },
             "pattern": {
              "fillmode": "overlay",
              "size": 10,
              "solidity": 0.2
             }
            },
            "type": "barpolar"
           }
          ],
          "carpet": [
           {
            "aaxis": {
             "endlinecolor": "#2a3f5f",
             "gridcolor": "white",
             "linecolor": "white",
             "minorgridcolor": "white",
             "startlinecolor": "#2a3f5f"
            },
            "baxis": {
             "endlinecolor": "#2a3f5f",
             "gridcolor": "white",
             "linecolor": "white",
             "minorgridcolor": "white",
             "startlinecolor": "#2a3f5f"
            },
            "type": "carpet"
           }
          ],
          "choropleth": [
           {
            "colorbar": {
             "outlinewidth": 0,
             "ticks": ""
            },
            "type": "choropleth"
           }
          ],
          "contour": [
           {
            "colorbar": {
             "outlinewidth": 0,
             "ticks": ""
            },
            "colorscale": [
             [
              0.0,
              "#0d0887"
             ],
             [
              0.1111111111111111,
              "#46039f"
             ],
             [
              0.2222222222222222,
              "#7201a8"
             ],
             [
              0.3333333333333333,
              "#9c179e"
             ],
             [
              0.4444444444444444,
              "#bd3786"
             ],
             [
              0.5555555555555556,
              "#d8576b"
             ],
             [
              0.6666666666666666,
              "#ed7953"
             ],
             [
              0.7777777777777778,
              "#fb9f3a"
             ],
             [
              0.8888888888888888,
              "#fdca26"
             ],
             [
              1.0,
              "#f0f921"
             ]
            ],
            "type": "contour"
           }
          ],
          "contourcarpet": [
           {
            "colorbar": {
             "outlinewidth": 0,
             "ticks": ""
            },
            "type": "contourcarpet"
           }
          ],
          "heatmap": [
           {
            "colorbar": {
             "outlinewidth": 0,
             "ticks": ""
            },
            "colorscale": [
             [
              0.0,
              "#0d0887"
             ],
             [
              0.1111111111111111,
              "#46039f"
             ],
             [
              0.2222222222222222,
              "#7201a8"
             ],
             [
              0.3333333333333333,
              "#9c179e"
             ],
             [
              0.4444444444444444,
              "#bd3786"
             ],
             [
              0.5555555555555556,
              "#d8576b"
             ],
             [
              0.6666666666666666,
              "#ed7953"
             ],
             [
              0.7777777777777778,
              "#fb9f3a"
             ],
             [
              0.8888888888888888,
              "#fdca26"
             ],
             [
              1.0,
              "#f0f921"
             ]
            ],
            "type": "heatmap"
           }
          ],
          "heatmapgl": [
           {
            "colorbar": {
             "outlinewidth": 0,
             "ticks": ""
            },
            "colorscale": [
             [
              0.0,
              "#0d0887"
             ],
             [
              0.1111111111111111,
              "#46039f"
             ],
             [
              0.2222222222222222,
              "#7201a8"
             ],
             [
              0.3333333333333333,
              "#9c179e"
             ],
             [
              0.4444444444444444,
              "#bd3786"
             ],
             [
              0.5555555555555556,
              "#d8576b"
             ],
             [
              0.6666666666666666,
              "#ed7953"
             ],
             [
              0.7777777777777778,
              "#fb9f3a"
             ],
             [
              0.8888888888888888,
              "#fdca26"
             ],
             [
              1.0,
              "#f0f921"
             ]
            ],
            "type": "heatmapgl"
           }
          ],
          "histogram": [
           {
            "marker": {
             "pattern": {
              "fillmode": "overlay",
              "size": 10,
              "solidity": 0.2
             }
            },
            "type": "histogram"
           }
          ],
          "histogram2d": [
           {
            "colorbar": {
             "outlinewidth": 0,
             "ticks": ""
            },
            "colorscale": [
             [
              0.0,
              "#0d0887"
             ],
             [
              0.1111111111111111,
              "#46039f"
             ],
             [
              0.2222222222222222,
              "#7201a8"
             ],
             [
              0.3333333333333333,
              "#9c179e"
             ],
             [
              0.4444444444444444,
              "#bd3786"
             ],
             [
              0.5555555555555556,
              "#d8576b"
             ],
             [
              0.6666666666666666,
              "#ed7953"
             ],
             [
              0.7777777777777778,
              "#fb9f3a"
             ],
             [
              0.8888888888888888,
              "#fdca26"
             ],
             [
              1.0,
              "#f0f921"
             ]
            ],
            "type": "histogram2d"
           }
          ],
          "histogram2dcontour": [
           {
            "colorbar": {
             "outlinewidth": 0,
             "ticks": ""
            },
            "colorscale": [
             [
              0.0,
              "#0d0887"
             ],
             [
              0.1111111111111111,
              "#46039f"
             ],
             [
              0.2222222222222222,
              "#7201a8"
             ],
             [
              0.3333333333333333,
              "#9c179e"
             ],
             [
              0.4444444444444444,
              "#bd3786"
             ],
             [
              0.5555555555555556,
              "#d8576b"
             ],
             [
              0.6666666666666666,
              "#ed7953"
             ],
             [
              0.7777777777777778,
              "#fb9f3a"
             ],
             [
              0.8888888888888888,
              "#fdca26"
             ],
             [
              1.0,
              "#f0f921"
             ]
            ],
            "type": "histogram2dcontour"
           }
          ],
          "mesh3d": [
           {
            "colorbar": {
             "outlinewidth": 0,
             "ticks": ""
            },
            "type": "mesh3d"
           }
          ],
          "parcoords": [
           {
            "line": {
             "colorbar": {
              "outlinewidth": 0,
              "ticks": ""
             }
            },
            "type": "parcoords"
           }
          ],
          "pie": [
           {
            "automargin": true,
            "type": "pie"
           }
          ],
          "scatter": [
           {
            "marker": {
             "colorbar": {
              "outlinewidth": 0,
              "ticks": ""
             }
            },
            "type": "scatter"
           }
          ],
          "scatter3d": [
           {
            "line": {
             "colorbar": {
              "outlinewidth": 0,
              "ticks": ""
             }
            },
            "marker": {
             "colorbar": {
              "outlinewidth": 0,
              "ticks": ""
             }
            },
            "type": "scatter3d"
           }
          ],
          "scattercarpet": [
           {
            "marker": {
             "colorbar": {
              "outlinewidth": 0,
              "ticks": ""
             }
            },
            "type": "scattercarpet"
           }
          ],
          "scattergeo": [
           {
            "marker": {
             "colorbar": {
              "outlinewidth": 0,
              "ticks": ""
             }
            },
            "type": "scattergeo"
           }
          ],
          "scattergl": [
           {
            "marker": {
             "colorbar": {
              "outlinewidth": 0,
              "ticks": ""
             }
            },
            "type": "scattergl"
           }
          ],
          "scattermapbox": [
           {
            "marker": {
             "colorbar": {
              "outlinewidth": 0,
              "ticks": ""
             }
            },
            "type": "scattermapbox"
           }
          ],
          "scatterpolar": [
           {
            "marker": {
             "colorbar": {
              "outlinewidth": 0,
              "ticks": ""
             }
            },
            "type": "scatterpolar"
           }
          ],
          "scatterpolargl": [
           {
            "marker": {
             "colorbar": {
              "outlinewidth": 0,
              "ticks": ""
             }
            },
            "type": "scatterpolargl"
           }
          ],
          "scatterternary": [
           {
            "marker": {
             "colorbar": {
              "outlinewidth": 0,
              "ticks": ""
             }
            },
            "type": "scatterternary"
           }
          ],
          "surface": [
           {
            "colorbar": {
             "outlinewidth": 0,
             "ticks": ""
            },
            "colorscale": [
             [
              0.0,
              "#0d0887"
             ],
             [
              0.1111111111111111,
              "#46039f"
             ],
             [
              0.2222222222222222,
              "#7201a8"
             ],
             [
              0.3333333333333333,
              "#9c179e"
             ],
             [
              0.4444444444444444,
              "#bd3786"
             ],
             [
              0.5555555555555556,
              "#d8576b"
             ],
             [
              0.6666666666666666,
              "#ed7953"
             ],
             [
              0.7777777777777778,
              "#fb9f3a"
             ],
             [
              0.8888888888888888,
              "#fdca26"
             ],
             [
              1.0,
              "#f0f921"
             ]
            ],
            "type": "surface"
           }
          ],
          "table": [
           {
            "cells": {
             "fill": {
              "color": "#EBF0F8"
             },
             "line": {
              "color": "white"
             }
            },
            "header": {
             "fill": {
              "color": "#C8D4E3"
             },
             "line": {
              "color": "white"
             }
            },
            "type": "table"
           }
          ]
         },
         "layout": {
          "annotationdefaults": {
           "arrowcolor": "#2a3f5f",
           "arrowhead": 0,
           "arrowwidth": 1
          },
          "autotypenumbers": "strict",
          "coloraxis": {
           "colorbar": {
            "outlinewidth": 0,
            "ticks": ""
           }
          },
          "colorscale": {
           "diverging": [
            [
             0,
             "#8e0152"
            ],
            [
             0.1,
             "#c51b7d"
            ],
            [
             0.2,
             "#de77ae"
            ],
            [
             0.3,
             "#f1b6da"
            ],
            [
             0.4,
             "#fde0ef"
            ],
            [
             0.5,
             "#f7f7f7"
            ],
            [
             0.6,
             "#e6f5d0"
            ],
            [
             0.7,
             "#b8e186"
            ],
            [
             0.8,
             "#7fbc41"
            ],
            [
             0.9,
             "#4d9221"
            ],
            [
             1,
             "#276419"
            ]
           ],
           "sequential": [
            [
             0.0,
             "#0d0887"
            ],
            [
             0.1111111111111111,
             "#46039f"
            ],
            [
             0.2222222222222222,
             "#7201a8"
            ],
            [
             0.3333333333333333,
             "#9c179e"
            ],
            [
             0.4444444444444444,
             "#bd3786"
            ],
            [
             0.5555555555555556,
             "#d8576b"
            ],
            [
             0.6666666666666666,
             "#ed7953"
            ],
            [
             0.7777777777777778,
             "#fb9f3a"
            ],
            [
             0.8888888888888888,
             "#fdca26"
            ],
            [
             1.0,
             "#f0f921"
            ]
           ],
           "sequentialminus": [
            [
             0.0,
             "#0d0887"
            ],
            [
             0.1111111111111111,
             "#46039f"
            ],
            [
             0.2222222222222222,
             "#7201a8"
            ],
            [
             0.3333333333333333,
             "#9c179e"
            ],
            [
             0.4444444444444444,
             "#bd3786"
            ],
            [
             0.5555555555555556,
             "#d8576b"
            ],
            [
             0.6666666666666666,
             "#ed7953"
            ],
            [
             0.7777777777777778,
             "#fb9f3a"
            ],
            [
             0.8888888888888888,
             "#fdca26"
            ],
            [
             1.0,
             "#f0f921"
            ]
           ]
          },
          "colorway": [
           "#636efa",
           "#EF553B",
           "#00cc96",
           "#ab63fa",
           "#FFA15A",
           "#19d3f3",
           "#FF6692",
           "#B6E880",
           "#FF97FF",
           "#FECB52"
          ],
          "font": {
           "color": "#2a3f5f"
          },
          "geo": {
           "bgcolor": "white",
           "lakecolor": "white",
           "landcolor": "#E5ECF6",
           "showlakes": true,
           "showland": true,
           "subunitcolor": "white"
          },
          "hoverlabel": {
           "align": "left"
          },
          "hovermode": "closest",
          "mapbox": {
           "style": "light"
          },
          "paper_bgcolor": "white",
          "plot_bgcolor": "#E5ECF6",
          "polar": {
           "angularaxis": {
            "gridcolor": "white",
            "linecolor": "white",
            "ticks": ""
           },
           "bgcolor": "#E5ECF6",
           "radialaxis": {
            "gridcolor": "white",
            "linecolor": "white",
            "ticks": ""
           }
          },
          "scene": {
           "xaxis": {
            "backgroundcolor": "#E5ECF6",
            "gridcolor": "white",
            "gridwidth": 2,
            "linecolor": "white",
            "showbackground": true,
            "ticks": "",
            "zerolinecolor": "white"
           },
           "yaxis": {
            "backgroundcolor": "#E5ECF6",
            "gridcolor": "white",
            "gridwidth": 2,
            "linecolor": "white",
            "showbackground": true,
            "ticks": "",
            "zerolinecolor": "white"
           },
           "zaxis": {
            "backgroundcolor": "#E5ECF6",
            "gridcolor": "white",
            "gridwidth": 2,
            "linecolor": "white",
            "showbackground": true,
            "ticks": "",
            "zerolinecolor": "white"
           }
          },
          "shapedefaults": {
           "line": {
            "color": "#2a3f5f"
           }
          },
          "ternary": {
           "aaxis": {
            "gridcolor": "white",
            "linecolor": "white",
            "ticks": ""
           },
           "baxis": {
            "gridcolor": "white",
            "linecolor": "white",
            "ticks": ""
           },
           "bgcolor": "#E5ECF6",
           "caxis": {
            "gridcolor": "white",
            "linecolor": "white",
            "ticks": ""
           }
          },
          "title": {
           "x": 0.05
          },
          "xaxis": {
           "automargin": true,
           "gridcolor": "white",
           "linecolor": "white",
           "ticks": "",
           "title": {
            "standoff": 15
           },
           "zerolinecolor": "white",
           "zerolinewidth": 2
          },
          "yaxis": {
           "automargin": true,
           "gridcolor": "white",
           "linecolor": "white",
           "ticks": "",
           "title": {
            "standoff": 15
           },
           "zerolinecolor": "white",
           "zerolinewidth": 2
          }
         }
        },
        "xaxis": {
         "anchor": "y",
         "domain": [
          0.0,
          1.0
         ],
         "title": {
          "text": "x"
         }
        },
        "yaxis": {
         "anchor": "x",
         "domain": [
          0.0,
          1.0
         ],
         "title": {
          "text": "y"
         }
        },
        "legend": {
         "tracegroupgap": 0
        },
        "title": {
         "text": "True sampling distribution function for theta_hat"
        }
       },
       "config": {
        "plotlyServerURL": "https://plot.ly"
       }
      },
      "text/html": "<div>                            <div id=\"11a5ea6c-d30f-4d4e-ae3a-6d1d475d38a1\" class=\"plotly-graph-div\" style=\"height:525px; width:100%;\"></div>            <script type=\"text/javascript\">                require([\"plotly\"], function(Plotly) {                    window.PLOTLYENV=window.PLOTLYENV || {};                                    if (document.getElementById(\"11a5ea6c-d30f-4d4e-ae3a-6d1d475d38a1\")) {                    Plotly.newPlot(                        \"11a5ea6c-d30f-4d4e-ae3a-6d1d475d38a1\",                        [{\"hovertemplate\":\"x=%{x}<br>y=%{y}<extra></extra>\",\"legendgroup\":\"\",\"line\":{\"color\":\"#636efa\",\"dash\":\"solid\"},\"marker\":{\"symbol\":\"circle\"},\"mode\":\"lines\",\"name\":\"\",\"orientation\":\"v\",\"showlegend\":false,\"x\":[100.0,100.20040080160321,100.40080160320642,100.60120240480961,100.80160320641282,101.00200400801603,101.20240480961924,101.40280561122245,101.60320641282566,101.80360721442885,102.00400801603206,102.20440881763527,102.40480961923848,102.60521042084169,102.8056112224449,103.00601202404809,103.2064128256513,103.40681362725451,103.60721442885772,103.80761523046093,104.00801603206413,104.20841683366733,104.40881763527054,104.60921843687375,104.80961923847696,105.01002004008016,105.21042084168337,105.41082164328657,105.61122244488978,105.81162324649299,106.0120240480962,106.2124248496994,106.41282565130261,106.6132264529058,106.81362725450902,107.01402805611222,107.21442885771543,107.41482965931864,107.61523046092185,107.81563126252505,108.01603206412825,108.21643286573146,108.41683366733467,108.61723446893788,108.81763527054107,109.01803607214428,109.21843687374749,109.4188376753507,109.61923847695391,109.81963927855712,110.02004008016033,110.22044088176352,110.42084168336673,110.62124248496994,110.82164328657315,111.02204408817636,111.22244488977955,111.42284569138276,111.62324649298597,111.82364729458918,112.02404809619239,112.2244488977956,112.4248496993988,112.625250501002,112.82565130260521,113.02605210420842,113.22645290581163,113.42685370741484,113.62725450901803,113.82765531062124,114.02805611222445,114.22845691382766,114.42885771543087,114.62925851703407,114.82965931863727,115.03006012024048,115.23046092184369,115.4308617234469,115.6312625250501,115.83166332665331,116.03206412825651,116.23246492985972,116.43286573146293,116.63326653306613,116.83366733466934,117.03406813627254,117.23446893787576,117.43486973947896,117.63527054108216,117.83567134268537,118.03607214428858,118.23647294589179,118.43687374749499,118.6372745490982,118.8376753507014,119.03807615230461,119.23847695390782,119.43887775551102,119.63927855711422,119.83967935871743,120.04008016032064,120.24048096192385,120.44088176352706,120.64128256513027,120.84168336673346,121.04208416833667,121.24248496993988,121.44288577154309,121.6432865731463,121.84368737474949,122.0440881763527,122.24448897795591,122.44488977955912,122.64529058116233,122.84569138276554,123.04609218436875,123.24649298597194,123.44689378757515,123.64729458917836,123.84769539078157,124.04809619238478,124.24849699398797,124.44889779559118,124.64929859719439,124.8496993987976,125.0501002004008,125.250501002004,125.45090180360722,125.65130260521042,125.85170340681363,126.05210420841684,126.25250501002004,126.45290581162325,126.65330661322645,126.85370741482966,127.05410821643287,127.25450901803607,127.45490981963928,127.65531062124248,127.8557114228457,128.0561122244489,128.25651302605212,128.4569138276553,128.6573146292585,128.85771543086173,129.05811623246493,129.25851703406815,129.45891783567134,129.65931863727454,129.85971943887776,130.06012024048096,130.26052104208418,130.46092184368737,130.66132264529057,130.8617234468938,131.06212424849699,131.2625250501002,131.4629258517034,131.66332665330663,131.86372745490982,132.06412825651302,132.26452905811624,132.46492985971943,132.66533066132266,132.86573146292585,133.06613226452907,133.26653306613227,133.46693386773546,133.6673346693387,133.86773547094188,134.06813627254508,134.2685370741483,134.46893787575152,134.66933867735472,134.8697394789579,135.07014028056113,135.27054108216433,135.47094188376752,135.67134268537075,135.87174348697394,136.07214428857716,136.27254509018036,136.47294589178358,136.67334669338678,136.87374749498997,137.0741482965932,137.2745490981964,137.47494989979958,137.6753507014028,137.87575150300603,138.07615230460922,138.27655310621242,138.47695390781564,138.67735470941884,138.87775551102203,139.07815631262525,139.27855711422845,139.47895791583167,139.67935871743487,139.8797595190381,140.08016032064128,140.28056112224448,140.4809619238477,140.6813627254509,140.88176352705412,141.0821643286573,141.28256513026054,141.48296593186373,141.68336673346693,141.88376753507015,142.08416833667334,142.28456913827654,142.48496993987976,142.68537074148298,142.88577154308618,143.08617234468937,143.2865731462926,143.4869739478958,143.68737474949899,143.8877755511022,144.0881763527054,144.28857715430863,144.48897795591182,144.68937875751504,144.88977955911824,145.09018036072143,145.29058116232466,145.49098196392785,145.69138276553107,145.89178356713427,146.0921843687375,146.2925851703407,146.49298597194388,146.6933867735471,146.8937875751503,147.0941883767535,147.29458917835672,147.4949899799599,147.69539078156313,147.89579158316633,148.09619238476955,148.29659318637275,148.49699398797594,148.69739478957916,148.89779559118236,149.09819639278558,149.29859719438878,149.498997995992,149.6993987975952,149.8997995991984,150.1002004008016,150.3006012024048,150.501002004008,150.70140280561122,150.90180360721445,151.10220440881764,151.30260521042084,151.50300601202406,151.70340681362725,151.90380761523045,152.10420841683367,152.30460921843687,152.5050100200401,152.70541082164328,152.9058116232465,153.1062124248497,153.3066132264529,153.50701402805612,153.7074148296593,153.90781563126254,154.10821643286573,154.30861723446895,154.50901803607215,154.70941883767534,154.90981963927857,155.11022044088176,155.31062124248496,155.51102204408818,155.7114228456914,155.9118236472946,156.1122244488978,156.31262525050101,156.5130260521042,156.7134268537074,156.91382765531063,157.11422845691382,157.31462925851704,157.51503006012024,157.71543086172346,157.91583166332666,158.11623246492985,158.31663326653307,158.51703406813627,158.71743486973946,158.9178356713427,159.1182364729459,159.3186372745491,159.5190380761523,159.71943887775552,159.91983967935872,160.1202404809619,160.32064128256513,160.52104208416833,160.72144288577155,160.92184368737475,161.12224448897797,161.32264529058116,161.52304609218436,161.72344689378758,161.92384769539078,162.124248496994,162.3246492985972,162.52505010020042,162.7254509018036,162.9258517034068,163.12625250501003,163.32665330661322,163.52705410821642,163.72745490981964,163.92785571142286,164.12825651302606,164.32865731462925,164.52905811623248,164.72945891783567,164.92985971943887,165.1302605210421,165.3306613226453,165.53106212424848,165.7314629258517,165.93186372745492,166.13226452905812,166.3326653306613,166.53306613226454,166.73346693386773,166.93386773547093,167.13426853707415,167.33466933867737,167.53507014028057,167.73547094188376,167.93587174348698,168.13627254509018,168.33667334669337,168.5370741482966,168.73747494989982,168.93787575150301,169.1382765531062,169.33867735470943,169.53907815631263,169.73947895791582,169.93987975951904,170.14028056112227,170.34068136272543,170.54108216432866,170.74148296593188,170.94188376753507,171.14228456913827,171.3426853707415,171.5430861723447,171.74348697394788,171.9438877755511,172.14428857715433,172.34468937875752,172.54509018036072,172.74549098196394,172.94589178356713,173.14629258517033,173.34669338677355,173.54709418837678,173.74749498997994,173.94789579158316,174.1482965931864,174.34869739478958,174.54909819639278,174.749498997996,174.9498997995992,175.1503006012024,175.3507014028056,175.55110220440883,175.75150300601203,175.95190380761522,176.15230460921845,176.35270541082164,176.55310621242484,176.75350701402806,176.95390781563128,177.15430861723448,177.35470941883767,177.5551102204409,177.7555110220441,177.95591182364728,178.1563126252505,178.35671342685373,178.5571142284569,178.75751503006012,178.95791583166334,179.15831663326654,179.35871743486973,179.55911823647295,179.75951903807615,179.95991983967934,180.16032064128257,180.3607214428858,180.56112224448898,180.76152304609218,180.9619238476954,181.1623246492986,181.3627254509018,181.56312625250501,181.76352705410824,181.96392785571143,182.16432865731463,182.36472945891785,182.56513026052104,182.76553106212424,182.96593186372746,183.16633266533066,183.36673346693385,183.56713426853707,183.7675350701403,183.9679358717435,184.1683366733467,184.3687374749499,184.5691382765531,184.7695390781563,184.96993987975952,185.17034068136275,185.37074148296594,185.57114228456913,185.77154308617236,185.97194388777555,186.17234468937875,186.37274549098197,186.5731462925852,186.77354709418836,186.97394789579158,187.1743486973948,187.374749498998,187.5751503006012,187.77555110220442,187.9759519038076,188.1763527054108,188.37675350701403,188.57715430861725,188.77755511022045,188.97795591182364,189.17835671342687,189.37875751503006,189.57915831663325,189.77955911823648,189.9799599198397,190.1803607214429,190.3807615230461,190.5811623246493,190.7815631262525,190.9819639278557,191.18236472945893,191.38276553106215,191.58316633266531,191.78356713426854,191.98396793587176,192.18436873747495,192.38476953907815,192.58517034068137,192.78557114228457,192.98597194388776,193.18637274549098,193.3867735470942,193.5871743486974,193.7875751503006,193.98797595190382,194.18837675350701,194.3887775551102,194.58917835671343,194.78957915831666,194.98997995991982,195.19038076152304,195.39078156312627,195.59118236472946,195.79158316633266,195.99198396793588,196.19238476953907,196.39278557114227,196.5931863727455,196.79358717434872,196.9939879759519,197.1943887775551,197.39478957915833,197.59519038076152,197.79559118236472,197.99599198396794,198.19639278557116,198.39679358717436,198.59719438877755,198.79759519038078,198.99799599198397,199.19839679358716,199.3987975951904,199.5991983967936,199.79959919839678,200.0],\"xaxis\":\"x\",\"y\":[0.0,3.423746680248472e-06,3.696172247492189e-06,3.988074189856776e-06,4.300668858304967e-06,4.635235643891043e-06,4.993119379475826e-06,5.3757327794244555e-06,5.784558914635586e-06,6.221153719782177e-06,6.68714852960688e-06,7.18425264070079e-06,7.714255895109045e-06,8.279031281661648e-06,8.880537550884132e-06,9.520821838893167e-06,1.0202022295589482e-05,1.0926370712068353e-05,1.1696195142010005e-05,1.2513922511562197e-05,1.3382081211844665e-05,1.4303303668140372e-05,1.528032887950111e-05,1.631600492224211e-05,1.7413291410643043e-05,1.857526190782345e-05,1.9805106279756444e-05,2.1106132984983713e-05,2.248177129244715e-05,2.3935573419730258e-05,2.547121658378975e-05,2.709250495619615e-05,2.8803371514433897e-05,3.060787978114663e-05,3.2510225442871266e-05,3.4514737839358e-05,3.662588131555112e-05,3.884825642662621e-05,4.118660098825159e-05,4.36457909627516e-05,4.6230841172394945e-05,4.894690583186819e-05,5.179927888997887e-05,5.479339417323835e-05,5.793482532211636e-05,6.1229285511534e-05,6.468262694800907e-05,6.830084013442262e-05,7.209005289541821e-05,7.605652915521955e-05,8.020666746065704e-05,8.454699924199493e-05,8.908418680552929e-05,9.38250210501014e-05,9.877641890259302e-05,0.00010394542046593858,0.00010933918587458088,0.00011496499185201714,0.00012083022796627622,0.00012694239257950244,0.00013330908848692858,0.0001399380182443245,0.00014683697917915704,0.00015401385808505152,0.0001614766255977557,0.0001692333302522617,0.00017729209221982976,0.00018566109672752762,0.00019434858715892912,0.00020336285784108626,0.0002127122465162305,0.00022240512650524395,0.0002324498985657921,0.00024285498244745827,0.00025362880815277093,0.0002647798069090332,0.00027631640185538705,0.00028824699845734787,0.00030057997465270797,0.00031332367074087854,0.00032648637902371516,0.00034007633320932897,0.00035410169758908275,0.0003685705560020659,0.0003834909005950224,0.00039887062039622306,0.00041471748971525814,0.0004310391563796673,0.0004478431298311925,0.0004651367690905895,0.0004829272706096191,0.0005012216560303772,0.0005200267598632485,0.0005393492171069988,0.0005591954508256756,0.0005795716597058204,0.0006004838056056158,0.000621937601124202,0.0006439384972058235,0.0006664916708000405,0.0006896020125991692,0.0007132741148748317,0.0007375122594317288,0.0007623204057017781,0.0007877021790000695,0.0008136608589621765,0.0008401993681855235,0.0008673202610953445,0.0008950257130575581,0.0009233175097565424,0.0009521970368652523,0.000981665270015638,0.0010117227651067935,0.001042369648958024,0.0010736056103275507,0.0011054298913294389,0.0011378412792407387,0.0011708380987534572,0.0012044182046541466,0.001238578974973585,0.0012733173046079599,0.001308629599437422,0.001344511770956916,0.0013809592314157348,0.0014179668895179104,0.0014555291466512715,0.001493639893697482,0.0015322925084004305,0.0015714798533365618,0.0016111942744714489,0.0016514276003150238,0.0016921711417072702,0.0017334156921980926,0.0017751515290789568,0.0018173684150191091,0.0018600556003521493,0.001903201825994509,0.0019467953269990332,0.001990823836757874,0.002035274591821512,0.0020801343373888503,0.002125389333402422,0.002171025361289755,0.0022170277313307146,0.002263381290640923,0.0023100704317786658,0.0023570791019495996,0.0024043908128108527,0.0024519886508764244,0.0024998552884842318,0.002547972995331216,0.0025963236505798792,0.002644888755474528,0.002693649446516788,0.0027425865091221246,0.0027916803917790722,0.002840911220708453,0.0028902588149298247,0.002939702701827529,0.002989222133091607,0.0030387961010776565,0.0030884033555572676,0.003138022420799913,0.0031876316130183824,0.0032372090581045954,0.0032867327096841037,0.0033361803674116786,0.003385529695518752,0.0034347582416054956,0.0034838434555729547,0.0035327627087914926,0.0035814933133653803,0.0036300125415352213,0.003678297645180628,0.0037263258753876816,0.0037740745020488076,0.0038215208335017903,0.0038686422361493555,0.003915416154043505,0.003961820128413562,0.004007831817135377,0.004053429014039267,0.004098589668152075,0.004143291902715618,0.004187514034086681,0.004231234590371502,0.004274432329899436,0.004317086259380709,0.004359175651828917,0.004400680064189033,0.004441579354631409,0.00448185369951859,0.00452148361002791,0.004560449948365963,0.004598733943619537,0.004636317207176166,0.004673181747737842,0.004709309985826582,0.0047446847679257775,0.004779289380042129,0.0048131075608386364,0.004846123514255174,0.004878321921584439,0.004909687953032482,0.004940207278760156,0.0049698660793202065,0.004998651055604153,0.005026549438155392,0.00505354899593502,0.005079638044533152,0.005104805453721328,0.005129040654486994,0.005152333645430995,0.005174674998550122,0.00519605586446753,0.005216467977019468,0.005235903657249907,0.0052543558167982285,0.00527181796069115,0.005288284189541637,0.00530374920111637,0.005318208291359261,0.0053316573547758095,0.005344092884273122,0.005355511970394522,0.005365912299996056,0.005375292154368494,0.00538365040675548,0.005390986519398566,0.00539730053997195,0.00540259309753699,0.0054068653979537085,0.005410119218796083,0.005412356903771565,0.005413581356639552,0.0054137960346905545,0.005413004941746347,0.0054112126207048195,0.005408424145697088,0.0054046451137670926,0.005399881636207138,0.005394140329476826,0.005387428305740849,0.0053797531630844775,0.005371122975349696,0.00536154628167973,0.0053510320757342855,0.005339589794618238,0.00532722930752505,0.005313960904139603,0.005299795282799558,0.005284743538377934,0.005268817150032579,0.00525202796870905,0.005234388204483631,0.005215910413725489,0.005196607486179783,0.005176492631804308,0.005155579367644991,0.005133881504465032,0.0051114131334055735,0.0050881886125409,0.005064222553363362,0.005039529807274179,0.005014125452037166,0.004988024778219913,0.004961243275685812,0.004933796620031017,0.00490570065917062,0.004876971399875085,0.004847624994431032,0.004817677727383618,0.004787146002318221,0.004756046328810215,0.004724395309459117,0.004692209627033206,0.00465950603179921,0.004626301328953364,0.004592612366247528,0.004558456021754975,0.004523849191856333,0.004488808779357312,0.004453351681853679,0.004417494780290965,0.004381254927694922,0.004344648938183759,0.004307693576177218,0.004270405545832023,0.00423280148073002,0.00419489793381711,0.004156711367585664,0.004118258144493625,0.004079554517700035,0.004040616621994508,0.004001460465059226,0.0039621019189459705,0.003922556711885905,0.0038828404203135047,0.0038429684612342196,0.0038029560848134025,0.003762818367302523,0.003722570204186204,0.003682226303687086,0.0036418011804915107,0.003601309149794285,0.0035607643216065687,0.0035201805953757326,0.00347957165486501,0.0034389509632968274,0.0033983317588350825,0.0033577270502738177,0.003317149613058845,0.003276611985546518,0.0032361264655433875,0.0031957051071300757,0.0031553597177198522,0.0031151018553929877,0.0030749428265050005,0.003034893683505846,0.0029949652230700785,0.002955167984401208,0.0029155122478450313,0.002876008033689592,0.002836665101228819,0.0027974929480354405,0.0027585008094654917,0.002719697658386977,0.0026810922050923836,0.0026426928974653263,0.002604507921300403,0.0025665452008568623,0.002528812399589908,0.002491316921050868,0.0024540659100098505,0.0024170662537008614,0.0023803245832922926,0.0023438472754557793,0.0023076404541672035,0.002271709992582638,0.0022360615151297836,0.0022007003996911134,0.0021656317799430003,0.0021308605478206344,0.002096391356113947,0.0020622286211555707,0.0020283765256579045,0.0019948390216307788,0.0019616198333967105,0.001928722460735055,0.0018961501820721205,0.0018639060577846367,0.0018319929335862684,0.0018004134439589814,0.001769170015688326,0.001738264871436579,0.00170770003339471,0.001677477326968102,0.0016475983845318787,0.001618064649215989,0.0015888773787433585,0.0015600376492794776,0.0015315463593538192,0.0015034042337598308,0.0014756118275176533,0.0014481695298301789,0.0014210775680645327,0.0013943360117419923,0.0013679447765317931,0.0013419036282494856,0.001316212186859289,0.00129086993046168,0.0012658761992795364,0.00124123019964395,0.0012169310079405138,0.0011929775745604942,0.0011693687278313547,0.0011461031779070874,0.0011231795206531059,0.0011005962414911696,0.0010783517192146652,0.0010564442297839038,0.0010348719500612447,0.0010136329615373363,0.0009927252539987386,0.0009721467291575747,0.0009518952042498752,0.0009319684155708607,0.0009123640219792506,0.0008930796083446157,0.0008741126889524331,0.0008554607108480772,0.0008371210571425092,0.0008190910502524629,0.0008013679550953334,0.0007839489822227819,0.0007668312909012709,0.000750011992138977,0.0007334881516458669,0.0007172567927478113,0.0007013148992301987,0.0006856594181320341,0.0006702872624726464,0.0006551953139241062,0.0006403804254220269,0.0006258394237134146,0.0006115691118442346,0.0005975662715934638,0.0005838276658343133,0.0005703500408453799,0.0005571301285555164,0.0005441646487313045,0.0005314503111006896,0.000518983817422547,0.0005067618634896354,0.0004947811410783709,0.0004830383398359839,0.00047153014911016644,0.0004602532597224318,0.00044920436568107736,0.00043838016583985784,0.00042777736549926004,0.00041739267795048995,0.0004072228259696109,0.00039726454324906513,0.0003875145757851195,0.0003779696832029167,0.0003686266400371174,0.0003594822369568096,0.0003505332819401241,0.00034177660140122246,0.00033320904126477036,0.00032482746799722406,0.00031662876958460373,0.0003086098564692996,0.00030076766243902764,0.00029309914546982174,0.00028560128852894717,0.0002782711003297411,0.00027110561605026007,0.0002641018980066301,0.0002572570362877613,0.0002505681493510936,0.00024403238458059473,0.0002376469188044572,0.00023140895878059897,0.00022531574164486035,0.00021936453532123146,0.00021355263890610043,0.0002078773830113123,0.0002023361300810267,0.0001969262746763789,0.00019164524372794478,0.00018649049676178198,0.00018145952609593952,0.0001765498570098778,0.00017175904788613305,0.00016708469032922224,0.00016252440925534906,0.00015807586296356924,0.00015373674317764596,0.00014950477507091886,0.00014537771726719217,0.0001413533618189744,0.00013742953417084092,0.00013360409309792765,0.00012987493063021383,0.0001262399719558216,0.00012269717531065982,0.00011924453184863903,0.00011588006549767549,0.00011260183280192848,0.00010940792274671818,0.00010629645657400655,0.00010326558758033677,0.00010031350090689006,9.743841331466552e-05,9.463857294988998e-05,9.191225909888079e-05,8.925778193336065e-05,8.667348224478122e-05,8.415773117242953e-05,8.170892992009904e-05,7.932550946887496e-05,7.700593027870628e-05,7.474868198553697e-05,7.255228309221984e-05,7.041528065232505e-05,6.833624994961873e-05,6.631379417199046e-05,6.434654408182805e-05,6.24331576801751e-05,6.0572319870444424e-05,5.8762742114915056e-05,5.7003162092783555e-05,5.5292343350221707e-05,5.362907495387592e-05,5.201217113770529e-05,5.044047095104087e-05,4.891283790497969e-05,4.742815961600311e-05],\"yaxis\":\"y\",\"type\":\"scatter\"}],                        {\"template\":{\"data\":{\"bar\":[{\"error_x\":{\"color\":\"#2a3f5f\"},\"error_y\":{\"color\":\"#2a3f5f\"},\"marker\":{\"line\":{\"color\":\"#E5ECF6\",\"width\":0.5},\"pattern\":{\"fillmode\":\"overlay\",\"size\":10,\"solidity\":0.2}},\"type\":\"bar\"}],\"barpolar\":[{\"marker\":{\"line\":{\"color\":\"#E5ECF6\",\"width\":0.5},\"pattern\":{\"fillmode\":\"overlay\",\"size\":10,\"solidity\":0.2}},\"type\":\"barpolar\"}],\"carpet\":[{\"aaxis\":{\"endlinecolor\":\"#2a3f5f\",\"gridcolor\":\"white\",\"linecolor\":\"white\",\"minorgridcolor\":\"white\",\"startlinecolor\":\"#2a3f5f\"},\"baxis\":{\"endlinecolor\":\"#2a3f5f\",\"gridcolor\":\"white\",\"linecolor\":\"white\",\"minorgridcolor\":\"white\",\"startlinecolor\":\"#2a3f5f\"},\"type\":\"carpet\"}],\"choropleth\":[{\"colorbar\":{\"outlinewidth\":0,\"ticks\":\"\"},\"type\":\"choropleth\"}],\"contour\":[{\"colorbar\":{\"outlinewidth\":0,\"ticks\":\"\"},\"colorscale\":[[0.0,\"#0d0887\"],[0.1111111111111111,\"#46039f\"],[0.2222222222222222,\"#7201a8\"],[0.3333333333333333,\"#9c179e\"],[0.4444444444444444,\"#bd3786\"],[0.5555555555555556,\"#d8576b\"],[0.6666666666666666,\"#ed7953\"],[0.7777777777777778,\"#fb9f3a\"],[0.8888888888888888,\"#fdca26\"],[1.0,\"#f0f921\"]],\"type\":\"contour\"}],\"contourcarpet\":[{\"colorbar\":{\"outlinewidth\":0,\"ticks\":\"\"},\"type\":\"contourcarpet\"}],\"heatmap\":[{\"colorbar\":{\"outlinewidth\":0,\"ticks\":\"\"},\"colorscale\":[[0.0,\"#0d0887\"],[0.1111111111111111,\"#46039f\"],[0.2222222222222222,\"#7201a8\"],[0.3333333333333333,\"#9c179e\"],[0.4444444444444444,\"#bd3786\"],[0.5555555555555556,\"#d8576b\"],[0.6666666666666666,\"#ed7953\"],[0.7777777777777778,\"#fb9f3a\"],[0.8888888888888888,\"#fdca26\"],[1.0,\"#f0f921\"]],\"type\":\"heatmap\"}],\"heatmapgl\":[{\"colorbar\":{\"outlinewidth\":0,\"ticks\":\"\"},\"colorscale\":[[0.0,\"#0d0887\"],[0.1111111111111111,\"#46039f\"],[0.2222222222222222,\"#7201a8\"],[0.3333333333333333,\"#9c179e\"],[0.4444444444444444,\"#bd3786\"],[0.5555555555555556,\"#d8576b\"],[0.6666666666666666,\"#ed7953\"],[0.7777777777777778,\"#fb9f3a\"],[0.8888888888888888,\"#fdca26\"],[1.0,\"#f0f921\"]],\"type\":\"heatmapgl\"}],\"histogram\":[{\"marker\":{\"pattern\":{\"fillmode\":\"overlay\",\"size\":10,\"solidity\":0.2}},\"type\":\"histogram\"}],\"histogram2d\":[{\"colorbar\":{\"outlinewidth\":0,\"ticks\":\"\"},\"colorscale\":[[0.0,\"#0d0887\"],[0.1111111111111111,\"#46039f\"],[0.2222222222222222,\"#7201a8\"],[0.3333333333333333,\"#9c179e\"],[0.4444444444444444,\"#bd3786\"],[0.5555555555555556,\"#d8576b\"],[0.6666666666666666,\"#ed7953\"],[0.7777777777777778,\"#fb9f3a\"],[0.8888888888888888,\"#fdca26\"],[1.0,\"#f0f921\"]],\"type\":\"histogram2d\"}],\"histogram2dcontour\":[{\"colorbar\":{\"outlinewidth\":0,\"ticks\":\"\"},\"colorscale\":[[0.0,\"#0d0887\"],[0.1111111111111111,\"#46039f\"],[0.2222222222222222,\"#7201a8\"],[0.3333333333333333,\"#9c179e\"],[0.4444444444444444,\"#bd3786\"],[0.5555555555555556,\"#d8576b\"],[0.6666666666666666,\"#ed7953\"],[0.7777777777777778,\"#fb9f3a\"],[0.8888888888888888,\"#fdca26\"],[1.0,\"#f0f921\"]],\"type\":\"histogram2dcontour\"}],\"mesh3d\":[{\"colorbar\":{\"outlinewidth\":0,\"ticks\":\"\"},\"type\":\"mesh3d\"}],\"parcoords\":[{\"line\":{\"colorbar\":{\"outlinewidth\":0,\"ticks\":\"\"}},\"type\":\"parcoords\"}],\"pie\":[{\"automargin\":true,\"type\":\"pie\"}],\"scatter\":[{\"marker\":{\"colorbar\":{\"outlinewidth\":0,\"ticks\":\"\"}},\"type\":\"scatter\"}],\"scatter3d\":[{\"line\":{\"colorbar\":{\"outlinewidth\":0,\"ticks\":\"\"}},\"marker\":{\"colorbar\":{\"outlinewidth\":0,\"ticks\":\"\"}},\"type\":\"scatter3d\"}],\"scattercarpet\":[{\"marker\":{\"colorbar\":{\"outlinewidth\":0,\"ticks\":\"\"}},\"type\":\"scattercarpet\"}],\"scattergeo\":[{\"marker\":{\"colorbar\":{\"outlinewidth\":0,\"ticks\":\"\"}},\"type\":\"scattergeo\"}],\"scattergl\":[{\"marker\":{\"colorbar\":{\"outlinewidth\":0,\"ticks\":\"\"}},\"type\":\"scattergl\"}],\"scattermapbox\":[{\"marker\":{\"colorbar\":{\"outlinewidth\":0,\"ticks\":\"\"}},\"type\":\"scattermapbox\"}],\"scatterpolar\":[{\"marker\":{\"colorbar\":{\"outlinewidth\":0,\"ticks\":\"\"}},\"type\":\"scatterpolar\"}],\"scatterpolargl\":[{\"marker\":{\"colorbar\":{\"outlinewidth\":0,\"ticks\":\"\"}},\"type\":\"scatterpolargl\"}],\"scatterternary\":[{\"marker\":{\"colorbar\":{\"outlinewidth\":0,\"ticks\":\"\"}},\"type\":\"scatterternary\"}],\"surface\":[{\"colorbar\":{\"outlinewidth\":0,\"ticks\":\"\"},\"colorscale\":[[0.0,\"#0d0887\"],[0.1111111111111111,\"#46039f\"],[0.2222222222222222,\"#7201a8\"],[0.3333333333333333,\"#9c179e\"],[0.4444444444444444,\"#bd3786\"],[0.5555555555555556,\"#d8576b\"],[0.6666666666666666,\"#ed7953\"],[0.7777777777777778,\"#fb9f3a\"],[0.8888888888888888,\"#fdca26\"],[1.0,\"#f0f921\"]],\"type\":\"surface\"}],\"table\":[{\"cells\":{\"fill\":{\"color\":\"#EBF0F8\"},\"line\":{\"color\":\"white\"}},\"header\":{\"fill\":{\"color\":\"#C8D4E3\"},\"line\":{\"color\":\"white\"}},\"type\":\"table\"}]},\"layout\":{\"annotationdefaults\":{\"arrowcolor\":\"#2a3f5f\",\"arrowhead\":0,\"arrowwidth\":1},\"autotypenumbers\":\"strict\",\"coloraxis\":{\"colorbar\":{\"outlinewidth\":0,\"ticks\":\"\"}},\"colorscale\":{\"diverging\":[[0,\"#8e0152\"],[0.1,\"#c51b7d\"],[0.2,\"#de77ae\"],[0.3,\"#f1b6da\"],[0.4,\"#fde0ef\"],[0.5,\"#f7f7f7\"],[0.6,\"#e6f5d0\"],[0.7,\"#b8e186\"],[0.8,\"#7fbc41\"],[0.9,\"#4d9221\"],[1,\"#276419\"]],\"sequential\":[[0.0,\"#0d0887\"],[0.1111111111111111,\"#46039f\"],[0.2222222222222222,\"#7201a8\"],[0.3333333333333333,\"#9c179e\"],[0.4444444444444444,\"#bd3786\"],[0.5555555555555556,\"#d8576b\"],[0.6666666666666666,\"#ed7953\"],[0.7777777777777778,\"#fb9f3a\"],[0.8888888888888888,\"#fdca26\"],[1.0,\"#f0f921\"]],\"sequentialminus\":[[0.0,\"#0d0887\"],[0.1111111111111111,\"#46039f\"],[0.2222222222222222,\"#7201a8\"],[0.3333333333333333,\"#9c179e\"],[0.4444444444444444,\"#bd3786\"],[0.5555555555555556,\"#d8576b\"],[0.6666666666666666,\"#ed7953\"],[0.7777777777777778,\"#fb9f3a\"],[0.8888888888888888,\"#fdca26\"],[1.0,\"#f0f921\"]]},\"colorway\":[\"#636efa\",\"#EF553B\",\"#00cc96\",\"#ab63fa\",\"#FFA15A\",\"#19d3f3\",\"#FF6692\",\"#B6E880\",\"#FF97FF\",\"#FECB52\"],\"font\":{\"color\":\"#2a3f5f\"},\"geo\":{\"bgcolor\":\"white\",\"lakecolor\":\"white\",\"landcolor\":\"#E5ECF6\",\"showlakes\":true,\"showland\":true,\"subunitcolor\":\"white\"},\"hoverlabel\":{\"align\":\"left\"},\"hovermode\":\"closest\",\"mapbox\":{\"style\":\"light\"},\"paper_bgcolor\":\"white\",\"plot_bgcolor\":\"#E5ECF6\",\"polar\":{\"angularaxis\":{\"gridcolor\":\"white\",\"linecolor\":\"white\",\"ticks\":\"\"},\"bgcolor\":\"#E5ECF6\",\"radialaxis\":{\"gridcolor\":\"white\",\"linecolor\":\"white\",\"ticks\":\"\"}},\"scene\":{\"xaxis\":{\"backgroundcolor\":\"#E5ECF6\",\"gridcolor\":\"white\",\"gridwidth\":2,\"linecolor\":\"white\",\"showbackground\":true,\"ticks\":\"\",\"zerolinecolor\":\"white\"},\"yaxis\":{\"backgroundcolor\":\"#E5ECF6\",\"gridcolor\":\"white\",\"gridwidth\":2,\"linecolor\":\"white\",\"showbackground\":true,\"ticks\":\"\",\"zerolinecolor\":\"white\"},\"zaxis\":{\"backgroundcolor\":\"#E5ECF6\",\"gridcolor\":\"white\",\"gridwidth\":2,\"linecolor\":\"white\",\"showbackground\":true,\"ticks\":\"\",\"zerolinecolor\":\"white\"}},\"shapedefaults\":{\"line\":{\"color\":\"#2a3f5f\"}},\"ternary\":{\"aaxis\":{\"gridcolor\":\"white\",\"linecolor\":\"white\",\"ticks\":\"\"},\"baxis\":{\"gridcolor\":\"white\",\"linecolor\":\"white\",\"ticks\":\"\"},\"bgcolor\":\"#E5ECF6\",\"caxis\":{\"gridcolor\":\"white\",\"linecolor\":\"white\",\"ticks\":\"\"}},\"title\":{\"x\":0.05},\"xaxis\":{\"automargin\":true,\"gridcolor\":\"white\",\"linecolor\":\"white\",\"ticks\":\"\",\"title\":{\"standoff\":15},\"zerolinecolor\":\"white\",\"zerolinewidth\":2},\"yaxis\":{\"automargin\":true,\"gridcolor\":\"white\",\"linecolor\":\"white\",\"ticks\":\"\",\"title\":{\"standoff\":15},\"zerolinecolor\":\"white\",\"zerolinewidth\":2}}},\"xaxis\":{\"anchor\":\"y\",\"domain\":[0.0,1.0],\"title\":{\"text\":\"x\"}},\"yaxis\":{\"anchor\":\"x\",\"domain\":[0.0,1.0],\"title\":{\"text\":\"y\"}},\"legend\":{\"tracegroupgap\":0},\"title\":{\"text\":\"True sampling distribution function for theta_hat\"}},                        {\"responsive\": true}                    ).then(function(){\n                            \nvar gd = document.getElementById('11a5ea6c-d30f-4d4e-ae3a-6d1d475d38a1');\nvar x = new MutationObserver(function (mutations, observer) {{\n        var display = window.getComputedStyle(gd).display;\n        if (!display || display === 'none') {{\n            console.log([gd, 'removed!']);\n            Plotly.purge(gd);\n            observer.disconnect();\n        }}\n}});\n\n// Listen for the removal of the full notebook cells\nvar notebookContainer = gd.closest('#notebook-container');\nif (notebookContainer) {{\n    x.observe(notebookContainer, {childList: true});\n}}\n\n// Listen for the clearing of the current output cell\nvar outputEl = gd.closest('.output');\nif (outputEl) {{\n    x.observe(outputEl, {childList: true});\n}}\n\n                        })                };                });            </script>        </div>"
     },
     "metadata": {},
     "output_type": "display_data"
    }
   ],
   "source": [
    "x_axis = np.linspace(100, 200, 500)\n",
    "theta_cdf = lambda x: norm.cdf(np.log(x), loc = 5, scale = 1/10)\n",
    "theta_real_cdf = list(map(theta_cdf, x_axis))\n",
    "theta_real_pdf = np.append([0], np.diff(theta_real_cdf))\n",
    "fig = px.line(x = x_axis, y = theta_real_pdf,\n",
    "              title = 'True sampling distribution function for theta_hat')\n",
    "fig.show()"
   ]
  },
  {
   "cell_type": "code",
   "execution_count": 104,
   "outputs": [],
   "source": [
    "x_axis_bar = np.linspace(100, 200, 200)\n",
    "param_bootstrap_hist, _ = np.histogram(param_bootstrap_estimations, bins = 200, range = [100,200])\n",
    "param_bootstrap_hist = param_bootstrap_hist / sum(param_bootstrap_hist)\n",
    "nonparam_bootstrap_hist, _ = np.histogram(nonparam_bootstrap_estimations, bins = 200, range = [100,200])\n",
    "nonparam_bootstrap_hist = nonparam_bootstrap_hist / sum(nonparam_bootstrap_hist)"
   ],
   "metadata": {
    "collapsed": false,
    "pycharm": {
     "name": "#%%\n"
    }
   }
  },
  {
   "cell_type": "code",
   "execution_count": 105,
   "metadata": {
    "pycharm": {
     "name": "#%%\n"
    }
   },
   "outputs": [
    {
     "data": {
      "application/vnd.plotly.v1+json": {
       "data": [
        {
         "name": "nonparam. bootstrap",
         "opacity": 0.6,
         "x": [
          100.0,
          100.50251256281408,
          101.00502512562814,
          101.50753768844221,
          102.01005025125627,
          102.51256281407035,
          103.01507537688443,
          103.51758793969849,
          104.02010050251256,
          104.52261306532664,
          105.0251256281407,
          105.52763819095478,
          106.03015075376885,
          106.53266331658291,
          107.03517587939699,
          107.53768844221105,
          108.04020100502512,
          108.5427135678392,
          109.04522613065326,
          109.54773869346734,
          110.0502512562814,
          110.55276381909547,
          111.05527638190955,
          111.55778894472361,
          112.06030150753769,
          112.56281407035176,
          113.06532663316582,
          113.5678391959799,
          114.07035175879398,
          114.57286432160804,
          115.07537688442211,
          115.57788944723617,
          116.08040201005025,
          116.58291457286433,
          117.08542713567839,
          117.58793969849246,
          118.09045226130652,
          118.5929648241206,
          119.09547738693468,
          119.59798994974875,
          120.10050251256281,
          120.60301507537687,
          121.10552763819095,
          121.60804020100502,
          122.1105527638191,
          122.61306532663316,
          123.11557788944724,
          123.6180904522613,
          124.12060301507537,
          124.62311557788945,
          125.12562814070351,
          125.62814070351759,
          126.13065326633165,
          126.63316582914572,
          127.1356783919598,
          127.63819095477388,
          128.14070351758795,
          128.643216080402,
          129.14572864321607,
          129.64824120603015,
          130.15075376884423,
          130.6532663316583,
          131.15577889447235,
          131.65829145728642,
          132.1608040201005,
          132.66331658291458,
          133.16582914572865,
          133.6683417085427,
          134.17085427135677,
          134.67336683417085,
          135.17587939698493,
          135.678391959799,
          136.18090452261305,
          136.68341708542712,
          137.1859296482412,
          137.68844221105527,
          138.19095477386935,
          138.6934673366834,
          139.1959798994975,
          139.69849246231155,
          140.20100502512562,
          140.7035175879397,
          141.20603015075375,
          141.70854271356785,
          142.2110552763819,
          142.71356783919597,
          143.21608040201005,
          143.71859296482413,
          144.2211055276382,
          144.72361809045225,
          145.22613065326632,
          145.7286432160804,
          146.23115577889448,
          146.73366834170855,
          147.2361809045226,
          147.73869346733667,
          148.24120603015075,
          148.74371859296483,
          149.2462311557789,
          149.74874371859295,
          150.25125628140702,
          150.7537688442211,
          151.25628140703517,
          151.75879396984925,
          152.2613065326633,
          152.76381909547737,
          153.26633165829145,
          153.76884422110552,
          154.2713567839196,
          154.77386934673365,
          155.27638190954775,
          155.7788944723618,
          156.28140703517587,
          156.78391959798995,
          157.286432160804,
          157.7889447236181,
          158.29145728643215,
          158.79396984924622,
          159.2964824120603,
          159.79899497487438,
          160.30150753768845,
          160.8040201005025,
          161.30653266331657,
          161.80904522613065,
          162.31155778894473,
          162.8140703517588,
          163.31658291457285,
          163.81909547738692,
          164.321608040201,
          164.82412060301507,
          165.32663316582915,
          165.8291457286432,
          166.33165829145727,
          166.83417085427135,
          167.33668341708542,
          167.8391959798995,
          168.34170854271355,
          168.84422110552765,
          169.3467336683417,
          169.84924623115577,
          170.35175879396985,
          170.8542713567839,
          171.356783919598,
          171.85929648241205,
          172.36180904522612,
          172.8643216080402,
          173.36683417085425,
          173.86934673366835,
          174.3718592964824,
          174.87437185929647,
          175.37688442211055,
          175.8793969849246,
          176.3819095477387,
          176.88442211055275,
          177.38693467336682,
          177.8894472361809,
          178.39195979899498,
          178.89447236180905,
          179.3969849246231,
          179.89949748743717,
          180.40201005025125,
          180.90452261306532,
          181.4070351758794,
          181.90954773869345,
          182.41206030150752,
          182.9145728643216,
          183.41708542713567,
          183.91959798994975,
          184.4221105527638,
          184.9246231155779,
          185.42713567839195,
          185.92964824120602,
          186.4321608040201,
          186.93467336683415,
          187.43718592964825,
          187.9396984924623,
          188.44221105527637,
          188.94472361809045,
          189.4472361809045,
          189.9497487437186,
          190.45226130653265,
          190.95477386934672,
          191.4572864321608,
          191.95979899497485,
          192.46231155778895,
          192.964824120603,
          193.46733668341707,
          193.96984924623115,
          194.47236180904522,
          194.9748743718593,
          195.47738693467335,
          195.97989949748742,
          196.4824120603015,
          196.98492462311557,
          197.48743718592965,
          197.9899497487437,
          198.49246231155777,
          198.99497487437185,
          199.49748743718592,
          200.0
         ],
         "y": [
          0.0,
          0.0,
          0.0,
          0.0,
          0.0,
          0.0,
          0.0,
          0.0,
          0.0,
          0.0,
          0.0,
          0.0,
          0.0,
          0.0,
          0.0,
          0.0,
          0.0,
          0.0,
          0.0,
          0.0,
          0.0,
          0.0,
          0.0,
          0.0,
          0.0,
          0.002008032128514056,
          0.0,
          0.0,
          0.0,
          0.001004016064257028,
          0.0,
          0.001004016064257028,
          0.001004016064257028,
          0.0,
          0.0,
          0.002008032128514056,
          0.001004016064257028,
          0.0,
          0.0,
          0.001004016064257028,
          0.001004016064257028,
          0.0030120481927710845,
          0.001004016064257028,
          0.0030120481927710845,
          0.0030120481927710845,
          0.004016064257028112,
          0.001004016064257028,
          0.0030120481927710845,
          0.002008032128514056,
          0.002008032128514056,
          0.0030120481927710845,
          0.0,
          0.0030120481927710845,
          0.010040160642570281,
          0.0030120481927710845,
          0.004016064257028112,
          0.0030120481927710845,
          0.004016064257028112,
          0.004016064257028112,
          0.006024096385542169,
          0.0030120481927710845,
          0.006024096385542169,
          0.008032128514056224,
          0.0050200803212851405,
          0.004016064257028112,
          0.009036144578313253,
          0.006024096385542169,
          0.0030120481927710845,
          0.006024096385542169,
          0.0030120481927710845,
          0.008032128514056224,
          0.007028112449799197,
          0.0030120481927710845,
          0.007028112449799197,
          0.0030120481927710845,
          0.006024096385542169,
          0.010040160642570281,
          0.006024096385542169,
          0.009036144578313253,
          0.008032128514056224,
          0.009036144578313253,
          0.014056224899598393,
          0.01606425702811245,
          0.014056224899598393,
          0.008032128514056224,
          0.014056224899598393,
          0.010040160642570281,
          0.013052208835341365,
          0.01104417670682731,
          0.013052208835341365,
          0.018072289156626505,
          0.019076305220883535,
          0.01706827309236948,
          0.015060240963855422,
          0.015060240963855422,
          0.008032128514056224,
          0.010040160642570281,
          0.012048192771084338,
          0.01606425702811245,
          0.014056224899598393,
          0.01104417670682731,
          0.012048192771084338,
          0.013052208835341365,
          0.012048192771084338,
          0.015060240963855422,
          0.01606425702811245,
          0.01606425702811245,
          0.01606425702811245,
          0.009036144578313253,
          0.009036144578313253,
          0.019076305220883535,
          0.0050200803212851405,
          0.01606425702811245,
          0.012048192771084338,
          0.01104417670682731,
          0.009036144578313253,
          0.007028112449799197,
          0.009036144578313253,
          0.012048192771084338,
          0.007028112449799197,
          0.010040160642570281,
          0.009036144578313253,
          0.012048192771084338,
          0.004016064257028112,
          0.010040160642570281,
          0.0050200803212851405,
          0.013052208835341365,
          0.008032128514056224,
          0.013052208835341365,
          0.008032128514056224,
          0.006024096385542169,
          0.01104417670682731,
          0.004016064257028112,
          0.012048192771084338,
          0.010040160642570281,
          0.006024096385542169,
          0.006024096385542169,
          0.007028112449799197,
          0.0030120481927710845,
          0.0050200803212851405,
          0.006024096385542169,
          0.002008032128514056,
          0.0050200803212851405,
          0.007028112449799197,
          0.007028112449799197,
          0.002008032128514056,
          0.004016064257028112,
          0.002008032128514056,
          0.001004016064257028,
          0.004016064257028112,
          0.002008032128514056,
          0.0030120481927710845,
          0.009036144578313253,
          0.006024096385542169,
          0.007028112449799197,
          0.008032128514056224,
          0.006024096385542169,
          0.0030120481927710845,
          0.0030120481927710845,
          0.0030120481927710845,
          0.0030120481927710845,
          0.0030120481927710845,
          0.0,
          0.0030120481927710845,
          0.004016064257028112,
          0.002008032128514056,
          0.0030120481927710845,
          0.002008032128514056,
          0.0030120481927710845,
          0.0,
          0.001004016064257028,
          0.001004016064257028,
          0.001004016064257028,
          0.0,
          0.001004016064257028,
          0.001004016064257028,
          0.001004016064257028,
          0.001004016064257028,
          0.002008032128514056,
          0.0,
          0.001004016064257028,
          0.001004016064257028,
          0.002008032128514056,
          0.002008032128514056,
          0.0,
          0.0,
          0.001004016064257028,
          0.0,
          0.001004016064257028,
          0.001004016064257028,
          0.0,
          0.0030120481927710845,
          0.0,
          0.0,
          0.0,
          0.001004016064257028,
          0.0,
          0.001004016064257028,
          0.001004016064257028,
          0.0030120481927710845
         ],
         "type": "scatter"
        },
        {
         "name": "param. bootstrap",
         "opacity": 0.6,
         "x": [
          100.0,
          100.50251256281408,
          101.00502512562814,
          101.50753768844221,
          102.01005025125627,
          102.51256281407035,
          103.01507537688443,
          103.51758793969849,
          104.02010050251256,
          104.52261306532664,
          105.0251256281407,
          105.52763819095478,
          106.03015075376885,
          106.53266331658291,
          107.03517587939699,
          107.53768844221105,
          108.04020100502512,
          108.5427135678392,
          109.04522613065326,
          109.54773869346734,
          110.0502512562814,
          110.55276381909547,
          111.05527638190955,
          111.55778894472361,
          112.06030150753769,
          112.56281407035176,
          113.06532663316582,
          113.5678391959799,
          114.07035175879398,
          114.57286432160804,
          115.07537688442211,
          115.57788944723617,
          116.08040201005025,
          116.58291457286433,
          117.08542713567839,
          117.58793969849246,
          118.09045226130652,
          118.5929648241206,
          119.09547738693468,
          119.59798994974875,
          120.10050251256281,
          120.60301507537687,
          121.10552763819095,
          121.60804020100502,
          122.1105527638191,
          122.61306532663316,
          123.11557788944724,
          123.6180904522613,
          124.12060301507537,
          124.62311557788945,
          125.12562814070351,
          125.62814070351759,
          126.13065326633165,
          126.63316582914572,
          127.1356783919598,
          127.63819095477388,
          128.14070351758795,
          128.643216080402,
          129.14572864321607,
          129.64824120603015,
          130.15075376884423,
          130.6532663316583,
          131.15577889447235,
          131.65829145728642,
          132.1608040201005,
          132.66331658291458,
          133.16582914572865,
          133.6683417085427,
          134.17085427135677,
          134.67336683417085,
          135.17587939698493,
          135.678391959799,
          136.18090452261305,
          136.68341708542712,
          137.1859296482412,
          137.68844221105527,
          138.19095477386935,
          138.6934673366834,
          139.1959798994975,
          139.69849246231155,
          140.20100502512562,
          140.7035175879397,
          141.20603015075375,
          141.70854271356785,
          142.2110552763819,
          142.71356783919597,
          143.21608040201005,
          143.71859296482413,
          144.2211055276382,
          144.72361809045225,
          145.22613065326632,
          145.7286432160804,
          146.23115577889448,
          146.73366834170855,
          147.2361809045226,
          147.73869346733667,
          148.24120603015075,
          148.74371859296483,
          149.2462311557789,
          149.74874371859295,
          150.25125628140702,
          150.7537688442211,
          151.25628140703517,
          151.75879396984925,
          152.2613065326633,
          152.76381909547737,
          153.26633165829145,
          153.76884422110552,
          154.2713567839196,
          154.77386934673365,
          155.27638190954775,
          155.7788944723618,
          156.28140703517587,
          156.78391959798995,
          157.286432160804,
          157.7889447236181,
          158.29145728643215,
          158.79396984924622,
          159.2964824120603,
          159.79899497487438,
          160.30150753768845,
          160.8040201005025,
          161.30653266331657,
          161.80904522613065,
          162.31155778894473,
          162.8140703517588,
          163.31658291457285,
          163.81909547738692,
          164.321608040201,
          164.82412060301507,
          165.32663316582915,
          165.8291457286432,
          166.33165829145727,
          166.83417085427135,
          167.33668341708542,
          167.8391959798995,
          168.34170854271355,
          168.84422110552765,
          169.3467336683417,
          169.84924623115577,
          170.35175879396985,
          170.8542713567839,
          171.356783919598,
          171.85929648241205,
          172.36180904522612,
          172.8643216080402,
          173.36683417085425,
          173.86934673366835,
          174.3718592964824,
          174.87437185929647,
          175.37688442211055,
          175.8793969849246,
          176.3819095477387,
          176.88442211055275,
          177.38693467336682,
          177.8894472361809,
          178.39195979899498,
          178.89447236180905,
          179.3969849246231,
          179.89949748743717,
          180.40201005025125,
          180.90452261306532,
          181.4070351758794,
          181.90954773869345,
          182.41206030150752,
          182.9145728643216,
          183.41708542713567,
          183.91959798994975,
          184.4221105527638,
          184.9246231155779,
          185.42713567839195,
          185.92964824120602,
          186.4321608040201,
          186.93467336683415,
          187.43718592964825,
          187.9396984924623,
          188.44221105527637,
          188.94472361809045,
          189.4472361809045,
          189.9497487437186,
          190.45226130653265,
          190.95477386934672,
          191.4572864321608,
          191.95979899497485,
          192.46231155778895,
          192.964824120603,
          193.46733668341707,
          193.96984924623115,
          194.47236180904522,
          194.9748743718593,
          195.47738693467335,
          195.97989949748742,
          196.4824120603015,
          196.98492462311557,
          197.48743718592965,
          197.9899497487437,
          198.49246231155777,
          198.99497487437185,
          199.49748743718592,
          200.0
         ],
         "y": [
          0.0,
          0.0,
          0.0,
          0.0,
          0.0,
          0.0,
          0.0,
          0.0,
          0.0,
          0.0,
          0.0,
          0.0,
          0.0,
          0.0,
          0.0,
          0.0,
          0.0,
          0.0,
          0.0,
          0.0,
          0.0,
          0.0,
          0.0,
          0.0010090817356205853,
          0.0,
          0.0,
          0.0,
          0.0,
          0.0,
          0.0,
          0.0010090817356205853,
          0.0,
          0.0,
          0.0020181634712411706,
          0.0020181634712411706,
          0.0,
          0.0,
          0.0020181634712411706,
          0.0010090817356205853,
          0.0030272452068617556,
          0.0020181634712411706,
          0.0,
          0.0020181634712411706,
          0.0,
          0.0,
          0.0010090817356205853,
          0.004036326942482341,
          0.0020181634712411706,
          0.004036326942482341,
          0.0030272452068617556,
          0.0020181634712411706,
          0.0020181634712411706,
          0.0010090817356205853,
          0.0010090817356205853,
          0.0,
          0.0030272452068617556,
          0.004036326942482341,
          0.007063572149344097,
          0.004036326942482341,
          0.008072653884964682,
          0.008072653884964682,
          0.004036326942482341,
          0.005045408678102927,
          0.004036326942482341,
          0.008072653884964682,
          0.011099899091826439,
          0.008072653884964682,
          0.0030272452068617556,
          0.005045408678102927,
          0.007063572149344097,
          0.005045408678102927,
          0.009081735620585268,
          0.010090817356205853,
          0.009081735620585268,
          0.010090817356205853,
          0.009081735620585268,
          0.008072653884964682,
          0.012108980827447022,
          0.010090817356205853,
          0.012108980827447022,
          0.014127144298688193,
          0.015136226034308779,
          0.011099899091826439,
          0.013118062563067608,
          0.010090817356205853,
          0.007063572149344097,
          0.018163471241170535,
          0.008072653884964682,
          0.009081735620585268,
          0.011099899091826439,
          0.017154389505549948,
          0.012108980827447022,
          0.014127144298688193,
          0.011099899091826439,
          0.011099899091826439,
          0.013118062563067608,
          0.009081735620585268,
          0.009081735620585268,
          0.013118062563067608,
          0.016145307769929364,
          0.016145307769929364,
          0.017154389505549948,
          0.015136226034308779,
          0.017154389505549948,
          0.012108980827447022,
          0.005045408678102927,
          0.011099899091826439,
          0.014127144298688193,
          0.010090817356205853,
          0.015136226034308779,
          0.016145307769929364,
          0.011099899091826439,
          0.007063572149344097,
          0.012108980827447022,
          0.006054490413723511,
          0.007063572149344097,
          0.020181634712411706,
          0.011099899091826439,
          0.005045408678102927,
          0.011099899091826439,
          0.012108980827447022,
          0.008072653884964682,
          0.009081735620585268,
          0.010090817356205853,
          0.017154389505549948,
          0.012108980827447022,
          0.010090817356205853,
          0.004036326942482341,
          0.011099899091826439,
          0.008072653884964682,
          0.006054490413723511,
          0.009081735620585268,
          0.016145307769929364,
          0.008072653884964682,
          0.007063572149344097,
          0.008072653884964682,
          0.007063572149344097,
          0.0020181634712411706,
          0.0030272452068617556,
          0.006054490413723511,
          0.006054490413723511,
          0.008072653884964682,
          0.006054490413723511,
          0.008072653884964682,
          0.004036326942482341,
          0.007063572149344097,
          0.0020181634712411706,
          0.008072653884964682,
          0.0030272452068617556,
          0.0030272452068617556,
          0.004036326942482341,
          0.0030272452068617556,
          0.0010090817356205853,
          0.0030272452068617556,
          0.0,
          0.0030272452068617556,
          0.0020181634712411706,
          0.005045408678102927,
          0.0,
          0.0010090817356205853,
          0.0030272452068617556,
          0.0020181634712411706,
          0.0020181634712411706,
          0.0020181634712411706,
          0.0010090817356205853,
          0.004036326942482341,
          0.0020181634712411706,
          0.0,
          0.0030272452068617556,
          0.0020181634712411706,
          0.0020181634712411706,
          0.0010090817356205853,
          0.0020181634712411706,
          0.0,
          0.0,
          0.0030272452068617556,
          0.0,
          0.0020181634712411706,
          0.0010090817356205853,
          0.0010090817356205853,
          0.0,
          0.0010090817356205853,
          0.0010090817356205853,
          0.0,
          0.0,
          0.0030272452068617556,
          0.0,
          0.0010090817356205853,
          0.0020181634712411706,
          0.0010090817356205853,
          0.0010090817356205853,
          0.0,
          0.0,
          0.0,
          0.0,
          0.0,
          0.0,
          0.0,
          0.0,
          0.0
         ],
         "type": "scatter"
        },
        {
         "name": "true distribution",
         "opacity": 0.8,
         "x": [
          100.0,
          100.20040080160321,
          100.40080160320642,
          100.60120240480961,
          100.80160320641282,
          101.00200400801603,
          101.20240480961924,
          101.40280561122245,
          101.60320641282566,
          101.80360721442885,
          102.00400801603206,
          102.20440881763527,
          102.40480961923848,
          102.60521042084169,
          102.8056112224449,
          103.00601202404809,
          103.2064128256513,
          103.40681362725451,
          103.60721442885772,
          103.80761523046093,
          104.00801603206413,
          104.20841683366733,
          104.40881763527054,
          104.60921843687375,
          104.80961923847696,
          105.01002004008016,
          105.21042084168337,
          105.41082164328657,
          105.61122244488978,
          105.81162324649299,
          106.0120240480962,
          106.2124248496994,
          106.41282565130261,
          106.6132264529058,
          106.81362725450902,
          107.01402805611222,
          107.21442885771543,
          107.41482965931864,
          107.61523046092185,
          107.81563126252505,
          108.01603206412825,
          108.21643286573146,
          108.41683366733467,
          108.61723446893788,
          108.81763527054107,
          109.01803607214428,
          109.21843687374749,
          109.4188376753507,
          109.61923847695391,
          109.81963927855712,
          110.02004008016033,
          110.22044088176352,
          110.42084168336673,
          110.62124248496994,
          110.82164328657315,
          111.02204408817636,
          111.22244488977955,
          111.42284569138276,
          111.62324649298597,
          111.82364729458918,
          112.02404809619239,
          112.2244488977956,
          112.4248496993988,
          112.625250501002,
          112.82565130260521,
          113.02605210420842,
          113.22645290581163,
          113.42685370741484,
          113.62725450901803,
          113.82765531062124,
          114.02805611222445,
          114.22845691382766,
          114.42885771543087,
          114.62925851703407,
          114.82965931863727,
          115.03006012024048,
          115.23046092184369,
          115.4308617234469,
          115.6312625250501,
          115.83166332665331,
          116.03206412825651,
          116.23246492985972,
          116.43286573146293,
          116.63326653306613,
          116.83366733466934,
          117.03406813627254,
          117.23446893787576,
          117.43486973947896,
          117.63527054108216,
          117.83567134268537,
          118.03607214428858,
          118.23647294589179,
          118.43687374749499,
          118.6372745490982,
          118.8376753507014,
          119.03807615230461,
          119.23847695390782,
          119.43887775551102,
          119.63927855711422,
          119.83967935871743,
          120.04008016032064,
          120.24048096192385,
          120.44088176352706,
          120.64128256513027,
          120.84168336673346,
          121.04208416833667,
          121.24248496993988,
          121.44288577154309,
          121.6432865731463,
          121.84368737474949,
          122.0440881763527,
          122.24448897795591,
          122.44488977955912,
          122.64529058116233,
          122.84569138276554,
          123.04609218436875,
          123.24649298597194,
          123.44689378757515,
          123.64729458917836,
          123.84769539078157,
          124.04809619238478,
          124.24849699398797,
          124.44889779559118,
          124.64929859719439,
          124.8496993987976,
          125.0501002004008,
          125.250501002004,
          125.45090180360722,
          125.65130260521042,
          125.85170340681363,
          126.05210420841684,
          126.25250501002004,
          126.45290581162325,
          126.65330661322645,
          126.85370741482966,
          127.05410821643287,
          127.25450901803607,
          127.45490981963928,
          127.65531062124248,
          127.8557114228457,
          128.0561122244489,
          128.25651302605212,
          128.4569138276553,
          128.6573146292585,
          128.85771543086173,
          129.05811623246493,
          129.25851703406815,
          129.45891783567134,
          129.65931863727454,
          129.85971943887776,
          130.06012024048096,
          130.26052104208418,
          130.46092184368737,
          130.66132264529057,
          130.8617234468938,
          131.06212424849699,
          131.2625250501002,
          131.4629258517034,
          131.66332665330663,
          131.86372745490982,
          132.06412825651302,
          132.26452905811624,
          132.46492985971943,
          132.66533066132266,
          132.86573146292585,
          133.06613226452907,
          133.26653306613227,
          133.46693386773546,
          133.6673346693387,
          133.86773547094188,
          134.06813627254508,
          134.2685370741483,
          134.46893787575152,
          134.66933867735472,
          134.8697394789579,
          135.07014028056113,
          135.27054108216433,
          135.47094188376752,
          135.67134268537075,
          135.87174348697394,
          136.07214428857716,
          136.27254509018036,
          136.47294589178358,
          136.67334669338678,
          136.87374749498997,
          137.0741482965932,
          137.2745490981964,
          137.47494989979958,
          137.6753507014028,
          137.87575150300603,
          138.07615230460922,
          138.27655310621242,
          138.47695390781564,
          138.67735470941884,
          138.87775551102203,
          139.07815631262525,
          139.27855711422845,
          139.47895791583167,
          139.67935871743487,
          139.8797595190381,
          140.08016032064128,
          140.28056112224448,
          140.4809619238477,
          140.6813627254509,
          140.88176352705412,
          141.0821643286573,
          141.28256513026054,
          141.48296593186373,
          141.68336673346693,
          141.88376753507015,
          142.08416833667334,
          142.28456913827654,
          142.48496993987976,
          142.68537074148298,
          142.88577154308618,
          143.08617234468937,
          143.2865731462926,
          143.4869739478958,
          143.68737474949899,
          143.8877755511022,
          144.0881763527054,
          144.28857715430863,
          144.48897795591182,
          144.68937875751504,
          144.88977955911824,
          145.09018036072143,
          145.29058116232466,
          145.49098196392785,
          145.69138276553107,
          145.89178356713427,
          146.0921843687375,
          146.2925851703407,
          146.49298597194388,
          146.6933867735471,
          146.8937875751503,
          147.0941883767535,
          147.29458917835672,
          147.4949899799599,
          147.69539078156313,
          147.89579158316633,
          148.09619238476955,
          148.29659318637275,
          148.49699398797594,
          148.69739478957916,
          148.89779559118236,
          149.09819639278558,
          149.29859719438878,
          149.498997995992,
          149.6993987975952,
          149.8997995991984,
          150.1002004008016,
          150.3006012024048,
          150.501002004008,
          150.70140280561122,
          150.90180360721445,
          151.10220440881764,
          151.30260521042084,
          151.50300601202406,
          151.70340681362725,
          151.90380761523045,
          152.10420841683367,
          152.30460921843687,
          152.5050100200401,
          152.70541082164328,
          152.9058116232465,
          153.1062124248497,
          153.3066132264529,
          153.50701402805612,
          153.7074148296593,
          153.90781563126254,
          154.10821643286573,
          154.30861723446895,
          154.50901803607215,
          154.70941883767534,
          154.90981963927857,
          155.11022044088176,
          155.31062124248496,
          155.51102204408818,
          155.7114228456914,
          155.9118236472946,
          156.1122244488978,
          156.31262525050101,
          156.5130260521042,
          156.7134268537074,
          156.91382765531063,
          157.11422845691382,
          157.31462925851704,
          157.51503006012024,
          157.71543086172346,
          157.91583166332666,
          158.11623246492985,
          158.31663326653307,
          158.51703406813627,
          158.71743486973946,
          158.9178356713427,
          159.1182364729459,
          159.3186372745491,
          159.5190380761523,
          159.71943887775552,
          159.91983967935872,
          160.1202404809619,
          160.32064128256513,
          160.52104208416833,
          160.72144288577155,
          160.92184368737475,
          161.12224448897797,
          161.32264529058116,
          161.52304609218436,
          161.72344689378758,
          161.92384769539078,
          162.124248496994,
          162.3246492985972,
          162.52505010020042,
          162.7254509018036,
          162.9258517034068,
          163.12625250501003,
          163.32665330661322,
          163.52705410821642,
          163.72745490981964,
          163.92785571142286,
          164.12825651302606,
          164.32865731462925,
          164.52905811623248,
          164.72945891783567,
          164.92985971943887,
          165.1302605210421,
          165.3306613226453,
          165.53106212424848,
          165.7314629258517,
          165.93186372745492,
          166.13226452905812,
          166.3326653306613,
          166.53306613226454,
          166.73346693386773,
          166.93386773547093,
          167.13426853707415,
          167.33466933867737,
          167.53507014028057,
          167.73547094188376,
          167.93587174348698,
          168.13627254509018,
          168.33667334669337,
          168.5370741482966,
          168.73747494989982,
          168.93787575150301,
          169.1382765531062,
          169.33867735470943,
          169.53907815631263,
          169.73947895791582,
          169.93987975951904,
          170.14028056112227,
          170.34068136272543,
          170.54108216432866,
          170.74148296593188,
          170.94188376753507,
          171.14228456913827,
          171.3426853707415,
          171.5430861723447,
          171.74348697394788,
          171.9438877755511,
          172.14428857715433,
          172.34468937875752,
          172.54509018036072,
          172.74549098196394,
          172.94589178356713,
          173.14629258517033,
          173.34669338677355,
          173.54709418837678,
          173.74749498997994,
          173.94789579158316,
          174.1482965931864,
          174.34869739478958,
          174.54909819639278,
          174.749498997996,
          174.9498997995992,
          175.1503006012024,
          175.3507014028056,
          175.55110220440883,
          175.75150300601203,
          175.95190380761522,
          176.15230460921845,
          176.35270541082164,
          176.55310621242484,
          176.75350701402806,
          176.95390781563128,
          177.15430861723448,
          177.35470941883767,
          177.5551102204409,
          177.7555110220441,
          177.95591182364728,
          178.1563126252505,
          178.35671342685373,
          178.5571142284569,
          178.75751503006012,
          178.95791583166334,
          179.15831663326654,
          179.35871743486973,
          179.55911823647295,
          179.75951903807615,
          179.95991983967934,
          180.16032064128257,
          180.3607214428858,
          180.56112224448898,
          180.76152304609218,
          180.9619238476954,
          181.1623246492986,
          181.3627254509018,
          181.56312625250501,
          181.76352705410824,
          181.96392785571143,
          182.16432865731463,
          182.36472945891785,
          182.56513026052104,
          182.76553106212424,
          182.96593186372746,
          183.16633266533066,
          183.36673346693385,
          183.56713426853707,
          183.7675350701403,
          183.9679358717435,
          184.1683366733467,
          184.3687374749499,
          184.5691382765531,
          184.7695390781563,
          184.96993987975952,
          185.17034068136275,
          185.37074148296594,
          185.57114228456913,
          185.77154308617236,
          185.97194388777555,
          186.17234468937875,
          186.37274549098197,
          186.5731462925852,
          186.77354709418836,
          186.97394789579158,
          187.1743486973948,
          187.374749498998,
          187.5751503006012,
          187.77555110220442,
          187.9759519038076,
          188.1763527054108,
          188.37675350701403,
          188.57715430861725,
          188.77755511022045,
          188.97795591182364,
          189.17835671342687,
          189.37875751503006,
          189.57915831663325,
          189.77955911823648,
          189.9799599198397,
          190.1803607214429,
          190.3807615230461,
          190.5811623246493,
          190.7815631262525,
          190.9819639278557,
          191.18236472945893,
          191.38276553106215,
          191.58316633266531,
          191.78356713426854,
          191.98396793587176,
          192.18436873747495,
          192.38476953907815,
          192.58517034068137,
          192.78557114228457,
          192.98597194388776,
          193.18637274549098,
          193.3867735470942,
          193.5871743486974,
          193.7875751503006,
          193.98797595190382,
          194.18837675350701,
          194.3887775551102,
          194.58917835671343,
          194.78957915831666,
          194.98997995991982,
          195.19038076152304,
          195.39078156312627,
          195.59118236472946,
          195.79158316633266,
          195.99198396793588,
          196.19238476953907,
          196.39278557114227,
          196.5931863727455,
          196.79358717434872,
          196.9939879759519,
          197.1943887775551,
          197.39478957915833,
          197.59519038076152,
          197.79559118236472,
          197.99599198396794,
          198.19639278557116,
          198.39679358717436,
          198.59719438877755,
          198.79759519038078,
          198.99799599198397,
          199.19839679358716,
          199.3987975951904,
          199.5991983967936,
          199.79959919839678,
          200.0
         ],
         "y": [
          0.0,
          3.423746680248472E-6,
          3.696172247492189E-6,
          3.988074189856776E-6,
          4.300668858304967E-6,
          4.635235643891043E-6,
          4.993119379475826E-6,
          5.3757327794244555E-6,
          5.784558914635586E-6,
          6.221153719782177E-6,
          6.68714852960688E-6,
          7.18425264070079E-6,
          7.714255895109045E-6,
          8.279031281661648E-6,
          8.880537550884132E-6,
          9.520821838893167E-6,
          1.0202022295589482E-5,
          1.0926370712068353E-5,
          1.1696195142010005E-5,
          1.2513922511562197E-5,
          1.3382081211844665E-5,
          1.4303303668140372E-5,
          1.528032887950111E-5,
          1.631600492224211E-5,
          1.7413291410643043E-5,
          1.857526190782345E-5,
          1.9805106279756444E-5,
          2.1106132984983713E-5,
          2.248177129244715E-5,
          2.3935573419730258E-5,
          2.547121658378975E-5,
          2.709250495619615E-5,
          2.8803371514433897E-5,
          3.060787978114663E-5,
          3.2510225442871266E-5,
          3.4514737839358E-5,
          3.662588131555112E-5,
          3.884825642662621E-5,
          4.118660098825159E-5,
          4.36457909627516E-5,
          4.6230841172394945E-5,
          4.894690583186819E-5,
          5.179927888997887E-5,
          5.479339417323835E-5,
          5.793482532211636E-5,
          6.1229285511534E-5,
          6.468262694800907E-5,
          6.830084013442262E-5,
          7.209005289541821E-5,
          7.605652915521955E-5,
          8.020666746065704E-5,
          8.454699924199493E-5,
          8.908418680552929E-5,
          9.38250210501014E-5,
          9.877641890259302E-5,
          1.0394542046593858E-4,
          1.0933918587458088E-4,
          1.1496499185201714E-4,
          1.2083022796627622E-4,
          1.2694239257950244E-4,
          1.3330908848692858E-4,
          1.399380182443245E-4,
          1.4683697917915704E-4,
          1.5401385808505152E-4,
          1.614766255977557E-4,
          1.692333302522617E-4,
          1.7729209221982976E-4,
          1.8566109672752762E-4,
          1.9434858715892912E-4,
          2.0336285784108626E-4,
          2.127122465162305E-4,
          2.2240512650524395E-4,
          2.324498985657921E-4,
          2.4285498244745827E-4,
          2.5362880815277093E-4,
          2.647798069090332E-4,
          2.7631640185538705E-4,
          2.8824699845734787E-4,
          3.0057997465270797E-4,
          3.1332367074087854E-4,
          3.2648637902371516E-4,
          3.4007633320932897E-4,
          3.5410169758908275E-4,
          3.685705560020659E-4,
          3.834909005950224E-4,
          3.9887062039622306E-4,
          4.1471748971525814E-4,
          4.310391563796673E-4,
          4.478431298311925E-4,
          4.651367690905895E-4,
          4.829272706096191E-4,
          5.012216560303772E-4,
          5.200267598632485E-4,
          5.393492171069988E-4,
          5.591954508256756E-4,
          5.795716597058204E-4,
          6.004838056056158E-4,
          6.21937601124202E-4,
          6.439384972058235E-4,
          6.664916708000405E-4,
          6.896020125991692E-4,
          7.132741148748317E-4,
          7.375122594317288E-4,
          7.623204057017781E-4,
          7.877021790000695E-4,
          8.136608589621765E-4,
          8.401993681855235E-4,
          8.673202610953445E-4,
          8.950257130575581E-4,
          9.233175097565424E-4,
          9.521970368652523E-4,
          9.81665270015638E-4,
          0.0010117227651067935,
          0.001042369648958024,
          0.0010736056103275507,
          0.0011054298913294389,
          0.0011378412792407387,
          0.0011708380987534572,
          0.0012044182046541466,
          0.001238578974973585,
          0.0012733173046079599,
          0.001308629599437422,
          0.001344511770956916,
          0.0013809592314157348,
          0.0014179668895179104,
          0.0014555291466512715,
          0.001493639893697482,
          0.0015322925084004305,
          0.0015714798533365618,
          0.0016111942744714489,
          0.0016514276003150238,
          0.0016921711417072702,
          0.0017334156921980926,
          0.0017751515290789568,
          0.0018173684150191091,
          0.0018600556003521493,
          0.001903201825994509,
          0.0019467953269990332,
          0.001990823836757874,
          0.002035274591821512,
          0.0020801343373888503,
          0.002125389333402422,
          0.002171025361289755,
          0.0022170277313307146,
          0.002263381290640923,
          0.0023100704317786658,
          0.0023570791019495996,
          0.0024043908128108527,
          0.0024519886508764244,
          0.0024998552884842318,
          0.002547972995331216,
          0.0025963236505798792,
          0.002644888755474528,
          0.002693649446516788,
          0.0027425865091221246,
          0.0027916803917790722,
          0.002840911220708453,
          0.0028902588149298247,
          0.002939702701827529,
          0.002989222133091607,
          0.0030387961010776565,
          0.0030884033555572676,
          0.003138022420799913,
          0.0031876316130183824,
          0.0032372090581045954,
          0.0032867327096841037,
          0.0033361803674116786,
          0.003385529695518752,
          0.0034347582416054956,
          0.0034838434555729547,
          0.0035327627087914926,
          0.0035814933133653803,
          0.0036300125415352213,
          0.003678297645180628,
          0.0037263258753876816,
          0.0037740745020488076,
          0.0038215208335017903,
          0.0038686422361493555,
          0.003915416154043505,
          0.003961820128413562,
          0.004007831817135377,
          0.004053429014039267,
          0.004098589668152075,
          0.004143291902715618,
          0.004187514034086681,
          0.004231234590371502,
          0.004274432329899436,
          0.004317086259380709,
          0.004359175651828917,
          0.004400680064189033,
          0.004441579354631409,
          0.00448185369951859,
          0.00452148361002791,
          0.004560449948365963,
          0.004598733943619537,
          0.004636317207176166,
          0.004673181747737842,
          0.004709309985826582,
          0.0047446847679257775,
          0.004779289380042129,
          0.0048131075608386364,
          0.004846123514255174,
          0.004878321921584439,
          0.004909687953032482,
          0.004940207278760156,
          0.0049698660793202065,
          0.004998651055604153,
          0.005026549438155392,
          0.00505354899593502,
          0.005079638044533152,
          0.005104805453721328,
          0.005129040654486994,
          0.005152333645430995,
          0.005174674998550122,
          0.00519605586446753,
          0.005216467977019468,
          0.005235903657249907,
          0.0052543558167982285,
          0.00527181796069115,
          0.005288284189541637,
          0.00530374920111637,
          0.005318208291359261,
          0.0053316573547758095,
          0.005344092884273122,
          0.005355511970394522,
          0.005365912299996056,
          0.005375292154368494,
          0.00538365040675548,
          0.005390986519398566,
          0.00539730053997195,
          0.00540259309753699,
          0.0054068653979537085,
          0.005410119218796083,
          0.005412356903771565,
          0.005413581356639552,
          0.0054137960346905545,
          0.005413004941746347,
          0.0054112126207048195,
          0.005408424145697088,
          0.0054046451137670926,
          0.005399881636207138,
          0.005394140329476826,
          0.005387428305740849,
          0.0053797531630844775,
          0.005371122975349696,
          0.00536154628167973,
          0.0053510320757342855,
          0.005339589794618238,
          0.00532722930752505,
          0.005313960904139603,
          0.005299795282799558,
          0.005284743538377934,
          0.005268817150032579,
          0.00525202796870905,
          0.005234388204483631,
          0.005215910413725489,
          0.005196607486179783,
          0.005176492631804308,
          0.005155579367644991,
          0.005133881504465032,
          0.0051114131334055735,
          0.0050881886125409,
          0.005064222553363362,
          0.005039529807274179,
          0.005014125452037166,
          0.004988024778219913,
          0.004961243275685812,
          0.004933796620031017,
          0.00490570065917062,
          0.004876971399875085,
          0.004847624994431032,
          0.004817677727383618,
          0.004787146002318221,
          0.004756046328810215,
          0.004724395309459117,
          0.004692209627033206,
          0.00465950603179921,
          0.004626301328953364,
          0.004592612366247528,
          0.004558456021754975,
          0.004523849191856333,
          0.004488808779357312,
          0.004453351681853679,
          0.004417494780290965,
          0.004381254927694922,
          0.004344648938183759,
          0.004307693576177218,
          0.004270405545832023,
          0.00423280148073002,
          0.00419489793381711,
          0.004156711367585664,
          0.004118258144493625,
          0.004079554517700035,
          0.004040616621994508,
          0.004001460465059226,
          0.0039621019189459705,
          0.003922556711885905,
          0.0038828404203135047,
          0.0038429684612342196,
          0.0038029560848134025,
          0.003762818367302523,
          0.003722570204186204,
          0.003682226303687086,
          0.0036418011804915107,
          0.003601309149794285,
          0.0035607643216065687,
          0.0035201805953757326,
          0.00347957165486501,
          0.0034389509632968274,
          0.0033983317588350825,
          0.0033577270502738177,
          0.003317149613058845,
          0.003276611985546518,
          0.0032361264655433875,
          0.0031957051071300757,
          0.0031553597177198522,
          0.0031151018553929877,
          0.0030749428265050005,
          0.003034893683505846,
          0.0029949652230700785,
          0.002955167984401208,
          0.0029155122478450313,
          0.002876008033689592,
          0.002836665101228819,
          0.0027974929480354405,
          0.0027585008094654917,
          0.002719697658386977,
          0.0026810922050923836,
          0.0026426928974653263,
          0.002604507921300403,
          0.0025665452008568623,
          0.002528812399589908,
          0.002491316921050868,
          0.0024540659100098505,
          0.0024170662537008614,
          0.0023803245832922926,
          0.0023438472754557793,
          0.0023076404541672035,
          0.002271709992582638,
          0.0022360615151297836,
          0.0022007003996911134,
          0.0021656317799430003,
          0.0021308605478206344,
          0.002096391356113947,
          0.0020622286211555707,
          0.0020283765256579045,
          0.0019948390216307788,
          0.0019616198333967105,
          0.001928722460735055,
          0.0018961501820721205,
          0.0018639060577846367,
          0.0018319929335862684,
          0.0018004134439589814,
          0.001769170015688326,
          0.001738264871436579,
          0.00170770003339471,
          0.001677477326968102,
          0.0016475983845318787,
          0.001618064649215989,
          0.0015888773787433585,
          0.0015600376492794776,
          0.0015315463593538192,
          0.0015034042337598308,
          0.0014756118275176533,
          0.0014481695298301789,
          0.0014210775680645327,
          0.0013943360117419923,
          0.0013679447765317931,
          0.0013419036282494856,
          0.001316212186859289,
          0.00129086993046168,
          0.0012658761992795364,
          0.00124123019964395,
          0.0012169310079405138,
          0.0011929775745604942,
          0.0011693687278313547,
          0.0011461031779070874,
          0.0011231795206531059,
          0.0011005962414911696,
          0.0010783517192146652,
          0.0010564442297839038,
          0.0010348719500612447,
          0.0010136329615373363,
          9.927252539987386E-4,
          9.721467291575747E-4,
          9.518952042498752E-4,
          9.319684155708607E-4,
          9.123640219792506E-4,
          8.930796083446157E-4,
          8.741126889524331E-4,
          8.554607108480772E-4,
          8.371210571425092E-4,
          8.190910502524629E-4,
          8.013679550953334E-4,
          7.839489822227819E-4,
          7.668312909012709E-4,
          7.50011992138977E-4,
          7.334881516458669E-4,
          7.172567927478113E-4,
          7.013148992301987E-4,
          6.856594181320341E-4,
          6.702872624726464E-4,
          6.551953139241062E-4,
          6.403804254220269E-4,
          6.258394237134146E-4,
          6.115691118442346E-4,
          5.975662715934638E-4,
          5.838276658343133E-4,
          5.703500408453799E-4,
          5.571301285555164E-4,
          5.441646487313045E-4,
          5.314503111006896E-4,
          5.18983817422547E-4,
          5.067618634896354E-4,
          4.947811410783709E-4,
          4.830383398359839E-4,
          4.7153014911016644E-4,
          4.602532597224318E-4,
          4.4920436568107736E-4,
          4.3838016583985784E-4,
          4.2777736549926004E-4,
          4.1739267795048995E-4,
          4.072228259696109E-4,
          3.9726454324906513E-4,
          3.875145757851195E-4,
          3.779696832029167E-4,
          3.686266400371174E-4,
          3.594822369568096E-4,
          3.505332819401241E-4,
          3.4177660140122246E-4,
          3.3320904126477036E-4,
          3.2482746799722406E-4,
          3.1662876958460373E-4,
          3.086098564692996E-4,
          3.0076766243902764E-4,
          2.9309914546982174E-4,
          2.8560128852894717E-4,
          2.782711003297411E-4,
          2.7110561605026007E-4,
          2.641018980066301E-4,
          2.572570362877613E-4,
          2.505681493510936E-4,
          2.4403238458059473E-4,
          2.376469188044572E-4,
          2.3140895878059897E-4,
          2.2531574164486035E-4,
          2.1936453532123146E-4,
          2.1355263890610043E-4,
          2.078773830113123E-4,
          2.023361300810267E-4,
          1.969262746763789E-4,
          1.9164524372794478E-4,
          1.8649049676178198E-4,
          1.8145952609593952E-4,
          1.765498570098778E-4,
          1.7175904788613305E-4,
          1.6708469032922224E-4,
          1.6252440925534906E-4,
          1.5807586296356924E-4,
          1.5373674317764596E-4,
          1.4950477507091886E-4,
          1.4537771726719217E-4,
          1.413533618189744E-4,
          1.3742953417084092E-4,
          1.3360409309792765E-4,
          1.2987493063021383E-4,
          1.262399719558216E-4,
          1.2269717531065982E-4,
          1.1924453184863903E-4,
          1.1588006549767549E-4,
          1.1260183280192848E-4,
          1.0940792274671818E-4,
          1.0629645657400655E-4,
          1.0326558758033677E-4,
          1.0031350090689006E-4,
          9.743841331466552E-5,
          9.463857294988998E-5,
          9.191225909888079E-5,
          8.925778193336065E-5,
          8.667348224478122E-5,
          8.415773117242953E-5,
          8.170892992009904E-5,
          7.932550946887496E-5,
          7.700593027870628E-5,
          7.474868198553697E-5,
          7.255228309221984E-5,
          7.041528065232505E-5,
          6.833624994961873E-5,
          6.631379417199046E-5,
          6.434654408182805E-5,
          6.24331576801751E-5,
          6.0572319870444424E-5,
          5.8762742114915056E-5,
          5.7003162092783555E-5,
          5.5292343350221707E-5,
          5.362907495387592E-5,
          5.201217113770529E-5,
          5.044047095104087E-5,
          4.891283790497969E-5,
          4.742815961600311E-5
         ],
         "type": "scatter"
        }
       ],
       "layout": {
        "template": {
         "data": {
          "bar": [
           {
            "error_x": {
             "color": "#2a3f5f"
            },
            "error_y": {
             "color": "#2a3f5f"
            },
            "marker": {
             "line": {
              "color": "#E5ECF6",
              "width": 0.5
             },
             "pattern": {
              "fillmode": "overlay",
              "size": 10,
              "solidity": 0.2
             }
            },
            "type": "bar"
           }
          ],
          "barpolar": [
           {
            "marker": {
             "line": {
              "color": "#E5ECF6",
              "width": 0.5
             },
             "pattern": {
              "fillmode": "overlay",
              "size": 10,
              "solidity": 0.2
             }
            },
            "type": "barpolar"
           }
          ],
          "carpet": [
           {
            "aaxis": {
             "endlinecolor": "#2a3f5f",
             "gridcolor": "white",
             "linecolor": "white",
             "minorgridcolor": "white",
             "startlinecolor": "#2a3f5f"
            },
            "baxis": {
             "endlinecolor": "#2a3f5f",
             "gridcolor": "white",
             "linecolor": "white",
             "minorgridcolor": "white",
             "startlinecolor": "#2a3f5f"
            },
            "type": "carpet"
           }
          ],
          "choropleth": [
           {
            "colorbar": {
             "outlinewidth": 0,
             "ticks": ""
            },
            "type": "choropleth"
           }
          ],
          "contour": [
           {
            "colorbar": {
             "outlinewidth": 0,
             "ticks": ""
            },
            "colorscale": [
             [
              0.0,
              "#0d0887"
             ],
             [
              0.1111111111111111,
              "#46039f"
             ],
             [
              0.2222222222222222,
              "#7201a8"
             ],
             [
              0.3333333333333333,
              "#9c179e"
             ],
             [
              0.4444444444444444,
              "#bd3786"
             ],
             [
              0.5555555555555556,
              "#d8576b"
             ],
             [
              0.6666666666666666,
              "#ed7953"
             ],
             [
              0.7777777777777778,
              "#fb9f3a"
             ],
             [
              0.8888888888888888,
              "#fdca26"
             ],
             [
              1.0,
              "#f0f921"
             ]
            ],
            "type": "contour"
           }
          ],
          "contourcarpet": [
           {
            "colorbar": {
             "outlinewidth": 0,
             "ticks": ""
            },
            "type": "contourcarpet"
           }
          ],
          "heatmap": [
           {
            "colorbar": {
             "outlinewidth": 0,
             "ticks": ""
            },
            "colorscale": [
             [
              0.0,
              "#0d0887"
             ],
             [
              0.1111111111111111,
              "#46039f"
             ],
             [
              0.2222222222222222,
              "#7201a8"
             ],
             [
              0.3333333333333333,
              "#9c179e"
             ],
             [
              0.4444444444444444,
              "#bd3786"
             ],
             [
              0.5555555555555556,
              "#d8576b"
             ],
             [
              0.6666666666666666,
              "#ed7953"
             ],
             [
              0.7777777777777778,
              "#fb9f3a"
             ],
             [
              0.8888888888888888,
              "#fdca26"
             ],
             [
              1.0,
              "#f0f921"
             ]
            ],
            "type": "heatmap"
           }
          ],
          "heatmapgl": [
           {
            "colorbar": {
             "outlinewidth": 0,
             "ticks": ""
            },
            "colorscale": [
             [
              0.0,
              "#0d0887"
             ],
             [
              0.1111111111111111,
              "#46039f"
             ],
             [
              0.2222222222222222,
              "#7201a8"
             ],
             [
              0.3333333333333333,
              "#9c179e"
             ],
             [
              0.4444444444444444,
              "#bd3786"
             ],
             [
              0.5555555555555556,
              "#d8576b"
             ],
             [
              0.6666666666666666,
              "#ed7953"
             ],
             [
              0.7777777777777778,
              "#fb9f3a"
             ],
             [
              0.8888888888888888,
              "#fdca26"
             ],
             [
              1.0,
              "#f0f921"
             ]
            ],
            "type": "heatmapgl"
           }
          ],
          "histogram": [
           {
            "marker": {
             "pattern": {
              "fillmode": "overlay",
              "size": 10,
              "solidity": 0.2
             }
            },
            "type": "histogram"
           }
          ],
          "histogram2d": [
           {
            "colorbar": {
             "outlinewidth": 0,
             "ticks": ""
            },
            "colorscale": [
             [
              0.0,
              "#0d0887"
             ],
             [
              0.1111111111111111,
              "#46039f"
             ],
             [
              0.2222222222222222,
              "#7201a8"
             ],
             [
              0.3333333333333333,
              "#9c179e"
             ],
             [
              0.4444444444444444,
              "#bd3786"
             ],
             [
              0.5555555555555556,
              "#d8576b"
             ],
             [
              0.6666666666666666,
              "#ed7953"
             ],
             [
              0.7777777777777778,
              "#fb9f3a"
             ],
             [
              0.8888888888888888,
              "#fdca26"
             ],
             [
              1.0,
              "#f0f921"
             ]
            ],
            "type": "histogram2d"
           }
          ],
          "histogram2dcontour": [
           {
            "colorbar": {
             "outlinewidth": 0,
             "ticks": ""
            },
            "colorscale": [
             [
              0.0,
              "#0d0887"
             ],
             [
              0.1111111111111111,
              "#46039f"
             ],
             [
              0.2222222222222222,
              "#7201a8"
             ],
             [
              0.3333333333333333,
              "#9c179e"
             ],
             [
              0.4444444444444444,
              "#bd3786"
             ],
             [
              0.5555555555555556,
              "#d8576b"
             ],
             [
              0.6666666666666666,
              "#ed7953"
             ],
             [
              0.7777777777777778,
              "#fb9f3a"
             ],
             [
              0.8888888888888888,
              "#fdca26"
             ],
             [
              1.0,
              "#f0f921"
             ]
            ],
            "type": "histogram2dcontour"
           }
          ],
          "mesh3d": [
           {
            "colorbar": {
             "outlinewidth": 0,
             "ticks": ""
            },
            "type": "mesh3d"
           }
          ],
          "parcoords": [
           {
            "line": {
             "colorbar": {
              "outlinewidth": 0,
              "ticks": ""
             }
            },
            "type": "parcoords"
           }
          ],
          "pie": [
           {
            "automargin": true,
            "type": "pie"
           }
          ],
          "scatter": [
           {
            "marker": {
             "colorbar": {
              "outlinewidth": 0,
              "ticks": ""
             }
            },
            "type": "scatter"
           }
          ],
          "scatter3d": [
           {
            "line": {
             "colorbar": {
              "outlinewidth": 0,
              "ticks": ""
             }
            },
            "marker": {
             "colorbar": {
              "outlinewidth": 0,
              "ticks": ""
             }
            },
            "type": "scatter3d"
           }
          ],
          "scattercarpet": [
           {
            "marker": {
             "colorbar": {
              "outlinewidth": 0,
              "ticks": ""
             }
            },
            "type": "scattercarpet"
           }
          ],
          "scattergeo": [
           {
            "marker": {
             "colorbar": {
              "outlinewidth": 0,
              "ticks": ""
             }
            },
            "type": "scattergeo"
           }
          ],
          "scattergl": [
           {
            "marker": {
             "colorbar": {
              "outlinewidth": 0,
              "ticks": ""
             }
            },
            "type": "scattergl"
           }
          ],
          "scattermapbox": [
           {
            "marker": {
             "colorbar": {
              "outlinewidth": 0,
              "ticks": ""
             }
            },
            "type": "scattermapbox"
           }
          ],
          "scatterpolar": [
           {
            "marker": {
             "colorbar": {
              "outlinewidth": 0,
              "ticks": ""
             }
            },
            "type": "scatterpolar"
           }
          ],
          "scatterpolargl": [
           {
            "marker": {
             "colorbar": {
              "outlinewidth": 0,
              "ticks": ""
             }
            },
            "type": "scatterpolargl"
           }
          ],
          "scatterternary": [
           {
            "marker": {
             "colorbar": {
              "outlinewidth": 0,
              "ticks": ""
             }
            },
            "type": "scatterternary"
           }
          ],
          "surface": [
           {
            "colorbar": {
             "outlinewidth": 0,
             "ticks": ""
            },
            "colorscale": [
             [
              0.0,
              "#0d0887"
             ],
             [
              0.1111111111111111,
              "#46039f"
             ],
             [
              0.2222222222222222,
              "#7201a8"
             ],
             [
              0.3333333333333333,
              "#9c179e"
             ],
             [
              0.4444444444444444,
              "#bd3786"
             ],
             [
              0.5555555555555556,
              "#d8576b"
             ],
             [
              0.6666666666666666,
              "#ed7953"
             ],
             [
              0.7777777777777778,
              "#fb9f3a"
             ],
             [
              0.8888888888888888,
              "#fdca26"
             ],
             [
              1.0,
              "#f0f921"
             ]
            ],
            "type": "surface"
           }
          ],
          "table": [
           {
            "cells": {
             "fill": {
              "color": "#EBF0F8"
             },
             "line": {
              "color": "white"
             }
            },
            "header": {
             "fill": {
              "color": "#C8D4E3"
             },
             "line": {
              "color": "white"
             }
            },
            "type": "table"
           }
          ]
         },
         "layout": {
          "annotationdefaults": {
           "arrowcolor": "#2a3f5f",
           "arrowhead": 0,
           "arrowwidth": 1
          },
          "autotypenumbers": "strict",
          "coloraxis": {
           "colorbar": {
            "outlinewidth": 0,
            "ticks": ""
           }
          },
          "colorscale": {
           "diverging": [
            [
             0,
             "#8e0152"
            ],
            [
             0.1,
             "#c51b7d"
            ],
            [
             0.2,
             "#de77ae"
            ],
            [
             0.3,
             "#f1b6da"
            ],
            [
             0.4,
             "#fde0ef"
            ],
            [
             0.5,
             "#f7f7f7"
            ],
            [
             0.6,
             "#e6f5d0"
            ],
            [
             0.7,
             "#b8e186"
            ],
            [
             0.8,
             "#7fbc41"
            ],
            [
             0.9,
             "#4d9221"
            ],
            [
             1,
             "#276419"
            ]
           ],
           "sequential": [
            [
             0.0,
             "#0d0887"
            ],
            [
             0.1111111111111111,
             "#46039f"
            ],
            [
             0.2222222222222222,
             "#7201a8"
            ],
            [
             0.3333333333333333,
             "#9c179e"
            ],
            [
             0.4444444444444444,
             "#bd3786"
            ],
            [
             0.5555555555555556,
             "#d8576b"
            ],
            [
             0.6666666666666666,
             "#ed7953"
            ],
            [
             0.7777777777777778,
             "#fb9f3a"
            ],
            [
             0.8888888888888888,
             "#fdca26"
            ],
            [
             1.0,
             "#f0f921"
            ]
           ],
           "sequentialminus": [
            [
             0.0,
             "#0d0887"
            ],
            [
             0.1111111111111111,
             "#46039f"
            ],
            [
             0.2222222222222222,
             "#7201a8"
            ],
            [
             0.3333333333333333,
             "#9c179e"
            ],
            [
             0.4444444444444444,
             "#bd3786"
            ],
            [
             0.5555555555555556,
             "#d8576b"
            ],
            [
             0.6666666666666666,
             "#ed7953"
            ],
            [
             0.7777777777777778,
             "#fb9f3a"
            ],
            [
             0.8888888888888888,
             "#fdca26"
            ],
            [
             1.0,
             "#f0f921"
            ]
           ]
          },
          "colorway": [
           "#636efa",
           "#EF553B",
           "#00cc96",
           "#ab63fa",
           "#FFA15A",
           "#19d3f3",
           "#FF6692",
           "#B6E880",
           "#FF97FF",
           "#FECB52"
          ],
          "font": {
           "color": "#2a3f5f"
          },
          "geo": {
           "bgcolor": "white",
           "lakecolor": "white",
           "landcolor": "#E5ECF6",
           "showlakes": true,
           "showland": true,
           "subunitcolor": "white"
          },
          "hoverlabel": {
           "align": "left"
          },
          "hovermode": "closest",
          "mapbox": {
           "style": "light"
          },
          "paper_bgcolor": "white",
          "plot_bgcolor": "#E5ECF6",
          "polar": {
           "angularaxis": {
            "gridcolor": "white",
            "linecolor": "white",
            "ticks": ""
           },
           "bgcolor": "#E5ECF6",
           "radialaxis": {
            "gridcolor": "white",
            "linecolor": "white",
            "ticks": ""
           }
          },
          "scene": {
           "xaxis": {
            "backgroundcolor": "#E5ECF6",
            "gridcolor": "white",
            "gridwidth": 2,
            "linecolor": "white",
            "showbackground": true,
            "ticks": "",
            "zerolinecolor": "white"
           },
           "yaxis": {
            "backgroundcolor": "#E5ECF6",
            "gridcolor": "white",
            "gridwidth": 2,
            "linecolor": "white",
            "showbackground": true,
            "ticks": "",
            "zerolinecolor": "white"
           },
           "zaxis": {
            "backgroundcolor": "#E5ECF6",
            "gridcolor": "white",
            "gridwidth": 2,
            "linecolor": "white",
            "showbackground": true,
            "ticks": "",
            "zerolinecolor": "white"
           }
          },
          "shapedefaults": {
           "line": {
            "color": "#2a3f5f"
           }
          },
          "ternary": {
           "aaxis": {
            "gridcolor": "white",
            "linecolor": "white",
            "ticks": ""
           },
           "baxis": {
            "gridcolor": "white",
            "linecolor": "white",
            "ticks": ""
           },
           "bgcolor": "#E5ECF6",
           "caxis": {
            "gridcolor": "white",
            "linecolor": "white",
            "ticks": ""
           }
          },
          "title": {
           "x": 0.05
          },
          "xaxis": {
           "automargin": true,
           "gridcolor": "white",
           "linecolor": "white",
           "ticks": "",
           "title": {
            "standoff": 15
           },
           "zerolinecolor": "white",
           "zerolinewidth": 2
          },
          "yaxis": {
           "automargin": true,
           "gridcolor": "white",
           "linecolor": "white",
           "ticks": "",
           "title": {
            "standoff": 15
           },
           "zerolinecolor": "white",
           "zerolinewidth": 2
          }
         }
        },
        "title": {
         "text": "Comparison: true dist. vs param vs nonparam bootstrap"
        }
       },
       "config": {
        "plotlyServerURL": "https://plot.ly"
       }
      },
      "text/html": "<div>                            <div id=\"6552d540-f258-4e41-b3e4-8fccff21cc59\" class=\"plotly-graph-div\" style=\"height:525px; width:100%;\"></div>            <script type=\"text/javascript\">                require([\"plotly\"], function(Plotly) {                    window.PLOTLYENV=window.PLOTLYENV || {};                                    if (document.getElementById(\"6552d540-f258-4e41-b3e4-8fccff21cc59\")) {                    Plotly.newPlot(                        \"6552d540-f258-4e41-b3e4-8fccff21cc59\",                        [{\"name\":\"nonparam. bootstrap\",\"opacity\":0.6,\"x\":[100.0,100.50251256281408,101.00502512562814,101.50753768844221,102.01005025125627,102.51256281407035,103.01507537688443,103.51758793969849,104.02010050251256,104.52261306532664,105.0251256281407,105.52763819095478,106.03015075376885,106.53266331658291,107.03517587939699,107.53768844221105,108.04020100502512,108.5427135678392,109.04522613065326,109.54773869346734,110.0502512562814,110.55276381909547,111.05527638190955,111.55778894472361,112.06030150753769,112.56281407035176,113.06532663316582,113.5678391959799,114.07035175879398,114.57286432160804,115.07537688442211,115.57788944723617,116.08040201005025,116.58291457286433,117.08542713567839,117.58793969849246,118.09045226130652,118.5929648241206,119.09547738693468,119.59798994974875,120.10050251256281,120.60301507537687,121.10552763819095,121.60804020100502,122.1105527638191,122.61306532663316,123.11557788944724,123.6180904522613,124.12060301507537,124.62311557788945,125.12562814070351,125.62814070351759,126.13065326633165,126.63316582914572,127.1356783919598,127.63819095477388,128.14070351758795,128.643216080402,129.14572864321607,129.64824120603015,130.15075376884423,130.6532663316583,131.15577889447235,131.65829145728642,132.1608040201005,132.66331658291458,133.16582914572865,133.6683417085427,134.17085427135677,134.67336683417085,135.17587939698493,135.678391959799,136.18090452261305,136.68341708542712,137.1859296482412,137.68844221105527,138.19095477386935,138.6934673366834,139.1959798994975,139.69849246231155,140.20100502512562,140.7035175879397,141.20603015075375,141.70854271356785,142.2110552763819,142.71356783919597,143.21608040201005,143.71859296482413,144.2211055276382,144.72361809045225,145.22613065326632,145.7286432160804,146.23115577889448,146.73366834170855,147.2361809045226,147.73869346733667,148.24120603015075,148.74371859296483,149.2462311557789,149.74874371859295,150.25125628140702,150.7537688442211,151.25628140703517,151.75879396984925,152.2613065326633,152.76381909547737,153.26633165829145,153.76884422110552,154.2713567839196,154.77386934673365,155.27638190954775,155.7788944723618,156.28140703517587,156.78391959798995,157.286432160804,157.7889447236181,158.29145728643215,158.79396984924622,159.2964824120603,159.79899497487438,160.30150753768845,160.8040201005025,161.30653266331657,161.80904522613065,162.31155778894473,162.8140703517588,163.31658291457285,163.81909547738692,164.321608040201,164.82412060301507,165.32663316582915,165.8291457286432,166.33165829145727,166.83417085427135,167.33668341708542,167.8391959798995,168.34170854271355,168.84422110552765,169.3467336683417,169.84924623115577,170.35175879396985,170.8542713567839,171.356783919598,171.85929648241205,172.36180904522612,172.8643216080402,173.36683417085425,173.86934673366835,174.3718592964824,174.87437185929647,175.37688442211055,175.8793969849246,176.3819095477387,176.88442211055275,177.38693467336682,177.8894472361809,178.39195979899498,178.89447236180905,179.3969849246231,179.89949748743717,180.40201005025125,180.90452261306532,181.4070351758794,181.90954773869345,182.41206030150752,182.9145728643216,183.41708542713567,183.91959798994975,184.4221105527638,184.9246231155779,185.42713567839195,185.92964824120602,186.4321608040201,186.93467336683415,187.43718592964825,187.9396984924623,188.44221105527637,188.94472361809045,189.4472361809045,189.9497487437186,190.45226130653265,190.95477386934672,191.4572864321608,191.95979899497485,192.46231155778895,192.964824120603,193.46733668341707,193.96984924623115,194.47236180904522,194.9748743718593,195.47738693467335,195.97989949748742,196.4824120603015,196.98492462311557,197.48743718592965,197.9899497487437,198.49246231155777,198.99497487437185,199.49748743718592,200.0],\"y\":[0.0,0.0,0.0,0.0,0.0,0.0,0.0,0.0,0.0,0.0,0.0,0.0,0.0,0.0,0.0,0.0,0.0,0.0,0.0,0.0,0.0,0.0,0.0,0.0,0.0,0.002008032128514056,0.0,0.0,0.0,0.001004016064257028,0.0,0.001004016064257028,0.001004016064257028,0.0,0.0,0.002008032128514056,0.001004016064257028,0.0,0.0,0.001004016064257028,0.001004016064257028,0.0030120481927710845,0.001004016064257028,0.0030120481927710845,0.0030120481927710845,0.004016064257028112,0.001004016064257028,0.0030120481927710845,0.002008032128514056,0.002008032128514056,0.0030120481927710845,0.0,0.0030120481927710845,0.010040160642570281,0.0030120481927710845,0.004016064257028112,0.0030120481927710845,0.004016064257028112,0.004016064257028112,0.006024096385542169,0.0030120481927710845,0.006024096385542169,0.008032128514056224,0.0050200803212851405,0.004016064257028112,0.009036144578313253,0.006024096385542169,0.0030120481927710845,0.006024096385542169,0.0030120481927710845,0.008032128514056224,0.007028112449799197,0.0030120481927710845,0.007028112449799197,0.0030120481927710845,0.006024096385542169,0.010040160642570281,0.006024096385542169,0.009036144578313253,0.008032128514056224,0.009036144578313253,0.014056224899598393,0.01606425702811245,0.014056224899598393,0.008032128514056224,0.014056224899598393,0.010040160642570281,0.013052208835341365,0.01104417670682731,0.013052208835341365,0.018072289156626505,0.019076305220883535,0.01706827309236948,0.015060240963855422,0.015060240963855422,0.008032128514056224,0.010040160642570281,0.012048192771084338,0.01606425702811245,0.014056224899598393,0.01104417670682731,0.012048192771084338,0.013052208835341365,0.012048192771084338,0.015060240963855422,0.01606425702811245,0.01606425702811245,0.01606425702811245,0.009036144578313253,0.009036144578313253,0.019076305220883535,0.0050200803212851405,0.01606425702811245,0.012048192771084338,0.01104417670682731,0.009036144578313253,0.007028112449799197,0.009036144578313253,0.012048192771084338,0.007028112449799197,0.010040160642570281,0.009036144578313253,0.012048192771084338,0.004016064257028112,0.010040160642570281,0.0050200803212851405,0.013052208835341365,0.008032128514056224,0.013052208835341365,0.008032128514056224,0.006024096385542169,0.01104417670682731,0.004016064257028112,0.012048192771084338,0.010040160642570281,0.006024096385542169,0.006024096385542169,0.007028112449799197,0.0030120481927710845,0.0050200803212851405,0.006024096385542169,0.002008032128514056,0.0050200803212851405,0.007028112449799197,0.007028112449799197,0.002008032128514056,0.004016064257028112,0.002008032128514056,0.001004016064257028,0.004016064257028112,0.002008032128514056,0.0030120481927710845,0.009036144578313253,0.006024096385542169,0.007028112449799197,0.008032128514056224,0.006024096385542169,0.0030120481927710845,0.0030120481927710845,0.0030120481927710845,0.0030120481927710845,0.0030120481927710845,0.0,0.0030120481927710845,0.004016064257028112,0.002008032128514056,0.0030120481927710845,0.002008032128514056,0.0030120481927710845,0.0,0.001004016064257028,0.001004016064257028,0.001004016064257028,0.0,0.001004016064257028,0.001004016064257028,0.001004016064257028,0.001004016064257028,0.002008032128514056,0.0,0.001004016064257028,0.001004016064257028,0.002008032128514056,0.002008032128514056,0.0,0.0,0.001004016064257028,0.0,0.001004016064257028,0.001004016064257028,0.0,0.0030120481927710845,0.0,0.0,0.0,0.001004016064257028,0.0,0.001004016064257028,0.001004016064257028,0.0030120481927710845],\"type\":\"scatter\"},{\"name\":\"param. bootstrap\",\"opacity\":0.6,\"x\":[100.0,100.50251256281408,101.00502512562814,101.50753768844221,102.01005025125627,102.51256281407035,103.01507537688443,103.51758793969849,104.02010050251256,104.52261306532664,105.0251256281407,105.52763819095478,106.03015075376885,106.53266331658291,107.03517587939699,107.53768844221105,108.04020100502512,108.5427135678392,109.04522613065326,109.54773869346734,110.0502512562814,110.55276381909547,111.05527638190955,111.55778894472361,112.06030150753769,112.56281407035176,113.06532663316582,113.5678391959799,114.07035175879398,114.57286432160804,115.07537688442211,115.57788944723617,116.08040201005025,116.58291457286433,117.08542713567839,117.58793969849246,118.09045226130652,118.5929648241206,119.09547738693468,119.59798994974875,120.10050251256281,120.60301507537687,121.10552763819095,121.60804020100502,122.1105527638191,122.61306532663316,123.11557788944724,123.6180904522613,124.12060301507537,124.62311557788945,125.12562814070351,125.62814070351759,126.13065326633165,126.63316582914572,127.1356783919598,127.63819095477388,128.14070351758795,128.643216080402,129.14572864321607,129.64824120603015,130.15075376884423,130.6532663316583,131.15577889447235,131.65829145728642,132.1608040201005,132.66331658291458,133.16582914572865,133.6683417085427,134.17085427135677,134.67336683417085,135.17587939698493,135.678391959799,136.18090452261305,136.68341708542712,137.1859296482412,137.68844221105527,138.19095477386935,138.6934673366834,139.1959798994975,139.69849246231155,140.20100502512562,140.7035175879397,141.20603015075375,141.70854271356785,142.2110552763819,142.71356783919597,143.21608040201005,143.71859296482413,144.2211055276382,144.72361809045225,145.22613065326632,145.7286432160804,146.23115577889448,146.73366834170855,147.2361809045226,147.73869346733667,148.24120603015075,148.74371859296483,149.2462311557789,149.74874371859295,150.25125628140702,150.7537688442211,151.25628140703517,151.75879396984925,152.2613065326633,152.76381909547737,153.26633165829145,153.76884422110552,154.2713567839196,154.77386934673365,155.27638190954775,155.7788944723618,156.28140703517587,156.78391959798995,157.286432160804,157.7889447236181,158.29145728643215,158.79396984924622,159.2964824120603,159.79899497487438,160.30150753768845,160.8040201005025,161.30653266331657,161.80904522613065,162.31155778894473,162.8140703517588,163.31658291457285,163.81909547738692,164.321608040201,164.82412060301507,165.32663316582915,165.8291457286432,166.33165829145727,166.83417085427135,167.33668341708542,167.8391959798995,168.34170854271355,168.84422110552765,169.3467336683417,169.84924623115577,170.35175879396985,170.8542713567839,171.356783919598,171.85929648241205,172.36180904522612,172.8643216080402,173.36683417085425,173.86934673366835,174.3718592964824,174.87437185929647,175.37688442211055,175.8793969849246,176.3819095477387,176.88442211055275,177.38693467336682,177.8894472361809,178.39195979899498,178.89447236180905,179.3969849246231,179.89949748743717,180.40201005025125,180.90452261306532,181.4070351758794,181.90954773869345,182.41206030150752,182.9145728643216,183.41708542713567,183.91959798994975,184.4221105527638,184.9246231155779,185.42713567839195,185.92964824120602,186.4321608040201,186.93467336683415,187.43718592964825,187.9396984924623,188.44221105527637,188.94472361809045,189.4472361809045,189.9497487437186,190.45226130653265,190.95477386934672,191.4572864321608,191.95979899497485,192.46231155778895,192.964824120603,193.46733668341707,193.96984924623115,194.47236180904522,194.9748743718593,195.47738693467335,195.97989949748742,196.4824120603015,196.98492462311557,197.48743718592965,197.9899497487437,198.49246231155777,198.99497487437185,199.49748743718592,200.0],\"y\":[0.0,0.0,0.0,0.0,0.0,0.0,0.0,0.0,0.0,0.0,0.0,0.0,0.0,0.0,0.0,0.0,0.0,0.0,0.0,0.0,0.0,0.0,0.0,0.0010090817356205853,0.0,0.0,0.0,0.0,0.0,0.0,0.0010090817356205853,0.0,0.0,0.0020181634712411706,0.0020181634712411706,0.0,0.0,0.0020181634712411706,0.0010090817356205853,0.0030272452068617556,0.0020181634712411706,0.0,0.0020181634712411706,0.0,0.0,0.0010090817356205853,0.004036326942482341,0.0020181634712411706,0.004036326942482341,0.0030272452068617556,0.0020181634712411706,0.0020181634712411706,0.0010090817356205853,0.0010090817356205853,0.0,0.0030272452068617556,0.004036326942482341,0.007063572149344097,0.004036326942482341,0.008072653884964682,0.008072653884964682,0.004036326942482341,0.005045408678102927,0.004036326942482341,0.008072653884964682,0.011099899091826439,0.008072653884964682,0.0030272452068617556,0.005045408678102927,0.007063572149344097,0.005045408678102927,0.009081735620585268,0.010090817356205853,0.009081735620585268,0.010090817356205853,0.009081735620585268,0.008072653884964682,0.012108980827447022,0.010090817356205853,0.012108980827447022,0.014127144298688193,0.015136226034308779,0.011099899091826439,0.013118062563067608,0.010090817356205853,0.007063572149344097,0.018163471241170535,0.008072653884964682,0.009081735620585268,0.011099899091826439,0.017154389505549948,0.012108980827447022,0.014127144298688193,0.011099899091826439,0.011099899091826439,0.013118062563067608,0.009081735620585268,0.009081735620585268,0.013118062563067608,0.016145307769929364,0.016145307769929364,0.017154389505549948,0.015136226034308779,0.017154389505549948,0.012108980827447022,0.005045408678102927,0.011099899091826439,0.014127144298688193,0.010090817356205853,0.015136226034308779,0.016145307769929364,0.011099899091826439,0.007063572149344097,0.012108980827447022,0.006054490413723511,0.007063572149344097,0.020181634712411706,0.011099899091826439,0.005045408678102927,0.011099899091826439,0.012108980827447022,0.008072653884964682,0.009081735620585268,0.010090817356205853,0.017154389505549948,0.012108980827447022,0.010090817356205853,0.004036326942482341,0.011099899091826439,0.008072653884964682,0.006054490413723511,0.009081735620585268,0.016145307769929364,0.008072653884964682,0.007063572149344097,0.008072653884964682,0.007063572149344097,0.0020181634712411706,0.0030272452068617556,0.006054490413723511,0.006054490413723511,0.008072653884964682,0.006054490413723511,0.008072653884964682,0.004036326942482341,0.007063572149344097,0.0020181634712411706,0.008072653884964682,0.0030272452068617556,0.0030272452068617556,0.004036326942482341,0.0030272452068617556,0.0010090817356205853,0.0030272452068617556,0.0,0.0030272452068617556,0.0020181634712411706,0.005045408678102927,0.0,0.0010090817356205853,0.0030272452068617556,0.0020181634712411706,0.0020181634712411706,0.0020181634712411706,0.0010090817356205853,0.004036326942482341,0.0020181634712411706,0.0,0.0030272452068617556,0.0020181634712411706,0.0020181634712411706,0.0010090817356205853,0.0020181634712411706,0.0,0.0,0.0030272452068617556,0.0,0.0020181634712411706,0.0010090817356205853,0.0010090817356205853,0.0,0.0010090817356205853,0.0010090817356205853,0.0,0.0,0.0030272452068617556,0.0,0.0010090817356205853,0.0020181634712411706,0.0010090817356205853,0.0010090817356205853,0.0,0.0,0.0,0.0,0.0,0.0,0.0,0.0,0.0],\"type\":\"scatter\"},{\"name\":\"true distribution\",\"opacity\":0.8,\"x\":[100.0,100.20040080160321,100.40080160320642,100.60120240480961,100.80160320641282,101.00200400801603,101.20240480961924,101.40280561122245,101.60320641282566,101.80360721442885,102.00400801603206,102.20440881763527,102.40480961923848,102.60521042084169,102.8056112224449,103.00601202404809,103.2064128256513,103.40681362725451,103.60721442885772,103.80761523046093,104.00801603206413,104.20841683366733,104.40881763527054,104.60921843687375,104.80961923847696,105.01002004008016,105.21042084168337,105.41082164328657,105.61122244488978,105.81162324649299,106.0120240480962,106.2124248496994,106.41282565130261,106.6132264529058,106.81362725450902,107.01402805611222,107.21442885771543,107.41482965931864,107.61523046092185,107.81563126252505,108.01603206412825,108.21643286573146,108.41683366733467,108.61723446893788,108.81763527054107,109.01803607214428,109.21843687374749,109.4188376753507,109.61923847695391,109.81963927855712,110.02004008016033,110.22044088176352,110.42084168336673,110.62124248496994,110.82164328657315,111.02204408817636,111.22244488977955,111.42284569138276,111.62324649298597,111.82364729458918,112.02404809619239,112.2244488977956,112.4248496993988,112.625250501002,112.82565130260521,113.02605210420842,113.22645290581163,113.42685370741484,113.62725450901803,113.82765531062124,114.02805611222445,114.22845691382766,114.42885771543087,114.62925851703407,114.82965931863727,115.03006012024048,115.23046092184369,115.4308617234469,115.6312625250501,115.83166332665331,116.03206412825651,116.23246492985972,116.43286573146293,116.63326653306613,116.83366733466934,117.03406813627254,117.23446893787576,117.43486973947896,117.63527054108216,117.83567134268537,118.03607214428858,118.23647294589179,118.43687374749499,118.6372745490982,118.8376753507014,119.03807615230461,119.23847695390782,119.43887775551102,119.63927855711422,119.83967935871743,120.04008016032064,120.24048096192385,120.44088176352706,120.64128256513027,120.84168336673346,121.04208416833667,121.24248496993988,121.44288577154309,121.6432865731463,121.84368737474949,122.0440881763527,122.24448897795591,122.44488977955912,122.64529058116233,122.84569138276554,123.04609218436875,123.24649298597194,123.44689378757515,123.64729458917836,123.84769539078157,124.04809619238478,124.24849699398797,124.44889779559118,124.64929859719439,124.8496993987976,125.0501002004008,125.250501002004,125.45090180360722,125.65130260521042,125.85170340681363,126.05210420841684,126.25250501002004,126.45290581162325,126.65330661322645,126.85370741482966,127.05410821643287,127.25450901803607,127.45490981963928,127.65531062124248,127.8557114228457,128.0561122244489,128.25651302605212,128.4569138276553,128.6573146292585,128.85771543086173,129.05811623246493,129.25851703406815,129.45891783567134,129.65931863727454,129.85971943887776,130.06012024048096,130.26052104208418,130.46092184368737,130.66132264529057,130.8617234468938,131.06212424849699,131.2625250501002,131.4629258517034,131.66332665330663,131.86372745490982,132.06412825651302,132.26452905811624,132.46492985971943,132.66533066132266,132.86573146292585,133.06613226452907,133.26653306613227,133.46693386773546,133.6673346693387,133.86773547094188,134.06813627254508,134.2685370741483,134.46893787575152,134.66933867735472,134.8697394789579,135.07014028056113,135.27054108216433,135.47094188376752,135.67134268537075,135.87174348697394,136.07214428857716,136.27254509018036,136.47294589178358,136.67334669338678,136.87374749498997,137.0741482965932,137.2745490981964,137.47494989979958,137.6753507014028,137.87575150300603,138.07615230460922,138.27655310621242,138.47695390781564,138.67735470941884,138.87775551102203,139.07815631262525,139.27855711422845,139.47895791583167,139.67935871743487,139.8797595190381,140.08016032064128,140.28056112224448,140.4809619238477,140.6813627254509,140.88176352705412,141.0821643286573,141.28256513026054,141.48296593186373,141.68336673346693,141.88376753507015,142.08416833667334,142.28456913827654,142.48496993987976,142.68537074148298,142.88577154308618,143.08617234468937,143.2865731462926,143.4869739478958,143.68737474949899,143.8877755511022,144.0881763527054,144.28857715430863,144.48897795591182,144.68937875751504,144.88977955911824,145.09018036072143,145.29058116232466,145.49098196392785,145.69138276553107,145.89178356713427,146.0921843687375,146.2925851703407,146.49298597194388,146.6933867735471,146.8937875751503,147.0941883767535,147.29458917835672,147.4949899799599,147.69539078156313,147.89579158316633,148.09619238476955,148.29659318637275,148.49699398797594,148.69739478957916,148.89779559118236,149.09819639278558,149.29859719438878,149.498997995992,149.6993987975952,149.8997995991984,150.1002004008016,150.3006012024048,150.501002004008,150.70140280561122,150.90180360721445,151.10220440881764,151.30260521042084,151.50300601202406,151.70340681362725,151.90380761523045,152.10420841683367,152.30460921843687,152.5050100200401,152.70541082164328,152.9058116232465,153.1062124248497,153.3066132264529,153.50701402805612,153.7074148296593,153.90781563126254,154.10821643286573,154.30861723446895,154.50901803607215,154.70941883767534,154.90981963927857,155.11022044088176,155.31062124248496,155.51102204408818,155.7114228456914,155.9118236472946,156.1122244488978,156.31262525050101,156.5130260521042,156.7134268537074,156.91382765531063,157.11422845691382,157.31462925851704,157.51503006012024,157.71543086172346,157.91583166332666,158.11623246492985,158.31663326653307,158.51703406813627,158.71743486973946,158.9178356713427,159.1182364729459,159.3186372745491,159.5190380761523,159.71943887775552,159.91983967935872,160.1202404809619,160.32064128256513,160.52104208416833,160.72144288577155,160.92184368737475,161.12224448897797,161.32264529058116,161.52304609218436,161.72344689378758,161.92384769539078,162.124248496994,162.3246492985972,162.52505010020042,162.7254509018036,162.9258517034068,163.12625250501003,163.32665330661322,163.52705410821642,163.72745490981964,163.92785571142286,164.12825651302606,164.32865731462925,164.52905811623248,164.72945891783567,164.92985971943887,165.1302605210421,165.3306613226453,165.53106212424848,165.7314629258517,165.93186372745492,166.13226452905812,166.3326653306613,166.53306613226454,166.73346693386773,166.93386773547093,167.13426853707415,167.33466933867737,167.53507014028057,167.73547094188376,167.93587174348698,168.13627254509018,168.33667334669337,168.5370741482966,168.73747494989982,168.93787575150301,169.1382765531062,169.33867735470943,169.53907815631263,169.73947895791582,169.93987975951904,170.14028056112227,170.34068136272543,170.54108216432866,170.74148296593188,170.94188376753507,171.14228456913827,171.3426853707415,171.5430861723447,171.74348697394788,171.9438877755511,172.14428857715433,172.34468937875752,172.54509018036072,172.74549098196394,172.94589178356713,173.14629258517033,173.34669338677355,173.54709418837678,173.74749498997994,173.94789579158316,174.1482965931864,174.34869739478958,174.54909819639278,174.749498997996,174.9498997995992,175.1503006012024,175.3507014028056,175.55110220440883,175.75150300601203,175.95190380761522,176.15230460921845,176.35270541082164,176.55310621242484,176.75350701402806,176.95390781563128,177.15430861723448,177.35470941883767,177.5551102204409,177.7555110220441,177.95591182364728,178.1563126252505,178.35671342685373,178.5571142284569,178.75751503006012,178.95791583166334,179.15831663326654,179.35871743486973,179.55911823647295,179.75951903807615,179.95991983967934,180.16032064128257,180.3607214428858,180.56112224448898,180.76152304609218,180.9619238476954,181.1623246492986,181.3627254509018,181.56312625250501,181.76352705410824,181.96392785571143,182.16432865731463,182.36472945891785,182.56513026052104,182.76553106212424,182.96593186372746,183.16633266533066,183.36673346693385,183.56713426853707,183.7675350701403,183.9679358717435,184.1683366733467,184.3687374749499,184.5691382765531,184.7695390781563,184.96993987975952,185.17034068136275,185.37074148296594,185.57114228456913,185.77154308617236,185.97194388777555,186.17234468937875,186.37274549098197,186.5731462925852,186.77354709418836,186.97394789579158,187.1743486973948,187.374749498998,187.5751503006012,187.77555110220442,187.9759519038076,188.1763527054108,188.37675350701403,188.57715430861725,188.77755511022045,188.97795591182364,189.17835671342687,189.37875751503006,189.57915831663325,189.77955911823648,189.9799599198397,190.1803607214429,190.3807615230461,190.5811623246493,190.7815631262525,190.9819639278557,191.18236472945893,191.38276553106215,191.58316633266531,191.78356713426854,191.98396793587176,192.18436873747495,192.38476953907815,192.58517034068137,192.78557114228457,192.98597194388776,193.18637274549098,193.3867735470942,193.5871743486974,193.7875751503006,193.98797595190382,194.18837675350701,194.3887775551102,194.58917835671343,194.78957915831666,194.98997995991982,195.19038076152304,195.39078156312627,195.59118236472946,195.79158316633266,195.99198396793588,196.19238476953907,196.39278557114227,196.5931863727455,196.79358717434872,196.9939879759519,197.1943887775551,197.39478957915833,197.59519038076152,197.79559118236472,197.99599198396794,198.19639278557116,198.39679358717436,198.59719438877755,198.79759519038078,198.99799599198397,199.19839679358716,199.3987975951904,199.5991983967936,199.79959919839678,200.0],\"y\":[0.0,3.423746680248472e-06,3.696172247492189e-06,3.988074189856776e-06,4.300668858304967e-06,4.635235643891043e-06,4.993119379475826e-06,5.3757327794244555e-06,5.784558914635586e-06,6.221153719782177e-06,6.68714852960688e-06,7.18425264070079e-06,7.714255895109045e-06,8.279031281661648e-06,8.880537550884132e-06,9.520821838893167e-06,1.0202022295589482e-05,1.0926370712068353e-05,1.1696195142010005e-05,1.2513922511562197e-05,1.3382081211844665e-05,1.4303303668140372e-05,1.528032887950111e-05,1.631600492224211e-05,1.7413291410643043e-05,1.857526190782345e-05,1.9805106279756444e-05,2.1106132984983713e-05,2.248177129244715e-05,2.3935573419730258e-05,2.547121658378975e-05,2.709250495619615e-05,2.8803371514433897e-05,3.060787978114663e-05,3.2510225442871266e-05,3.4514737839358e-05,3.662588131555112e-05,3.884825642662621e-05,4.118660098825159e-05,4.36457909627516e-05,4.6230841172394945e-05,4.894690583186819e-05,5.179927888997887e-05,5.479339417323835e-05,5.793482532211636e-05,6.1229285511534e-05,6.468262694800907e-05,6.830084013442262e-05,7.209005289541821e-05,7.605652915521955e-05,8.020666746065704e-05,8.454699924199493e-05,8.908418680552929e-05,9.38250210501014e-05,9.877641890259302e-05,0.00010394542046593858,0.00010933918587458088,0.00011496499185201714,0.00012083022796627622,0.00012694239257950244,0.00013330908848692858,0.0001399380182443245,0.00014683697917915704,0.00015401385808505152,0.0001614766255977557,0.0001692333302522617,0.00017729209221982976,0.00018566109672752762,0.00019434858715892912,0.00020336285784108626,0.0002127122465162305,0.00022240512650524395,0.0002324498985657921,0.00024285498244745827,0.00025362880815277093,0.0002647798069090332,0.00027631640185538705,0.00028824699845734787,0.00030057997465270797,0.00031332367074087854,0.00032648637902371516,0.00034007633320932897,0.00035410169758908275,0.0003685705560020659,0.0003834909005950224,0.00039887062039622306,0.00041471748971525814,0.0004310391563796673,0.0004478431298311925,0.0004651367690905895,0.0004829272706096191,0.0005012216560303772,0.0005200267598632485,0.0005393492171069988,0.0005591954508256756,0.0005795716597058204,0.0006004838056056158,0.000621937601124202,0.0006439384972058235,0.0006664916708000405,0.0006896020125991692,0.0007132741148748317,0.0007375122594317288,0.0007623204057017781,0.0007877021790000695,0.0008136608589621765,0.0008401993681855235,0.0008673202610953445,0.0008950257130575581,0.0009233175097565424,0.0009521970368652523,0.000981665270015638,0.0010117227651067935,0.001042369648958024,0.0010736056103275507,0.0011054298913294389,0.0011378412792407387,0.0011708380987534572,0.0012044182046541466,0.001238578974973585,0.0012733173046079599,0.001308629599437422,0.001344511770956916,0.0013809592314157348,0.0014179668895179104,0.0014555291466512715,0.001493639893697482,0.0015322925084004305,0.0015714798533365618,0.0016111942744714489,0.0016514276003150238,0.0016921711417072702,0.0017334156921980926,0.0017751515290789568,0.0018173684150191091,0.0018600556003521493,0.001903201825994509,0.0019467953269990332,0.001990823836757874,0.002035274591821512,0.0020801343373888503,0.002125389333402422,0.002171025361289755,0.0022170277313307146,0.002263381290640923,0.0023100704317786658,0.0023570791019495996,0.0024043908128108527,0.0024519886508764244,0.0024998552884842318,0.002547972995331216,0.0025963236505798792,0.002644888755474528,0.002693649446516788,0.0027425865091221246,0.0027916803917790722,0.002840911220708453,0.0028902588149298247,0.002939702701827529,0.002989222133091607,0.0030387961010776565,0.0030884033555572676,0.003138022420799913,0.0031876316130183824,0.0032372090581045954,0.0032867327096841037,0.0033361803674116786,0.003385529695518752,0.0034347582416054956,0.0034838434555729547,0.0035327627087914926,0.0035814933133653803,0.0036300125415352213,0.003678297645180628,0.0037263258753876816,0.0037740745020488076,0.0038215208335017903,0.0038686422361493555,0.003915416154043505,0.003961820128413562,0.004007831817135377,0.004053429014039267,0.004098589668152075,0.004143291902715618,0.004187514034086681,0.004231234590371502,0.004274432329899436,0.004317086259380709,0.004359175651828917,0.004400680064189033,0.004441579354631409,0.00448185369951859,0.00452148361002791,0.004560449948365963,0.004598733943619537,0.004636317207176166,0.004673181747737842,0.004709309985826582,0.0047446847679257775,0.004779289380042129,0.0048131075608386364,0.004846123514255174,0.004878321921584439,0.004909687953032482,0.004940207278760156,0.0049698660793202065,0.004998651055604153,0.005026549438155392,0.00505354899593502,0.005079638044533152,0.005104805453721328,0.005129040654486994,0.005152333645430995,0.005174674998550122,0.00519605586446753,0.005216467977019468,0.005235903657249907,0.0052543558167982285,0.00527181796069115,0.005288284189541637,0.00530374920111637,0.005318208291359261,0.0053316573547758095,0.005344092884273122,0.005355511970394522,0.005365912299996056,0.005375292154368494,0.00538365040675548,0.005390986519398566,0.00539730053997195,0.00540259309753699,0.0054068653979537085,0.005410119218796083,0.005412356903771565,0.005413581356639552,0.0054137960346905545,0.005413004941746347,0.0054112126207048195,0.005408424145697088,0.0054046451137670926,0.005399881636207138,0.005394140329476826,0.005387428305740849,0.0053797531630844775,0.005371122975349696,0.00536154628167973,0.0053510320757342855,0.005339589794618238,0.00532722930752505,0.005313960904139603,0.005299795282799558,0.005284743538377934,0.005268817150032579,0.00525202796870905,0.005234388204483631,0.005215910413725489,0.005196607486179783,0.005176492631804308,0.005155579367644991,0.005133881504465032,0.0051114131334055735,0.0050881886125409,0.005064222553363362,0.005039529807274179,0.005014125452037166,0.004988024778219913,0.004961243275685812,0.004933796620031017,0.00490570065917062,0.004876971399875085,0.004847624994431032,0.004817677727383618,0.004787146002318221,0.004756046328810215,0.004724395309459117,0.004692209627033206,0.00465950603179921,0.004626301328953364,0.004592612366247528,0.004558456021754975,0.004523849191856333,0.004488808779357312,0.004453351681853679,0.004417494780290965,0.004381254927694922,0.004344648938183759,0.004307693576177218,0.004270405545832023,0.00423280148073002,0.00419489793381711,0.004156711367585664,0.004118258144493625,0.004079554517700035,0.004040616621994508,0.004001460465059226,0.0039621019189459705,0.003922556711885905,0.0038828404203135047,0.0038429684612342196,0.0038029560848134025,0.003762818367302523,0.003722570204186204,0.003682226303687086,0.0036418011804915107,0.003601309149794285,0.0035607643216065687,0.0035201805953757326,0.00347957165486501,0.0034389509632968274,0.0033983317588350825,0.0033577270502738177,0.003317149613058845,0.003276611985546518,0.0032361264655433875,0.0031957051071300757,0.0031553597177198522,0.0031151018553929877,0.0030749428265050005,0.003034893683505846,0.0029949652230700785,0.002955167984401208,0.0029155122478450313,0.002876008033689592,0.002836665101228819,0.0027974929480354405,0.0027585008094654917,0.002719697658386977,0.0026810922050923836,0.0026426928974653263,0.002604507921300403,0.0025665452008568623,0.002528812399589908,0.002491316921050868,0.0024540659100098505,0.0024170662537008614,0.0023803245832922926,0.0023438472754557793,0.0023076404541672035,0.002271709992582638,0.0022360615151297836,0.0022007003996911134,0.0021656317799430003,0.0021308605478206344,0.002096391356113947,0.0020622286211555707,0.0020283765256579045,0.0019948390216307788,0.0019616198333967105,0.001928722460735055,0.0018961501820721205,0.0018639060577846367,0.0018319929335862684,0.0018004134439589814,0.001769170015688326,0.001738264871436579,0.00170770003339471,0.001677477326968102,0.0016475983845318787,0.001618064649215989,0.0015888773787433585,0.0015600376492794776,0.0015315463593538192,0.0015034042337598308,0.0014756118275176533,0.0014481695298301789,0.0014210775680645327,0.0013943360117419923,0.0013679447765317931,0.0013419036282494856,0.001316212186859289,0.00129086993046168,0.0012658761992795364,0.00124123019964395,0.0012169310079405138,0.0011929775745604942,0.0011693687278313547,0.0011461031779070874,0.0011231795206531059,0.0011005962414911696,0.0010783517192146652,0.0010564442297839038,0.0010348719500612447,0.0010136329615373363,0.0009927252539987386,0.0009721467291575747,0.0009518952042498752,0.0009319684155708607,0.0009123640219792506,0.0008930796083446157,0.0008741126889524331,0.0008554607108480772,0.0008371210571425092,0.0008190910502524629,0.0008013679550953334,0.0007839489822227819,0.0007668312909012709,0.000750011992138977,0.0007334881516458669,0.0007172567927478113,0.0007013148992301987,0.0006856594181320341,0.0006702872624726464,0.0006551953139241062,0.0006403804254220269,0.0006258394237134146,0.0006115691118442346,0.0005975662715934638,0.0005838276658343133,0.0005703500408453799,0.0005571301285555164,0.0005441646487313045,0.0005314503111006896,0.000518983817422547,0.0005067618634896354,0.0004947811410783709,0.0004830383398359839,0.00047153014911016644,0.0004602532597224318,0.00044920436568107736,0.00043838016583985784,0.00042777736549926004,0.00041739267795048995,0.0004072228259696109,0.00039726454324906513,0.0003875145757851195,0.0003779696832029167,0.0003686266400371174,0.0003594822369568096,0.0003505332819401241,0.00034177660140122246,0.00033320904126477036,0.00032482746799722406,0.00031662876958460373,0.0003086098564692996,0.00030076766243902764,0.00029309914546982174,0.00028560128852894717,0.0002782711003297411,0.00027110561605026007,0.0002641018980066301,0.0002572570362877613,0.0002505681493510936,0.00024403238458059473,0.0002376469188044572,0.00023140895878059897,0.00022531574164486035,0.00021936453532123146,0.00021355263890610043,0.0002078773830113123,0.0002023361300810267,0.0001969262746763789,0.00019164524372794478,0.00018649049676178198,0.00018145952609593952,0.0001765498570098778,0.00017175904788613305,0.00016708469032922224,0.00016252440925534906,0.00015807586296356924,0.00015373674317764596,0.00014950477507091886,0.00014537771726719217,0.0001413533618189744,0.00013742953417084092,0.00013360409309792765,0.00012987493063021383,0.0001262399719558216,0.00012269717531065982,0.00011924453184863903,0.00011588006549767549,0.00011260183280192848,0.00010940792274671818,0.00010629645657400655,0.00010326558758033677,0.00010031350090689006,9.743841331466552e-05,9.463857294988998e-05,9.191225909888079e-05,8.925778193336065e-05,8.667348224478122e-05,8.415773117242953e-05,8.170892992009904e-05,7.932550946887496e-05,7.700593027870628e-05,7.474868198553697e-05,7.255228309221984e-05,7.041528065232505e-05,6.833624994961873e-05,6.631379417199046e-05,6.434654408182805e-05,6.24331576801751e-05,6.0572319870444424e-05,5.8762742114915056e-05,5.7003162092783555e-05,5.5292343350221707e-05,5.362907495387592e-05,5.201217113770529e-05,5.044047095104087e-05,4.891283790497969e-05,4.742815961600311e-05],\"type\":\"scatter\"}],                        {\"template\":{\"data\":{\"bar\":[{\"error_x\":{\"color\":\"#2a3f5f\"},\"error_y\":{\"color\":\"#2a3f5f\"},\"marker\":{\"line\":{\"color\":\"#E5ECF6\",\"width\":0.5},\"pattern\":{\"fillmode\":\"overlay\",\"size\":10,\"solidity\":0.2}},\"type\":\"bar\"}],\"barpolar\":[{\"marker\":{\"line\":{\"color\":\"#E5ECF6\",\"width\":0.5},\"pattern\":{\"fillmode\":\"overlay\",\"size\":10,\"solidity\":0.2}},\"type\":\"barpolar\"}],\"carpet\":[{\"aaxis\":{\"endlinecolor\":\"#2a3f5f\",\"gridcolor\":\"white\",\"linecolor\":\"white\",\"minorgridcolor\":\"white\",\"startlinecolor\":\"#2a3f5f\"},\"baxis\":{\"endlinecolor\":\"#2a3f5f\",\"gridcolor\":\"white\",\"linecolor\":\"white\",\"minorgridcolor\":\"white\",\"startlinecolor\":\"#2a3f5f\"},\"type\":\"carpet\"}],\"choropleth\":[{\"colorbar\":{\"outlinewidth\":0,\"ticks\":\"\"},\"type\":\"choropleth\"}],\"contour\":[{\"colorbar\":{\"outlinewidth\":0,\"ticks\":\"\"},\"colorscale\":[[0.0,\"#0d0887\"],[0.1111111111111111,\"#46039f\"],[0.2222222222222222,\"#7201a8\"],[0.3333333333333333,\"#9c179e\"],[0.4444444444444444,\"#bd3786\"],[0.5555555555555556,\"#d8576b\"],[0.6666666666666666,\"#ed7953\"],[0.7777777777777778,\"#fb9f3a\"],[0.8888888888888888,\"#fdca26\"],[1.0,\"#f0f921\"]],\"type\":\"contour\"}],\"contourcarpet\":[{\"colorbar\":{\"outlinewidth\":0,\"ticks\":\"\"},\"type\":\"contourcarpet\"}],\"heatmap\":[{\"colorbar\":{\"outlinewidth\":0,\"ticks\":\"\"},\"colorscale\":[[0.0,\"#0d0887\"],[0.1111111111111111,\"#46039f\"],[0.2222222222222222,\"#7201a8\"],[0.3333333333333333,\"#9c179e\"],[0.4444444444444444,\"#bd3786\"],[0.5555555555555556,\"#d8576b\"],[0.6666666666666666,\"#ed7953\"],[0.7777777777777778,\"#fb9f3a\"],[0.8888888888888888,\"#fdca26\"],[1.0,\"#f0f921\"]],\"type\":\"heatmap\"}],\"heatmapgl\":[{\"colorbar\":{\"outlinewidth\":0,\"ticks\":\"\"},\"colorscale\":[[0.0,\"#0d0887\"],[0.1111111111111111,\"#46039f\"],[0.2222222222222222,\"#7201a8\"],[0.3333333333333333,\"#9c179e\"],[0.4444444444444444,\"#bd3786\"],[0.5555555555555556,\"#d8576b\"],[0.6666666666666666,\"#ed7953\"],[0.7777777777777778,\"#fb9f3a\"],[0.8888888888888888,\"#fdca26\"],[1.0,\"#f0f921\"]],\"type\":\"heatmapgl\"}],\"histogram\":[{\"marker\":{\"pattern\":{\"fillmode\":\"overlay\",\"size\":10,\"solidity\":0.2}},\"type\":\"histogram\"}],\"histogram2d\":[{\"colorbar\":{\"outlinewidth\":0,\"ticks\":\"\"},\"colorscale\":[[0.0,\"#0d0887\"],[0.1111111111111111,\"#46039f\"],[0.2222222222222222,\"#7201a8\"],[0.3333333333333333,\"#9c179e\"],[0.4444444444444444,\"#bd3786\"],[0.5555555555555556,\"#d8576b\"],[0.6666666666666666,\"#ed7953\"],[0.7777777777777778,\"#fb9f3a\"],[0.8888888888888888,\"#fdca26\"],[1.0,\"#f0f921\"]],\"type\":\"histogram2d\"}],\"histogram2dcontour\":[{\"colorbar\":{\"outlinewidth\":0,\"ticks\":\"\"},\"colorscale\":[[0.0,\"#0d0887\"],[0.1111111111111111,\"#46039f\"],[0.2222222222222222,\"#7201a8\"],[0.3333333333333333,\"#9c179e\"],[0.4444444444444444,\"#bd3786\"],[0.5555555555555556,\"#d8576b\"],[0.6666666666666666,\"#ed7953\"],[0.7777777777777778,\"#fb9f3a\"],[0.8888888888888888,\"#fdca26\"],[1.0,\"#f0f921\"]],\"type\":\"histogram2dcontour\"}],\"mesh3d\":[{\"colorbar\":{\"outlinewidth\":0,\"ticks\":\"\"},\"type\":\"mesh3d\"}],\"parcoords\":[{\"line\":{\"colorbar\":{\"outlinewidth\":0,\"ticks\":\"\"}},\"type\":\"parcoords\"}],\"pie\":[{\"automargin\":true,\"type\":\"pie\"}],\"scatter\":[{\"marker\":{\"colorbar\":{\"outlinewidth\":0,\"ticks\":\"\"}},\"type\":\"scatter\"}],\"scatter3d\":[{\"line\":{\"colorbar\":{\"outlinewidth\":0,\"ticks\":\"\"}},\"marker\":{\"colorbar\":{\"outlinewidth\":0,\"ticks\":\"\"}},\"type\":\"scatter3d\"}],\"scattercarpet\":[{\"marker\":{\"colorbar\":{\"outlinewidth\":0,\"ticks\":\"\"}},\"type\":\"scattercarpet\"}],\"scattergeo\":[{\"marker\":{\"colorbar\":{\"outlinewidth\":0,\"ticks\":\"\"}},\"type\":\"scattergeo\"}],\"scattergl\":[{\"marker\":{\"colorbar\":{\"outlinewidth\":0,\"ticks\":\"\"}},\"type\":\"scattergl\"}],\"scattermapbox\":[{\"marker\":{\"colorbar\":{\"outlinewidth\":0,\"ticks\":\"\"}},\"type\":\"scattermapbox\"}],\"scatterpolar\":[{\"marker\":{\"colorbar\":{\"outlinewidth\":0,\"ticks\":\"\"}},\"type\":\"scatterpolar\"}],\"scatterpolargl\":[{\"marker\":{\"colorbar\":{\"outlinewidth\":0,\"ticks\":\"\"}},\"type\":\"scatterpolargl\"}],\"scatterternary\":[{\"marker\":{\"colorbar\":{\"outlinewidth\":0,\"ticks\":\"\"}},\"type\":\"scatterternary\"}],\"surface\":[{\"colorbar\":{\"outlinewidth\":0,\"ticks\":\"\"},\"colorscale\":[[0.0,\"#0d0887\"],[0.1111111111111111,\"#46039f\"],[0.2222222222222222,\"#7201a8\"],[0.3333333333333333,\"#9c179e\"],[0.4444444444444444,\"#bd3786\"],[0.5555555555555556,\"#d8576b\"],[0.6666666666666666,\"#ed7953\"],[0.7777777777777778,\"#fb9f3a\"],[0.8888888888888888,\"#fdca26\"],[1.0,\"#f0f921\"]],\"type\":\"surface\"}],\"table\":[{\"cells\":{\"fill\":{\"color\":\"#EBF0F8\"},\"line\":{\"color\":\"white\"}},\"header\":{\"fill\":{\"color\":\"#C8D4E3\"},\"line\":{\"color\":\"white\"}},\"type\":\"table\"}]},\"layout\":{\"annotationdefaults\":{\"arrowcolor\":\"#2a3f5f\",\"arrowhead\":0,\"arrowwidth\":1},\"autotypenumbers\":\"strict\",\"coloraxis\":{\"colorbar\":{\"outlinewidth\":0,\"ticks\":\"\"}},\"colorscale\":{\"diverging\":[[0,\"#8e0152\"],[0.1,\"#c51b7d\"],[0.2,\"#de77ae\"],[0.3,\"#f1b6da\"],[0.4,\"#fde0ef\"],[0.5,\"#f7f7f7\"],[0.6,\"#e6f5d0\"],[0.7,\"#b8e186\"],[0.8,\"#7fbc41\"],[0.9,\"#4d9221\"],[1,\"#276419\"]],\"sequential\":[[0.0,\"#0d0887\"],[0.1111111111111111,\"#46039f\"],[0.2222222222222222,\"#7201a8\"],[0.3333333333333333,\"#9c179e\"],[0.4444444444444444,\"#bd3786\"],[0.5555555555555556,\"#d8576b\"],[0.6666666666666666,\"#ed7953\"],[0.7777777777777778,\"#fb9f3a\"],[0.8888888888888888,\"#fdca26\"],[1.0,\"#f0f921\"]],\"sequentialminus\":[[0.0,\"#0d0887\"],[0.1111111111111111,\"#46039f\"],[0.2222222222222222,\"#7201a8\"],[0.3333333333333333,\"#9c179e\"],[0.4444444444444444,\"#bd3786\"],[0.5555555555555556,\"#d8576b\"],[0.6666666666666666,\"#ed7953\"],[0.7777777777777778,\"#fb9f3a\"],[0.8888888888888888,\"#fdca26\"],[1.0,\"#f0f921\"]]},\"colorway\":[\"#636efa\",\"#EF553B\",\"#00cc96\",\"#ab63fa\",\"#FFA15A\",\"#19d3f3\",\"#FF6692\",\"#B6E880\",\"#FF97FF\",\"#FECB52\"],\"font\":{\"color\":\"#2a3f5f\"},\"geo\":{\"bgcolor\":\"white\",\"lakecolor\":\"white\",\"landcolor\":\"#E5ECF6\",\"showlakes\":true,\"showland\":true,\"subunitcolor\":\"white\"},\"hoverlabel\":{\"align\":\"left\"},\"hovermode\":\"closest\",\"mapbox\":{\"style\":\"light\"},\"paper_bgcolor\":\"white\",\"plot_bgcolor\":\"#E5ECF6\",\"polar\":{\"angularaxis\":{\"gridcolor\":\"white\",\"linecolor\":\"white\",\"ticks\":\"\"},\"bgcolor\":\"#E5ECF6\",\"radialaxis\":{\"gridcolor\":\"white\",\"linecolor\":\"white\",\"ticks\":\"\"}},\"scene\":{\"xaxis\":{\"backgroundcolor\":\"#E5ECF6\",\"gridcolor\":\"white\",\"gridwidth\":2,\"linecolor\":\"white\",\"showbackground\":true,\"ticks\":\"\",\"zerolinecolor\":\"white\"},\"yaxis\":{\"backgroundcolor\":\"#E5ECF6\",\"gridcolor\":\"white\",\"gridwidth\":2,\"linecolor\":\"white\",\"showbackground\":true,\"ticks\":\"\",\"zerolinecolor\":\"white\"},\"zaxis\":{\"backgroundcolor\":\"#E5ECF6\",\"gridcolor\":\"white\",\"gridwidth\":2,\"linecolor\":\"white\",\"showbackground\":true,\"ticks\":\"\",\"zerolinecolor\":\"white\"}},\"shapedefaults\":{\"line\":{\"color\":\"#2a3f5f\"}},\"ternary\":{\"aaxis\":{\"gridcolor\":\"white\",\"linecolor\":\"white\",\"ticks\":\"\"},\"baxis\":{\"gridcolor\":\"white\",\"linecolor\":\"white\",\"ticks\":\"\"},\"bgcolor\":\"#E5ECF6\",\"caxis\":{\"gridcolor\":\"white\",\"linecolor\":\"white\",\"ticks\":\"\"}},\"title\":{\"x\":0.05},\"xaxis\":{\"automargin\":true,\"gridcolor\":\"white\",\"linecolor\":\"white\",\"ticks\":\"\",\"title\":{\"standoff\":15},\"zerolinecolor\":\"white\",\"zerolinewidth\":2},\"yaxis\":{\"automargin\":true,\"gridcolor\":\"white\",\"linecolor\":\"white\",\"ticks\":\"\",\"title\":{\"standoff\":15},\"zerolinecolor\":\"white\",\"zerolinewidth\":2}}},\"title\":{\"text\":\"Comparison: true dist. vs param vs nonparam bootstrap\"}},                        {\"responsive\": true}                    ).then(function(){\n                            \nvar gd = document.getElementById('6552d540-f258-4e41-b3e4-8fccff21cc59');\nvar x = new MutationObserver(function (mutations, observer) {{\n        var display = window.getComputedStyle(gd).display;\n        if (!display || display === 'none') {{\n            console.log([gd, 'removed!']);\n            Plotly.purge(gd);\n            observer.disconnect();\n        }}\n}});\n\n// Listen for the removal of the full notebook cells\nvar notebookContainer = gd.closest('#notebook-container');\nif (notebookContainer) {{\n    x.observe(notebookContainer, {childList: true});\n}}\n\n// Listen for the clearing of the current output cell\nvar outputEl = gd.closest('.output');\nif (outputEl) {{\n    x.observe(outputEl, {childList: true});\n}}\n\n                        })                };                });            </script>        </div>"
     },
     "metadata": {},
     "output_type": "display_data"
    }
   ],
   "source": [
    "fig = go.Figure()\n",
    "fig.add_trace(go.Scatter(\n",
    "    x = x_axis_bar, y = nonparam_bootstrap_hist, opacity = 0.6,\n",
    "    name = 'nonparam. bootstrap'\n",
    "))\n",
    "fig.add_trace(go.Scatter(\n",
    "    x = x_axis_bar, y = param_bootstrap_hist, opacity = 0.6,\n",
    "    name = 'param. bootstrap'\n",
    "))\n",
    "fig.add_trace(go.Scatter(\n",
    "    x = x_axis, y = theta_real_pdf, opacity = 0.8,\n",
    "    name = 'true distribution'\n",
    "))\n",
    "fig.update_layout(title = 'Comparison: true dist. vs param vs nonparam bootstrap')\n",
    "fig.show()"
   ]
  },
  {
   "cell_type": "code",
   "execution_count": 91,
   "metadata": {
    "pycharm": {
     "name": "#%%\n"
    }
   },
   "outputs": [],
   "source": []
  },
  {
   "cell_type": "code",
   "execution_count": 85,
   "metadata": {},
   "outputs": [],
   "source": []
  },
  {
   "cell_type": "code",
   "execution_count": 85,
   "outputs": [],
   "source": [],
   "metadata": {
    "collapsed": false,
    "pycharm": {
     "name": "#%%\n"
    }
   }
  },
  {
   "cell_type": "code",
   "execution_count": 85,
   "outputs": [],
   "source": [],
   "metadata": {
    "collapsed": false,
    "pycharm": {
     "name": "#%%\n"
    }
   }
  }
 ],
 "metadata": {
  "kernelspec": {
   "display_name": "Python 3",
   "language": "python",
   "name": "python3"
  },
  "language_info": {
   "codemirror_mode": {
    "name": "ipython",
    "version": 3
   },
   "file_extension": ".py",
   "mimetype": "text/x-python",
   "name": "python",
   "nbconvert_exporter": "python",
   "pygments_lexer": "ipython3",
   "version": "3.8.3"
  }
 },
 "nbformat": 4,
 "nbformat_minor": 1
}