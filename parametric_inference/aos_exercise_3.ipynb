{
 "cells": [
  {
   "cell_type": "code",
   "execution_count": 2,
   "metadata": {
    "collapsed": true
   },
   "outputs": [],
   "source": [
    "import numpy as np\n",
    "from scipy.stats import norm"
   ]
  },
  {
   "cell_type": "code",
   "execution_count": 5,
   "outputs": [
    {
     "name": "stdout",
     "output_type": "stream",
     "text": [
      "mu_hat = 1.1908\n",
      "std_hat = 1.817554224775701\n",
      "tau_hat = 4.180410658803283\n"
     ]
    }
   ],
   "source": [
    "sample = np.array([3.23, -2.50,  1.88, -0.68, 4.43, 0.17, 1.03, -0.07,\n",
    "                   -0.01,  0.76,  1.76, 3.18, 0.33, -0.31,  0.30, -0.61,\n",
    "                   1.52, 5.43, 1.54,  2.28,  0.42,  2.33, -1.03, 4.00, 0.39])\n",
    "mu_hat = np.mean(sample)\n",
    "std_hat = np.std(sample)\n",
    "tau_hat = mu_hat + std_hat * norm.ppf(0.95)\n",
    "print(f'mu_hat = {mu_hat}')\n",
    "print(f'std_hat = {std_hat}')\n",
    "print(f'tau_hat = {tau_hat}')"
   ],
   "metadata": {
    "collapsed": false,
    "pycharm": {
     "name": "#%%\n"
    }
   }
  },
  {
   "cell_type": "code",
   "execution_count": 6,
   "outputs": [
    {
     "name": "stdout",
     "output_type": "stream",
     "text": [
      "Normal method parametric CI:(2.89932494814615, 5.461496369460416)\n"
     ]
    }
   ],
   "source": [
    "bootstrap_repetitions = 1000\n",
    "param_bootstrap_estimations = list()\n",
    "for i in range(bootstrap_repetitions):\n",
    "    # parametric - sampling from estimated distribution\n",
    "    param_bootstrap_sample = norm.rvs(loc=mu_hat, scale=std_hat, size=len(sample))\n",
    "    param_bootstrap_estimations.append(np.quantile(param_bootstrap_sample, 0.95))\n",
    "\n",
    "param_bootstrap_estimations = np.sort(param_bootstrap_estimations)\n",
    "se_tau_hat_parametric = param_bootstrap_estimations.std()\n",
    "\n",
    "alpha = 0.05\n",
    "z = norm.ppf(1-alpha/2)\n",
    "normal_upper_bound = tau_hat + se_tau_hat_parametric * z\n",
    "normal_lower_bound = tau_hat - se_tau_hat_parametric * z\n",
    "print(f'Normal method parametric CI:({normal_lower_bound}, {normal_upper_bound})')"
   ],
   "metadata": {
    "collapsed": false,
    "pycharm": {
     "name": "#%%\n"
    }
   }
  },
  {
   "cell_type": "code",
   "execution_count": null,
   "outputs": [],
   "source": [],
   "metadata": {
    "collapsed": false,
    "pycharm": {
     "name": "#%%\n"
    }
   }
  }
 ],
 "metadata": {
  "kernelspec": {
   "display_name": "Python 3",
   "language": "python",
   "name": "python3"
  },
  "language_info": {
   "codemirror_mode": {
    "name": "ipython",
    "version": 2
   },
   "file_extension": ".py",
   "mimetype": "text/x-python",
   "name": "python",
   "nbconvert_exporter": "python",
   "pygments_lexer": "ipython2",
   "version": "2.7.6"
  }
 },
 "nbformat": 4,
 "nbformat_minor": 0
}