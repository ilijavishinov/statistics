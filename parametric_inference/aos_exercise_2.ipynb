{
 "cells": [
  {
   "cell_type": "code",
   "execution_count": 12,
   "metadata": {
    "collapsed": true
   },
   "outputs": [],
   "source": [
    "import numpy as np\n",
    "from scipy.stats import uniform\n",
    "n = 10\n",
    "a = 1\n",
    "b = 3\n",
    "sample = uniform.rvs(a,b,n)"
   ]
  },
  {
   "cell_type": "code",
   "execution_count": 20,
   "outputs": [
    {
     "name": "stdout",
     "output_type": "stream",
     "text": [
      "tau_hat MSE = 3.575603074564058\n"
     ]
    }
   ],
   "source": [
    "tau = (b-a)/2\n",
    "tau_hat = (sample.max() + sample.min()) / 2\n",
    "\n",
    "bootstrap_repetitions = 1000\n",
    "nonparam_bootstrap_estimations = list()\n",
    "for i in range(bootstrap_repetitions):\n",
    "    nonparam_bootstrap_sample = np.random.choice(sample, size = len(sample), replace = True)\n",
    "    bootstrap_estimation = (nonparam_bootstrap_sample.max() + nonparam_bootstrap_sample.min()) / 2\n",
    "    nonparam_bootstrap_estimations.append(bootstrap_estimation)\n",
    "\n",
    "nonparam_bootstrap_estimations = np.sort(nonparam_bootstrap_estimations)\n",
    "mse = 0\n",
    "for bootstrap_estimation in nonparam_bootstrap_estimations:\n",
    "    mse += (bootstrap_estimation - tau)**2\n",
    "mse = mse / bootstrap_repetitions\n",
    "print(f\"tau_hat MSE = {mse}\")"
   ],
   "metadata": {
    "collapsed": false,
    "pycharm": {
     "name": "#%%\n"
    }
   }
  },
  {
   "cell_type": "code",
   "execution_count": null,
   "outputs": [],
   "source": [],
   "metadata": {
    "collapsed": false,
    "pycharm": {
     "name": "#%%\n"
    }
   }
  }
 ],
 "metadata": {
  "kernelspec": {
   "display_name": "Python 3",
   "language": "python",
   "name": "python3"
  },
  "language_info": {
   "codemirror_mode": {
    "name": "ipython",
    "version": 2
   },
   "file_extension": ".py",
   "mimetype": "text/x-python",
   "name": "python",
   "nbconvert_exporter": "python",
   "pygments_lexer": "ipython2",
   "version": "2.7.6"
  }
 },
 "nbformat": 4,
 "nbformat_minor": 0
}